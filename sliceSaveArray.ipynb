{
 "cells": [
  {
   "cell_type": "markdown",
   "id": "f0039f7f-2b5e-436f-8421-968285e19dea",
   "metadata": {},
   "source": [
    "# 잘라서 배열로 저장하기\n",
    "## 문제 설명\n",
    "### 문자열 my_str과 n이 매개변수로 주어질 때, my_str을 길이 n씩 잘라서 저장한 배열을 return하도록 solution 함수를 완성해주세요.\n",
    "\n",
    "## 제한사항\n",
    "* 1 ≤ my_str의 길이 ≤ 100\n",
    "* 1 ≤ n ≤ my_str의 길이\n",
    "* my_str은 알파벳 소문자, 대문자, 숫자로 이루어져 있습니다.\n",
    "## 입출력 예\n",
    "|my_str|n|result|\n",
    "|------|-|------|\n",
    "|\"abc1Addfggg4556b\"|6|[\"abc1Ad\", \"dfggg4\", \"556b\"]|\n",
    "|\"abcdef123\"|3|[\"abc\", \"def\", \"123\"]|\n",
    "## 입출력 예 설명\n",
    "## 입출력 예 #1\n",
    "\n",
    "* \"abc1Addfggg4556b\" 를 길이 6씩 잘라 배열에 저장한 [\"abc1Ad\", \"dfggg4\", \"556b\"]를 return해야 합니다.\n",
    "## 입출력 예 #2\n",
    "\n",
    "* \"abcdef123\" 를 길이 3씩 잘라 배열에 저장한 [\"abc\", \"def\", \"123\"]를 return해야 합니다.\n",
    "## 유의사항\n",
    "* 입출력 예 #1의 경우 \"abc1Addfggg4556b\"를 길이 6씩 자르면 \"abc1Ad\", \"dfggg4\" 두개와 마지막 \"556b\"가 남습니다. 이런 경우 남은 문자열을 그대로 배열에 저장합니다."
   ]
  },
  {
   "cell_type": "code",
   "execution_count": 9,
   "id": "31842610-2dca-4c30-9620-48194c81a708",
   "metadata": {},
   "outputs": [],
   "source": [
    "def solution(my_str, n):\n",
    "    return [my_str[i:i+n] for i in range(0, len(my_str), n)]"
   ]
  },
  {
   "cell_type": "code",
   "execution_count": 10,
   "id": "74fd953c-9239-484b-8012-597a2168c3fd",
   "metadata": {},
   "outputs": [
    {
     "data": {
      "text/plain": [
       "['abc1Ad', 'dfggg4', '556b']"
      ]
     },
     "execution_count": 10,
     "metadata": {},
     "output_type": "execute_result"
    }
   ],
   "source": [
    "solution(\"abc1Addfggg4556b\",6)"
   ]
  },
  {
   "cell_type": "code",
   "execution_count": 11,
   "id": "56c03e91-dcd2-4d5f-b5a9-5d3fa4079403",
   "metadata": {},
   "outputs": [
    {
     "data": {
      "text/plain": [
       "['abc', 'def', '123']"
      ]
     },
     "execution_count": 11,
     "metadata": {},
     "output_type": "execute_result"
    }
   ],
   "source": [
    "solution(\"abcdef123\",3)"
   ]
  },
  {
   "cell_type": "code",
   "execution_count": null,
   "id": "534db2ed-9bc8-488d-b90d-94f86c2bcb8c",
   "metadata": {},
   "outputs": [],
   "source": []
  }
 ],
 "metadata": {
  "kernelspec": {
   "display_name": "Python 3 (ipykernel)",
   "language": "python",
   "name": "python3"
  },
  "language_info": {
   "codemirror_mode": {
    "name": "ipython",
    "version": 3
   },
   "file_extension": ".py",
   "mimetype": "text/x-python",
   "name": "python",
   "nbconvert_exporter": "python",
   "pygments_lexer": "ipython3",
   "version": "3.10.6"
  }
 },
 "nbformat": 4,
 "nbformat_minor": 5
}

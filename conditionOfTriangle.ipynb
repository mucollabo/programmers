{
 "cells": [
  {
   "cell_type": "markdown",
   "id": "020d33b1-071f-4d33-b9cb-5d7d2a067ebc",
   "metadata": {},
   "source": [
    "# 삼각형의 완성조건 (1)\n",
    "## 문제 설명\n",
    "### 선분 세 개로 삼각형을 만들기 위해서는 다음과 같은 조건을 만족해야 합니다.\n",
    "\n",
    "* 가장 긴 변의 길이는 다른 두 변의 길이의 합보다 작아야 합니다.\n",
    "### 삼각형의 세 변의 길이가 담긴 배열 sides이 매개변수로 주어집니다. 세 변으로 삼각형을 만들 수 있다면 1, 만들 수 없다면 2를 return하도록 solution 함수를 완성해주세요.\n",
    "\n",
    "## 제한사항\n",
    "* sides의 원소는 자연수입니다.\n",
    "* sides의 길이는 3입니다.\n",
    "* 1 ≤ sides의 원소 ≤ 1,000\n",
    "## 입출력 예\n",
    "|sides|result|\n",
    "|-----|------|\n",
    "|[1, 2, 3]|2|\n",
    "|[3, 6, 2]|2|\n",
    "|[199, 72, 222]|1|\n",
    "## 입출력 예 설명\n",
    "## 입출력 예 #1\n",
    "\n",
    "* 가장 큰 변인 3이 나머지 두 변의 합 3과 같으므로 삼각형을 완성할 수 없습니다. 따라서 2를 return합니다.\n",
    "## 입출력 예 #2\n",
    "\n",
    "* 가장 큰 변인 6이 나머지 두 변의 합 5보다 크므로 삼각형을 완성할 수 없습니다. 따라서 2를 return합니다.\n",
    "## 입출력 예 #3\n",
    "\n",
    "* 가장 큰 변인 222가 나머지 두 변의 합 271보다 작으므로 삼각형을 완성할 수 있습니다. 따라서 1을 return합니다."
   ]
  },
  {
   "cell_type": "code",
   "execution_count": 5,
   "id": "2a313b94-cf39-4eeb-973f-90b23c5840b5",
   "metadata": {},
   "outputs": [],
   "source": [
    "def solution(sides):\n",
    "    return 1 if sum(sides)-max(sides) > max(sides) else 2"
   ]
  },
  {
   "cell_type": "code",
   "execution_count": 6,
   "id": "5adc76b8-a7a0-43de-b750-8c817fd099cd",
   "metadata": {},
   "outputs": [
    {
     "data": {
      "text/plain": [
       "2"
      ]
     },
     "execution_count": 6,
     "metadata": {},
     "output_type": "execute_result"
    }
   ],
   "source": [
    "solution([1,2,3])"
   ]
  },
  {
   "cell_type": "code",
   "execution_count": 7,
   "id": "99f728a5-13b3-4a8f-a49e-6c3e5e292b91",
   "metadata": {},
   "outputs": [
    {
     "data": {
      "text/plain": [
       "2"
      ]
     },
     "execution_count": 7,
     "metadata": {},
     "output_type": "execute_result"
    }
   ],
   "source": [
    "solution([3,6,2])"
   ]
  },
  {
   "cell_type": "code",
   "execution_count": 8,
   "id": "d4042b2f-3e72-469f-8b46-4e62f6b9297f",
   "metadata": {},
   "outputs": [
    {
     "data": {
      "text/plain": [
       "1"
      ]
     },
     "execution_count": 8,
     "metadata": {},
     "output_type": "execute_result"
    }
   ],
   "source": [
    "solution([199, 72, 222])"
   ]
  },
  {
   "cell_type": "code",
   "execution_count": null,
   "id": "8602eb01-f9c3-43d0-89f4-cc6162cfa652",
   "metadata": {},
   "outputs": [],
   "source": []
  }
 ],
 "metadata": {
  "kernelspec": {
   "display_name": "Python 3 (ipykernel)",
   "language": "python",
   "name": "python3"
  },
  "language_info": {
   "codemirror_mode": {
    "name": "ipython",
    "version": 3
   },
   "file_extension": ".py",
   "mimetype": "text/x-python",
   "name": "python",
   "nbconvert_exporter": "python",
   "pygments_lexer": "ipython3",
   "version": "3.10.6"
  }
 },
 "nbformat": 4,
 "nbformat_minor": 5
}

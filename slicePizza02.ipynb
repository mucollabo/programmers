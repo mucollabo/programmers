{
 "cells": [
  {
   "cell_type": "markdown",
   "id": "226d260e-c89e-4775-a7f6-42b9414af31b",
   "metadata": {},
   "source": [
    "# 피자 나눠 먹기 (2)\n",
    "## 문제 설명\n",
    "### 머쓱이네 피자가게는 피자를 여섯 조각으로 잘라 줍니다. 피자를 나눠먹을 사람의 수 n이 매개변수로 주어질 때, n명이 주문한 피자를 남기지 않고 모두 같은 수의 피자 조각을 먹어야 한다면 최소 몇 판을 시켜야 하는지를 return 하도록 solution 함수를 완성해보세요.\n",
    "\n",
    "## 제한사항\n",
    "* 1 ≤ n ≤ 100\n",
    "\n",
    "## 입출력 예\n",
    "|n|result|\n",
    "|-|------|\n",
    "|6|1|\n",
    "|10|5|\n",
    "|4|2|\n",
    "## 입출력 예 설명\n",
    "## 입출력 예 #1\n",
    "\n",
    "* 6명이 모두 같은 양을 먹기 위해 한 판을 시켜야 피자가 6조각으로 모두 한 조각씩 먹을 수 있습니다.\n",
    "## 입출력 예 #2\n",
    "\n",
    "* 10명이 모두 같은 양을 먹기 위해 최소 5판을 시켜야 피자가 30조각으로 모두 세 조각씩 먹을 수 있습니다.\n",
    "## 입출력 예 #3\n",
    "\n",
    "* 4명이 모두 같은 양을 먹기 위해 최소 2판을 시키면 피자가 12조각으로 모두 세 조각씩 먹을 수 있습니다."
   ]
  },
  {
   "cell_type": "code",
   "execution_count": 10,
   "id": "06a10f84-0963-41b0-b615-665ff621d7ec",
   "metadata": {},
   "outputs": [],
   "source": [
    "def solution(n):\n",
    "    cnt = 1\n",
    "    while True:\n",
    "        if n*cnt%6 == 0:\n",
    "            return n*cnt//6\n",
    "        cnt += 1"
   ]
  },
  {
   "cell_type": "code",
   "execution_count": 11,
   "id": "a1cfc75f-15a7-48ca-be78-8a3204a5b597",
   "metadata": {},
   "outputs": [
    {
     "data": {
      "text/plain": [
       "1"
      ]
     },
     "execution_count": 11,
     "metadata": {},
     "output_type": "execute_result"
    }
   ],
   "source": [
    "solution(6)"
   ]
  },
  {
   "cell_type": "code",
   "execution_count": 12,
   "id": "e45d750a-96c7-49e3-b278-be1852d4c08a",
   "metadata": {},
   "outputs": [
    {
     "data": {
      "text/plain": [
       "5"
      ]
     },
     "execution_count": 12,
     "metadata": {},
     "output_type": "execute_result"
    }
   ],
   "source": [
    "solution(10)"
   ]
  },
  {
   "cell_type": "code",
   "execution_count": 13,
   "id": "b2a4faa1-503c-4446-b9e1-e80579482856",
   "metadata": {},
   "outputs": [
    {
     "data": {
      "text/plain": [
       "2"
      ]
     },
     "execution_count": 13,
     "metadata": {},
     "output_type": "execute_result"
    }
   ],
   "source": [
    "solution(4)"
   ]
  }
 ],
 "metadata": {
  "kernelspec": {
   "display_name": "Python 3 (ipykernel)",
   "language": "python",
   "name": "python3"
  },
  "language_info": {
   "codemirror_mode": {
    "name": "ipython",
    "version": 3
   },
   "file_extension": ".py",
   "mimetype": "text/x-python",
   "name": "python",
   "nbconvert_exporter": "python",
   "pygments_lexer": "ipython3",
   "version": "3.10.6"
  }
 },
 "nbformat": 4,
 "nbformat_minor": 5
}

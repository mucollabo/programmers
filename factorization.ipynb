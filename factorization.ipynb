{
 "cells": [
  {
   "cell_type": "markdown",
   "id": "36618a9e-f179-4dc2-aa6c-fae06ff72ffa",
   "metadata": {},
   "source": [
    "# 소인수분해\n",
    "## 문제 설명\n",
    "### 소인수분해란 어떤 수를 소수들의 곱으로 표현하는 것입니다. 예를 들어 12를 소인수 분해하면 2 * 2 * 3 으로 나타낼 수 있습니다. 따라서 12의 소인수는 2와 3입니다. 자연수 n이 매개변수로 주어질 때 n의 소인수를 오름차순으로 담은 배열을 return하도록 solution 함수를 완성해주세요.\n",
    "\n",
    "## 제한사항\n",
    "* 2 ≤ n ≤ 10,000\n",
    "## 입출력 예\n",
    "|n|result|\n",
    "|-|------|\n",
    "|12|[2, 3]|\n",
    "|17|[17]|\n",
    "|420|[2, 3, 5, 7]|\n",
    "## 입출력 예 설명\n",
    "## 입출력 예 #1\n",
    "\n",
    "* 12를 소인수분해하면 2 * 2 * 3 입니다. 따라서 [2, 3]을 return합니다.\n",
    "## 입출력 예 #2\n",
    "\n",
    "* 17은 소수입니다. 따라서 [17]을 return 해야 합니다.\n",
    "## 입출력 예 #3\n",
    "\n",
    "* 420을 소인수분해하면 2 * 2 * 3 * 5 * 7 입니다. 따라서 [2, 3, 5, 7]을 return합니다."
   ]
  },
  {
   "cell_type": "code",
   "execution_count": 54,
   "id": "dec64e61-a3bf-4d0b-8957-91ad10eb179c",
   "metadata": {},
   "outputs": [],
   "source": [
    "def solution(n):\n",
    "    r = []\n",
    "    i = 2\n",
    "    while i <= n:\n",
    "        if n%i == 0:\n",
    "            r.append(i)\n",
    "            n //= i\n",
    "        else:\n",
    "            i += 1\n",
    "    return list(set(r))"
   ]
  },
  {
   "cell_type": "code",
   "execution_count": 55,
   "id": "737e9eb1-a944-4039-8506-4674ffcd9d16",
   "metadata": {},
   "outputs": [
    {
     "data": {
      "text/plain": [
       "[2, 3]"
      ]
     },
     "execution_count": 55,
     "metadata": {},
     "output_type": "execute_result"
    }
   ],
   "source": [
    "solution(12)"
   ]
  },
  {
   "cell_type": "code",
   "execution_count": 56,
   "id": "2f82cf94-d8a5-41e4-a46c-f45a80ff92ca",
   "metadata": {},
   "outputs": [
    {
     "data": {
      "text/plain": [
       "[17]"
      ]
     },
     "execution_count": 56,
     "metadata": {},
     "output_type": "execute_result"
    }
   ],
   "source": [
    "solution(17)"
   ]
  },
  {
   "cell_type": "code",
   "execution_count": 57,
   "id": "e0865480-36cc-4bed-b791-458cf3b0545b",
   "metadata": {},
   "outputs": [
    {
     "data": {
      "text/plain": [
       "[2, 3, 5, 7]"
      ]
     },
     "execution_count": 57,
     "metadata": {},
     "output_type": "execute_result"
    }
   ],
   "source": [
    "solution(420)"
   ]
  },
  {
   "cell_type": "code",
   "execution_count": null,
   "id": "3503ec68-cf1c-4723-b8a2-22be4193bc49",
   "metadata": {},
   "outputs": [],
   "source": []
  }
 ],
 "metadata": {
  "kernelspec": {
   "display_name": "Python 3 (ipykernel)",
   "language": "python",
   "name": "python3"
  },
  "language_info": {
   "codemirror_mode": {
    "name": "ipython",
    "version": 3
   },
   "file_extension": ".py",
   "mimetype": "text/x-python",
   "name": "python",
   "nbconvert_exporter": "python",
   "pygments_lexer": "ipython3",
   "version": "3.10.6"
  }
 },
 "nbformat": 4,
 "nbformat_minor": 5
}

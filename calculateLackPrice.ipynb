{
  "nbformat": 4,
  "nbformat_minor": 0,
  "metadata": {
    "colab": {
      "name": "calculateLackPrice.ipynb",
      "provenance": [],
      "authorship_tag": "ABX9TyNrjhf56ieNe/9q/aNEkVX/",
      "include_colab_link": true
    },
    "kernelspec": {
      "name": "python3",
      "display_name": "Python 3"
    },
    "language_info": {
      "name": "python"
    }
  },
  "cells": [
    {
      "cell_type": "markdown",
      "metadata": {
        "id": "view-in-github",
        "colab_type": "text"
      },
      "source": [
        "<a href=\"https://colab.research.google.com/github/mucollabo/programmers/blob/main/calculateLackPrice.ipynb\" target=\"_parent\"><img src=\"https://colab.research.google.com/assets/colab-badge.svg\" alt=\"Open In Colab\"/></a>"
      ]
    },
    {
      "cell_type": "code",
      "execution_count": 14,
      "metadata": {
        "id": "Q3W0zjY_350A"
      },
      "outputs": [],
      "source": [
        "def solution(price, money, count):\n",
        "\n",
        "  total = sum([price * n for n in range(1, count+1)])\n",
        "  answer = lambda x, y: abs(x - y) if (x - y) < 0 else 0\n",
        "  \n",
        "  return answer(money, total)"
      ]
    },
    {
      "cell_type": "code",
      "source": [
        "solution(3, 20, 4)"
      ],
      "metadata": {
        "colab": {
          "base_uri": "https://localhost:8080/"
        },
        "id": "cmaI0ieJ6lTC",
        "outputId": "0b4c9d6c-33f4-433a-e9af-35cb28bf94f7"
      },
      "execution_count": 15,
      "outputs": [
        {
          "output_type": "execute_result",
          "data": {
            "text/plain": [
              "10"
            ]
          },
          "metadata": {},
          "execution_count": 15
        }
      ]
    },
    {
      "cell_type": "code",
      "source": [
        ""
      ],
      "metadata": {
        "id": "tgF3CKyp7lg1"
      },
      "execution_count": null,
      "outputs": []
    }
  ]
}
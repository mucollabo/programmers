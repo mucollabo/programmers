{
 "cells": [
  {
   "cell_type": "markdown",
   "id": "1340832e-ee09-4035-8885-b4680f7d4065",
   "metadata": {},
   "source": [
    "# 머쓱이보다 키 큰 사람\n",
    "## 문제 설명\n",
    "### 머쓱이는 학교에서 키 순으로 줄을 설 때 몇 번째로 서야 하는지 궁금해졌습니다. 머쓱이네 반 친구들의 키가 담긴 정수 배열 array와 머쓱이의 키 height가 매개변수로 주어질 때, 머쓱이보다 키 큰 사람 수를 return 하도록 solution 함수를 완성해보세요.\n",
    "\n",
    "## 제한사항\n",
    "* 1 ≤ array의 길이 ≤ 100\n",
    "* 1 ≤ height ≤ 200\n",
    "* 1 ≤ array의 원소 ≤ 200\n",
    "## 입출력 예\n",
    "|array|height|result|\n",
    "|:---:|:----:|:----:|\n",
    "|[149, 180, 192, 170]|167|3|\n",
    "|[180, 120, 140]|190|0|\n",
    "## 입출력 예 설명\n",
    "## 입출력 예 #1\n",
    "\n",
    "* 149, 180, 192, 170 중 머쓱이보다 키가 큰 사람은 180, 192, 170으로 세 명입니다.\n",
    "## 입출력 예 #2\n",
    "\n",
    "* 180, 120, 140 중 190보다 큰 수는 없으므로 0명입니다."
   ]
  },
  {
   "cell_type": "code",
   "execution_count": 9,
   "id": "013ae645-c00d-4e81-a9a2-869eda541d51",
   "metadata": {},
   "outputs": [],
   "source": [
    "def solution(array, height):\n",
    "    return len([x for x in array if x > height])"
   ]
  },
  {
   "cell_type": "code",
   "execution_count": 10,
   "id": "499ebbf3-c0e0-451a-8a32-f313adb21e07",
   "metadata": {},
   "outputs": [
    {
     "data": {
      "text/plain": [
       "3"
      ]
     },
     "execution_count": 10,
     "metadata": {},
     "output_type": "execute_result"
    }
   ],
   "source": [
    "solution([149, 180, 192, 170], 167)"
   ]
  },
  {
   "cell_type": "code",
   "execution_count": 11,
   "id": "9c808504-3e00-4c20-af88-a2500cceed22",
   "metadata": {},
   "outputs": [
    {
     "data": {
      "text/plain": [
       "0"
      ]
     },
     "execution_count": 11,
     "metadata": {},
     "output_type": "execute_result"
    }
   ],
   "source": [
    "solution([180, 120, 140], 190)"
   ]
  },
  {
   "cell_type": "code",
   "execution_count": null,
   "id": "48da5d7d-db46-4406-bcec-0c3214962af0",
   "metadata": {},
   "outputs": [],
   "source": []
  }
 ],
 "metadata": {
  "kernelspec": {
   "display_name": "Python 3 (ipykernel)",
   "language": "python",
   "name": "python3"
  },
  "language_info": {
   "codemirror_mode": {
    "name": "ipython",
    "version": 3
   },
   "file_extension": ".py",
   "mimetype": "text/x-python",
   "name": "python",
   "nbconvert_exporter": "python",
   "pygments_lexer": "ipython3",
   "version": "3.10.6"
  }
 },
 "nbformat": 4,
 "nbformat_minor": 5
}

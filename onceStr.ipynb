{
 "cells": [
  {
   "cell_type": "markdown",
   "id": "8273946e-4573-4b5e-92f9-1a1f4be0f6e9",
   "metadata": {},
   "source": [
    "# 한 번만 등장한 문자\n",
    "## 문제 설명\n",
    "### 문자열 s가 매개변수로 주어집니다. s에서 한 번만 등장하는 문자를 사전 순으로 정렬한 문자열을 return 하도록 solution 함수를 완성해보세요. 한 번만 등장하는 문자가 없을 경우 빈 문자열을 return 합니다.\n",
    "\n",
    "## 제한사항\n",
    "* 0 < \bs의 길이 < 1,000\n",
    "* s는 소문자로만 이루어져 있습니다.\n",
    "## 입출력 예\n",
    "|s|result|\n",
    "|-|------|\n",
    "|\"abcabcadc\"|\"d\"|\n",
    "|\"abdc\"|\"abcd\"|\n",
    "|\"hello\"|\"eho\"|\n",
    "## 입출력 예 설명\n",
    "## 입출력 예 #1\n",
    "\n",
    "* \"abcabcadc\"에서 하나만 등장하는 문자는 \"d\"입니다.\n",
    "## 입출력 예 #2\n",
    "\n",
    "* \"abdc\"에서 모든 문자가 한 번씩 등장하므로 사전 순으로 정렬한 \"abcd\"를 return 합니다.\n",
    "## 입출력 예 #3\n",
    "\n",
    "* \"hello\"에서 한 번씩 등장한 문자는 \"heo\"이고 이를 사전 순으로 정렬한 \"eho\"를 return 합니다."
   ]
  },
  {
   "cell_type": "code",
   "execution_count": 23,
   "id": "5f3a2e96-c70a-49cf-994d-01efd0af57c6",
   "metadata": {},
   "outputs": [],
   "source": [
    "def solution(s):\n",
    "    result = ''\n",
    "    for e in s:\n",
    "        if s.count(e) == 1:\n",
    "            result += e\n",
    "    return result"
   ]
  },
  {
   "cell_type": "code",
   "execution_count": 24,
   "id": "6d09f91a-fbb0-4aaf-8565-9bda71a7cc1f",
   "metadata": {},
   "outputs": [
    {
     "data": {
      "text/plain": [
       "'d'"
      ]
     },
     "execution_count": 24,
     "metadata": {},
     "output_type": "execute_result"
    }
   ],
   "source": [
    "solution(\"abcabcadc\")"
   ]
  },
  {
   "cell_type": "code",
   "execution_count": 25,
   "id": "de2681a6-d49b-483c-8081-867538f03966",
   "metadata": {},
   "outputs": [
    {
     "data": {
      "text/plain": [
       "'abdc'"
      ]
     },
     "execution_count": 25,
     "metadata": {},
     "output_type": "execute_result"
    }
   ],
   "source": [
    "solution(\"abdc\")"
   ]
  },
  {
   "cell_type": "code",
   "execution_count": 26,
   "id": "ed969727-7eea-4d69-83d2-0f51fbad13f0",
   "metadata": {},
   "outputs": [
    {
     "data": {
      "text/plain": [
       "'heo'"
      ]
     },
     "execution_count": 26,
     "metadata": {},
     "output_type": "execute_result"
    }
   ],
   "source": [
    "solution(\"hello\")"
   ]
  },
  {
   "cell_type": "code",
   "execution_count": 57,
   "id": "14461517-1d33-4d50-9a2b-af4ebfb91759",
   "metadata": {},
   "outputs": [],
   "source": [
    "def solution2(s):\n",
    "    return ''.join(filter(lambda x: s.count(str(x)) == 1, sorted(s)))"
   ]
  },
  {
   "cell_type": "code",
   "execution_count": 54,
   "id": "a0faa501-48c8-4fc3-9a0f-181ef6694e39",
   "metadata": {},
   "outputs": [
    {
     "data": {
      "text/plain": [
       "'d'"
      ]
     },
     "execution_count": 54,
     "metadata": {},
     "output_type": "execute_result"
    }
   ],
   "source": [
    "solution2(\"abcabcadc\")"
   ]
  },
  {
   "cell_type": "code",
   "execution_count": 55,
   "id": "291889c5-1815-49c3-b8bd-3cb2d84f8ee7",
   "metadata": {},
   "outputs": [
    {
     "data": {
      "text/plain": [
       "'abcd'"
      ]
     },
     "execution_count": 55,
     "metadata": {},
     "output_type": "execute_result"
    }
   ],
   "source": [
    "solution2(\"abdc\")"
   ]
  },
  {
   "cell_type": "code",
   "execution_count": 56,
   "id": "6dc6e21b-3898-4b66-a4ae-58d5bc72c3b9",
   "metadata": {},
   "outputs": [
    {
     "data": {
      "text/plain": [
       "'eho'"
      ]
     },
     "execution_count": 56,
     "metadata": {},
     "output_type": "execute_result"
    }
   ],
   "source": [
    "solution2(\"hello\")"
   ]
  },
  {
   "cell_type": "code",
   "execution_count": null,
   "id": "babccc61-6981-456d-a8ae-326d6be269cd",
   "metadata": {},
   "outputs": [],
   "source": []
  }
 ],
 "metadata": {
  "kernelspec": {
   "display_name": "Python 3 (ipykernel)",
   "language": "python",
   "name": "python3"
  },
  "language_info": {
   "codemirror_mode": {
    "name": "ipython",
    "version": 3
   },
   "file_extension": ".py",
   "mimetype": "text/x-python",
   "name": "python",
   "nbconvert_exporter": "python",
   "pygments_lexer": "ipython3",
   "version": "3.10.6"
  }
 },
 "nbformat": 4,
 "nbformat_minor": 5
}

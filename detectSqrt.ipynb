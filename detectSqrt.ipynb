{
 "cells": [
  {
   "cell_type": "markdown",
   "id": "7ddfef12-8669-4f6a-9e86-c74d2dc2b35e",
   "metadata": {},
   "source": [
    "# 제곱수 판별하기\n",
    "## 문제 설명\n",
    "### 어떤 자연수를 제곱했을 때 나오는 정수를 제곱수라고 합니다. 정수 n이 매개변수로 주어질 때, n이 제곱수라면 1을 아니라면 2를 return하도록 solution 함수를 완성해주세요.\n",
    "\n",
    "## 제한사항\n",
    "* 1 ≤ n ≤ 1,000,000\n",
    "## 입출력 예\n",
    "|n|result|\n",
    "|-|------|\n",
    "|144|1|\n",
    "|976|2|\n",
    "## 입출력 예 설명\n",
    "## 입출력 예 #1\n",
    "\n",
    "* 144는 12의 제곱이므로 제곱수입니다. 따라서 1을 return합니다.\n",
    "## 입출력 예 #2\n",
    "\n",
    "* 976은 제곱수가 아닙니다. 따라서 2를 return합니다."
   ]
  },
  {
   "cell_type": "code",
   "execution_count": 15,
   "id": "3ea55461-b384-43b9-b1c2-3186cc23af63",
   "metadata": {},
   "outputs": [],
   "source": [
    "def solution(n):\n",
    "    return 1 if (n**0.5)%1 == 0 else 2"
   ]
  },
  {
   "cell_type": "code",
   "execution_count": 16,
   "id": "7fadf5d7-e217-4f5a-a755-2e834b415811",
   "metadata": {},
   "outputs": [
    {
     "data": {
      "text/plain": [
       "1"
      ]
     },
     "execution_count": 16,
     "metadata": {},
     "output_type": "execute_result"
    }
   ],
   "source": [
    "solution(144)"
   ]
  },
  {
   "cell_type": "code",
   "execution_count": 17,
   "id": "b3096b53-19c3-4d9f-bbe1-322129451aef",
   "metadata": {},
   "outputs": [
    {
     "data": {
      "text/plain": [
       "2"
      ]
     },
     "execution_count": 17,
     "metadata": {},
     "output_type": "execute_result"
    }
   ],
   "source": [
    "solution(976)"
   ]
  },
  {
   "cell_type": "code",
   "execution_count": null,
   "id": "6f8b713b-1857-4e73-bc68-fea183f01812",
   "metadata": {},
   "outputs": [],
   "source": []
  }
 ],
 "metadata": {
  "kernelspec": {
   "display_name": "Python 3 (ipykernel)",
   "language": "python",
   "name": "python3"
  },
  "language_info": {
   "codemirror_mode": {
    "name": "ipython",
    "version": 3
   },
   "file_extension": ".py",
   "mimetype": "text/x-python",
   "name": "python",
   "nbconvert_exporter": "python",
   "pygments_lexer": "ipython3",
   "version": "3.10.6"
  }
 },
 "nbformat": 4,
 "nbformat_minor": 5
}

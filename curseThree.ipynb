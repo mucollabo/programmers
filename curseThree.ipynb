{
 "cells": [
  {
   "cell_type": "markdown",
   "id": "ddea9b4c-d38e-4513-9bca-fa0e0e88867a",
   "metadata": {},
   "source": [
    "# 저주의 숫자 3\n",
    "## 문제 설명\n",
    "### 3x 마을 사람들은 3을 저주의 숫자라고 생각하기 때문에 3의 배수와 숫자 3을 사용하지 않습니다. 3x 마을 사람들의 숫자는 다음과 같습니다.\n",
    "\n",
    "|10진법|3x 마을에서 쓰는 숫자|10진법|3x 마을에서 쓰는 숫자|\n",
    "|-----|----------------|-----|-----------------|\n",
    "|1|1|6|8|\n",
    "|2|2|7|10|\n",
    "|3|4|8|11|\n",
    "|4|5|9|14|\n",
    "|5|7|10|16|\n",
    "### 정수 n이 매개변수로 주어질 때, n을 3x 마을에서 사용하는 숫자로 바꿔 return하도록 solution 함수를 완성해주세요.\n",
    "\n",
    "## 제한사항\n",
    "* 1 ≤ n ≤ 100\n",
    "## 입출력 예\n",
    "|n|result|\n",
    "|-|------|\n",
    "|15|25|\n",
    "|40|76|\n",
    "## 입출력 예 설명\n",
    "## 입출력 예 #1\n",
    "\n",
    "* 15를 3x 마을의 숫자로 변환하면 25입니다.\n",
    "## 입출력 예 #2\n",
    "\n",
    "* 40을 3x 마을의 숫자로 변환하면 76입니다."
   ]
  },
  {
   "cell_type": "code",
   "execution_count": 112,
   "id": "e3bdeaac-cebc-40f4-a2f7-3d7148bf499a",
   "metadata": {},
   "outputs": [],
   "source": [
    "def solution(n):\n",
    "    d = []\n",
    "    e = 0\n",
    "    while len(d) < n:\n",
    "        e += 1\n",
    "        if e%3 != 0 and '3' not in str(e):\n",
    "            d.append(e)\n",
    "    return d[-1]"
   ]
  },
  {
   "cell_type": "code",
   "execution_count": 113,
   "id": "83ab076f-4126-4cdc-a60c-2602a62e7648",
   "metadata": {},
   "outputs": [
    {
     "data": {
      "text/plain": [
       "25"
      ]
     },
     "execution_count": 113,
     "metadata": {},
     "output_type": "execute_result"
    }
   ],
   "source": [
    "solution(15)"
   ]
  },
  {
   "cell_type": "code",
   "execution_count": 114,
   "id": "697f3692-ccb6-41a7-9f98-f604fb946f68",
   "metadata": {},
   "outputs": [
    {
     "data": {
      "text/plain": [
       "76"
      ]
     },
     "execution_count": 114,
     "metadata": {},
     "output_type": "execute_result"
    }
   ],
   "source": [
    "solution(40)"
   ]
  },
  {
   "cell_type": "code",
   "execution_count": 115,
   "id": "87035220-6e97-4682-823b-435279b5dda4",
   "metadata": {},
   "outputs": [
    {
     "data": {
      "text/plain": [
       "1"
      ]
     },
     "execution_count": 115,
     "metadata": {},
     "output_type": "execute_result"
    }
   ],
   "source": [
    "solution(1)"
   ]
  },
  {
   "cell_type": "code",
   "execution_count": 116,
   "id": "e029cebd-3909-4c82-9ad9-5b5fa3f3d45c",
   "metadata": {},
   "outputs": [
    {
     "data": {
      "text/plain": [
       "2"
      ]
     },
     "execution_count": 116,
     "metadata": {},
     "output_type": "execute_result"
    }
   ],
   "source": [
    "solution(2)"
   ]
  },
  {
   "cell_type": "code",
   "execution_count": 117,
   "id": "f13328a4-8443-4efb-85c2-b51ce9a88275",
   "metadata": {},
   "outputs": [
    {
     "data": {
      "text/plain": [
       "4"
      ]
     },
     "execution_count": 117,
     "metadata": {},
     "output_type": "execute_result"
    }
   ],
   "source": [
    "solution(3)"
   ]
  },
  {
   "cell_type": "code",
   "execution_count": 118,
   "id": "06ac9c57-5a48-467f-8a4d-f4525e609db0",
   "metadata": {},
   "outputs": [
    {
     "data": {
      "text/plain": [
       "16"
      ]
     },
     "execution_count": 118,
     "metadata": {},
     "output_type": "execute_result"
    }
   ],
   "source": [
    "solution(10)"
   ]
  },
  {
   "cell_type": "code",
   "execution_count": null,
   "id": "9cb76bd9-508a-4986-a025-fa69534525a1",
   "metadata": {},
   "outputs": [],
   "source": []
  }
 ],
 "metadata": {
  "kernelspec": {
   "display_name": "Python 3 (ipykernel)",
   "language": "python",
   "name": "python3"
  },
  "language_info": {
   "codemirror_mode": {
    "name": "ipython",
    "version": 3
   },
   "file_extension": ".py",
   "mimetype": "text/x-python",
   "name": "python",
   "nbconvert_exporter": "python",
   "pygments_lexer": "ipython3",
   "version": "3.10.6"
  }
 },
 "nbformat": 4,
 "nbformat_minor": 5
}

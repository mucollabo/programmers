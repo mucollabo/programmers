{
 "cells": [
  {
   "cell_type": "markdown",
   "id": "383e4596-4e44-410e-96c9-aa53ad6b6f73",
   "metadata": {},
   "source": [
    "# 배열 자르기\n",
    "## 문제 설명\n",
    "### 정수 배열 numbers와 정수 num1, num2가 매개변수로 주어질 때, numbers의 num1번 째 인덱스부터 num2번째 인덱스까지 자른 정수 배열을 return 하도록 solution 함수를 완성해보세요.\n",
    "\n",
    "## 제한사항\n",
    "* 0 < numbers의 길이 ≤ 100\n",
    "* 0 ≤ numbers의 원소 ≤ 1,000\n",
    "* 0 <num1 < num2 < numbers의 길이\n",
    "## 입출력 예\n",
    "|numbers|num1|num2|result|\n",
    "|-------|----|----|------|\n",
    "|[1, 2, 3, 4, 5]|1|3|[2, 3, 4]|\n",
    "|[1, 3, 5]|1|2|[3, 5]|\n",
    "## 입출력 예 설명\n",
    "## 입출력 예 #1\n",
    "\n",
    "* [1, 2, 3, 4, 5]의 1번째 인덱스 2부터 3번째 인덱스 4 까지 자른 [2, 3, 4]을 return 합니다.\n",
    "## 입출력 예 #2\n",
    "\n",
    "* [1, 3, 5]의 1번째 인덱스 3부터 2번째 인덱스 5까지 자른 [3, 5]를 return 합니다."
   ]
  },
  {
   "cell_type": "code",
   "execution_count": 9,
   "id": "eb995963-61bf-4de4-bf7f-7ba2d32cc770",
   "metadata": {},
   "outputs": [],
   "source": [
    "def solution(numbers, num1, num2):\n",
    "    return numbers[num1:num2+1]"
   ]
  },
  {
   "cell_type": "code",
   "execution_count": 10,
   "id": "561d8c09-ac1e-476d-9678-8a52bcd7bce7",
   "metadata": {},
   "outputs": [
    {
     "data": {
      "text/plain": [
       "[2, 3, 4]"
      ]
     },
     "execution_count": 10,
     "metadata": {},
     "output_type": "execute_result"
    }
   ],
   "source": [
    "solution([1,2,3,4,5], 1, 3)"
   ]
  },
  {
   "cell_type": "code",
   "execution_count": 11,
   "id": "35ede0b5-a502-4a23-9de4-33089e8821a5",
   "metadata": {},
   "outputs": [
    {
     "data": {
      "text/plain": [
       "[3, 5]"
      ]
     },
     "execution_count": 11,
     "metadata": {},
     "output_type": "execute_result"
    }
   ],
   "source": [
    "solution([1,3,5], 1, 2)"
   ]
  },
  {
   "cell_type": "code",
   "execution_count": null,
   "id": "5797b87b-67fa-4779-b78a-6f1789ef2cfc",
   "metadata": {},
   "outputs": [],
   "source": []
  }
 ],
 "metadata": {
  "kernelspec": {
   "display_name": "Python 3 (ipykernel)",
   "language": "python",
   "name": "python3"
  },
  "language_info": {
   "codemirror_mode": {
    "name": "ipython",
    "version": 3
   },
   "file_extension": ".py",
   "mimetype": "text/x-python",
   "name": "python",
   "nbconvert_exporter": "python",
   "pygments_lexer": "ipython3",
   "version": "3.10.6"
  }
 },
 "nbformat": 4,
 "nbformat_minor": 5
}

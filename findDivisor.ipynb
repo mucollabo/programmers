{
 "cells": [
  {
   "cell_type": "markdown",
   "id": "1081d954-5b69-4b64-bb74-84c8f70d79b4",
   "metadata": {},
   "source": [
    "# 약수 구하기\n",
    "## 문제 설명\n",
    "### 정수 n이 매개변수로 주어질 때, n의 약수를 오름차순으로 담은 배열을 return하도록 solution 함수를 완성해주세요.\n",
    "\n",
    "## 제한사항\n",
    "* 1 ≤ n ≤ 10,000\n",
    "## 입출력 예\n",
    "|n|result|\n",
    "|-|------|\n",
    "|24|[1, 2, 3, 4, 6, 8, 12, 24]|\n",
    "|29|[1, 29]|\n",
    "## 입출력 예 설명\n",
    "## 입출력 예 #1\n",
    "\n",
    "* 24의 약수를 오름차순으로 담은 배열 [1, 2, 3, 4, 6, 8, 12, 24]를 return합니다.\n",
    "## 입출력 예 #2\n",
    "\n",
    "* 29의 약수를 오름차순으로 담은 배열 [1, 29]를 return합니다."
   ]
  },
  {
   "cell_type": "code",
   "execution_count": 1,
   "id": "1e70748e-5993-4562-9c51-99fa915feffe",
   "metadata": {},
   "outputs": [],
   "source": [
    "def solution(n):\n",
    "    return [d for d in range(1, n+1) if n%d==0]"
   ]
  },
  {
   "cell_type": "code",
   "execution_count": 2,
   "id": "26d7bf4d-6c8d-47df-8f73-a5cee8899c85",
   "metadata": {},
   "outputs": [
    {
     "data": {
      "text/plain": [
       "[1, 2, 3, 4, 6, 8, 12, 24]"
      ]
     },
     "execution_count": 2,
     "metadata": {},
     "output_type": "execute_result"
    }
   ],
   "source": [
    "solution(24)"
   ]
  },
  {
   "cell_type": "code",
   "execution_count": 3,
   "id": "c7917ea8-d14b-4290-8fbb-02228a97a34b",
   "metadata": {},
   "outputs": [
    {
     "data": {
      "text/plain": [
       "[1, 29]"
      ]
     },
     "execution_count": 3,
     "metadata": {},
     "output_type": "execute_result"
    }
   ],
   "source": [
    "solution(29)"
   ]
  },
  {
   "cell_type": "code",
   "execution_count": null,
   "id": "144dd272-ccc0-4c90-a9b2-3ac1771a6d29",
   "metadata": {},
   "outputs": [],
   "source": []
  }
 ],
 "metadata": {
  "kernelspec": {
   "display_name": "Python 3 (ipykernel)",
   "language": "python",
   "name": "python3"
  },
  "language_info": {
   "codemirror_mode": {
    "name": "ipython",
    "version": 3
   },
   "file_extension": ".py",
   "mimetype": "text/x-python",
   "name": "python",
   "nbconvert_exporter": "python",
   "pygments_lexer": "ipython3",
   "version": "3.10.6"
  }
 },
 "nbformat": 4,
 "nbformat_minor": 5
}

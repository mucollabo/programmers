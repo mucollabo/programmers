{
 "cells": [
  {
   "cell_type": "markdown",
   "id": "3dca9bfa-c973-44c4-bdc3-a73a89e5ff9e",
   "metadata": {},
   "source": [
    "# 짝수 홀수 개수\n",
    "## 문제 설명\n",
    "### 정수가 담긴 리스트 num_list가 주어질 때, num_list의 원소 중 짝수와 홀수의 개수를 담은 배열을 return 하도록 solution 함수를 완성해보세요.\n",
    "\n",
    "## 제한사항\n",
    "* 1 ≤ num_list의 길이 ≤ 100\n",
    "* 0 ≤ num_list의 원소 ≤ 1,000\n",
    "## 입출력 예\n",
    "|num_list|result|\n",
    "|--------|------|\n",
    "|[1, 2, 3, 4, 5]|[2, 3]|\n",
    "|[1, 3, 5, 7]|[0, 4]|\n",
    "## 입출력 예 설명\n",
    "## 입출력 예 #1\n",
    "\n",
    "* [1, 2, 3, 4, 5]에는 짝수가 2, 4로 두 개, 홀수가 1, 3, 5로 세 개 있습니다.\n",
    "## 입출력 예 #2\n",
    "\n",
    "* [1, 3, 5, 7]에는 짝수가 없고 홀수가 네 개 있습니다."
   ]
  },
  {
   "cell_type": "code",
   "execution_count": 3,
   "id": "4a99bcdf-f6fc-423e-b243-11a6d703671e",
   "metadata": {},
   "outputs": [],
   "source": [
    "def solution(num_list):\n",
    "    even = 0\n",
    "    odd = 0\n",
    "    for num in num_list:\n",
    "        if num % 2 == 0:\n",
    "            even += 1\n",
    "        else:\n",
    "            odd += 1\n",
    "    return [even, odd]"
   ]
  },
  {
   "cell_type": "code",
   "execution_count": 4,
   "id": "c1076f7e-8c1e-4938-9e17-c5c7ecd13254",
   "metadata": {},
   "outputs": [
    {
     "data": {
      "text/plain": [
       "[2, 3]"
      ]
     },
     "execution_count": 4,
     "metadata": {},
     "output_type": "execute_result"
    }
   ],
   "source": [
    "solution([1, 2, 3, 4, 5])"
   ]
  },
  {
   "cell_type": "code",
   "execution_count": 5,
   "id": "d876061c-dfe5-4cb2-ab7d-a2ab94373b72",
   "metadata": {},
   "outputs": [
    {
     "data": {
      "text/plain": [
       "[0, 4]"
      ]
     },
     "execution_count": 5,
     "metadata": {},
     "output_type": "execute_result"
    }
   ],
   "source": [
    "solution([1, 3, 5, 7])"
   ]
  },
  {
   "cell_type": "code",
   "execution_count": 15,
   "id": "c3dc387a-9d97-4bec-b9cb-6b57321d2149",
   "metadata": {},
   "outputs": [],
   "source": [
    "def solution2(num_list):\n",
    "    evenCnt = len([num for num in num_list if num%2 == 0])\n",
    "    return [evenCnt, len(num_list)-evenCnt]"
   ]
  },
  {
   "cell_type": "code",
   "execution_count": 16,
   "id": "6a5a21a8-ca6a-4eb6-bddf-2e2827b8fe72",
   "metadata": {},
   "outputs": [
    {
     "data": {
      "text/plain": [
       "[2, 3]"
      ]
     },
     "execution_count": 16,
     "metadata": {},
     "output_type": "execute_result"
    }
   ],
   "source": [
    "solution2([1, 2, 3, 4, 5])"
   ]
  },
  {
   "cell_type": "code",
   "execution_count": 17,
   "id": "ee84e237-0869-4b72-b7d8-d57e06394d86",
   "metadata": {},
   "outputs": [
    {
     "data": {
      "text/plain": [
       "[0, 4]"
      ]
     },
     "execution_count": 17,
     "metadata": {},
     "output_type": "execute_result"
    }
   ],
   "source": [
    "solution2([1, 3, 5, 7])"
   ]
  },
  {
   "cell_type": "code",
   "execution_count": null,
   "id": "7bffaeb0-1d41-4149-923a-905b918f303f",
   "metadata": {},
   "outputs": [],
   "source": []
  }
 ],
 "metadata": {
  "kernelspec": {
   "display_name": "Python 3 (ipykernel)",
   "language": "python",
   "name": "python3"
  },
  "language_info": {
   "codemirror_mode": {
    "name": "ipython",
    "version": 3
   },
   "file_extension": ".py",
   "mimetype": "text/x-python",
   "name": "python",
   "nbconvert_exporter": "python",
   "pygments_lexer": "ipython3",
   "version": "3.10.6"
  }
 },
 "nbformat": 4,
 "nbformat_minor": 5
}

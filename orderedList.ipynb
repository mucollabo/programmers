{
 "cells": [
  {
   "cell_type": "markdown",
   "id": "6d38754b-c8e9-4643-9047-59f4dabd4393",
   "metadata": {},
   "source": [
    "# 등수 매기기\n",
    "## 문제 설명\n",
    "### 영어 점수와 수학 점수의 평균 점수를 기준으로 학생들의 등수를 매기려고 합니다. 영어 점수와 수학 점수를 담은 2차원 정수 배열 score가 주어질 때, 영어 점수와 수학 점수의 평균을 기준으로 매긴 등수를 담은 배열을 return하도록 solution 함수를 완성해주세요.\n",
    "\n",
    "## 제한사항\n",
    "* 0 ≤ score[0], score[1] ≤ 100\n",
    "* 1 ≤ score의 길이 ≤ 10\n",
    "* score의 원소 길이는 2입니다.\n",
    "* score는 중복된 원소를 갖지 않습니다.\n",
    "## 입출력 예\n",
    "|score|result|\n",
    "|-----|------|\n",
    "|[[80, 70], [90, 50], [40, 70], [50, 80]]|[1, 2, 4, 3]|\n",
    "|[[80, 70], [70, 80], [30, 50], [90, 100], [100, 90], [100, 100], [10, 30]]|[4, 4, 6, 2, 2, 1, 7]|\n",
    "## 입출력 예 설명\n",
    "## 입출력 예 #1\n",
    "\n",
    "* 평균은 각각 75, 70, 55, 65 이므로 등수를 매겨 [1, 2, 4, 3]을 return합니다.\n",
    "## 입출력 예 #2\n",
    "\n",
    "* 평균은 각각 75, 75, 40, 95, 95, 100, 20 이므로 [4, 4, 6, 2, 2, 1, 7] 을 return합니다.\n",
    "* 공동 2등이 두 명, 공동 4등이 2명 이므로 3등과 5등은 없습니다."
   ]
  },
  {
   "cell_type": "code",
   "execution_count": 28,
   "id": "6ed636e1-b351-4e62-9458-8e0f4bba6350",
   "metadata": {},
   "outputs": [],
   "source": [
    "def solution(score):\n",
    "    s_avg = sorted([sum(s) for s in score], reverse=True)\n",
    "    return [s_avg.index(sum(s))+1 for s in score]"
   ]
  },
  {
   "cell_type": "code",
   "execution_count": 29,
   "id": "fc9c3171-9328-4825-a114-b65e732dd1f8",
   "metadata": {},
   "outputs": [
    {
     "data": {
      "text/plain": [
       "[1, 2, 4, 3]"
      ]
     },
     "execution_count": 29,
     "metadata": {},
     "output_type": "execute_result"
    }
   ],
   "source": [
    "solution([[80, 70], [90, 50], [40, 70], [50, 80]])"
   ]
  },
  {
   "cell_type": "code",
   "execution_count": 30,
   "id": "dfa212f8-d43a-4816-b729-db1a3709fb44",
   "metadata": {},
   "outputs": [
    {
     "data": {
      "text/plain": [
       "[4, 4, 6, 2, 2, 1, 7]"
      ]
     },
     "execution_count": 30,
     "metadata": {},
     "output_type": "execute_result"
    }
   ],
   "source": [
    "solution([[80, 70], [70, 80], [30, 50], [90, 100], [100, 90], [100, 100], [10, 30]])"
   ]
  },
  {
   "cell_type": "code",
   "execution_count": null,
   "id": "84fa1959-8b31-4f22-9307-53d14d2ca5b4",
   "metadata": {},
   "outputs": [],
   "source": []
  }
 ],
 "metadata": {
  "kernelspec": {
   "display_name": "Python 3 (ipykernel)",
   "language": "python",
   "name": "python3"
  },
  "language_info": {
   "codemirror_mode": {
    "name": "ipython",
    "version": 3
   },
   "file_extension": ".py",
   "mimetype": "text/x-python",
   "name": "python",
   "nbconvert_exporter": "python",
   "pygments_lexer": "ipython3",
   "version": "3.10.6"
  }
 },
 "nbformat": 4,
 "nbformat_minor": 5
}

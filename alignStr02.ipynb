{
 "cells": [
  {
   "cell_type": "markdown",
   "id": "7b69b4f4-fcd5-49d2-8afb-a9b7d0178900",
   "metadata": {},
   "source": [
    "# 문자열 정렬하기 (2)\n",
    "## 문제 설명\n",
    "### 영어 대소문자로 이루어진 문자열 my_string이 매개변수로 주어질 때, my_string을 모두 소문자로 바꾸고 알파벳 순서대로 정렬한 문자열을 return 하도록 solution 함수를 완성해보세요.\n",
    "\n",
    "## 제한사항\n",
    "* 0 < my_string 길이 < 100\n",
    "## 입출력 예\n",
    "|my_string|result|\n",
    "|---------|------|\n",
    "|\"Bcad\"|\"abcd\"|\n",
    "|\"heLLo\"|\"ehllo\"|\n",
    "|\"Python\"|\"hnopty\"|\n",
    "## 입출력 예 설명\n",
    "## 입출력 예 #1\n",
    "\n",
    "* \"Bcad\"를 모두 소문자로 바꾸면 \"bcad\"이고 이를 알파벳 순으로 정렬하면 \"abcd\"입니다.\n",
    "## 입출력 예 #2\n",
    "\n",
    "* \"heLLo\"를 모두 소문자로 바꾸면 \"hello\"이고 이를 알파벳 순으로 정렬하면 \"ehllo\"입니다.\n",
    "## 입출력 예 #3\n",
    "\n",
    "* \"Python\"를 모두 소문자로 바꾸면 \"python\"이고 이를 알파벳 순으로 정렬하면 \"hnopty\"입니다."
   ]
  },
  {
   "cell_type": "code",
   "execution_count": 29,
   "id": "8ee7aed5-c918-4875-96f8-be2193292aa5",
   "metadata": {},
   "outputs": [],
   "source": [
    "def solution(my_string):\n",
    "    return ''.join(sorted(list(my_string.lower())))"
   ]
  },
  {
   "cell_type": "code",
   "execution_count": 30,
   "id": "3c55863a-3909-4fb1-ba3e-86b9e9aa6cc4",
   "metadata": {},
   "outputs": [
    {
     "data": {
      "text/plain": [
       "'abcd'"
      ]
     },
     "execution_count": 30,
     "metadata": {},
     "output_type": "execute_result"
    }
   ],
   "source": [
    "solution(\"Bcad\")"
   ]
  },
  {
   "cell_type": "code",
   "execution_count": 31,
   "id": "9ce5159a-5304-4445-875c-d7636ed56de2",
   "metadata": {},
   "outputs": [
    {
     "data": {
      "text/plain": [
       "'ehllo'"
      ]
     },
     "execution_count": 31,
     "metadata": {},
     "output_type": "execute_result"
    }
   ],
   "source": [
    "solution(\"heLLo\")"
   ]
  },
  {
   "cell_type": "code",
   "execution_count": 32,
   "id": "c22a234d-54f0-4bf0-a07a-bde093369ab0",
   "metadata": {},
   "outputs": [
    {
     "data": {
      "text/plain": [
       "'hnopty'"
      ]
     },
     "execution_count": 32,
     "metadata": {},
     "output_type": "execute_result"
    }
   ],
   "source": [
    "solution(\"Python\")"
   ]
  },
  {
   "cell_type": "code",
   "execution_count": null,
   "id": "5af4ea9f-4c98-4564-8f57-9aa7c0d5b76b",
   "metadata": {},
   "outputs": [],
   "source": []
  }
 ],
 "metadata": {
  "kernelspec": {
   "display_name": "Python 3 (ipykernel)",
   "language": "python",
   "name": "python3"
  },
  "language_info": {
   "codemirror_mode": {
    "name": "ipython",
    "version": 3
   },
   "file_extension": ".py",
   "mimetype": "text/x-python",
   "name": "python",
   "nbconvert_exporter": "python",
   "pygments_lexer": "ipython3",
   "version": "3.10.6"
  }
 },
 "nbformat": 4,
 "nbformat_minor": 5
}

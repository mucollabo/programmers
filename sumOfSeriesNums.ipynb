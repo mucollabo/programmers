{
 "cells": [
  {
   "cell_type": "markdown",
   "id": "537538d8-dfe5-4afb-b673-f089192aebb6",
   "metadata": {},
   "source": [
    "# 연속된 수의 합\n",
    "## 문제 설명\n",
    "### 연속된 세 개의 정수를 더해 12가 되는 경우는 3, 4, 5입니다. 두 정수 num과 total이 주어집니다. 연속된 수 num개를 더한 값이 total이 될 때, 정수 배열을 오름차순으로 담아 return하도록 solution함수를 완성해보세요.\n",
    "\n",
    "## 제한사항\n",
    "* 1 ≤ num ≤ 100\n",
    "* 0 ≤ total ≤ 1000\n",
    "* num개의 연속된 수를 더하여 total이 될 수 없는 테스트 케이스는 없습니다.\n",
    "## 입출력 예\n",
    "|num|total|result|\n",
    "|---|-----|------|\n",
    "|3|12|[3, 4, 5]|\n",
    "|5|15|[1, 2, 3, 4, 5]|\n",
    "|4|14|[2, 3, 4, 5]|\n",
    "|5|5|[-1, 0, 1, 2, 3]|\n",
    "## 입출력 예 설명\n",
    "## 입출력 예 #1\n",
    "\n",
    "* num = 3, total = 12인 경우 [3, 4, 5]를 return합니다.\n",
    "## 입출력 예 #2\n",
    "\n",
    "* num = 5, total = 15인 경우 [1, 2, 3, 4, 5]를 return합니다.\n",
    "## 입출력 예 #3\n",
    "\n",
    "* 4개의 연속된 수를 더해 14가 되는 경우는 2, 3, 4, 5입니다.\n",
    "## 입출력 예 #4\n",
    "\n",
    "* 설명 생략"
   ]
  },
  {
   "cell_type": "code",
   "execution_count": 54,
   "id": "93879253-c649-445b-88ef-d2bb11a9f9ee",
   "metadata": {},
   "outputs": [],
   "source": [
    "def solution(num, total):\n",
    "    sn = int((total/num*2 + 1 - num) / 2)\n",
    "    return list(range(sn, sn+num))"
   ]
  },
  {
   "cell_type": "code",
   "execution_count": 55,
   "id": "5ebe7ccf-e7d1-4170-958a-f5a2e0da8c31",
   "metadata": {},
   "outputs": [
    {
     "data": {
      "text/plain": [
       "[3, 4, 5]"
      ]
     },
     "execution_count": 55,
     "metadata": {},
     "output_type": "execute_result"
    }
   ],
   "source": [
    "solution(3, 12)"
   ]
  },
  {
   "cell_type": "code",
   "execution_count": 56,
   "id": "10700438-4eb9-46b4-9bcc-0e961164b233",
   "metadata": {},
   "outputs": [
    {
     "data": {
      "text/plain": [
       "[1, 2, 3, 4, 5]"
      ]
     },
     "execution_count": 56,
     "metadata": {},
     "output_type": "execute_result"
    }
   ],
   "source": [
    "solution(5,15)"
   ]
  },
  {
   "cell_type": "code",
   "execution_count": 57,
   "id": "4794ce2e-57ac-4e67-bf7a-17a9a083bcf8",
   "metadata": {},
   "outputs": [
    {
     "data": {
      "text/plain": [
       "[2, 3, 4, 5]"
      ]
     },
     "execution_count": 57,
     "metadata": {},
     "output_type": "execute_result"
    }
   ],
   "source": [
    "solution(4,14)"
   ]
  },
  {
   "cell_type": "code",
   "execution_count": 58,
   "id": "2f680c3f-0621-4e5c-a7ec-029cb4637120",
   "metadata": {},
   "outputs": [
    {
     "data": {
      "text/plain": [
       "[-1, 0, 1, 2]"
      ]
     },
     "execution_count": 58,
     "metadata": {},
     "output_type": "execute_result"
    }
   ],
   "source": [
    "solution(4,0)"
   ]
  },
  {
   "cell_type": "code",
   "execution_count": 59,
   "id": "9acece00-452c-4386-97b2-de8e382dfe5f",
   "metadata": {},
   "outputs": [
    {
     "data": {
      "text/plain": [
       "[0]"
      ]
     },
     "execution_count": 59,
     "metadata": {},
     "output_type": "execute_result"
    }
   ],
   "source": [
    "solution(1,0)"
   ]
  },
  {
   "cell_type": "code",
   "execution_count": 60,
   "id": "a343ae06-1a47-466c-b9f9-061c7e45113d",
   "metadata": {},
   "outputs": [
    {
     "data": {
      "text/plain": [
       "[1]"
      ]
     },
     "execution_count": 60,
     "metadata": {},
     "output_type": "execute_result"
    }
   ],
   "source": [
    "solution(1,1)"
   ]
  },
  {
   "cell_type": "code",
   "execution_count": 64,
   "id": "aee122d4-35d0-4f2d-bd53-a3e0bb51c3f2",
   "metadata": {},
   "outputs": [
    {
     "data": {
      "text/plain": [
       "[-6, -5, -4, -3, -2, -1, 0, 1, 2, 3, 4, 5, 6, 7]"
      ]
     },
     "execution_count": 64,
     "metadata": {},
     "output_type": "execute_result"
    }
   ],
   "source": [
    "solution(14,0)"
   ]
  },
  {
   "cell_type": "code",
   "execution_count": 65,
   "id": "6639c5d0-30e7-40fd-ad5f-c8ea2f19a037",
   "metadata": {},
   "outputs": [
    {
     "data": {
      "text/plain": [
       "[-6, -5, -4, -3, -2, -1, 0, 1, 2, 3, 4, 5, 6, 7]"
      ]
     },
     "execution_count": 65,
     "metadata": {},
     "output_type": "execute_result"
    }
   ],
   "source": [
    "solution(14,1)"
   ]
  },
  {
   "cell_type": "code",
   "execution_count": null,
   "id": "ec6f190e-fa6e-4680-a308-544c2274b5f3",
   "metadata": {},
   "outputs": [],
   "source": []
  }
 ],
 "metadata": {
  "kernelspec": {
   "display_name": "Python 3 (ipykernel)",
   "language": "python",
   "name": "python3"
  },
  "language_info": {
   "codemirror_mode": {
    "name": "ipython",
    "version": 3
   },
   "file_extension": ".py",
   "mimetype": "text/x-python",
   "name": "python",
   "nbconvert_exporter": "python",
   "pygments_lexer": "ipython3",
   "version": "3.10.6"
  }
 },
 "nbformat": 4,
 "nbformat_minor": 5
}

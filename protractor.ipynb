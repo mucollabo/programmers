{
 "cells": [
  {
   "cell_type": "markdown",
   "id": "6e9375ec-dfe9-4480-b133-4b04e44ba800",
   "metadata": {},
   "source": [
    "# 각도기\n",
    "## 문제 설명\n",
    "### 각에서 0도 초과 90도 미만은 예각, 90도는 직각, 90도 초과 180도 미만은 둔각 180도는 평각으로 분류합니다. 각 angle이 매개변수로 주어질 때 예각일 때 1, 직각일 때 2, 둔각일 때 3, 평각일 때 4를 return하도록 solution 함수를 완성해주세요.\n",
    "\n",
    "* 예각 : 0 < angle < 90\n",
    "* 직각 : angle = 90\n",
    "* 둔각 : 90 < angle < 180\n",
    "* 평각 : angle = 180\n",
    "## 제한사항\n",
    "* 0 < angle ≤ 180\n",
    "* angle은 정수입니다.\n",
    "## 입출력 예\n",
    "### angle\tresult\n",
    "### 70\t    1\n",
    "### 91\t    3\n",
    "### 180\t    4\n",
    "## 입출력 예 설명\n",
    "### 입출력 예 #1\n",
    "\n",
    "* angle이 70이므로 예각입니다. 따라서 1을 return합니다.\n",
    "### 입출력 예 #2\n",
    "\n",
    "* angle이 91이므로 둔각입니다. 따라서 3을 return합니다.\n",
    "### 입출력 예 #2\n",
    "\n",
    "* angle이 180이므로 평각입니다. 따라서 4를 return합니다."
   ]
  },
  {
   "cell_type": "code",
   "execution_count": 1,
   "id": "b4b97887-398f-4ef1-952f-ece2f02d8112",
   "metadata": {},
   "outputs": [],
   "source": [
    "def solution(angle):\n",
    "    if(angle > 0 and angle < 90):\n",
    "        return 1\n",
    "    elif(angle == 90):\n",
    "        return 2\n",
    "    elif(angle > 90 and angle < 180):\n",
    "        return 3\n",
    "    elif(angle == 180):\n",
    "        return 4\n",
    "    else:\n",
    "        return '잘못된 입력값입니다.'\n",
    "    "
   ]
  },
  {
   "cell_type": "code",
   "execution_count": 2,
   "id": "4b102e2f-8e3f-411e-94c3-ee9ea02b87e9",
   "metadata": {},
   "outputs": [
    {
     "data": {
      "text/plain": [
       "1"
      ]
     },
     "execution_count": 2,
     "metadata": {},
     "output_type": "execute_result"
    }
   ],
   "source": [
    "solution(45)"
   ]
  },
  {
   "cell_type": "code",
   "execution_count": 3,
   "id": "11b5e714-36a0-4617-bf67-35f95967761d",
   "metadata": {},
   "outputs": [
    {
     "data": {
      "text/plain": [
       "2"
      ]
     },
     "execution_count": 3,
     "metadata": {},
     "output_type": "execute_result"
    }
   ],
   "source": [
    "solution(90)"
   ]
  },
  {
   "cell_type": "code",
   "execution_count": 4,
   "id": "f9ad2801-5614-4c29-a70a-2a759ef7691a",
   "metadata": {},
   "outputs": [
    {
     "data": {
      "text/plain": [
       "3"
      ]
     },
     "execution_count": 4,
     "metadata": {},
     "output_type": "execute_result"
    }
   ],
   "source": [
    "solution(140)"
   ]
  },
  {
   "cell_type": "code",
   "execution_count": 5,
   "id": "b840f728-b78b-44a4-90a7-2160df9e931b",
   "metadata": {},
   "outputs": [
    {
     "data": {
      "text/plain": [
       "4"
      ]
     },
     "execution_count": 5,
     "metadata": {},
     "output_type": "execute_result"
    }
   ],
   "source": [
    "solution(180)"
   ]
  },
  {
   "cell_type": "code",
   "execution_count": 6,
   "id": "95fd3089-0fc0-44eb-b3ac-cd480cec0685",
   "metadata": {},
   "outputs": [
    {
     "data": {
      "text/plain": [
       "'잘못된 입력값입니다.'"
      ]
     },
     "execution_count": 6,
     "metadata": {},
     "output_type": "execute_result"
    }
   ],
   "source": [
    "solution(220)"
   ]
  },
  {
   "cell_type": "code",
   "execution_count": null,
   "id": "8f15db39-b914-438d-86a7-6cd06742284a",
   "metadata": {},
   "outputs": [],
   "source": []
  }
 ],
 "metadata": {
  "kernelspec": {
   "display_name": "Python 3 (ipykernel)",
   "language": "python",
   "name": "python3"
  },
  "language_info": {
   "codemirror_mode": {
    "name": "ipython",
    "version": 3
   },
   "file_extension": ".py",
   "mimetype": "text/x-python",
   "name": "python",
   "nbconvert_exporter": "python",
   "pygments_lexer": "ipython3",
   "version": "3.10.6"
  }
 },
 "nbformat": 4,
 "nbformat_minor": 5
}

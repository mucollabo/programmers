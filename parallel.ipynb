{
 "cells": [
  {
   "cell_type": "markdown",
   "id": "70dd83ce-7a37-4751-a44b-7e0eb9699ea2",
   "metadata": {},
   "source": [
    "# 평행\n",
    "## 문제 설명\n",
    "### 점 네 개의 좌표를 담은 이차원 배열  dots가 다음과 같이 매개변수로 주어집니다.\n",
    "\n",
    "* [[x1, y1], [x2, y2], [x3, y3], [x4, y4]]\n",
    "### 주어진 네 개의 점을 두 개씩 이었을 때, 두 직선이 평행이 되는 경우가 있으면 1을 없으면 0을 return 하도록 solution 함수를 완성해보세요.\n",
    "\n",
    "## 제한사항\n",
    "* 0 ≤ dots의 원소 ≤ 100\n",
    "* dots의 길이 = 4\n",
    "* dots의 원소의 길이 = 2\n",
    "* dots의 원소는 [x, y] 형태이며 x, y는 정수입니다.\n",
    "* 서로 다른 두개 이상의 점이 겹치는 경우는 없습니다.\n",
    "* 두 직선이 겹치는 경우(일치하는 경우)에도 1을 return 해주세요.\n",
    "* 임의의 두 점을 이은 직선이 x축 또는 y축과 평행한 경우는 주어지지 않습니다.\n",
    "## 입출력 예\n",
    "|dots|result|\n",
    "|----|------|\n",
    "|[[1, 4], [9, 2], [3, 8], [11, 6]]|1|\n",
    "|[[3, 5], [4, 1], [2, 4], [5, 10]]|0|\n",
    "## 입출력 예 설명\n",
    "## 입출력 예 #1\n",
    "\n",
    "* 점 [1, 4], [3, 8]을 잇고 [9, 2], [11, 6]를 이으면 두 선분은 평행합니다.\n",
    "## 입출력 예 #2\n",
    "\n",
    "* 점을 어떻게 연결해도 평행하지 않습니다.\n",
    "### ※ 공지 - 2022년 9월 30일 제한 사항 및 테스트케이스가 수정되었습니다.\n",
    "### ※ 공지 - 2022년 10월 27일 제한 사항 및 테스트케이스가 수정되었습니다."
   ]
  },
  {
   "cell_type": "code",
   "execution_count": 3,
   "id": "540b660a-4e01-4f43-8f6f-398f8cebe24b",
   "metadata": {},
   "outputs": [],
   "source": [
    "from collections import deque\n",
    "\n",
    "def solution(dots):\n",
    "    deq = deque(dots)\n",
    "    for _ in range(len(dots)):\n",
    "        deq.rotate(1)\n",
    "        if (deq[0][1]-deq[1][1])/(deq[0][0]-deq[1][0]) == (deq[2][1]-deq[3][1])/(deq[2][0]-deq[3][0]):\n",
    "            return 1\n",
    "    return 0"
   ]
  },
  {
   "cell_type": "code",
   "execution_count": 4,
   "id": "fac79ffb-a6f3-4d1b-ad23-d4ebd48727f0",
   "metadata": {},
   "outputs": [
    {
     "data": {
      "text/plain": [
       "1"
      ]
     },
     "execution_count": 4,
     "metadata": {},
     "output_type": "execute_result"
    }
   ],
   "source": [
    "solution([[1, 4], [9, 2], [3, 8], [11, 6]])"
   ]
  },
  {
   "cell_type": "code",
   "execution_count": 5,
   "id": "cad8241d-ed0f-4e05-ae71-43f95cd911ff",
   "metadata": {},
   "outputs": [
    {
     "data": {
      "text/plain": [
       "0"
      ]
     },
     "execution_count": 5,
     "metadata": {},
     "output_type": "execute_result"
    }
   ],
   "source": [
    "solution([[3, 5], [4, 1], [2, 4], [5, 10]])"
   ]
  },
  {
   "cell_type": "code",
   "execution_count": null,
   "id": "ef6e38cc-3496-4883-9b8b-ff772c81ed89",
   "metadata": {},
   "outputs": [],
   "source": []
  }
 ],
 "metadata": {
  "kernelspec": {
   "display_name": "Python 3 (ipykernel)",
   "language": "python",
   "name": "python3"
  },
  "language_info": {
   "codemirror_mode": {
    "name": "ipython",
    "version": 3
   },
   "file_extension": ".py",
   "mimetype": "text/x-python",
   "name": "python",
   "nbconvert_exporter": "python",
   "pygments_lexer": "ipython3",
   "version": "3.10.6"
  }
 },
 "nbformat": 4,
 "nbformat_minor": 5
}

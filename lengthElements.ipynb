{
 "cells": [
  {
   "cell_type": "markdown",
   "id": "31bdab4e-c95d-4ed2-a22b-d33c3a44424d",
   "metadata": {},
   "source": [
    "# 배열 원소의 길이\n",
    "## 문제 설명\n",
    "### 문자열 배열 strlist가 매개변수로 주어집니다. strlist 각 원소의 길이를 담은 배열을 retrun하도록 solution 함수를 완성해주세요.\n",
    "\n",
    "## 제한사항\n",
    "* 1 ≤ strlist 원소의 길이 ≤ 100\n",
    "* strlist는 알파벳 소문자, 대문자, 특수문자로 구성되어 있습니다.\n",
    "## 입출력 예\n",
    "|strlist|result|\n",
    "|-------|------|\n",
    "|[\"We\", \"are\", \"the\", \"world!\"]|[2, 3, 3, 6]|\n",
    "|[\"I\", \"Love\", \"Programmers.\"]|[1, 4, 12]|\n",
    "## 입출력 예 설명\n",
    "## 입출력 예 #1\n",
    "\n",
    "* [\"We\", \"are\", \"the\", \"world!\"]의 각 원소의 길이인 [2, 3, 3, 6]을 return합니다.\n",
    "## 입출력 예 #2\n",
    "\n",
    "* [\"I\", \"Love\", \"Programmers.\"]의 각 원소의 길이인 [1, 4, 12]을 return합니다."
   ]
  },
  {
   "cell_type": "code",
   "execution_count": 1,
   "id": "e75a5b91-880a-4ada-ae9c-c314e4c745fa",
   "metadata": {},
   "outputs": [],
   "source": [
    "def solution(strlist):\n",
    "    result = []\n",
    "    for st in strlist:\n",
    "        result.append(len(st))\n",
    "    return result"
   ]
  },
  {
   "cell_type": "code",
   "execution_count": 2,
   "id": "b285aea9-5431-4aa0-98d4-65e5b47f74c8",
   "metadata": {},
   "outputs": [
    {
     "data": {
      "text/plain": [
       "[2, 3, 3, 6]"
      ]
     },
     "execution_count": 2,
     "metadata": {},
     "output_type": "execute_result"
    }
   ],
   "source": [
    "solution([\"We\", \"are\", \"the\", \"world!\"])"
   ]
  },
  {
   "cell_type": "code",
   "execution_count": 3,
   "id": "54b76023-0e43-4825-978d-2ada6452b44b",
   "metadata": {},
   "outputs": [
    {
     "data": {
      "text/plain": [
       "[1, 4, 12]"
      ]
     },
     "execution_count": 3,
     "metadata": {},
     "output_type": "execute_result"
    }
   ],
   "source": [
    "solution([\"I\", \"Love\", \"Programmers.\"])"
   ]
  },
  {
   "cell_type": "code",
   "execution_count": 4,
   "id": "79f4de0c-a728-4cb7-883b-f2ab10b46c78",
   "metadata": {},
   "outputs": [],
   "source": [
    "def solution2(strlist):\n",
    "    return [len(st) for st in strlist]"
   ]
  },
  {
   "cell_type": "code",
   "execution_count": 5,
   "id": "e15ed7ae-7e21-41cb-9571-8477852c1df5",
   "metadata": {},
   "outputs": [
    {
     "data": {
      "text/plain": [
       "[2, 3, 3, 6]"
      ]
     },
     "execution_count": 5,
     "metadata": {},
     "output_type": "execute_result"
    }
   ],
   "source": [
    "solution2([\"We\", \"are\", \"the\", \"world!\"])"
   ]
  },
  {
   "cell_type": "code",
   "execution_count": 6,
   "id": "67c95c35-d231-4239-9b17-95de6c6f834c",
   "metadata": {},
   "outputs": [
    {
     "data": {
      "text/plain": [
       "[1, 4, 12]"
      ]
     },
     "execution_count": 6,
     "metadata": {},
     "output_type": "execute_result"
    }
   ],
   "source": [
    "solution2([\"I\", \"Love\", \"Programmers.\"])"
   ]
  },
  {
   "cell_type": "code",
   "execution_count": null,
   "id": "9eb7db62-6967-459a-a78f-2eb0283b9740",
   "metadata": {},
   "outputs": [],
   "source": []
  }
 ],
 "metadata": {
  "kernelspec": {
   "display_name": "Python 3 (ipykernel)",
   "language": "python",
   "name": "python3"
  },
  "language_info": {
   "codemirror_mode": {
    "name": "ipython",
    "version": 3
   },
   "file_extension": ".py",
   "mimetype": "text/x-python",
   "name": "python",
   "nbconvert_exporter": "python",
   "pygments_lexer": "ipython3",
   "version": "3.10.6"
  }
 },
 "nbformat": 4,
 "nbformat_minor": 5
}

{
 "cells": [
  {
   "cell_type": "markdown",
   "id": "ea7ec4d2-5e90-41ba-83a3-1615feb8a9a6",
   "metadata": {},
   "source": [
    "# 숨어있는 숫자의 덧셈 (1)\n",
    "## 문제 설명\n",
    "### 문자열 my_string이 매개변수로 주어집니다. my_string안의 모든 자연수들의 합을 return하도록 solution 함수를 완성해주세요.\n",
    "\n",
    "## 제한사항\n",
    "* 1 ≤ my_string의 길이 ≤ 1,000\n",
    "* my_string은 소문자, 대문자 그리고 한자리 자연수로만 구성되어있습니다.\n",
    "## 입출력 예\n",
    "|my_string|result|\n",
    "|---------|------|\n",
    "|\"aAb1B2cC34oOp\"|10|\n",
    "|\"1a2b3c4d123\"|16|\n",
    "## 입출력 예 설명\n",
    "## 입출력 예 #1\n",
    "\n",
    "* \"aAb1B2cC34oOp\"안의 한자리 자연수는 1, 2, 3, 4 입니다. 따라서 1 + 2 + 3 + 4 = 10 을 return합니다.\n",
    "## 입출력 예 #2\n",
    "\n",
    "* \"1a2b3c4d123Z\"안의 한자리 자연수는 1, 2, 3, 4, 1, 2, 3 입니다. 따라서 1 + 2 + 3 + 4 + 1 + 2 + 3 = 16 을 return합니다.\n",
    "## 유의사항\n",
    "* 연속된 숫자도 각각 한 자리 숫자로 취급합니다."
   ]
  },
  {
   "cell_type": "code",
   "execution_count": 28,
   "id": "3808e950-b7ca-49e4-a8d3-18e085a1f155",
   "metadata": {},
   "outputs": [],
   "source": [
    "import re\n",
    "def solution(my_string):\n",
    "    hideNumList = [int(i) for i in re.sub(r'[a-z A-Z]', '', my_string)]\n",
    "    return sum(hideNumList)"
   ]
  },
  {
   "cell_type": "code",
   "execution_count": 29,
   "id": "1af10146-a4cf-402e-832e-55b9bd425723",
   "metadata": {},
   "outputs": [
    {
     "data": {
      "text/plain": [
       "10"
      ]
     },
     "execution_count": 29,
     "metadata": {},
     "output_type": "execute_result"
    }
   ],
   "source": [
    "solution(\"aAb1B2cC34oOp\")"
   ]
  },
  {
   "cell_type": "code",
   "execution_count": 30,
   "id": "ca151453-0f0b-44e7-88b3-eee278062ce9",
   "metadata": {},
   "outputs": [],
   "source": [
    "def solution2(my_string):\n",
    "    return sum(int(h) for h in re.sub(r'[^0-9]', '', my_string))"
   ]
  },
  {
   "cell_type": "code",
   "execution_count": 31,
   "id": "01362318-267c-4ef8-8897-44289a02705d",
   "metadata": {},
   "outputs": [
    {
     "data": {
      "text/plain": [
       "10"
      ]
     },
     "execution_count": 31,
     "metadata": {},
     "output_type": "execute_result"
    }
   ],
   "source": [
    "solution2(\"aAb1B2cC34oOp\")"
   ]
  },
  {
   "cell_type": "code",
   "execution_count": 32,
   "id": "8432e298-2137-44f3-976b-300e38e62a59",
   "metadata": {},
   "outputs": [
    {
     "data": {
      "text/plain": [
       "16"
      ]
     },
     "execution_count": 32,
     "metadata": {},
     "output_type": "execute_result"
    }
   ],
   "source": [
    "solution2(\"1a2b3c4d123Z\")"
   ]
  },
  {
   "cell_type": "code",
   "execution_count": null,
   "id": "678e5e90-8949-400f-a8c5-42ff60e60d8f",
   "metadata": {},
   "outputs": [],
   "source": []
  }
 ],
 "metadata": {
  "kernelspec": {
   "display_name": "Python 3 (ipykernel)",
   "language": "python",
   "name": "python3"
  },
  "language_info": {
   "codemirror_mode": {
    "name": "ipython",
    "version": 3
   },
   "file_extension": ".py",
   "mimetype": "text/x-python",
   "name": "python",
   "nbconvert_exporter": "python",
   "pygments_lexer": "ipython3",
   "version": "3.10.6"
  }
 },
 "nbformat": 4,
 "nbformat_minor": 5
}

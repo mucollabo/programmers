{
 "cells": [
  {
   "cell_type": "markdown",
   "id": "41e89be0-29fa-4ed6-8005-b29260df509d",
   "metadata": {},
   "source": [
    "# 중앙값 구하기\n",
    "## 문제 설명\n",
    "### 중앙값은 어떤 주어진 값들을 크기의 순서대로 정렬했을 때 가장 중앙에 위치하는 값을 의미합니다. 예를 들어 1, 2, 7, 10, 11의 중앙값은 7입니다. 정수 배열 array가 매개변수로 주어질 때, 중앙값을 return 하도록 solution 함수를 완성해보세요.\n",
    "\n",
    "## 제한사항\n",
    "* array의 길이는 홀수입니다.\n",
    "* 0 < array의 길이 < 100\n",
    "* -1,000 < array의 원소 < 1,000\n",
    "## 입출력 예\n",
    "|array|result|\n",
    "|-----|------|\n",
    "|[1, 2, 7, 10, 11]|7|\n",
    "|[9, -1, 0]|0|\n",
    "## 입출력 예 설명\n",
    "## 입출력 예 #1\n",
    "\n",
    "* 본문과 동일합니다.\n",
    "## 입출력 예 #2\n",
    "\n",
    "* 9, -1, 0을 오름차순 정렬하면 -1, 0, 9이고 가장 중앙에 위치하는 값은 0입니다."
   ]
  },
  {
   "cell_type": "code",
   "execution_count": 5,
   "id": "04e35b7b-80dc-4796-8b75-fa4ecea5942e",
   "metadata": {},
   "outputs": [],
   "source": [
    "def solution(array):\n",
    "    return sorted(array)[len(array)//2]"
   ]
  },
  {
   "cell_type": "code",
   "execution_count": 6,
   "id": "1e242ed1-419b-42ac-8357-33773145f3d1",
   "metadata": {},
   "outputs": [
    {
     "data": {
      "text/plain": [
       "0"
      ]
     },
     "execution_count": 6,
     "metadata": {},
     "output_type": "execute_result"
    }
   ],
   "source": [
    "solution([9,-1,0])"
   ]
  },
  {
   "cell_type": "code",
   "execution_count": 7,
   "id": "4bc1fccd-e804-40b5-94c6-94621adef10b",
   "metadata": {},
   "outputs": [
    {
     "data": {
      "text/plain": [
       "7"
      ]
     },
     "execution_count": 7,
     "metadata": {},
     "output_type": "execute_result"
    }
   ],
   "source": [
    "solution([7,1,10,2,11])"
   ]
  },
  {
   "cell_type": "code",
   "execution_count": null,
   "id": "da19c841-daac-4685-8faa-334d30e1d456",
   "metadata": {},
   "outputs": [],
   "source": []
  }
 ],
 "metadata": {
  "kernelspec": {
   "display_name": "Python 3 (ipykernel)",
   "language": "python",
   "name": "python3"
  },
  "language_info": {
   "codemirror_mode": {
    "name": "ipython",
    "version": 3
   },
   "file_extension": ".py",
   "mimetype": "text/x-python",
   "name": "python",
   "nbconvert_exporter": "python",
   "pygments_lexer": "ipython3",
   "version": "3.10.6"
  }
 },
 "nbformat": 4,
 "nbformat_minor": 5
}

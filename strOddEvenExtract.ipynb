{
  "nbformat": 4,
  "nbformat_minor": 0,
  "metadata": {
    "colab": {
      "name": "strOddEvenExtract.ipynb",
      "provenance": [],
      "authorship_tag": "ABX9TyPrBnoWmgmUOismmhC0AvrE",
      "include_colab_link": true
    },
    "kernelspec": {
      "name": "python3",
      "display_name": "Python 3"
    },
    "language_info": {
      "name": "python"
    }
  },
  "cells": [
    {
      "cell_type": "markdown",
      "metadata": {
        "id": "view-in-github",
        "colab_type": "text"
      },
      "source": [
        "<a href=\"https://colab.research.google.com/github/mucollabo/programmers/blob/main/strOddEvenExtract.ipynb\" target=\"_parent\"><img src=\"https://colab.research.google.com/assets/colab-badge.svg\" alt=\"Open In Colab\"/></a>"
      ]
    },
    {
      "cell_type": "code",
      "source": [
        "import math\n",
        "\n",
        "def solution(s):\n",
        "    answer = ''\n",
        "    if len(s) % 2 == 0:\n",
        "        answer += (s[int((len(s)/2))-1:int((len(s)/2))+1])\n",
        "    else:\n",
        "        answer += (s[(math.floor(len(s)/2))])\n",
        "    return answer"
      ],
      "metadata": {
        "id": "EYYY2JZBbKeV"
      },
      "execution_count": null,
      "outputs": []
    },
    {
      "cell_type": "code",
      "source": [
        "s = \"qwer\"\n",
        "solution(s)"
      ],
      "metadata": {
        "colab": {
          "base_uri": "https://localhost:8080/",
          "height": 37
        },
        "id": "Qqu_D2K4bpCD",
        "outputId": "39e7f8d2-4500-459f-e91e-6571f9e9e3fc"
      },
      "execution_count": null,
      "outputs": [
        {
          "output_type": "execute_result",
          "data": {
            "text/plain": [
              "'we'"
            ],
            "application/vnd.google.colaboratory.intrinsic+json": {
              "type": "string"
            }
          },
          "metadata": {},
          "execution_count": 4
        }
      ]
    },
    {
      "cell_type": "code",
      "source": [
        ""
      ],
      "metadata": {
        "id": "gIza3v76bt1f"
      },
      "execution_count": null,
      "outputs": []
    }
  ]
}
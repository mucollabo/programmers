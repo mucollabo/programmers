{
 "cells": [
  {
   "cell_type": "code",
   "execution_count": 1,
   "id": "fc580ab3-bc91-4755-8c94-5cb828b9f142",
   "metadata": {},
   "outputs": [],
   "source": [
    "def solution(num1, num2):\n",
    "    return num1%num2"
   ]
  },
  {
   "cell_type": "code",
   "execution_count": 2,
   "id": "9138ca0f-4e55-425d-b1e1-3a465cc94c00",
   "metadata": {},
   "outputs": [
    {
     "data": {
      "text/plain": [
       "1"
      ]
     },
     "execution_count": 2,
     "metadata": {},
     "output_type": "execute_result"
    }
   ],
   "source": [
    "solution(3, 2)"
   ]
  },
  {
   "cell_type": "code",
   "execution_count": 3,
   "id": "29993f7e-2baf-4d91-86f9-cee414565c0c",
   "metadata": {},
   "outputs": [
    {
     "data": {
      "text/plain": [
       "0"
      ]
     },
     "execution_count": 3,
     "metadata": {},
     "output_type": "execute_result"
    }
   ],
   "source": [
    "solution(10, 5)"
   ]
  },
  {
   "cell_type": "code",
   "execution_count": null,
   "id": "d1eec8f5-09e1-43a9-96f0-034b3b2bf652",
   "metadata": {},
   "outputs": [],
   "source": []
  }
 ],
 "metadata": {
  "kernelspec": {
   "display_name": "Python 3 (ipykernel)",
   "language": "python",
   "name": "python3"
  },
  "language_info": {
   "codemirror_mode": {
    "name": "ipython",
    "version": 3
   },
   "file_extension": ".py",
   "mimetype": "text/x-python",
   "name": "python",
   "nbconvert_exporter": "python",
   "pygments_lexer": "ipython3",
   "version": "3.10.6"
  }
 },
 "nbformat": 4,
 "nbformat_minor": 5
}

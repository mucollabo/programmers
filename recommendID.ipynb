{
  "nbformat": 4,
  "nbformat_minor": 0,
  "metadata": {
    "colab": {
      "name": "recommendID.ipynb",
      "provenance": [],
      "authorship_tag": "ABX9TyOrgUozsKpiHCoHX8SXaE2K",
      "include_colab_link": true
    },
    "kernelspec": {
      "name": "python3",
      "display_name": "Python 3"
    },
    "language_info": {
      "name": "python"
    }
  },
  "cells": [
    {
      "cell_type": "markdown",
      "metadata": {
        "id": "view-in-github",
        "colab_type": "text"
      },
      "source": [
        "<a href=\"https://colab.research.google.com/github/mucollabo/programmers/blob/main/recommendID.ipynb\" target=\"_parent\"><img src=\"https://colab.research.google.com/assets/colab-badge.svg\" alt=\"Open In Colab\"/></a>"
      ]
    },
    {
      "cell_type": "code",
      "execution_count": 174,
      "metadata": {
        "id": "bdnapozwENH8"
      },
      "outputs": [],
      "source": [
        "import re\n",
        "\n",
        "def solution(new_id):\n",
        "  answer = new_id.lower()\n",
        "  answer = re.sub(r\"[^a-z0-9-_.]\", \"\", answer)\n",
        "  answer = re.sub(r'\\.{2,}', '.', answer)\n",
        "  answer = answer.strip('.')\n",
        "  if not answer:\n",
        "    answer = \"a\"\n",
        "  answer = answer[:15]\n",
        "  answer = answer.rstrip('.')\n",
        "  while len(answer) <= 2:\n",
        "    answer += answer[-1]\n",
        "\n",
        "  return answer"
      ]
    },
    {
      "cell_type": "code",
      "source": [
        "s = \"...!@BaT#*..y.abcdefghijklm\"\n",
        "s2 = \"abcdefghijklmn.p\""
      ],
      "metadata": {
        "id": "JvywYwHMEZnY"
      },
      "execution_count": 160,
      "outputs": []
    },
    {
      "cell_type": "code",
      "source": [
        "solution(s)"
      ],
      "metadata": {
        "colab": {
          "base_uri": "https://localhost:8080/",
          "height": 36
        },
        "id": "KTnJB2LFFPmH",
        "outputId": "096602c9-05eb-45db-8b9b-f39f9e1244f5"
      },
      "execution_count": 159,
      "outputs": [
        {
          "output_type": "execute_result",
          "data": {
            "text/plain": [
              "'bat.y.abcdefghi'"
            ],
            "application/vnd.google.colaboratory.intrinsic+json": {
              "type": "string"
            }
          },
          "metadata": {},
          "execution_count": 159
        }
      ]
    },
    {
      "cell_type": "code",
      "source": [
        "solution(s2)"
      ],
      "metadata": {
        "colab": {
          "base_uri": "https://localhost:8080/",
          "height": 36
        },
        "id": "eOsd6jDBRDAV",
        "outputId": "ee6d0460-d371-429d-f32c-af77fbd2b57b"
      },
      "execution_count": 175,
      "outputs": [
        {
          "output_type": "execute_result",
          "data": {
            "text/plain": [
              "'abcdefghijklmn'"
            ],
            "application/vnd.google.colaboratory.intrinsic+json": {
              "type": "string"
            }
          },
          "metadata": {},
          "execution_count": 175
        }
      ]
    },
    {
      "cell_type": "code",
      "source": [
        ""
      ],
      "metadata": {
        "id": "1DZi-T2quDix"
      },
      "execution_count": null,
      "outputs": []
    }
  ]
}
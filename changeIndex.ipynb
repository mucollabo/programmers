{
 "cells": [
  {
   "cell_type": "markdown",
   "id": "a2f0bf68-ff5a-4b37-88c9-860670801a6b",
   "metadata": {},
   "source": [
    "# 인덱스 바꾸기\n",
    "## 문제 설명\n",
    "### 문자열 my_string과 정수 num1, num2가 매개변수로 주어질 때, my_string에서 인덱스 num1과 인덱스 num2에 해당하는 문자를 바꾼 문자열을 return 하도록 solution 함수를 완성해보세요.\n",
    "\n",
    "## 제한사항\n",
    "* 1 < my_string의 길이 < 100\n",
    "* 0 ≤ num1, num2 < my_string의 길이\n",
    "* my_string은 소문자로 이루어져 있습니다.\n",
    "* num1 ≠ num2\n",
    "## 입출력 예\n",
    "|my_string|num1|num2|result|\n",
    "|---------|----|----|------|\n",
    "|\"hello\"|1|2|\"hlelo\"|\n",
    "|\"I love you\"|3|6|\"I l veoyou\"|\n",
    "## 입출력 예 설명\n",
    "## 입출력 예 #1\n",
    "\n",
    "* \"hello\"의 1번째 인덱스인 \"e\"와 2번째 인덱스인 \"l\"을 바꾸면 \"hlelo\"입니다.\n",
    "## 입출력 예 #2\n",
    "\n",
    "* \"I love you\"의 3번째 인덱스 \"o\"와 \" \"(공백)을 바꾸면 \"I l veoyou\"입니다."
   ]
  },
  {
   "cell_type": "code",
   "execution_count": 41,
   "id": "ba597ea7-806a-42ab-bd3a-fb3074ada9c1",
   "metadata": {},
   "outputs": [],
   "source": [
    "def solution(my_string, num1, num2):\n",
    "    list_mystr = list(my_string)\n",
    "    temp = list_mystr[num1]\n",
    "    list_mystr[num1] = list_mystr[num2]\n",
    "    list_mystr[num2] = temp\n",
    "    return ''.join(list_mystr)"
   ]
  },
  {
   "cell_type": "code",
   "execution_count": 42,
   "id": "3bb86eca-f354-47db-ba62-0d5b5dfe54e4",
   "metadata": {},
   "outputs": [
    {
     "data": {
      "text/plain": [
       "'hlelo'"
      ]
     },
     "execution_count": 42,
     "metadata": {},
     "output_type": "execute_result"
    }
   ],
   "source": [
    "solution(\"hello\", 1, 2)"
   ]
  },
  {
   "cell_type": "code",
   "execution_count": 51,
   "id": "b830cd8a-f83b-465f-92f4-05a2ea8d7a4c",
   "metadata": {},
   "outputs": [],
   "source": [
    "def solution2(my_string, num1, num2):\n",
    "    list_mystr = list(my_string)\n",
    "    list_mystr[num1], list_mystr[num2] = list_mystr[num2], list_mystr[num1]\n",
    "    return ''.join(list_mystr)"
   ]
  },
  {
   "cell_type": "code",
   "execution_count": 52,
   "id": "e08e744f-16db-4e10-a260-9c5ee3bbfb77",
   "metadata": {},
   "outputs": [
    {
     "data": {
      "text/plain": [
       "'hlelo'"
      ]
     },
     "execution_count": 52,
     "metadata": {},
     "output_type": "execute_result"
    }
   ],
   "source": [
    "solution2('hello', 1, 2)"
   ]
  },
  {
   "cell_type": "code",
   "execution_count": null,
   "id": "2941f2a8-3071-44b4-adce-90223c9ea42d",
   "metadata": {},
   "outputs": [],
   "source": []
  }
 ],
 "metadata": {
  "kernelspec": {
   "display_name": "Python 3 (ipykernel)",
   "language": "python",
   "name": "python3"
  },
  "language_info": {
   "codemirror_mode": {
    "name": "ipython",
    "version": 3
   },
   "file_extension": ".py",
   "mimetype": "text/x-python",
   "name": "python",
   "nbconvert_exporter": "python",
   "pygments_lexer": "ipython3",
   "version": "3.10.6"
  }
 },
 "nbformat": 4,
 "nbformat_minor": 5
}

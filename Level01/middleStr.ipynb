{
 "cells": [
  {
   "cell_type": "markdown",
   "id": "27ad6931-50c4-4d9a-afe8-f87cb2b3ef62",
   "metadata": {},
   "source": [
    "# 가운데 글자 가져오기\n",
    "## 문제 설명\n",
    "### 단어 s의 가운데 글자를 반환하는 함수, solution을 만들어 보세요. 단어의 길이가 짝수라면 가운데 두글자를 반환하면 됩니다.\n",
    "\n",
    "## 제한사항\n",
    "* s는 길이가 1 이상, 100이하인 스트링입니다.\n",
    "## 입출력 예\n",
    "|s|return|\n",
    "|-|------|\n",
    "|\"abcde\"|\"c\"|\n",
    "|\"qwer\"|\"we\"|"
   ]
  },
  {
   "cell_type": "code",
   "execution_count": 1,
   "id": "eacab9e9-c0e9-442c-8863-4b39acc8a99f",
   "metadata": {},
   "outputs": [],
   "source": [
    "def solution(s):\n",
    "    return s[len(s)//2] if len(s)%2 == 1 else s[len(s)//2-1:len(s)//2+1]"
   ]
  },
  {
   "cell_type": "code",
   "execution_count": 2,
   "id": "481af958-55cf-4388-a5e9-902d3663802d",
   "metadata": {},
   "outputs": [
    {
     "data": {
      "text/plain": [
       "'c'"
      ]
     },
     "execution_count": 2,
     "metadata": {},
     "output_type": "execute_result"
    }
   ],
   "source": [
    "solution(\"abcde\")"
   ]
  },
  {
   "cell_type": "code",
   "execution_count": 3,
   "id": "8d544c67-eb18-441e-88ae-09af0db0b284",
   "metadata": {},
   "outputs": [
    {
     "data": {
      "text/plain": [
       "'we'"
      ]
     },
     "execution_count": 3,
     "metadata": {},
     "output_type": "execute_result"
    }
   ],
   "source": [
    "solution(\"qwer\")"
   ]
  },
  {
   "cell_type": "code",
   "execution_count": null,
   "id": "b407d8b9-b012-4c33-88db-232d5a159b9a",
   "metadata": {},
   "outputs": [],
   "source": []
  }
 ],
 "metadata": {
  "kernelspec": {
   "display_name": "Python 3 (ipykernel)",
   "language": "python",
   "name": "python3"
  },
  "language_info": {
   "codemirror_mode": {
    "name": "ipython",
    "version": 3
   },
   "file_extension": ".py",
   "mimetype": "text/x-python",
   "name": "python",
   "nbconvert_exporter": "python",
   "pygments_lexer": "ipython3",
   "version": "3.10.6"
  }
 },
 "nbformat": 4,
 "nbformat_minor": 5
}

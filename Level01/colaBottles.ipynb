{
 "cells": [
  {
   "cell_type": "markdown",
   "id": "37fadeed-dc02-43cc-a8fe-7cac0bd16e44",
   "metadata": {},
   "source": [
    "# 콜라 문제\n",
    "## 문제 설명\n",
    "### 오래전 유행했던 콜라 문제가 있습니다. 콜라 문제의 지문은 다음과 같습니다.\n",
    "\n",
    "> 정답은 아무에게도 말하지 마세요.\n",
    ">\n",
    "> 콜라 빈 병 2개를 가져다주면 콜라 1병을 주는 마트가 있다. 빈 병 20개를 가져다주면 몇 병을 받을 수 있는가?\n",
    ">\n",
    "> 단, 보유 중인 빈 병이 2개 미만이면, 콜라를 받을 수 없다.\n",
    "\n",
    "### 문제를 풀던 상빈이는 콜라 문제의 완벽한 해답을 찾았습니다. 상빈이가 푼 방법은 아래 그림과 같습니다. 우선 콜라 빈 병 20병을 가져가서 10병을 받습니다. 받은 10병을 모두 마신 뒤, 가져가서 5병을 받습니다. 5병 중 4병을 모두 마신 뒤 가져가서 2병을 받고, 또 2병을 모두 마신 뒤 가져가서 1병을 받습니다. 받은 1병과 5병을 받았을 때 남은 1병을 모두 마신 뒤 가져가면 1병을 또 받을 수 있습니다. 이 경우 상빈이는 총 10 + 5 + 2 + 1 + 1 = 19병의 콜라를 받을 수 있습니다.\n",
    "\n",
    "<img src=\"https://grepp-programmers.s3.ap-northeast-2.amazonaws.com/files/production/95ce1c11-2f21-4248-8bfc-e330299cbb9a/image6.PNG\" width=\"30%\" height=\"30%\" alter=\"cola bottle\">\n",
    "\n",
    "### 문제를 열심히 풀던 상빈이는 일반화된 콜라 문제를 생각했습니다. 이 문제는 빈 병 a개를 가져다주면 콜라 b병을 주는 마트가 있을 때, 빈 병 n개를 가져다주면 몇 병을 받을 수 있는지 계산하는 문제입니다. 기존 콜라 문제와 마찬가지로, 보유 중인 빈 병이 a개 미만이면, 추가적으로 빈 병을 받을 순 없습니다. 상빈이는 열심히 고심했지만, 일반화된 콜라 문제의 답을 찾을 수 없었습니다. 상빈이를 도와, 일반화된 콜라 문제를 해결하는 프로그램을 만들어 주세요.\n",
    "\n",
    "### 콜라를 받기 위해 마트에 주어야 하는 병 수 a, 빈 병 a개를 가져다 주면 마트가 주는 콜라 병 수 b, 상빈이가 가지고 있는 빈 병의 개수 n이 매개변수로 주어집니다. 상빈이가 받을 수 있는 콜라의 병 수를 return 하도록 solution 함수를 작성해주세요.\n",
    "\n",
    "## 제한사항\n",
    "* 1 ≤ b < a ≤ n ≤ 1,000,000\n",
    "* 정답은 항상 int 범위를 넘지 않게 주어집니다.\n",
    "\n",
    "## 입출력 예\n",
    "|a|b|n|result|\n",
    "|-|-|-|------|\n",
    "|2|1|20|19|\n",
    "|3|1|20|9|\n",
    "## 입출력 예 설명\n",
    "## 입출력 예 #1\n",
    "\n",
    "* 본문에서 설명한 예시입니다.\n",
    "## 입출력 예 #2\n",
    "\n",
    "* 빈 병 20개 중 18개를 마트에 가져가서, 6병의 콜라를 받습니다. 이때 상빈이가 가지고 있는 콜라 병의 수는 8(20 – 18 + 6 = 8)개 입니다.\n",
    "* 빈 병 8개 중 6개를 마트에 가져가서, 2병의 콜라를 받습니다. 이때 상빈이가 가지고 있는 콜라 병의 수는 4(8 – 6 + 2 = 4)개 입니다.\n",
    "* 빈 병 4 개중 3개를 마트에 가져가서, 1병의 콜라를 받습니다. 이때 상빈이가 가지고 있는 콜라 병의 수는 2(4 – 3 + 1 = 2)개 입니다.\n",
    "* 3번의 교환 동안 상빈이는 9(6 + 2 + 1 = 9)병의 콜라를 받았습니다."
   ]
  },
  {
   "cell_type": "code",
   "execution_count": 81,
   "id": "46f80947-8e22-42c7-a3a0-41b0ab4bfc84",
   "metadata": {},
   "outputs": [],
   "source": [
    "def solution(a, b, n):\n",
    "    r = 0\n",
    "    while n >= a:\n",
    "        r += n//a*b\n",
    "        n -= (n//a)*(a-b)\n",
    "        print(f'r: {r}  n: {n}')\n",
    "    return r"
   ]
  },
  {
   "cell_type": "code",
   "execution_count": 82,
   "id": "60f9f297-f9c4-41c8-97cd-c8efa65a0267",
   "metadata": {},
   "outputs": [
    {
     "name": "stdout",
     "output_type": "stream",
     "text": [
      "r: 6  n: 8\n",
      "r: 8  n: 4\n",
      "r: 9  n: 2\n"
     ]
    },
    {
     "data": {
      "text/plain": [
       "9"
      ]
     },
     "execution_count": 82,
     "metadata": {},
     "output_type": "execute_result"
    }
   ],
   "source": [
    "solution(3,1,20)"
   ]
  },
  {
   "cell_type": "code",
   "execution_count": 83,
   "id": "ed61f549-e410-4c5a-acc3-6614c66b066d",
   "metadata": {},
   "outputs": [
    {
     "name": "stdout",
     "output_type": "stream",
     "text": [
      "r: 10  n: 10\n",
      "r: 15  n: 5\n",
      "r: 17  n: 3\n",
      "r: 18  n: 2\n",
      "r: 19  n: 1\n"
     ]
    },
    {
     "data": {
      "text/plain": [
       "19"
      ]
     },
     "execution_count": 83,
     "metadata": {},
     "output_type": "execute_result"
    }
   ],
   "source": [
    "solution(2,1,20)"
   ]
  },
  {
   "cell_type": "code",
   "execution_count": 84,
   "id": "b494eee1-b9b2-4442-a766-46af9cb3a0bf",
   "metadata": {},
   "outputs": [
    {
     "name": "stdout",
     "output_type": "stream",
     "text": [
      "r: 12  n: 14\n",
      "r: 20  n: 10\n",
      "r: 26  n: 7\n",
      "r: 30  n: 5\n",
      "r: 32  n: 4\n",
      "r: 34  n: 3\n",
      "r: 36  n: 2\n"
     ]
    },
    {
     "data": {
      "text/plain": [
       "36"
      ]
     },
     "execution_count": 84,
     "metadata": {},
     "output_type": "execute_result"
    }
   ],
   "source": [
    "solution(3,2,20)"
   ]
  },
  {
   "cell_type": "code",
   "execution_count": 85,
   "id": "2e53b2d6-37f5-4439-8ccf-59fa3e37b84d",
   "metadata": {},
   "outputs": [
    {
     "name": "stdout",
     "output_type": "stream",
     "text": [
      "r: 2  n: 2\n"
     ]
    },
    {
     "data": {
      "text/plain": [
       "2"
      ]
     },
     "execution_count": 85,
     "metadata": {},
     "output_type": "execute_result"
    }
   ],
   "source": [
    "solution(10,1,20)"
   ]
  },
  {
   "cell_type": "markdown",
   "id": "4d37b9f2-88f7-41ff-a17e-c5ae75e9fc3c",
   "metadata": {},
   "source": [
    "### case01\n",
    "### (3,2,20)\n",
    "#### 20-18+12 = 14\n",
    "#### 14-12+8 = 10\n",
    "#### 10-9+6 = 7\n",
    "#### 7-6+4 = 5\n",
    "#### 5-3+2 = 4\n",
    "#### 4-3+2 = 3\n",
    "#### 3-3+2 = 2\n"
   ]
  },
  {
   "cell_type": "code",
   "execution_count": null,
   "id": "dbd3f5ca-7cd4-4751-87d1-61055301e34b",
   "metadata": {},
   "outputs": [],
   "source": []
  }
 ],
 "metadata": {
  "kernelspec": {
   "display_name": "Python 3 (ipykernel)",
   "language": "python",
   "name": "python3"
  },
  "language_info": {
   "codemirror_mode": {
    "name": "ipython",
    "version": 3
   },
   "file_extension": ".py",
   "mimetype": "text/x-python",
   "name": "python",
   "nbconvert_exporter": "python",
   "pygments_lexer": "ipython3",
   "version": "3.10.6"
  }
 },
 "nbformat": 4,
 "nbformat_minor": 5
}

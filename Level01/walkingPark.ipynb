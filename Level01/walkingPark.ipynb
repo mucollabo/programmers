{
 "cells": [
  {
   "cell_type": "code",
   "execution_count": 2,
   "id": "53afe757-1bb0-4372-b6af-5f45b22f62c3",
   "metadata": {},
   "outputs": [
    {
     "data": {
      "text/html": [
       "<style>\n",
       "    table {float:left}\n",
       "</style>\n"
      ],
      "text/plain": [
       "<IPython.core.display.HTML object>"
      ]
     },
     "metadata": {},
     "output_type": "display_data"
    }
   ],
   "source": [
    "%%html\n",
    "<style>\n",
    "    table {float:left}\n",
    "</style>\n"
   ]
  },
  {
   "cell_type": "markdown",
   "id": "f3fe46d6-1704-4762-9489-2b4ecbde8e23",
   "metadata": {
    "tags": []
   },
   "source": [
    "## 공원 산책\n",
    "### 문제 설명\n",
    "#### 지나다니는 길을 'O', 장애물을 'X'로 나타낸 직사각형 격자 모양의 공원에서 로봇 강아지가 산책을 하려합니다. 산책은 로봇 강아지에 미리 입력된 명령에 따라 진행하며, 명령은 다음과 같은 형식으로 주어집니다.\n",
    "\n",
    "* [\"방향 거리\", \"방향 거리\" … ]\n",
    "#### 예를 들어 \"E 5\"는 로봇 강아지가 현재 위치에서 동쪽으로 5칸 이동했다는 의미입니다. 로봇 강아지는 명령을 수행하기 전에 다음 두 가지를 먼저 확인합니다.\n",
    "\n",
    "* 주어진 방향으로 이동할 때 공원을 벗어나는지 확인합니다.\n",
    "* 주어진 방향으로 이동 중 장애물을 만나는지 확인합니다.\n",
    "#### 위 두 가지중 어느 하나라도 해당된다면, 로봇 강아지는 해당 명령을 무시하고 다음 명령을 수행합니다.\n",
    "#### 공원의 가로 길이가 W, 세로 길이가 H라고 할 때, 공원의 좌측 상단의 좌표는 (0, 0), 우측 하단의 좌표는 (H - 1, W - 1) 입니다.\n",
    "\n",
    "<p align=\"center\">\n",
    "    <img src=\"https://user-images.githubusercontent.com/62426665/217702316-1bd5d3ba-c1d7-4133-bfb5-36bdc85a08ba.png\", height=\"30%\", width=\"30%\">\n",
    "</p>\n",
    "\n",
    "#### 공원을 나타내는 문자열 배열 park, 로봇 강아지가 수행할 명령이 담긴 문자열 배열 routes가 매개변수로 주어질 때, 로봇 강아지가 모든 명령을 수행 후 놓인 위치를 [세로 방향 좌표, 가로 방향 좌표] 순으로 배열에 담아 return 하도록 solution 함수를 완성해주세요.\n",
    "\n",
    "### 제한사항\n",
    "* 3 ≤ park의 길이 ≤ 50\n",
    "    * 3 ≤ park[i]의 길이 ≤ 50\n",
    "        * park[i]는 다음 문자들로 이루어져 있으며 시작지점은 하나만 주어집니다.\n",
    "            * S : 시작 지점\n",
    "            * O : 이동 가능한 통로\n",
    "            * X : 장애물\n",
    "    * park는 직사각형 모양입니다.\n",
    "* 1 ≤ routes의 길이 ≤ 50\n",
    "    * routes의 각 원소는 로봇 강아지가 수행할 명령어를 나타냅니다.\n",
    "    * 로봇 강아지는 routes의 첫 번째 원소부터 순서대로 명령을 수행합니다.\n",
    "    * routes의 원소는 \"op n\"과 같은 구조로 이루어져 있으며, op는 이동할 방향, n은 이동할 칸의 수를 의미합니다.\n",
    "        * op는 다음 네 가지중 하나로 이루어져 있습니다.\n",
    "            * N : 북쪽으로 주어진 칸만큼 이동합니다.\n",
    "            * S : 남쪽으로 주어진 칸만큼 이동합니다.\n",
    "            * W : 서쪽으로 주어진 칸만큼 이동합니다.\n",
    "            * E : 동쪽으로 주어진 칸만큼 이동합니다.\n",
    "        * 1 ≤ n ≤ 9\n",
    "### 입출력 예\n",
    "\n",
    "|park|routes|result|\n",
    "|----|------|------|\n",
    "|[\"SOO\",\"OOO\",\"OOO\"]|[\"E 2\",\"S 2\",\"W 1\"]|[2,1]|\n",
    "|[\"SOO\",\"OXX\",\"OOO\"]|[\"E 2\",\"S 2\",\"W 1\"]|[0,1]|\n",
    "|[\"OSO\",\"OOO\",\"OXO\",\"OOO\"]|[\"E 2\",\"S 3\",\"W 1\"]|[0,0]|\n",
    "\n",
    "<br/><br/><br/><br/><br/>\n",
    "\n",
    "### 입출력 예 설명\n",
    "### 입출력 예 #1\n",
    "\n",
    "#### 입력된 명령대로 동쪽으로 2칸, 남쪽으로 2칸, 서쪽으로 1칸 이동하면 [0,0] -> [0,2] -> [2,2] -> [2,1]이 됩니다.\n",
    "\n",
    "### 입출력 예 #2\n",
    "\n",
    "#### 입력된 명령대로라면 동쪽으로 2칸, 남쪽으로 2칸, 서쪽으로 1칸 이동해야하지만 남쪽으로 2칸 이동할 때 장애물이 있는 칸을 지나기 때문에 해당 명령을 제외한 명령들만 따릅니다. 결과적으로는 [0,0] -> [0,2] -> [0,1]이 됩니다.\n",
    "\n",
    "### 입출력 예 #3\n",
    "\n",
    "#### 처음 입력된 명령은 공원을 나가게 되고 두 번째로 입력된 명령 또한 장애물을 지나가게 되므로 두 입력은 제외한 세 번째 명령만 따르므로 결과는 다음과 같습니다. [0,1] -> [0,0]"
   ]
  },
  {
   "cell_type": "code",
   "execution_count": 211,
   "id": "2ae71a19-e7c1-425e-80e7-2426a289dac5",
   "metadata": {},
   "outputs": [],
   "source": [
    "def solution(park, routes):\n",
    "    for i, p in enumerate(park):\n",
    "        if p.find('S') != -1:\n",
    "            result = [i, p.find('S')]   # start point [H, W]\n",
    "    size = [i+1, len(p)]\n",
    "    print(f'start point: {result}')\n",
    "    print(f'square size: {size}')\n",
    "    for r in routes:\n",
    "        if r[0] == 'E' and (result[1] + int(r[-1])) <= size[1]-1 and :\n",
    "            result[1] += int(r[-1])\n",
    "        elif r[0] == 'S' and (result[0] + int(r[-1])) <= size[0]-1:\n",
    "            result[0] += int(r[-1])\n",
    "        elif r[0] == 'W' and (result[1] - int(r[-1])) >= 0:\n",
    "            result[1] -= int(r[-1])\n",
    "        elif r[0] == 'N' and (result[0] - int(r[-1])) >= 0:\n",
    "            result[0] -= int(r[-1])\n",
    "        \n",
    "        print(f'{r[0]} - {r[-1]}')\n",
    "        print(f'current position: ({result[0]}, {result[1]})')\n",
    "    return result"
   ]
  },
  {
   "cell_type": "code",
   "execution_count": 212,
   "id": "023e100f-b554-4ea8-b983-a1249e3dce37",
   "metadata": {},
   "outputs": [],
   "source": [
    "park = [\"SOO\",\"OOO\",\"OOO\"]\n",
    "routes = [\"E 2\",\"S 2\",\"W 1\"]"
   ]
  },
  {
   "cell_type": "code",
   "execution_count": 213,
   "id": "2c00a0ca-b325-4f0e-b9d7-5d393c15e51d",
   "metadata": {},
   "outputs": [
    {
     "name": "stdout",
     "output_type": "stream",
     "text": [
      "start point: [0, 0]\n",
      "square size: [3, 3]\n",
      "E - 2\n",
      "current position: (0, 2)\n",
      "S - 2\n",
      "current position: (2, 2)\n",
      "W - 1\n",
      "current position: (2, 1)\n"
     ]
    },
    {
     "data": {
      "text/plain": [
       "[2, 1]"
      ]
     },
     "execution_count": 213,
     "metadata": {},
     "output_type": "execute_result"
    }
   ],
   "source": [
    "solution(park, routes)"
   ]
  },
  {
   "cell_type": "code",
   "execution_count": 214,
   "id": "f64c7147-780f-477e-91e2-c1a36a2f823b",
   "metadata": {},
   "outputs": [],
   "source": [
    "park = [\"SOO\",\"OXX\",\"OOO\"]\n",
    "routes = [\"E 2\",\"S 2\",\"W 1\"]"
   ]
  },
  {
   "cell_type": "code",
   "execution_count": 215,
   "id": "1ffacc51-f83c-43e3-a209-a03b49a9cf03",
   "metadata": {},
   "outputs": [
    {
     "name": "stdout",
     "output_type": "stream",
     "text": [
      "start point: [0, 0]\n",
      "square size: [3, 3]\n",
      "E - 2\n",
      "current position: (0, 2)\n",
      "S - 2\n",
      "current position: (2, 2)\n",
      "W - 1\n",
      "current position: (2, 1)\n"
     ]
    },
    {
     "data": {
      "text/plain": [
       "[2, 1]"
      ]
     },
     "execution_count": 215,
     "metadata": {},
     "output_type": "execute_result"
    }
   ],
   "source": [
    "solution(park, routes)"
   ]
  },
  {
   "cell_type": "code",
   "execution_count": 216,
   "id": "e79b1004-4d66-4bc5-8d26-b8a87a9bdcb6",
   "metadata": {},
   "outputs": [],
   "source": [
    "park = [\"OSO\",\"OOO\",\"OXO\",\"OOO\"]\n",
    "routes = [\"E 2\",\"S 3\",\"W 1\"]"
   ]
  },
  {
   "cell_type": "code",
   "execution_count": 217,
   "id": "f24d18f6-4946-44d0-8cd0-72a73921cfbc",
   "metadata": {},
   "outputs": [
    {
     "name": "stdout",
     "output_type": "stream",
     "text": [
      "start point: [0, 1]\n",
      "square size: [4, 3]\n",
      "E - 2\n",
      "current position: (0, 1)\n",
      "S - 3\n",
      "current position: (3, 1)\n",
      "W - 1\n",
      "current position: (3, 0)\n"
     ]
    },
    {
     "data": {
      "text/plain": [
       "[3, 0]"
      ]
     },
     "execution_count": 217,
     "metadata": {},
     "output_type": "execute_result"
    }
   ],
   "source": [
    "solution(park, routes)"
   ]
  },
  {
   "cell_type": "code",
   "execution_count": null,
   "id": "2170d28d-a233-4f31-90a8-21a8a13fc652",
   "metadata": {},
   "outputs": [],
   "source": []
  }
 ],
 "metadata": {
  "kernelspec": {
   "display_name": "Python 3 (ipykernel)",
   "language": "python",
   "name": "python3"
  },
  "language_info": {
   "codemirror_mode": {
    "name": "ipython",
    "version": 3
   },
   "file_extension": ".py",
   "mimetype": "text/x-python",
   "name": "python",
   "nbconvert_exporter": "python",
   "pygments_lexer": "ipython3",
   "version": "3.10.6"
  }
 },
 "nbformat": 4,
 "nbformat_minor": 5
}

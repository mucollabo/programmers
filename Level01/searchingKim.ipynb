{
 "cells": [
  {
   "cell_type": "markdown",
   "id": "77f6fe55-890d-4a03-bbfb-2d3a04844873",
   "metadata": {},
   "source": [
    "# 서울에서 김서방 찾기\n",
    "## 문제 설명\n",
    "### String형 배열 seoul의 element중 \"Kim\"의 위치 x를 찾아, \"김서방은 x에 있다\"는 String을 반환하는 함수, solution을 완성하세요. seoul에 \"Kim\"은 오직 한 번만 나타나며 잘못된 값이 입력되는 경우는 없습니다.\n",
    "\n",
    "## 제한 사항\n",
    "* seoul은 길이 1 이상, 1000 이하인 배열입니다.\n",
    "* seoul의 원소는 길이 1 이상, 20 이하인 문자열입니다.\n",
    "* \"Kim\"은 반드시 seoul 안에 포함되어 있습니다.\n",
    "## 입출력 예\n",
    "|seoul|return|\n",
    "|-----|------|\n",
    "|[\"Jane\", \"Kim\"]|\"김서방은 1에 있다\"|"
   ]
  },
  {
   "cell_type": "code",
   "execution_count": 5,
   "id": "07cbd2b3-9132-48bb-a260-db925d720bf6",
   "metadata": {},
   "outputs": [],
   "source": [
    "def solution(seoul):\n",
    "    i = seoul.index('Kim')\n",
    "    return f'김서방은 {i}에 있다'"
   ]
  },
  {
   "cell_type": "code",
   "execution_count": 6,
   "id": "6b6ec228-6f78-40ce-9dae-6aca0349e875",
   "metadata": {},
   "outputs": [
    {
     "data": {
      "text/plain": [
       "'김서방은 1에 있다'"
      ]
     },
     "execution_count": 6,
     "metadata": {},
     "output_type": "execute_result"
    }
   ],
   "source": [
    "solution([\"Jane\", \"Kim\"])"
   ]
  },
  {
   "cell_type": "code",
   "execution_count": null,
   "id": "062da768-38dd-4461-b841-9dc1c98df367",
   "metadata": {},
   "outputs": [],
   "source": []
  }
 ],
 "metadata": {
  "kernelspec": {
   "display_name": "Python 3 (ipykernel)",
   "language": "python",
   "name": "python3"
  },
  "language_info": {
   "codemirror_mode": {
    "name": "ipython",
    "version": 3
   },
   "file_extension": ".py",
   "mimetype": "text/x-python",
   "name": "python",
   "nbconvert_exporter": "python",
   "pygments_lexer": "ipython3",
   "version": "3.10.6"
  }
 },
 "nbformat": 4,
 "nbformat_minor": 5
}

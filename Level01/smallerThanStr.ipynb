{
 "cells": [
  {
   "cell_type": "markdown",
   "id": "181f477b-5190-4d6d-a2a4-7628210bd87d",
   "metadata": {},
   "source": [
    "# 크기가 작은 부분문자열\n",
    "## 문제 설명\n",
    "### 숫자로 이루어진 문자열 t와 p가 주어질 때, t에서 p와 길이가 같은 부분문자열 중에서, 이 부분문자열이 나타내는 수가 p가 나타내는 수보다 작거나 같은 것이 나오는 횟수를 return하는 함수 solution을 완성하세요.\n",
    "\n",
    "### 예를 들어, t=\"3141592\"이고 p=\"271\" 인 경우, t의 길이가 3인 부분 문자열은 314, 141, 415, 159, 592입니다. 이 문자열이 나타내는 수 중 271보다 작거나 같은 수는 141, 159 2개 입니다.\n",
    "\n",
    "## 제한사항\n",
    "* 1 ≤ p의 길이 ≤ 18\n",
    "* p의 길이 ≤ t의 길이 ≤ 10,000\n",
    "* t와 p는 숫자로만 이루어진 문자열이며, 0으로 시작하지 않습니다.\n",
    "## 입출력 예\n",
    "|t|p|result|\n",
    "|-|-|------|\n",
    "|\"3141592\"|\"271\"|2|\n",
    "|\"500220839878\"|\"7\"|8|\n",
    "|\"10203\"|\"15\"|3|\n",
    "## 입출력 예 설명\n",
    "## 입출력 예 #1\n",
    "* 본문과 같습니다.\n",
    "\n",
    "## 입출력 예 #2\n",
    "* p의 길이가 1이므로 t의 부분문자열은 \"5\", \"0\", 0\", \"2\", \"2\", \"0\", \"8\", \"3\", \"9\", \"8\", \"7\", \"8\"이며 이중 7보다 작거나 같은 숫자는 \"5\", \"0\", \"0\", \"2\", \"2\", \"0\", \"3\", \"7\" 이렇게 8개가 있습니다.\n",
    "\n",
    "## 입출력 예 #3\n",
    "* p의 길이가 2이므로 t의 부분문자열은 \"10\", \"02\", \"20\", \"03\"이며, 이중 15보다 작거나 같은 숫자는 \"10\", \"02\", \"03\" 이렇게 3개입니다. \"02\"와 \"03\"은 각각 2, 3에 해당한다는 점에 주의하세요"
   ]
  },
  {
   "cell_type": "code",
   "execution_count": 19,
   "id": "6855117c-b84b-42aa-ac71-4e38a061f22d",
   "metadata": {},
   "outputs": [],
   "source": [
    "def solution(t, p):\n",
    "    cnt = 0\n",
    "    for i in range(0, len(t)-len(p)+1):\n",
    "        if int(t[i:i+len(p)]) <= int(p):\n",
    "            cnt += 1\n",
    "    return cnt"
   ]
  },
  {
   "cell_type": "code",
   "execution_count": 20,
   "id": "1954e062-c796-43ca-a829-42eee58c3af1",
   "metadata": {},
   "outputs": [
    {
     "data": {
      "text/plain": [
       "2"
      ]
     },
     "execution_count": 20,
     "metadata": {},
     "output_type": "execute_result"
    }
   ],
   "source": [
    "solution(\"3141592\", \"271\")"
   ]
  },
  {
   "cell_type": "code",
   "execution_count": 21,
   "id": "c97d1eeb-8a3d-442d-84a3-c1504e20c67c",
   "metadata": {},
   "outputs": [
    {
     "data": {
      "text/plain": [
       "8"
      ]
     },
     "execution_count": 21,
     "metadata": {},
     "output_type": "execute_result"
    }
   ],
   "source": [
    "solution(\"500220839878\", \"7\")"
   ]
  },
  {
   "cell_type": "code",
   "execution_count": 22,
   "id": "c35858bd-9825-4c47-a46a-abe8d45f3fcb",
   "metadata": {},
   "outputs": [
    {
     "data": {
      "text/plain": [
       "3"
      ]
     },
     "execution_count": 22,
     "metadata": {},
     "output_type": "execute_result"
    }
   ],
   "source": [
    "solution(\"10203\", \"15\")"
   ]
  },
  {
   "cell_type": "code",
   "execution_count": 34,
   "id": "32809c7f-3739-4aa2-b78c-71061d6c0d56",
   "metadata": {},
   "outputs": [],
   "source": [
    "def solution2(t, p):\n",
    "    return len(list(filter(lambda x: x <= int(p), [int(t[i:i+len(p)]) for i in range(0, len(t)-len(p)+1)])))"
   ]
  },
  {
   "cell_type": "code",
   "execution_count": 35,
   "id": "8b1a170c-4894-4964-ab9d-2bdf6b477e17",
   "metadata": {},
   "outputs": [
    {
     "data": {
      "text/plain": [
       "2"
      ]
     },
     "execution_count": 35,
     "metadata": {},
     "output_type": "execute_result"
    }
   ],
   "source": [
    "solution2(\"3141592\", \"271\")"
   ]
  },
  {
   "cell_type": "code",
   "execution_count": 36,
   "id": "b5be166b-cf48-45b2-a25c-8fa4177b6a84",
   "metadata": {},
   "outputs": [
    {
     "data": {
      "text/plain": [
       "8"
      ]
     },
     "execution_count": 36,
     "metadata": {},
     "output_type": "execute_result"
    }
   ],
   "source": [
    "solution2(\"500220839878\", \"7\")"
   ]
  },
  {
   "cell_type": "code",
   "execution_count": 37,
   "id": "e73b7a5e-e416-453d-832f-c4e9365c83e2",
   "metadata": {},
   "outputs": [
    {
     "data": {
      "text/plain": [
       "3"
      ]
     },
     "execution_count": 37,
     "metadata": {},
     "output_type": "execute_result"
    }
   ],
   "source": [
    "solution2(\"10203\", \"15\")"
   ]
  },
  {
   "cell_type": "code",
   "execution_count": null,
   "id": "1c9214c0-e73f-4aa6-b417-ee3886e410d0",
   "metadata": {},
   "outputs": [],
   "source": []
  }
 ],
 "metadata": {
  "kernelspec": {
   "display_name": "Python 3 (ipykernel)",
   "language": "python",
   "name": "python3"
  },
  "language_info": {
   "codemirror_mode": {
    "name": "ipython",
    "version": 3
   },
   "file_extension": ".py",
   "mimetype": "text/x-python",
   "name": "python",
   "nbconvert_exporter": "python",
   "pygments_lexer": "ipython3",
   "version": "3.10.6"
  }
 },
 "nbformat": 4,
 "nbformat_minor": 5
}

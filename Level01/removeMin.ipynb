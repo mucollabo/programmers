{
 "cells": [
  {
   "cell_type": "markdown",
   "id": "4a5f5786-93a4-4ad3-99dd-eb830f8ea78a",
   "metadata": {},
   "source": [
    "# 제일 작은 수 제거하기\n",
    "## 문제 설명\n",
    "### 정수를 저장한 배열, arr 에서 가장 작은 수를 제거한 배열을 리턴하는 함수, solution을 완성해주세요. 단, 리턴하려는 배열이 빈 배열인 경우엔 배열에 -1을 채워 리턴하세요. 예를들어 arr이 [4,3,2,1]인 경우는 [4,3,2]를 리턴 하고, [10]면 [-1]을 리턴 합니다.\n",
    "\n",
    "## 제한 조건\n",
    "* arr은 길이 1 이상인 배열입니다.\n",
    "* 인덱스 i, j에 대해 i ≠ j이면 arr[i] ≠ arr[j] 입니다.\n",
    "## 입출력 예\n",
    "|arr|return|\n",
    "|---|------|\n",
    "|[4,3,2,1]|[4,3,2]|\n",
    "|[10]|[-1]|"
   ]
  },
  {
   "cell_type": "code",
   "execution_count": 12,
   "id": "35def6e3-11d1-462a-8ab9-3b12e412f361",
   "metadata": {},
   "outputs": [],
   "source": [
    "def solution(arr):\n",
    "    arr.remove(min(arr))\n",
    "    return arr or [-1]"
   ]
  },
  {
   "cell_type": "code",
   "execution_count": 13,
   "id": "15bae024-a89a-4875-89af-6a84f5fa5890",
   "metadata": {},
   "outputs": [
    {
     "data": {
      "text/plain": [
       "[4, 3, 2]"
      ]
     },
     "execution_count": 13,
     "metadata": {},
     "output_type": "execute_result"
    }
   ],
   "source": [
    "solution([4,3,2,1])"
   ]
  },
  {
   "cell_type": "code",
   "execution_count": 14,
   "id": "0c4b41ae-df33-4f88-90be-47ea59e1d644",
   "metadata": {},
   "outputs": [
    {
     "data": {
      "text/plain": [
       "[-1]"
      ]
     },
     "execution_count": 14,
     "metadata": {},
     "output_type": "execute_result"
    }
   ],
   "source": [
    "solution([10])"
   ]
  },
  {
   "cell_type": "code",
   "execution_count": null,
   "id": "23d66940-f201-4dfa-8019-7defdb04d88d",
   "metadata": {},
   "outputs": [],
   "source": []
  }
 ],
 "metadata": {
  "kernelspec": {
   "display_name": "Python 3 (ipykernel)",
   "language": "python",
   "name": "python3"
  },
  "language_info": {
   "codemirror_mode": {
    "name": "ipython",
    "version": 3
   },
   "file_extension": ".py",
   "mimetype": "text/x-python",
   "name": "python",
   "nbconvert_exporter": "python",
   "pygments_lexer": "ipython3",
   "version": "3.10.6"
  }
 },
 "nbformat": 4,
 "nbformat_minor": 5
}

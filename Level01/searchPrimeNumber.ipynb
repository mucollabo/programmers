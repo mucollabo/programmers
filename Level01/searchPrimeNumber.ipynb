{
 "cells": [
  {
   "cell_type": "markdown",
   "id": "ce863d8c-7249-4d26-bf54-68a27fef51c7",
   "metadata": {},
   "source": [
    "# 소수 찾기\n",
    "## 문제 설명\n",
    "### 1부터 입력받은 숫자 n 사이에 있는 소수의 개수를 반환하는 함수, solution을 만들어 보세요.\n",
    "\n",
    "### 소수는 1과 자기 자신으로만 나누어지는 수를 의미합니다.\n",
    "### (1은 소수가 아닙니다.)\n",
    "\n",
    "## 제한 조건\n",
    "* n은 2이상 1000000이하의 자연수입니다.\n",
    "## 입출력 예\n",
    "|n|result|\n",
    "|-|------|\n",
    "|10|4|\n",
    "|5|3|\n",
    "## 입출력 예 설명\n",
    "## 입출력 예 #1\n",
    "### 1부터 10 사이의 소수는 [2,3,5,7] 4개가 존재하므로 4를 반환\n",
    "\n",
    "## 입출력 예 #2\n",
    "### 1부터 5 사이의 소수는 [2,3,5] 3개가 존재하므로 3를 반환"
   ]
  },
  {
   "cell_type": "code",
   "execution_count": 15,
   "id": "3a38428f-4c5b-4c97-921d-d926490af132",
   "metadata": {},
   "outputs": [],
   "source": [
    "from math import sqrt\n",
    "\n",
    "def solution(n):\n",
    "    pm = []\n",
    "    def prim_num(i):\n",
    "        for j in range(2, int(sqrt(i)+1)):\n",
    "            if i%j == 0:\n",
    "                return\n",
    "        return pm.append(i)\n",
    "    for i in range(2, n+1):\n",
    "        prim_num(i)\n",
    "    return len(pm)"
   ]
  },
  {
   "cell_type": "code",
   "execution_count": 16,
   "id": "6e6ebfec-514f-4fe2-b965-a561e94eca66",
   "metadata": {},
   "outputs": [
    {
     "data": {
      "text/plain": [
       "4"
      ]
     },
     "execution_count": 16,
     "metadata": {},
     "output_type": "execute_result"
    }
   ],
   "source": [
    "solution(10)"
   ]
  },
  {
   "cell_type": "code",
   "execution_count": 17,
   "id": "4bac4562-8b62-4769-9953-783b9772e130",
   "metadata": {},
   "outputs": [
    {
     "data": {
      "text/plain": [
       "3"
      ]
     },
     "execution_count": 17,
     "metadata": {},
     "output_type": "execute_result"
    }
   ],
   "source": [
    "solution(5)"
   ]
  },
  {
   "cell_type": "code",
   "execution_count": null,
   "id": "f23ef2f6-8532-479c-a753-a3a7bf28a5d3",
   "metadata": {},
   "outputs": [],
   "source": []
  }
 ],
 "metadata": {
  "kernelspec": {
   "display_name": "Python 3 (ipykernel)",
   "language": "python",
   "name": "python3"
  },
  "language_info": {
   "codemirror_mode": {
    "name": "ipython",
    "version": 3
   },
   "file_extension": ".py",
   "mimetype": "text/x-python",
   "name": "python",
   "nbconvert_exporter": "python",
   "pygments_lexer": "ipython3",
   "version": "3.10.6"
  }
 },
 "nbformat": 4,
 "nbformat_minor": 5
}

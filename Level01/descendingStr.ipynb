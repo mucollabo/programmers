{
 "cells": [
  {
   "cell_type": "markdown",
   "id": "663357ec-91e5-463f-83b7-5b709bd6772b",
   "metadata": {},
   "source": [
    "# 문자열 내림차순으로 배치하기\n",
    "## 문제 설명\n",
    "### 문자열 s에 나타나는 문자를 큰것부터 작은 순으로 정렬해 새로운 문자열을 리턴하는 함수, solution을 완성해주세요.\n",
    "### s는 영문 대소문자로만 구성되어 있으며, 대문자는 소문자보다 작은 것으로 간주합니다.\n",
    "\n",
    "## 제한 사항\n",
    "* str은 길이 1 이상인 문자열입니다.\n",
    "## 입출력 예\n",
    "|s|return|\n",
    "|-|------|\n",
    "|\"Zbcdefg\"|\"gfedcbZ\"|"
   ]
  },
  {
   "cell_type": "code",
   "execution_count": 5,
   "id": "ef9007f6-d84f-4d14-994c-6f5d469f98ea",
   "metadata": {},
   "outputs": [],
   "source": [
    "def solution(s):\n",
    "    return ''.join(sorted(s, reverse=True))"
   ]
  },
  {
   "cell_type": "code",
   "execution_count": 6,
   "id": "b9a0506c-7536-411b-8f67-748f04470f04",
   "metadata": {},
   "outputs": [
    {
     "data": {
      "text/plain": [
       "'gfedcbZ'"
      ]
     },
     "execution_count": 6,
     "metadata": {},
     "output_type": "execute_result"
    }
   ],
   "source": [
    "solution(\"Zbcdefg\")"
   ]
  },
  {
   "cell_type": "code",
   "execution_count": null,
   "id": "dae7858d-3d70-4ddd-8426-8a0f6765fcef",
   "metadata": {},
   "outputs": [],
   "source": []
  }
 ],
 "metadata": {
  "kernelspec": {
   "display_name": "Python 3 (ipykernel)",
   "language": "python",
   "name": "python3"
  },
  "language_info": {
   "codemirror_mode": {
    "name": "ipython",
    "version": 3
   },
   "file_extension": ".py",
   "mimetype": "text/x-python",
   "name": "python",
   "nbconvert_exporter": "python",
   "pygments_lexer": "ipython3",
   "version": "3.10.6"
  }
 },
 "nbformat": 4,
 "nbformat_minor": 5
}

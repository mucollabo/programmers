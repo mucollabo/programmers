{
 "cells": [
  {
   "cell_type": "markdown",
   "id": "ba8435d5-9ab1-44d8-bdd2-9393908d872b",
   "metadata": {},
   "source": [
    "# 수박수박수박수박수박수?\n",
    "## 문제 설명\n",
    "### 길이가 n이고, \"수박수박수박수....\"와 같은 패턴을 유지하는 문자열을 리턴하는 함수, solution을 완성하세요. 예를들어 n이 4이면 \"수박수박\"을 리턴하고 3이라면 \"수박수\"를 리턴하면 됩니다.\n",
    "\n",
    "## 제한 조건\n",
    "* n은 길이 10,000이하인 자연수입니다.\n",
    "## 입출력 예\n",
    "|n|return|\n",
    "|-|------|\n",
    "|3|\"수박수\"|\n",
    "|4|\"수박수박\"|"
   ]
  },
  {
   "cell_type": "code",
   "execution_count": 4,
   "id": "d5c0e3ea-7068-4410-bc3d-a36255c1b5b6",
   "metadata": {},
   "outputs": [],
   "source": [
    "def solution(n):\n",
    "    r = ''\n",
    "    for i in range(n):\n",
    "        if i%2 == 0:\n",
    "            r += '수'\n",
    "        else:\n",
    "            r += '박'\n",
    "    return r"
   ]
  },
  {
   "cell_type": "code",
   "execution_count": 5,
   "id": "a7f0db4a-73bd-4bc9-a0f3-f04a9fb30a3f",
   "metadata": {},
   "outputs": [
    {
     "data": {
      "text/plain": [
       "'수박수'"
      ]
     },
     "execution_count": 5,
     "metadata": {},
     "output_type": "execute_result"
    }
   ],
   "source": [
    "solution(3)"
   ]
  },
  {
   "cell_type": "code",
   "execution_count": 6,
   "id": "7b206e0f-52de-43b6-80bf-deabd7e45251",
   "metadata": {},
   "outputs": [
    {
     "data": {
      "text/plain": [
       "'수박수박'"
      ]
     },
     "execution_count": 6,
     "metadata": {},
     "output_type": "execute_result"
    }
   ],
   "source": [
    "solution(4)"
   ]
  },
  {
   "cell_type": "code",
   "execution_count": 7,
   "id": "072a48f4-1b0a-4369-8928-dad5094257ef",
   "metadata": {},
   "outputs": [
    {
     "data": {
      "text/plain": [
       "'수'"
      ]
     },
     "execution_count": 7,
     "metadata": {},
     "output_type": "execute_result"
    }
   ],
   "source": [
    "solution(1)"
   ]
  },
  {
   "cell_type": "code",
   "execution_count": 8,
   "id": "2af680c2-102f-4eda-98d3-039332c47f58",
   "metadata": {},
   "outputs": [
    {
     "data": {
      "text/plain": [
       "''"
      ]
     },
     "execution_count": 8,
     "metadata": {},
     "output_type": "execute_result"
    }
   ],
   "source": [
    "solution(0)"
   ]
  },
  {
   "cell_type": "code",
   "execution_count": 9,
   "id": "142738ac-2436-48b6-b290-e8004210a35b",
   "metadata": {},
   "outputs": [
    {
     "data": {
      "text/plain": [
       "'수박수박수박수박수박수박수박수박수박수박수박수'"
      ]
     },
     "execution_count": 9,
     "metadata": {},
     "output_type": "execute_result"
    }
   ],
   "source": [
    "solution(23)"
   ]
  },
  {
   "cell_type": "code",
   "execution_count": null,
   "id": "6ef85cc8-b6a3-45b7-92b1-321f7844d7c7",
   "metadata": {},
   "outputs": [],
   "source": []
  }
 ],
 "metadata": {
  "kernelspec": {
   "display_name": "Python 3 (ipykernel)",
   "language": "python",
   "name": "python3"
  },
  "language_info": {
   "codemirror_mode": {
    "name": "ipython",
    "version": 3
   },
   "file_extension": ".py",
   "mimetype": "text/x-python",
   "name": "python",
   "nbconvert_exporter": "python",
   "pygments_lexer": "ipython3",
   "version": "3.10.6"
  }
 },
 "nbformat": 4,
 "nbformat_minor": 5
}

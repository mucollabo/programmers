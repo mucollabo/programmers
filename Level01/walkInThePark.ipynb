{
 "cells": [
  {
   "cell_type": "markdown",
   "id": "c21a76d0-8b8b-4d02-a18f-b7284dee590a",
   "metadata": {},
   "source": [
    "## 공원 산책\n",
    "### 문제 설명\n",
    "지나다니는 길을 'O', 장애물을 'X'로 나타낸 직사각형 격자 모양의 공원에서 로봇 강아지가 산책을 하려합니다. 산책은 로봇 강아지에 미리 입력된 명령에 따라 진행하며, 명령은 다음과 같은 형식으로 주어집니다.\n",
    "\n",
    "* [\"방향 거리\", \"방향 거리\" … ]\n",
    "\n",
    "예를 들어 \"E 5\"는 로봇 강아지가 현재 위치에서 동쪽으로 5칸 이동했다는 의미입니다. 로봇 강아지는 명령을 수행하기 전에 다음 두 가지를 먼저 확인합니다.\n",
    "\n",
    "* 주어진 방향으로 이동할 때 공원을 벗어나는지 확인합니다.\n",
    "* 주어진 방향으로 이동 중 장애물을 만나는지 확인합니다.\n",
    "\n",
    "위 두 가지중 어느 하나라도 해당된다면, 로봇 강아지는 해당 명령을 무시하고 다음 명령을 수행합니다.\n",
    "공원의 가로 길이가 W, 세로 길이가 H라고 할 때, 공원의 좌측 상단의 좌표는 (0, 0), 우측 하단의 좌표는 (H - 1, W - 1) 입니다.\n",
    "\n",
    "![image](https://user-images.githubusercontent.com/62426665/217702316-1bd5d3ba-c1d7-4133-bfb5-36bdc85a08ba.png)\n",
    "\n",
    "공원을 나타내는 문자열 배열 park, 로봇 강아지가 수행할 명령이 담긴 문자열 배열 routes가 매개변수로 주어질 때, 로봇 강아지가 모든 명령을 수행 후 놓인 위치를 [세로 방향 좌표, 가로 방향 좌표] 순으로 배열에 담아 return 하도록 solution 함수를 완성해주세요.\n",
    "\n",
    "### 제한사항\n",
    "* 3 ≤ park의 길이 ≤ 50\n",
    "  * 3 ≤ park[i]의 길이 ≤ 50\n",
    "    * park[i]는 다음 문자들로 이루어져 있으며 시작지점은 하나만 주어집니다.\n",
    "      * S : 시작 지점\n",
    "      * O : 이동 가능한 통로\n",
    "      * X : 장애물\n",
    "    * park는 직사각형 모양입니다.\n",
    "* 1 ≤ routes의 길이 ≤ 50\n",
    "  * routes의 각 원소는 로봇 강아지가 수행할 명령어를 나타냅니다.\n",
    "  * 로봇 강아지는 routes의 첫 번째 원소부터 순서대로 명령을 수행합니다.\n",
    "  * routes의 원소는 \"op n\"과 같은 구조로 이루어져 있으며, op는 이동할 방향, n은 이동할 칸의 수를 의미합니다.\n",
    "    * op는 다음 네 가지중 하나로 이루어져 있습니다.\n",
    "      * N : 북쪽으로 주어진 칸만큼 이동합니다.\n",
    "      * S : 남쪽으로 주어진 칸만큼 이동합니다.\n",
    "      * W : 서쪽으로 주어진 칸만큼 이동합니다.\n",
    "      * E : 동쪽으로 주어진 칸만큼 이동합니다.\n",
    "    * 1 ≤ n ≤ 9\n",
    "### 입출력 예\n",
    "|park|routes|result|\n",
    "|----|------|------|\n",
    "|[\"SOO\",\"OOO\",\"OOO\"]|[\"E 2\",\"S 2\",\"W 1\"]|[2,1]|\n",
    "|[\"SOO\",\"OXX\",\"OOO\"]|[\"E 2\",\"S 2\",\"W 1\"]|[0,1]|\n",
    "|[\"OSO\",\"OOO\",\"OXO\",\"OOO\"]|[\"E 2\",\"S 3\",\"W 1\"]|[0,0]|\n",
    "### 입출력 예 설명\n",
    "#### 입출력 예 #1\n",
    "\n",
    "입력된 명령대로 동쪽으로 2칸, 남쪽으로 2칸, 서쪽으로 1칸 이동하면 [0,0] -> [0,2] -> [2,2] -> [2,1]이 됩니다.\n",
    "\n",
    "#### 입출력 예 #2\n",
    "\n",
    "입력된 명령대로라면 동쪽으로 2칸, 남쪽으로 2칸, 서쪽으로 1칸 이동해야하지만 남쪽으로 2칸 이동할 때 장애물이 있는 칸을 지나기 때문에 해당 명령을 제외한 명령들만 따릅니다. 결과적으로는 [0,0] -> [0,2] -> [0,1]이 됩니다.\n",
    "\n",
    "#### 입출력 예 #3\n",
    "\n",
    "처음 입력된 명령은 공원을 나가게 되고 두 번째로 입력된 명령 또한 장애물을 지나가게 되므로 두 입력은 제외한 세 번째 명령만 따르므로 결과는 다음과 같습니다. [0,1] -> [0,0]"
   ]
  },
  {
   "cell_type": "code",
   "execution_count": 133,
   "id": "37de1903-02e8-4592-a358-665c41b687f1",
   "metadata": {},
   "outputs": [],
   "source": [
    "def solution(park, routes):\n",
    "    for index, p in enumerate(park):\n",
    "        if 'S' in p:\n",
    "            result = [index, p.index('S')]\n",
    "    print('start: ', result)\n",
    "    for r in routes:\n",
    "        r = r.split(' ')\n",
    "        print(r, type(r))\n",
    "        cnt = [0, 0]\n",
    "        if r[0] == 'E' and (result[1] + int(r[-1])) < len(park[0]):\n",
    "            print('E OK')\n",
    "            \n",
    "            for i in range(1, int(r[-1])+1):\n",
    "                print('i: ', i)\n",
    "                if park[result[0]][result[1]+i] == 'X':\n",
    "                    cnt = [0, 0]\n",
    "                    print('break!!')\n",
    "                    break\n",
    "                else:\n",
    "                    cnt[1] += 1\n",
    "                    print('cnt after E: ', cnt)\n",
    "            \n",
    "        elif r[0] == 'W' and (result[1] - int(r[-1])) >= 0:\n",
    "            print('W OK')\n",
    "            for i in range(1, int(r[-1])+1):\n",
    "                if park[result[0]][result[1]-i] == 'X':\n",
    "                    cnt = [0, 0]\n",
    "                    break\n",
    "                else:\n",
    "                    cnt[1] -= 1\n",
    "                    print('cnt after W: ', cnt)\n",
    "                    \n",
    "        elif r[0] == 'S' and (result[0] + int(r[-1])) < len(park):\n",
    "            print('S OK')\n",
    "            for i in range(1, int(r[-1])+1):\n",
    "                if park[result[0]+i][result[1]] == 'X':\n",
    "                    cnt = [0, 0]\n",
    "                    break\n",
    "                else:\n",
    "                    cnt[0] += 1\n",
    "                    print('cnt after S: ', cnt)\n",
    "                    \n",
    "        elif r[0] == 'N' and (result[0] - int(r[-1])) >= 0:\n",
    "            print('N OK')\n",
    "            for i in range(1, int(r[-1])+1):\n",
    "                if park[result[0]-i][result[1]] == 'X':\n",
    "                    cnt = [0, 0]\n",
    "                    break\n",
    "                else:\n",
    "                    cnt[0] -= 1\n",
    "                    print('cnt after N: ', cnt)\n",
    "        result[0], result[1] = result[0] + cnt[0],  result[1] + cnt[1]\n",
    "        print('result after order: ', result)\n",
    "    return result"
   ]
  },
  {
   "cell_type": "code",
   "execution_count": 134,
   "id": "1452468c-73c3-4940-b225-12458d12f5fe",
   "metadata": {},
   "outputs": [
    {
     "name": "stdout",
     "output_type": "stream",
     "text": [
      "start:  [0, 0]\n",
      "['E', '2'] <class 'list'>\n",
      "E OK\n",
      "i:  1\n",
      "cnt after E:  [0, 1]\n",
      "i:  2\n",
      "cnt after E:  [0, 2]\n",
      "result after order:  [0, 2]\n",
      "['S', '2'] <class 'list'>\n",
      "S OK\n",
      "cnt after S:  [1, 0]\n",
      "cnt after S:  [2, 0]\n",
      "result after order:  [2, 2]\n",
      "['W', '1'] <class 'list'>\n",
      "W OK\n",
      "cnt after W:  [0, -1]\n",
      "result after order:  [2, 1]\n"
     ]
    },
    {
     "data": {
      "text/plain": [
       "[2, 1]"
      ]
     },
     "execution_count": 134,
     "metadata": {},
     "output_type": "execute_result"
    }
   ],
   "source": [
    "solution([\"SOO\",\"OOO\",\"OOO\"], [\"E 2\",\"S 2\",\"W 1\"])"
   ]
  },
  {
   "cell_type": "code",
   "execution_count": 135,
   "id": "78fa53f9-a98c-43b6-8ab6-61edfea4281f",
   "metadata": {},
   "outputs": [
    {
     "name": "stdout",
     "output_type": "stream",
     "text": [
      "start:  [0, 0]\n",
      "['E', '2'] <class 'list'>\n",
      "E OK\n",
      "i:  1\n",
      "cnt after E:  [0, 1]\n",
      "i:  2\n",
      "cnt after E:  [0, 2]\n",
      "result after order:  [0, 2]\n",
      "['S', '2'] <class 'list'>\n",
      "S OK\n",
      "result after order:  [0, 2]\n",
      "['W', '1'] <class 'list'>\n",
      "W OK\n",
      "cnt after W:  [0, -1]\n",
      "result after order:  [0, 1]\n"
     ]
    },
    {
     "data": {
      "text/plain": [
       "[0, 1]"
      ]
     },
     "execution_count": 135,
     "metadata": {},
     "output_type": "execute_result"
    }
   ],
   "source": [
    "solution([\"SOO\",\"OXX\",\"OOO\"], [\"E 2\",\"S 2\",\"W 1\"])"
   ]
  },
  {
   "cell_type": "code",
   "execution_count": 136,
   "id": "f90f0e14-629f-42c2-bb4e-f66dd9a1b07e",
   "metadata": {},
   "outputs": [
    {
     "name": "stdout",
     "output_type": "stream",
     "text": [
      "start:  [0, 1]\n",
      "['E', '2'] <class 'list'>\n",
      "result after order:  [0, 1]\n",
      "['S', '3'] <class 'list'>\n",
      "S OK\n",
      "cnt after S:  [1, 0]\n",
      "result after order:  [0, 1]\n",
      "['W', '1'] <class 'list'>\n",
      "W OK\n",
      "cnt after W:  [0, -1]\n",
      "result after order:  [0, 0]\n"
     ]
    },
    {
     "data": {
      "text/plain": [
       "[0, 0]"
      ]
     },
     "execution_count": 136,
     "metadata": {},
     "output_type": "execute_result"
    }
   ],
   "source": [
    "solution([\"OSO\",\"OOO\",\"OXO\",\"OOO\"], [\"E 2\",\"S 3\",\"W 1\"])"
   ]
  },
  {
   "cell_type": "code",
   "execution_count": 140,
   "id": "f0c46555-42b7-4b3a-842b-5194d946ba6c",
   "metadata": {},
   "outputs": [],
   "source": [
    "def solution(park, routes):\n",
    "    for index, p in enumerate(park):\n",
    "        if 'S' in p:\n",
    "            result = [index, p.index('S')]\n",
    "    for r in routes:\n",
    "        r = r.split(' ')\n",
    "        cnt = [0, 0]\n",
    "        \n",
    "        if r[0] == 'E' and (result[1] + int(r[-1])) < len(park[0]):\n",
    "            for i in range(1, int(r[-1])+1):\n",
    "                if park[result[0]][result[1]+i] == 'X':\n",
    "                    cnt = [0, 0]\n",
    "                    break\n",
    "                else:\n",
    "                    cnt[1] += 1\n",
    "            \n",
    "        elif r[0] == 'W' and (result[1] - int(r[-1])) >= 0:\n",
    "            for i in range(1, int(r[-1])+1):\n",
    "                if park[result[0]][result[1]-i] == 'X':\n",
    "                    cnt = [0, 0]\n",
    "                    break\n",
    "                else:\n",
    "                    cnt[1] -= 1\n",
    "                    \n",
    "        elif r[0] == 'S' and (result[0] + int(r[-1])) < len(park):\n",
    "            for i in range(1, int(r[-1])+1):\n",
    "                if park[result[0]+i][result[1]] == 'X':\n",
    "                    cnt = [0, 0]\n",
    "                    break\n",
    "                else:\n",
    "                    cnt[0] += 1\n",
    "                    \n",
    "        elif r[0] == 'N' and (result[0] - int(r[-1])) >= 0:\n",
    "            for i in range(1, int(r[-1])+1):\n",
    "                if park[result[0]-i][result[1]] == 'X':\n",
    "                    cnt = [0, 0]\n",
    "                    break\n",
    "                else:\n",
    "                    cnt[0] -= 1\n",
    "        result[0], result[1] = result[0] + cnt[0],  result[1] + cnt[1]\n",
    "        \n",
    "    return result"
   ]
  },
  {
   "cell_type": "code",
   "execution_count": 141,
   "id": "a8cbc236-4141-4d61-94f8-641fb961d21e",
   "metadata": {},
   "outputs": [
    {
     "data": {
      "text/plain": [
       "[0, 0]"
      ]
     },
     "execution_count": 141,
     "metadata": {},
     "output_type": "execute_result"
    }
   ],
   "source": [
    "solution([\"SXO\", \"XOO\", \"OOO\"], [\"E 2\", \"S 2\", \"W 1\"])"
   ]
  },
  {
   "cell_type": "code",
   "execution_count": 142,
   "id": "06b36c61-bd3a-4ce5-ac01-ec9f6f2cf9e2",
   "metadata": {},
   "outputs": [
    {
     "data": {
      "text/plain": [
       "[0, 10]"
      ]
     },
     "execution_count": 142,
     "metadata": {},
     "output_type": "execute_result"
    }
   ],
   "source": [
    "solution( [\"SOOOOOOOOOOOOOO\", \"OOOOOOOOOOOOOOO\", \"OOOOOOOOOOOOOOO\", \"OOOOOOOOOOOOOOO\", \"OOOOOOOOOOOOOOO\"], [\"E 10\", \"E 14\"])"
   ]
  },
  {
   "cell_type": "code",
   "execution_count": 143,
   "id": "b04831b1-9539-40c4-8865-5135f22a68c9",
   "metadata": {},
   "outputs": [
    {
     "data": {
      "text/plain": [
       "[1, 1]"
      ]
     },
     "execution_count": 143,
     "metadata": {},
     "output_type": "execute_result"
    }
   ],
   "source": [
    "solution([\"XXX\", \"XSX\", \"XXX\"], [\"E 2\", \"S 3\", \"W 1\"])"
   ]
  }
 ],
 "metadata": {
  "kernelspec": {
   "display_name": "Python 3 (ipykernel)",
   "language": "python",
   "name": "python3"
  },
  "language_info": {
   "codemirror_mode": {
    "name": "ipython",
    "version": 3
   },
   "file_extension": ".py",
   "mimetype": "text/x-python",
   "name": "python",
   "nbconvert_exporter": "python",
   "pygments_lexer": "ipython3",
   "version": "3.11.6"
  }
 },
 "nbformat": 4,
 "nbformat_minor": 5
}

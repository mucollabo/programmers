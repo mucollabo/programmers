{
 "cells": [
  {
   "cell_type": "markdown",
   "id": "8ab4c611-cb8d-48cf-8a34-f383223ac694",
   "metadata": {},
   "source": [
    "## 대충 만든 자판\n",
    "### 문제 설명\n",
    "#### 휴대폰의 자판은 컴퓨터 키보드 자판과는 다르게 하나의 키에 여러 개의 문자가 할당될 수 있습니다. 키 하나에 여러 문자가 할당된 경우, 동일한 키를 연속해서 빠르게 누르면 할당된 순서대로 문자가 바뀝니다.\n",
    "\n",
    "#### 예를 들어, 1번 키에 \"A\", \"B\", \"C\" 순서대로 문자가 할당되어 있다면 1번 키를 한 번 누르면 \"A\", 두 번 누르면 \"B\", 세 번 누르면 \"C\"가 되는 식입니다.\n",
    "\n",
    "#### 같은 규칙을 적용해 아무렇게나 만든 휴대폰 자판이 있습니다. 이 휴대폰 자판은 키의 개수가 1개부터 최대 100개까지 있을 수 있으며, 특정 키를 눌렀을 때 입력되는 문자들도 무작위로 배열되어 있습니다. 또, 같은 문자가 자판 전체에 여러 번 할당된 경우도 있고, 키 하나에 같은 문자가 여러 번 할당된 경우도 있습니다. 심지어 아예 할당되지 않은 경우도 있습니다. 따라서 몇몇 문자열은 작성할 수 없을 수도 있습니다.\n",
    "\n",
    "#### 이 휴대폰 자판을 이용해 특정 문자열을 작성할 때, 키를 최소 몇 번 눌러야 그 문자열을 작성할 수 있는지 알아보고자 합니다.\n",
    "\n",
    "#### 1번 키부터 차례대로 할당된 문자들이 순서대로 담긴 문자열배열 keymap과 입력하려는 문자열들이 담긴 문자열 배열 targets가 주어질 때, 각 문자열을 작성하기 위해 키를 최소 몇 번씩 눌러야 하는지 순서대로 배열에 담아 return 하는 solution 함수를 완성해 주세요.\n",
    "\n",
    "#### 단, 목표 문자열을 작성할 수 없을 때는 -1을 저장합니다.\n",
    "\n",
    "### 제한사항\n",
    "* 1 ≤ keymap의 길이 ≤ 100\n",
    "  * 1 ≤ keymap의 원소의 길이 ≤ 100\n",
    "  * keymap[i]는 i + 1번 키를 눌렀을 때 순서대로 바뀌는 문자를 의미합니다.\n",
    "    * 예를 들어 keymap[0] = \"ABACD\" 인 경우 1번 키를 한 번 누르면 A, 두 번 누르면 B, 세 번 누르면 A 가 됩니다.\n",
    "  * keymap의 원소의 길이는 서로 다를 수 있습니다.\n",
    "  * keymap의 원소는 알파벳 대문자로만 이루어져 있습니다.\n",
    "* 1 ≤ targets의 길이 ≤ 100\n",
    "  * 1 ≤ targets의 원소의 길이 ≤ 100\n",
    "  * targets의 원소는 알파벳 대문자로만 이루어져 있습니다.\n",
    "### 입출력 예\n",
    "|keymap|targets|result|\n",
    "|------|-------|------|\n",
    "|[\"ABACD\", \"BCEFD\"]|[\"ABCD\",\"AABB\"]|[9, 4]|\n",
    "|[\"AA\"]|[\"B\"]|[-1]|\n",
    "|[\"AGZ\", \"BSSS\"]|[\"ASA\",\"BGZ\"]|[4, 6]|\n",
    "### 입출력 예 설명\n",
    "#### 입출력 예 #1\n",
    "\n",
    "* \"ABCD\"의 경우,\n",
    "* 1번 키 한 번 → A\n",
    "* 2번 키 한 번 → B\n",
    "* 2번 키 두 번 → C\n",
    "* 1번 키 다섯 번 → D\n",
    "* 따라서 총합인 9를 첫 번째 인덱스에 저장합니다.\n",
    "* \"AABB\"의 경우,\n",
    "* 1번 키 한 번 → A\n",
    "* 1번 키 한 번 → A\n",
    "* 2번 키 한 번 → B\n",
    "* 2번 키 한 번 → B\n",
    "* 따라서 총합인 4를 두 번째 인덱스에 저장합니다.\n",
    "* 결과적으로 [9,4]를 return 합니다.\n",
    "#### 입출력 예 #2\n",
    "\n",
    "* \"B\"의 경우, 'B'가 어디에도 존재하지 않기 때문에 -1을 첫 번째 인덱스에 저장합니다.\n",
    "* 결과적으로 [-1]을 return 합니다.\n",
    "#### 입출력 예 #3\n",
    "\n",
    "* \"ASA\"의 경우,\n",
    "* 1번 키 한 번 → A\n",
    "* 2번 키 두 번 → S\n",
    "* 1번 키 한 번 → A\n",
    "* 따라서 총합인 4를 첫 번째 인덱스에 저장합니다.\n",
    "* \"BGZ\"의 경우,\n",
    "* 2번 키 한 번 → B\n",
    "* 1번 키 두 번 → G\n",
    "* 1번 키 세 번 → Z\n",
    "* 따라서 총합인 6을 두 번째 인덱스에 저장합니다.\n",
    "* 결과적으로 [4, 6]을 return 합니다."
   ]
  },
  {
   "cell_type": "code",
   "execution_count": 227,
   "id": "556ac726-4166-432e-9c2b-58988a4f5a6e",
   "metadata": {},
   "outputs": [],
   "source": [
    "def solution(keymap, targets):\n",
    "    result = []\n",
    "    for t in targets:\n",
    "        sum = 0\n",
    "        for e in t:\n",
    "            temp = []\n",
    "            for k in keymap:\n",
    "                temp.append(k.find(e))\n",
    "            map(filter(\n",
    "            sum += (min(temp)+1)\n",
    "        result.append(-1 if sum >= 101 else sum)\n",
    "    return result"
   ]
  },
  {
   "cell_type": "code",
   "execution_count": 228,
   "id": "cf5156e6-2334-4a21-913c-ca1fca57c3e2",
   "metadata": {},
   "outputs": [
    {
     "name": "stdout",
     "output_type": "stream",
     "text": [
      "temp:  [0, -1]\n",
      "temp:  [1, 0]\n",
      "temp:  [3, 1]\n",
      "temp:  [4, 4]\n",
      "temp:  [0, -1]\n",
      "temp:  [0, -1]\n",
      "temp:  [1, 0]\n",
      "temp:  [1, 0]\n"
     ]
    },
    {
     "data": {
      "text/plain": [
       "[8, 2]"
      ]
     },
     "execution_count": 228,
     "metadata": {},
     "output_type": "execute_result"
    }
   ],
   "source": [
    "solution([\"ABACD\", \"BCEFD\"], [\"ABCD\",\"AABB\"])"
   ]
  },
  {
   "cell_type": "code",
   "execution_count": 229,
   "id": "5b316fa8-c089-419a-9b5a-a43ceccf33be",
   "metadata": {},
   "outputs": [
    {
     "name": "stdout",
     "output_type": "stream",
     "text": [
      "temp:  [-1]\n"
     ]
    },
    {
     "data": {
      "text/plain": [
       "[0]"
      ]
     },
     "execution_count": 229,
     "metadata": {},
     "output_type": "execute_result"
    }
   ],
   "source": [
    "solution([\"AA\"], [\"B\"])"
   ]
  },
  {
   "cell_type": "code",
   "execution_count": 230,
   "id": "d0cfeb51-8b67-4630-b438-c0d0292f85d2",
   "metadata": {},
   "outputs": [
    {
     "name": "stdout",
     "output_type": "stream",
     "text": [
      "temp:  [0, -1]\n",
      "temp:  [-1, 1]\n",
      "temp:  [0, -1]\n",
      "temp:  [-1, 0]\n",
      "temp:  [1, -1]\n",
      "temp:  [2, -1]\n"
     ]
    },
    {
     "data": {
      "text/plain": [
       "[0, 0]"
      ]
     },
     "execution_count": 230,
     "metadata": {},
     "output_type": "execute_result"
    }
   ],
   "source": [
    "solution([\"AGZ\", \"BSSS\"], [\"ASA\",\"BGZ\"])"
   ]
  },
  {
   "cell_type": "code",
   "execution_count": 231,
   "id": "bb02faa0-a65a-44cf-8730-64ac996a75e1",
   "metadata": {},
   "outputs": [
    {
     "name": "stdout",
     "output_type": "stream",
     "text": [
      "temp:  [-1, -1, -1]\n",
      "temp:  [-1, -1, 1]\n"
     ]
    },
    {
     "data": {
      "text/plain": [
       "[0, 0]"
      ]
     },
     "execution_count": 231,
     "metadata": {},
     "output_type": "execute_result"
    }
   ],
   "source": [
    "solution([\"AA\", \"AC\", \"AB\"], [\"D\", \"B\"])"
   ]
  },
  {
   "cell_type": "code",
   "execution_count": null,
   "id": "4c51780f-99b1-454d-b338-1ccfd6594390",
   "metadata": {},
   "outputs": [],
   "source": []
  }
 ],
 "metadata": {
  "kernelspec": {
   "display_name": "Python 3 (ipykernel)",
   "language": "python",
   "name": "python3"
  },
  "language_info": {
   "codemirror_mode": {
    "name": "ipython",
    "version": 3
   },
   "file_extension": ".py",
   "mimetype": "text/x-python",
   "name": "python",
   "nbconvert_exporter": "python",
   "pygments_lexer": "ipython3",
   "version": "3.11.6"
  }
 },
 "nbformat": 4,
 "nbformat_minor": 5
}

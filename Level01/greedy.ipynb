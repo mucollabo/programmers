{
 "cells": [
  {
   "cell_type": "markdown",
   "id": "d4bc72b5-8c0a-4106-80d0-20aa018a79a3",
   "metadata": {},
   "source": [
    "## 체육복\n",
    "### 문제 설명\n",
    "#### 점심시간에 도둑이 들어, 일부 학생이 체육복을 도난당했습니다. 다행히 여벌 체육복이 있는 학생이 이들에게 체육복을 빌려주려 합니다. 학생들의 번호는 체격 순으로 매겨져 있어, 바로 앞번호의 학생이나 바로 뒷번호의 학생에게만 체육복을 빌려줄 수 있습니다. 예를 들어, 4번 학생은 3번 학생이나 5번 학생에게만 체육복을 빌려줄 수 있습니다. 체육복이 없으면 수업을 들을 수 없기 때문에 체육복을 적절히 빌려 최대한 많은 학생이 체육수업을 들어야 합니다.\n",
    "\n",
    "#### 전체 학생의 수 n, 체육복을 도난당한 학생들의 번호가 담긴 배열 lost, 여벌의 체육복을 가져온 학생들의 번호가 담긴 배열 reserve가 매개변수로 주어질 때, 체육수업을 들을 수 있는 학생의 최댓값을 return 하도록 solution 함수를 작성해주세요.\n",
    "\n",
    "### 제한사항\n",
    "* 전체 학생의 수는 2명 이상 30명 이하입니다.\n",
    "* 체육복을 도난당한 학생의 수는 1명 이상 n명 이하이고 중복되는 번호는 없습니다.\n",
    "* 여벌의 체육복을 가져온 학생의 수는 1명 이상 n명 이하이고 중복되는 번호는 없습니다.\n",
    "* 여벌 체육복이 있는 학생만 다른 학생에게 체육복을 빌려줄 수 있습니다.\n",
    "* 여벌 체육복을 가져온 학생이 체육복을 도난당했을 수 있습니다. 이때 이 학생은 체육복을 하나만 도난당했다고 가정하며, 남은 체육복이 하나이기에 다른 학생에게는 체육복을 빌려줄 수 없습니다.\n",
    "### 입출력 예\n",
    "|n|lost|reserve|return|\n",
    "|-|----|-------|------|\n",
    "|5|[2, 4]|[1, 3, 5]|5|\n",
    "|5|[2, 4]|[3]|4|\n",
    "|3|[3]|[1]|2|\n",
    "### 입출력 예 설명\n",
    "#### 예제 #1\n",
    "#### 1번 학생이 2번 학생에게 체육복을 빌려주고, 3번 학생이나 5번 학생이 4번 학생에게 체육복을 빌려주면 학생 5명이 체육수업을 들을 수 있습니다.\n",
    "\n",
    "#### 예제 #2\n",
    "#### 3번 학생이 2번 학생이나 4번 학생에게 체육복을 빌려주면 학생 4명이 체육수업을 들을 수 있습니다.\n",
    "\n",
    "#### **문제가 잘 안풀린다면😢**\n",
    "#### 힌트가 필요한가요? [코딩테스트 연습 힌트 모음집]으로 오세요! → 클릭\n",
    "\n",
    "※ 공지 - 2019년 2월 18일 지문이 리뉴얼되었습니다.\n",
    "\n",
    "※ 공지 - 2019년 2월 27일, 28일 테스트케이스가 추가되었습니다.\n",
    "\n",
    "※ 공지 - 2021년 7월 28일 테스트케이스가 추가되었습니다.\n",
    "\n",
    "※ 공지 - 2021년 8월 30일 테스트케이스가 추가되었습니다.\n",
    "\n",
    "※ 공지 - 2022년 11월 30일 테스트케이스가 추가되었습니다.\n",
    "\n",
    "※ 공지 - 2023년 6월 12일 테스트케이스가 추가되었습니다."
   ]
  },
  {
   "cell_type": "code",
   "execution_count": 123,
   "id": "3aab3a15-f23e-4cc8-8156-5b6103ee69da",
   "metadata": {},
   "outputs": [],
   "source": [
    "def solution(n, lost, reserve):\n",
    "    setlr = set(lost) & set(reserve)\n",
    "    reserve = sorted(set(reserve) - setlr)\n",
    "    lost = sorted(set(lost) - setlr)\n",
    "    lost_cnt = len(lost)\n",
    "    \n",
    "    for l in lost:\n",
    "        if l-1 in reserve:\n",
    "            reserve.remove(l-1)\n",
    "            lost_cnt -= 1\n",
    "        elif l+1 in reserve:\n",
    "            reserve.remove(l+1)\n",
    "            lost_cnt -= 1\n",
    "    return n - lost_cnt"
   ]
  },
  {
   "cell_type": "code",
   "execution_count": 124,
   "id": "cf402835-741d-43d5-b723-acc251699c73",
   "metadata": {},
   "outputs": [
    {
     "data": {
      "text/plain": [
       "5"
      ]
     },
     "execution_count": 124,
     "metadata": {},
     "output_type": "execute_result"
    }
   ],
   "source": [
    "solution(5, [2, 4],\t[1, 3, 5])"
   ]
  },
  {
   "cell_type": "code",
   "execution_count": 125,
   "id": "5aab6534-0eb3-4afc-b5b5-6b75d631a9f1",
   "metadata": {},
   "outputs": [
    {
     "data": {
      "text/plain": [
       "4"
      ]
     },
     "execution_count": 125,
     "metadata": {},
     "output_type": "execute_result"
    }
   ],
   "source": [
    "solution(5,\t[2, 4],\t[3])"
   ]
  },
  {
   "cell_type": "code",
   "execution_count": 126,
   "id": "8b89a644-63f3-47b3-b373-f0f965c6cb43",
   "metadata": {},
   "outputs": [
    {
     "data": {
      "text/plain": [
       "2"
      ]
     },
     "execution_count": 126,
     "metadata": {},
     "output_type": "execute_result"
    }
   ],
   "source": [
    "solution(3,\t[3], [1])"
   ]
  },
  {
   "cell_type": "code",
   "execution_count": 127,
   "id": "321c473f-1fe6-4f26-82c1-a86d4eb4b3f5",
   "metadata": {},
   "outputs": [
    {
     "data": {
      "text/plain": [
       "5"
      ]
     },
     "execution_count": 127,
     "metadata": {},
     "output_type": "execute_result"
    }
   ],
   "source": [
    "solution(5, [2, 4], [1, 5])"
   ]
  },
  {
   "cell_type": "code",
   "execution_count": 128,
   "id": "043968eb-757c-48f0-8dcf-8dcb302dc830",
   "metadata": {},
   "outputs": [
    {
     "data": {
      "text/plain": [
       "5"
      ]
     },
     "execution_count": 128,
     "metadata": {},
     "output_type": "execute_result"
    }
   ],
   "source": [
    "solution(5, [2, 4], [1, 3])"
   ]
  },
  {
   "cell_type": "code",
   "execution_count": 129,
   "id": "bc80f04b-8a63-4e37-aff2-26d24e66a8f5",
   "metadata": {},
   "outputs": [
    {
     "data": {
      "text/plain": [
       "5"
      ]
     },
     "execution_count": 129,
     "metadata": {},
     "output_type": "execute_result"
    }
   ],
   "source": [
    "solution(5, [2, 4],\t[4, 3, 5])"
   ]
  },
  {
   "cell_type": "code",
   "execution_count": 130,
   "id": "f6892361-1979-47d0-865e-f7e3037cd342",
   "metadata": {},
   "outputs": [
    {
     "data": {
      "text/plain": [
       "7"
      ]
     },
     "execution_count": 130,
     "metadata": {},
     "output_type": "execute_result"
    }
   ],
   "source": [
    "solution(7, [2, 4, 6], [1, 3, 7])"
   ]
  },
  {
   "cell_type": "code",
   "execution_count": 131,
   "id": "e46cc654-9258-4fcf-ba3f-8c6fd49a993f",
   "metadata": {},
   "outputs": [
    {
     "data": {
      "text/plain": [
       "4"
      ]
     },
     "execution_count": 131,
     "metadata": {},
     "output_type": "execute_result"
    }
   ],
   "source": [
    "solution(5, [3, 4], [4, 5])"
   ]
  },
  {
   "cell_type": "code",
   "execution_count": null,
   "id": "f659fb6b-1bcb-4d19-b3bf-acca6a3369e7",
   "metadata": {},
   "outputs": [],
   "source": []
  }
 ],
 "metadata": {
  "kernelspec": {
   "display_name": "Python 3 (ipykernel)",
   "language": "python",
   "name": "python3"
  },
  "language_info": {
   "codemirror_mode": {
    "name": "ipython",
    "version": 3
   },
   "file_extension": ".py",
   "mimetype": "text/x-python",
   "name": "python",
   "nbconvert_exporter": "python",
   "pygments_lexer": "ipython3",
   "version": "3.11.6"
  }
 },
 "nbformat": 4,
 "nbformat_minor": 5
}

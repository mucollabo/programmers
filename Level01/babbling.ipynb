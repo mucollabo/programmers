{
 "cells": [
  {
   "cell_type": "markdown",
   "id": "58762b3f-0904-4a45-bf5f-62549a953a63",
   "metadata": {},
   "source": [
    "## 옹알이\n",
    "### 문제 설명\n",
    "#### 머쓱이는 태어난 지 11개월 된 조카를 돌보고 있습니다. 조카는 아직 \"aya\", \"ye\", \"woo\", \"ma\" 네 가지 발음과 네 가지 발음을 조합해서 만들 수 있는 발음밖에 하지 못하고 연속해서 같은 발음을 하는 것을 어려워합니다. 문자열 배열 babbling이 매개변수로 주어질 때, 머쓱이의 조카가 발음할 수 있는 단어의 개수를 return하도록 solution 함수를 완성해주세요.\n",
    "\n",
    "### 제한사항\n",
    "* 1 ≤ babbling의 길이 ≤ 100\n",
    "* 1 ≤ babbling[i]의 길이 ≤ 30\n",
    "* 문자열은 알파벳 소문자로만 이루어져 있습니다.\n",
    "### 입출력 예\n",
    "|babbling|result|\n",
    "|--------|------|\n",
    "|[\"aya\", \"yee\", \"u\", \"maa\"]|1|\n",
    "|[\"ayaye\", \"uuu\", \"yeye\", \"yemawoo\", \"ayaayaa\"]|2|\n",
    "### 입출력 예 설명\n",
    "#### 입출력 예 #1\n",
    "\n",
    "* [\"aya\", \"yee\", \"u\", \"maa\"]에서 발음할 수 있는 것은 \"aya\"뿐입니다. 따라서 1을 return합니다.\n",
    "#### 입출력 예 #2\n",
    "\n",
    "* [\"ayaye\", \"uuu\", \"yeye\", \"yemawoo\", \"ayaayaa\"]에서 발음할 수 있는 것은 \"aya\" + \"ye\" = \"ayaye\", \"ye\" + \"ma\" + \"woo\" = \"yemawoo\"로 2개입니다. \"yeye\"는 같은 발음이 연속되므로 발음할 수 없습니다. 따라서 2를 return합니다.\n",
    "### 유의사항\n",
    "#### 네 가지를 붙여 만들 수 있는 발음 이외에는 어떤 발음도 할 수 없는 것으로 규정합니다. 예를 들어 \"woowo\"는 \"woo\"는 발음할 수 있지만 \"wo\"를 발음할 수 없기 때문에 할 수 없는 발음입니다.\n",
    "#### ※ 공지 - 2024년 2월 20일 문제 지문의 오탈자가 수정되었습니다."
   ]
  },
  {
   "cell_type": "code",
   "execution_count": 75,
   "id": "4340b073-db31-4459-bdb8-1f831d17c0d5",
   "metadata": {},
   "outputs": [],
   "source": [
    "def solution(babbling):\n",
    "    answer = 0\n",
    "    init = {\"aya\", \"ye\", \"woo\", \"ma\"}  # 가능한 4가지 단어\n",
    "\n",
    "    for word in babbling:\n",
    "        comp = \"\"  # 비교할 단어\n",
    "        temp = \"\"  # 임시 저장할 단어\n",
    "\n",
    "        for char in word:\n",
    "            comp += char\n",
    "\n",
    "            # 연속해서 같은 단어가 나왔을 때 반복문 탈출\n",
    "            if comp == temp:\n",
    "                break\n",
    "\n",
    "            # 4가지 단어가 포함 돼있을 때 현재 단어 임시 저장 후 비교단어 초기화\n",
    "            if comp in init:\n",
    "                temp = comp\n",
    "                comp = \"\"\n",
    "\n",
    "        # 비교할 단어가 존재 하지 않을때 카운트\n",
    "        if comp == \"\":\n",
    "            answer += 1\n",
    "\n",
    "    return answer"
   ]
  },
  {
   "cell_type": "code",
   "execution_count": 76,
   "id": "988d410c-a410-4582-8204-626111e652fc",
   "metadata": {},
   "outputs": [
    {
     "data": {
      "text/plain": [
       "1"
      ]
     },
     "execution_count": 76,
     "metadata": {},
     "output_type": "execute_result"
    }
   ],
   "source": [
    "solution([\"aya\", \"yee\", \"u\", \"maa\"])"
   ]
  },
  {
   "cell_type": "code",
   "execution_count": 77,
   "id": "cdc1ee29-d30f-4210-bacd-dc3c29f5181d",
   "metadata": {},
   "outputs": [
    {
     "data": {
      "text/plain": [
       "2"
      ]
     },
     "execution_count": 77,
     "metadata": {},
     "output_type": "execute_result"
    }
   ],
   "source": [
    "solution([\"ayaye\", \"uuu\", \"yeye\", \"yemawoo\", \"ayaayaa\"])"
   ]
  },
  {
   "cell_type": "code",
   "execution_count": 78,
   "id": "0c077660-5c68-4c5f-a30d-40c72896d2de",
   "metadata": {},
   "outputs": [
    {
     "data": {
      "text/plain": [
       "5"
      ]
     },
     "execution_count": 78,
     "metadata": {},
     "output_type": "execute_result"
    }
   ],
   "source": [
    "solution([\"ayaye\", \"uuu\", \"yemaye\", \"yemawoo\", \"ayamaaya\", \"mayema\", \"yeyeye\"])"
   ]
  },
  {
   "cell_type": "code",
   "execution_count": 79,
   "id": "170b90ad-c785-4cae-b20b-a70ffed1e25e",
   "metadata": {},
   "outputs": [],
   "source": [
    "def solution2(babbling):\n",
    "    answer = 0\n",
    "    for b in babbling:\n",
    "        for w in ['aya', 'ye', 'woo', 'ma']:\n",
    "            if w*2 not in b:\n",
    "                b = b.replace(w, ' ')\n",
    "        if len(b.strip()) == 0:\n",
    "            answer += 1\n",
    "    return answer"
   ]
  },
  {
   "cell_type": "code",
   "execution_count": 80,
   "id": "6c6daa4e-40fd-4c09-bfcd-a33c93c9ebbc",
   "metadata": {},
   "outputs": [
    {
     "data": {
      "text/plain": [
       "1"
      ]
     },
     "execution_count": 80,
     "metadata": {},
     "output_type": "execute_result"
    }
   ],
   "source": [
    "solution2([\"aya\", \"yee\", \"u\", \"maa\"])"
   ]
  },
  {
   "cell_type": "code",
   "execution_count": 81,
   "id": "b4563578-76f0-4b07-b979-5f6cce5041fb",
   "metadata": {},
   "outputs": [
    {
     "data": {
      "text/plain": [
       "2"
      ]
     },
     "execution_count": 81,
     "metadata": {},
     "output_type": "execute_result"
    }
   ],
   "source": [
    "solution2([\"ayaye\", \"uuu\", \"yeye\", \"yemawoo\", \"ayaayaa\"])"
   ]
  },
  {
   "cell_type": "code",
   "execution_count": 82,
   "id": "89c2f307-06f9-4f5e-91a8-ca82730bc9bb",
   "metadata": {},
   "outputs": [
    {
     "data": {
      "text/plain": [
       "5"
      ]
     },
     "execution_count": 82,
     "metadata": {},
     "output_type": "execute_result"
    }
   ],
   "source": [
    "solution2([\"ayaye\", \"uuu\", \"yemaye\", \"yemawoo\", \"ayamaaya\", \"mayema\", \"yeyeye\"])"
   ]
  },
  {
   "cell_type": "code",
   "execution_count": null,
   "id": "0fb2931f-9e11-42cc-ab0b-869aece7d29f",
   "metadata": {},
   "outputs": [],
   "source": []
  }
 ],
 "metadata": {
  "kernelspec": {
   "display_name": "Python 3 (ipykernel)",
   "language": "python",
   "name": "python3"
  },
  "language_info": {
   "codemirror_mode": {
    "name": "ipython",
    "version": 3
   },
   "file_extension": ".py",
   "mimetype": "text/x-python",
   "name": "python",
   "nbconvert_exporter": "python",
   "pygments_lexer": "ipython3",
   "version": "3.11.6"
  }
 },
 "nbformat": 4,
 "nbformat_minor": 5
}

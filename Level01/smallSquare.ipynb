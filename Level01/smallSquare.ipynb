{
 "cells": [
  {
   "cell_type": "markdown",
   "id": "3f049832-0718-449d-a494-363feeb31dcb",
   "metadata": {},
   "source": [
    "# 최소직사각형\n",
    "## 문제 설명\n",
    "### 명함 지갑을 만드는 회사에서 지갑의 크기를 정하려고 합니다. 다양한 모양과 크기의 명함들을 모두 수납할 수 있으면서, 작아서 들고 다니기 편한 지갑을 만들어야 합니다. 이러한 요건을 만족하는 지갑을 만들기 위해 디자인팀은 모든 명함의 가로 길이와 세로 길이를 조사했습니다.\n",
    "\n",
    "### 아래 표는 4가지 명함의 가로 길이와 세로 길이를 나타냅니다.\n",
    "\n",
    "|명함 번호|가로 길이|세로 길이|\n",
    "|-------|-------|-------|\n",
    "|1|60|50|\n",
    "|2|30|70|\n",
    "|3|60|30|\n",
    "|4|80|40|\n",
    "### 가장 긴 가로 길이와 세로 길이가 각각 80, 70이기 때문에 80(가로) x 70(세로) 크기의 지갑을 만들면 모든 명함들을 수납할 수 있습니다. 하지만 2번 명함을 가로로 눕혀 수납한다면 80(가로) x 50(세로) 크기의 지갑으로 모든 명함들을 수납할 수 있습니다. 이때의 지갑 크기는 4000(=80 x 50)입니다.\n",
    "\n",
    "### 모든 명함의 가로 길이와 세로 길이를 나타내는 2차원 배열 sizes가 매개변수로 주어집니다. 모든 명함을 수납할 수 있는 가장 작은 지갑을 만들 때, 지갑의 크기를 return 하도록 solution 함수를 완성해주세요.\n",
    "\n",
    "## 제한사항\n",
    "* sizes의 길이는 1 이상 10,000 이하입니다.\n",
    "  * sizes의 원소는 [w, h] 형식입니다.\n",
    "  * w는 명함의 가로 길이를 나타냅니다.\n",
    "  * h는 명함의 세로 길이를 나타냅니다.\n",
    "  * w와 h는 1 이상 1,000 이하인 자연수입니다.\n",
    "## 입출력 예\n",
    "|sizes|result|\n",
    "|-----|------|\n",
    "|[[60, 50], [30, 70], [60, 30], [80, 40]]|4000|\n",
    "|[[10, 7], [12, 3], [8, 15], [14, 7], [5, 15]]|120|\n",
    "|[[14, 4], [19, 6], [6, 16], [18, 7], [7, 11]]|133|\n",
    "## 입출력 예 설명\n",
    "## 입출력 예 #1\n",
    "* 문제 예시와 같습니다.\n",
    "\n",
    "## 입출력 예 #2\n",
    "* 명함들을 적절히 회전시켜 겹쳤을 때, 3번째 명함(가로: 8, 세로: 15)이 다른 모든 명함보다 크기가 큽니다. 따라서 지갑의 크기는 3번째 명함의 크기와 같으며, 120(=8 x 15)을 return 합니다.\n",
    "\n",
    "## 입출력 예 #3\n",
    "\n",
    "* 명함들을 적절히 회전시켜 겹쳤을 때, 모든 명함을 포함하는 가장 작은 지갑의 크기는 133(=19 x 7)입니다."
   ]
  },
  {
   "cell_type": "code",
   "execution_count": 10,
   "id": "3ade4cc6-a5f8-4815-adc0-21aebce11073",
   "metadata": {},
   "outputs": [],
   "source": [
    "def solution(sizes):\n",
    "    w,h = [],[]\n",
    "    for i in sizes:\n",
    "        w.append(max(i))\n",
    "        h.append(min(i))\n",
    "    return max(w)*max(h)"
   ]
  },
  {
   "cell_type": "code",
   "execution_count": 11,
   "id": "36fc72f2-3557-4918-821c-711a62ae0333",
   "metadata": {},
   "outputs": [
    {
     "data": {
      "text/plain": [
       "4000"
      ]
     },
     "execution_count": 11,
     "metadata": {},
     "output_type": "execute_result"
    }
   ],
   "source": [
    "solution([[60, 50], [30, 70], [60, 30], [80, 40]])"
   ]
  },
  {
   "cell_type": "code",
   "execution_count": 12,
   "id": "173b694f-ac9e-4aab-8426-2e57038400cc",
   "metadata": {},
   "outputs": [
    {
     "data": {
      "text/plain": [
       "120"
      ]
     },
     "execution_count": 12,
     "metadata": {},
     "output_type": "execute_result"
    }
   ],
   "source": [
    "solution([[10, 7], [12, 3], [8, 15], [14, 7], [5, 15]])"
   ]
  },
  {
   "cell_type": "code",
   "execution_count": 13,
   "id": "86a40363-bae6-4c29-9c5e-1abac7b85792",
   "metadata": {},
   "outputs": [
    {
     "data": {
      "text/plain": [
       "133"
      ]
     },
     "execution_count": 13,
     "metadata": {},
     "output_type": "execute_result"
    }
   ],
   "source": [
    "solution([[14, 4], [19, 6], [6, 16], [18, 7], [7, 11]])"
   ]
  },
  {
   "cell_type": "code",
   "execution_count": 36,
   "id": "9743a940-7c08-49b4-92e0-6b16ec9c2a20",
   "metadata": {},
   "outputs": [],
   "source": [
    "def solution2(sizes):\n",
    "    return max(list(map(lambda x: max(x), sizes))) * max(list(map(lambda x: min(x), sizes)))"
   ]
  },
  {
   "cell_type": "code",
   "execution_count": 37,
   "id": "a89072ff-4a43-4e79-a22b-e0881407138c",
   "metadata": {},
   "outputs": [
    {
     "data": {
      "text/plain": [
       "4000"
      ]
     },
     "execution_count": 37,
     "metadata": {},
     "output_type": "execute_result"
    }
   ],
   "source": [
    "solution2([[60, 50], [30, 70], [60, 30], [80, 40]])"
   ]
  },
  {
   "cell_type": "code",
   "execution_count": 38,
   "id": "f136ddd1-0a24-4c35-8ff1-100f2a17fa89",
   "metadata": {},
   "outputs": [
    {
     "data": {
      "text/plain": [
       "120"
      ]
     },
     "execution_count": 38,
     "metadata": {},
     "output_type": "execute_result"
    }
   ],
   "source": [
    "solution2([[10, 7], [12, 3], [8, 15], [14, 7], [5, 15]])"
   ]
  },
  {
   "cell_type": "code",
   "execution_count": 39,
   "id": "868bf27e-3df2-48ec-bfb6-54cc0d62c4ac",
   "metadata": {},
   "outputs": [
    {
     "data": {
      "text/plain": [
       "133"
      ]
     },
     "execution_count": 39,
     "metadata": {},
     "output_type": "execute_result"
    }
   ],
   "source": [
    "solution2([[14, 4], [19, 6], [6, 16], [18, 7], [7, 11]])"
   ]
  },
  {
   "cell_type": "code",
   "execution_count": null,
   "id": "9e0c6d55-e7da-452a-acdd-5e5801b427f0",
   "metadata": {},
   "outputs": [],
   "source": []
  }
 ],
 "metadata": {
  "kernelspec": {
   "display_name": "Python 3 (ipykernel)",
   "language": "python",
   "name": "python3"
  },
  "language_info": {
   "codemirror_mode": {
    "name": "ipython",
    "version": 3
   },
   "file_extension": ".py",
   "mimetype": "text/x-python",
   "name": "python",
   "nbconvert_exporter": "python",
   "pygments_lexer": "ipython3",
   "version": "3.10.6"
  }
 },
 "nbformat": 4,
 "nbformat_minor": 5
}

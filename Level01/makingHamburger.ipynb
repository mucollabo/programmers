{
 "cells": [
  {
   "cell_type": "markdown",
   "id": "ce3489ad-79fb-4c2d-bb31-93e084f5c226",
   "metadata": {},
   "source": [
    "## 햄버거 만들기\n",
    "### 문제 설명\n",
    "#### 햄버거 가게에서 일을 하는 상수는 햄버거를 포장하는 일을 합니다. 함께 일을 하는 다른 직원들이 햄버거에 들어갈 재료를 조리해 주면 조리된 순서대로 상수의 앞에 아래서부터 위로 쌓이게 되고, 상수는 순서에 맞게 쌓여서 완성된 햄버거를 따로 옮겨 포장을 하게 됩니다. 상수가 일하는 가게는 정해진 순서(아래서부터, 빵 – 야채 – 고기 - 빵)로 쌓인 햄버거만 포장을 합니다. 상수는 손이 굉장히 빠르기 때문에 상수가 포장하는 동안 속 재료가 추가적으로 들어오는 일은 없으며, 재료의 높이는 무시하여 재료가 높이 쌓여서 일이 힘들어지는 경우는 없습니다.\n",
    "\n",
    "#### 예를 들어, 상수의 앞에 쌓이는 재료의 순서가 [야채, 빵, 빵, 야채, 고기, 빵, 야채, 고기, 빵]일 때, 상수는 여섯 번째 재료가 쌓였을 때, 세 번째 재료부터 여섯 번째 재료를 이용하여 햄버거를 포장하고, 아홉 번째 재료가 쌓였을 때, 두 번째 재료와 일곱 번째 재료부터 아홉 번째 재료를 이용하여 햄버거를 포장합니다. 즉, 2개의 햄버거를 포장하게 됩니다.\n",
    "\n",
    "#### 상수에게 전해지는 재료의 정보를 나타내는 정수 배열 ingredient가 주어졌을 때, 상수가 포장하는 햄버거의 개수를 return 하도록 solution 함수를 완성하시오.\n",
    "\n",
    "### 제한사항\n",
    "* 1 ≤ ingredient의 길이 ≤ 1,000,000\n",
    "* ingredient의 원소는 1, 2, 3 중 하나의 값이며, 순서대로 빵, 야채, 고기를 의미합니다.\n",
    "### 입출력 예\n",
    "|ingredient|result|\n",
    "|----------|------|\n",
    "|[2, 1, 1, 2, 3, 1, 2, 3, 1]|2|\n",
    "|[1, 3, 2, 1, 2, 1, 3, 1, 2]|0|\n",
    "### 입출력 예 설명\n",
    "#### 입출력 예 #1\n",
    "\n",
    "* 문제 예시와 같습니다.\n",
    "#### 입출력 예 #2\n",
    "\n",
    "* 상수가 포장할 수 있는 햄버거가 없습니다."
   ]
  },
  {
   "cell_type": "code",
   "execution_count": 43,
   "id": "fa4bf05f-6789-4c59-9c2e-37448c246273",
   "metadata": {},
   "outputs": [],
   "source": [
    "def solution(ingredient):\n",
    "    cnt = 0\n",
    "    burger = []\n",
    "    for i in ingredient:\n",
    "        burger.append(i)\n",
    "        if burger[-4:] == [1, 2, 3, 1]:\n",
    "            cnt += 1\n",
    "            for _ in range(4):\n",
    "                burger.pop()\n",
    "    return cnt"
   ]
  },
  {
   "cell_type": "code",
   "execution_count": 44,
   "id": "443b09b8-520a-42a2-8dc9-7185c4109435",
   "metadata": {},
   "outputs": [
    {
     "data": {
      "text/plain": [
       "2"
      ]
     },
     "execution_count": 44,
     "metadata": {},
     "output_type": "execute_result"
    }
   ],
   "source": [
    "solution([2, 1, 1, 2, 3, 1, 2, 3, 1])"
   ]
  },
  {
   "cell_type": "code",
   "execution_count": 45,
   "id": "efb81f18-f499-4a1c-bece-d25d58ff075f",
   "metadata": {},
   "outputs": [
    {
     "data": {
      "text/plain": [
       "0"
      ]
     },
     "execution_count": 45,
     "metadata": {},
     "output_type": "execute_result"
    }
   ],
   "source": [
    "solution([1, 3, 2, 1, 2, 1, 3, 1, 2])"
   ]
  },
  {
   "cell_type": "code",
   "execution_count": null,
   "id": "fe91e574-d990-4854-8cd3-6c222d784a20",
   "metadata": {},
   "outputs": [],
   "source": []
  }
 ],
 "metadata": {
  "kernelspec": {
   "display_name": "Python 3 (ipykernel)",
   "language": "python",
   "name": "python3"
  },
  "language_info": {
   "codemirror_mode": {
    "name": "ipython",
    "version": 3
   },
   "file_extension": ".py",
   "mimetype": "text/x-python",
   "name": "python",
   "nbconvert_exporter": "python",
   "pygments_lexer": "ipython3",
   "version": "3.11.6"
  }
 },
 "nbformat": 4,
 "nbformat_minor": 5
}

{
 "cells": [
  {
   "cell_type": "markdown",
   "id": "93a0af58-7aad-4f1d-a7ae-079653fed8eb",
   "metadata": {},
   "source": [
    "# 정수 내림차순으로 배치하기\n",
    "## 문제 설명\n",
    "### 함수 solution은 정수 n을 매개변수로 입력받습니다. n의 각 자릿수를 큰것부터 작은 순으로 정렬한 새로운 정수를 리턴해주세요. 예를들어 n이 118372면 873211을 리턴하면 됩니다.\n",
    "\n",
    "## 제한 조건\n",
    "* n은 1이상 8000000000 이하인 자연수입니다.\n",
    "## 입출력 예\n",
    "|n|return|\n",
    "|-|------|\n",
    "|118372|873211|"
   ]
  },
  {
   "cell_type": "code",
   "execution_count": 34,
   "id": "56a9049b-0b8b-4201-b2ca-b21f18e515b0",
   "metadata": {},
   "outputs": [],
   "source": [
    "def solution(n):\n",
    "    return int(''.join(sorted(list(map(lambda x: x, str(n))), reverse=True)))"
   ]
  },
  {
   "cell_type": "code",
   "execution_count": 35,
   "id": "4787731d-4f23-4793-b38f-2ed821f9249c",
   "metadata": {},
   "outputs": [
    {
     "data": {
      "text/plain": [
       "873211"
      ]
     },
     "execution_count": 35,
     "metadata": {},
     "output_type": "execute_result"
    }
   ],
   "source": [
    "solution(118372)"
   ]
  },
  {
   "cell_type": "code",
   "execution_count": null,
   "id": "360b41c8-428e-4f18-9235-692f56f840be",
   "metadata": {},
   "outputs": [],
   "source": []
  }
 ],
 "metadata": {
  "kernelspec": {
   "display_name": "Python 3 (ipykernel)",
   "language": "python",
   "name": "python3"
  },
  "language_info": {
   "codemirror_mode": {
    "name": "ipython",
    "version": 3
   },
   "file_extension": ".py",
   "mimetype": "text/x-python",
   "name": "python",
   "nbconvert_exporter": "python",
   "pygments_lexer": "ipython3",
   "version": "3.10.6"
  }
 },
 "nbformat": 4,
 "nbformat_minor": 5
}

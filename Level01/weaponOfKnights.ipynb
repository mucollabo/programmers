{
 "cells": [
  {
   "cell_type": "markdown",
   "id": "9b0d4c22-d179-4b7f-aed8-a5a619402c43",
   "metadata": {},
   "source": [
    "## 기사단원의 무기\n",
    "### 문제 설명\n",
    "#### 숫자나라 기사단의 각 기사에게는 1번부터 number까지 번호가 지정되어 있습니다. 기사들은 무기점에서 무기를 구매하려고 합니다.\n",
    "\n",
    "#### 각 기사는 자신의 기사 번호의 약수 개수에 해당하는 공격력을 가진 무기를 구매하려 합니다. 단, 이웃나라와의 협약에 의해 공격력의 제한수치를 정하고, 제한수치보다 큰 공격력을 가진 무기를 구매해야 하는 기사는 협약기관에서 정한 공격력을 가지는 무기를 구매해야 합니다.\n",
    "\n",
    "#### 예를 들어, 15번으로 지정된 기사단원은 15의 약수가 1, 3, 5, 15로 4개 이므로, 공격력이 4인 무기를 구매합니다. 만약, 이웃나라와의 협약으로 정해진 공격력의 제한수치가 3이고 제한수치를 초과한 기사가 사용할 무기의 공격력이 2라면, 15번으로 지정된 기사단원은 무기점에서 공격력이 2인 무기를 구매합니다. 무기를 만들 때, 무기의 공격력 1당 1kg의 철이 필요합니다. 그래서 무기점에서 무기를 모두 만들기 위해 필요한 철의 무게를 미리 계산하려 합니다.\n",
    "\n",
    "#### 기사단원의 수를 나타내는 정수 number와 이웃나라와 협약으로 정해진 공격력의 제한수치를 나타내는 정수 limit와 제한수치를 초과한 기사가 사용할 무기의 공격력을 나타내는 정수 power가 주어졌을 때, 무기점의 주인이 무기를 모두 만들기 위해 필요한 철의 무게를 return 하는 solution 함수를 완성하시오.\n",
    "\n",
    "### 제한사항\n",
    "* 1 ≤ number ≤ 100,000\n",
    "* 2 ≤ limit ≤ 100\n",
    "* 1 ≤ power ≤ limit\n",
    "### 입출력 예\n",
    "|number|limit|power|result|\n",
    "|------|-----|-----|------|\n",
    "|5|3|2|10|\n",
    "|10|3|2|21|\n",
    "### 입출력 예 설명\n",
    "#### 입출력 예 #1\n",
    "\n",
    "#### 1부터 5까지의 약수의 개수는 순서대로 [1, 2, 2, 3, 2]개입니다. 모두 공격력 제한 수치인 3을 넘지 않기 때문에 필요한 철의 무게는 해당 수들의 합인 10이 됩니다. 따라서 10을 return 합니다.\n",
    "\n",
    "#### 입출력 예 #2\n",
    "\n",
    "#### 1부터 10까지의 약수의 개수는 순서대로 [1, 2, 2, 3, 2, 4, 2, 4, 3, 4]개입니다. 공격력의 제한수치가 3이기 때문에, 6, 8, 10번 기사는 공격력이 2인 무기를 구매합니다. 따라서 해당 수들의 합인 21을 return 합니다."
   ]
  },
  {
   "cell_type": "code",
   "execution_count": 28,
   "id": "011cbd91-bbdc-4ef5-bcfd-93e1e1ad8d37",
   "metadata": {},
   "outputs": [],
   "source": [
    "def solution(number, limit, power):\n",
    "    knights = []\n",
    "    for n in range(1, number+1):\n",
    "        count = 0\n",
    "        for e in range(1, int(n**(1/2)) + 1):\n",
    "            if n % e == 0:\n",
    "                count += 1\n",
    "                if e < n//e:\n",
    "                    count += 1\n",
    "        knights.append(count)\n",
    "    return sum(map(lambda x: x if x <= limit else power, knights))"
   ]
  },
  {
   "cell_type": "code",
   "execution_count": 29,
   "id": "37e05de7-8832-4585-b93a-b33737e00b00",
   "metadata": {},
   "outputs": [
    {
     "data": {
      "text/plain": [
       "10"
      ]
     },
     "execution_count": 29,
     "metadata": {},
     "output_type": "execute_result"
    }
   ],
   "source": [
    "solution(5, 3, 2)"
   ]
  },
  {
   "cell_type": "code",
   "execution_count": 30,
   "id": "b5fb4794-5d17-4661-a7e3-ed7af5f3f2d6",
   "metadata": {},
   "outputs": [
    {
     "data": {
      "text/plain": [
       "21"
      ]
     },
     "execution_count": 30,
     "metadata": {},
     "output_type": "execute_result"
    }
   ],
   "source": [
    "solution(10, 3, 2)"
   ]
  },
  {
   "cell_type": "code",
   "execution_count": null,
   "id": "27eaf0c1-4025-45b0-8c32-bc36c3fa0dce",
   "metadata": {},
   "outputs": [],
   "source": []
  }
 ],
 "metadata": {
  "kernelspec": {
   "display_name": "Python 3 (ipykernel)",
   "language": "python",
   "name": "python3"
  },
  "language_info": {
   "codemirror_mode": {
    "name": "ipython",
    "version": 3
   },
   "file_extension": ".py",
   "mimetype": "text/x-python",
   "name": "python",
   "nbconvert_exporter": "python",
   "pygments_lexer": "ipython3",
   "version": "3.11.6"
  }
 },
 "nbformat": 4,
 "nbformat_minor": 5
}

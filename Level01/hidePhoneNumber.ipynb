{
 "cells": [
  {
   "cell_type": "markdown",
   "id": "05dcde5c-cce8-4ec5-a422-036cf452115e",
   "metadata": {},
   "source": [
    "# 핸드폰 번호 가리기\n",
    "## 문제 설명\n",
    "### 프로그래머스 모바일은 개인정보 보호를 위해 고지서를 보낼 때 고객들의 전화번호의 일부를 가립니다.\n",
    "### 전화번호가 문자열 phone_number로 주어졌을 때, 전화번호의 뒷 4자리를 제외한 나머지 숫자를 전부 *으로 가린 문자열을 리턴하는 함수, solution을 완성해주세요.\n",
    "\n",
    "## 제한 조건\n",
    "* phone_number는 길이 4 이상, 20이하인 문자열입니다.\n",
    "## 입출력 예\n",
    "|phone_number|return|\n",
    "|------------|------|\n",
    "|\"01033334444\"|\"*******4444\"|\n",
    "|\"027778888\"|\"*****8888\"|"
   ]
  },
  {
   "cell_type": "code",
   "execution_count": 7,
   "id": "60247541-3c56-4a4b-becb-12544054ee5e",
   "metadata": {},
   "outputs": [],
   "source": [
    "def solution(phone_number):\n",
    "    return len(phone_number[0:-4])*'*' + phone_number[-4:]"
   ]
  },
  {
   "cell_type": "code",
   "execution_count": 8,
   "id": "c737e669-be7e-4d64-b7f6-782106396050",
   "metadata": {},
   "outputs": [
    {
     "data": {
      "text/plain": [
       "'*******4444'"
      ]
     },
     "execution_count": 8,
     "metadata": {},
     "output_type": "execute_result"
    }
   ],
   "source": [
    "solution(\"01033334444\")"
   ]
  },
  {
   "cell_type": "code",
   "execution_count": 9,
   "id": "fd307249-0102-4658-9747-1c612ed9ee19",
   "metadata": {},
   "outputs": [
    {
     "data": {
      "text/plain": [
       "'*****8888'"
      ]
     },
     "execution_count": 9,
     "metadata": {},
     "output_type": "execute_result"
    }
   ],
   "source": [
    "solution(\"027778888\")"
   ]
  },
  {
   "cell_type": "code",
   "execution_count": null,
   "id": "2d52ef12-1525-491c-8e20-ca935384a6e9",
   "metadata": {},
   "outputs": [],
   "source": []
  }
 ],
 "metadata": {
  "kernelspec": {
   "display_name": "Python 3 (ipykernel)",
   "language": "python",
   "name": "python3"
  },
  "language_info": {
   "codemirror_mode": {
    "name": "ipython",
    "version": 3
   },
   "file_extension": ".py",
   "mimetype": "text/x-python",
   "name": "python",
   "nbconvert_exporter": "python",
   "pygments_lexer": "ipython3",
   "version": "3.10.6"
  }
 },
 "nbformat": 4,
 "nbformat_minor": 5
}

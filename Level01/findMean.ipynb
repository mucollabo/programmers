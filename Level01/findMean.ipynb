{
 "cells": [
  {
   "cell_type": "markdown",
   "id": "7d601895-f986-48f7-9b32-841144b0443b",
   "metadata": {},
   "source": [
    "# 평균 구하기\n",
    "## 문제 설명\n",
    "### 정수를 담고 있는 배열 arr의 평균값을 return하는 함수, solution을 완성해보세요.\n",
    "\n",
    "## 제한사항\n",
    "* arr은 길이 1 이상, 100 이하인 배열입니다.\n",
    "* arr의 원소는 -10,000 이상 10,000 이하인 정수입니다.\n",
    "## 입출력 예\n",
    "|arr|return|\n",
    "|---|------|\n",
    "|[1,2,3,4]|2.5|\n",
    "|[5,5]|5|"
   ]
  },
  {
   "cell_type": "code",
   "execution_count": 1,
   "id": "850d1a5b-665b-4ec3-b532-840c3d2e9b30",
   "metadata": {},
   "outputs": [],
   "source": [
    "def solution(arr):\n",
    "    return sum(arr)/len(arr)"
   ]
  },
  {
   "cell_type": "code",
   "execution_count": 2,
   "id": "d1e83972-55d7-484f-aaaa-25a8349b4e0d",
   "metadata": {},
   "outputs": [
    {
     "data": {
      "text/plain": [
       "2.5"
      ]
     },
     "execution_count": 2,
     "metadata": {},
     "output_type": "execute_result"
    }
   ],
   "source": [
    "solution([1,2,3,4])"
   ]
  },
  {
   "cell_type": "code",
   "execution_count": 3,
   "id": "144a3cf8-172c-41d8-b067-c30291872e63",
   "metadata": {},
   "outputs": [
    {
     "data": {
      "text/plain": [
       "5.0"
      ]
     },
     "execution_count": 3,
     "metadata": {},
     "output_type": "execute_result"
    }
   ],
   "source": [
    "solution([5,5])"
   ]
  },
  {
   "cell_type": "code",
   "execution_count": null,
   "id": "8a146401-5db6-4a6e-b37f-d6738a93a171",
   "metadata": {},
   "outputs": [],
   "source": []
  }
 ],
 "metadata": {
  "kernelspec": {
   "display_name": "Python 3 (ipykernel)",
   "language": "python",
   "name": "python3"
  },
  "language_info": {
   "codemirror_mode": {
    "name": "ipython",
    "version": 3
   },
   "file_extension": ".py",
   "mimetype": "text/x-python",
   "name": "python",
   "nbconvert_exporter": "python",
   "pygments_lexer": "ipython3",
   "version": "3.10.6"
  }
 },
 "nbformat": 4,
 "nbformat_minor": 5
}

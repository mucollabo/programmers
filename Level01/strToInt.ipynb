{
 "cells": [
  {
   "cell_type": "markdown",
   "id": "0aac1648-7f8b-4dce-a3ab-cc01a9605fee",
   "metadata": {},
   "source": [
    "# 문자열을 정수로 바꾸기\n",
    "## 문제 설명\n",
    "### 문자열 s를 숫자로 변환한 결과를 반환하는 함수, solution을 완성하세요.\n",
    "\n",
    "## 제한 조건\n",
    "* s의 길이는 1 이상 5이하입니다.\n",
    "* s의 맨앞에는 부호(+, -)가 올 수 있습니다.\n",
    "* s는 부호와 숫자로만 이루어져있습니다.\n",
    "* s는 \"0\"으로 시작하지 않습니다.\n",
    "## 입출력 예\n",
    "### 예를들어 str이 \"1234\"이면 1234를 반환하고, \"-1234\"이면 -1234를 반환하면 됩니다.\n",
    "### str은 부호(+,-)와 숫자로만 구성되어 있고, 잘못된 값이 입력되는 경우는 없습니다."
   ]
  },
  {
   "cell_type": "code",
   "execution_count": 1,
   "id": "63ce068f-de61-43f2-8f63-46b285647e1a",
   "metadata": {},
   "outputs": [],
   "source": [
    "def solution(s):\n",
    "    return eval(s)"
   ]
  },
  {
   "cell_type": "code",
   "execution_count": 2,
   "id": "60e1b20a-40cb-4c49-9f24-d02b8e795f46",
   "metadata": {},
   "outputs": [
    {
     "data": {
      "text/plain": [
       "-1234"
      ]
     },
     "execution_count": 2,
     "metadata": {},
     "output_type": "execute_result"
    }
   ],
   "source": [
    "solution(\"-1234\")"
   ]
  },
  {
   "cell_type": "code",
   "execution_count": 3,
   "id": "e312c966-db0c-46cd-87ad-2bdddcc11017",
   "metadata": {},
   "outputs": [
    {
     "data": {
      "text/plain": [
       "1234"
      ]
     },
     "execution_count": 3,
     "metadata": {},
     "output_type": "execute_result"
    }
   ],
   "source": [
    "solution(\"1234\")"
   ]
  },
  {
   "cell_type": "code",
   "execution_count": null,
   "id": "8014b4da-8f92-43ef-87f4-9e31871d2c8d",
   "metadata": {},
   "outputs": [],
   "source": []
  }
 ],
 "metadata": {
  "kernelspec": {
   "display_name": "Python 3 (ipykernel)",
   "language": "python",
   "name": "python3"
  },
  "language_info": {
   "codemirror_mode": {
    "name": "ipython",
    "version": 3
   },
   "file_extension": ".py",
   "mimetype": "text/x-python",
   "name": "python",
   "nbconvert_exporter": "python",
   "pygments_lexer": "ipython3",
   "version": "3.10.6"
  }
 },
 "nbformat": 4,
 "nbformat_minor": 5
}

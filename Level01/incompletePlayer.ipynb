{
 "cells": [
  {
   "cell_type": "markdown",
   "id": "f55de3a3-cfac-472b-b9af-a0e55dff4dd0",
   "metadata": {},
   "source": [
    "# 완주하지 못한 선수\n",
    "## 문제 설명\n",
    "### 수많은 마라톤 선수들이 마라톤에 참여하였습니다. 단 한 명의 선수를 제외하고는 모든 선수가 마라톤을 완주하였습니다.\n",
    "\n",
    "### 마라톤에 참여한 선수들의 이름이 담긴 배열 participant와 완주한 선수들의 이름이 담긴 배열 completion이 주어질 때, 완주하지 못한 선수의 이름을 return 하도록 solution 함수를 작성해주세요.\n",
    "\n",
    "## 제한사항\n",
    "* 마라톤 경기에 참여한 선수의 수는 1명 이상 100,000명 이하입니다.\n",
    "* completion의 길이는 participant의 길이보다 1 작습니다.\n",
    "* 참가자의 이름은 1개 이상 20개 이하의 알파벳 소문자로 이루어져 있습니다.\n",
    "* 참가자 중에는 동명이인이 있을 수 있습니다.\n",
    "## 입출력 예\n",
    "|participant|completion|return|\n",
    "|-----------|----------|------|\n",
    "|[\"leo\", \"kiki\", \"eden\"]|[\"eden\", \"kiki\"]|\"leo\"|\n",
    "|[\"marina\", \"josipa\", \"nikola\", \"vinko\", \"filipa\"]|[\"josipa\", \"filipa\", \"marina\", \"nikola\"]|\"vinko\"|\n",
    "|[\"mislav\", \"stanko\", \"mislav\", \"ana\"]|[\"stanko\", \"ana\", \"mislav\"]|\"mislav\"|\n",
    "## 입출력 예 설명\n",
    "### 예제 #1\n",
    "* \"leo\"는 참여자 명단에는 있지만, 완주자 명단에는 없기 때문에 완주하지 못했습니다.\n",
    "\n",
    "### 예제 #2\n",
    "* \"vinko\"는 참여자 명단에는 있지만, 완주자 명단에는 없기 때문에 완주하지 못했습니다.\n",
    "\n",
    "### 예제 #3\n",
    "* \"mislav\"는 참여자 명단에는 두 명이 있지만, 완주자 명단에는 한 명밖에 없기 때문에 한명은 완주하지 못했습니다.\n",
    "\n",
    "[출처](http://hsin.hr/coci/archive/2014_2015/contest2_tasks.pdf)"
   ]
  },
  {
   "cell_type": "code",
   "execution_count": 26,
   "id": "56339a69-528a-461b-9015-4570e6af58dd",
   "metadata": {},
   "outputs": [],
   "source": [
    "def solution(participant, completion):\n",
    "    participant.sort()\n",
    "    completion.sort()\n",
    "    for i in range(len(completion)):\n",
    "        participant[i]\n",
    "    return participant[0]"
   ]
  },
  {
   "cell_type": "code",
   "execution_count": 27,
   "id": "b36cc1e0-067e-4236-9f3c-ac98b0ededc1",
   "metadata": {},
   "outputs": [
    {
     "data": {
      "text/plain": [
       "'eden'"
      ]
     },
     "execution_count": 27,
     "metadata": {},
     "output_type": "execute_result"
    }
   ],
   "source": [
    "solution([\"leo\", \"kiki\", \"eden\"], [\"eden\", \"kiki\"])"
   ]
  },
  {
   "cell_type": "code",
   "execution_count": 20,
   "id": "8d4d6d34-e734-480d-8f32-af25b6a6ae59",
   "metadata": {},
   "outputs": [
    {
     "data": {
      "text/plain": [
       "'vinko'"
      ]
     },
     "execution_count": 20,
     "metadata": {},
     "output_type": "execute_result"
    }
   ],
   "source": [
    "solution([\"marina\", \"josipa\", \"nikola\", \"vinko\", \"filipa\"],[\"josipa\", \"filipa\", \"marina\", \"nikola\"])"
   ]
  },
  {
   "cell_type": "code",
   "execution_count": 21,
   "id": "dc91d081-3d6c-43d3-ba7a-faabd85b3d6e",
   "metadata": {},
   "outputs": [
    {
     "data": {
      "text/plain": [
       "'mislav'"
      ]
     },
     "execution_count": 21,
     "metadata": {},
     "output_type": "execute_result"
    }
   ],
   "source": [
    "solution([\"mislav\", \"stanko\", \"mislav\", \"ana\"],[\"stanko\", \"ana\", \"mislav\"])"
   ]
  },
  {
   "cell_type": "code",
   "execution_count": 49,
   "id": "67f2c682-ec48-45a8-80bd-5b6f2a76966c",
   "metadata": {},
   "outputs": [],
   "source": [
    "from collections import Counter\n",
    "\n",
    "def solution2(participant, completion):\n",
    "    cnt = Counter()\n",
    "    for p in participant:\n",
    "        cnt[p] += 1\n",
    "    for c in completion:\n",
    "        cnt[c] -= 1\n",
    "    return list(x for x, y in cnt.items() if y == 1)[0]"
   ]
  },
  {
   "cell_type": "code",
   "execution_count": 50,
   "id": "975a6ac0-75e3-425e-be9b-ab119c9ad306",
   "metadata": {},
   "outputs": [
    {
     "data": {
      "text/plain": [
       "'leo'"
      ]
     },
     "execution_count": 50,
     "metadata": {},
     "output_type": "execute_result"
    }
   ],
   "source": [
    "solution2([\"leo\", \"kiki\", \"eden\"], [\"eden\", \"kiki\"])"
   ]
  },
  {
   "cell_type": "code",
   "execution_count": 51,
   "id": "8ab7f4aa-d491-4882-ab8f-40dbfc606a44",
   "metadata": {},
   "outputs": [
    {
     "data": {
      "text/plain": [
       "'vinko'"
      ]
     },
     "execution_count": 51,
     "metadata": {},
     "output_type": "execute_result"
    }
   ],
   "source": [
    "solution2([\"marina\", \"josipa\", \"nikola\", \"vinko\", \"filipa\"],[\"josipa\", \"filipa\", \"marina\", \"nikola\"])"
   ]
  },
  {
   "cell_type": "code",
   "execution_count": 52,
   "id": "9085046e-80b9-4d67-a82f-5b3fe9fc398c",
   "metadata": {},
   "outputs": [
    {
     "data": {
      "text/plain": [
       "'mislav'"
      ]
     },
     "execution_count": 52,
     "metadata": {},
     "output_type": "execute_result"
    }
   ],
   "source": [
    "solution2([\"mislav\", \"stanko\", \"mislav\", \"ana\"],[\"stanko\", \"ana\", \"mislav\"])"
   ]
  },
  {
   "cell_type": "code",
   "execution_count": 53,
   "id": "4d67f336-89e3-4616-a1b5-498046fba68a",
   "metadata": {},
   "outputs": [],
   "source": [
    "from collections import Counter\n",
    "\n",
    "def solution3(participant, completion):\n",
    "    return list((Counter(participant) - Counter(completion)).keys())[0]"
   ]
  },
  {
   "cell_type": "code",
   "execution_count": 54,
   "id": "d28dcaf8-798e-456c-9aa9-bf86c429840d",
   "metadata": {},
   "outputs": [
    {
     "data": {
      "text/plain": [
       "'leo'"
      ]
     },
     "execution_count": 54,
     "metadata": {},
     "output_type": "execute_result"
    }
   ],
   "source": [
    "solution3([\"leo\", \"kiki\", \"eden\"], [\"eden\", \"kiki\"])"
   ]
  },
  {
   "cell_type": "code",
   "execution_count": 55,
   "id": "45b26290-8be2-4435-9863-89d2bdbc8cc4",
   "metadata": {},
   "outputs": [
    {
     "data": {
      "text/plain": [
       "'vinko'"
      ]
     },
     "execution_count": 55,
     "metadata": {},
     "output_type": "execute_result"
    }
   ],
   "source": [
    "solution3([\"marina\", \"josipa\", \"nikola\", \"vinko\", \"filipa\"],[\"josipa\", \"filipa\", \"marina\", \"nikola\"])"
   ]
  },
  {
   "cell_type": "code",
   "execution_count": 56,
   "id": "e2d3c3d9-9de4-45f8-83cf-3f5c618ca6d3",
   "metadata": {},
   "outputs": [
    {
     "data": {
      "text/plain": [
       "'mislav'"
      ]
     },
     "execution_count": 56,
     "metadata": {},
     "output_type": "execute_result"
    }
   ],
   "source": [
    "solution3([\"mislav\", \"stanko\", \"mislav\", \"ana\"],[\"stanko\", \"ana\", \"mislav\"])"
   ]
  },
  {
   "cell_type": "code",
   "execution_count": null,
   "id": "6080c0ea-c6da-4c9d-80c3-c552ef9b954e",
   "metadata": {},
   "outputs": [],
   "source": []
  }
 ],
 "metadata": {
  "kernelspec": {
   "display_name": "Python 3 (ipykernel)",
   "language": "python",
   "name": "python3"
  },
  "language_info": {
   "codemirror_mode": {
    "name": "ipython",
    "version": 3
   },
   "file_extension": ".py",
   "mimetype": "text/x-python",
   "name": "python",
   "nbconvert_exporter": "python",
   "pygments_lexer": "ipython3",
   "version": "3.10.6"
  }
 },
 "nbformat": 4,
 "nbformat_minor": 5
}

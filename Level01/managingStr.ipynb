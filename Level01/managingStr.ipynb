{
 "cells": [
  {
   "cell_type": "markdown",
   "id": "2129ed03-a344-4467-84fd-f03e79cab76a",
   "metadata": {},
   "source": [
    "# 문자열 다루기 기본\n",
    "## 문제 설명\n",
    "### 문자열 s의 길이가 4 혹은 6이고, 숫자로만 구성돼있는지 확인해주는 함수, solution을 완성하세요. 예를 들어 s가 \"a234\"이면 False를 리턴하고 \"1234\"라면 True를 리턴하면 됩니다.\n",
    "\n",
    "## 제한 사항\n",
    "* s는 길이 1 이상, 길이 8 이하인 문자열입니다.\n",
    "* s는 영문 알파벳 대소문자 또는 0부터 9까지 숫자로 이루어져 있습니다.\n",
    "## 입출력 예\n",
    "|s|return|\n",
    "|-|------|\n",
    "|\"a234\"|false|\n",
    "|\"1234\"|true|\n",
    "## 문제가 잘 안풀린다면😢\n",
    "### 힌트가 필요한가요? [코딩테스트 연습 힌트 모음집]으로 오세요! → 클릭\n",
    "\n",
    "* 공지 - 2022년 7월 22일 테스트케이스가 추가되었습니다.\n",
    "* 공지 - 2022년 7월 22일 제한 사항이 추가되었습니다."
   ]
  },
  {
   "cell_type": "code",
   "execution_count": 3,
   "id": "cded9a81-fa27-4a0e-ba9f-51bbf0a7000c",
   "metadata": {},
   "outputs": [],
   "source": [
    "def solution(s):\n",
    "    return s.isdigit() if len(s) == 4 or len(s) == 6 else False"
   ]
  },
  {
   "cell_type": "code",
   "execution_count": 4,
   "id": "ee586dd1-21f9-46f9-9f6f-0225eb2d8659",
   "metadata": {},
   "outputs": [
    {
     "data": {
      "text/plain": [
       "False"
      ]
     },
     "execution_count": 4,
     "metadata": {},
     "output_type": "execute_result"
    }
   ],
   "source": [
    "solution(\"a234\")"
   ]
  },
  {
   "cell_type": "code",
   "execution_count": 5,
   "id": "9ac3f30c-5b65-4db4-b8a2-a4645cf73337",
   "metadata": {},
   "outputs": [
    {
     "data": {
      "text/plain": [
       "True"
      ]
     },
     "execution_count": 5,
     "metadata": {},
     "output_type": "execute_result"
    }
   ],
   "source": [
    "solution(\"1234\")"
   ]
  },
  {
   "cell_type": "code",
   "execution_count": null,
   "id": "4723d937-e644-466f-91d5-b5bb0bec08c6",
   "metadata": {},
   "outputs": [],
   "source": []
  }
 ],
 "metadata": {
  "kernelspec": {
   "display_name": "Python 3 (ipykernel)",
   "language": "python",
   "name": "python3"
  },
  "language_info": {
   "codemirror_mode": {
    "name": "ipython",
    "version": 3
   },
   "file_extension": ".py",
   "mimetype": "text/x-python",
   "name": "python",
   "nbconvert_exporter": "python",
   "pygments_lexer": "ipython3",
   "version": "3.10.6"
  }
 },
 "nbformat": 4,
 "nbformat_minor": 5
}

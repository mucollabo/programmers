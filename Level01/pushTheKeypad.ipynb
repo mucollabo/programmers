{
 "cells": [
  {
   "cell_type": "markdown",
   "id": "aae3d2f9-e5dd-4c5e-ad54-cf12f0b1c068",
   "metadata": {},
   "source": [
    "## 키패드 누르기\n",
    "### 문제 설명\n",
    "#### 스마트폰 전화 키패드의 각 칸에 다음과 같이 숫자들이 적혀 있습니다.\n",
    "\n",
    "![kakao_phone1.png](https://grepp-programmers.s3.ap-northeast-2.amazonaws.com/files/production/4b69a271-5f4a-4bf4-9ebf-6ebed5a02d8d/kakao_phone1.png)\n",
    "\n",
    "#### 이 전화 키패드에서 왼손과 오른손의 엄지손가락만을 이용해서 숫자만을 입력하려고 합니다.\n",
    "#### 맨 처음 왼손 엄지손가락은 * 키패드에 오른손 엄지손가락은 # 키패드 위치에서 시작하며, 엄지손가락을 사용하는 규칙은 다음과 같습니다.\n",
    "\n",
    "1. 엄지손가락은 상하좌우 4가지 방향으로만 이동할 수 있으며 키패드 이동 한 칸은 거리로 1에 해당합니다.\n",
    "2. 왼쪽 열의 3개의 숫자 1, 4, 7을 입력할 때는 왼손 엄지손가락을 사용합니다.\n",
    "3. 오른쪽 열의 3개의 숫자 3, 6, 9를 입력할 때는 오른손 엄지손가락을 사용합니다.\n",
    "4. 가운데 열의 4개의 숫자 2, 5, 8, 0을 입력할 때는 두 엄지손가락의 현재 키패드의 위치에서 더 가까운 엄지손가락을 사용합니다.\n",
    "\n",
    "   4-1. 만약 두 엄지손가락의 거리가 같다면, 오른손잡이는 오른손 엄지손가락, 왼손잡이는 왼손 엄지손가락을 사용합니다.\n",
    "#### 순서대로 누를 번호가 담긴 배열 numbers, 왼손잡이인지 오른손잡이인 지를 나타내는 문자열 hand가 매개변수로 주어질 때, 각 번호를 누른 엄지손가락이 왼손인 지 오른손인 지를 나타내는 연속된 문자열 형태로 return 하도록 solution 함수를 완성해주세요.\n",
    "\n",
    "### [제한사항]\n",
    "* numbers 배열의 크기는 1 이상 1,000 이하입니다.\n",
    "* numbers 배열 원소의 값은 0 이상 9 이하인 정수입니다.\n",
    "* hand는 \"left\" 또는 \"right\" 입니다.\n",
    "  * \"left\"는 왼손잡이, \"right\"는 오른손잡이를 의미합니다.\n",
    "* 왼손 엄지손가락을 사용한 경우는 L, 오른손 엄지손가락을 사용한 경우는 R을 순서대로 이어붙여 문자열 형태로 return 해주세요.\n",
    "### 입출력 예\n",
    "|numbers|hand|result|\n",
    "|-------|----|------|\n",
    "|[1, 3, 4, 5, 8, 2, 1, 4, 5, 9, 5]|\"right\"|\"LRLLLRLLRRL\"|\n",
    "|[7, 0, 8, 2, 8, 3, 1, 5, 7, 6, 2]|\"left\"|\"LRLLRRLLLRR\"|\n",
    "|[1, 2, 3, 4, 5, 6, 7, 8, 9, 0]|\"right\"|\"LLRLLRLLRL\"|\n",
    "### 입출력 예에 대한 설명\n",
    "#### 입출력 예 #1\n",
    "\n",
    "#### 순서대로 눌러야 할 번호가 [1, 3, 4, 5, 8, 2, 1, 4, 5, 9, 5]이고, 오른손잡이입니다.\n",
    "\n",
    "|왼손 위치|오른손 위치|눌러야 할 숫자|사용한 손|설명|\n",
    "|-------|--------|-----------|-------|---|\n",
    "|*|#|1|L|1은 왼손으로 누릅니다.|\n",
    "|1|#|3|R|3은 오른손으로 누릅니다.|\n",
    "|1|3|4|L|4는 왼손으로 누릅니다.|\n",
    "|4|3|5|L|왼손 거리는 1, 오른손 거리는 2이므로 왼손으로 5를 누릅니다.|\n",
    "|5|3|8|L|왼손 거리는 1, 오른손 거리는 3이므로 왼손으로 8을 누릅니다.|\n",
    "|8|3|2|R|왼손 거리는 2, 오른손 거리는 1이므로 오른손으로 2를 누릅니다.|\n",
    "|8|2|1|L|1은 왼손으로 누릅니다.|\n",
    "|1|2|4|L|4는 왼손으로 누릅니다.|\n",
    "|4|2|5|R|왼손 거리와 오른손 거리가 1로 같으므로, 오른손으로 5를 누릅니다.|\n",
    "|4|5|9|R|9는 오른손으로 누릅니다.|\n",
    "|4|9|5|L|왼손 거리는 1, 오른손 거리는 2이므로 왼손으로 5를 누릅니다.|\n",
    "|5|9|-|-| |\n",
    "#### 따라서 **\"LRLLLRLLRRL\"** 를 return 합니다.\n",
    "\n",
    "#### 입출력 예 #2\n",
    "\n",
    "#### 왼손잡이가 [7, 0, 8, 2, 8, 3, 1, 5, 7, 6, 2]를 순서대로 누르면 사용한 손은 \"LRLLRRLLLRR\"이 됩니다.\n",
    "\n",
    "#### 입출력 예 #3\n",
    "\n",
    "#### 오른손잡이가 [1, 2, 3, 4, 5, 6, 7, 8, 9, 0]를 순서대로 누르면 사용한 손은 \"LLRLLRLLRL\"이 됩니다."
   ]
  },
  {
   "cell_type": "code",
   "execution_count": 35,
   "id": "d4db5797-9d36-40be-8bb1-4582ed1d90ec",
   "metadata": {},
   "outputs": [],
   "source": [
    "def solution(numbers, hand):\n",
    "    p = {'1':[0,0], '2':[0,1], '3':[0,2],\n",
    "         '4':[1,0], '5':[1,1], '6':[1,2],\n",
    "         '7':[2,0], '8':[2,1], '9':[2,2],\n",
    "         '*':[3,0], '0':[3,1], '#':[3,2]}\n",
    "    lp, rp = p['*'], p['#']\n",
    "    result = ''\n",
    "    print(lp, rp)\n",
    "    for n in numbers:\n",
    "        if n in (1, 4, 7):\n",
    "            result += 'L'\n",
    "            lp = p[str(n)]\n",
    "            print('move lp to: ', lp)\n",
    "        elif n in (3, 6, 9):\n",
    "            result += 'R'\n",
    "            rp = p[str(n)]\n",
    "            print('move rp to: ', rp)\n",
    "        else:\n",
    "            distLp = abs(p[str(n)][0] - lp[0]) + abs(p[str(n)][1] - lp[1])\n",
    "            distRp = abs(p[str(n)][0] - rp[0]) + abs(p[str(n)][1] - rp[1])\n",
    "            print('distance of lp: ', distLp)\n",
    "            print('distance of rp: ', distRp)\n",
    "            if distLp < distRp:\n",
    "                result += 'L'\n",
    "                lp = p[str(n)]\n",
    "                print('move lp to: ', lp)\n",
    "            elif distRp < distLp:\n",
    "                result += 'R'\n",
    "                rp = p[str(n)]\n",
    "                print('move rp to: ', rp)\n",
    "            else:\n",
    "                if hand == 'left':\n",
    "                    result += 'L'\n",
    "                    lp = p[str(n)]\n",
    "                    print('move lp to: ', lp)\n",
    "                else:\n",
    "                    result += 'R'\n",
    "                    rp = p[str(n)]\n",
    "                    print('move rp to: ', rp)\n",
    "    return result"
   ]
  },
  {
   "cell_type": "code",
   "execution_count": 36,
   "id": "760bacf1-8f1c-4186-928e-eab1e3ba1073",
   "metadata": {},
   "outputs": [],
   "source": [
    "def solution(numbers, hand):\n",
    "    p = {'1':[0,0], '2':[0,1], '3':[0,2],\n",
    "         '4':[1,0], '5':[1,1], '6':[1,2],\n",
    "         '7':[2,0], '8':[2,1], '9':[2,2],\n",
    "         '*':[3,0], '0':[3,1], '#':[3,2]}\n",
    "    lp, rp = p['*'], p['#']\n",
    "    result = ''\n",
    "    \n",
    "    for n in numbers:\n",
    "        if n in (1, 4, 7):\n",
    "            result += 'L'\n",
    "            lp = p[str(n)]\n",
    "        elif n in (3, 6, 9):\n",
    "            result += 'R'\n",
    "            rp = p[str(n)]\n",
    "        else:\n",
    "            distLp = abs(p[str(n)][0] - lp[0]) + abs(p[str(n)][1] - lp[1])\n",
    "            distRp = abs(p[str(n)][0] - rp[0]) + abs(p[str(n)][1] - rp[1])\n",
    "            if distLp < distRp:\n",
    "                result += 'L'\n",
    "                lp = p[str(n)]\n",
    "            elif distRp < distLp:\n",
    "                result += 'R'\n",
    "                rp = p[str(n)]\n",
    "            else:\n",
    "                if hand == 'left':\n",
    "                    result += 'L'\n",
    "                    lp = p[str(n)]\n",
    "                else:\n",
    "                    result += 'R'\n",
    "                    rp = p[str(n)]\n",
    "    return result"
   ]
  },
  {
   "cell_type": "code",
   "execution_count": 32,
   "id": "c36d04f6-b8f0-439e-b441-872ca229515e",
   "metadata": {},
   "outputs": [
    {
     "data": {
      "text/plain": [
       "'LRLLLRLLRRL'"
      ]
     },
     "execution_count": 32,
     "metadata": {},
     "output_type": "execute_result"
    }
   ],
   "source": [
    "solution([1, 3, 4, 5, 8, 2, 1, 4, 5, 9, 5], \"right\")"
   ]
  },
  {
   "cell_type": "code",
   "execution_count": 33,
   "id": "3eb4ebbf-f8ae-477e-8713-959737074e41",
   "metadata": {},
   "outputs": [
    {
     "data": {
      "text/plain": [
       "'LRLLRRLLLRR'"
      ]
     },
     "execution_count": 33,
     "metadata": {},
     "output_type": "execute_result"
    }
   ],
   "source": [
    "solution([7, 0, 8, 2, 8, 3, 1, 5, 7, 6, 2], \"left\")"
   ]
  },
  {
   "cell_type": "code",
   "execution_count": 34,
   "id": "0f330c62-6597-493f-9435-14fda14c062d",
   "metadata": {},
   "outputs": [
    {
     "data": {
      "text/plain": [
       "'LLRLLRLLRL'"
      ]
     },
     "execution_count": 34,
     "metadata": {},
     "output_type": "execute_result"
    }
   ],
   "source": [
    "solution([1, 2, 3, 4, 5, 6, 7, 8, 9, 0], \"right\")"
   ]
  },
  {
   "cell_type": "code",
   "execution_count": null,
   "id": "e7b0e24f-f0d5-4f9a-a3e1-470421775022",
   "metadata": {},
   "outputs": [],
   "source": []
  }
 ],
 "metadata": {
  "kernelspec": {
   "display_name": "Python 3 (ipykernel)",
   "language": "python",
   "name": "python3"
  },
  "language_info": {
   "codemirror_mode": {
    "name": "ipython",
    "version": 3
   },
   "file_extension": ".py",
   "mimetype": "text/x-python",
   "name": "python",
   "nbconvert_exporter": "python",
   "pygments_lexer": "ipython3",
   "version": "3.10.6"
  }
 },
 "nbformat": 4,
 "nbformat_minor": 5
}

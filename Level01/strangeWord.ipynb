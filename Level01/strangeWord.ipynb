{
 "cells": [
  {
   "cell_type": "markdown",
   "id": "8af1889f-32ef-4e6e-8a96-16a271552c15",
   "metadata": {},
   "source": [
    "# 이상한 문자 만들기\n",
    "## 문제 설명\n",
    "### 문자열 s는 한 개 이상의 단어로 구성되어 있습니다. 각 단어는 하나 이상의 공백문자로 구분되어 있습니다. 각 단어의 짝수번째 알파벳은 대문자로, 홀수번째 알파벳은 소문자로 바꾼 문자열을 리턴하는 함수, solution을 완성하세요.\n",
    "\n",
    "## 제한 사항\n",
    "* 문자열 전체의 짝/홀수 인덱스가 아니라, 단어(공백을 기준)별로 짝/홀수 인덱스를 판단해야합니다.\n",
    "* 첫 번째 글자는 0번째 인덱스로 보아 짝수번째 알파벳으로 처리해야 합니다.\n",
    "## 입출력 예\n",
    "|s|return|\n",
    "|-|------|\n",
    "|\"try hello world\"|\"TrY HeLlO WoRlD\"|\n",
    "## 입출력 예 설명\n",
    "### \"try hello world\"는 세 단어 \"try\", \"hello\", \"world\"로 구성되어 있습니다. 각 단어의 짝수번째 문자를 대문자로, 홀수번째 문자를 소문자로 바꾸면 \"TrY\", \"HeLlO\", \"WoRlD\"입니다. 따라서 \"TrY HeLlO WoRlD\" 를 리턴합니다.\n",
    "\n",
    "## 문제가 잘 안풀린다면😢\n",
    "### 힌트가 필요한가요? [코딩테스트 연습 힌트 모음집]으로 오세요! → 클릭"
   ]
  },
  {
   "cell_type": "code",
   "execution_count": 24,
   "id": "732cf4d6-886d-4d53-9a14-eebae7d519c3",
   "metadata": {},
   "outputs": [],
   "source": [
    "def solution(s):\n",
    "    r = []\n",
    "    for i in s.split(' '):\n",
    "        w = ''\n",
    "        for index, item in enumerate(i):\n",
    "            if index%2 == 0:\n",
    "                w += item.upper()\n",
    "            else:\n",
    "                w += item.lower()\n",
    "        r.append(w)\n",
    "    return ' '.join(r)"
   ]
  },
  {
   "cell_type": "code",
   "execution_count": 25,
   "id": "e32cbe68-de39-4bb8-ad86-e57ee32c0427",
   "metadata": {},
   "outputs": [
    {
     "data": {
      "text/plain": [
       "'TrY HeLlO WoRlD'"
      ]
     },
     "execution_count": 25,
     "metadata": {},
     "output_type": "execute_result"
    }
   ],
   "source": [
    "solution(\"try hello world\")"
   ]
  },
  {
   "cell_type": "code",
   "execution_count": 29,
   "id": "d1f5c6a3-9952-4251-aa85-73640a592cb3",
   "metadata": {},
   "outputs": [],
   "source": [
    "def solution2(s):\n",
    "    return ' '.join(map(lambda x : ''.join([a.lower() if i%2 else a.upper() for i , a in enumerate(x)]), s.split(' ')))"
   ]
  },
  {
   "cell_type": "code",
   "execution_count": 30,
   "id": "9f603f3b-bab2-49a2-bd8a-adea13db538e",
   "metadata": {},
   "outputs": [
    {
     "data": {
      "text/plain": [
       "'TrY HeLlO WoRlD'"
      ]
     },
     "execution_count": 30,
     "metadata": {},
     "output_type": "execute_result"
    }
   ],
   "source": [
    "solution2('try hello world')"
   ]
  },
  {
   "cell_type": "code",
   "execution_count": null,
   "id": "51dcea7c-6886-4a8e-a9f5-a87fb725d039",
   "metadata": {},
   "outputs": [],
   "source": []
  }
 ],
 "metadata": {
  "kernelspec": {
   "display_name": "Python 3 (ipykernel)",
   "language": "python",
   "name": "python3"
  },
  "language_info": {
   "codemirror_mode": {
    "name": "ipython",
    "version": 3
   },
   "file_extension": ".py",
   "mimetype": "text/x-python",
   "name": "python",
   "nbconvert_exporter": "python",
   "pygments_lexer": "ipython3",
   "version": "3.10.6"
  }
 },
 "nbformat": 4,
 "nbformat_minor": 5
}

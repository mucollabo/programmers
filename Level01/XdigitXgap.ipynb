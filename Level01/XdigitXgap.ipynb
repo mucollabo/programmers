{
 "cells": [
  {
   "cell_type": "markdown",
   "id": "d6a28622-fa7d-43fa-a267-6111cae6d3db",
   "metadata": {},
   "source": [
    "# x만큼 간격이 있는 n개의 숫자\n",
    "## 문제 설명\n",
    "### 함수 solution은 정수 x와 자연수 n을 입력 받아, x부터 시작해 x씩 증가하는 숫자를 n개 지니는 리스트를 리턴해야 합니다. 다음 제한 조건을 보고, 조건을 만족하는 함수, solution을 완성해주세요.\n",
    "\n",
    "## 제한 조건\n",
    "* x는 -10000000 이상, 10000000 이하인 정수입니다.\n",
    "* n은 1000 이하인 자연수입니다.\n",
    "## 입출력 예\n",
    "|x|n|answer|\n",
    "|-|-|------|\n",
    "|2|5|[2,4,6,8,10]|\n",
    "|4|3|[4,8,12]|\n",
    "|-4|2|[-4, -8]|"
   ]
  },
  {
   "cell_type": "code",
   "execution_count": 4,
   "id": "d2a2a0ac-0e48-4762-ae28-d00f20b00234",
   "metadata": {},
   "outputs": [],
   "source": [
    "def solution(x, n):\n",
    "    d = 0\n",
    "    r = []\n",
    "    for i in range(n):\n",
    "        d += x\n",
    "        r.append(d)\n",
    "    return r"
   ]
  },
  {
   "cell_type": "code",
   "execution_count": 5,
   "id": "9d8d76ef-07bc-4ae5-9cd8-81ece524a7c8",
   "metadata": {},
   "outputs": [
    {
     "data": {
      "text/plain": [
       "[2, 4, 6, 8, 10]"
      ]
     },
     "execution_count": 5,
     "metadata": {},
     "output_type": "execute_result"
    }
   ],
   "source": [
    "solution(2,5)"
   ]
  },
  {
   "cell_type": "code",
   "execution_count": 6,
   "id": "4aa5bd2c-5e3d-44e9-b5d9-96c85627248a",
   "metadata": {},
   "outputs": [
    {
     "data": {
      "text/plain": [
       "[4, 8, 12]"
      ]
     },
     "execution_count": 6,
     "metadata": {},
     "output_type": "execute_result"
    }
   ],
   "source": [
    "solution(4,3)"
   ]
  },
  {
   "cell_type": "code",
   "execution_count": 7,
   "id": "1fb4e0a9-dd32-49af-81a6-9ea9f0a13862",
   "metadata": {},
   "outputs": [
    {
     "data": {
      "text/plain": [
       "[-4, -8]"
      ]
     },
     "execution_count": 7,
     "metadata": {},
     "output_type": "execute_result"
    }
   ],
   "source": [
    "solution(-4,2)"
   ]
  },
  {
   "cell_type": "code",
   "execution_count": 25,
   "id": "2f1e5970-9bab-4a26-9788-a4ad1606c30d",
   "metadata": {},
   "outputs": [],
   "source": [
    "def solution2(x, n):\n",
    "    return list(map(lambda i: x*i, range(1, n+1)))"
   ]
  },
  {
   "cell_type": "code",
   "execution_count": 26,
   "id": "02324023-7a15-435a-8d8f-f6709912a79b",
   "metadata": {},
   "outputs": [
    {
     "data": {
      "text/plain": [
       "[2, 4, 6, 8, 10]"
      ]
     },
     "execution_count": 26,
     "metadata": {},
     "output_type": "execute_result"
    }
   ],
   "source": [
    "solution2(2,5)"
   ]
  },
  {
   "cell_type": "code",
   "execution_count": 27,
   "id": "5164b8e9-01d9-4e60-8ea0-58c057fd0491",
   "metadata": {},
   "outputs": [
    {
     "data": {
      "text/plain": [
       "[4, 8, 12]"
      ]
     },
     "execution_count": 27,
     "metadata": {},
     "output_type": "execute_result"
    }
   ],
   "source": [
    "solution2(4,3)"
   ]
  },
  {
   "cell_type": "code",
   "execution_count": 28,
   "id": "6acece37-6e6f-45e7-b9a6-9b37ddbc862e",
   "metadata": {},
   "outputs": [
    {
     "data": {
      "text/plain": [
       "[-4, -8]"
      ]
     },
     "execution_count": 28,
     "metadata": {},
     "output_type": "execute_result"
    }
   ],
   "source": [
    "solution2(-4,2)"
   ]
  },
  {
   "cell_type": "code",
   "execution_count": null,
   "id": "46eb2e93-7933-46d6-b1e7-a1ef1f7dc1f2",
   "metadata": {},
   "outputs": [],
   "source": []
  }
 ],
 "metadata": {
  "kernelspec": {
   "display_name": "Python 3 (ipykernel)",
   "language": "python",
   "name": "python3"
  },
  "language_info": {
   "codemirror_mode": {
    "name": "ipython",
    "version": 3
   },
   "file_extension": ".py",
   "mimetype": "text/x-python",
   "name": "python",
   "nbconvert_exporter": "python",
   "pygments_lexer": "ipython3",
   "version": "3.10.6"
  }
 },
 "nbformat": 4,
 "nbformat_minor": 5
}

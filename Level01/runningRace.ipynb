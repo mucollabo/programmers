{
 "cells": [
  {
   "cell_type": "markdown",
   "id": "d18add95-17db-4600-9b91-09f369997185",
   "metadata": {},
   "source": [
    "### 문제 설명\n",
    "##### 얀에서는 매년 달리기 경주가 열립니다. 해설진들은 선수들이 자기 바로 앞의 선수를 추월할 때 추월한 선수의 이름을 부릅니다. 예를 들어 1등부터 3등까지 \"mumu\", \"soe\", \"poe\" 선수들이 순서대로 달리고 있을 때, 해설진이 \"soe\"선수를 불렀다면 2등인 \"soe\" 선수가 1등인 \"mumu\" 선수를 추월했다는 것입니다. 즉 \"soe\" 선수가 1등, \"mumu\" 선수가 2등으로 바뀝니다.\n",
    "\n",
    "##### 선수들의 이름이 1등부터 현재 등수 순서대로 담긴 문자열 배열 players와 해설진이 부른 이름을 담은 문자열 배열 callings가 매개변수로 주어질 때, 경주가 끝났을 때 선수들의 이름을 1등부터 등수 순서대로 배열에 담아 return 하는 solution 함수를 완성해주세요.\n",
    "\n",
    "### 제한사항\n",
    "* 5 ≤ players의 길이 ≤ 50,000\n",
    "  * players[i]는 i번째 선수의 이름을 의미합니다.\n",
    "  * players의 원소들은 알파벳 소문자로만 이루어져 있습니다.\n",
    "  * players에는 중복된 값이 들어가 있지 않습니다.\n",
    "  * 3 ≤ players[i]의 길이 ≤ 10\n",
    "* 2 ≤ callings의 길이 ≤ 1,000,000\n",
    "  * callings는 players의 원소들로만 이루어져 있습니다.\n",
    "  * 경주 진행중 1등인 선수의 이름은 불리지 않습니다.\n",
    "### 입출력 예\n",
    "|players|callings|result|\n",
    "|-------------------------------------|------------------------------|-------------------------------------|\n",
    "|[\"mumu\", \"soe\", \"poe\", \"kai\", \"mine\"]|[\"kai\", \"kai\", \"mine\", \"mine\"]|[\"mumu\", \"kai\", \"mine\", \"soe\", \"poe\"]|\n",
    "\n",
    "### 입출력 예 설명\n",
    "#### 입출력 예 #1\n",
    "\n",
    "##### 4등인 \"kai\" 선수가 2번 추월하여 2등이 되고 앞서 3등, 2등인 \"poe\", \"soe\" 선수는 4등, 3등이 됩니다. 5등인 \"mine\" 선수가 2번 추월하여 4등, 3등인 \"poe\", \"soe\" 선수가 5등, 4등이 되고 경주가 끝납니다. 1등부터 배열에 담으면 [\"mumu\", \"kai\", \"mine\", \"soe\", \"poe\"]이 됩니다."
   ]
  },
  {
   "cell_type": "code",
   "execution_count": 100,
   "id": "630a9a71-9703-4b16-b689-f7ff67b8e581",
   "metadata": {},
   "outputs": [],
   "source": [
    "def solution(players, callings):\n",
    "    for i in callings:\n",
    "        front = players.index(i) - 1\n",
    "        rear = players.index(i)\n",
    "        players[front], players[rear] = players[rear], players[front]\n",
    "        print(players)\n",
    "    return players"
   ]
  },
  {
   "cell_type": "code",
   "execution_count": 101,
   "id": "f5eec837-0903-4f05-b801-476092782779",
   "metadata": {},
   "outputs": [],
   "source": [
    "players = [\"mumu\", \"soe\", \"poe\", \"kai\", \"mine\"]\n",
    "callings = [\"kai\", \"kai\", \"mine\", \"mine\"]"
   ]
  },
  {
   "cell_type": "code",
   "execution_count": 102,
   "id": "f5aaf76a-8ac3-434f-9b7f-545732b45b77",
   "metadata": {},
   "outputs": [
    {
     "name": "stdout",
     "output_type": "stream",
     "text": [
      "['mumu', 'soe', 'kai', 'poe', 'mine']\n",
      "['mumu', 'kai', 'soe', 'poe', 'mine']\n",
      "['mumu', 'kai', 'soe', 'mine', 'poe']\n",
      "['mumu', 'kai', 'mine', 'soe', 'poe']\n"
     ]
    },
    {
     "data": {
      "text/plain": [
       "['mumu', 'kai', 'mine', 'soe', 'poe']"
      ]
     },
     "execution_count": 102,
     "metadata": {},
     "output_type": "execute_result"
    }
   ],
   "source": [
    "solution(players, callings)"
   ]
  },
  {
   "cell_type": "code",
   "execution_count": 118,
   "id": "aba42abb-3f71-45b2-af1d-879a55c3ecde",
   "metadata": {},
   "outputs": [],
   "source": [
    "def solution2(players, callings):\n",
    "    for i in callings:\n",
    "        position = players.index(i)\n",
    "        swap = players[position - 1], players[position]\n",
    "        players[position], players[position - 1] = swap\n",
    "    return players"
   ]
  },
  {
   "cell_type": "code",
   "execution_count": 146,
   "id": "30d6caba-1001-4dfc-850c-eca101cc9d52",
   "metadata": {},
   "outputs": [],
   "source": [
    "players = [\"mumu\", \"soe\", \"poe\", \"kai\", \"mine\"]\n",
    "callings = [\"kai\", \"kai\", \"mine\", \"mine\"]"
   ]
  },
  {
   "cell_type": "code",
   "execution_count": 120,
   "id": "674eb0c1-a907-4ee9-8732-e1b7eb3aa458",
   "metadata": {},
   "outputs": [
    {
     "data": {
      "text/plain": [
       "['mumu', 'kai', 'mine', 'soe', 'poe']"
      ]
     },
     "execution_count": 120,
     "metadata": {},
     "output_type": "execute_result"
    }
   ],
   "source": [
    "solution2(players, callings)"
   ]
  },
  {
   "cell_type": "code",
   "execution_count": 147,
   "id": "8b056cd6-8d70-4586-86f9-426174f22d9a",
   "metadata": {},
   "outputs": [
    {
     "name": "stdout",
     "output_type": "stream",
     "text": [
      "['mumu', 'kai', 'mine', 'soe', 'poe']\n"
     ]
    }
   ],
   "source": [
    "def swap(e):\n",
    "    position = players.index(e)\n",
    "    players[position], players[position - 1] = players[position - 1], players[position]\n",
    "    \n",
    "result3 = list(map(swap, callings))\n",
    "print(players)"
   ]
  },
  {
   "cell_type": "code",
   "execution_count": null,
   "id": "c0b4ce17-ddea-4722-8630-43c8c8eeb9d3",
   "metadata": {},
   "outputs": [],
   "source": []
  }
 ],
 "metadata": {
  "kernelspec": {
   "display_name": "Python 3 (ipykernel)",
   "language": "python",
   "name": "python3"
  },
  "language_info": {
   "codemirror_mode": {
    "name": "ipython",
    "version": 3
   },
   "file_extension": ".py",
   "mimetype": "text/x-python",
   "name": "python",
   "nbconvert_exporter": "python",
   "pygments_lexer": "ipython3",
   "version": "3.10.6"
  }
 },
 "nbformat": 4,
 "nbformat_minor": 5
}

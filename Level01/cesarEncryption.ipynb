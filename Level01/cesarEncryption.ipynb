{
 "cells": [
  {
   "cell_type": "markdown",
   "id": "300da59d-fec5-4f4d-9095-18a504f391aa",
   "metadata": {},
   "source": [
    "# 시저 암호\n",
    "## 문제 설명\n",
    "### 어떤 문장의 각 알파벳을 일정한 거리만큼 밀어서 다른 알파벳으로 바꾸는 암호화 방식을 시저 암호라고 합니다. 예를 들어 \"AB\"는 1만큼 밀면 \"BC\"가 되고, 3만큼 밀면 \"DE\"가 됩니다. \"z\"는 1만큼 밀면 \"a\"가 됩니다. 문자열 s와 거리 n을 입력받아 s를 n만큼 민 암호문을 만드는 함수, solution을 완성해 보세요.\n",
    "\n",
    "## 제한 조건\n",
    "* 공백은 아무리 밀어도 공백입니다.\n",
    "* s는 알파벳 소문자, 대문자, 공백으로만 이루어져 있습니다.\n",
    "* s의 길이는 8000이하입니다.\n",
    "* n은 1 이상, 25이하인 자연수입니다.\n",
    "## 입출력 예\n",
    "|s|n|result|\n",
    "|-|-|------|\n",
    "|\"AB\"|1|\"BC\"|\n",
    "|\"z\"|1|\"a\"|\n",
    "|\"a B z\"|4|\"e F d\"|"
   ]
  },
  {
   "cell_type": "code",
   "execution_count": 46,
   "id": "dee1cf60-1d48-4913-9635-e273d77231eb",
   "metadata": {},
   "outputs": [],
   "source": [
    "def solution(s, n):\n",
    "    ul = 'ABCDEFGHIJKLMNOPQRSTUVWXYZ'*2\n",
    "    ll = 'abcdefghijklmnopqrstuvwxyz'*2\n",
    "    r = ''\n",
    "    for i in s:\n",
    "        if i.isupper():\n",
    "            r += ul[ul.index(i)+n]\n",
    "        elif i.islower():\n",
    "            r += ll[ll.index(i)+n]\n",
    "        else:\n",
    "            r += ' '\n",
    "    return r"
   ]
  },
  {
   "cell_type": "code",
   "execution_count": 47,
   "id": "63e17db5-157d-4033-af66-5b219de56a8f",
   "metadata": {},
   "outputs": [
    {
     "data": {
      "text/plain": [
       "'BC'"
      ]
     },
     "execution_count": 47,
     "metadata": {},
     "output_type": "execute_result"
    }
   ],
   "source": [
    "solution(\"AB\", 1)"
   ]
  },
  {
   "cell_type": "code",
   "execution_count": 48,
   "id": "70ae3af2-2260-4d40-ae60-c887ac727cdf",
   "metadata": {},
   "outputs": [
    {
     "data": {
      "text/plain": [
       "'e F d'"
      ]
     },
     "execution_count": 48,
     "metadata": {},
     "output_type": "execute_result"
    }
   ],
   "source": [
    "solution(\"a B z\", 4)"
   ]
  },
  {
   "cell_type": "code",
   "execution_count": 49,
   "id": "c0c86035-b45f-497f-b556-1dd7f05844c9",
   "metadata": {},
   "outputs": [
    {
     "data": {
      "text/plain": [
       "'a'"
      ]
     },
     "execution_count": 49,
     "metadata": {},
     "output_type": "execute_result"
    }
   ],
   "source": [
    "solution(\"z\", 1)"
   ]
  },
  {
   "cell_type": "code",
   "execution_count": null,
   "id": "6520ed3f-c2cb-48bb-940b-5e88988ab854",
   "metadata": {},
   "outputs": [],
   "source": []
  }
 ],
 "metadata": {
  "kernelspec": {
   "display_name": "Python 3 (ipykernel)",
   "language": "python",
   "name": "python3"
  },
  "language_info": {
   "codemirror_mode": {
    "name": "ipython",
    "version": 3
   },
   "file_extension": ".py",
   "mimetype": "text/x-python",
   "name": "python",
   "nbconvert_exporter": "python",
   "pygments_lexer": "ipython3",
   "version": "3.10.6"
  }
 },
 "nbformat": 4,
 "nbformat_minor": 5
}

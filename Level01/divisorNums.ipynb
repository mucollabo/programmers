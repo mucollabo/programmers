{
 "cells": [
  {
   "cell_type": "markdown",
   "id": "5274aee7-902e-435a-90da-445c924b7add",
   "metadata": {},
   "source": [
    "# 나누어 떨어지는 숫자 배열\n",
    "## 문제 설명\n",
    "### array의 각 element 중 divisor로 나누어 떨어지는 값을 오름차순으로 정렬한 배열을 반환하는 함수, solution을 작성해주세요.\n",
    "### divisor로 나누어 떨어지는 element가 하나도 없다면 배열에 -1을 담아 반환하세요.\n",
    "\n",
    "## 제한사항\n",
    "* arr은 자연수를 담은 배열입니다.\n",
    "* 정수 i, j에 대해 i ≠ j 이면 arr[i] ≠ arr[j] 입니다.\n",
    "* divisor는 자연수입니다.\n",
    "* array는 길이 1 이상인 배열입니다.\n",
    "## 입출력 예\n",
    "|arr|divisor|return|\n",
    "|---|-------|------|\n",
    "|[5, 9, 7, 10]|5|[5, 10]|\n",
    "|[2, 36, 1, 3]|1|[1, 2, 3, 36]|\n",
    "|[3,2,6]|10|[-1]|\n",
    "## 입출력 예 설명\n",
    "## 입출력 예#1\n",
    "* arr의 원소 중 5로 나누어 떨어지는 원소는 5와 10입니다. 따라서 [5, 10]을 리턴합니다.\n",
    "\n",
    "## 입출력 예#2\n",
    "* arr의 모든 원소는 1으로 나누어 떨어집니다. 원소를 오름차순으로 정렬해 [1, 2, 3, 36]을 리턴합니다.\n",
    "\n",
    "## 입출력 예#3\n",
    "* 3, 2, 6은 10으로 나누어 떨어지지 않습니다. 나누어 떨어지는 원소가 없으므로 [-1]을 리턴합니다."
   ]
  },
  {
   "cell_type": "code",
   "execution_count": 17,
   "id": "f18228a8-56fc-4965-90a1-71768ddbfb9a",
   "metadata": {},
   "outputs": [],
   "source": [
    "def solution(arr, divisor):\n",
    "    d = list(filter(lambda x: x%divisor == 0, arr))\n",
    "    return [-1] if len(d) == 0 else sorted(d)"
   ]
  },
  {
   "cell_type": "code",
   "execution_count": 18,
   "id": "3d125197-9c04-4cf1-9b61-2d770b404cd1",
   "metadata": {},
   "outputs": [
    {
     "data": {
      "text/plain": [
       "[5, 10]"
      ]
     },
     "execution_count": 18,
     "metadata": {},
     "output_type": "execute_result"
    }
   ],
   "source": [
    "solution([5, 9, 7, 10], 5)"
   ]
  },
  {
   "cell_type": "code",
   "execution_count": 19,
   "id": "27be5e53-783a-4666-909e-4b22bf443b1e",
   "metadata": {},
   "outputs": [
    {
     "data": {
      "text/plain": [
       "[1, 2, 3, 36]"
      ]
     },
     "execution_count": 19,
     "metadata": {},
     "output_type": "execute_result"
    }
   ],
   "source": [
    "solution([2, 36, 1, 3], 1)"
   ]
  },
  {
   "cell_type": "code",
   "execution_count": 20,
   "id": "45e0b11a-a12f-44f8-82c3-3a0195f86eb9",
   "metadata": {},
   "outputs": [
    {
     "data": {
      "text/plain": [
       "[-1]"
      ]
     },
     "execution_count": 20,
     "metadata": {},
     "output_type": "execute_result"
    }
   ],
   "source": [
    "solution([3,2,6], 10)"
   ]
  },
  {
   "cell_type": "code",
   "execution_count": null,
   "id": "e4984e2a-cfd0-41f5-893b-566f746982e4",
   "metadata": {},
   "outputs": [],
   "source": []
  }
 ],
 "metadata": {
  "kernelspec": {
   "display_name": "Python 3 (ipykernel)",
   "language": "python",
   "name": "python3"
  },
  "language_info": {
   "codemirror_mode": {
    "name": "ipython",
    "version": 3
   },
   "file_extension": ".py",
   "mimetype": "text/x-python",
   "name": "python",
   "nbconvert_exporter": "python",
   "pygments_lexer": "ipython3",
   "version": "3.10.6"
  }
 },
 "nbformat": 4,
 "nbformat_minor": 5
}

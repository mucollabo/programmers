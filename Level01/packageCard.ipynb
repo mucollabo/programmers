{
 "cells": [
  {
   "cell_type": "markdown",
   "id": "1d4a176d-e015-4c25-9e7d-bafaa23e0811",
   "metadata": {},
   "source": [
    "## 카드 뭉치\n",
    "### 문제 설명\n",
    "#### 코니는 영어 단어가 적힌 카드 뭉치 두 개를 선물로 받았습니다. 코니는 다음과 같은 규칙으로 카드에 적힌 단어들을 사용해 원하는 순서의 단어 배열을 만들 수 있는지 알고 싶습니다.\n",
    "\n",
    "* 원하는 카드 뭉치에서 카드를 순서대로 한 장씩 사용합니다.\n",
    "* 한 번 사용한 카드는 다시 사용할 수 없습니다.\n",
    "* 카드를 사용하지 않고 다음 카드로 넘어갈 수 없습니다.\n",
    "* 기존에 주어진 카드 뭉치의 단어 순서는 바꿀 수 없습니다.\n",
    "#### 예를 들어 첫 번째 카드 뭉치에 순서대로 [\"i\", \"drink\", \"water\"], 두 번째 카드 뭉치에 순서대로 [\"want\", \"to\"]가 적혀있을 때 [\"i\", \"want\", \"to\", \"drink\", \"water\"] 순서의 단어 배열을 만들려고 한다면 첫 번째 카드 뭉치에서 \"i\"를 사용한 후 두 번째 카드 뭉치에서 \"want\"와 \"to\"를 사용하고 첫 번째 카드뭉치에 \"drink\"와 \"water\"를 차례대로 사용하면 원하는 순서의 단어 배열을 만들 수 있습니다.\n",
    "\n",
    "#### 문자열로 이루어진 배열 cards1, cards2와 원하는 단어 배열 goal이 매개변수로 주어질 때, cards1과 cards2에 적힌 단어들로 goal를 만들 있다면 \"Yes\"를, 만들 수 없다면 \"No\"를 return하는 solution 함수를 완성해주세요.\n",
    "\n",
    "### 제한사항\n",
    "* 1 ≤ cards1의 길이, cards2의 길이 ≤ 10\n",
    "   * 1 ≤ cards1[i]의 길이, cards2[i]의 길이 ≤ 10\n",
    "   * cards1과 cards2에는 서로 다른 단어만 존재합니다.\n",
    "* 2 ≤ goal의 길이 ≤ cards1의 길이 + cards2의 길이\n",
    "   * 1 ≤ goal[i]의 길이 ≤ 10\n",
    "   * goal의 원소는 cards1과 cards2의 원소들로만 이루어져 있습니다.\n",
    "* cards1, cards2, goal의 문자열들은 모두 알파벳 소문자로만 이루어져 있습니다.\n",
    "### 입출력 예\n",
    "|cards1|cards2|goal|result|\n",
    "|------|------|----|------|\n",
    "|[\"i\", \"drink\", \"water\"]|[\"want\", \"to\"]|[\"i\", \"want\", \"to\", \"drink\", \"water\"]|\"Yes\"|\n",
    "|[\"i\", \"water\", \"drink\"]|[\"want\", \"to\"]|[\"i\", \"want\", \"to\", \"drink\", \"water\"]|\"No\"|\n",
    "### 입출력 예 설명\n",
    "#### 입출력 예 #1\n",
    "\n",
    "#### 본문과 같습니다.\n",
    "\n",
    "#### 입출력 예 #2\n",
    "\n",
    "#### cards1에서 \"i\"를 사용하고 cards2에서 \"want\"와 \"to\"를 사용하여 \"i want to\"까지는 만들 수 있지만 \"water\"가 \"drink\"보다 먼저 사용되어야 하기 때문에 해당 문장을 완성시킬 수 없습니다. 따라서 \"No\"를 반환합니다."
   ]
  },
  {
   "cell_type": "code",
   "execution_count": 37,
   "id": "697355e8-9067-4398-8281-3f7d478e9e8a",
   "metadata": {},
   "outputs": [],
   "source": [
    "def solution(cards1, cards2, goal):\n",
    "    for word in goal:\n",
    "        if word == (cards1[0] if len(cards1) != 0 else 0):\n",
    "            cards1.remove(word)\n",
    "        elif word == (cards2[0] if len(cards2) != 0 else 0):\n",
    "            cards2.remove(word)\n",
    "        else:\n",
    "            return \"No\"\n",
    "    return \"Yes\""
   ]
  },
  {
   "cell_type": "code",
   "execution_count": 38,
   "id": "be246e99-a2a3-41df-9914-353680d8b553",
   "metadata": {},
   "outputs": [],
   "source": [
    "cards1 = [\"i\", \"drink\", \"water\"]\n",
    "cards2 = [\"want\", \"to\"]\n",
    "goal = [\"i\", \"want\", \"to\", \"drink\", \"water\"]"
   ]
  },
  {
   "cell_type": "code",
   "execution_count": 39,
   "id": "f4750975-dbfa-4114-817d-eea64c223ac4",
   "metadata": {},
   "outputs": [
    {
     "data": {
      "text/plain": [
       "'Yes'"
      ]
     },
     "execution_count": 39,
     "metadata": {},
     "output_type": "execute_result"
    }
   ],
   "source": [
    "solution(cards1, cards2, goal)"
   ]
  },
  {
   "cell_type": "code",
   "execution_count": 40,
   "id": "ce468db8-17d7-485d-b589-daf0741ec3c1",
   "metadata": {},
   "outputs": [],
   "source": [
    "cards1 = [\"i\", \"water\", \"drink\"]\n",
    "cards2 = [\"want\", \"to\"]\n",
    "goal = [\"i\", \"want\", \"to\", \"drink\", \"water\"]"
   ]
  },
  {
   "cell_type": "code",
   "execution_count": 41,
   "id": "c6c3b9b1-e987-42d5-a8b5-17abd71ae601",
   "metadata": {},
   "outputs": [
    {
     "data": {
      "text/plain": [
       "'No'"
      ]
     },
     "execution_count": 41,
     "metadata": {},
     "output_type": "execute_result"
    }
   ],
   "source": [
    "solution(cards1, cards2, goal)"
   ]
  },
  {
   "cell_type": "code",
   "execution_count": null,
   "id": "bd877002-5315-4ff9-83f4-e3bd89d6dcb2",
   "metadata": {},
   "outputs": [],
   "source": []
  }
 ],
 "metadata": {
  "kernelspec": {
   "display_name": "Python 3 (ipykernel)",
   "language": "python",
   "name": "python3"
  },
  "language_info": {
   "codemirror_mode": {
    "name": "ipython",
    "version": 3
   },
   "file_extension": ".py",
   "mimetype": "text/x-python",
   "name": "python",
   "nbconvert_exporter": "python",
   "pygments_lexer": "ipython3",
   "version": "3.10.6"
  }
 },
 "nbformat": 4,
 "nbformat_minor": 5
}

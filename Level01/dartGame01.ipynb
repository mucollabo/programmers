{
 "cells": [
  {
   "cell_type": "markdown",
   "id": "916bd19e-cfee-4869-99e3-91f1061e64a9",
   "metadata": {},
   "source": [
    "# [1차] 다트 게임\n",
    "## 문제 설명\n",
    "# 다트 게임\n",
    "### 카카오톡에 뜬 네 번째 별! 심심할 땐? 카카오톡 게임별~\n",
    "\n",
    "### 카카오톡 게임별의 하반기 신규 서비스로 다트 게임을 출시하기로 했다. 다트 게임은 다트판에 다트를 세 차례 던져 그 점수의 합계로 실력을 겨루는 게임으로, 모두가 간단히 즐길 수 있다.\n",
    "### 갓 입사한 무지는 코딩 실력을 인정받아 게임의 핵심 부분인 점수 계산 로직을 맡게 되었다. 다트 게임의 점수 계산 로직은 아래와 같다.\n",
    "\n",
    "1. 다트 게임은 총 3번의 기회로 구성된다.\n",
    "2. 각 기회마다 얻을 수 있는 점수는 0점에서 10점까지이다.\n",
    "3. 점수와 함께 Single(S), Double(D), Triple(T) 영역이 존재하고 각 영역 당첨 시 점수에서 1제곱, 2제곱, 3제곱 (점수1 , 점수2 , 점수3 )으로 계산된다.\n",
    "4. 옵션으로 스타상(*) , 아차상(#)이 존재하며 스타상(*) 당첨 시 해당 점수와 바로 전에 얻은 점수를 각 2배로 만든다. 아차상(#) 당첨 시 해당 점수는 마이너스된다.\n",
    "5. 스타상(*)은 첫 번째 기회에서도 나올 수 있다. 이 경우 첫 번째 스타상(*)의 점수만 2배가 된다. (예제 4번 참고)\n",
    "6. 스타상(*)의 효과는 다른 스타상(*)의 효과와 중첩될 수 있다. 이 경우 중첩된 스타상(*) 점수는 4배가 된다. (예제 4번 참고)\n",
    "7. 스타상(*)의 효과는 아차상(#)의 효과와 중첩될 수 있다. 이 경우 중첩된 아차상(#)의 점수는 -2배가 된다. (예제 5번 참고)\n",
    "8. Single(S), Double(D), Triple(T)은 점수마다 하나씩 존재한다.\n",
    "8. 스타상(*), 아차상(#)은 점수마다 둘 중 하나만 존재할 수 있으며, 존재하지 않을 수도 있다.\n",
    "\n",
    "### 0~10의 정수와 문자 S, D, T, *, #로 구성된 문자열이 입력될 시 총점수를 반환하는 함수를 작성하라.\n",
    "\n",
    "## 입력 형식\n",
    "### \"점수|보너스|[옵션]\"으로 이루어진 문자열 3세트.\n",
    "### 예) 1S2D*3T\n",
    "\n",
    "* 점수는 0에서 10 사이의 정수이다.\n",
    "* 보너스는 S, D, T 중 하나이다.\n",
    "* 옵선은 *이나 # 중 하나이며, 없을 수도 있다.\n",
    "\n",
    "## 출력 형식\n",
    "### 3번의 기회에서 얻은 점수 합계에 해당하는 정수값을 출력한다.\n",
    "### 예) 37\n",
    "\n",
    "## 입출력 예제\n",
    "|예제|dartResult|answer|설명|\n",
    "|---|----------|------|---|\n",
    "|1|1S2D*3T|37|11 * 2 + 22 * 2 + 33|\n",
    "|2|1D2S#10S|9|12 + 21 * (-1) + 101|\n",
    "|3|1D2S0T|3|12 + 21 + 03|\n",
    "|4|1S*2T*3S|23|11 * 2 * 2 + 23 * 2 + 31|\n",
    "|5|1D#2S*3S|5|12 * (-1) * 2 + 21 * 2 + 31|\n",
    "|6|1T2D3D#|-4|13 + 22 + 32 * (-1)|\n",
    "|7|1D2S3T*|59|12 + 21 * 2 + 33 * 2|\n",
    "\n",
    "[해설 보러가기](https://tech.kakao.com/2017/09/27/kakao-blind-recruitment-round-1/)"
   ]
  },
  {
   "cell_type": "code",
   "execution_count": 39,
   "id": "0b442de2-8b7b-4eaf-b6a1-e99059f911da",
   "metadata": {},
   "outputs": [],
   "source": [
    "import math\n",
    "\n",
    "def solution(dR):\n",
    "    total = 0\n",
    "    dR = list(dR)\n",
    "    temp = ''\n",
    "    # if dR[2].isdigit():\n",
    "    #     first = dR[:2]\n",
    "    #     if dR[4].isdigit():\n",
    "    #         second = dR[2:4]\n",
    "    #         third = dR[4:]\n",
    "    #     else:\n",
    "    #         second = dR[2:5]\n",
    "    #         third = dR[5:]\n",
    "    # else:\n",
    "    #     first = dR[:3]\n",
    "    #     if dR[5].isdigit():\n",
    "    #         second = dR[3:5]\n",
    "    #         third = dR[5:]\n",
    "    #     else:\n",
    "    #         second = dR[3:6]\n",
    "    #         third = dR[6:]\n",
    "    for i, d in reversed(list(enumerate(dR))):\n",
    "        temp += d\n",
    "        if d.isdigit():\n",
    "            if temp[1] == 'S':\n",
    "                d = math.pow(int(temp[0]),1)\n",
    "            elif temp[1] == 'D':\n",
    "                d = math.pow(int(temp[0]),2)\n",
    "            elif temp[1] == 'T':\n",
    "                d = math.pow(int(temp[0]),3)\n",
    "            \n",
    "            if \n",
    "                \n",
    "    return type(d)"
   ]
  },
  {
   "cell_type": "code",
   "execution_count": 40,
   "id": "52b197a2-2d4d-44cd-bbf5-4282d1a4bccd",
   "metadata": {},
   "outputs": [
    {
     "name": "stdout",
     "output_type": "stream",
     "text": [
      "T\n",
      "T3\n",
      "T3*\n",
      "T3*D\n",
      "T3*D2\n",
      "T3*D2S\n",
      "T3*D2S1\n"
     ]
    },
    {
     "data": {
      "text/plain": [
       "str"
      ]
     },
     "execution_count": 40,
     "metadata": {},
     "output_type": "execute_result"
    }
   ],
   "source": [
    "solution('1S2D*3T')"
   ]
  },
  {
   "cell_type": "code",
   "execution_count": 12,
   "id": "2aa1ca04-635e-47ca-a4ab-ea2b8477184e",
   "metadata": {},
   "outputs": [
    {
     "data": {
      "text/plain": [
       "('1D#', '2S*', '3S')"
      ]
     },
     "execution_count": 12,
     "metadata": {},
     "output_type": "execute_result"
    }
   ],
   "source": [
    "solution('1D#2S*3S')"
   ]
  },
  {
   "cell_type": "code",
   "execution_count": 13,
   "id": "5b0b0b5e-645a-4b4e-9128-98db36904da2",
   "metadata": {},
   "outputs": [
    {
     "data": {
      "text/plain": [
       "('1D', '2S#', '10S')"
      ]
     },
     "execution_count": 13,
     "metadata": {},
     "output_type": "execute_result"
    }
   ],
   "source": [
    "solution('1D2S#10S')"
   ]
  },
  {
   "cell_type": "code",
   "execution_count": 14,
   "id": "638a40e9-e947-4475-baac-abdc3fce44ad",
   "metadata": {},
   "outputs": [
    {
     "data": {
      "text/plain": [
       "('1D', '2S', '0T')"
      ]
     },
     "execution_count": 14,
     "metadata": {},
     "output_type": "execute_result"
    }
   ],
   "source": [
    "solution('1D2S0T')"
   ]
  },
  {
   "cell_type": "code",
   "execution_count": 15,
   "id": "827ece7b-4a05-4fa9-8923-c5e2341d829d",
   "metadata": {},
   "outputs": [
    {
     "data": {
      "text/plain": [
       "('1S', '2T', '3S')"
      ]
     },
     "execution_count": 15,
     "metadata": {},
     "output_type": "execute_result"
    }
   ],
   "source": [
    "solution('1S2T3S')"
   ]
  },
  {
   "cell_type": "code",
   "execution_count": 16,
   "id": "31c9bce7-1a6c-4296-8fc8-261c0e091889",
   "metadata": {},
   "outputs": [
    {
     "data": {
      "text/plain": [
       "('1T', '2D', '3D#')"
      ]
     },
     "execution_count": 16,
     "metadata": {},
     "output_type": "execute_result"
    }
   ],
   "source": [
    "solution('1T2D3D#')"
   ]
  },
  {
   "cell_type": "code",
   "execution_count": 17,
   "id": "d8f10d46-25f8-469c-b55d-d9740897da26",
   "metadata": {},
   "outputs": [
    {
     "data": {
      "text/plain": [
       "('1D', '2S', '3T*')"
      ]
     },
     "execution_count": 17,
     "metadata": {},
     "output_type": "execute_result"
    }
   ],
   "source": [
    "solution('1D2S3T*')"
   ]
  },
  {
   "cell_type": "code",
   "execution_count": null,
   "id": "eee2e5fb-f049-48ca-9583-d9412c243823",
   "metadata": {},
   "outputs": [],
   "source": []
  }
 ],
 "metadata": {
  "kernelspec": {
   "display_name": "Python 3 (ipykernel)",
   "language": "python",
   "name": "python3"
  },
  "language_info": {
   "codemirror_mode": {
    "name": "ipython",
    "version": 3
   },
   "file_extension": ".py",
   "mimetype": "text/x-python",
   "name": "python",
   "nbconvert_exporter": "python",
   "pygments_lexer": "ipython3",
   "version": "3.10.6"
  }
 },
 "nbformat": 4,
 "nbformat_minor": 5
}

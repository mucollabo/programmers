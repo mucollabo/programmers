{
 "cells": [
  {
   "cell_type": "markdown",
   "id": "54cb1e4b-0323-4709-9c56-68cc5e2ed607",
   "metadata": {},
   "source": [
    "# 콜라츠 추측\n",
    "## 문제 설명\n",
    "### 1937년 Collatz란 사람에 의해 제기된 이 추측은, 주어진 수가 1이 될 때까지 다음 작업을 반복하면, 모든 수를 1로 만들 수 있다는 추측입니다. 작업은 다음과 같습니다.\n",
    "\n",
    "> 1-1. 입력된 수가 짝수라면 2로 나눕니다. <br>\n",
    "> 1-2. 입력된 수가 홀수라면 3을 곱하고 1을 더합니다. <br>\n",
    "> 2. 결과로 나온 수에 같은 작업을 1이 될 때까지 반복합니다. <br> \n",
    "### 예를 들어, 주어진 수가 6이라면 6 → 3 → 10 → 5 → 16 → 8 → 4 → 2 → 1 이 되어 총 8번 만에 1이 됩니다. 위 작업을 몇 번이나 반복해야 하는지 반환하는 함수, solution을 완성해 주세요. 단, 주어진 수가 1인 경우에는 0을, 작업을 500번 반복할 때까지 1이 되지 않는다면 –1을 반환해 주세요.\n",
    "\n",
    "## 제한 사항\n",
    "* 입력된 수, num은 1 이상 8,000,000 미만인 정수입니다.\n",
    "## 입출력 예\n",
    "|n|result|\n",
    "|-|------|\n",
    "|6|8|\n",
    "|16|4|\n",
    "|626331|-1|\n",
    "## 입출력 예 설명\n",
    "## 입출력 예 #1\n",
    "* 문제의 설명과 같습니다.\n",
    "\n",
    "## 입출력 예 #2\n",
    "* 16 → 8 → 4 → 2 → 1 이 되어 총 4번 만에 1이 됩니다.\n",
    "\n",
    "## 입출력 예 #3\n",
    "* 626331은 500번을 시도해도 1이 되지 못하므로 -1을 리턴해야 합니다.\n",
    "\n",
    "### ※ 공지 - 2022년 6월 10일 다음과 같이 지문이 일부 수정되었습니다.\n",
    "\n",
    "* 주어진 수가 1인 경우에 대한 조건 추가"
   ]
  },
  {
   "cell_type": "code",
   "execution_count": 1,
   "id": "27a06558-aee7-45fd-b599-13f523f21991",
   "metadata": {},
   "outputs": [],
   "source": [
    "def solution(num):\n",
    "    cnt = 0\n",
    "    if num == 1:\n",
    "        return 0\n",
    "    else:\n",
    "        while num != 1:\n",
    "            if num%2 == 0:\n",
    "                num /= 2\n",
    "            elif num%2 == 1:\n",
    "                num *= 3\n",
    "                num += 1\n",
    "            cnt += 1\n",
    "            if cnt == 500:\n",
    "                return -1\n",
    "    return cnt"
   ]
  },
  {
   "cell_type": "code",
   "execution_count": 2,
   "id": "aee94942-b251-4611-903a-740b0eccc955",
   "metadata": {},
   "outputs": [
    {
     "data": {
      "text/plain": [
       "8"
      ]
     },
     "execution_count": 2,
     "metadata": {},
     "output_type": "execute_result"
    }
   ],
   "source": [
    "solution(6)"
   ]
  },
  {
   "cell_type": "code",
   "execution_count": 3,
   "id": "eeea474f-8774-4f50-a1bd-1704b253e5b9",
   "metadata": {},
   "outputs": [
    {
     "data": {
      "text/plain": [
       "4"
      ]
     },
     "execution_count": 3,
     "metadata": {},
     "output_type": "execute_result"
    }
   ],
   "source": [
    "solution(16)"
   ]
  },
  {
   "cell_type": "code",
   "execution_count": 4,
   "id": "48449d5d-f86a-4462-9ecd-491c5407314f",
   "metadata": {},
   "outputs": [
    {
     "data": {
      "text/plain": [
       "-1"
      ]
     },
     "execution_count": 4,
     "metadata": {},
     "output_type": "execute_result"
    }
   ],
   "source": [
    "solution(626331)"
   ]
  },
  {
   "cell_type": "code",
   "execution_count": null,
   "id": "5ea9411e-5487-4d08-89a3-9aa9147edd0a",
   "metadata": {},
   "outputs": [],
   "source": []
  }
 ],
 "metadata": {
  "kernelspec": {
   "display_name": "Python 3 (ipykernel)",
   "language": "python",
   "name": "python3"
  },
  "language_info": {
   "codemirror_mode": {
    "name": "ipython",
    "version": 3
   },
   "file_extension": ".py",
   "mimetype": "text/x-python",
   "name": "python",
   "nbconvert_exporter": "python",
   "pygments_lexer": "ipython3",
   "version": "3.10.6"
  }
 },
 "nbformat": 4,
 "nbformat_minor": 5
}

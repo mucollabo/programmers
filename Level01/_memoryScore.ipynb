{
 "cells": [
  {
   "cell_type": "markdown",
   "id": "84ed3e62-2ad2-4f2e-914a-7a4c3b536bba",
   "metadata": {},
   "source": [
    "## 추억 점수\n",
    "### 문제 설명\n",
    "#### 사진들을 보며 추억에 젖어 있던 루는 사진별로 추억 점수를 매길려고 합니다. 사진 속에 나오는 인물의 그리움 점수를 모두 합산한 값이 해당 사진의 추억 점수가 됩니다. 예를 들어 사진 속 인물의 이름이 [\"may\", \"kein\", \"kain\"]이고 각 인물의 그리움 점수가 [5점, 10점, 1점]일 때 해당 사진의 추억 점수는 16(5 + 10 + 1)점이 됩니다. 다른 사진 속 인물의 이름이 [\"kali\", \"mari\", \"don\", \"tony\"]이고 [\"kali\", \"mari\", \"don\"]의 그리움 점수가 각각 [11점, 1점, 55점]]이고, \"tony\"는 그리움 점수가 없을 때, 이 사진의 추억 점수는 3명의 그리움 점수를 합한 67(11 + 1 + 55)점입니다.\n",
    "\n",
    "#### 그리워하는 사람의 이름을 담은 문자열 배열 name, 각 사람별 그리움 점수를 담은 정수 배열 yearning, 각 사진에 찍힌 인물의 이름을 담은 이차원 문자열 배열 photo가 매개변수로 주어질 때, 사진들의 추억 점수를 photo에 주어진 순서대로 배열에 담아 return하는 solution 함수를 완성해주세요.\n",
    "\n",
    "### 제한사항\n",
    "* 3 ≤ name의 길이 = yearning의 길이≤ 100\n",
    "  * 3 ≤ name의 원소의 길이 ≤ 7\n",
    "  * name의 원소들은 알파벳 소문자로만 이루어져 있습니다.\n",
    "  * name에는 중복된 값이 들어가지 않습니다.\n",
    "  * 1 ≤ yearning[i] ≤ 100\n",
    "  * yearning[i]는 i번째 사람의 그리움 점수입니다.\n",
    "* 3 ≤ photo의 길이 ≤ 100\n",
    "  * 1 ≤ photo[i]의 길이 ≤ 100\n",
    "  * 3 ≤ photo[i]의 원소(문자열)의 길이 ≤ 7\n",
    "  * photo[i]의 원소들은 알파벳 소문자로만 이루어져 있습니다.\n",
    "  * photo[i]의 원소들은 중복된 값이 들어가지 않습니다.\n",
    "### 입출력 예\n",
    "|name|yearning|photo|result|\n",
    "|----|--------|-----|------|\n",
    "|[\"may\", \"kein\", \"kain\", \"radi\"]|[5, 10, 1, 3]|[[\"may\", \"kein\", \"kain\", \"radi\"],[\"may\", \"kein\", \"brin\", \"deny\"], [\"kon\", \"kain\", \"may\", \"coni\"]]|[19, 15, 6]|\n",
    "|[\"kali\", \"mari\", \"don\"]|[11, 1, 55]|[[\"kali\", \"mari\", \"don\"], [\"pony\", \"tom\", \"teddy\"], [\"con\", \"mona\", \"don\"]]|[67, 0, 55]|\n",
    "|[\"may\", \"kein\", \"kain\", \"radi\"]|[5, 10, 1, 3]|[[\"may\"],[\"kein\", \"deny\", \"may\"], [\"kon\", \"coni\"]]|[5, 15, 0]|\n",
    "### 입출력 예 설명\n",
    "#### 입출력 예 #1\n",
    "\n",
    "#### 첫 번째 사진 속 \"may\", \"kein\", \"kain\", \"radi\"의 그리움 점수를 합치면 19(5 + 10 + 1 + 3)점 입니다. 두 번째 사진 속 그리워하는 사람들인 \"may\"와 \"kein\"의 그리움 점수를 합치면 15(5 + 10)점입니다. 세 번째 사진의 경우 \"kain\"과 \"may\"만 그리워하므로 둘의 그리움 점수를 합한 6(1 + 5)점이 사진의 추억 점수입니다. 따라서 [19, 15, 6]을 반환합니다.\n",
    "\n",
    "#### 입출력 예 #2\n",
    "\n",
    "#### 첫 번째 사진 속 그리워하는 사람들인 \"kali\", \"mari\", \"don\"의 그리움 점수를 합치면 67(11 + 1 + 55)점입니다. 두 번째 사진 속엔 그리워하는 인물이 없으므로 0점입니다. 세 번째 사진 속 그리워하는 사람은 \"don\"만 있으므로 55점입니다. 따라서 [67, 0, 55]를 반환합니다.\n",
    "\n",
    "#### 입출력 예 #3\n",
    "\n",
    "#### 설명 생략"
   ]
  },
  {
   "cell_type": "code",
   "execution_count": 22,
   "id": "4328ca6f-6264-4d3d-a9f9-70a368f1f3e7",
   "metadata": {},
   "outputs": [],
   "source": [
    "def solution(name, yearning, photo):\n",
    "    result = []\n",
    "    for p in photo:\n",
    "        s = 0\n",
    "        for n in p:\n",
    "            if name.count(n) == 0:\n",
    "                s += 0\n",
    "            else:\n",
    "                s += yearning[name.index(n)]\n",
    "        result.append(s)\n",
    "    return result"
   ]
  },
  {
   "cell_type": "code",
   "execution_count": 23,
   "id": "f8f4621f-8010-48d6-a9f6-a270d5be45f4",
   "metadata": {},
   "outputs": [],
   "source": [
    "name = [\"may\", \"kein\", \"kain\", \"radi\"]\n",
    "yearning = [5, 10, 1, 3]\n",
    "photo = [[\"may\", \"kein\", \"kain\", \"radi\"],[\"may\", \"kein\", \"brin\", \"deny\"], [\"kon\", \"kain\", \"may\", \"coni\"]]"
   ]
  },
  {
   "cell_type": "code",
   "execution_count": 24,
   "id": "f3b03a8e-10b9-4fc5-a758-2ee90ac83e00",
   "metadata": {},
   "outputs": [
    {
     "data": {
      "text/plain": [
       "[19, 15, 6]"
      ]
     },
     "execution_count": 24,
     "metadata": {},
     "output_type": "execute_result"
    }
   ],
   "source": [
    "solution(name, yearning, photo)"
   ]
  },
  {
   "cell_type": "code",
   "execution_count": 25,
   "id": "f5c213be-6bf2-4ece-a902-3ca1c7350942",
   "metadata": {},
   "outputs": [],
   "source": [
    "name = [\"kali\", \"mari\", \"don\"]\n",
    "yearning = [11, 1, 55]\n",
    "photo = [[\"kali\", \"mari\", \"don\"], [\"pony\", \"tom\", \"teddy\"], [\"con\", \"mona\", \"don\"]]"
   ]
  },
  {
   "cell_type": "code",
   "execution_count": 26,
   "id": "8cc92672-835d-471f-82a0-21c522cbccbb",
   "metadata": {},
   "outputs": [
    {
     "data": {
      "text/plain": [
       "[67, 0, 55]"
      ]
     },
     "execution_count": 26,
     "metadata": {},
     "output_type": "execute_result"
    }
   ],
   "source": [
    "solution(name, yearning, photo)"
   ]
  },
  {
   "cell_type": "code",
   "execution_count": 27,
   "id": "79591328-1f91-42e1-816e-88ec3820c38f",
   "metadata": {},
   "outputs": [],
   "source": [
    "name = [\"may\", \"kein\", \"kain\", \"radi\"]\n",
    "yearning = [5, 10, 1, 3]\n",
    "photo = [[\"may\"],[\"kein\", \"deny\", \"may\"], [\"kon\", \"coni\"]]"
   ]
  },
  {
   "cell_type": "code",
   "execution_count": 28,
   "id": "46b11944-bb30-4331-8de2-dc399dffa018",
   "metadata": {},
   "outputs": [
    {
     "data": {
      "text/plain": [
       "[5, 15, 0]"
      ]
     },
     "execution_count": 28,
     "metadata": {},
     "output_type": "execute_result"
    }
   ],
   "source": [
    "solution(name, yearning, photo)"
   ]
  },
  {
   "cell_type": "code",
   "execution_count": null,
   "id": "e9781062-9297-46fc-9a1a-b8dc902025ec",
   "metadata": {},
   "outputs": [],
   "source": []
  }
 ],
 "metadata": {
  "kernelspec": {
   "display_name": "Python 3 (ipykernel)",
   "language": "python",
   "name": "python3"
  },
  "language_info": {
   "codemirror_mode": {
    "name": "ipython",
    "version": 3
   },
   "file_extension": ".py",
   "mimetype": "text/x-python",
   "name": "python",
   "nbconvert_exporter": "python",
   "pygments_lexer": "ipython3",
   "version": "3.10.6"
  }
 },
 "nbformat": 4,
 "nbformat_minor": 5
}

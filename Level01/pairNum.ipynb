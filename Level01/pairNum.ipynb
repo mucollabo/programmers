{
 "cells": [
  {
   "cell_type": "markdown",
   "id": "f171031d-316a-4299-babe-968db9c5db16",
   "metadata": {},
   "source": [
    "## 숫자 짝궁\n",
    "### 문제 설명\n",
    "#### 두 정수 X, Y의 임의의 자리에서 공통으로 나타나는 정수 k(0 ≤ k ≤ 9)들을 이용하여 만들 수 있는 가장 큰 정수를 두 수의 짝꿍이라 합니다(단, 공통으로 나타나는 정수 중 서로 짝지을 수 있는 숫자만 사용합니다). X, Y의 짝꿍이 존재하지 않으면, 짝꿍은 -1입니다. X, Y의 짝꿍이 0으로만 구성되어 있다면, 짝꿍은 0입니다.\n",
    "\n",
    "#### 예를 들어, X = 3403이고 Y = 13203이라면, X와 Y의 짝꿍은 X와 Y에서 공통으로 나타나는 3, 0, 3으로 만들 수 있는 가장 큰 정수인 330입니다. 다른 예시로 X = 5525이고 Y = 1255이면 X와 Y의 짝꿍은 X와 Y에서 공통으로 나타나는 2, 5, 5로 만들 수 있는 가장 큰 정수인 552입니다(X에는 5가 3개, Y에는 5가 2개 나타나므로 남는 5 한 개는 짝 지을 수 없습니다.)\n",
    "#### 두 정수 X, Y가 주어졌을 때, X, Y의 짝꿍을 return하는 solution 함수를 완성해주세요.\n",
    "\n",
    "### 제한사항\n",
    "* 3 ≤ X, Y의 길이(자릿수) ≤ 3,000,000입니다.\n",
    "* X, Y는 0으로 시작하지 않습니다.\n",
    "* X, Y의 짝꿍은 상당히 큰 정수일 수 있으므로, 문자열로 반환합니다.\n",
    "### 입출력 예\n",
    "|X|Y|result|\n",
    "|---|-----|-------|\n",
    "|\"100\"|\"2345\"|\"-1\"|\n",
    "|\"100\"|\"203045\"|\"0\"|\n",
    "|\"100\"|\"123450\"|\"10\"|\n",
    "|\"12321\"|\"42531\"|\"321\"|\n",
    "|\"5525\"|\"1255\"|\"552\"|\n",
    "### 입출력 예 설명\n",
    "#### 입출력 예 #1\n",
    "\n",
    "* X, Y의 짝꿍은 존재하지 않습니다. 따라서 \"-1\"을 return합니다.\n",
    "#### 입출력 예 #2\n",
    "\n",
    "* X, Y의 공통된 숫자는 0으로만 구성되어 있기 때문에, 두 수의 짝꿍은 정수 0입니다. 따라서 \"0\"을 return합니다.\n",
    "#### 입출력 예 #3\n",
    "\n",
    "* X, Y의 짝꿍은 10이므로, \"10\"을 return합니다.\n",
    "#### 입출력 예 #4\n",
    "\n",
    "* X, Y의 짝꿍은 321입니다. 따라서 \"321\"을 return합니다.\n",
    "#### 입출력 예 #5\n",
    "\n",
    "* 지문에 설명된 예시와 같습니다."
   ]
  },
  {
   "cell_type": "code",
   "execution_count": 51,
   "id": "d1ae4fd1-ebbc-499b-a4ec-e9a0fa97dccb",
   "metadata": {},
   "outputs": [],
   "source": [
    "def solution(X, Y):\n",
    "    temp = []\n",
    "    for x in X:\n",
    "        if x in Y:\n",
    "            temp.append(x)\n",
    "            Y = Y.replace(x, '', 1)\n",
    "\n",
    "    temp.sort(reverse=True)\n",
    "    \n",
    "    if len(temp) == 0:\n",
    "        result = '-1'\n",
    "    elif temp[0] == '0':\n",
    "        result = '0'\n",
    "    else:\n",
    "        result = ''.join(temp)\n",
    "    return result"
   ]
  },
  {
   "cell_type": "code",
   "execution_count": 52,
   "id": "c8b48748-de10-4d14-9ae5-1f8720fe90ce",
   "metadata": {},
   "outputs": [
    {
     "data": {
      "text/plain": [
       "'-1'"
      ]
     },
     "execution_count": 52,
     "metadata": {},
     "output_type": "execute_result"
    }
   ],
   "source": [
    "solution(\"100\",\t\"2345\")"
   ]
  },
  {
   "cell_type": "code",
   "execution_count": 53,
   "id": "7d85b90d-b7e5-4202-b50b-909dae088f71",
   "metadata": {},
   "outputs": [
    {
     "data": {
      "text/plain": [
       "'0'"
      ]
     },
     "execution_count": 53,
     "metadata": {},
     "output_type": "execute_result"
    }
   ],
   "source": [
    "solution(\"100\",\t\"203045\")"
   ]
  },
  {
   "cell_type": "code",
   "execution_count": 54,
   "id": "053ae85d-37b2-4032-8bdf-36072d6f791b",
   "metadata": {},
   "outputs": [
    {
     "data": {
      "text/plain": [
       "'10'"
      ]
     },
     "execution_count": 54,
     "metadata": {},
     "output_type": "execute_result"
    }
   ],
   "source": [
    "solution(\"100\",\t\"123450\")"
   ]
  },
  {
   "cell_type": "code",
   "execution_count": 55,
   "id": "7c5f3c48-5b82-42a2-bc6b-896e5728e2f9",
   "metadata": {},
   "outputs": [
    {
     "data": {
      "text/plain": [
       "'321'"
      ]
     },
     "execution_count": 55,
     "metadata": {},
     "output_type": "execute_result"
    }
   ],
   "source": [
    "solution(\"12321\", \"42531\")"
   ]
  },
  {
   "cell_type": "code",
   "execution_count": 56,
   "id": "3eff2186-c8c5-463f-999b-7547650259dc",
   "metadata": {},
   "outputs": [
    {
     "data": {
      "text/plain": [
       "'552'"
      ]
     },
     "execution_count": 56,
     "metadata": {},
     "output_type": "execute_result"
    }
   ],
   "source": [
    "solution(\"5525\", \"1255\")"
   ]
  },
  {
   "cell_type": "code",
   "execution_count": null,
   "id": "79f2c369-4e21-4b19-9b9e-3f78921ad490",
   "metadata": {},
   "outputs": [],
   "source": []
  }
 ],
 "metadata": {
  "kernelspec": {
   "display_name": "Python 3 (ipykernel)",
   "language": "python",
   "name": "python3"
  },
  "language_info": {
   "codemirror_mode": {
    "name": "ipython",
    "version": 3
   },
   "file_extension": ".py",
   "mimetype": "text/x-python",
   "name": "python",
   "nbconvert_exporter": "python",
   "pygments_lexer": "ipython3",
   "version": "3.11.6"
  }
 },
 "nbformat": 4,
 "nbformat_minor": 5
}

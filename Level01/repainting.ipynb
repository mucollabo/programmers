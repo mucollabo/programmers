{
 "cells": [
  {
   "cell_type": "markdown",
   "id": "f027e300-c60e-405d-86bf-0e53943bc969",
   "metadata": {},
   "source": [
    "### 문제 설명\n",
    "#### 어느 학교에 페인트가 칠해진 길이가 n미터인 벽이 있습니다. 벽에 동아리 · 학회 홍보나 회사 채용 공고 포스터 등을 게시하기 위해 테이프로 붙였다가 철거할 때 떼는 일이 많고 그 과정에서 페인트가 벗겨지곤 합니다. 페인트가 벗겨진 벽이 보기 흉해져 학교는 벽에 페인트를 덧칠하기로 했습니다.\n",
    "\n",
    "#### 넓은 벽 전체에 페인트를 새로 칠하는 대신, 구역을 나누어 일부만 페인트를 새로 칠 함으로써 예산을 아끼려 합니다. 이를 위해 벽을 1미터 길이의 구역 n개로 나누고, 각 구역에 왼쪽부터 순서대로 1번부터 n번까지 번호를 붙였습니다. 그리고 페인트를 다시 칠해야 할 구역들을 정했습니다.\n",
    "\n",
    "#### 벽에 페인트를 칠하는 롤러의 길이는 m미터이고, 롤러로 벽에 페인트를 한 번 칠하는 규칙은 다음과 같습니다.\n",
    "\n",
    "* 롤러가 벽에서 벗어나면 안 됩니다.\n",
    "* 구역의 일부분만 포함되도록 칠하면 안 됩니다.\n",
    "#### 즉, 롤러의 좌우측 끝을 구역의 경계선 혹은 벽의 좌우측 끝부분에 맞춘 후 롤러를 위아래로 움직이면서 벽을 칠합니다. 현재 페인트를 칠하는 구역들을 완전히 칠한 후 벽에서 롤러를 떼며, 이를 벽을 한 번 칠했다고 정의합니다.\n",
    "\n",
    "#### 한 구역에 페인트를 여러 번 칠해도 되고 다시 칠해야 할 구역이 아닌 곳에 페인트를 칠해도 되지만 다시 칠하기로 정한 구역은 적어도 한 번 페인트칠을 해야 합니다. 예산을 아끼기 위해 다시 칠할 구역을 정했듯 마찬가지로 롤러로 페인트칠을 하는 횟수를 최소화하려고 합니다.\n",
    "\n",
    "#### 정수 n, m과 다시 페인트를 칠하기로 정한 구역들의 번호가 담긴 정수 배열 section이 매개변수로 주어질 때 롤러로 페인트칠해야 하는 최소 횟수를 return 하는 solution 함수를 작성해 주세요.\n",
    "\n",
    "### 제한사항\n",
    "* 1 ≤ m ≤ n ≤ 100,000\n",
    "* 1 ≤ section의 길이 ≤ n\n",
    "    * 1 ≤ section의 원소 ≤ n\n",
    "    * section의 원소는 페인트를 다시 칠해야 하는 구역의 번호입니다.\n",
    "    * section에서 같은 원소가 두 번 이상 나타나지 않습니다.\n",
    "    * section의 원소는 오름차순으로 정렬되어 있습니다.\n",
    "### 입출력 예\n",
    "|n\t|m\t|section\t|result|\n",
    "|---|---|-----------|------|\n",
    "|8\t|4\t|[2, 3, 6]\t|2|\n",
    "|5\t|4\t|[1, 3]\t|1|\n",
    "|4\t|1\t|[1, 2, 3, 4]|\t4|\n",
    "### 입출력 예 설명\n",
    "### 입출력 예 #1\n",
    "\n",
    "* 예제 1번은 2, 3, 6번 영역에 페인트를 다시 칠해야 합니다. 롤러의 길이가 4미터이므로 한 번의 페인트칠에 연속된 4개의 구역을 칠할 수 있습니다. 처음에 3, 4, 5, 6번 영역에 페인트칠을 하면 칠해야 할 곳으로 2번 구역만 남고 1, 2, 3, 4번 구역에 페인트칠을 하면 2번 만에 다시 칠해야 할 곳에 모두 페인트칠을 할 수 있습니다.\n",
    "\n",
    "![image01](https://grepp-programmers.s3.ap-northeast-2.amazonaws.com/files/production/7e657b3f-1e5b-4724-b053-9548b2cd17ba/img1.png)\n",
    "\n",
    "2번보다 적은 횟수로 2, 3, 6번 영역에 페인트를 덧칠하는 방법은 없습니다. 따라서 최소 횟수인 2를 return 합니다.\n",
    "\n",
    "### 입출력 예 #2\n",
    "\n",
    "* 예제 2번은 1, 3번 영역에 페인트를 다시 칠해야 합니다. 롤러의 길이가 4미터이므로 한 번의 페인트칠에 연속된 4개의 구역을 칠할 수 있고 1, 2, 3, 4번 영역에 페인트칠을 하면 한 번에 1, 3번 영역을 모두 칠할 수 있습니다.\n",
    "\n",
    "![image02](https://grepp-programmers.s3.ap-northeast-2.amazonaws.com/files/production/fb5be7bd-e792-4317-9868-f11e7aaf6f03/img2.png)\n",
    "\n",
    "따라서 최소 횟수인 1을 return 합니다.\n",
    "\n",
    "### 입출력 예 #3\n",
    "\n",
    "* 예제 3번은 모든 구역에 페인트칠을 해야 합니다. 롤러의 길이가 1미터이므로 한 번에 한 구역밖에 칠할 수 없습니다. 구역이 4개이므로 각 구역을 한 번씩만 칠하는 4번이 최소 횟수가 됩니다.\n",
    "\n",
    "![image03](https://grepp-programmers.s3.ap-northeast-2.amazonaws.com/files/production/dddf1413-d81a-4199-a8e3-f10f58c59fcc/img3.png)\n",
    "\n",
    "따라서 4를 return 합니다.\n",
    "\n",
    "※ 공지 - 2023년 3월 20일 문제 난이도가 Lv. 2 → Lv. 1로 변경되었습니다.\n",
    "\n",
    "※ 공지 - 2023년 8월 17일 문제 지문의 오탈자를 수정했습니다."
   ]
  },
  {
   "cell_type": "code",
   "execution_count": 162,
   "id": "7f30e781-b9a2-45f3-94a4-fb9ccb4d33b1",
   "metadata": {},
   "outputs": [],
   "source": [
    "def solution(n, m, section):\n",
    "    count = 1\n",
    "    std = section[0]\n",
    "    for s in section:\n",
    "        if std + (m-1) < s:\n",
    "            std = s\n",
    "            count += 1\n",
    "    return count"
   ]
  },
  {
   "cell_type": "code",
   "execution_count": 163,
   "id": "defff1c0-288b-4789-8065-02c7ee1e9028",
   "metadata": {},
   "outputs": [
    {
     "data": {
      "text/plain": [
       "2"
      ]
     },
     "execution_count": 163,
     "metadata": {},
     "output_type": "execute_result"
    }
   ],
   "source": [
    "solution(8, 4, [2, 3, 6])"
   ]
  },
  {
   "cell_type": "code",
   "execution_count": 164,
   "id": "e99d8869-8a6d-4f2b-9060-f56c3ead209a",
   "metadata": {},
   "outputs": [
    {
     "data": {
      "text/plain": [
       "2"
      ]
     },
     "execution_count": 164,
     "metadata": {},
     "output_type": "execute_result"
    }
   ],
   "source": [
    "solution(8, 2, [2, 3, 6])"
   ]
  },
  {
   "cell_type": "code",
   "execution_count": 165,
   "id": "c3456b69-cf39-4461-bf97-d5075ecf2c32",
   "metadata": {},
   "outputs": [
    {
     "data": {
      "text/plain": [
       "1"
      ]
     },
     "execution_count": 165,
     "metadata": {},
     "output_type": "execute_result"
    }
   ],
   "source": [
    "solution(5, 4, [1, 3])"
   ]
  },
  {
   "cell_type": "code",
   "execution_count": 166,
   "id": "8cb87140-9139-4684-a0a5-1cbaff70e66e",
   "metadata": {},
   "outputs": [
    {
     "data": {
      "text/plain": [
       "4"
      ]
     },
     "execution_count": 166,
     "metadata": {},
     "output_type": "execute_result"
    }
   ],
   "source": [
    "solution(4, 1, [1, 2, 3, 4])"
   ]
  },
  {
   "cell_type": "code",
   "execution_count": null,
   "id": "8878e15c-9bce-4c31-8754-fc54df8375ee",
   "metadata": {},
   "outputs": [],
   "source": []
  }
 ],
 "metadata": {
  "kernelspec": {
   "display_name": "Python 3 (ipykernel)",
   "language": "python",
   "name": "python3"
  },
  "language_info": {
   "codemirror_mode": {
    "name": "ipython",
    "version": 3
   },
   "file_extension": ".py",
   "mimetype": "text/x-python",
   "name": "python",
   "nbconvert_exporter": "python",
   "pygments_lexer": "ipython3",
   "version": "3.11.6"
  }
 },
 "nbformat": 4,
 "nbformat_minor": 5
}

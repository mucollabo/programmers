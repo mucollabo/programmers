{
 "cells": [
  {
   "cell_type": "markdown",
   "id": "4cc1d56f-6b4e-434d-a8a7-5270b49bfa29",
   "metadata": {},
   "source": [
    "# 소수 만들기\n",
    "## 문제 설명\n",
    "### 주어진 숫자 중 3개의 수를 더했을 때 소수가 되는 경우의 개수를 구하려고 합니다. 숫자들이 들어있는 배열 nums가 매개변수로 주어질 때, nums에 있는 숫자들 중 서로 다른 3개를 골라 더했을 때 소수가 되는 경우의 개수를 return 하도록 solution 함수를 완성해주세요.\n",
    "\n",
    "## 제한사항\n",
    "* nums에 들어있는 숫자의 개수는 3개 이상 50개 이하입니다.\n",
    "* nums의 각 원소는 1 이상 1,000 이하의 자연수이며, 중복된 숫자가 들어있지 않습니다.\n",
    "## 입출력 예\n",
    "|nums|result|\n",
    "|----|------|\n",
    "|[1,2,3,4]|1|\n",
    "|[1,2,7,6,4]|4|\n",
    "## 입출력 예 설명\n",
    "## 입출력 예 #1\n",
    "* [1,2,4]를 이용해서 7을 만들 수 있습니다.\n",
    "\n",
    "## 입출력 예 #2\n",
    "* [1,2,4]를 이용해서 7을 만들 수 있습니다.\n",
    "* [1,4,6]을 이용해서 11을 만들 수 있습니다.\n",
    "* [2,4,7]을 이용해서 13을 만들 수 있습니다.\n",
    "* [4,6,7]을 이용해서 17을 만들 수 있습니다."
   ]
  },
  {
   "cell_type": "code",
   "execution_count": 33,
   "id": "8277b7fe-7ade-4c09-bd90-e9d289afe070",
   "metadata": {},
   "outputs": [],
   "source": [
    "from itertools import combinations as cb\n",
    "\n",
    "def solution(nums):\n",
    "    def pn(i):\n",
    "        for j in range(2, i):\n",
    "            if i%j == 0:\n",
    "                return False\n",
    "        return True\n",
    "    cnt = [pn(sum(i)) for i in list(cb(nums, 3))]\n",
    "        \n",
    "    return cnt.count(True)"
   ]
  },
  {
   "cell_type": "code",
   "execution_count": 34,
   "id": "eee0fcae-4854-4b81-9a19-09786a2f49ec",
   "metadata": {},
   "outputs": [
    {
     "data": {
      "text/plain": [
       "1"
      ]
     },
     "execution_count": 34,
     "metadata": {},
     "output_type": "execute_result"
    }
   ],
   "source": [
    "solution([1,2,3,4])"
   ]
  },
  {
   "cell_type": "code",
   "execution_count": 35,
   "id": "c4807133-a3e4-4440-a015-73564f17a1fc",
   "metadata": {},
   "outputs": [
    {
     "data": {
      "text/plain": [
       "4"
      ]
     },
     "execution_count": 35,
     "metadata": {},
     "output_type": "execute_result"
    }
   ],
   "source": [
    "solution([1,2,7,6,4])"
   ]
  },
  {
   "cell_type": "code",
   "execution_count": null,
   "id": "6822db78-861a-4138-9893-d3ccdb4f460c",
   "metadata": {},
   "outputs": [],
   "source": []
  }
 ],
 "metadata": {
  "kernelspec": {
   "display_name": "Python 3 (ipykernel)",
   "language": "python",
   "name": "python3"
  },
  "language_info": {
   "codemirror_mode": {
    "name": "ipython",
    "version": 3
   },
   "file_extension": ".py",
   "mimetype": "text/x-python",
   "name": "python",
   "nbconvert_exporter": "python",
   "pygments_lexer": "ipython3",
   "version": "3.10.6"
  }
 },
 "nbformat": 4,
 "nbformat_minor": 5
}

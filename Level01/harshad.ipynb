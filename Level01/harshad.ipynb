{
 "cells": [
  {
   "cell_type": "markdown",
   "id": "c7afa3c4-8814-4764-9d59-df61e4fc3818",
   "metadata": {},
   "source": [
    "# 하샤드 수\n",
    "## 문제 설명\n",
    "### 양의 정수 x가 하샤드 수이려면 x의 자릿수의 합으로 x가 나누어져야 합니다. 예를 들어 18의 자릿수 합은 1+8=9이고, 18은 9로 나누어 떨어지므로 18은 하샤드 수입니다. 자연수 x를 입력받아 x가 하샤드 수인지 아닌지 검사하는 함수, solution을 완성해주세요.\n",
    "\n",
    "## 제한 조건\n",
    "* x는 1 이상, 10000 이하인 정수입니다.\n",
    "## 입출력 예\n",
    "|arr|return|\n",
    "|---|------|\n",
    "|10|true|\n",
    "|12|true|\n",
    "|11|false|\n",
    "|13|false|\n",
    "## 입출력 예 설명\n",
    "## 입출력 예 #1\n",
    "* 10의 모든 자릿수의 합은 1입니다. 10은 1로 나누어 떨어지므로 10은 하샤드 수입니다.\n",
    "\n",
    "## 입출력 예 #2\n",
    "* 12의 모든 자릿수의 합은 3입니다. 12는 3으로 나누어 떨어지므로 12는 하샤드 수입니다.\n",
    "\n",
    "## 입출력 예 #3\n",
    "* 11의 모든 자릿수의 합은 2입니다. 11은 2로 나누어 떨어지지 않으므로 11는 하샤드 수가 아닙니다.\n",
    "\n",
    "## 입출력 예 #4\n",
    "* 13의 모든 자릿수의 합은 4입니다. 13은 4로 나누어 떨어지지 않으므로 13은 하샤드 수가 아닙니다."
   ]
  },
  {
   "cell_type": "code",
   "execution_count": 9,
   "id": "a20cf029-1781-4ec9-a875-cc3b736be149",
   "metadata": {},
   "outputs": [],
   "source": [
    "def solution(x):\n",
    "    return True if x%sum([int(i) for i in str(x)]) == 0 else False "
   ]
  },
  {
   "cell_type": "code",
   "execution_count": 10,
   "id": "d9069039-e245-41bc-b3dd-8f46e92e0a40",
   "metadata": {},
   "outputs": [
    {
     "data": {
      "text/plain": [
       "True"
      ]
     },
     "execution_count": 10,
     "metadata": {},
     "output_type": "execute_result"
    }
   ],
   "source": [
    "solution(10)"
   ]
  },
  {
   "cell_type": "code",
   "execution_count": 11,
   "id": "76ac4cc1-01ed-4bb4-943c-7699178d3ce1",
   "metadata": {},
   "outputs": [
    {
     "data": {
      "text/plain": [
       "True"
      ]
     },
     "execution_count": 11,
     "metadata": {},
     "output_type": "execute_result"
    }
   ],
   "source": [
    "solution(12)"
   ]
  },
  {
   "cell_type": "code",
   "execution_count": 12,
   "id": "d50433be-5743-47ff-8c8a-92f3bad9d4bb",
   "metadata": {},
   "outputs": [
    {
     "data": {
      "text/plain": [
       "False"
      ]
     },
     "execution_count": 12,
     "metadata": {},
     "output_type": "execute_result"
    }
   ],
   "source": [
    "solution(11)"
   ]
  },
  {
   "cell_type": "code",
   "execution_count": 13,
   "id": "9b7cdb20-fe0a-40b4-897e-49207adacd52",
   "metadata": {},
   "outputs": [
    {
     "data": {
      "text/plain": [
       "False"
      ]
     },
     "execution_count": 13,
     "metadata": {},
     "output_type": "execute_result"
    }
   ],
   "source": [
    "solution(13)"
   ]
  },
  {
   "cell_type": "code",
   "execution_count": null,
   "id": "73222ef7-0745-4569-a855-5ead2e00082e",
   "metadata": {},
   "outputs": [],
   "source": []
  }
 ],
 "metadata": {
  "kernelspec": {
   "display_name": "Python 3 (ipykernel)",
   "language": "python",
   "name": "python3"
  },
  "language_info": {
   "codemirror_mode": {
    "name": "ipython",
    "version": 3
   },
   "file_extension": ".py",
   "mimetype": "text/x-python",
   "name": "python",
   "nbconvert_exporter": "python",
   "pygments_lexer": "ipython3",
   "version": "3.10.6"
  }
 },
 "nbformat": 4,
 "nbformat_minor": 5
}

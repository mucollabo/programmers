{
 "cells": [
  {
   "cell_type": "markdown",
   "id": "6b3374ba-548b-45fb-91af-6fb0182449fb",
   "metadata": {},
   "source": [
    "# 문자열 정렬하기 (1)\n",
    "## 문제 설명\n",
    "### 문자열 my_string이 매개변수로 주어질 때, my_string 안에 있는 숫자만 골라 오름차순 정렬한 리스트를 return 하도록 solution 함수를 작성해보세요.\n",
    "\n",
    "## 제한사항\n",
    "* 1 ≤ my_string의 길이 ≤ 100\n",
    "* my_string에는 숫자가 한 개 이상 포함되어 있습니다.\n",
    "* my_string은 영어 소문자 또는 0부터 9까지의 숫자로 이루어져 있습니다. - - -\n",
    "## 입출력 예\n",
    "|my_string|result|\n",
    "|---------|------|\n",
    "|\"hi12392\"|[1, 2, 2, 3, 9]|\n",
    "|\"p2o4i8gj2\"|[2, 2, 4, 8]|\n",
    "|\"abcde0\"|[0]|\n",
    "## 입출력 예 설명\n",
    "## 입출력 예 #1\n",
    "\n",
    "* \"hi12392\"에 있는 숫자 1, 2, 3, 9, 2를 오름차순 정렬한 [1, 2, 2, 3, 9]를 return 합니다.\n",
    "## 입출력 예 #2\n",
    "\n",
    "* \"p2o4i8gj2\"에 있는 숫자 2, 4, 8, 2를 오름차순 정렬한 [2, 2, 4, 8]을 return 합니다.\n",
    "## 입출력 예 #3\n",
    "\n",
    "* \"abcde0\"에 있는 숫자 0을 오름차순 정렬한 [0]을 return 합니다."
   ]
  },
  {
   "cell_type": "code",
   "execution_count": 13,
   "id": "9cfbec45-6d01-4ed7-aff3-8e2ccfd6e093",
   "metadata": {},
   "outputs": [],
   "source": [
    "import re\n",
    "def solution(my_string):\n",
    "    return sorted(list(re.sub(r'[^0-9]', '', my_string)))"
   ]
  },
  {
   "cell_type": "code",
   "execution_count": 14,
   "id": "ecf402ce-77ad-4b32-9feb-d85af61df385",
   "metadata": {},
   "outputs": [
    {
     "data": {
      "text/plain": [
       "['1', '2', '2', '3', '9']"
      ]
     },
     "execution_count": 14,
     "metadata": {},
     "output_type": "execute_result"
    }
   ],
   "source": [
    "solution(\"hi12392\")"
   ]
  },
  {
   "cell_type": "code",
   "execution_count": 17,
   "id": "6abd5e73-ed9c-44f2-8cad-3c4176f58d52",
   "metadata": {},
   "outputs": [],
   "source": [
    "def solution(my_string):\n",
    "    return sorted(int(d) for d in my_string if d.isdigit())"
   ]
  },
  {
   "cell_type": "code",
   "execution_count": 18,
   "id": "d3aff04a-33bd-4468-9c7f-5e5f0e3a6dee",
   "metadata": {},
   "outputs": [
    {
     "data": {
      "text/plain": [
       "[1, 2, 2, 3, 9]"
      ]
     },
     "execution_count": 18,
     "metadata": {},
     "output_type": "execute_result"
    }
   ],
   "source": [
    "solution(\"hi12392\")"
   ]
  },
  {
   "cell_type": "code",
   "execution_count": 19,
   "id": "34ac4e52-0f02-407f-9dd1-0b0ce6de3db3",
   "metadata": {},
   "outputs": [
    {
     "data": {
      "text/plain": [
       "[2, 2, 4, 8]"
      ]
     },
     "execution_count": 19,
     "metadata": {},
     "output_type": "execute_result"
    }
   ],
   "source": [
    "solution(\"p2o4i8gj2\")"
   ]
  },
  {
   "cell_type": "code",
   "execution_count": 20,
   "id": "7eb991e5-3b11-4d11-87eb-0df2751936a5",
   "metadata": {},
   "outputs": [
    {
     "data": {
      "text/plain": [
       "[0]"
      ]
     },
     "execution_count": 20,
     "metadata": {},
     "output_type": "execute_result"
    }
   ],
   "source": [
    "solution(\"abcde0\")"
   ]
  },
  {
   "cell_type": "code",
   "execution_count": null,
   "id": "22e5d0e1-08ee-4b33-bf8d-785b95982273",
   "metadata": {},
   "outputs": [],
   "source": []
  }
 ],
 "metadata": {
  "kernelspec": {
   "display_name": "Python 3 (ipykernel)",
   "language": "python",
   "name": "python3"
  },
  "language_info": {
   "codemirror_mode": {
    "name": "ipython",
    "version": 3
   },
   "file_extension": ".py",
   "mimetype": "text/x-python",
   "name": "python",
   "nbconvert_exporter": "python",
   "pygments_lexer": "ipython3",
   "version": "3.10.6"
  }
 },
 "nbformat": 4,
 "nbformat_minor": 5
}

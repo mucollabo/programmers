{
 "cells": [
  {
   "cell_type": "markdown",
   "id": "df6ea982-e8ef-45f4-8bf1-0bf78eddb256",
   "metadata": {},
   "source": [
    "# 문자열 뒤집기\n",
    "## 문제 설명\n",
    "### 문자열 my_string이 매개변수로 주어집니다. my_string을 거꾸로 뒤집은 문자열을 return하도록 solution 함수를 완성해주세요.\n",
    "\n",
    "## 제한사항\n",
    "* 1 ≤ my_string의 길이 ≤ 1,000\n",
    "## 입출력 예\n",
    "|my_string|return|\n",
    "|---------|------|\n",
    "|\"jaron\"|\"noraj\"|\n",
    "|\"bread\"|\"daerb\"|\n",
    "## 입출력 예 설명\n",
    "## 입출력 예 #1\n",
    "\n",
    "* my_string이 \"jaron\"이므로 거꾸로 뒤집은 \"noraj\"를 return합니다.\n",
    "## 입출력 예 #2\n",
    "\n",
    "* my_string이 \"bread\"이므로 거꾸로 뒤집은 \"daerb\"를 return합니다."
   ]
  },
  {
   "cell_type": "code",
   "execution_count": 5,
   "id": "5b5fd9c0-55df-43eb-94dc-c72492ac4ef3",
   "metadata": {},
   "outputs": [],
   "source": [
    "def solution(my_string):\n",
    "    return my_string[::-1]"
   ]
  },
  {
   "cell_type": "code",
   "execution_count": 6,
   "id": "7a53bd22-5797-49b2-ab82-e7aa6fa1f826",
   "metadata": {},
   "outputs": [
    {
     "data": {
      "text/plain": [
       "'noraj'"
      ]
     },
     "execution_count": 6,
     "metadata": {},
     "output_type": "execute_result"
    }
   ],
   "source": [
    "solution(\"jaron\")"
   ]
  },
  {
   "cell_type": "code",
   "execution_count": 7,
   "id": "aeb6bb81-8725-4df1-8dcb-341da56b180e",
   "metadata": {},
   "outputs": [
    {
     "data": {
      "text/plain": [
       "'daerb'"
      ]
     },
     "execution_count": 7,
     "metadata": {},
     "output_type": "execute_result"
    }
   ],
   "source": [
    "solution(\"bread\")"
   ]
  },
  {
   "cell_type": "code",
   "execution_count": null,
   "id": "cb4b026c-c158-4ba1-8beb-7f428a7c8b87",
   "metadata": {},
   "outputs": [],
   "source": []
  }
 ],
 "metadata": {
  "kernelspec": {
   "display_name": "Python 3 (ipykernel)",
   "language": "python",
   "name": "python3"
  },
  "language_info": {
   "codemirror_mode": {
    "name": "ipython",
    "version": 3
   },
   "file_extension": ".py",
   "mimetype": "text/x-python",
   "name": "python",
   "nbconvert_exporter": "python",
   "pygments_lexer": "ipython3",
   "version": "3.10.6"
  }
 },
 "nbformat": 4,
 "nbformat_minor": 5
}

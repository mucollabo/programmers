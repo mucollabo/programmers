{
 "cells": [
  {
   "cell_type": "markdown",
   "id": "972975d1-75e1-4ba5-b553-89c2a1edf9e6",
   "metadata": {},
   "source": [
    "# 아이스 아메리카노\n",
    "## 문제 설명\n",
    "### 머쓱이는 추운 날에도 아이스 아메리카노만 마십니다. 아이스 아메리카노는 한잔에 5,500원입니다. 머쓱이가 가지고 있는 돈 money가 매개변수로 주어질 때, 머쓱이가 최대로 마실 수 있는 아메리카노의 잔 수와 남는 돈을 순서대로 담은 배열을 return 하도록 solution 함수를 완성해보세요.\n",
    "\n",
    "## 제한사항\n",
    "* 0 < money ≤ 1,000,000\n",
    "## 입출력 예\n",
    "\n",
    "|money|result|\n",
    "|-----|------|\n",
    "|5,500|[1, 0]|\n",
    "|15,000|[2, 4000]|\n",
    "    \n",
    "## 입출력 예 설명\n",
    "## 입출력 예 #1\n",
    "\n",
    "* 5,500원은 아이스 아메리카노 한 잔을 살 수 있고 잔돈은 0원입니다.\n",
    "## 입출력 예 #2\n",
    "\n",
    "* 15,000원은 아이스 아메리카노 두 잔을 살 수 있고 잔돈은 4,000원입니다."
   ]
  },
  {
   "cell_type": "code",
   "execution_count": 2,
   "id": "b1e83e8f-c2b1-4f23-b3d2-01929aa3a3ca",
   "metadata": {},
   "outputs": [],
   "source": [
    "def solution(money):\n",
    "    return [money//5500, money%5500]"
   ]
  },
  {
   "cell_type": "code",
   "execution_count": 3,
   "id": "0a22792d-3b31-405a-8025-2a2b863ee567",
   "metadata": {},
   "outputs": [
    {
     "data": {
      "text/plain": [
       "[1, 0]"
      ]
     },
     "execution_count": 3,
     "metadata": {},
     "output_type": "execute_result"
    }
   ],
   "source": [
    "solution(5500)"
   ]
  },
  {
   "cell_type": "code",
   "execution_count": 5,
   "id": "38039ba3-880c-419d-b8ac-abd1bf3ff160",
   "metadata": {},
   "outputs": [
    {
     "data": {
      "text/plain": [
       "[2, 4000]"
      ]
     },
     "execution_count": 5,
     "metadata": {},
     "output_type": "execute_result"
    }
   ],
   "source": [
    "solution(15000)"
   ]
  },
  {
   "cell_type": "code",
   "execution_count": null,
   "id": "93f53212-dd7c-422f-92e4-3d28f183bdf0",
   "metadata": {},
   "outputs": [],
   "source": []
  }
 ],
 "metadata": {
  "kernelspec": {
   "display_name": "Python 3 (ipykernel)",
   "language": "python",
   "name": "python3"
  },
  "language_info": {
   "codemirror_mode": {
    "name": "ipython",
    "version": 3
   },
   "file_extension": ".py",
   "mimetype": "text/x-python",
   "name": "python",
   "nbconvert_exporter": "python",
   "pygments_lexer": "ipython3",
   "version": "3.10.6"
  }
 },
 "nbformat": 4,
 "nbformat_minor": 5
}

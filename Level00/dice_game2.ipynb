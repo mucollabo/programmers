{
 "cells": [
  {
   "cell_type": "markdown",
   "id": "7ada5a7d-100f-4685-8651-43c82b31ac8d",
   "metadata": {},
   "source": [
    "### 문제 설명\n",
    "1부터 6까지 숫자가 적힌 주사위가 세 개 있습니다. 세 주사위를 굴렸을 때 나온 숫자를 각각 a, b, c라고 했을 때 얻는 점수는 다음과 같습니다.\n",
    "\n",
    "* 세 숫자가 모두 다르다면 a + b + c 점을 얻습니다.\n",
    "* 세 숫자 중 어느 두 숫자는 같고 나머지 다른 숫자는 다르다면 $$(a + b + c) × (a^2 + b^2 + c^2)$$점을 얻습니다.\n",
    "* 세 숫자가 모두 같다면 $$(a + b + c) × (a^2 + b^2 + c^2 ) × (a^3 + b^3 + c^3 )$$점을 얻습니다.\n",
    "* 세 정수 a, b, c가 매개변수로 주어질 때, 얻는 점수를 return 하는 solution 함수를 작성해 주세요.\n",
    "\n",
    "### 제한사항\n",
    "* a, b, c는 1이상 6이하의 정수입니다.\n",
    "### 입출력 예\n",
    "|a|b|c|result|\n",
    "|-|-|-|------|\n",
    "|2|6|1|9|\n",
    "|5|3|3|473|\n",
    "|4|4|4|110592|\n",
    "### 입출력 예 설명\n",
    "#### 입출력 예 #1\n",
    "\n",
    "* 예제 1번에서 세 주사위 숫자가 모두 다르므로 2 + 6 + 1 = 9점을 얻습니다. 따라서 9를 return 합니다.\n",
    "#### 입출력 예 #2\n",
    "\n",
    "* 예제 2번에서 두 주사위 숫자만 같으므로 $$(5 + 3 + 3) × (5^2 + 3^2 + 3^2 ) = 11 × 43 = 473$$점을 얻습니다. 따라서 473을 return 합니다.\n",
    "#### 입출력 예 #3\n",
    "\n",
    "* 예제 3번에서 세 주사위 숫자가 모두 같으므로 $$(4 + 4 + 4) × (4^2 + 4^2 + 4^2 ) × (4^3 + 4^3 + 4^3 ) = 12 × 48 × 192 = 110,592$$점을 얻습니다. 따라서 110592를 return 합니다."
   ]
  },
  {
   "cell_type": "code",
   "execution_count": 30,
   "id": "8f3b20d7-28f4-473b-bf56-f6ca85341795",
   "metadata": {},
   "outputs": [],
   "source": [
    "def solution(a, b, c):\n",
    "    if a == b and b == c:\n",
    "        return pow(a, 6)*27\n",
    "    elif a == b or b == c or c == a:\n",
    "        return (a + b + c) * (pow(a, 2) + pow(b, 2) + pow(c, 2))\n",
    "    else:\n",
    "        return a + b + c"
   ]
  },
  {
   "cell_type": "code",
   "execution_count": 31,
   "id": "41e6c87b-bbc8-4b12-8ccb-5f654900f58c",
   "metadata": {},
   "outputs": [
    {
     "data": {
      "text/plain": [
       "110592"
      ]
     },
     "execution_count": 31,
     "metadata": {},
     "output_type": "execute_result"
    }
   ],
   "source": [
    "solution(4, 4, 4)"
   ]
  },
  {
   "cell_type": "code",
   "execution_count": 32,
   "id": "1b1b8dfe-d1bb-4c4a-bac0-65413f91d1ce",
   "metadata": {},
   "outputs": [
    {
     "data": {
      "text/plain": [
       "473"
      ]
     },
     "execution_count": 32,
     "metadata": {},
     "output_type": "execute_result"
    }
   ],
   "source": [
    "solution(5, 3, 3)"
   ]
  },
  {
   "cell_type": "code",
   "execution_count": 33,
   "id": "b4836ea4-8315-4b46-8405-6ad7dcc83191",
   "metadata": {},
   "outputs": [
    {
     "data": {
      "text/plain": [
       "110592"
      ]
     },
     "execution_count": 33,
     "metadata": {},
     "output_type": "execute_result"
    }
   ],
   "source": [
    "solution(4, 4, 4)"
   ]
  },
  {
   "cell_type": "code",
   "execution_count": null,
   "id": "d651f9d5-e751-4f64-be77-1df618a52927",
   "metadata": {},
   "outputs": [],
   "source": []
  }
 ],
 "metadata": {
  "kernelspec": {
   "display_name": "Python 3 (ipykernel)",
   "language": "python",
   "name": "python3"
  },
  "language_info": {
   "codemirror_mode": {
    "name": "ipython",
    "version": 3
   },
   "file_extension": ".py",
   "mimetype": "text/x-python",
   "name": "python",
   "nbconvert_exporter": "python",
   "pygments_lexer": "ipython3",
   "version": "3.11.6"
  }
 },
 "nbformat": 4,
 "nbformat_minor": 5
}

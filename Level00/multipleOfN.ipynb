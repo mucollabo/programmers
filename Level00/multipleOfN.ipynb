{
 "cells": [
  {
   "cell_type": "markdown",
   "id": "0be6aae1-f539-4269-b4a5-de0a1ea81a53",
   "metadata": {},
   "source": [
    "## n의 배수\n",
    "### 문제 설명\n",
    "#### 정수 num과 n이 매개 변수로 주어질 때, num이 n의 배수이면 1을 return n의 배수가 아니라면 0을 return하도록 solution 함수를 완성해주세요.\n",
    "\n",
    "### 제한사항\n",
    "* 2 ≤ num ≤ 100\n",
    "* 2 ≤ n ≤ 9\n",
    "### 입출력 예\n",
    "|num|n|result|\n",
    "|----|--|-----|\n",
    "|98|2|1|\n",
    "|34|3|0|\n",
    "### 입출력 예 설명\n",
    "#### 입출력 예 #1\n",
    "\n",
    "* 98은 2의 배수이므로 1을 return합니다.\n",
    "#### 입출력 예 #2\n",
    "\n",
    "* 32는 3의 배수가 아니므로 0을 return합니다."
   ]
  },
  {
   "cell_type": "code",
   "execution_count": 1,
   "id": "c7855567-50fb-4da0-8dd8-fb17db941cfc",
   "metadata": {},
   "outputs": [],
   "source": [
    "def solution(num, n):\n",
    "    return 1 if num%n == 0 else 0"
   ]
  },
  {
   "cell_type": "code",
   "execution_count": 2,
   "id": "e5a5b3fb-ded5-4b07-bc9a-196f8dd94fc3",
   "metadata": {},
   "outputs": [
    {
     "data": {
      "text/plain": [
       "1"
      ]
     },
     "execution_count": 2,
     "metadata": {},
     "output_type": "execute_result"
    }
   ],
   "source": [
    "solution(98, 2)"
   ]
  },
  {
   "cell_type": "code",
   "execution_count": 3,
   "id": "7f38bd18-635c-472b-a6f0-f9b24ccb3b5b",
   "metadata": {},
   "outputs": [
    {
     "data": {
      "text/plain": [
       "0"
      ]
     },
     "execution_count": 3,
     "metadata": {},
     "output_type": "execute_result"
    }
   ],
   "source": [
    "solution(34, 3)"
   ]
  },
  {
   "cell_type": "code",
   "execution_count": null,
   "id": "6787faae-1572-4109-b925-7d6f4cbbe2c4",
   "metadata": {},
   "outputs": [],
   "source": []
  }
 ],
 "metadata": {
  "kernelspec": {
   "display_name": "Python 3 (ipykernel)",
   "language": "python",
   "name": "python3"
  },
  "language_info": {
   "codemirror_mode": {
    "name": "ipython",
    "version": 3
   },
   "file_extension": ".py",
   "mimetype": "text/x-python",
   "name": "python",
   "nbconvert_exporter": "python",
   "pygments_lexer": "ipython3",
   "version": "3.10.6"
  }
 },
 "nbformat": 4,
 "nbformat_minor": 5
}

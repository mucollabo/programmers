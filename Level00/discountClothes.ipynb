{
 "cells": [
  {
   "cell_type": "markdown",
   "id": "b2259567-b643-41de-8260-26227c0dc650",
   "metadata": {},
   "source": [
    "# 옷가게 할인 받기\n",
    "## 문제 설명\n",
    "### 머쓱이네 옷가게는 10만 원 이상 사면 5%, 30만 원 이상 사면 10%, 50만 원 이상 사면 20%를 할인해줍니다.\n",
    "### 구매한 옷의 가격 price가 주어질 때, 지불해야 할 금액을 return 하도록 solution 함수를 완성해보세요.\n",
    "\n",
    "## 제한사항\n",
    "* 0 ≤ price ≤ 1,000,000\n",
    "* 소수점 이하를 버린 정수를 return합니다.\n",
    "## 입출력 예\n",
    "|price|result|\n",
    "|-----|------|\n",
    "|150,000|142,500|\n",
    "|580,000|464,000|\n",
    "## 입출력 예 설명\n",
    "## 입출력 예 #1\n",
    "\n",
    "* 150,000원에서 5%를 할인한 142,500원을 return 합니다.\n",
    "## 입출력 예 #2\n",
    "\n",
    "* 580,000원에서 20%를 할인한 464,000원을 return 합니다."
   ]
  },
  {
   "cell_type": "code",
   "execution_count": 15,
   "id": "a96409d4-55da-4aaa-b8b0-981b7368e2f7",
   "metadata": {},
   "outputs": [],
   "source": [
    "def solution(price):\n",
    "    if price >= 100000 and price < 300000:\n",
    "        return int(price - price*0.05)\n",
    "    elif price >= 300000 and price < 500000:\n",
    "        return int(price - price*0.1)\n",
    "    elif price >= 500000:\n",
    "        return int(price - price*0.2)\n",
    "    else:\n",
    "        return price"
   ]
  },
  {
   "cell_type": "code",
   "execution_count": 16,
   "id": "22eb2c7c-1760-4ba2-8564-52a4f60faec3",
   "metadata": {},
   "outputs": [
    {
     "data": {
      "text/plain": [
       "142500"
      ]
     },
     "execution_count": 16,
     "metadata": {},
     "output_type": "execute_result"
    }
   ],
   "source": [
    "solution(150000)"
   ]
  },
  {
   "cell_type": "code",
   "execution_count": 17,
   "id": "f342fe9f-e109-49a8-acbc-8b24349f303e",
   "metadata": {},
   "outputs": [
    {
     "data": {
      "text/plain": [
       "464000"
      ]
     },
     "execution_count": 17,
     "metadata": {},
     "output_type": "execute_result"
    }
   ],
   "source": [
    "solution(580000)"
   ]
  },
  {
   "cell_type": "code",
   "execution_count": 18,
   "id": "866bbce2-77ea-4bb5-9a46-6c77de74e58e",
   "metadata": {},
   "outputs": [
    {
     "data": {
      "text/plain": [
       "315000"
      ]
     },
     "execution_count": 18,
     "metadata": {},
     "output_type": "execute_result"
    }
   ],
   "source": [
    "solution(350000)"
   ]
  },
  {
   "cell_type": "code",
   "execution_count": 19,
   "id": "71cb96f5-b56d-4d3f-b3b7-75c9d6efdae0",
   "metadata": {},
   "outputs": [
    {
     "data": {
      "text/plain": [
       "70000"
      ]
     },
     "execution_count": 19,
     "metadata": {},
     "output_type": "execute_result"
    }
   ],
   "source": [
    "solution(70000)"
   ]
  },
  {
   "cell_type": "code",
   "execution_count": null,
   "id": "1bb3fb01-1d87-495f-bf48-28e2c0edaff0",
   "metadata": {},
   "outputs": [],
   "source": []
  }
 ],
 "metadata": {
  "kernelspec": {
   "display_name": "Python 3 (ipykernel)",
   "language": "python",
   "name": "python3"
  },
  "language_info": {
   "codemirror_mode": {
    "name": "ipython",
    "version": 3
   },
   "file_extension": ".py",
   "mimetype": "text/x-python",
   "name": "python",
   "nbconvert_exporter": "python",
   "pygments_lexer": "ipython3",
   "version": "3.10.6"
  }
 },
 "nbformat": 4,
 "nbformat_minor": 5
}

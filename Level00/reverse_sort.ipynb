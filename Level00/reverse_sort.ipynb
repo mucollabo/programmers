{
 "cells": [
  {
   "cell_type": "markdown",
   "metadata": {},
   "source": [
    "### 문제 설명\n",
    "정수 배열 arr와 2차원 정수 배열 queries이 주어집니다. queries의 원소는 각각 하나의 query를 나타내며, [s, e, k] 꼴입니다.\n",
    "\n",
    "각 query마다 순서대로 s ≤ i ≤ e인 모든 i에 대해 i가 k의 배수이면 arr[i]에 1을 더합니다.\n",
    "\n",
    "위 규칙에 따라 queries를 처리한 이후의 arr를 return 하는 solution 함수를 완성해 주세요.\n",
    "\n",
    "### 제한사항\n",
    "* 1 ≤ arr의 길이 ≤ 1,000\n",
    "  * 0 ≤ arr의 원소 ≤ 1,000,000\n",
    "* 1 ≤ queries의 길이 ≤ 1,000\n",
    "  * 0 ≤ s ≤ e < arr의 길이\n",
    "  * 0 ≤ k ≤ 5\n",
    "### 입출력 예\n",
    "|arr|queries|result|\n",
    "|---|-------|------|\n",
    "|[0, 1, 2, 4, 3]|[[0, 4, 1],[0, 3, 2],[0, 3, 3]]|[3, 2, 4, 6, 4]|\n",
    "\n",
    "### 입출력 예 설명\n",
    "#### 입출력 예 #1\n",
    "\n",
    "* 각 쿼리에 따라 arr가 다음과 같이 변합니다.\n",
    "\n",
    "|arr|\n",
    "|--------------|\n",
    "|[0, 1, 2, 4, 3]|\n",
    "|[1, 2, 3, 5, 4]|\n",
    "|[2, 2, 4, 5, 4]|\n",
    "|[3, 2, 4, 6, 4]|\n",
    "\n",
    "* 따라서 [3, 2, 4, 6, 4]를 return 합니다.\n",
    "\n",
    "※ 2023년 04월 27일 입출력 예 설명이 수정되었습니다."
   ]
  },
  {
   "cell_type": "code",
   "execution_count": 1,
   "metadata": {},
   "outputs": [],
   "source": [
    "def solution(arr, queries):\n",
    "    for q in queries:\n",
    "        for i in range(q[0], q[1]+1):\n",
    "            if i%q[2] == 0:\n",
    "                arr[i] += 1\n",
    "    return arr"
   ]
  },
  {
   "cell_type": "code",
   "execution_count": 2,
   "metadata": {},
   "outputs": [
    {
     "data": {
      "text/plain": [
       "[3, 2, 4, 6, 4]"
      ]
     },
     "execution_count": 2,
     "metadata": {},
     "output_type": "execute_result"
    }
   ],
   "source": [
    "solution([0, 1, 2, 4, 3], [[0, 4, 1],[0, 3, 2],[0, 3, 3]])"
   ]
  },
  {
   "cell_type": "code",
   "execution_count": null,
   "metadata": {},
   "outputs": [],
   "source": []
  }
 ],
 "metadata": {
  "kernelspec": {
   "display_name": "Python 3",
   "language": "python",
   "name": "python3"
  },
  "language_info": {
   "codemirror_mode": {
    "name": "ipython",
    "version": 3
   },
   "file_extension": ".py",
   "mimetype": "text/x-python",
   "name": "python",
   "nbconvert_exporter": "python",
   "pygments_lexer": "ipython3",
   "version": "3.12.1"
  }
 },
 "nbformat": 4,
 "nbformat_minor": 2
}

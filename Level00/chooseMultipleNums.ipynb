{
 "cells": [
  {
   "cell_type": "markdown",
   "id": "13be773e-26ab-4345-848d-607037021d6f",
   "metadata": {},
   "source": [
    "# n의 배수 고르기\n",
    "## 문제 설명\n",
    "### 정수 n과 정수 배열 numlist가 매개변수로 주어질 때, numlist에서 n의 배수가 아닌 수들을 제거한 배열을 return하도록 solution 함수를 완성해주세요.\n",
    "\n",
    "## 제한사항\n",
    "* 1 ≤ n ≤ 10,000\n",
    "* 1 ≤ numlist의 크기 ≤ 100\n",
    "* 1 ≤ numlist의 원소 ≤ 100,000\n",
    "## 입출력 예\n",
    "|n|numlist|result|\n",
    "|-|-------|------|\n",
    "|3|[4, 5, 6, 7, 8, 9, 10, 11, 12]|[6, 9, 12]|\n",
    "|5|[1, 9, 3, 10, 13, 5]|[10, 5]|\n",
    "|12|[2, 100, 120, 600, 12, 12]|[120, 600, 12, 12]|\n",
    "## 입출력 예 설명\n",
    "## 입출력 예 #1\n",
    "\n",
    "* numlist에서 3의 배수만을 남긴 [6, 9, 12]를 return합니다.\n",
    "## 입출력 예 #2\n",
    "\n",
    "* numlist에서 5의 배수만을 남긴 [10, 5]를 return합니다.\n",
    "## 입출력 예 #3\n",
    "\n",
    "* numlist에서 12의 배수만을 남긴 [120, 600, 12, 12]를 return합니다."
   ]
  },
  {
   "cell_type": "code",
   "execution_count": 8,
   "id": "6fff7a25-2c7b-471d-83be-af881d44de9e",
   "metadata": {},
   "outputs": [],
   "source": [
    "def solution(n, numlist):\n",
    "    return list(filter(lambda x: x%n == 0 , numlist))"
   ]
  },
  {
   "cell_type": "code",
   "execution_count": 9,
   "id": "d32b63c4-8468-4779-8394-ce3f570b81bd",
   "metadata": {},
   "outputs": [
    {
     "data": {
      "text/plain": [
       "[6, 9, 12]"
      ]
     },
     "execution_count": 9,
     "metadata": {},
     "output_type": "execute_result"
    }
   ],
   "source": [
    "solution(3, [4, 5, 6, 7, 8, 9, 10, 11, 12])"
   ]
  },
  {
   "cell_type": "code",
   "execution_count": 11,
   "id": "12c92dee-8e70-4aa9-8d33-ef10188ca0b4",
   "metadata": {},
   "outputs": [
    {
     "data": {
      "text/plain": [
       "[10, 5]"
      ]
     },
     "execution_count": 11,
     "metadata": {},
     "output_type": "execute_result"
    }
   ],
   "source": [
    "solution(5, [1, 9, 3, 10, 13, 5])"
   ]
  },
  {
   "cell_type": "code",
   "execution_count": 12,
   "id": "ddf32b4a-0832-479b-89f8-836110b58af0",
   "metadata": {},
   "outputs": [
    {
     "data": {
      "text/plain": [
       "[120, 600, 12, 12]"
      ]
     },
     "execution_count": 12,
     "metadata": {},
     "output_type": "execute_result"
    }
   ],
   "source": [
    "solution(12, [2, 100, 120, 600, 12, 12])"
   ]
  },
  {
   "cell_type": "code",
   "execution_count": null,
   "id": "c47d3826-5e8b-41d7-a5ae-51f734e09cc7",
   "metadata": {},
   "outputs": [],
   "source": []
  }
 ],
 "metadata": {
  "kernelspec": {
   "display_name": "Python 3 (ipykernel)",
   "language": "python",
   "name": "python3"
  },
  "language_info": {
   "codemirror_mode": {
    "name": "ipython",
    "version": 3
   },
   "file_extension": ".py",
   "mimetype": "text/x-python",
   "name": "python",
   "nbconvert_exporter": "python",
   "pygments_lexer": "ipython3",
   "version": "3.10.6"
  }
 },
 "nbformat": 4,
 "nbformat_minor": 5
}

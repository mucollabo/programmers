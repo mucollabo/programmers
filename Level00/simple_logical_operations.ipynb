{
 "cells": [
  {
   "cell_type": "markdown",
   "metadata": {},
   "source": [
    "### 문제 설명\n",
    "boolean 변수 x1, x2, x3, x4가 매개변수로 주어질 때, 다음의 식의 true/false를 return 하는 solution 함수를 작성해 주세요.\n",
    "\n",
    "* (x1 ∨ x2) ∧ (x3 ∨ x4)\n",
    "### 입출력 예\n",
    "|x1|x2|x3|x4|result|\n",
    "|--|--|--|--|------|\n",
    "|false|true|true|true|true|\n",
    "|true|false|false|false|false|\n",
    "\n",
    "### 입출력 예 설명\n",
    "#### 입출력 예 #1\n",
    "\n",
    "* 예제 1번의 x1, x2, x3, x4로 식을 계산하면 다음과 같습니다.\n",
    "(x1 ∨ x2) ∧ (x3 ∨ x4) ≡ (F ∨ T) ∧ (T ∨ T) ≡ T ∧ T ≡ T\n",
    "따라서 true를 return 합니다.\n",
    "\n",
    "#### 입출력 예 #2\n",
    "\n",
    "* 예제 2번의 x1, x2, x3, x4로 식을 계산하면 다음과 같습니다.\n",
    "(x1 ∨ x2) ∧ (x3 ∨ x4) ≡ (T ∨ F) ∧ (F ∨ F) ≡ T ∧ F ≡ F\n",
    "따라서 false를 return 합니다.\n",
    "\n",
    "* ∨과 ∧의 진리표는 다음과 같습니다.\n",
    "\n",
    "|x|y|x ∨ y|x ∧ y|\n",
    "|---|---|---|---|\n",
    "|T|T|T|T|\n",
    "|T|F|T|F|\n",
    "|F|T|T|F|\n",
    "|F|F|F|F|"
   ]
  },
  {
   "cell_type": "code",
   "execution_count": 1,
   "metadata": {},
   "outputs": [],
   "source": [
    "def solution(x1, x2, x3, x4):\n",
    "    return (x1 or x2) and (x3 or x4)"
   ]
  },
  {
   "cell_type": "code",
   "execution_count": 2,
   "metadata": {},
   "outputs": [
    {
     "data": {
      "text/plain": [
       "True"
      ]
     },
     "execution_count": 2,
     "metadata": {},
     "output_type": "execute_result"
    }
   ],
   "source": [
    "solution(False, True, True, True)"
   ]
  },
  {
   "cell_type": "code",
   "execution_count": 3,
   "metadata": {},
   "outputs": [
    {
     "data": {
      "text/plain": [
       "False"
      ]
     },
     "execution_count": 3,
     "metadata": {},
     "output_type": "execute_result"
    }
   ],
   "source": [
    "solution(True, False, False, False)"
   ]
  },
  {
   "cell_type": "code",
   "execution_count": null,
   "metadata": {},
   "outputs": [],
   "source": []
  }
 ],
 "metadata": {
  "kernelspec": {
   "display_name": "Python 3",
   "language": "python",
   "name": "python3"
  },
  "language_info": {
   "codemirror_mode": {
    "name": "ipython",
    "version": 3
   },
   "file_extension": ".py",
   "mimetype": "text/x-python",
   "name": "python",
   "nbconvert_exporter": "python",
   "pygments_lexer": "ipython3",
   "version": "3.12.1"
  }
 },
 "nbformat": 4,
 "nbformat_minor": 2
}

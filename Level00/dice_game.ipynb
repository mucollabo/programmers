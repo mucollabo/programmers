{
 "cells": [
  {
   "cell_type": "markdown",
   "id": "1cb0531d-563e-4c02-8702-60b5a633c592",
   "metadata": {},
   "source": [
    "### 문제 설명\n",
    "\n",
    "1부터 6까지 숫자가 적힌 주사위가 두 개 있습니다. 두 주사위를 굴렸을 때 나온 \b숫자를 각각 a, b라고 했을 때 얻는 점수는 다음과 같습니다.\n",
    "* a와 b가 모두 홀수라면 $a^2 + b^2$ 점을 얻습니다.\n",
    "* a와 b 중 하나만 홀수라면 2 × (a + b) 점을 얻습니다.\n",
    "* a와 b 모두 홀수가 아니라면 |a - b| 점을 얻습니다.\n",
    "두 정수 a와 b가 매개변수로 주어질 때, 얻는 점수를 return 하는 solution 함수를 작성해 주세요.\n",
    "### 제한사항\n",
    "* a와 b는 1 이상 6 이하의 정수입니다.\n",
    "### 입출력 예\n",
    "|a|b|result|\n",
    "|-|-|------|\n",
    "|3|5|34|\n",
    "|6|1|14|\n",
    "|2|4|2|\n",
    "### 입출력 예 설명\n",
    "#### 입출력 예 #1\n",
    "* 예제 1번에서 두 주사위 숫자가 모두 홀수이므로 32 + 52 = 9 + 25 = 34점을 얻습니다. 따라서 34를 return 합니다.\n",
    "#### 입출력 예 #2\n",
    "* 예제 2번에서 두 주사위 숫자 중 하나만 홀수이므로 2 × (6 + 1) = 2 × 7 = 14점을 얻습니다. 따라서 14를 return 합니다.\n",
    "#### 입출력 예 #3\n",
    "* 예제 3번에서 두 주사위 숫자가 모두 홀수가 아니므로 |2 - 4| = |-2| = 2점을 얻습니다. 따라서 2를 return 합니다."
   ]
  },
  {
   "cell_type": "code",
   "execution_count": 1,
   "id": "03e3f526-1e29-4b7e-92b8-66fa7c3f1ac0",
   "metadata": {},
   "outputs": [],
   "source": [
    "def solution(a, b):\n",
    "    if (a+b)%2 == 0:\n",
    "        if a%2 == 0:\n",
    "            return abs(a - b)\n",
    "        return a**2 + b**2\n",
    "    else:\n",
    "        return 2 * (a + b)"
   ]
  },
  {
   "cell_type": "code",
   "execution_count": 2,
   "id": "0ce88e76-becf-440b-83cf-d572a39d65ec",
   "metadata": {},
   "outputs": [
    {
     "data": {
      "text/plain": [
       "34"
      ]
     },
     "execution_count": 2,
     "metadata": {},
     "output_type": "execute_result"
    }
   ],
   "source": [
    "solution(3, 5)"
   ]
  },
  {
   "cell_type": "code",
   "execution_count": 3,
   "id": "a4d669ab-d196-403c-856e-bd3774fc5529",
   "metadata": {},
   "outputs": [
    {
     "data": {
      "text/plain": [
       "14"
      ]
     },
     "execution_count": 3,
     "metadata": {},
     "output_type": "execute_result"
    }
   ],
   "source": [
    "solution(6, 1)"
   ]
  },
  {
   "cell_type": "code",
   "execution_count": 4,
   "id": "4892ba76-6612-4c5d-a03c-c80631adef5e",
   "metadata": {},
   "outputs": [
    {
     "data": {
      "text/plain": [
       "2"
      ]
     },
     "execution_count": 4,
     "metadata": {},
     "output_type": "execute_result"
    }
   ],
   "source": [
    "solution(2, 4)"
   ]
  },
  {
   "cell_type": "code",
   "execution_count": null,
   "id": "e0009d0f-5179-427c-b07a-c3e1c462fe98",
   "metadata": {},
   "outputs": [],
   "source": []
  }
 ],
 "metadata": {
  "kernelspec": {
   "display_name": "Python 3 (ipykernel)",
   "language": "python",
   "name": "python3"
  },
  "language_info": {
   "codemirror_mode": {
    "name": "ipython",
    "version": 3
   },
   "file_extension": ".py",
   "mimetype": "text/x-python",
   "name": "python",
   "nbconvert_exporter": "python",
   "pygments_lexer": "ipython3",
   "version": "3.11.6"
  }
 },
 "nbformat": 4,
 "nbformat_minor": 5
}

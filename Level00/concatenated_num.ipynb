{
 "cells": [
  {
   "cell_type": "markdown",
   "id": "e41edf2d-7591-49df-ba20-a49783655d26",
   "metadata": {},
   "source": [
    "### 문제 설명\n",
    "정수가 담긴 리스트 num_list가 주어집니다. num_list의 홀수만 순서대로 이어 붙인 수와 짝수만 순서대로 이어 붙인 수의 합을 return하도록 solution 함수를 완성해주세요.\n",
    "\n",
    "### 제한사항\n",
    "* 2 ≤ num_list의 길이 ≤ 10\n",
    "* 1 ≤ num_list의 원소 ≤ 9\n",
    "* num_list에는 적어도 한 개씩의 짝수와 홀수가 있습니다.\n",
    "### 입출력 예\n",
    "|num_list|result|\n",
    "|--------|------|\n",
    "|[3, 4, 5, 2, 1]|393|\n",
    "|[5, 7, 8, 3]|581|\n",
    "### 입출력 예 설명\n",
    "#### 입출력 예 #1\n",
    "\n",
    "* 홀수만 이어 붙인 수는 351이고 짝수만 이어 붙인 수는 42입니다. 두 수의 합은 393입니다.\n",
    "#### 입출력 예 #2\n",
    "\n",
    "* 홀수만 이어 붙인 수는 573이고 짝수만 이어 붙인 수는 8입니다. 두 수의 합은 581입니다."
   ]
  },
  {
   "cell_type": "code",
   "execution_count": 11,
   "id": "81afc073-dce5-4244-8540-aec0e489df67",
   "metadata": {},
   "outputs": [],
   "source": [
    "def solution(num_list):\n",
    "    odd, even = '', ''\n",
    "    for n in num_list:\n",
    "        if n%2 == 0:\n",
    "            even += str(n)\n",
    "        else:\n",
    "            odd += str(n)\n",
    "    return int(odd) + int(even)"
   ]
  },
  {
   "cell_type": "code",
   "execution_count": 12,
   "id": "9a921cdc-ca5a-477d-8e46-9ada9257764a",
   "metadata": {},
   "outputs": [
    {
     "data": {
      "text/plain": [
       "393"
      ]
     },
     "execution_count": 12,
     "metadata": {},
     "output_type": "execute_result"
    }
   ],
   "source": [
    "solution([3, 4, 5, 2, 1])"
   ]
  },
  {
   "cell_type": "code",
   "execution_count": 13,
   "id": "6aa79482-1320-422e-8791-13e035c9c0f1",
   "metadata": {},
   "outputs": [
    {
     "data": {
      "text/plain": [
       "581"
      ]
     },
     "execution_count": 13,
     "metadata": {},
     "output_type": "execute_result"
    }
   ],
   "source": [
    "solution([5, 7, 8, 3])"
   ]
  },
  {
   "cell_type": "code",
   "execution_count": null,
   "id": "8b0bd003-323c-4000-9d74-45b6e4a2c6f1",
   "metadata": {},
   "outputs": [],
   "source": []
  }
 ],
 "metadata": {
  "kernelspec": {
   "display_name": "Python 3 (ipykernel)",
   "language": "python",
   "name": "python3"
  },
  "language_info": {
   "codemirror_mode": {
    "name": "ipython",
    "version": 3
   },
   "file_extension": ".py",
   "mimetype": "text/x-python",
   "name": "python",
   "nbconvert_exporter": "python",
   "pygments_lexer": "ipython3",
   "version": "3.11.6"
  }
 },
 "nbformat": 4,
 "nbformat_minor": 5
}

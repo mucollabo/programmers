{
 "cells": [
  {
   "cell_type": "markdown",
   "id": "e318f7e0-2af7-451e-b7ec-d9b798784482",
   "metadata": {},
   "source": [
    "### 문제 설명\n",
    "\n",
    "정수 n과 k가 주어졌을 때, 1 이상 n이하의 정수 중에서 k의 배수를 오름차순으로 저장한 배열을 return 하는 solution 함수를 완성해 주세요.\n",
    "### 제한사항\n",
    "* 1 ≤ n ≤ 1,000,000\n",
    "* 1 ≤ k ≤ min(1,000, n)\n",
    "### 입출력 예\n",
    "|n|k|result|\n",
    "|-|-|------|\n",
    "|10|3|[3, 6, 9]|\n",
    "|15|5|[5, 10, 15]|\n",
    "### 입출력 예 설명\n",
    "#### 입출력 예 #1\n",
    "* 1 이상 10 이하의 3의 배수는 3, 6, 9 이므로 [3, 6, 9]를 return 합니다.\n",
    "#### 입출력 예 #2\n",
    "* 1 이상 15 이하의 5의 배수는 5, 10, 15 이므로 [5, 10, 15]를 return 합니다."
   ]
  },
  {
   "cell_type": "code",
   "execution_count": 14,
   "id": "6d94777d-0f30-46c7-81b0-6b56e064605e",
   "metadata": {},
   "outputs": [],
   "source": [
    "def solution(n, k):\n",
    "    return list(range(k, n+1, k))"
   ]
  },
  {
   "cell_type": "code",
   "execution_count": 15,
   "id": "8103c7a9-66a9-4d07-a5df-b79c1e1d92d7",
   "metadata": {},
   "outputs": [
    {
     "data": {
      "text/plain": [
       "[3, 6, 9]"
      ]
     },
     "execution_count": 15,
     "metadata": {},
     "output_type": "execute_result"
    }
   ],
   "source": [
    "solution(10, 3)"
   ]
  },
  {
   "cell_type": "code",
   "execution_count": 16,
   "id": "3f1c0a61-416e-4e2b-af14-c7b3abc2bdeb",
   "metadata": {},
   "outputs": [
    {
     "data": {
      "text/plain": [
       "[5, 10, 15]"
      ]
     },
     "execution_count": 16,
     "metadata": {},
     "output_type": "execute_result"
    }
   ],
   "source": [
    "solution(15, 5)"
   ]
  },
  {
   "cell_type": "code",
   "execution_count": null,
   "id": "af8c6870-b90b-41f7-96df-5207177784ba",
   "metadata": {},
   "outputs": [],
   "source": []
  }
 ],
 "metadata": {
  "kernelspec": {
   "display_name": "Python 3 (ipykernel)",
   "language": "python",
   "name": "python3"
  },
  "language_info": {
   "codemirror_mode": {
    "name": "ipython",
    "version": 3
   },
   "file_extension": ".py",
   "mimetype": "text/x-python",
   "name": "python",
   "nbconvert_exporter": "python",
   "pygments_lexer": "ipython3",
   "version": "3.11.6"
  }
 },
 "nbformat": 4,
 "nbformat_minor": 5
}

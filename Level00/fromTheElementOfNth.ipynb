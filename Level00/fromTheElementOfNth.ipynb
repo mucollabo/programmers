{
 "cells": [
  {
   "cell_type": "markdown",
   "id": "c9f69b0a-bf8a-445d-bfd0-3625cfbd44ea",
   "metadata": {},
   "source": [
    "## n번째 원소부터\n",
    "### 문제 설명\n",
    "#### 정수 리스트 num_list와 정수 n이 주어질 때, n 번째 원소부터 마지막 원소까지의 모든 원소를 담은 리스트를 return하도록 solution 함수를 완성해주세요.\n",
    "\n",
    "### 제한사항\n",
    "* 2 ≤ num_list의 길이 ≤ 30\n",
    "* 1 ≤ num_list의 원소 ≤ 9\n",
    "* 1 ≤ n ≤ num_list의 길이\n",
    "### 입출력 예\n",
    "|num_list|n|result|\n",
    "|---------|--|------|\n",
    "|[2, 1, 6]|3|[6]|\n",
    "|[5, 2, 1, 7, 5]|2|[2, 1, 7, 5]|\n",
    "### 입출력 예 설명\n",
    "#### 입출력 예 #1\n",
    "\n",
    "* [2, 1, 6]의 세 번째 원소부터 마지막 원소까지의 모든 원소는 [6]입니다.\n",
    "#### 입출력 예 #2\n",
    "\n",
    "* [5, 2, 1, 7, 5]의 두 번째 원소부터 마지막 원소까지의 모든 원소는 [2, 1, 7, 5]입니다."
   ]
  },
  {
   "cell_type": "code",
   "execution_count": 1,
   "id": "96aa1e12-92d5-4809-872e-937d08d78455",
   "metadata": {},
   "outputs": [],
   "source": [
    "def solution(num_list, n):\n",
    "    return num_list[n-1:]"
   ]
  },
  {
   "cell_type": "code",
   "execution_count": 3,
   "id": "12d9077b-42bd-4c49-add7-cf7ea4cf4953",
   "metadata": {},
   "outputs": [
    {
     "data": {
      "text/plain": [
       "[6]"
      ]
     },
     "execution_count": 3,
     "metadata": {},
     "output_type": "execute_result"
    }
   ],
   "source": [
    "solution([2, 1, 6], 3)"
   ]
  },
  {
   "cell_type": "code",
   "execution_count": 4,
   "id": "844a05c6-6a29-4d92-a485-9bfb9b317ce2",
   "metadata": {},
   "outputs": [
    {
     "data": {
      "text/plain": [
       "[2, 1, 7, 5]"
      ]
     },
     "execution_count": 4,
     "metadata": {},
     "output_type": "execute_result"
    }
   ],
   "source": [
    "solution([5, 2, 1, 7, 5], 2)"
   ]
  },
  {
   "cell_type": "code",
   "execution_count": null,
   "id": "c5151e49-4b0d-4c8d-b8cc-26d130e453fe",
   "metadata": {},
   "outputs": [],
   "source": []
  }
 ],
 "metadata": {
  "kernelspec": {
   "display_name": "Python 3 (ipykernel)",
   "language": "python",
   "name": "python3"
  },
  "language_info": {
   "codemirror_mode": {
    "name": "ipython",
    "version": 3
   },
   "file_extension": ".py",
   "mimetype": "text/x-python",
   "name": "python",
   "nbconvert_exporter": "python",
   "pygments_lexer": "ipython3",
   "version": "3.11.6"
  }
 },
 "nbformat": 4,
 "nbformat_minor": 5
}

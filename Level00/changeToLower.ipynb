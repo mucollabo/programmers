{
 "cells": [
  {
   "cell_type": "markdown",
   "id": "e2d3799f-1f39-41c6-a966-a5eb17eacc6b",
   "metadata": {},
   "source": [
    "## 소문자로 바꾸기\n",
    "### 문제 설명\n",
    "#### 알파벳으로 이루어진 문자열 myString이 주어집니다. 모든 알파벳을 소문자로 변환하여 return 하는 solution 함수를 완성해 주세요.\n",
    "\n",
    "### 제한사항\n",
    "* 1 ≤ myString의 길이 ≤ 100,000\n",
    "* myString은 알파벳으로 이루어진 문자열입니다.\n",
    "### 입출력 예\n",
    "|myString|result|\n",
    "|--------|------|\n",
    "|\"aBcDeFg\"|\"abcdefg\"|\n",
    "|\"aaa\"|\"aaa\"|"
   ]
  },
  {
   "cell_type": "code",
   "execution_count": 1,
   "id": "6a83c283-acb0-4e9f-80ad-64ff83baa432",
   "metadata": {},
   "outputs": [],
   "source": [
    "def solution(myString):\n",
    "    return myString.lower()"
   ]
  },
  {
   "cell_type": "code",
   "execution_count": 2,
   "id": "bb42cd29-6a20-44f5-9837-8e2b227b2545",
   "metadata": {},
   "outputs": [
    {
     "data": {
      "text/plain": [
       "'abcdefg'"
      ]
     },
     "execution_count": 2,
     "metadata": {},
     "output_type": "execute_result"
    }
   ],
   "source": [
    "solution('aBcDeFg')"
   ]
  },
  {
   "cell_type": "code",
   "execution_count": 3,
   "id": "f2e2f18a-aaa6-4b60-afcc-4bce99fdc699",
   "metadata": {},
   "outputs": [
    {
     "data": {
      "text/plain": [
       "'aaa'"
      ]
     },
     "execution_count": 3,
     "metadata": {},
     "output_type": "execute_result"
    }
   ],
   "source": [
    "solution('aaa')"
   ]
  },
  {
   "cell_type": "code",
   "execution_count": null,
   "id": "ccf238e1-fc83-42dc-bdd4-8484c21cd2a2",
   "metadata": {},
   "outputs": [],
   "source": []
  }
 ],
 "metadata": {
  "kernelspec": {
   "display_name": "Python 3 (ipykernel)",
   "language": "python",
   "name": "python3"
  },
  "language_info": {
   "codemirror_mode": {
    "name": "ipython",
    "version": 3
   },
   "file_extension": ".py",
   "mimetype": "text/x-python",
   "name": "python",
   "nbconvert_exporter": "python",
   "pygments_lexer": "ipython3",
   "version": "3.10.6"
  }
 },
 "nbformat": 4,
 "nbformat_minor": 5
}

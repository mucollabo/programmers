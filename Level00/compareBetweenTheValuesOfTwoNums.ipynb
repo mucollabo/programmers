{
 "cells": [
  {
   "cell_type": "markdown",
   "id": "5ac8e99d-3d39-4ed2-8e91-e05afceea01b",
   "metadata": {},
   "source": [
    "## 두 수의 연산값 비교하기\n",
    "### 문제 설명\n",
    "#### 연산 ⊕는 두 정수에 대한 연산으로 두 정수를 붙여서 쓴 값을 반환합니다. 예를 들면 다음과 같습니다.\n",
    "\n",
    "* 12 ⊕ 3 = 123\n",
    "* 3 ⊕ 12 = 312\n",
    "#### 양의 정수 a와 b가 주어졌을 때, a ⊕ b와 2 * a * b 중 더 큰 값을 return하는 solution 함수를 완성해 주세요.\n",
    "\n",
    "#### 단, a ⊕ b와 2 * a * b가 같으면 a ⊕ b를 return 합니다.\n",
    "\n",
    "### 제한사항\n",
    "* 1 ≤ a, b < 10,000\n",
    "### 입출력 예\n",
    "|a|b|result|\n",
    "|--|--|-----|\n",
    "|2|91|364|\n",
    "|91|2|912|\n",
    "### 입출력 예 설명\n",
    "#### 입출력 예 #1\n",
    "\n",
    "* a ⊕ b = 291 이고, 2 * a * b = 364 입니다. 둘 중 더 큰 값은 364 이므로 364를 return 합니다.\n",
    "#### 입출력 예 #2\n",
    "\n",
    "* a ⊕ b = 912 이고, 2 * a * b = 364 입니다. 둘 중 더 큰 값은 912 이므로 912를 return 합니다.\n",
    "\n",
    "※ 2023년 04월 27일 입출력 예 설명이 수정되었습니다."
   ]
  },
  {
   "cell_type": "code",
   "execution_count": 9,
   "id": "6f663e0e-5480-4d88-b317-8b5f00e7b559",
   "metadata": {},
   "outputs": [],
   "source": [
    "def solution(a, b):\n",
    "    return int(str(a) + str(b)) if int(str(a) + str(b)) >= (2 * a * b) else 2 * a * b"
   ]
  },
  {
   "cell_type": "code",
   "execution_count": 10,
   "id": "0382a587-13b9-4e1f-ad72-286417d83ef5",
   "metadata": {},
   "outputs": [
    {
     "data": {
      "text/plain": [
       "364"
      ]
     },
     "execution_count": 10,
     "metadata": {},
     "output_type": "execute_result"
    }
   ],
   "source": [
    "solution(2, 91)"
   ]
  },
  {
   "cell_type": "code",
   "execution_count": 11,
   "id": "82ed5562-b893-41e2-9f38-328d947152e4",
   "metadata": {},
   "outputs": [
    {
     "data": {
      "text/plain": [
       "912"
      ]
     },
     "execution_count": 11,
     "metadata": {},
     "output_type": "execute_result"
    }
   ],
   "source": [
    "solution(91, 2)"
   ]
  },
  {
   "cell_type": "code",
   "execution_count": null,
   "id": "9d9910ee-b7df-401f-93a6-f13021665915",
   "metadata": {},
   "outputs": [],
   "source": []
  }
 ],
 "metadata": {
  "kernelspec": {
   "display_name": "Python 3 (ipykernel)",
   "language": "python",
   "name": "python3"
  },
  "language_info": {
   "codemirror_mode": {
    "name": "ipython",
    "version": 3
   },
   "file_extension": ".py",
   "mimetype": "text/x-python",
   "name": "python",
   "nbconvert_exporter": "python",
   "pygments_lexer": "ipython3",
   "version": "3.11.6"
  }
 },
 "nbformat": 4,
 "nbformat_minor": 5
}

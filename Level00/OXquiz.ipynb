{
 "cells": [
  {
   "cell_type": "markdown",
   "id": "5bc8bb95-fee9-4c66-b858-0d36ef74613f",
   "metadata": {},
   "source": [
    "# OX퀴즈\n",
    "## 문제 설명\n",
    "### 덧셈, 뺄셈 수식들이 'X [연산자] Y = Z' 형태로 들어있는 문자열 배열 quiz가 매개변수로 주어집니다. 수식이 옳다면 \"O\"를 틀리다면 \"X\"를 순서대로 담은 배열을 return하도록 solution 함수를 완성해주세요.\n",
    "\n",
    "## 제한사항\n",
    "* 연산 기호와 숫자 사이는 항상 하나의 공백이 존재합니다. 단 음수를 표시하는 마이너스 기호와 숫자 사이에는 공백이 존재하지 않습니다.\n",
    "* 1 ≤ quiz의 길이 ≤ 10\n",
    "* X, Y, Z는 각각 0부터 9까지 숫자로 이루어진 정수를 의미하며, 각 숫자의 맨 앞에 마이너스 기호가 하나 있을 수 있고 이는 음수를 의미합니다.\n",
    "* X, Y, Z는 0을 제외하고는 0으로 시작하지 않습니다.\n",
    "* -10,000 ≤ X, Y ≤ 10,000\n",
    "* -20,000 ≤ Z ≤ 20,000\n",
    "* [연산자]는 + 와 - 중 하나입니다.\n",
    "## 입출력 예\n",
    "|quiz|result|\n",
    "|----|------|\n",
    "|[\"3 - 4 = -3\", \"5 + 6 = 11\"]|[\"X\", \"O\"]|\n",
    "|[\"19 - 6 = 13\", \"5 + 66 = 71\", \"5 - 15 = 63\", \"3 - 1 = 2\"]|[\"O\", \"O\", \"X\", \"O\"]|\n",
    "## 입출력 예 설명\n",
    "## 입출력 예 #1\n",
    "\n",
    "* 3 - 4 = -3 은 틀린 수식이므로 \"X\", 5 + 6 = 11 은 옳은 수식이므로 \"O\" 입니다. 따라서 [\"X\", \"O\"]를 return합니다.\n",
    "## 입출력 예 #2\n",
    "\n",
    "* 19 - 6 = 13 은 옳은 수식이므로 \"O\", 5 + 66 = 71 은 옳은 수식이므로 \"O\", 5 - 15 = 63 은 틀린 수식이므로 \"X\", 3 - 1 = 2는 옳은 수식이므로 \"O\" 따라서 [\"O\", \"O\", \"X\", \"O\"]를 return합니다."
   ]
  },
  {
   "cell_type": "code",
   "execution_count": 12,
   "id": "29d1ef6c-9381-411d-8508-c0016c69495d",
   "metadata": {},
   "outputs": [],
   "source": [
    "def solution(quiz):\n",
    "    result = []\n",
    "    for eq in quiz:\n",
    "        eql = eq.split(' ')\n",
    "        if eql[1] == '+':\n",
    "            result.append(\"O\") if (int(eql[0]) + int(eql[2])) == int(eql[-1]) else result.append(\"X\")\n",
    "        else:\n",
    "            result.append(\"O\") if (int(eql[0]) - int(eql[2])) == int(eql[-1]) else result.append(\"X\")\n",
    "    return result"
   ]
  },
  {
   "cell_type": "code",
   "execution_count": 13,
   "id": "f5245b41-3e84-47d0-a92f-bf27253657f8",
   "metadata": {},
   "outputs": [
    {
     "data": {
      "text/plain": [
       "['X', 'O']"
      ]
     },
     "execution_count": 13,
     "metadata": {},
     "output_type": "execute_result"
    }
   ],
   "source": [
    "solution([\"3 - 4 = -3\", \"5 + 6 = 11\"])"
   ]
  },
  {
   "cell_type": "code",
   "execution_count": 14,
   "id": "f9b8db9a-925a-4dc4-a4c9-250b3637b65c",
   "metadata": {},
   "outputs": [
    {
     "data": {
      "text/plain": [
       "['O', 'O', 'X', 'O']"
      ]
     },
     "execution_count": 14,
     "metadata": {},
     "output_type": "execute_result"
    }
   ],
   "source": [
    "solution([\"19 - 6 = 13\", \"5 + 66 = 71\", \"5 - 15 = 63\", \"3 - 1 = 2\"])"
   ]
  },
  {
   "cell_type": "code",
   "execution_count": 17,
   "id": "d95b57f7-7313-4b06-a81c-4c64a8944c2e",
   "metadata": {},
   "outputs": [],
   "source": [
    "def solution2(quiz):\n",
    "    result = []\n",
    "    for eq in quiz:\n",
    "        eq = eq.replace('=', '==')\n",
    "        result.append(\"O\") if eval(eq) else result.append(\"X\")\n",
    "    return result"
   ]
  },
  {
   "cell_type": "code",
   "execution_count": 18,
   "id": "1f6d6072-754b-414d-be0c-7ae3a02e029e",
   "metadata": {},
   "outputs": [
    {
     "data": {
      "text/plain": [
       "['X', 'O']"
      ]
     },
     "execution_count": 18,
     "metadata": {},
     "output_type": "execute_result"
    }
   ],
   "source": [
    "solution2([\"3 - 4 = -3\", \"5 + 6 = 11\"])"
   ]
  },
  {
   "cell_type": "code",
   "execution_count": 19,
   "id": "937a25c2-1820-4c92-908a-72964f82f324",
   "metadata": {},
   "outputs": [
    {
     "data": {
      "text/plain": [
       "['O', 'O', 'X', 'O']"
      ]
     },
     "execution_count": 19,
     "metadata": {},
     "output_type": "execute_result"
    }
   ],
   "source": [
    "solution2([\"19 - 6 = 13\", \"5 + 66 = 71\", \"5 - 15 = 63\", \"3 - 1 = 2\"])"
   ]
  },
  {
   "cell_type": "code",
   "execution_count": null,
   "id": "740f1e49-1025-45e5-bddb-1d0a3f7060eb",
   "metadata": {},
   "outputs": [],
   "source": []
  }
 ],
 "metadata": {
  "kernelspec": {
   "display_name": "Python 3 (ipykernel)",
   "language": "python",
   "name": "python3"
  },
  "language_info": {
   "codemirror_mode": {
    "name": "ipython",
    "version": 3
   },
   "file_extension": ".py",
   "mimetype": "text/x-python",
   "name": "python",
   "nbconvert_exporter": "python",
   "pygments_lexer": "ipython3",
   "version": "3.10.6"
  }
 },
 "nbformat": 4,
 "nbformat_minor": 5
}

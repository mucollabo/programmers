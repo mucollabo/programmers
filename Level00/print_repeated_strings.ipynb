{
 "cells": [
  {
   "cell_type": "markdown",
   "metadata": {},
   "source": [
    "### 문제 설명\n",
    "문자열 str과 정수 n이 주어집니다.\n",
    "str이 n번 반복된 문자열을 만들어 출력하는 코드를 작성해 보세요.\n",
    "\n",
    "### 제한사항\n",
    "* 1 ≤ str의 길이 ≤ 10\n",
    "* 1 ≤ n ≤ 5\n",
    "### 입출력 예\n",
    "#### 입력 #1\n",
    "\n",
    "* string 5\n",
    "#### 출력 #1\n",
    "\n",
    "* stringstringstringstringstring"
   ]
  },
  {
   "cell_type": "code",
   "execution_count": 1,
   "metadata": {},
   "outputs": [
    {
     "name": "stdout",
     "output_type": "stream",
     "text": [
      "stringstringstringstringstring\n"
     ]
    }
   ],
   "source": [
    "str, n = input().strip().split(' ')\n",
    "n = int(n)\n",
    "print(str * n)"
   ]
  },
  {
   "cell_type": "code",
   "execution_count": null,
   "metadata": {},
   "outputs": [],
   "source": []
  }
 ],
 "metadata": {
  "kernelspec": {
   "display_name": "Python 3",
   "language": "python",
   "name": "python3"
  },
  "language_info": {
   "codemirror_mode": {
    "name": "ipython",
    "version": 3
   },
   "file_extension": ".py",
   "mimetype": "text/x-python",
   "name": "python",
   "nbconvert_exporter": "python",
   "pygments_lexer": "ipython3",
   "version": "3.12.1"
  }
 },
 "nbformat": 4,
 "nbformat_minor": 2
}

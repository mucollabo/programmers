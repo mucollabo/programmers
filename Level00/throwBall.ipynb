{
 "cells": [
  {
   "cell_type": "markdown",
   "id": "7c6ac25e-bc92-48cf-84b9-bd0b74496155",
   "metadata": {},
   "source": [
    "# 공 던지기\n",
    "## 문제 설명\n",
    "### 머쓱이는 친구들과 동그랗게 서서 공 던지기 게임을 하고 있습니다. 공은 1번부터 던지며 오른쪽으로 한 명을 건너뛰고 그다음 사람에게만 던질 수 있습니다. 친구들의 번호가 들어있는 정수 배열 numbers와 정수 K가 주어질 때, k번째로 공을 던지는 사람의 번호는 무엇인지 return 하도록 solution 함수를 완성해보세요.\n",
    "\n",
    "## 제한사항\n",
    "* 2 < numbers의 길이 < 100\n",
    "* 0 < k < 1,000\n",
    "* numbers의 첫 번째와 마지막 번호는 실제로 바로 옆에 있습니다.\n",
    "* numbers는 1부터 시작하며 번호는 순서대로 올라갑니다.\n",
    "## 입출력 예\n",
    "|numbers|k|result|\n",
    "|-------|-|------|\n",
    "|[1, 2, 3, 4]|2|3|\n",
    "|[1, 2, 3, 4, 5, 6]|5|3|\n",
    "|[1, 2, 3]|3|2|\n",
    "## 입출력 예 설명\n",
    "## 입출력 예 #1\n",
    "\n",
    "* 1번은 첫 번째로 3번에게 공을 던집니다.\n",
    "* 3번은 두 번째로 1번에게 공을 던집니다.\n",
    "## 입출력 예 #2\n",
    "\n",
    "* 1번은 첫 번째로 3번에게 공을 던집니다.\n",
    "* 3번은 두 번째로 5번에게 공을 던집니다.\n",
    "* 5번은 세 번째로 1번에게 공을 던집니다.\n",
    "* 1번은 네 번째로 3번에게 공을 던집니다.\n",
    "* 3번은 다섯 번째로 5번에게 공을 던집니다.\n",
    "## 입출력 예 #3\n",
    "\n",
    "* 1번은 첫 번째로 3번에게 공을 던집니다.\n",
    "* 3번은 두 번째로 2번에게 공을 던집니다.\n",
    "* 2번은 세 번째로 1번에게 공을 던집니다."
   ]
  },
  {
   "cell_type": "code",
   "execution_count": 37,
   "id": "7b347380-d00e-4d93-abe8-8c9eda273f58",
   "metadata": {},
   "outputs": [],
   "source": [
    "from collections import deque\n",
    "\n",
    "def solution(numbers, k):\n",
    "    ns = deque(numbers)\n",
    "    ns.rotate(-(k-1)*2)\n",
    "    return ns[0]"
   ]
  },
  {
   "cell_type": "code",
   "execution_count": 38,
   "id": "919ed43b-bbff-4ce9-8c2b-ac6755eedeea",
   "metadata": {},
   "outputs": [
    {
     "data": {
      "text/plain": [
       "3"
      ]
     },
     "execution_count": 38,
     "metadata": {},
     "output_type": "execute_result"
    }
   ],
   "source": [
    "solution([1,2,3,4], 2)"
   ]
  },
  {
   "cell_type": "code",
   "execution_count": 39,
   "id": "28e37bea-ecf2-4547-b292-37512bdc6808",
   "metadata": {},
   "outputs": [
    {
     "data": {
      "text/plain": [
       "3"
      ]
     },
     "execution_count": 39,
     "metadata": {},
     "output_type": "execute_result"
    }
   ],
   "source": [
    "solution([1, 2, 3, 4, 5, 6], 5)"
   ]
  },
  {
   "cell_type": "code",
   "execution_count": 40,
   "id": "752ddd05-2414-4094-908c-029f5c06f93f",
   "metadata": {},
   "outputs": [
    {
     "data": {
      "text/plain": [
       "2"
      ]
     },
     "execution_count": 40,
     "metadata": {},
     "output_type": "execute_result"
    }
   ],
   "source": [
    "solution([1, 2, 3], 3)"
   ]
  },
  {
   "cell_type": "code",
   "execution_count": null,
   "id": "5ed5d360-4bce-4875-9d4f-f7c4e70e9252",
   "metadata": {},
   "outputs": [],
   "source": []
  }
 ],
 "metadata": {
  "kernelspec": {
   "display_name": "Python 3 (ipykernel)",
   "language": "python",
   "name": "python3"
  },
  "language_info": {
   "codemirror_mode": {
    "name": "ipython",
    "version": 3
   },
   "file_extension": ".py",
   "mimetype": "text/x-python",
   "name": "python",
   "nbconvert_exporter": "python",
   "pygments_lexer": "ipython3",
   "version": "3.10.6"
  }
 },
 "nbformat": 4,
 "nbformat_minor": 5
}

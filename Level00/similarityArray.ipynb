{
 "cells": [
  {
   "cell_type": "markdown",
   "id": "83a046e6-6c85-4363-ac7d-dc9254b54b32",
   "metadata": {},
   "source": [
    "# 배열의 유사도\n",
    "## 문제 설명\n",
    "### 두 배열이 얼마나 유사한지 확인해보려고 합니다. 문자열 배열 s1과 s2가 주어질 때 같은 원소의 개수를 return하도록 solution 함수를 완성해주세요.\n",
    "\n",
    "## 제한사항\n",
    "* 1 ≤ s1, s2의 길이 ≤ 100\n",
    "* 1 ≤ s1, s2의 원소의 길이 ≤ 10\n",
    "* s1과 s2의 원소는 알파벳 소문자로만 이루어져 있습니다\n",
    "* s1과 s2는 각각 중복된 원소를 갖지 않습니다.\n",
    "## 입출력 예\n",
    "|s1|s2|result|\n",
    "|--|--|------|\n",
    "|[\"a\", \"b\", \"c\"]|[\"com\", \"b\", \"d\", \"p\", \"c\"]|2|\n",
    "|[\"n\", \"omg\"]|[\"m\", \"dot\"]|0|\n",
    "## 입출력 예 설명\n",
    "## 입출력 예 #1\n",
    "\n",
    "* \"b\"와 \"c\"가 같으므로 2를 return합니다.\n",
    "## 입출력 예 #2\n",
    "\n",
    "* 같은 원소가 없으므로 0을 return합니다."
   ]
  },
  {
   "cell_type": "code",
   "execution_count": 1,
   "id": "b0e705ca-558c-4bb6-bfb2-4bf4e472d98c",
   "metadata": {},
   "outputs": [],
   "source": [
    "def solution(s1, s2):\n",
    "    cnt = 0\n",
    "    for e1 in s1:\n",
    "        if e1 in s2:\n",
    "            cnt += 1\n",
    "    return cnt"
   ]
  },
  {
   "cell_type": "code",
   "execution_count": 2,
   "id": "f03b55a6-b10f-404b-a27e-fcd5b5988777",
   "metadata": {},
   "outputs": [
    {
     "data": {
      "text/plain": [
       "2"
      ]
     },
     "execution_count": 2,
     "metadata": {},
     "output_type": "execute_result"
    }
   ],
   "source": [
    "solution([\"a\", \"b\", \"c\"], [\"com\", \"b\", \"d\", \"p\", \"c\"])"
   ]
  },
  {
   "cell_type": "code",
   "execution_count": 3,
   "id": "d2b020db-c073-406a-8fbb-995c1ea94b6d",
   "metadata": {},
   "outputs": [
    {
     "data": {
      "text/plain": [
       "0"
      ]
     },
     "execution_count": 3,
     "metadata": {},
     "output_type": "execute_result"
    }
   ],
   "source": [
    "solution([\"n\", \"omg\"], [\"m\", \"dot\"])"
   ]
  },
  {
   "cell_type": "code",
   "execution_count": 22,
   "id": "e9e5ac57-f042-460b-b31d-62f0fbcbaba4",
   "metadata": {},
   "outputs": [],
   "source": [
    "def solution2(s1, s2):\n",
    "    return list(map(lambda x: x in s2, s1)).count(True)"
   ]
  },
  {
   "cell_type": "code",
   "execution_count": 23,
   "id": "e785a087-70bc-4182-9684-0cbb2853bda9",
   "metadata": {},
   "outputs": [
    {
     "data": {
      "text/plain": [
       "2"
      ]
     },
     "execution_count": 23,
     "metadata": {},
     "output_type": "execute_result"
    }
   ],
   "source": [
    "solution2([\"a\", \"b\", \"c\"], [\"com\", \"d\", \"p\", \"c\", \"b\"])"
   ]
  },
  {
   "cell_type": "code",
   "execution_count": 24,
   "id": "366e52d3-76ce-43b6-96fb-282a1e9f82eb",
   "metadata": {},
   "outputs": [
    {
     "data": {
      "text/plain": [
       "0"
      ]
     },
     "execution_count": 24,
     "metadata": {},
     "output_type": "execute_result"
    }
   ],
   "source": [
    "solution2([\"n\", \"omg\"], [\"m\", \"dot\"])"
   ]
  },
  {
   "cell_type": "code",
   "execution_count": null,
   "id": "8aec72b9-4acd-4a36-b087-f9b596c21bf9",
   "metadata": {},
   "outputs": [],
   "source": []
  }
 ],
 "metadata": {
  "kernelspec": {
   "display_name": "Python 3 (ipykernel)",
   "language": "python",
   "name": "python3"
  },
  "language_info": {
   "codemirror_mode": {
    "name": "ipython",
    "version": 3
   },
   "file_extension": ".py",
   "mimetype": "text/x-python",
   "name": "python",
   "nbconvert_exporter": "python",
   "pygments_lexer": "ipython3",
   "version": "3.10.6"
  }
 },
 "nbformat": 4,
 "nbformat_minor": 5
}

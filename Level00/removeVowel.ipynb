{
 "cells": [
  {
   "cell_type": "markdown",
   "id": "1a93037f-469b-41b2-ae8d-ef4ae7def8b3",
   "metadata": {},
   "source": [
    "# 모음 제거\n",
    "## 문제 설명\n",
    "### 영어에선 a, e, i, o, u 다섯 가지 알파벳을 모음으로 분류합니다. 문자열 my_string이 매개변수로 주어질 때 모음을 제거한 문자열을 return하도록 solution 함수를 완성해주세요.\n",
    "\n",
    "## 제한사항\n",
    "* my_string은 소문자와 공백으로 이루어져 있습니다.\n",
    "* 1 ≤ my_string의 길이 ≤ 1,000\n",
    "## 입출력 예\n",
    "|my_string|result|\n",
    "|---------|------|\n",
    "|\"bus\"|\"bs\"|\n",
    "|\"nice to meet you\"|\"nc t mt y\"|\n",
    "## 입출력 예 설명\n",
    "## 입출력 예 #1\n",
    "\n",
    "* \"bus\"에서 모음 u를 제거한 \"bs\"를 return합니다.\n",
    "## 입출력 예 #1\n",
    "\n",
    "* \"nice to meet you\"에서 모음 i, o, e, u를 모두 제거한 \"nc t mt y\"를 return합니다."
   ]
  },
  {
   "cell_type": "code",
   "execution_count": 15,
   "id": "a62d894f-b855-429f-a2fe-08c8368c846e",
   "metadata": {},
   "outputs": [],
   "source": [
    "def solution(my_string):\n",
    "    table = my_string.maketrans({'a':'', 'e':'', 'i':'', 'o':'', 'u':''})\n",
    "    return my_string.translate(table)"
   ]
  },
  {
   "cell_type": "code",
   "execution_count": 16,
   "id": "d1c949a4-e3a6-4258-a18c-9323a04381f9",
   "metadata": {},
   "outputs": [
    {
     "data": {
      "text/plain": [
       "'bs'"
      ]
     },
     "execution_count": 16,
     "metadata": {},
     "output_type": "execute_result"
    }
   ],
   "source": [
    "solution('bus')"
   ]
  },
  {
   "cell_type": "code",
   "execution_count": 17,
   "id": "f71de0f9-a051-4d9b-b84d-465090e2274d",
   "metadata": {},
   "outputs": [
    {
     "data": {
      "text/plain": [
       "'nc t mt y'"
      ]
     },
     "execution_count": 17,
     "metadata": {},
     "output_type": "execute_result"
    }
   ],
   "source": [
    "solution(\"nice to meet you\")"
   ]
  },
  {
   "cell_type": "code",
   "execution_count": null,
   "id": "ae484f3b-4d12-4da6-9afa-541cdd708941",
   "metadata": {},
   "outputs": [],
   "source": []
  }
 ],
 "metadata": {
  "kernelspec": {
   "display_name": "Python 3 (ipykernel)",
   "language": "python",
   "name": "python3"
  },
  "language_info": {
   "codemirror_mode": {
    "name": "ipython",
    "version": 3
   },
   "file_extension": ".py",
   "mimetype": "text/x-python",
   "name": "python",
   "nbconvert_exporter": "python",
   "pygments_lexer": "ipython3",
   "version": "3.10.6"
  }
 },
 "nbformat": 4,
 "nbformat_minor": 5
}

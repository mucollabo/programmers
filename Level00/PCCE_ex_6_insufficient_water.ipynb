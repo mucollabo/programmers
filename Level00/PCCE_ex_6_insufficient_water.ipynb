{
 "cells": [
  {
   "cell_type": "markdown",
   "metadata": {},
   "source": [
    "### 문제 설명\n",
    "ㅇㅇ시에서는 저수지가 하나 있는데, 도시 내에서 사용하는 모든 물은 이 저수지에 저장된 물을 끌어와 사용합니다. 이상 기후로 인해 극심한 가뭄이 예고된 상황에서, 지난 달의 물 사용량과 이번달부터 일정 기간 동안의 월별 물 사용량의 변화를 예측한 값을 이용해 몇 달 뒤 물이 부족해지는지 예측하려고 합니다.\n",
    "이번달부터의 월별 물 사용량 변화를 예측한 값은 다음과 같이 리스트에 담겨 주어집니다.\n",
    "\n",
    "* [10, -10, 10, -10, 10, -10, 10, -10, 10, -10]\n",
    "* 리스트의 각 원소는 해당 월의 물 사용량이 전 달에 비해 몇 % 만큼 증가 또는 감소하는지를 나타냅니다.\n",
    "* 예를 들어, 이번달의 물 사용량 (리스트의 첫 번째 원소)은 지난 달 보다 10% 증가한 값이며, 다음 달(리스트의 두 번째 원소)의 물 사용량은 이번달 사용량에서 10%만큼 감소한 값입니다.\n",
    "  * 자세한 값은 입출력 예시를 참고해 주세요.\n",
    "\n",
    "현재 저수지에 저장된 물의 양을 나타내는 정수 storage와 지난 달 물 사용량을 나타내는 정수 usage, 월별 물 사용량이 전 달 대비 어떻게 변하는지 저장된 정수 리스트 change가 주어질 때 몇 달 뒤 물이 부족해지는지 return 하도록 solution 함수를 작성하려 합니다. 코드가 올바르게 작동하도록 한 줄을 수정해 solution 함수를 완성해 주세요. 가뭄이 끝날때 까지 저수지의 물이 남아 있다면 -1을 return합니다.\n",
    "\n",
    "### 제한사항\n",
    "* 1,000 ≤ storage ≤ 1,000,000\n",
    "* 500 ≤ usage ≤ 30,000\n",
    "* 1 ≤ change의 길이 ≤ 30\n",
    "  * -99 ≤ change[i] ≤ 500\n",
    "  * change[i] 가 양수일 경우 물 사용량은 전 달 보다 change[i]% 만큼 증가합니다.\n",
    "  * change[i] 가 음수일 경우 물 사용량은 전 달 보다 change[i]% 만큼 감소합니다.\n",
    "  * change[i] 가 0일 경우 물 사용량은 전 달과 동일합니다.\n",
    "  * 매달 물 사용량은 소수점 이하를 버린 정수로 계산합니다.\n",
    "\n",
    "### 입출력 예\n",
    "\n",
    "|storage|usage|change|result|\n",
    "|-------|-----|------|------|\n",
    "|5141|500|[10, -10, 10, -10, 10, -10, 10, -10, 10, -10]|-1|\n",
    "|1000|2000|[-10, 25, -33]|0|\n",
    "\n",
    "### 입출력 예 설명\n",
    "#### 입출력 예 #1\n",
    "\n",
    "* 매월 물 사용량은 다음과 같습니다.\n",
    "\n",
    "|n개월 뒤|0 (이번 달)|1 (다음 달)|2|3|4|5|6|7|8|9|\n",
    "|------|----------|---------|-|-|-|-|-|-|-|-|\n",
    "|월 별 물 사용량|550|495|544|490|539|485|533|479|526|474|\n",
    "|총 물 사용량|550|1045|1589|2079|2618|3103|3636|4115|4641|5115|\n",
    "\n",
    "* 예를 들어, 지난 달 물 사용량 usage = 500이므로, 이번달 물 사용량은 10% 증가한 550입니다. 다음 달 물 사용량은 이번달 사용량 550에서 10% 감소한 495 이며, 나머지 달도 동일하게 계산합니다. 9달 뒤까지 계산한 물 사용량은 총 5115 이며, 현재 저수지에 저장된 물의 양은 storage = 5141입니다. 따라서 물이 부족해지지 않으므로 -1을 return합니다.\n",
    "\n",
    "#### 입출력 예 #2\n",
    "\n",
    "* 총 사용가능한 물의 양이 1000인데 2000 * 0.9 = 1800이 필요하므로 이번 달부터 물이 부족합니다. 따라서 0을 return합니다.\n",
    "* cpp를 응시하는 경우 리스트는 배열과 동일한 의미이니 풀이에 참고해주세요.\n",
    "  * ex) 번호가 담긴 정수 리스트 numbers가 주어집니다. => 번호가 담긴 정수 배열 numbers가 주어집니다.\n",
    "* java를 응시하는 경우 리스트는 배열, 함수는 메소드와 동일한 의미이니 풀이에 참고해주세요.\n",
    "  * \\ex) solution 함수가 올바르게 작동하도록 한 줄을 수정해 주세요. => solution 메소드가 올바르게 작동하도록 한 줄을 수정해 주세요."
   ]
  },
  {
   "cell_type": "code",
   "execution_count": 22,
   "metadata": {},
   "outputs": [],
   "source": [
    "def solution(storage, usage, change):\n",
    "    total_usage = 0\n",
    "    for i in range(len(change)):\n",
    "        print('i:', i)\n",
    "        usage += int(usage) * change[i]/100\n",
    "        print('usage:', int(usage))\n",
    "        total_usage += int(usage)\n",
    "        print('total_usage:', total_usage)\n",
    "        if total_usage > storage:\n",
    "            return i\n",
    "    \n",
    "    return -1"
   ]
  },
  {
   "cell_type": "code",
   "execution_count": 23,
   "metadata": {},
   "outputs": [
    {
     "name": "stdout",
     "output_type": "stream",
     "text": [
      "i: 0\n",
      "usage: 550\n",
      "total_usage: 550\n",
      "i: 1\n",
      "usage: 495\n",
      "total_usage: 1045\n",
      "i: 2\n",
      "usage: 544\n",
      "total_usage: 1589\n",
      "i: 3\n",
      "usage: 490\n",
      "total_usage: 2079\n",
      "i: 4\n",
      "usage: 539\n",
      "total_usage: 2618\n",
      "i: 5\n",
      "usage: 485\n",
      "total_usage: 3103\n",
      "i: 6\n",
      "usage: 533\n",
      "total_usage: 3636\n",
      "i: 7\n",
      "usage: 480\n",
      "total_usage: 4116\n",
      "i: 8\n",
      "usage: 528\n",
      "total_usage: 4644\n",
      "i: 9\n",
      "usage: 475\n",
      "total_usage: 5119\n"
     ]
    },
    {
     "data": {
      "text/plain": [
       "-1"
      ]
     },
     "execution_count": 23,
     "metadata": {},
     "output_type": "execute_result"
    }
   ],
   "source": [
    "solution(5141, 500, [10, -10, 10, -10, 10, -10, 10, -10, 10, -10])"
   ]
  },
  {
   "cell_type": "code",
   "execution_count": 13,
   "metadata": {},
   "outputs": [
    {
     "name": "stdout",
     "output_type": "stream",
     "text": [
      "i: 0\n",
      "usage: 2000\n",
      "total_usage: 2000\n"
     ]
    },
    {
     "data": {
      "text/plain": [
       "0"
      ]
     },
     "execution_count": 13,
     "metadata": {},
     "output_type": "execute_result"
    }
   ],
   "source": [
    "solution(1000, 2000, [-10, 25, -33])"
   ]
  },
  {
   "cell_type": "code",
   "execution_count": null,
   "metadata": {},
   "outputs": [],
   "source": []
  }
 ],
 "metadata": {
  "kernelspec": {
   "display_name": "Python 3",
   "language": "python",
   "name": "python3"
  },
  "language_info": {
   "codemirror_mode": {
    "name": "ipython",
    "version": 3
   },
   "file_extension": ".py",
   "mimetype": "text/x-python",
   "name": "python",
   "nbconvert_exporter": "python",
   "pygments_lexer": "ipython3",
   "version": "3.12.1"
  }
 },
 "nbformat": 4,
 "nbformat_minor": 2
}

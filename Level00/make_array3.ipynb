{
 "cells": [
  {
   "cell_type": "markdown",
   "id": "e94bb80d-66a8-4df9-86ce-fff3ec9e865c",
   "metadata": {},
   "source": [
    "### 문제 설명\n",
    "정수 배열 arr와 2개의 구간이 담긴 배열 intervals가 주어집니다.\n",
    "\n",
    "intervals는 항상 [[a1, b1], [a2, b2]]의 꼴로 주어지며 각 구간은 닫힌 구간입니다. 닫힌 구간은 양 끝값과 그 사이의 값을 모두 포함하는 구간을 의미합니다.\n",
    "\n",
    "이때 배열 arr의 첫 번째 구간에 해당하는 배열과 두 번째 구간에 해당하는 배열을 앞뒤로 붙여 새로운 배열을 만들어 return 하는 solution 함수를 완성해 주세요.\n",
    "\n",
    "### 제한사항\n",
    "* 1 ≤ arr의 길이 ≤ 100,000\n",
    "* 1 ≤ arr의 원소 < 100\n",
    "* 1 ≤ a1 ≤ b1 < arr의 길이\n",
    "* 1 ≤ a2 ≤ b2 < arr의 길이\n",
    "### 입출력 예\n",
    "|arr|intervals|result|\n",
    "|---|---------|------|\n",
    "|[1, 2, 3, 4, 5]|[[1, 3], [0, 4]]|[2, 3, 4, 1, 2, 3, 4, 5]|\n",
    "### 입출력 예 설명\n",
    "#### 입출력 예 #1\n",
    "\n",
    "* 첫 번째 구간에 해당하는 배열은 [2, 3, 4] 입니다.\n",
    "* 두 번째 구간에 해당하는 배열은 [1, 2, 3, 4, 5] 입니다.\n",
    "* 따라서 이 두 배열을 앞뒤로 붙인 배열인 [2, 3, 4, 1, 2, 3, 4, 5]를 return 합니다."
   ]
  },
  {
   "cell_type": "code",
   "execution_count": 49,
   "id": "17d9fc57-adb3-4c81-874f-72c7ba6d12ec",
   "metadata": {},
   "outputs": [],
   "source": [
    "def solution(a, i):\n",
    "    r = []\n",
    "    [r.extend(a[i[idx][0]:i[idx][1]+1]) for idx in range(2)]\n",
    "    return r"
   ]
  },
  {
   "cell_type": "code",
   "execution_count": 50,
   "id": "a3063d0c-3454-4493-b830-8b0185135676",
   "metadata": {},
   "outputs": [
    {
     "data": {
      "text/plain": [
       "[2, 3, 4, 1, 2, 3, 4, 5]"
      ]
     },
     "execution_count": 50,
     "metadata": {},
     "output_type": "execute_result"
    }
   ],
   "source": [
    "solution([1, 2, 3, 4, 5], [[1, 3], [0, 4]])"
   ]
  },
  {
   "cell_type": "code",
   "execution_count": null,
   "id": "b4f6e40a-7754-495c-a76d-7da02125d115",
   "metadata": {},
   "outputs": [],
   "source": []
  }
 ],
 "metadata": {
  "kernelspec": {
   "display_name": "Python 3 (ipykernel)",
   "language": "python",
   "name": "python3"
  },
  "language_info": {
   "codemirror_mode": {
    "name": "ipython",
    "version": 3
   },
   "file_extension": ".py",
   "mimetype": "text/x-python",
   "name": "python",
   "nbconvert_exporter": "python",
   "pygments_lexer": "ipython3",
   "version": "3.11.6"
  }
 },
 "nbformat": 4,
 "nbformat_minor": 5
}

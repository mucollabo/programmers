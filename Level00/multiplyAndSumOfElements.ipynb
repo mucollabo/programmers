{
 "cells": [
  {
   "cell_type": "markdown",
   "id": "ef83ce84-7ce7-4495-aa40-08338eb716a3",
   "metadata": {},
   "source": [
    "## 원소들의 곱과 합\n",
    "### 문제 설명\n",
    "#### 정수가 담긴 리스트 num_list가 주어질 때, 모든 원소들의 곱이 모든 원소들의 합의 제곱보다 작으면 1을 크면 0을 return하도록 solution 함수를 완성해주세요.\n",
    "\n",
    "### 제한사항\n",
    "* 2 ≤ num_list의 길이 ≤ 10\n",
    "* 1 ≤ num_list의 원소 ≤ 9\n",
    "### 입출력 예\n",
    "|num_list|result|\n",
    "|--------|------|\n",
    "|[3, 4, 5, 2, 1]|1|\n",
    "|[5, 7, 8, 3]|0|\n",
    "\n",
    "### 입출력 예 설명\n",
    "#### 입출력 예 #1\n",
    "\n",
    "* 모든 원소의 곱은 120, 합의 제곱은 225이므로 1을 return합니다.\n",
    "#### 입출력 예 #2\n",
    "\n",
    "* 모든 원소의 곱은 840, 합의 제곱은 529이므로 0을 return합니다."
   ]
  },
  {
   "cell_type": "code",
   "execution_count": 3,
   "id": "c0f9aa00-52c9-48c4-a481-10bd23b5f213",
   "metadata": {},
   "outputs": [],
   "source": [
    "from functools import reduce\n",
    "def solution(num_list):\n",
    "    return 1 if reduce(lambda x, y: x * y, num_list) < pow(sum(num_list), 2) else 0"
   ]
  },
  {
   "cell_type": "code",
   "execution_count": 4,
   "id": "cda1b4f5-1690-42e5-908b-e5d576a84baa",
   "metadata": {},
   "outputs": [
    {
     "data": {
      "text/plain": [
       "1"
      ]
     },
     "execution_count": 4,
     "metadata": {},
     "output_type": "execute_result"
    }
   ],
   "source": [
    "solution([3, 4, 5, 2, 1])"
   ]
  },
  {
   "cell_type": "code",
   "execution_count": 5,
   "id": "e5928213-581b-4787-a18d-7727b7c4a719",
   "metadata": {},
   "outputs": [
    {
     "data": {
      "text/plain": [
       "0"
      ]
     },
     "execution_count": 5,
     "metadata": {},
     "output_type": "execute_result"
    }
   ],
   "source": [
    "solution([5, 7, 8, 3])"
   ]
  },
  {
   "cell_type": "code",
   "execution_count": null,
   "id": "11e7e303-134a-4fab-93dc-b7e1e7c5c3b5",
   "metadata": {},
   "outputs": [],
   "source": []
  }
 ],
 "metadata": {
  "kernelspec": {
   "display_name": "Python 3 (ipykernel)",
   "language": "python",
   "name": "python3"
  },
  "language_info": {
   "codemirror_mode": {
    "name": "ipython",
    "version": 3
   },
   "file_extension": ".py",
   "mimetype": "text/x-python",
   "name": "python",
   "nbconvert_exporter": "python",
   "pygments_lexer": "ipython3",
   "version": "3.10.6"
  }
 },
 "nbformat": 4,
 "nbformat_minor": 5
}

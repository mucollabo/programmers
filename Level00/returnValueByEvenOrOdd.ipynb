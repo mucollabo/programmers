{
 "cells": [
  {
   "cell_type": "markdown",
   "id": "a85b84d5-3b8e-4276-ad78-c7a53528b8dd",
   "metadata": {},
   "source": [
    "## 홀짝에 따라 다른 값 반환하기\n",
    "### 문제 설명\n",
    "#### 양의 정수 n이 매개변수로 주어질 때, n이 홀수라면 n 이하의 홀수인 모든 양의 정수의 합을 return 하고 n이 짝수라면 n 이하의 짝수인 모든 양의 정수의 제곱의 합을 return 하는 solution 함수를 작성해 주세요.\n",
    "\n",
    "### 제한사항\n",
    "* 1 ≤ n ≤ 100\n",
    "### 입출력 예\n",
    "|n|result|\n",
    "|--|------|\n",
    "|7|16|\n",
    "|10|220|\n",
    "### 입출력 예 설명\n",
    "#### 입출력 예 #1\n",
    "\n",
    "* 예제 1번의 n은 7로 홀수입니다. 7 이하의 모든 양의 홀수는 1, 3, 5, 7이고 이들의 합인 1 + 3 + 5 + 7 = 16을 return 합니다.\n",
    "#### 입출력 예 #2\n",
    "\n",
    "* 예제 2번의 n은 10으로 짝수입니다. 10 이하의 모든 양의 짝수는 2, 4, 6, 8, 10이고 이들의 제곱의 합인 $$2^2 + 4^2 + 6^2 + 8^2 + 10^2 = 4 + 16 + 36 + 64 + 100 = 220$$을 return 합니다."
   ]
  },
  {
   "cell_type": "code",
   "execution_count": 13,
   "id": "e72662cc-2cbd-4c30-bfd4-65fafe85d8c8",
   "metadata": {},
   "outputs": [],
   "source": [
    "def solution(n):\n",
    "    if n%2 == 1:\n",
    "        s = sum([e for e in range(1, n+1, 2)])\n",
    "    else:\n",
    "        s = sum([e*e for e in range(2, n+1, 2)])\n",
    "    return s"
   ]
  },
  {
   "cell_type": "code",
   "execution_count": 14,
   "id": "b996161d-3126-4a8f-9e9c-a843dd6684ac",
   "metadata": {},
   "outputs": [
    {
     "data": {
      "text/plain": [
       "16"
      ]
     },
     "execution_count": 14,
     "metadata": {},
     "output_type": "execute_result"
    }
   ],
   "source": [
    "solution(7)"
   ]
  },
  {
   "cell_type": "code",
   "execution_count": 15,
   "id": "4fd75192-3f54-4b5f-a396-643beb7306ba",
   "metadata": {},
   "outputs": [
    {
     "data": {
      "text/plain": [
       "220"
      ]
     },
     "execution_count": 15,
     "metadata": {},
     "output_type": "execute_result"
    }
   ],
   "source": [
    "solution(10)"
   ]
  },
  {
   "cell_type": "code",
   "execution_count": 16,
   "id": "e595198c-8915-4519-aaed-ff11a1466d68",
   "metadata": {},
   "outputs": [],
   "source": [
    "def solution2(n):\n",
    "    if n%2:\n",
    "        return sum(range(1, n+1, 2))\n",
    "    return sum(e*e for e in range(2, n+1, 2))"
   ]
  },
  {
   "cell_type": "code",
   "execution_count": 17,
   "id": "f28f8326-7091-47b8-96c8-0d07223ac4f5",
   "metadata": {},
   "outputs": [
    {
     "data": {
      "text/plain": [
       "16"
      ]
     },
     "execution_count": 17,
     "metadata": {},
     "output_type": "execute_result"
    }
   ],
   "source": [
    "solution2(7)"
   ]
  },
  {
   "cell_type": "code",
   "execution_count": 18,
   "id": "48034468-3bdd-406a-b5f0-a7e601a6ca06",
   "metadata": {},
   "outputs": [
    {
     "data": {
      "text/plain": [
       "220"
      ]
     },
     "execution_count": 18,
     "metadata": {},
     "output_type": "execute_result"
    }
   ],
   "source": [
    "solution2(10)"
   ]
  },
  {
   "cell_type": "code",
   "execution_count": null,
   "id": "c4af8b3a-b70c-463e-94d6-2a7add1584c4",
   "metadata": {},
   "outputs": [],
   "source": []
  }
 ],
 "metadata": {
  "kernelspec": {
   "display_name": "Python 3 (ipykernel)",
   "language": "python",
   "name": "python3"
  },
  "language_info": {
   "codemirror_mode": {
    "name": "ipython",
    "version": 3
   },
   "file_extension": ".py",
   "mimetype": "text/x-python",
   "name": "python",
   "nbconvert_exporter": "python",
   "pygments_lexer": "ipython3",
   "version": "3.11.6"
  }
 },
 "nbformat": 4,
 "nbformat_minor": 5
}

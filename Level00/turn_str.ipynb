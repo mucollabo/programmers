{
 "cells": [
  {
   "cell_type": "markdown",
   "id": "671b9ce5-0ce6-4441-a2b6-149906c9b5da",
   "metadata": {},
   "source": [
    "### 문제 설명\n",
    "문자열 str이 주어집니다.\n",
    "문자열을 시계방향으로 90도 돌려서 아래 입출력 예와 같이 출력하는 코드를 작성해 보세요.\n",
    "\n",
    "### 제한사항\n",
    "* 1 ≤ str의 길이 ≤ 10\n",
    "\n",
    "### 입출력 예\n",
    "#### 입력 #1\n",
    "\n",
    "> abcde\n",
    "#### 출력 #1\n",
    "\n",
    ">a\n",
    "\n",
    ">b\n",
    "\n",
    ">c\n",
    "\n",
    ">d\n",
    "\n",
    ">e"
   ]
  },
  {
   "cell_type": "code",
   "execution_count": 6,
   "id": "87ab1b7e-79fa-4e13-8dbf-9238514e96e1",
   "metadata": {},
   "outputs": [
    {
     "name": "stdin",
     "output_type": "stream",
     "text": [
      " abcde\n"
     ]
    },
    {
     "name": "stdout",
     "output_type": "stream",
     "text": [
      "a\n",
      "b\n",
      "c\n",
      "d\n",
      "e\n"
     ]
    }
   ],
   "source": [
    "str = input()\n",
    "for s in str:\n",
    "    print(s)"
   ]
  },
  {
   "cell_type": "code",
   "execution_count": null,
   "id": "1cfd51da-4d6a-4132-b200-f9deedad932a",
   "metadata": {},
   "outputs": [],
   "source": []
  }
 ],
 "metadata": {
  "kernelspec": {
   "display_name": "Python 3 (ipykernel)",
   "language": "python",
   "name": "python3"
  },
  "language_info": {
   "codemirror_mode": {
    "name": "ipython",
    "version": 3
   },
   "file_extension": ".py",
   "mimetype": "text/x-python",
   "name": "python",
   "nbconvert_exporter": "python",
   "pygments_lexer": "ipython3",
   "version": "3.11.6"
  }
 },
 "nbformat": 4,
 "nbformat_minor": 5
}

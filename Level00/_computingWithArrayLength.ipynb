{
 "cells": [
  {
   "cell_type": "markdown",
   "id": "cdbf2c94-0ff3-4f96-93f8-592aa1d1ae93",
   "metadata": {},
   "source": [
    "## 배열의 길이에 따라 다른 연산하기\n",
    "### 문제 설명\n",
    "#### 정수 배열 arr과 정수 n이 매개변수로 주어집니다. arr의 길이가 홀수라면 arr의 모든 짝수 인덱스 위치에 n을 더한 배열을, arr의 길이가 짝수라면 arr의 모든 홀수 인덱스 위치에 n을 더한 배열을 return 하는 solution 함수를 작성해 주세요.\n",
    "\n",
    "### 제한사항\n",
    "* 1 ≤ arr의 길이 ≤ 1,000\n",
    "* 1 ≤ arr의 원소 ≤ 1,000\n",
    "* 1 ≤ n ≤ 1,000\n",
    "### 입출력 예\n",
    "|arr|n|result|\n",
    "|---|---|-------|\n",
    "|[49, 12, 100, 276, 33]|27|[76, 12, 127, 276, 60]|\n",
    "|[444, 555, 666, 777]|100|[444, 655, 666, 877]|\n",
    "### 입출력 예 설명\n",
    "#### 입출력 예 #1\n",
    "\n",
    "* 예제 1번의 arr의 길이는 5로 홀수입니다. 따라서 arr의 짝수 인덱스 0, 2, 4에 주어진 n 값인 27을 더하면 [76, 12, 127, 276, 60]이 됩니다. 따라서 [76, 12, 127, 276, 60]를 return 합니다.\n",
    "#### 입출력 예 #1\n",
    "\n",
    "* 예제 2번의 arr의 길이는 4로 짝수입니다. 따라서 arr의 홀수 인덱스 1, 3에 주어진 n 값인 100을 더하면 [444, 655, 666, 877]이 됩니다. 따라서 [444, 655, 666, 877]를 return 합니다."
   ]
  },
  {
   "cell_type": "code",
   "execution_count": 62,
   "id": "c0a1398c-a851-4aea-bba8-dda78461d4b7",
   "metadata": {},
   "outputs": [],
   "source": [
    "def solution(arr, n):\n",
    "    return [e+n if len(arr)%2 != i%2 else e for i, e in enumerate(arr)]"
   ]
  },
  {
   "cell_type": "code",
   "execution_count": 63,
   "id": "a87f6ae4-8130-4485-bb3a-494264187947",
   "metadata": {},
   "outputs": [
    {
     "data": {
      "text/plain": [
       "[76, 12, 127, 276, 60]"
      ]
     },
     "execution_count": 63,
     "metadata": {},
     "output_type": "execute_result"
    }
   ],
   "source": [
    "solution([49, 12, 100, 276, 33], 27)"
   ]
  },
  {
   "cell_type": "code",
   "execution_count": 64,
   "id": "7c410ecd-a8fa-4492-87d2-36e4ee119786",
   "metadata": {},
   "outputs": [
    {
     "data": {
      "text/plain": [
       "[444, 655, 666, 877]"
      ]
     },
     "execution_count": 64,
     "metadata": {},
     "output_type": "execute_result"
    }
   ],
   "source": [
    "solution([444, 555, 666, 777], 100)"
   ]
  },
  {
   "cell_type": "code",
   "execution_count": null,
   "id": "cb8b163f-729a-4c55-8a40-efd797325dde",
   "metadata": {},
   "outputs": [],
   "source": []
  }
 ],
 "metadata": {
  "kernelspec": {
   "display_name": "Python 3 (ipykernel)",
   "language": "python",
   "name": "python3"
  },
  "language_info": {
   "codemirror_mode": {
    "name": "ipython",
    "version": 3
   },
   "file_extension": ".py",
   "mimetype": "text/x-python",
   "name": "python",
   "nbconvert_exporter": "python",
   "pygments_lexer": "ipython3",
   "version": "3.11.6"
  }
 },
 "nbformat": 4,
 "nbformat_minor": 5
}

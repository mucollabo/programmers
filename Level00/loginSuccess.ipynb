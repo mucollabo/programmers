{
 "cells": [
  {
   "cell_type": "markdown",
   "id": "785e5902-b086-40c7-84d1-e7ff32e83977",
   "metadata": {},
   "source": [
    "# 로그인 성공?\n",
    "## 문제 설명\n",
    "### 머쓱이는 프로그래머스에 로그인하려고 합니다. 머쓱이가 입력한 아이디와 패스워드가 담긴 배열 id_pw와 회원들의 정보가 담긴 2차원 배열 db가 주어질 때, 다음과 같이 로그인 성공, 실패에 따른 메시지를 return하도록 solution 함수를 완성해주세요.\n",
    "\n",
    "* 아이디와 비밀번호가 모두 일치하는 회원정보가 있으면 \"login\"을 return합니다.\n",
    "* 로그인이 실패했을 때 아이디가 일치하는 회원이 없다면 “fail”를, 아이디는 일치하지만 비밀번호가 일치하는 회원이 없다면 “wrong pw”를 return 합니다.\n",
    "## 제한사항\n",
    "* 회원들의 아이디는 문자열입니다.\n",
    "* 회원들의 아이디는 알파벳 소문자와 숫자로만 이루어져 있습니다.\n",
    "* 회원들의 패스워드는 숫자로 구성된 문자열입니다.\n",
    "* 회원들의 비밀번호는 같을 수 있지만 아이디는 같을 수 없습니다.\n",
    "* id_pw의 길이는 2입니다.\n",
    "* id_pw와 db의 원소는 [아이디, 패스워드] 형태입니다.\n",
    "* 1 ≤ 아이디의 길이 ≤ 15\n",
    "* 1 ≤ 비밀번호의 길이 ≤ 6\n",
    "* 1 ≤ db의 길이 ≤ 10\n",
    "* db의 원소의 길이는 2입니다.\n",
    "## 입출력 예\n",
    "|id_pw|db|result|\n",
    "|-----|--|------|\n",
    "|[\"meosseugi\", \"1234\"]|[[\"rardss\", \"123\"], [\"yyoom\", \"1234\"], [\"meosseugi\", \"1234\"]]|\"login\"|\n",
    "|[\"programmer01\", \"15789\"]|[[\"programmer02\", \"111111\"], [\"programmer00\", \"134\"], [\"programmer01\", \"1145\"]]|\"wrong pw\"|\n",
    "|[\"rabbit04\", \"98761\"]|[[\"jaja11\", \"98761\"], [\"krong0313\", \"29440\"], [\"rabbit00\", \"111333\"]]|\"fail\"|\n",
    "## 입출력 예 설명\n",
    "## 입출력 예 #1\n",
    "\n",
    "* db에 같은 정보의 계정이 있으므로 \"login\"을 return합니다.\n",
    "## 입출력 예 #2\n",
    "\n",
    "* db에 아이디는 같지만 패스워드가 다른 계정이 있으므로 \"wrong pw\"를 return합니다.\n",
    "## 입출력 예 #3\n",
    "\n",
    "* db에 아이디가 맞는 계정이 없으므로 \"fail\"을 return합니다."
   ]
  },
  {
   "cell_type": "code",
   "execution_count": 37,
   "id": "fc752dd7-f869-4bdc-a3e9-c87f4d8acb5f",
   "metadata": {},
   "outputs": [],
   "source": [
    "def solution(id_pw, db):\n",
    "    if id_pw in db:\n",
    "        return \"login\"\n",
    "    for e in db:\n",
    "        if e[0] == id_pw[0] and e[1] != id_pw[1]:\n",
    "            return \"wrong pw\"\n",
    "        elif e[0] != id_pw[0] and e[1] == id_pw[1]:\n",
    "            return \"fail\""
   ]
  },
  {
   "cell_type": "code",
   "execution_count": 38,
   "id": "f1a9cfa0-632e-4d9b-8d52-6dc635005cca",
   "metadata": {},
   "outputs": [
    {
     "data": {
      "text/plain": [
       "'login'"
      ]
     },
     "execution_count": 38,
     "metadata": {},
     "output_type": "execute_result"
    }
   ],
   "source": [
    "solution([\"meosseugi\", \"1234\"], [[\"rardss\", \"123\"], [\"yyoom\", \"1234\"], [\"meosseugi\", \"1234\"]])"
   ]
  },
  {
   "cell_type": "code",
   "execution_count": 39,
   "id": "5dc785cd-044d-412d-88b8-e3eff4d66908",
   "metadata": {},
   "outputs": [
    {
     "name": "stdout",
     "output_type": "stream",
     "text": [
      "['programmer02', '111111']\n",
      "['programmer00', '134']\n",
      "['programmer01', '1145']\n"
     ]
    },
    {
     "data": {
      "text/plain": [
       "'wrong pw'"
      ]
     },
     "execution_count": 39,
     "metadata": {},
     "output_type": "execute_result"
    }
   ],
   "source": [
    "solution([\"programmer01\", \"15789\"], [[\"programmer02\", \"111111\"], [\"programmer00\", \"134\"], [\"programmer01\", \"1145\"]])"
   ]
  },
  {
   "cell_type": "code",
   "execution_count": 40,
   "id": "a38eef94-aa27-4edb-bc8a-dac5af00249c",
   "metadata": {},
   "outputs": [
    {
     "name": "stdout",
     "output_type": "stream",
     "text": [
      "['jaja11', '98761']\n"
     ]
    },
    {
     "data": {
      "text/plain": [
       "'fail'"
      ]
     },
     "execution_count": 40,
     "metadata": {},
     "output_type": "execute_result"
    }
   ],
   "source": [
    "solution([\"rabbit04\", \"98761\"], [[\"jaja11\", \"98761\"], [\"krong0313\", \"29440\"], [\"rabbit00\", \"111333\"]])"
   ]
  },
  {
   "cell_type": "code",
   "execution_count": 54,
   "id": "94f42451-793c-47cf-981c-562416eb97d4",
   "metadata": {},
   "outputs": [],
   "source": [
    "def solution2(id_pw, db):\n",
    "    i,j = zip(*db)\n",
    "    if id_pw in db:\n",
    "        return \"login\"\n",
    "    elif id_pw[0] not in i:\n",
    "        return \"fail\"\n",
    "    else:\n",
    "        return \"wrong pw\""
   ]
  },
  {
   "cell_type": "code",
   "execution_count": 55,
   "id": "1df93569-f19c-4972-ac17-31057d7afa72",
   "metadata": {},
   "outputs": [
    {
     "data": {
      "text/plain": [
       "'login'"
      ]
     },
     "execution_count": 55,
     "metadata": {},
     "output_type": "execute_result"
    }
   ],
   "source": [
    "solution2([\"meosseugi\", \"1234\"], [[\"rardss\", \"123\"], [\"yyoom\", \"1234\"], [\"meosseugi\", \"1234\"]])"
   ]
  },
  {
   "cell_type": "code",
   "execution_count": 56,
   "id": "fa44bacf-79e6-4d43-bfba-1158a606b6b6",
   "metadata": {},
   "outputs": [
    {
     "data": {
      "text/plain": [
       "'wrong pw'"
      ]
     },
     "execution_count": 56,
     "metadata": {},
     "output_type": "execute_result"
    }
   ],
   "source": [
    "solution2([\"programmer01\", \"15789\"], [[\"programmer02\", \"111111\"], [\"programmer00\", \"134\"], [\"programmer01\", \"1145\"]])"
   ]
  },
  {
   "cell_type": "code",
   "execution_count": 57,
   "id": "9ff8fdfb-6c37-4498-b7b2-0a9af9306233",
   "metadata": {},
   "outputs": [
    {
     "data": {
      "text/plain": [
       "'fail'"
      ]
     },
     "execution_count": 57,
     "metadata": {},
     "output_type": "execute_result"
    }
   ],
   "source": [
    "solution2([\"rabbit04\", \"98761\"], [[\"jaja11\", \"98761\"], [\"krong0313\", \"29440\"], [\"rabbit00\", \"111333\"]])"
   ]
  },
  {
   "cell_type": "code",
   "execution_count": null,
   "id": "bce27f2f-41ba-47dc-b52f-e561705567b6",
   "metadata": {},
   "outputs": [],
   "source": []
  }
 ],
 "metadata": {
  "kernelspec": {
   "display_name": "Python 3 (ipykernel)",
   "language": "python",
   "name": "python3"
  },
  "language_info": {
   "codemirror_mode": {
    "name": "ipython",
    "version": 3
   },
   "file_extension": ".py",
   "mimetype": "text/x-python",
   "name": "python",
   "nbconvert_exporter": "python",
   "pygments_lexer": "ipython3",
   "version": "3.10.6"
  }
 },
 "nbformat": 4,
 "nbformat_minor": 5
}

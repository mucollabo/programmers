{
 "cells": [
  {
   "cell_type": "markdown",
   "metadata": {},
   "source": [
    "### 문제 설명\n",
    "직사각형 형태의 그림 파일이 있고, 이 그림 파일은 1 × 1 크기의 정사각형 크기의 픽셀로 이루어져 있습니다. 이 그림 파일을 나타낸 문자열 배열 picture과 정수 k가 매개변수로 주어질 때, 이 그림 파일을 가로 세로로 k배 늘린 그림 파일을 나타내도록 문자열 배열을 return 하는 solution 함수를 작성해 주세요.\n",
    "\n",
    "### 제한사항\n",
    "* 1 ≤ picture의 길이 ≤ 20\n",
    "* 1 ≤ picture의 원소의 길이 ≤ 20\n",
    "* 모든 picture의 원소의 길이는 같습니다.\n",
    "* picture의 원소는 '.'과 'x'로 이루어져 있습니다.\n",
    "* 1 ≤ k ≤ 10\n",
    "\n",
    "### 입출력 예\n",
    "|picture|k|result|\n",
    "|-------|--|------|\n",
    "|[\".xx...xx.\", \"x..x.x..x\", \"x...x...x\", \".x.....x.\", \"..x...x..\", \"...x.x...\", \"....x....\"]|2|[\"..xxxx......xxxx..\", \"..xxxx......xxxx..\", \"xx....xx..xx....xx\", \"xx....xx..xx....xx\", \"xx......xx......xx\", \"xx......xx......xx\", \"..xx..........xx..\", \"..xx..........xx..\", \"....xx......xx....\", \"....xx......xx....\", \"......xx..xx......\", \"......xx..xx......\", \"........xx........\", \"........xx........\"]|\n",
    "|[\"x.x\", \".x.\", \"x.x\"]|3|[\"xxx...xxx\", \"xxx...xxx\", \"xxx...xxx\", \"...xxx...\", \"...xxx...\", \"...xxx...\", \"xxx...xxx\", \"xxx...xxx\", \"xxx...xxx\"]|\n",
    "\n",
    "### 입출력 예 설명\n",
    "#### 입출력 예 #1\n",
    "\n",
    "* 예제 1번의 picture는 다음과 같습니다.\n",
    "\n",
    ".xx...xx.\n",
    "x..x.x..x\n",
    "x...x...x\n",
    ".x.....x.\n",
    "..x...x..\n",
    "...x.x...\n",
    "....x....\n",
    "\n",
    "이를 가로 세로로 k배, 즉 2배 확대하면 그림 파일은 다음과 같습니다.\n",
    "\n",
    "..xxxx......xxxx..\n",
    "..xxxx......xxxx..\n",
    "xx....xx..xx....xx\n",
    "xx....xx..xx....xx\n",
    "xx......xx......xx\n",
    "xx......xx......xx\n",
    "..xx..........xx..\n",
    "..xx..........xx..\n",
    "....xx......xx....\n",
    "....xx......xx....\n",
    "......xx..xx......\n",
    "......xx..xx......\n",
    "........xx........\n",
    "........xx........\n",
    "따라서 [\"..xxxx......xxxx..\", \"..xxxx......xxxx..\", \"xx....xx..xx....xx\", \"xx....xx..xx....xx\", \"xx......xx......xx\", \"xx......xx......xx\", \"..xx..........xx..\", \"..xx..........xx..\", \"....xx......xx....\", \"....xx......xx....\", \"......xx..xx......\", \"......xx..xx......\", \"........xx........\", \"........xx........\"]를 return 합니다.\n",
    "\n",
    "#### 입출력 예 #2\n",
    "\n",
    "* 예제 2번의 picture는 다음과 같습니다.\n",
    "\n",
    "x.x\n",
    ".x.\n",
    "x.x\n",
    "\n",
    "이를 가로 세로로 k배, 즉 3배 확대하면 그림 파일은 다음과 같습니다.\n",
    "\n",
    "xxx...xxx\n",
    "xxx...xxx\n",
    "xxx...xxx\n",
    "...xxx...\n",
    "...xxx...\n",
    "...xxx...\n",
    "xxx...xxx\n",
    "xxx...xxx\n",
    "xxx...xxx\n",
    "\n",
    "따라서 [\"xxx...xxx\", \"xxx...xxx\", \"xxx...xxx\", \"...xxx...\", \"...xxx...\", \"...xxx...\", \"xxx...xxx\", \"xxx...xxx\", \"xxx...xxx\"]를 return 합니다."
   ]
  },
  {
   "cell_type": "code",
   "execution_count": 1,
   "metadata": {},
   "outputs": [],
   "source": [
    "def solution(picture, k):\n",
    "    result = []\n",
    "    for p in picture:\n",
    "        r = ''\n",
    "        for e in p:\n",
    "            r += e * k\n",
    "        result.extend([r] * k)\n",
    "    return result"
   ]
  },
  {
   "cell_type": "code",
   "execution_count": 3,
   "metadata": {},
   "outputs": [
    {
     "data": {
      "text/plain": [
       "['..xxxx......xxxx..',\n",
       " '..xxxx......xxxx..',\n",
       " 'xx....xx..xx....xx',\n",
       " 'xx....xx..xx....xx',\n",
       " 'xx......xx......xx',\n",
       " 'xx......xx......xx',\n",
       " '..xx..........xx..',\n",
       " '..xx..........xx..',\n",
       " '....xx......xx....',\n",
       " '....xx......xx....',\n",
       " '......xx..xx......',\n",
       " '......xx..xx......',\n",
       " '........xx........',\n",
       " '........xx........']"
      ]
     },
     "execution_count": 3,
     "metadata": {},
     "output_type": "execute_result"
    }
   ],
   "source": [
    "solution([\".xx...xx.\", \"x..x.x..x\", \"x...x...x\", \".x.....x.\", \"..x...x..\", \"...x.x...\", \"....x....\"], 2)"
   ]
  },
  {
   "cell_type": "code",
   "execution_count": 4,
   "metadata": {},
   "outputs": [
    {
     "data": {
      "text/plain": [
       "['xxx...xxx',\n",
       " 'xxx...xxx',\n",
       " 'xxx...xxx',\n",
       " '...xxx...',\n",
       " '...xxx...',\n",
       " '...xxx...',\n",
       " 'xxx...xxx',\n",
       " 'xxx...xxx',\n",
       " 'xxx...xxx']"
      ]
     },
     "execution_count": 4,
     "metadata": {},
     "output_type": "execute_result"
    }
   ],
   "source": [
    "solution([\"x.x\", \".x.\", \"x.x\"], 3)"
   ]
  },
  {
   "cell_type": "code",
   "execution_count": null,
   "metadata": {},
   "outputs": [],
   "source": []
  }
 ],
 "metadata": {
  "kernelspec": {
   "display_name": "Python 3",
   "language": "python",
   "name": "python3"
  },
  "language_info": {
   "codemirror_mode": {
    "name": "ipython",
    "version": 3
   },
   "file_extension": ".py",
   "mimetype": "text/x-python",
   "name": "python",
   "nbconvert_exporter": "python",
   "pygments_lexer": "ipython3",
   "version": "3.12.1"
  }
 },
 "nbformat": 4,
 "nbformat_minor": 2
}

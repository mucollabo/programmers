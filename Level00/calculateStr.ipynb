{
 "cells": [
  {
   "cell_type": "markdown",
   "id": "1369e6e9-6028-4f81-b636-6e264472f4ee",
   "metadata": {},
   "source": [
    "# 문자열 계산하기\n",
    "## 문제 설명\n",
    "### my_string은 \"3 + 5\"처럼 문자열로 된 수식입니다. 문자열 my_string이 매개변수로 주어질 때, 수식을 계산한 값을 return 하는 solution 함수를 완성해주세요.\n",
    "\n",
    "## 제한사항\n",
    "* 연산자는 +, -만 존재합니다.\n",
    "* 문자열의 시작과 끝에는 공백이 없습니다.\n",
    "* 0으로 시작하는 숫자는 주어지지 않습니다.\n",
    "* 잘못된 수식은 주어지지 않습니다.\n",
    "* 5 ≤ my_string의 길이 ≤ 100\n",
    "* my_string을 계산한 결과값은 1 이상 100,000 이하입니다.\n",
    "    * my_string의 중간 계산 값은 -100,000 이상 100,000 이하입니다.\n",
    "    * 계산에 사용하는 숫자는 1 이상 20,000 이하인 자연수입니다.\n",
    "    * my_string에는 연산자가 적어도 하나 포함되어 있습니다.\n",
    "* return type 은 정수형입니다.\n",
    "* my_string의 숫자와 연산자는 공백 하나로 구분되어 있습니다.\n",
    "## 입출력 예\n",
    "|my_string|result|\n",
    "|---------|------|\n",
    "|\"3 + 4\"|7|\n",
    "## 입출력 예 설명\n",
    "## 입출력 예 #1\n",
    "\n",
    "* 3 + 4 = 7을 return 합니다."
   ]
  },
  {
   "cell_type": "code",
   "execution_count": 24,
   "id": "b46a7442-5161-4b0d-b3dc-5f3abc435486",
   "metadata": {},
   "outputs": [],
   "source": [
    "def solution(my_string):\n",
    "    listS = my_string.split(' ')\n",
    "    result = 0\n",
    "    opr = '+'\n",
    "    for i, s in enumerate(listS):\n",
    "        if i%2 == 0:\n",
    "            if opr == '+':\n",
    "                result += int(s)\n",
    "            else:\n",
    "                result -= int(s)\n",
    "        else:\n",
    "            opr = s\n",
    "    return result"
   ]
  },
  {
   "cell_type": "code",
   "execution_count": 25,
   "id": "13d557ac-f7b4-4d8f-a3a0-eff891953278",
   "metadata": {},
   "outputs": [
    {
     "data": {
      "text/plain": [
       "7"
      ]
     },
     "execution_count": 25,
     "metadata": {},
     "output_type": "execute_result"
    }
   ],
   "source": [
    "solution(\"3 + 4\")"
   ]
  },
  {
   "cell_type": "code",
   "execution_count": 26,
   "id": "8f6bb492-06f3-47d6-8cd4-beba2009104f",
   "metadata": {},
   "outputs": [
    {
     "data": {
      "text/plain": [
       "-1"
      ]
     },
     "execution_count": 26,
     "metadata": {},
     "output_type": "execute_result"
    }
   ],
   "source": [
    "solution(\"3 - 4\")"
   ]
  },
  {
   "cell_type": "code",
   "execution_count": 27,
   "id": "c83bb72f-aabe-431f-827e-0b9b7e6412db",
   "metadata": {},
   "outputs": [],
   "source": [
    "def solution2(my_string):\n",
    "    return eval(my_string)"
   ]
  },
  {
   "cell_type": "code",
   "execution_count": 28,
   "id": "b578edc5-bc45-4354-844e-ae88569cf563",
   "metadata": {},
   "outputs": [
    {
     "data": {
      "text/plain": [
       "7"
      ]
     },
     "execution_count": 28,
     "metadata": {},
     "output_type": "execute_result"
    }
   ],
   "source": [
    "solution(\"3 + 4\")"
   ]
  },
  {
   "cell_type": "code",
   "execution_count": 29,
   "id": "73dbbe03-4ee1-467a-b0a7-56156c0bbff4",
   "metadata": {},
   "outputs": [
    {
     "data": {
      "text/plain": [
       "-1"
      ]
     },
     "execution_count": 29,
     "metadata": {},
     "output_type": "execute_result"
    }
   ],
   "source": [
    "solution2(\"3 - 4\")"
   ]
  },
  {
   "cell_type": "code",
   "execution_count": null,
   "id": "2da5244c-1048-40ab-8d80-9294f5517719",
   "metadata": {},
   "outputs": [],
   "source": []
  }
 ],
 "metadata": {
  "kernelspec": {
   "display_name": "Python 3 (ipykernel)",
   "language": "python",
   "name": "python3"
  },
  "language_info": {
   "codemirror_mode": {
    "name": "ipython",
    "version": 3
   },
   "file_extension": ".py",
   "mimetype": "text/x-python",
   "name": "python",
   "nbconvert_exporter": "python",
   "pygments_lexer": "ipython3",
   "version": "3.10.6"
  }
 },
 "nbformat": 4,
 "nbformat_minor": 5
}

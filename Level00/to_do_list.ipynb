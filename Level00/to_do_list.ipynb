{
 "cells": [
  {
   "cell_type": "markdown",
   "id": "d3413a66-e9e4-4425-88bb-c9fb726f32d6",
   "metadata": {},
   "source": [
    "### 문제 설명\n",
    "\n",
    "오늘 해야 할 일이 담긴 문자열 배열 todo_list와 각각의 일을 지금 마쳤는지를 나타내는 boolean 배열 finished가 매개변수로 주어질 때, todo_list에서 아직 마치지 못한 일들을 순서대로 담은 문자열 배열을 return 하는 solution 함수를 작성해 주세요.\n",
    "### 제한사항\n",
    "* 1 ≤ todo_list의 길이 1 ≤ 100\n",
    "* 2 ≤ todo_list의 원소의 길이 ≤ 20\n",
    "  * todo_list의 원소는 영소문자로만 이루어져 있습니다.\n",
    "  * todo_list의 원소는 모두 서로 다릅니다.\n",
    "* finished[i]는 true 또는 false이고 true는 todo_list[i]를 마쳤음을, false는 아직 마치지 못했음을 나타냅니다.\n",
    "* 아직 마치지 못한 일이 적어도 하나 있습니다.\n",
    "### 입출력 예\n",
    "|todo_list|finished|result|\n",
    "|---------|--------|------|\n",
    "|[\"problemsolving\", \"practiceguitar\", \"swim\", \"studygraph\"]|[true, false, true, false]|[\"practiceguitar\", \"studygraph\"]|\n",
    "### 입출력 예 설명\n",
    "#### 입출력 예 #1\n",
    "* 예제 1번의 todo_list 중에서 \"problemsolving\"과 \"swim\"은 마쳤고, \"practiceguitar\"와 \"studygraph\"는 아직 마치지 못했으므로 todo_list에서 나온 순서대로 담은 문자열 배열 [\"practiceguitar\", \"studygraph\"]를 return 합니다."
   ]
  },
  {
   "cell_type": "markdown",
   "id": "87607147-4bd7-47a5-bff4-dc59efbead3c",
   "metadata": {},
   "source": [
    "#### map(), filter() 활용"
   ]
  },
  {
   "cell_type": "code",
   "execution_count": 26,
   "id": "41ede5cb-6d80-41c3-a392-79de051d65f0",
   "metadata": {},
   "outputs": [],
   "source": [
    "def solution(todo_list, finished):\n",
    "    return list(map(lambda p: p[0], filter(lambda x: not x[1], zip(todo_list, finished))))"
   ]
  },
  {
   "cell_type": "code",
   "execution_count": 27,
   "id": "1e4df7b6-b9f5-4172-b9ba-7f9ecf7d46c7",
   "metadata": {},
   "outputs": [
    {
     "data": {
      "text/plain": [
       "['practiceguitar', 'studygraph']"
      ]
     },
     "execution_count": 27,
     "metadata": {},
     "output_type": "execute_result"
    }
   ],
   "source": [
    "solution([\"problemsolving\", \"practiceguitar\", \"swim\", \"studygraph\"], [True, False, True, False])"
   ]
  },
  {
   "cell_type": "markdown",
   "id": "d949871b-2ff7-4ce8-93c5-bc3fc1acb027",
   "metadata": {},
   "source": [
    "#### list comphrehension 활용"
   ]
  },
  {
   "cell_type": "code",
   "execution_count": 28,
   "id": "7f199adf-9ced-4811-957d-6f37c2afd911",
   "metadata": {},
   "outputs": [],
   "source": [
    "def solution2(todo_list, finished):\n",
    "    return [x for x, y in zip(todo_list, finished) if not y]"
   ]
  },
  {
   "cell_type": "code",
   "execution_count": 29,
   "id": "5fc322df-76b0-40fd-a1cc-1f81a635cc4f",
   "metadata": {},
   "outputs": [
    {
     "data": {
      "text/plain": [
       "['practiceguitar', 'studygraph']"
      ]
     },
     "execution_count": 29,
     "metadata": {},
     "output_type": "execute_result"
    }
   ],
   "source": [
    "solution2([\"problemsolving\", \"practiceguitar\", \"swim\", \"studygraph\"], [True, False, True, False])"
   ]
  },
  {
   "cell_type": "code",
   "execution_count": null,
   "id": "d89ab2da-6bf5-408a-b0a4-3ca96f5b39bb",
   "metadata": {},
   "outputs": [],
   "source": []
  }
 ],
 "metadata": {
  "kernelspec": {
   "display_name": "Python 3 (ipykernel)",
   "language": "python",
   "name": "python3"
  },
  "language_info": {
   "codemirror_mode": {
    "name": "ipython",
    "version": 3
   },
   "file_extension": ".py",
   "mimetype": "text/x-python",
   "name": "python",
   "nbconvert_exporter": "python",
   "pygments_lexer": "ipython3",
   "version": "3.11.6"
  }
 },
 "nbformat": 4,
 "nbformat_minor": 5
}

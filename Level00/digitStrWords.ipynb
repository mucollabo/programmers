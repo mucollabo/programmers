{
  "nbformat": 4,
  "nbformat_minor": 0,
  "metadata": {
    "colab": {
      "name": "digitStrWords.ipynb",
      "provenance": [],
      "authorship_tag": "ABX9TyMHGVPQD6C8Z2+A+0ZVF+RO",
      "include_colab_link": true
    },
    "kernelspec": {
      "name": "python3",
      "display_name": "Python 3"
    },
    "language_info": {
      "name": "python"
    }
  },
  "cells": [
    {
      "cell_type": "markdown",
      "metadata": {
        "id": "view-in-github",
        "colab_type": "text"
      },
      "source": [
        "<a href=\"https://colab.research.google.com/github/mucollabo/programmers/blob/main/digitStrWords.ipynb\" target=\"_parent\"><img src=\"https://colab.research.google.com/assets/colab-badge.svg\" alt=\"Open In Colab\"/></a>"
      ]
    },
    {
      "cell_type": "code",
      "execution_count": 11,
      "metadata": {
        "id": "VAWLpCfxUvVK"
      },
      "outputs": [],
      "source": [
        "def solution(s):\n",
        "  digits = {\"0\" : \"zero\", \"1\" : \"one\", \"2\" : \"two\", \"3\" : \"three\", \"4\" : \"four\", \"5\": \"five\", \"6\" : \"six\", \"7\" : \"seven\", \"8\" : \"eight\", \"9\" : \"nine\"}\n",
        "\n",
        "  for digit, str_digit in digits.items():\n",
        "    if str_digit in s:\n",
        "      s = s.replace(str_digit, digit)\n",
        "\n",
        "  answer = int(s)\n",
        "\n",
        "  return answer\n"
      ]
    },
    {
      "cell_type": "code",
      "source": [
        "solution(\"one4seveneight\")"
      ],
      "metadata": {
        "colab": {
          "base_uri": "https://localhost:8080/"
        },
        "id": "EqqQkLoyYXv4",
        "outputId": "91c243ef-bea2-4452-e039-500a025196b0"
      },
      "execution_count": 12,
      "outputs": [
        {
          "output_type": "execute_result",
          "data": {
            "text/plain": [
              "1478"
            ]
          },
          "metadata": {},
          "execution_count": 12
        }
      ]
    },
    {
      "cell_type": "code",
      "source": [
        "solution(\"23four5six7\")"
      ],
      "metadata": {
        "colab": {
          "base_uri": "https://localhost:8080/"
        },
        "id": "wch0rzMOYbXF",
        "outputId": "9d24511d-0bca-4556-e41b-93fee9ed3c3c"
      },
      "execution_count": 13,
      "outputs": [
        {
          "output_type": "execute_result",
          "data": {
            "text/plain": [
              "234567"
            ]
          },
          "metadata": {},
          "execution_count": 13
        }
      ]
    },
    {
      "cell_type": "code",
      "source": [
        "solution(\"2three45sixseven\")"
      ],
      "metadata": {
        "colab": {
          "base_uri": "https://localhost:8080/"
        },
        "id": "Jtx95shibnEU",
        "outputId": "5438ba4c-cfe2-4874-85d2-b1c70dc37e1e"
      },
      "execution_count": 14,
      "outputs": [
        {
          "output_type": "execute_result",
          "data": {
            "text/plain": [
              "234567"
            ]
          },
          "metadata": {},
          "execution_count": 14
        }
      ]
    },
    {
      "cell_type": "code",
      "source": [
        "solution(\"123\")"
      ],
      "metadata": {
        "colab": {
          "base_uri": "https://localhost:8080/"
        },
        "id": "AL0A4316bqjB",
        "outputId": "5a569592-8d3d-42ba-9995-66878d1103f8"
      },
      "execution_count": 15,
      "outputs": [
        {
          "output_type": "execute_result",
          "data": {
            "text/plain": [
              "123"
            ]
          },
          "metadata": {},
          "execution_count": 15
        }
      ]
    },
    {
      "cell_type": "code",
      "source": [
        ""
      ],
      "metadata": {
        "id": "ZgvIPtuwbtxO"
      },
      "execution_count": null,
      "outputs": []
    }
  ]
}
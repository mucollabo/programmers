{
 "cells": [
  {
   "cell_type": "markdown",
   "id": "2b1e1257-b331-44ad-8779-535494f21d06",
   "metadata": {},
   "source": [
    "# 직각삼각형 출력하기\n",
    "## 문제 설명\n",
    "### \"\\*\"의 높이와 너비를 1이라고 했을 때, \"\\*\"을 이용해 직각 이등변 삼각형을 그리려고합니다. 정수 n 이 주어지면 높이와 너비가 n 인 직각 이등변 삼각형을 출력하도록 코드를 작성해보세요.\n",
    "\n",
    "## 제한사항\n",
    "* 1 ≤ n ≤ 10\n",
    "## 입출력 예\n",
    "## 입력 #1\n",
    "\n",
    "> 3\n",
    "## 출력 #1\n",
    "\n",
    ">\\* <br>\n",
    ">\\** <br>\n",
    ">\\*** <br>\n",
    "\n",
    "## 입출력 예 설명\n",
    "## 입출력 예 #1\n",
    "\n",
    "* n이 3이므로 첫째 줄에 * 1개, 둘째 줄에 * 2개, 셋째 줄에 * 3개를 출력합니다."
   ]
  },
  {
   "cell_type": "code",
   "execution_count": 15,
   "id": "45b359eb-bd29-4d03-92a8-69d580879d06",
   "metadata": {},
   "outputs": [],
   "source": [
    "def solution(n):\n",
    "    for i in range(1, n+1):\n",
    "        for j in range(i):\n",
    "            print('*',end='')\n",
    "        print('\\n')"
   ]
  },
  {
   "cell_type": "code",
   "execution_count": 16,
   "id": "4fe835cd-252b-4dfc-a7db-8740692a0568",
   "metadata": {},
   "outputs": [
    {
     "name": "stdout",
     "output_type": "stream",
     "text": [
      "*\n",
      "\n",
      "**\n",
      "\n",
      "***\n",
      "\n"
     ]
    }
   ],
   "source": [
    "solution(3)"
   ]
  },
  {
   "cell_type": "code",
   "execution_count": 52,
   "id": "c5f5ba63-c474-49a3-adfb-2c3c2c1ee02b",
   "metadata": {},
   "outputs": [
    {
     "name": "stdin",
     "output_type": "stream",
     "text": [
      " 3\n"
     ]
    },
    {
     "name": "stdout",
     "output_type": "stream",
     "text": [
      "*\n",
      "**\n",
      "***\n"
     ]
    }
   ],
   "source": [
    "n = int(input())\n",
    "for i in range(1, n+1):\n",
    "    print('*'*i)"
   ]
  },
  {
   "cell_type": "code",
   "execution_count": null,
   "id": "b9025653-6825-4cc4-9d03-06f75ead2a02",
   "metadata": {},
   "outputs": [],
   "source": [
    "n = int(input())\n",
    "\n",
    "print(n)"
   ]
  }
 ],
 "metadata": {
  "kernelspec": {
   "display_name": "Python 3 (ipykernel)",
   "language": "python",
   "name": "python3"
  },
  "language_info": {
   "codemirror_mode": {
    "name": "ipython",
    "version": 3
   },
   "file_extension": ".py",
   "mimetype": "text/x-python",
   "name": "python",
   "nbconvert_exporter": "python",
   "pygments_lexer": "ipython3",
   "version": "3.10.6"
  }
 },
 "nbformat": 4,
 "nbformat_minor": 5
}

{
 "cells": [
  {
   "cell_type": "markdown",
   "id": "ed30a8e8-8865-4ae9-a574-7b2cc34e3b15",
   "metadata": {},
   "source": [
    "# 순서쌍의 개수\n",
    "## 문제 설명\n",
    "### 순서쌍이란 두 개의 숫자를 순서를 정하여 짝지어 나타낸 쌍으로 (a, b)로 표기합니다. 자연수 n이 매개변수로 주어질 때 두 숫자의 곱이 n인 자연수 순서쌍의 개수를 return하도록 solution 함수를 완성해주세요.\n",
    "\n",
    "## 제한사항\n",
    "* 1 ≤ n ≤ 1,000,000\n",
    "## 입출력 예\n",
    "|n|result|\n",
    "|-|------|\n",
    "|20|6|\n",
    "|100|9|\n",
    "## 입출력 예 설명\n",
    "## 입출력 예 #1\n",
    "\n",
    "* n이 20 이므로 곱이 20인 순서쌍은 (1, 20), (2, 10), (4, 5), (5, 4), (10, 2), (20, 1) 이므로 6을 return합니다.\n",
    "## 입출력 예 #2\n",
    "\n",
    "* n이 100 이므로 곱이 100인 순서쌍은 (1, 100), (2, 50), (4, 25), (5, 20), (10, 10), (20, 5), (25, 4), (50, 2), (100, 1) 이므로 9를 return합니다."
   ]
  },
  {
   "cell_type": "code",
   "execution_count": 2,
   "id": "95e3aadd-b0e5-45b9-8424-18dbc1636fff",
   "metadata": {},
   "outputs": [],
   "source": [
    "def solution(n):\n",
    "    cnt = 0\n",
    "    for i in range(1, n+1):\n",
    "        if n%i == 0:\n",
    "            cnt+=1\n",
    "    return cnt"
   ]
  },
  {
   "cell_type": "code",
   "execution_count": 3,
   "id": "bf2d8204-3d96-461b-b183-5e1a0679b8cd",
   "metadata": {},
   "outputs": [
    {
     "data": {
      "text/plain": [
       "6"
      ]
     },
     "execution_count": 3,
     "metadata": {},
     "output_type": "execute_result"
    }
   ],
   "source": [
    "solution(20)"
   ]
  },
  {
   "cell_type": "code",
   "execution_count": 4,
   "id": "e2b85343-b684-4d1b-82f8-121ab058963e",
   "metadata": {},
   "outputs": [
    {
     "data": {
      "text/plain": [
       "9"
      ]
     },
     "execution_count": 4,
     "metadata": {},
     "output_type": "execute_result"
    }
   ],
   "source": [
    "solution(100)"
   ]
  },
  {
   "cell_type": "code",
   "execution_count": 22,
   "id": "73f43eb0-eed0-440e-906e-0ce713e3f9cb",
   "metadata": {},
   "outputs": [],
   "source": [
    "def solution2(n):\n",
    "    return len([i for i in range(1, n+1) if n%i == 0])"
   ]
  },
  {
   "cell_type": "code",
   "execution_count": 23,
   "id": "e426c115-7270-405a-af0a-bcddc76173e0",
   "metadata": {},
   "outputs": [
    {
     "data": {
      "text/plain": [
       "6"
      ]
     },
     "execution_count": 23,
     "metadata": {},
     "output_type": "execute_result"
    }
   ],
   "source": [
    "solution2(20)"
   ]
  },
  {
   "cell_type": "code",
   "execution_count": 24,
   "id": "5c05dc3f-0bb5-474b-9bd5-84cefaf30c29",
   "metadata": {},
   "outputs": [
    {
     "data": {
      "text/plain": [
       "9"
      ]
     },
     "execution_count": 24,
     "metadata": {},
     "output_type": "execute_result"
    }
   ],
   "source": [
    "solution(100)"
   ]
  },
  {
   "cell_type": "code",
   "execution_count": null,
   "id": "bd9cbcb9-5abc-4795-ba18-f48e14439a47",
   "metadata": {},
   "outputs": [],
   "source": []
  }
 ],
 "metadata": {
  "kernelspec": {
   "display_name": "Python 3 (ipykernel)",
   "language": "python",
   "name": "python3"
  },
  "language_info": {
   "codemirror_mode": {
    "name": "ipython",
    "version": 3
   },
   "file_extension": ".py",
   "mimetype": "text/x-python",
   "name": "python",
   "nbconvert_exporter": "python",
   "pygments_lexer": "ipython3",
   "version": "3.10.6"
  }
 },
 "nbformat": 4,
 "nbformat_minor": 5
}

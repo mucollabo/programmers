{
 "cells": [
  {
   "cell_type": "markdown",
   "id": "fe2bbecb-0e77-4607-8dbb-32a74bd3f50e",
   "metadata": {},
   "source": [
    "### 문제 설명\n",
    "\n",
    "문자들이 담겨있는 배열 arr가 주어집니다. arr의 원소들을 순서대로 이어 붙인 문자열을 return 하는 solution함수를 작성해 주세요.\n",
    "### 제한사항\n",
    "* 1 ≤ arr의 길이 ≤ 200\n",
    "* arr의 원소는 전부 알파벳 소문자로 이루어진 길이가 1인 문자열입니다.\n",
    "### 입출력 예\n",
    "|arr|result|\n",
    "|---|------|\n",
    "|[\"a\",\"b\",\"c\"]|\"abc\"|"
   ]
  },
  {
   "cell_type": "code",
   "execution_count": 1,
   "id": "646e14ea-db25-4fc4-96a5-d745c9778f6c",
   "metadata": {},
   "outputs": [],
   "source": [
    "def solution(arr):\n",
    "    return ''.join(arr)"
   ]
  },
  {
   "cell_type": "code",
   "execution_count": 3,
   "id": "e0760d84-3d87-48ef-84b8-517ade7d1f8d",
   "metadata": {},
   "outputs": [
    {
     "data": {
      "text/plain": [
       "'abc'"
      ]
     },
     "execution_count": 3,
     "metadata": {},
     "output_type": "execute_result"
    }
   ],
   "source": [
    "solution(['a', 'b', 'c'])"
   ]
  },
  {
   "cell_type": "code",
   "execution_count": null,
   "id": "183398ca-0436-463f-b434-45774af49af5",
   "metadata": {},
   "outputs": [],
   "source": []
  }
 ],
 "metadata": {
  "kernelspec": {
   "display_name": "Python 3 (ipykernel)",
   "language": "python",
   "name": "python3"
  },
  "language_info": {
   "codemirror_mode": {
    "name": "ipython",
    "version": 3
   },
   "file_extension": ".py",
   "mimetype": "text/x-python",
   "name": "python",
   "nbconvert_exporter": "python",
   "pygments_lexer": "ipython3",
   "version": "3.11.6"
  }
 },
 "nbformat": 4,
 "nbformat_minor": 5
}

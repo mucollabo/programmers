{
 "cells": [
  {
   "cell_type": "markdown",
   "id": "91508fe2-3c22-4cfb-be8a-4477b72b7813",
   "metadata": {},
   "source": [
    "# 세균 증식\n",
    "## 문제 설명\n",
    "### 어떤 세균은 1시간에 두배만큼 증식한다고 합니다. 처음 세균의 마리수 n과 경과한 시간 t가 매개변수로 주어질 때 t시간 후 세균의 수를 return하도록 solution 함수를 완성해주세요.\n",
    "\n",
    "## 제한사항\n",
    "* 1 ≤ n ≤ 10\n",
    "* 1 ≤ t ≤ 15\n",
    "## 입출력 예\n",
    "|n|t|result|\n",
    "|-|-|------|\n",
    "|2|10|2048|\n",
    "|7|15|229,376|\n",
    "## 입출력 예 설명\n",
    "## 입출력 예 #1\n",
    "\n",
    "* 처음엔 2마리, 1시간 후엔 4마리, 2시간 후엔 8마리, ..., 10시간 후엔 2048마리가 됩니다. 따라서 2048을 return합니다.\n",
    "## 입출력 예 #2\n",
    "\n",
    "* 처음엔 7마리, 1시간 후엔 14마리, 2시간 후엔 28마리, ..., 15시간 후엔 229376마리가 됩니다. 따라서 229,376을 return합니다."
   ]
  },
  {
   "cell_type": "code",
   "execution_count": 19,
   "id": "b2828372-7e51-4e57-9508-4741179c731d",
   "metadata": {},
   "outputs": [],
   "source": [
    "def solution(n, t):\n",
    "    for _ in range(t):\n",
    "        n *= 2\n",
    "    return n"
   ]
  },
  {
   "cell_type": "code",
   "execution_count": 20,
   "id": "2ca7d867-7b8c-4e77-8b0e-d1570811ad7f",
   "metadata": {},
   "outputs": [
    {
     "data": {
      "text/plain": [
       "2048"
      ]
     },
     "execution_count": 20,
     "metadata": {},
     "output_type": "execute_result"
    }
   ],
   "source": [
    "solution(2, 10)"
   ]
  },
  {
   "cell_type": "code",
   "execution_count": 21,
   "id": "86a5e859-cafe-4d22-b930-4b312f439f1e",
   "metadata": {},
   "outputs": [
    {
     "data": {
      "text/plain": [
       "229376"
      ]
     },
     "execution_count": 21,
     "metadata": {},
     "output_type": "execute_result"
    }
   ],
   "source": [
    "solution(7, 15)"
   ]
  },
  {
   "cell_type": "code",
   "execution_count": null,
   "id": "3b75676c-b277-42bb-9a6f-c565612e85c1",
   "metadata": {},
   "outputs": [],
   "source": []
  }
 ],
 "metadata": {
  "kernelspec": {
   "display_name": "Python 3 (ipykernel)",
   "language": "python",
   "name": "python3"
  },
  "language_info": {
   "codemirror_mode": {
    "name": "ipython",
    "version": 3
   },
   "file_extension": ".py",
   "mimetype": "text/x-python",
   "name": "python",
   "nbconvert_exporter": "python",
   "pygments_lexer": "ipython3",
   "version": "3.10.6"
  }
 },
 "nbformat": 4,
 "nbformat_minor": 5
}

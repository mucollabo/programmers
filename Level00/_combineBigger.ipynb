{
 "cells": [
  {
   "cell_type": "markdown",
   "id": "c19a8497-6de7-4e1f-a3ca-362fb79ec54f",
   "metadata": {},
   "source": [
    "## 더 크게 합치기\n",
    "### 문제 설명\n",
    "#### 연산 ⊕는 두 정수에 대한 연산으로 두 정수를 붙여서 쓴 값을 반환합니다. 예를 들면 다음과 같습니다.\n",
    "\n",
    "* 12 ⊕ 3 = 123\n",
    "* 3 ⊕ 12 = 312\n",
    "#### 양의 정수 a와 b가 주어졌을 때, a ⊕ b와 b ⊕ a 중 더 큰 값을 return 하는 solution 함수를 완성해 주세요.\n",
    "\n",
    "#### 단, a ⊕ b와 b ⊕ a가 같다면 a ⊕ b를 return 합니다.\n",
    "\n",
    "### 제한사항\n",
    "* 1 ≤ a, b < 10,000\n",
    "### 입출력 예\n",
    "|a|b|result|\n",
    "|--|--|------|\n",
    "|9|91|991|\n",
    "|89|8|898|\n",
    "### 입출력 예 설명\n",
    "#### 입출력 예 #1\n",
    "\n",
    "* a ⊕ b = 991 이고, b ⊕ a = 919 입니다. 둘 중 더 큰 값은 991 이므로 991을 return 합니다.\n",
    "#### 입출력 예 #2\n",
    "\n",
    "* a ⊕ b = 898 이고, b ⊕ a = 889 입니다. 둘 중 더 큰 값은 898 이므로 898을 return 합니다."
   ]
  },
  {
   "cell_type": "code",
   "execution_count": 1,
   "id": "0a322449-1da7-4103-993d-e15092123a30",
   "metadata": {},
   "outputs": [],
   "source": [
    "def solution(a, b):\n",
    "    f = int(str(a) + str(b))\n",
    "    l = int(str(b) + str(a))\n",
    "    return f if f >= l else l"
   ]
  },
  {
   "cell_type": "code",
   "execution_count": 2,
   "id": "2e5efb56-cd9a-401f-9872-27293f139a78",
   "metadata": {},
   "outputs": [
    {
     "data": {
      "text/plain": [
       "991"
      ]
     },
     "execution_count": 2,
     "metadata": {},
     "output_type": "execute_result"
    }
   ],
   "source": [
    "solution(9, 91)"
   ]
  },
  {
   "cell_type": "code",
   "execution_count": 3,
   "id": "90dce30a-0fa4-4e3f-9775-6e41dcd12859",
   "metadata": {},
   "outputs": [
    {
     "data": {
      "text/plain": [
       "898"
      ]
     },
     "execution_count": 3,
     "metadata": {},
     "output_type": "execute_result"
    }
   ],
   "source": [
    "solution(89, 8)"
   ]
  },
  {
   "cell_type": "code",
   "execution_count": 4,
   "id": "35b4da6c-5d1b-4492-b963-125f5f781334",
   "metadata": {},
   "outputs": [],
   "source": [
    "def solution2(a, b):\n",
    "    a, b = str(a), str(b)\n",
    "    return max(int(a+b), int(b+a))"
   ]
  },
  {
   "cell_type": "code",
   "execution_count": 5,
   "id": "8add8a8c-d2f5-4bee-b708-34cb6c079509",
   "metadata": {},
   "outputs": [
    {
     "data": {
      "text/plain": [
       "991"
      ]
     },
     "execution_count": 5,
     "metadata": {},
     "output_type": "execute_result"
    }
   ],
   "source": [
    "solution2(9, 91)"
   ]
  },
  {
   "cell_type": "code",
   "execution_count": 6,
   "id": "9308b67c-6e48-4dc0-99cd-4a466e6de987",
   "metadata": {},
   "outputs": [
    {
     "data": {
      "text/plain": [
       "898"
      ]
     },
     "execution_count": 6,
     "metadata": {},
     "output_type": "execute_result"
    }
   ],
   "source": [
    "solution2(89, 8)"
   ]
  },
  {
   "cell_type": "code",
   "execution_count": null,
   "id": "f9949f5e-647f-4199-8602-340e36471290",
   "metadata": {},
   "outputs": [],
   "source": []
  }
 ],
 "metadata": {
  "kernelspec": {
   "display_name": "Python 3 (ipykernel)",
   "language": "python",
   "name": "python3"
  },
  "language_info": {
   "codemirror_mode": {
    "name": "ipython",
    "version": 3
   },
   "file_extension": ".py",
   "mimetype": "text/x-python",
   "name": "python",
   "nbconvert_exporter": "python",
   "pygments_lexer": "ipython3",
   "version": "3.11.6"
  }
 },
 "nbformat": 4,
 "nbformat_minor": 5
}

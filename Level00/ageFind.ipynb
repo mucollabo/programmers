{
 "cells": [
  {
   "cell_type": "code",
   "execution_count": 1,
   "id": "654d9dd3-962f-44b9-9225-b68079f9178d",
   "metadata": {},
   "outputs": [],
   "source": [
    "def solution(age):\n",
    "    return 2022 - age + 1"
   ]
  },
  {
   "cell_type": "code",
   "execution_count": 2,
   "id": "42fd7fe0-a790-4cc5-bc31-87565d4137fe",
   "metadata": {},
   "outputs": [
    {
     "data": {
      "text/plain": [
       "1983"
      ]
     },
     "execution_count": 2,
     "metadata": {},
     "output_type": "execute_result"
    }
   ],
   "source": [
    "solution(40)"
   ]
  },
  {
   "cell_type": "code",
   "execution_count": 3,
   "id": "e3940d17-2b84-4576-9370-380f1a648442",
   "metadata": {},
   "outputs": [
    {
     "data": {
      "text/plain": [
       "2000"
      ]
     },
     "execution_count": 3,
     "metadata": {},
     "output_type": "execute_result"
    }
   ],
   "source": [
    "solution(23)"
   ]
  },
  {
   "cell_type": "code",
   "execution_count": 4,
   "id": "fb0e693e-3f74-4044-97d2-c40ca030c395",
   "metadata": {},
   "outputs": [
    {
     "data": {
      "text/plain": [
       "1976"
      ]
     },
     "execution_count": 4,
     "metadata": {},
     "output_type": "execute_result"
    }
   ],
   "source": [
    "solution(47)"
   ]
  },
  {
   "cell_type": "code",
   "execution_count": null,
   "id": "3b7f7cbc-59bc-490a-afe3-3d3de77f463e",
   "metadata": {},
   "outputs": [],
   "source": []
  }
 ],
 "metadata": {
  "kernelspec": {
   "display_name": "Python 3 (ipykernel)",
   "language": "python",
   "name": "python3"
  },
  "language_info": {
   "codemirror_mode": {
    "name": "ipython",
    "version": 3
   },
   "file_extension": ".py",
   "mimetype": "text/x-python",
   "name": "python",
   "nbconvert_exporter": "python",
   "pygments_lexer": "ipython3",
   "version": "3.10.6"
  }
 },
 "nbformat": 4,
 "nbformat_minor": 5
}

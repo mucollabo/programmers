{
 "cells": [
  {
   "cell_type": "markdown",
   "metadata": {},
   "source": [
    "### 문제 설명\n",
    "두 정수 q, r과 문자열 code가 주어질 때, code의 각 인덱스를 q로 나누었을 때 나머지가 r인 위치의 문자를 앞에서부터 순서대로 이어 붙인 문자열을 return 하는 solution 함수를 작성해 주세요.\n",
    "\n",
    "### 제한사항\n",
    "* 0 ≤ r < q ≤ 20\n",
    "* r < code의 길이 ≤ 1,000\n",
    "* code는 영소문자로만 이루어져 있습니다.\n",
    "### 입출력 예\n",
    "|q|r|code|result|\n",
    "|-|-|----|------|\n",
    "|3|1|\"qjnwezgrpirldywt\"|\"jerry\"|\n",
    "|1|0|\"programmers\"|\"programmers\"|\n",
    "\n",
    "### 입출력 예 설명\n",
    "#### 입출력 예 #1\n",
    "\n",
    "* 예제 1번의 q와 r은 각각 3, 1이고 인덱스와 그 값을 q로 나눈 나머지가 잘 보이도록 표로 만들면 다음과 같습니다.\n",
    "\n",
    "|code|q|j|n|w|e|z|g|r|p|i|r|l|d|y|w|t|\n",
    "|-----|-|-|-|-|-|-|-|-|-|-|--|--|--|--|--|--|\n",
    "|index|0|1|2|3|4|5|6|7|8|9|10|11|12|13|14|15|\n",
    "|q로 나눈 나머지|0|1|2|0|1|2|0|1|2|0|1|2|0|1|2|0|\n",
    "\n",
    "* `q`로 나눈 나머지가 1인 인덱스의 문자들을 앞에서부터 순서대로 이어 붙이면 \"jerry\"가 되므로 이를 return 합니다.\n",
    "\n",
    "####입출력 예 #2\n",
    "\n",
    "* 예제 2번의 q와 r은 각각 1, 0이고 인덱스와 그 값을 q로 나눈 나머지가 잘 보이도록 표로 만들면 다음과 같습니다.\n",
    "\n",
    "|code|p|r|o|g|r|a|m|m|e|r|s|\n",
    "|------|-|-|-|-|-|-|-|-|-|-|-|\n",
    "|index|0|1|2|3|4|5|6|7|8|9|10|\n",
    "|q로 나눈 나머지|0|0|0|0|0|0|0|0|0|0|0|\n",
    "\n",
    "* `q`로 나눈 나머지가 1인 인덱스의 문자들을 앞에서부터 순서대로 이어 붙이면 \"programmers\"가 되므로 이를 return 합니다."
   ]
  },
  {
   "cell_type": "code",
   "execution_count": 19,
   "metadata": {},
   "outputs": [],
   "source": [
    "def solution(q, r, code):\n",
    "    result = ''\n",
    "    for i, c in enumerate(code):\n",
    "        if i%q == r:\n",
    "            result += c\n",
    "    return result"
   ]
  },
  {
   "cell_type": "code",
   "execution_count": 20,
   "metadata": {},
   "outputs": [
    {
     "data": {
      "text/plain": [
       "'jerry'"
      ]
     },
     "execution_count": 20,
     "metadata": {},
     "output_type": "execute_result"
    }
   ],
   "source": [
    "solution(3, 1, \"qjnwezgrpirldywt\")"
   ]
  },
  {
   "cell_type": "code",
   "execution_count": 21,
   "metadata": {},
   "outputs": [
    {
     "data": {
      "text/plain": [
       "'programmers'"
      ]
     },
     "execution_count": 21,
     "metadata": {},
     "output_type": "execute_result"
    }
   ],
   "source": [
    "solution(1,\t0,\t\"programmers\")"
   ]
  },
  {
   "cell_type": "code",
   "execution_count": 22,
   "metadata": {},
   "outputs": [],
   "source": [
    "def solution2(q, r, code):\n",
    "    return ''.join(c for i, c in enumerate(code) if i%q == r)"
   ]
  },
  {
   "cell_type": "code",
   "execution_count": 23,
   "metadata": {},
   "outputs": [
    {
     "data": {
      "text/plain": [
       "'jerry'"
      ]
     },
     "execution_count": 23,
     "metadata": {},
     "output_type": "execute_result"
    }
   ],
   "source": [
    "solution2(3, 1, \"qjnwezgrpirldywt\")"
   ]
  },
  {
   "cell_type": "code",
   "execution_count": 24,
   "metadata": {},
   "outputs": [
    {
     "data": {
      "text/plain": [
       "'programmers'"
      ]
     },
     "execution_count": 24,
     "metadata": {},
     "output_type": "execute_result"
    }
   ],
   "source": [
    "solution2(1,\t0,\t\"programmers\")"
   ]
  },
  {
   "cell_type": "code",
   "execution_count": null,
   "metadata": {},
   "outputs": [],
   "source": []
  }
 ],
 "metadata": {
  "kernelspec": {
   "display_name": "Python 3",
   "language": "python",
   "name": "python3"
  },
  "language_info": {
   "codemirror_mode": {
    "name": "ipython",
    "version": 3
   },
   "file_extension": ".py",
   "mimetype": "text/x-python",
   "name": "python",
   "nbconvert_exporter": "python",
   "pygments_lexer": "ipython3",
   "version": "3.12.1"
  }
 },
 "nbformat": 4,
 "nbformat_minor": 2
}

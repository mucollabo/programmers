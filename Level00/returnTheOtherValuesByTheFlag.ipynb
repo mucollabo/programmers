{
 "cells": [
  {
   "cell_type": "markdown",
   "id": "e293cbb1-c7af-4da7-a839-ab631cc60db6",
   "metadata": {},
   "source": [
    "## flag에 따라 다른 값 반환하기\n",
    "### 문제 설명\n",
    "#### 두 정수 a, b와 boolean 변수 flag가 매개변수로 주어질 때, flag가 true면 a + b를 false면 a - b를 return 하는 solution 함수를 작성해 주세요.\n",
    "\n",
    "### 제한사항\n",
    "* -1,000 ≤ a, b ≤ 1,000\n",
    "### 입출력 예\n",
    "|a|b|flag|result|\n",
    "|--|--|----|-----|\n",
    "|-4|7|true|3|\n",
    "|-4|7|false|-11|\n",
    "\n",
    "### 입출력 예\n",
    "#### 입출력 예 #1\n",
    "\n",
    "* 예제 1번에서 flag가 true이므로 a + b = (-4) + 7 = 3을 return 합니다.\n",
    "#### 입출력 예 #2\n",
    "\n",
    "* 예제 2번에서 flag가 false이므로 a - b = (-4) - 7 = -11을 return 합니다."
   ]
  },
  {
   "cell_type": "code",
   "execution_count": 11,
   "id": "e5147a79-52ac-48c7-8af7-5f2072abbc64",
   "metadata": {},
   "outputs": [],
   "source": [
    "def solution(a, b, flag):\n",
    "    return a + b if flag == True else a - b"
   ]
  },
  {
   "cell_type": "code",
   "execution_count": 12,
   "id": "c4a3b9ed-46d7-4bbe-b95f-aedfffddc107",
   "metadata": {},
   "outputs": [
    {
     "data": {
      "text/plain": [
       "3"
      ]
     },
     "execution_count": 12,
     "metadata": {},
     "output_type": "execute_result"
    }
   ],
   "source": [
    "solution(-4, 7, True)"
   ]
  },
  {
   "cell_type": "code",
   "execution_count": 13,
   "id": "c12c5616-6e0b-4f6f-b545-70c5c2786f02",
   "metadata": {},
   "outputs": [
    {
     "data": {
      "text/plain": [
       "-11"
      ]
     },
     "execution_count": 13,
     "metadata": {},
     "output_type": "execute_result"
    }
   ],
   "source": [
    "solution(-4, 7, False)"
   ]
  },
  {
   "cell_type": "code",
   "execution_count": null,
   "id": "141d3b84-d2f8-4905-8660-0cded886d9f7",
   "metadata": {},
   "outputs": [],
   "source": []
  }
 ],
 "metadata": {
  "kernelspec": {
   "display_name": "Python 3 (ipykernel)",
   "language": "python",
   "name": "python3"
  },
  "language_info": {
   "codemirror_mode": {
    "name": "ipython",
    "version": 3
   },
   "file_extension": ".py",
   "mimetype": "text/x-python",
   "name": "python",
   "nbconvert_exporter": "python",
   "pygments_lexer": "ipython3",
   "version": "3.11.6"
  }
 },
 "nbformat": 4,
 "nbformat_minor": 5
}

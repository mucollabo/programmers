{
 "cells": [
  {
   "cell_type": "markdown",
   "id": "03ab7f2b-d033-4040-9026-dd4067c20a45",
   "metadata": {},
   "source": [
    "# A로 B 만들기\n",
    "## 문제 설명\n",
    "### 문자열 before와 after가 매개변수로 주어질 때, before의 순서를 바꾸어 after를 만들 수 있으면 1을, 만들 수 없으면 0을 return 하도록 solution 함수를 완성해보세요.\n",
    "\n",
    "## 제한사항\n",
    "* 0 < before의 길이 == after의 길이 < 1,000\n",
    "* before와 after는 모두 소문자로 이루어져 있습니다.\n",
    "## 입출력 예\n",
    "|before|after|result|\n",
    "|------|-----|------|\n",
    "|\"olleh\"|\"hello\"|1|\n",
    "|\"allpe\"|\"apple\"|0|\n",
    "## 입출력 예 설명\n",
    "## 입출력 예 #1\n",
    "\n",
    "* \"olleh\"의 순서를 바꾸면 \"hello\"를 만들 수 있습니다.\n",
    "## 입출력 예 #2\n",
    "\n",
    "* \"allpe\"의 순서를 바꿔도 \"apple\"을 만들 수 없습니다."
   ]
  },
  {
   "cell_type": "code",
   "execution_count": 5,
   "id": "ed21c7e7-49f8-4946-957d-cfd7664313a8",
   "metadata": {},
   "outputs": [],
   "source": [
    "def solution(before, after):\n",
    "    return 1 if sorted(before) == sorted(after) else 0"
   ]
  },
  {
   "cell_type": "code",
   "execution_count": 6,
   "id": "aa8fdb9a-9699-4e23-86b6-bf727ea9059e",
   "metadata": {},
   "outputs": [
    {
     "data": {
      "text/plain": [
       "1"
      ]
     },
     "execution_count": 6,
     "metadata": {},
     "output_type": "execute_result"
    }
   ],
   "source": [
    "solution(\"olleh\",\"hello\")"
   ]
  },
  {
   "cell_type": "code",
   "execution_count": 7,
   "id": "de66d1f6-ffaa-4906-8c06-5f56ad55fae8",
   "metadata": {},
   "outputs": [
    {
     "data": {
      "text/plain": [
       "0"
      ]
     },
     "execution_count": 7,
     "metadata": {},
     "output_type": "execute_result"
    }
   ],
   "source": [
    "solution(\"allpe\",\"apple\")"
   ]
  },
  {
   "cell_type": "code",
   "execution_count": null,
   "id": "e2338ff7-ae96-4c71-b3ae-168635b00b9c",
   "metadata": {},
   "outputs": [],
   "source": []
  }
 ],
 "metadata": {
  "kernelspec": {
   "display_name": "Python 3 (ipykernel)",
   "language": "python",
   "name": "python3"
  },
  "language_info": {
   "codemirror_mode": {
    "name": "ipython",
    "version": 3
   },
   "file_extension": ".py",
   "mimetype": "text/x-python",
   "name": "python",
   "nbconvert_exporter": "python",
   "pygments_lexer": "ipython3",
   "version": "3.10.6"
  }
 },
 "nbformat": 4,
 "nbformat_minor": 5
}

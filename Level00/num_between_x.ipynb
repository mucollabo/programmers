{
 "cells": [
  {
   "cell_type": "markdown",
   "id": "9901d370-588b-46b4-a698-80b611da0036",
   "metadata": {},
   "source": [
    "### 문제 설명\n",
    "\n",
    "문자열 myString이 주어집니다. myString을 문자 \"x\"를 기준으로 나눴을 때 나눠진 문자열 각각의 길이를 순서대로 저장한 배열을 return 하는 solution 함수를 완성해 주세요.\n",
    "### 제한사항\n",
    "* 1 ≤ myString의 길이 ≤ 100,000\n",
    "  * myString은 알파벳 소문자로 이루어진 문자열입니다.\n",
    "### 입출력 예\n",
    "|myString|result|\n",
    "|--------|------|\n",
    "|\"oxooxoxxox\"|[1, 2, 1, 0, 1, 0]|\n",
    "|\"xabcxdefxghi\"|[0, 3, 3, 3]|\n",
    "### 입출력 예 설명\n",
    "#### 입출력 예 #1\n",
    "* \"x\"를 기준으로 문자열을 나누면 [\"o\", \"oo\", \"o\", \"\", \"o\", \"\"]가 됩니다. 각각의 길이로 배열을 만들면 [1, 2, 1, 0, 1, 0]입니다. 따라서 [1, 2, 1, 0, 1, 0]을 return 합니다.\n",
    "#### 입출력 예 #2\n",
    "* \"x\"를 기준으로 문자열을 나누면 [\"\", \"abc\", \"def\", \"ghi\"]가 됩니다. 각각의 길이로 배열을 만들면 [0, 3, 3, 3]입니다. 따라서 [0, 3, 3, 3]을 return 합니다."
   ]
  },
  {
   "cell_type": "code",
   "execution_count": 3,
   "id": "916016cd-776b-4330-8190-f6a01c4891aa",
   "metadata": {},
   "outputs": [],
   "source": [
    "def solution(myString):\n",
    "    return [len(e) for e in myString.split('x')]"
   ]
  },
  {
   "cell_type": "code",
   "execution_count": 4,
   "id": "a1498a5e-6a77-4356-a0a2-8562a8645acf",
   "metadata": {},
   "outputs": [
    {
     "data": {
      "text/plain": [
       "[1, 2, 1, 0, 1, 0]"
      ]
     },
     "execution_count": 4,
     "metadata": {},
     "output_type": "execute_result"
    }
   ],
   "source": [
    "solution(\"oxooxoxxox\")"
   ]
  },
  {
   "cell_type": "code",
   "execution_count": 5,
   "id": "2c329f2f-bdd9-4a6b-831e-2dddffe6f021",
   "metadata": {},
   "outputs": [
    {
     "data": {
      "text/plain": [
       "[0, 3, 3, 3]"
      ]
     },
     "execution_count": 5,
     "metadata": {},
     "output_type": "execute_result"
    }
   ],
   "source": [
    "solution(\"xabcxdefxghi\")"
   ]
  },
  {
   "cell_type": "code",
   "execution_count": null,
   "id": "ccc4ee13-ce19-4c1c-871a-fce7857fc509",
   "metadata": {},
   "outputs": [],
   "source": []
  }
 ],
 "metadata": {
  "kernelspec": {
   "display_name": "Python 3 (ipykernel)",
   "language": "python",
   "name": "python3"
  },
  "language_info": {
   "codemirror_mode": {
    "name": "ipython",
    "version": 3
   },
   "file_extension": ".py",
   "mimetype": "text/x-python",
   "name": "python",
   "nbconvert_exporter": "python",
   "pygments_lexer": "ipython3",
   "version": "3.11.6"
  }
 },
 "nbformat": 4,
 "nbformat_minor": 5
}

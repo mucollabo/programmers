{
 "cells": [
  {
   "cell_type": "markdown",
   "id": "29a01b91-bfcf-4856-87b5-3b08c0755220",
   "metadata": {},
   "source": [
    "## 문자열 뒤의 n글자\n",
    "### 문제 설명\n",
    "#### 문자열 my_string과 정수 n이 매개변수로 주어질 때, my_string의 뒤의 n글자로 이루어진 문자열을 return 하는 solution 함수를 작성해 주세요.\n",
    "\n",
    "### 제한사항\n",
    "* my_string은 숫자와 알파벳으로 이루어져 있습니다.\n",
    "* 1 ≤ my_string의 길이 ≤ 1,000\n",
    "* 1 ≤ n ≤ my_string의 길이\n",
    "### 입출력 예\n",
    "|my_string|n|result|\n",
    "|----------|--|-------|\n",
    "|\"ProgrammerS123\"|11|\"grammerS123\"|\n",
    "|\"He110W0r1d\"|5|\"W0r1d\"|\n",
    "\n",
    "### 입출력 예\n",
    "#### 입출력 예 #1\n",
    "\n",
    "* 예제 1번의 my_string에서 뒤의 11글자는 \"grammerS123\"이므로 이 문자열을 return 합니다.\n",
    "#### 입출력 예 #2\n",
    "\n",
    "* 예제 2번의 my_string에서 뒤의 5글자는 \"W0r1d\"이므로 이 문자열을 return 합니다."
   ]
  },
  {
   "cell_type": "code",
   "execution_count": 4,
   "id": "e7771ab9-c9df-41fa-afc5-cef9f78f4c48",
   "metadata": {},
   "outputs": [],
   "source": [
    "def solution(my_string, n):\n",
    "    return my_string[-n:]"
   ]
  },
  {
   "cell_type": "code",
   "execution_count": 5,
   "id": "85b50bad-e6dd-412b-b963-b6a71f76f2ef",
   "metadata": {},
   "outputs": [
    {
     "data": {
      "text/plain": [
       "'grammerS123'"
      ]
     },
     "execution_count": 5,
     "metadata": {},
     "output_type": "execute_result"
    }
   ],
   "source": [
    "solution(\"ProgrammerS123\", 11)"
   ]
  },
  {
   "cell_type": "code",
   "execution_count": 7,
   "id": "26da4ec6-29e3-4798-822e-7ef171d60737",
   "metadata": {},
   "outputs": [
    {
     "data": {
      "text/plain": [
       "'W0r1d'"
      ]
     },
     "execution_count": 7,
     "metadata": {},
     "output_type": "execute_result"
    }
   ],
   "source": [
    "solution(\"He110W0r1d\", 5)"
   ]
  },
  {
   "cell_type": "code",
   "execution_count": null,
   "id": "4f8e95ab-0c90-4c9d-a723-48ebcff87475",
   "metadata": {},
   "outputs": [],
   "source": []
  }
 ],
 "metadata": {
  "kernelspec": {
   "display_name": "Python 3 (ipykernel)",
   "language": "python",
   "name": "python3"
  },
  "language_info": {
   "codemirror_mode": {
    "name": "ipython",
    "version": 3
   },
   "file_extension": ".py",
   "mimetype": "text/x-python",
   "name": "python",
   "nbconvert_exporter": "python",
   "pygments_lexer": "ipython3",
   "version": "3.11.6"
  }
 },
 "nbformat": 4,
 "nbformat_minor": 5
}

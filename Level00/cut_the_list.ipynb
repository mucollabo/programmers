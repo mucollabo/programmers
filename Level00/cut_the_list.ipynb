{
 "cells": [
  {
   "cell_type": "markdown",
   "metadata": {},
   "source": [
    "### 문제 설명\n",
    "정수 n과 정수 3개가 담긴 리스트 slicer 그리고 정수 여러 개가 담긴 리스트 num_list가 주어집니다. slicer에 담긴 정수를 차례대로 a, b, c라고 할 때, n에 따라 다음과 같이 num_list를 슬라이싱 하려고 합니다.\n",
    "\n",
    "* n = 1 : num_list의 0번 인덱스부터 b번 인덱스까지\n",
    "* n = 2 : num_list의 a번 인덱스부터 마지막 인덱스까지\n",
    "* n = 3 : num_list의 a번 인덱스부터 b번 인덱스까지\n",
    "* n = 4 : num_list의 a번 인덱스부터 b번 인덱스까지 c 간격으로\n",
    "\n",
    "올바르게 슬라이싱한 리스트를 return하도록 solution 함수를 완성해주세요.\n",
    "\n",
    "### 제한사항\n",
    "* n 은 1, 2, 3, 4 중 하나입니다.\n",
    "* slicer의 길이 = 3\n",
    "* slicer에 담긴 정수를 차례대로 a, b, c라고 할 때\n",
    "\n",
    "  * 0 ≤ a ≤ b ≤ num_list의 길이 - 1\n",
    "  * 1 ≤ c ≤ 3\n",
    "* 5 ≤ num_list의 길이 ≤ 30\n",
    "* 0 ≤ num_list의 원소 ≤ 100\n",
    "\n",
    "### 입출력 예\n",
    "|n|slicer|num_list|result|\n",
    "|-|------|--------|-------|\n",
    "|3|[1, 5, 2]|[1, 2, 3, 4, 5, 6, 7, 8, 9]|[2, 3, 4, 5, 6]|\n",
    "|4|[1, 5, 2]|[1, 2, 3, 4, 5, 6, 7, 8, 9]|[2, 4, 6]|\n",
    "\n",
    "### 입출력 예 설명\n",
    "#### 입출력 예 #1\n",
    "\n",
    "* [1, 2, 3, 4, 5, 6, 7, 8, 9]에서 1번 인덱스부터 5번 인덱스까지 자른 리스트는 [2, 3, 4, 5, 6]입니다.\n",
    "\n",
    "#### 입출력 예 #2\n",
    "\n",
    "* [1, 2, 3, 4, 5, 6, 7, 8, 9]에서 1번 인덱스부터 5번 인덱스까지 2개 간격으로 자른 리스트는 [2, 4, 6]입니다."
   ]
  },
  {
   "cell_type": "code",
   "execution_count": 22,
   "metadata": {},
   "outputs": [],
   "source": [
    "def solution(n, slicer, num_list):\n",
    "    if n == 1:\n",
    "        return num_list[:slicer[1]+1]\n",
    "    elif n == 2:\n",
    "        return num_list[slicer[0]:]\n",
    "    elif n == 3:\n",
    "        return num_list[slicer[0]:slicer[1]+1]\n",
    "    else:\n",
    "        return [num_list[n] for n in range(slicer[0], slicer[1]+1, slicer[2])]"
   ]
  },
  {
   "cell_type": "code",
   "execution_count": 23,
   "metadata": {},
   "outputs": [
    {
     "data": {
      "text/plain": [
       "[2, 3, 4, 5, 6]"
      ]
     },
     "execution_count": 23,
     "metadata": {},
     "output_type": "execute_result"
    }
   ],
   "source": [
    "solution(3, [1, 5, 2], [1, 2, 3, 4, 5, 6, 7, 8, 9])"
   ]
  },
  {
   "cell_type": "code",
   "execution_count": 24,
   "metadata": {},
   "outputs": [
    {
     "data": {
      "text/plain": [
       "[2, 4, 6]"
      ]
     },
     "execution_count": 24,
     "metadata": {},
     "output_type": "execute_result"
    }
   ],
   "source": [
    "solution(4, [1, 5, 2], [1, 2, 3, 4, 5, 6, 7, 8, 9])"
   ]
  },
  {
   "cell_type": "code",
   "execution_count": null,
   "metadata": {},
   "outputs": [],
   "source": []
  }
 ],
 "metadata": {
  "kernelspec": {
   "display_name": "Python 3",
   "language": "python",
   "name": "python3"
  },
  "language_info": {
   "codemirror_mode": {
    "name": "ipython",
    "version": 3
   },
   "file_extension": ".py",
   "mimetype": "text/x-python",
   "name": "python",
   "nbconvert_exporter": "python",
   "pygments_lexer": "ipython3",
   "version": "3.12.1"
  }
 },
 "nbformat": 4,
 "nbformat_minor": 2
}

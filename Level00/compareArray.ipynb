{
 "cells": [
  {
   "cell_type": "markdown",
   "id": "700ef441-2c40-4656-83d7-e043213abb01",
   "metadata": {},
   "source": [
    "## 배열 비교하기\n",
    "### 문제 설명\n",
    "#### 이 문제에서 두 정수 배열의 대소관계를 다음과 같이 정의합니다.\n",
    "\n",
    "* 두 배열의 길이가 다르다면, 배열의 길이가 긴 쪽이 더 큽니다.\n",
    "* 배열의 길이가 같다면 각 배열에 있는 모든 원소의 합을 비교하여 다르다면 더 큰 쪽이 크고, 같다면 같습니다.\n",
    "#### 두 정수 배열 arr1과 arr2가 주어질 때, 위에서 정의한 배열의 대소관계에 대하여 arr2가 크다면 -1, arr1이 크다면 1, 두 배열이 같다면 0을 return 하는 solution 함수를 작성해 주세요.\n",
    "\n",
    "### 제한사항\n",
    "* 1 ≤ arr1의 길이 ≤ 100\n",
    "* 1 ≤ arr2의 길이 ≤ 100\n",
    "* 1 ≤ arr1의 원소 ≤ 100\n",
    "* 1 ≤ arr2의 원소 ≤ 100\n",
    "* 문제에서 정의한 배열의 대소관계가 일반적인 프로그래밍 언어에서 정의된 배열의 대소관계와 다를 수 있는 점에 유의해주세요.\n",
    "### 입출력 예\n",
    "|arr1|arr2|result|\n",
    "|----|----|------|\n",
    "|[49, 13]|[70, 11, 2]|-1|\n",
    "|[100, 17, 84, 1]|[55, 12, 65, 36]|1|\n",
    "|[1, 2, 3, 4, 5]|[3, 3, 3, 3, 3]|0|\n",
    "### 입출력 예 설명\n",
    "#### 입출력 예 #1\n",
    "\n",
    "* 예제 1번에서는 arr1의 길이는 2이고 arr2의 길이는 3으로 arr2의 길이가 더 깁니다. 따라서 arr2가 arr1보다 크므로 -1을 return 합니다.\n",
    "#### 입출력 예 #2\n",
    "\n",
    "* 예제 2번에서는 arr1의 길이과 arr2의 길이가 4로 같습니다. arr1의 모든 원소의 합은 100 + 17 + 84 + 1 = 202이고 arr2의 모든 원소의 합은 55 + 12 + 65 + 36 = 168으로 arr1의 모든 원소의 합이 더 큽니다. 따라서 arr1이 arr2보다 크므로 1을 return 합니다.\n",
    "#### 입출력 예 #3\n",
    "\n",
    "* 예제 3번에서는 arr1의 길이와 arr2의 길이가 5로 같고 각 배열의 모든 원소의 합 또한 15로 같습니다. 따라서 arr1과 arr2가 같으므로 0을 return 합니다.\n",
    "\n",
    "※ 공지 - 2023년 4월 21일 테스트케이스가 추가되었습니다. 기존에 제출한 코드가 통과하지 못할 수도 있습니다."
   ]
  },
  {
   "cell_type": "code",
   "execution_count": 1,
   "id": "4f3bc6c8-c000-44e8-9e3b-d99b44ac982c",
   "metadata": {},
   "outputs": [],
   "source": [
    "def solution(arr1, arr2):\n",
    "    if len(arr1) > len(arr2):\n",
    "        return 1\n",
    "    elif len(arr1) < len(arr2):\n",
    "        return -1\n",
    "    else:\n",
    "        if sum(arr1) > sum(arr2):\n",
    "            return 1\n",
    "        elif sum(arr1) < sum(arr2):\n",
    "            return -1\n",
    "        else:\n",
    "            return 0"
   ]
  },
  {
   "cell_type": "code",
   "execution_count": 2,
   "id": "e89bcd7d-607f-4f1e-9515-47c1d1e9d2b6",
   "metadata": {},
   "outputs": [
    {
     "data": {
      "text/plain": [
       "-1"
      ]
     },
     "execution_count": 2,
     "metadata": {},
     "output_type": "execute_result"
    }
   ],
   "source": [
    "solution([49, 13], [70, 11, 2])"
   ]
  },
  {
   "cell_type": "code",
   "execution_count": 3,
   "id": "96b51544-b979-457d-a37d-4ae642c3867a",
   "metadata": {},
   "outputs": [
    {
     "data": {
      "text/plain": [
       "1"
      ]
     },
     "execution_count": 3,
     "metadata": {},
     "output_type": "execute_result"
    }
   ],
   "source": [
    "solution([100, 17, 84, 1], [55, 12, 65, 36])"
   ]
  },
  {
   "cell_type": "code",
   "execution_count": 4,
   "id": "7c9323ad-31d0-483a-9c43-c36d99988fa0",
   "metadata": {},
   "outputs": [
    {
     "data": {
      "text/plain": [
       "0"
      ]
     },
     "execution_count": 4,
     "metadata": {},
     "output_type": "execute_result"
    }
   ],
   "source": [
    "solution([1, 2, 3, 4, 5], [3, 3, 3, 3, 3])"
   ]
  },
  {
   "cell_type": "code",
   "execution_count": null,
   "id": "b1f518ad-eb6e-4046-b0ba-3d264caa5990",
   "metadata": {},
   "outputs": [],
   "source": []
  }
 ],
 "metadata": {
  "kernelspec": {
   "display_name": "Python 3 (ipykernel)",
   "language": "python",
   "name": "python3"
  },
  "language_info": {
   "codemirror_mode": {
    "name": "ipython",
    "version": 3
   },
   "file_extension": ".py",
   "mimetype": "text/x-python",
   "name": "python",
   "nbconvert_exporter": "python",
   "pygments_lexer": "ipython3",
   "version": "3.10.6"
  }
 },
 "nbformat": 4,
 "nbformat_minor": 5
}

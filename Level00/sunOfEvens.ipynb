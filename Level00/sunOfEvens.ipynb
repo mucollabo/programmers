{
 "cells": [
  {
   "cell_type": "markdown",
   "id": "558b3bd9-e928-4710-879b-210e1333c219",
   "metadata": {},
   "source": [
    "# 짝수의 합\n",
    "## 문제 설명\n",
    "### 정수 n이 주어질 때, n이하의 짝수를 모두 더한 값을 return 하도록 solution 함수를 작성해주세요.\n",
    "\n",
    "#### 제한사항\n",
    "#### 0 < n ≤ 1000\n",
    "\n",
    "#### 입출력 예\n",
    "#### n\tresult\n",
    "#### 10\t30\n",
    "#### 4\t6\n",
    "#### 입출력 예 설명\n",
    "#### 입출력 예 #1\n",
    "\n",
    "#### n이 10이므로 2 + 4 + 6 + 8 + 10 = 30을 return 합니다.\n",
    "#### 입출력 예 #2\n",
    "\n",
    "#### n이 4이므로 2 + 4 = 6을 return 합니다."
   ]
  },
  {
   "cell_type": "code",
   "execution_count": 8,
   "id": "114c7fa8-e80b-46d5-8a97-5b02c5c5ba95",
   "metadata": {},
   "outputs": [],
   "source": [
    "def solution(n):\n",
    "    evens = [x for x in range(1, n+1) if x%2 == 0]\n",
    "    return sum(evens)"
   ]
  },
  {
   "cell_type": "code",
   "execution_count": 9,
   "id": "832631f8-d054-4858-8791-e2bc54d2d247",
   "metadata": {},
   "outputs": [
    {
     "data": {
      "text/plain": [
       "6"
      ]
     },
     "execution_count": 9,
     "metadata": {},
     "output_type": "execute_result"
    }
   ],
   "source": [
    "solution(4)"
   ]
  },
  {
   "cell_type": "code",
   "execution_count": 10,
   "id": "6127d3d5-5fcf-4a92-934c-367430bb643d",
   "metadata": {},
   "outputs": [
    {
     "data": {
      "text/plain": [
       "30"
      ]
     },
     "execution_count": 10,
     "metadata": {},
     "output_type": "execute_result"
    }
   ],
   "source": [
    "solution(10)"
   ]
  },
  {
   "cell_type": "code",
   "execution_count": null,
   "id": "4507d48d-892a-4d5b-8b53-a6d207ad5f76",
   "metadata": {},
   "outputs": [],
   "source": []
  }
 ],
 "metadata": {
  "kernelspec": {
   "display_name": "Python 3 (ipykernel)",
   "language": "python",
   "name": "python3"
  },
  "language_info": {
   "codemirror_mode": {
    "name": "ipython",
    "version": 3
   },
   "file_extension": ".py",
   "mimetype": "text/x-python",
   "name": "python",
   "nbconvert_exporter": "python",
   "pygments_lexer": "ipython3",
   "version": "3.10.6"
  }
 },
 "nbformat": 4,
 "nbformat_minor": 5
}

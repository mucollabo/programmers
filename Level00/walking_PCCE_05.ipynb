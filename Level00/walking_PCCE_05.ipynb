{
 "cells": [
  {
   "cell_type": "markdown",
   "metadata": {},
   "source": [
    "### 문제 설명\n",
    "여름이는 강아지를 산책시키려고 합니다. 여름이는 2차원 좌표평면에서 동/서/남/북 방향으로 1m 단위로 이동하면서 강아지를 산책시킵니다. 산책루트가 담긴 문자열 route가 주어질 때, 도착점의 위치를 return하도록 빈칸을 채워 solution함수를 완성해 주세요.\n",
    "\n",
    "* route는 \"N\", \"S\", \"E\", \"W\"로 이루어져 있습니다.\n",
    "  * \"N\"은 북쪽으로 1만큼 움직입니다.\n",
    "  * \"S\"는 남쪽으로 1만큼 움직입니다.\n",
    "    * 북쪽으로 -1만큼 움직인 것과 같습니다.\n",
    "  * \"E\"는 동쪽으로 1만큼 움직입니다.\n",
    "  * \"W\"는 서쪽으로 1만큼 움직입니다.\n",
    "    * 동쪽으로 -1만큼 움직인 것과 같습니다.\n",
    "* 출발점으로부터 [동쪽으로 떨어진 거리, 북쪽으로 떨어진 거리]형태로 강아지의 최종 위치를 구해서 return해야 합니다.\n",
    "* 출발점을 기준으로 서쪽, 남쪽에 있는 경우는 동쪽, 북쪽으로 음수만큼 떨어진 것으로 표현합니다.\n",
    "* 출발점으로부터 동쪽으로 2, 북쪽으로 3만큼 떨어졌다면 [2, 3]을 return 합니다.\n",
    "* 출발점으로부터 서쪽으로 1, 남쪽으로 4만큼 떨어졌다면 [-1, -4]를 return 합니다.\n",
    "### 제한사항\n",
    "* 1 ≤ route의 길이 ≤ 20\n",
    "* route는 \"N\", \"S\", \"E\", \"W\"로만 이루어져 있습니다.\n",
    "### 입출력 예\n",
    "\n",
    "|route|result|\n",
    "|-----|------|\n",
    "|\"NSSNEWWN\"|[-1, 1]|\n",
    "|\"EESEEWNWSNWWNS\"|[0, 0]|\n",
    "\n",
    "### 입출력 예 설명\n",
    "#### 입출력 예 #1\n",
    "\n",
    "* \"NSSNEWWN\" 순서대로 움직이면 서쪽으로 1, 북쪽으로 1만큼 떨어진 곳에 도착하게 되므로 [-1, 1]을 return합니다.\n",
    "#### 입출력 예 #2\n",
    "\n",
    "* \"EESEEWNWSNWWNS\" 순서대로 움직이면 출발지와 같은 곳으로 돌아오므로 [0, 0]을 return합니다.\n",
    "* cpp를 응시하는 경우 리스트는 배열과 동일한 의미이니 풀이에 참고해주세요.\n",
    "  * ex) 번호가 담긴 정수 리스트 numbers가 주어집니다. => 번호가 담긴 정수 배열 numbers가 주어집니다.\n",
    "* java를 응시하는 경우 리스트는 배열, 함수는 메소드와 동일한 의미이니 풀이에 참고해주세요.\n",
    "  * ex) solution 함수가 올바르게 작동하도록 한 줄을 수정해 주세요. => solution 메소드가 올바르게 작동하도록 한 줄을 수정해 주세요."
   ]
  },
  {
   "cell_type": "code",
   "execution_count": 1,
   "metadata": {},
   "outputs": [],
   "source": [
    "def solution(route):\n",
    "    east = 0\n",
    "    north = 0\n",
    "    for i in route:\n",
    "        if i == 'N':\n",
    "            north += 1\n",
    "        elif i == 'S':\n",
    "            north -= 1\n",
    "        elif i == 'E':\n",
    "            east += 1\n",
    "        elif i == 'W':\n",
    "            east -= 1\n",
    "    return [east, north]"
   ]
  },
  {
   "cell_type": "code",
   "execution_count": 2,
   "metadata": {},
   "outputs": [
    {
     "data": {
      "text/plain": [
       "[-1, 1]"
      ]
     },
     "execution_count": 2,
     "metadata": {},
     "output_type": "execute_result"
    }
   ],
   "source": [
    "solution(\"NSSNEWWN\")"
   ]
  },
  {
   "cell_type": "code",
   "execution_count": 3,
   "metadata": {},
   "outputs": [
    {
     "data": {
      "text/plain": [
       "[0, 0]"
      ]
     },
     "execution_count": 3,
     "metadata": {},
     "output_type": "execute_result"
    }
   ],
   "source": [
    "solution(\"EESEEWNWSNWWNS\")"
   ]
  },
  {
   "cell_type": "code",
   "execution_count": null,
   "metadata": {},
   "outputs": [],
   "source": []
  }
 ],
 "metadata": {
  "kernelspec": {
   "display_name": "Python 3",
   "language": "python",
   "name": "python3"
  },
  "language_info": {
   "codemirror_mode": {
    "name": "ipython",
    "version": 3
   },
   "file_extension": ".py",
   "mimetype": "text/x-python",
   "name": "python",
   "nbconvert_exporter": "python",
   "pygments_lexer": "ipython3",
   "version": "3.12.1"
  }
 },
 "nbformat": 4,
 "nbformat_minor": 2
}

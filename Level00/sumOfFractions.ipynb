{
 "cells": [
  {
   "cell_type": "markdown",
   "id": "15295cc4-bf0b-43ab-bb80-f144f1767a38",
   "metadata": {},
   "source": [
    "# 분수의 덧셈\n",
    "## 문제 설명\n",
    "### 첫 번째 분수의 분자와 분모를 뜻하는 denum1, num1, 두 번째 분수의 분자와 분모를 뜻하는 denum2, num2가 매개변수로 주어집니다. 두 분수를 더한 값을 기약 분수로 나타냈을 때 분자와 분모를 순서대로 담은 배열을 return 하도록 solution 함수를 완성해보세요.\n",
    "\n",
    "## 제한사항\n",
    "* 0 <denum1, num1, denum2, num2 < 1,000\n",
    "## 입출력 예\n",
    "|denum1|num1|denum2|num2|result|\n",
    "|------|----|------|----|------|\n",
    "|1|2|3|4|[5, 4]|\n",
    "|9|2|1|3|[29, 6]|\n",
    "## 입출력 예 설명\n",
    "## 입출력 예 #1\n",
    "\n",
    "* 1 / 2 + 3 / 4 = 5 / 4입니다. 따라서 [5, 4]를 return 합니다.\n",
    "## 입출력 예 #2\n",
    "\n",
    "* 9 / 2 + 1 / 3 = 29 / 6입니다. 따라서 [29, 6]을 return 합니다."
   ]
  },
  {
   "cell_type": "code",
   "execution_count": 30,
   "id": "ed95070b-be9f-4b58-a318-149af30aee9a",
   "metadata": {},
   "outputs": [],
   "source": [
    "import math\n",
    "\n",
    "def solution(denum1, num1, denum2, num2):\n",
    "    gcd = math.gcd(num1, num2)\n",
    "    print(gcd)\n",
    "    denum = denum1*num2 + denum2*num1\n",
    "    num = num1*num2\n",
    "    return [denum/gcd, num/gcd]"
   ]
  },
  {
   "cell_type": "code",
   "execution_count": 31,
   "id": "08f5b33d-5c75-4956-a2e3-f71880e5d841",
   "metadata": {},
   "outputs": [
    {
     "name": "stdout",
     "output_type": "stream",
     "text": [
      "2\n"
     ]
    },
    {
     "data": {
      "text/plain": [
       "[5.0, 4.0]"
      ]
     },
     "execution_count": 31,
     "metadata": {},
     "output_type": "execute_result"
    }
   ],
   "source": [
    "solution(1,2,3,4)"
   ]
  },
  {
   "cell_type": "code",
   "execution_count": 32,
   "id": "15ed522c-aee3-47f8-a4f4-1b4183feed1d",
   "metadata": {},
   "outputs": [
    {
     "name": "stdout",
     "output_type": "stream",
     "text": [
      "1\n"
     ]
    },
    {
     "data": {
      "text/plain": [
       "[29.0, 6.0]"
      ]
     },
     "execution_count": 32,
     "metadata": {},
     "output_type": "execute_result"
    }
   ],
   "source": [
    "solution(9,2,1,3)"
   ]
  },
  {
   "cell_type": "code",
   "execution_count": 47,
   "id": "61160cdc-2bad-4e03-92ba-0798399ffc56",
   "metadata": {},
   "outputs": [],
   "source": [
    "from fractions import Fraction\n",
    "\n",
    "def solution2(denum1, num1, denum2, num2):\n",
    "    s = (Fraction(denum1, num1)+Fraction(denum2, num2))\n",
    "    return [s.numerator, s.denominator]"
   ]
  },
  {
   "cell_type": "code",
   "execution_count": 48,
   "id": "1023466d-e7a3-4db7-91e4-2fdf70002cf0",
   "metadata": {},
   "outputs": [
    {
     "data": {
      "text/plain": [
       "[5, 4]"
      ]
     },
     "execution_count": 48,
     "metadata": {},
     "output_type": "execute_result"
    }
   ],
   "source": [
    "solution2(1,2,3,4)"
   ]
  },
  {
   "cell_type": "code",
   "execution_count": 49,
   "id": "0f6ee68d-965a-49c3-a93f-7b2e9a3bfaeb",
   "metadata": {},
   "outputs": [
    {
     "data": {
      "text/plain": [
       "[29, 6]"
      ]
     },
     "execution_count": 49,
     "metadata": {},
     "output_type": "execute_result"
    }
   ],
   "source": [
    "solution2(9,2,1,3)"
   ]
  },
  {
   "cell_type": "code",
   "execution_count": null,
   "id": "c203b97f-2632-4be8-b30f-e88d71b0b715",
   "metadata": {},
   "outputs": [],
   "source": []
  }
 ],
 "metadata": {
  "kernelspec": {
   "display_name": "Python 3 (ipykernel)",
   "language": "python",
   "name": "python3"
  },
  "language_info": {
   "codemirror_mode": {
    "name": "ipython",
    "version": 3
   },
   "file_extension": ".py",
   "mimetype": "text/x-python",
   "name": "python",
   "nbconvert_exporter": "python",
   "pygments_lexer": "ipython3",
   "version": "3.10.6"
  }
 },
 "nbformat": 4,
 "nbformat_minor": 5
}

{
 "cells": [
  {
   "cell_type": "markdown",
   "id": "51e3dfb1-6bd3-495f-8c81-a98deb9ebb37",
   "metadata": {},
   "source": [
    "# 대문자와 소문자\n",
    "## 문제 설명\n",
    "### 문자열 my_string이 매개변수로 주어질 때, 대문자는 소문자로 소문자는 대문자로 변환한 문자열을 return하도록 solution 함수를 완성해주세요.\n",
    "\n",
    "## 제한사항\n",
    "* 1 ≤ my_string의 길이 ≤ 1,000\n",
    "* my_string은 영어 대문자와 소문자로만 구성되어 있습니다.\n",
    "## 입출력 예\n",
    "|my_string|result|\n",
    "|---------|------|\n",
    "|\"cccCCC\"|\"CCCccc\"|\n",
    "|\"abCdEfghIJ\"|\"ABcDeFGHij\"|\n",
    "## 입출력 예 설명\n",
    "## 입출력 예 #1\n",
    "\n",
    "* 소문자는 대문자로 대문자는 소문자로 바꾼 \"CCCccc\"를 return합니다.\n",
    "## 입출력 예 #2\n",
    "\n",
    "* 소문자는 대문자로 대문자는 소문자로 바꾼 \"ABcDeFGHij\"를 return합니다."
   ]
  },
  {
   "cell_type": "code",
   "execution_count": 12,
   "id": "27542fb8-6938-4eb8-b15b-d06f512ebdd8",
   "metadata": {},
   "outputs": [],
   "source": [
    "def solution(my_string):\n",
    "    result = ''\n",
    "    for e in my_string:\n",
    "        if e.isupper():\n",
    "            result += e.lower()\n",
    "        else:\n",
    "            result += e.upper()\n",
    "    return result"
   ]
  },
  {
   "cell_type": "code",
   "execution_count": 13,
   "id": "6f244ef9-179b-48d4-929c-29e87d1d2e8d",
   "metadata": {},
   "outputs": [
    {
     "data": {
      "text/plain": [
       "'CCCccc'"
      ]
     },
     "execution_count": 13,
     "metadata": {},
     "output_type": "execute_result"
    }
   ],
   "source": [
    "solution(\"cccCCC\")"
   ]
  },
  {
   "cell_type": "code",
   "execution_count": 14,
   "id": "be6ad80c-be25-487d-9ecd-42e7ecda77ba",
   "metadata": {},
   "outputs": [
    {
     "data": {
      "text/plain": [
       "'ABcDeFGHij'"
      ]
     },
     "execution_count": 14,
     "metadata": {},
     "output_type": "execute_result"
    }
   ],
   "source": [
    "solution(\"abCdEfghIJ\")"
   ]
  },
  {
   "cell_type": "code",
   "execution_count": 25,
   "id": "94839a8c-7bf9-4673-9ea9-492be7f7ac94",
   "metadata": {},
   "outputs": [],
   "source": [
    "def solution2(my_string):\n",
    "    return ''.join(e.lower() if e.isupper() else e.upper() for e in my_string)"
   ]
  },
  {
   "cell_type": "code",
   "execution_count": 26,
   "id": "a0aa3347-7419-452f-986c-964ec7e1a09e",
   "metadata": {},
   "outputs": [
    {
     "data": {
      "text/plain": [
       "'CCCccc'"
      ]
     },
     "execution_count": 26,
     "metadata": {},
     "output_type": "execute_result"
    }
   ],
   "source": [
    "solution2(\"cccCCC\")"
   ]
  },
  {
   "cell_type": "code",
   "execution_count": 27,
   "id": "5064dcb9-8c57-46ba-938b-2178e4094e7e",
   "metadata": {},
   "outputs": [
    {
     "data": {
      "text/plain": [
       "'ABcDeFGHij'"
      ]
     },
     "execution_count": 27,
     "metadata": {},
     "output_type": "execute_result"
    }
   ],
   "source": [
    "solution(\"abCdEfghIJ\")"
   ]
  },
  {
   "cell_type": "code",
   "execution_count": null,
   "id": "924d7b1c-e20c-4aa3-bf2c-a8d677e10b85",
   "metadata": {},
   "outputs": [],
   "source": []
  }
 ],
 "metadata": {
  "kernelspec": {
   "display_name": "Python 3 (ipykernel)",
   "language": "python",
   "name": "python3"
  },
  "language_info": {
   "codemirror_mode": {
    "name": "ipython",
    "version": 3
   },
   "file_extension": ".py",
   "mimetype": "text/x-python",
   "name": "python",
   "nbconvert_exporter": "python",
   "pygments_lexer": "ipython3",
   "version": "3.10.6"
  }
 },
 "nbformat": 4,
 "nbformat_minor": 5
}

{
 "cells": [
  {
   "cell_type": "markdown",
   "id": "caa77f16-120b-4429-9109-1715527833d9",
   "metadata": {},
   "source": [
    "### 문제 설명\n",
    "\n",
    "부분 문자열이란 문자열에서 연속된 일부분에 해당하는 문자열을 의미합니다. 예를 들어, 문자열 \"ana\", \"ban\", \"anana\", \"banana\", \"n\"는 모두 문자열 \"banana\"의 부분 문자열이지만, \"aaa\", \"bnana\", \"wxyz\"는 모두 \"banana\"의 부분 문자열이 아닙니다.\n",
    "문자열 my_string과 target이 매개변수로 주어질 때, target이 문자열 my_string의 부분 문자열이라면 1을, 아니라면 0을 return 하는 solution 함수를 작성해 주세요.\n",
    "### 제한사항\n",
    "* 1 ≤ my_string의 길이 ≤ 100\n",
    "* my_string은 영소문자로만 이루어져 있습니다.\n",
    "* 1 ≤ target의 길이 ≤ 100\n",
    "* target은 영소문자로만 이루어져 있습니다.\n",
    "### 입출력 예\n",
    "|my_string|target|result|\n",
    "|---------|------|------|\n",
    "|\"banana\"|\"ana\"|1|\n",
    "|\"banana\"|\"wxyz\"|0|\n",
    "\n",
    "### 입출력 예 설명\n",
    "#### 입출력 예 #1\n",
    "* 문제 설명과 같습니다.\n",
    "#### 입출력 예 #2\n",
    "* 문제 설명과 같습니다."
   ]
  },
  {
   "cell_type": "code",
   "execution_count": 9,
   "id": "7e65ca35-7815-4be1-9916-0989b277c00e",
   "metadata": {},
   "outputs": [],
   "source": [
    "def solution(my_string, target):\n",
    "    for s in range(len(my_string) - len(target)+1):\n",
    "        if my_string[s:len(target)+s] == target:\n",
    "            return 1\n",
    "    return 0"
   ]
  },
  {
   "cell_type": "code",
   "execution_count": 10,
   "id": "dda71bb2-00fc-4960-98bc-af0344a58d32",
   "metadata": {},
   "outputs": [
    {
     "data": {
      "text/plain": [
       "1"
      ]
     },
     "execution_count": 10,
     "metadata": {},
     "output_type": "execute_result"
    }
   ],
   "source": [
    "solution(\"banana\", \"ana\")"
   ]
  },
  {
   "cell_type": "code",
   "execution_count": 11,
   "id": "43633a07-375f-4d14-b08b-64668af07fed",
   "metadata": {},
   "outputs": [
    {
     "data": {
      "text/plain": [
       "0"
      ]
     },
     "execution_count": 11,
     "metadata": {},
     "output_type": "execute_result"
    }
   ],
   "source": [
    "solution(\"banann\", \"wxyz\")"
   ]
  },
  {
   "cell_type": "code",
   "execution_count": null,
   "id": "28052607-7a8d-4546-848b-655cd446d6d1",
   "metadata": {},
   "outputs": [],
   "source": []
  }
 ],
 "metadata": {
  "kernelspec": {
   "display_name": "Python 3 (ipykernel)",
   "language": "python",
   "name": "python3"
  },
  "language_info": {
   "codemirror_mode": {
    "name": "ipython",
    "version": 3
   },
   "file_extension": ".py",
   "mimetype": "text/x-python",
   "name": "python",
   "nbconvert_exporter": "python",
   "pygments_lexer": "ipython3",
   "version": "3.11.6"
  }
 },
 "nbformat": 4,
 "nbformat_minor": 5
}

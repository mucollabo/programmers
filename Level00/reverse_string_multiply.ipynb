{
 "cells": [
  {
   "cell_type": "markdown",
   "metadata": {},
   "source": [
    "### 문제 설명\n",
    "문자열 my_string과 이차원 정수 배열 queries가 매개변수로 주어집니다. queries의 원소는 [s, e] 형태로, my_string의 인덱스 s부터 인덱스 e까지를 뒤집으라는 의미입니다. my_string에 queries의 명령을 순서대로 처리한 후의 문자열을 return 하는 solution 함수를 작성해 주세요.\n",
    "\n",
    "### 제한사항\n",
    "* my_string은 영소문자로만 이루어져 있습니다.\n",
    "* 1 ≤ my_string의 길이 ≤ 1,000\n",
    "* queries의 원소는 [s, e]의 형태로 0 ≤ s ≤ e < my_string의 길이를 만족합니다.\n",
    "* 1 ≤ queries의 길이 ≤ 1,000\n",
    "\n",
    "### 입출력 예\n",
    "|my_string|queries|result|\n",
    "|---------|-------|------|\n",
    "|\"rermgorpsam\"|[[2, 3], [0, 7], [5, 9], [6, 10]]|\"programmers\"|\n",
    "\n",
    "### 입출력 예 설명\n",
    "* 예제 1번의 my_string은 \"rermgorpsam\"이고 주어진 queries를 순서대로 처리하면 다음과 같습니다.\n",
    "\n",
    "|queries|my_string|\n",
    "|---|---|\n",
    "||\"rermgorpsam\"|\n",
    "|[2, 3]|\"remrgorpsam\"|\n",
    "|[0, 7]|\"progrmersam\"|\n",
    "|[5, 9]|\"prograsremm\"|\n",
    "|[6, 10]|\"programmers\"|\n",
    "\n",
    "* 따라서 \"programmers\"를 return 합니다."
   ]
  },
  {
   "cell_type": "code",
   "execution_count": 16,
   "metadata": {},
   "outputs": [],
   "source": [
    "def solution(my_string, queries):\n",
    "    for q in queries:\n",
    "        my_string = my_string.replace(my_string[q[0]:q[1]+1], ''.join(reversed(my_string[q[0]:q[1]+1])))\n",
    "    return my_string"
   ]
  },
  {
   "cell_type": "code",
   "execution_count": 17,
   "metadata": {},
   "outputs": [
    {
     "data": {
      "text/plain": [
       "'programmers'"
      ]
     },
     "execution_count": 17,
     "metadata": {},
     "output_type": "execute_result"
    }
   ],
   "source": [
    "solution(\"rermgorpsam\", [[2, 3], [0, 7], [5, 9], [6, 10]])"
   ]
  },
  {
   "cell_type": "code",
   "execution_count": 11,
   "metadata": {},
   "outputs": [
    {
     "data": {
      "text/plain": [
       "'re'"
      ]
     },
     "execution_count": 11,
     "metadata": {},
     "output_type": "execute_result"
    }
   ],
   "source": [
    "\"rermgorpsam\"[0:2]"
   ]
  },
  {
   "cell_type": "code",
   "execution_count": null,
   "metadata": {},
   "outputs": [],
   "source": []
  }
 ],
 "metadata": {
  "kernelspec": {
   "display_name": "Python 3",
   "language": "python",
   "name": "python3"
  },
  "language_info": {
   "codemirror_mode": {
    "name": "ipython",
    "version": 3
   },
   "file_extension": ".py",
   "mimetype": "text/x-python",
   "name": "python",
   "nbconvert_exporter": "python",
   "pygments_lexer": "ipython3",
   "version": "3.12.1"
  }
 },
 "nbformat": 4,
 "nbformat_minor": 2
}

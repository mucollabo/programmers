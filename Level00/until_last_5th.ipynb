{
 "cells": [
  {
   "cell_type": "markdown",
   "id": "68a335c5-ccfc-48fe-8567-63b2fc366a2c",
   "metadata": {},
   "source": [
    "### 문제 설명\n",
    "\n",
    "정수로 이루어진 리스트 num_list가 주어집니다. num_list에서 가장 작은 5개의 수를 오름차순으로 담은 리스트를 return하도록 solution 함수를 완성해주세요.\n",
    "### 제한사항\n",
    "* 6 ≤ num_list의 길이 ≤ 30\n",
    "* 1 ≤ num_list의 원소 ≤ 100\n",
    "### 입출력 예\n",
    "<style>\n",
    "table {\n",
    "    margin-left: 0;\n",
    "}\n",
    "</style>\n",
    "\n",
    "|num_list|result|\n",
    "|--------|------|\n",
    "|[12, 4, 15, 46, 38, 1, 14]|[1, 4, 12, 14, 15]|\n",
    "\n",
    "### 입출력 예 설명\n",
    "#### 입출력 예 #1\n",
    "* [12, 4, 15, 46, 38, 1, 14]를 정렬하면 [1, 4, 12, 14, 15, 38, 46]이 되고, 앞에서 부터 5개를 고르면 [1, 4, 12, 14, 15]가 됩니다."
   ]
  },
  {
   "cell_type": "code",
   "execution_count": 9,
   "id": "dc772f9d-0fe6-4382-8eb3-e401366b4241",
   "metadata": {},
   "outputs": [],
   "source": [
    "def solution(num_list):\n",
    "    return sorted(num_list)[:5]"
   ]
  },
  {
   "cell_type": "code",
   "execution_count": 10,
   "id": "14831f7b-e9f3-4cbf-98f5-efbae7400280",
   "metadata": {},
   "outputs": [
    {
     "data": {
      "text/plain": [
       "[1, 4, 12, 14, 15]"
      ]
     },
     "execution_count": 10,
     "metadata": {},
     "output_type": "execute_result"
    }
   ],
   "source": [
    "solution([12, 4, 15, 46, 38, 1, 14])"
   ]
  },
  {
   "cell_type": "code",
   "execution_count": null,
   "id": "67c5aa7c-5553-4dbd-8b39-a134f34e672a",
   "metadata": {},
   "outputs": [],
   "source": []
  }
 ],
 "metadata": {
  "kernelspec": {
   "display_name": "Python 3 (ipykernel)",
   "language": "python",
   "name": "python3"
  },
  "language_info": {
   "codemirror_mode": {
    "name": "ipython",
    "version": 3
   },
   "file_extension": ".py",
   "mimetype": "text/x-python",
   "name": "python",
   "nbconvert_exporter": "python",
   "pygments_lexer": "ipython3",
   "version": "3.11.6"
  }
 },
 "nbformat": 4,
 "nbformat_minor": 5
}

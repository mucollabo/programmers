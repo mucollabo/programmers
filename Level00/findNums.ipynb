{
 "cells": [
  {
   "cell_type": "markdown",
   "id": "d754067d-6758-4cd8-b34c-afb0ac580cb8",
   "metadata": {},
   "source": [
    "# 숫자 찾기\n",
    "## 문제 설명\n",
    "### 정수 num과 k가 매개변수로 주어질 때, num을 이루는 숫자 중에 k가 있으면 num의 그 숫자가 있는 자리 수를 return하고 없으면 -1을 return 하도록 solution 함수를 완성해보세요.\n",
    "\n",
    "## 제한사항\n",
    "* 0 < num < 1,000,000\n",
    "* 0 ≤ k < 10\n",
    "* num에 k가 여러 개 있으면 가장 처음 나타나는 자리를 return 합니다.\n",
    "## 입출력 예\n",
    "|num|k|result|\n",
    "|---|-|------|\n",
    "|29183|1|3|\n",
    "|232443|4|4|\n",
    "|123456|7|-1|\n",
    "## 입출력 예 설명\n",
    "## 입출력 예 #1\n",
    "\n",
    "* 29183에서 1은 3번째에 있습니다.\n",
    "## 입출력 예 #2\n",
    "\n",
    "* 232443에서 4는 4번째에 처음 등장합니다.\n",
    "## 입출력 예 #3\n",
    "\n",
    "* 123456에 7은 없으므로 -1을 return 합니다."
   ]
  },
  {
   "cell_type": "code",
   "execution_count": 4,
   "id": "c599a8fd-f216-46bc-94eb-af580afd7a9c",
   "metadata": {},
   "outputs": [],
   "source": [
    "def solution(num, k):\n",
    "    result = 0\n",
    "    for i in str(num):\n",
    "        result += 1\n",
    "        if int(i) == k:\n",
    "            return result\n",
    "    return -1"
   ]
  },
  {
   "cell_type": "code",
   "execution_count": 5,
   "id": "4322092b-1381-4325-a444-65ce3bd327a7",
   "metadata": {},
   "outputs": [
    {
     "data": {
      "text/plain": [
       "3"
      ]
     },
     "execution_count": 5,
     "metadata": {},
     "output_type": "execute_result"
    }
   ],
   "source": [
    "solution(29183, 1)"
   ]
  },
  {
   "cell_type": "code",
   "execution_count": 6,
   "id": "7c9f9224-40b9-41f1-b837-fde8aa2a0e5a",
   "metadata": {},
   "outputs": [
    {
     "data": {
      "text/plain": [
       "4"
      ]
     },
     "execution_count": 6,
     "metadata": {},
     "output_type": "execute_result"
    }
   ],
   "source": [
    "solution(232443, 4)"
   ]
  },
  {
   "cell_type": "code",
   "execution_count": 7,
   "id": "a1822dba-0bff-4936-9ac6-04c65c086cea",
   "metadata": {},
   "outputs": [
    {
     "data": {
      "text/plain": [
       "-1"
      ]
     },
     "execution_count": 7,
     "metadata": {},
     "output_type": "execute_result"
    }
   ],
   "source": [
    "solution(123456, 7)"
   ]
  }
 ],
 "metadata": {
  "kernelspec": {
   "display_name": "Python 3 (ipykernel)",
   "language": "python",
   "name": "python3"
  },
  "language_info": {
   "codemirror_mode": {
    "name": "ipython",
    "version": 3
   },
   "file_extension": ".py",
   "mimetype": "text/x-python",
   "name": "python",
   "nbconvert_exporter": "python",
   "pygments_lexer": "ipython3",
   "version": "3.10.6"
  }
 },
 "nbformat": 4,
 "nbformat_minor": 5
}

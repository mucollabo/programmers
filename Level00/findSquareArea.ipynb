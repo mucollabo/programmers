{
 "cells": [
  {
   "cell_type": "markdown",
   "id": "27f370ec-0476-473d-97ed-2c50f853d4b8",
   "metadata": {},
   "source": [
    "# 직사각형 넓이 구하기\n",
    "## 문제 설명\n",
    "### 2차원 좌표 평면에 변이 축과 평행한 직사각형이 있습니다. 직사각형 네 꼭짓점의 좌표 [[x1, y1], [x2, y2], [x3, y3], [x4, y4]]가 담겨있는 배열 dots가 매개변수로 주어질 때, 직사각형의 넓이를 return 하도록 solution 함수를 완성해보세요.\n",
    "\n",
    "## 제한사항\n",
    "* dots의 길이 = 4\n",
    "* dots의 원소의 길이 = 2\n",
    "* -256 < dots[i]의 원소 < 256\n",
    "* 잘못된 입력은 주어지지 않습니다.\n",
    "## 입출력 예\n",
    "|dots|result|\n",
    "|----|------|\n",
    "|[[1, 1], [2, 1], [2, 2], [1, 2]]|1|\n",
    "|[[-1, -1], [1, 1], [1, -1], [-1, 1]]|4|\n",
    "## 입출력 예 설명\n",
    "## 입출력 예 #1\n",
    "\n",
    "* 좌표 [[1, 1], [2, 1], [2, 2], [1, 2]] 를 꼭짓점으로 갖는 직사각형의 가로, 세로 길이는 각각 1, 1이므로 직사각형의 넓이는 1 x 1 = 1입니다.\n",
    "## 입출력 예 #2\n",
    "\n",
    "* 좌표 [[-1, -1], [1, 1], [1, -1], [-1, 1]]를 꼭짓점으로 갖는 직사각형의 가로, 세로 길이는 각각 2, 2이므로 직사각형의 넓이는 2 x 2 = 4입니다."
   ]
  },
  {
   "cell_type": "code",
   "execution_count": 16,
   "id": "fcc38ecc-d0fb-4651-9e50-d702977e7fa1",
   "metadata": {},
   "outputs": [],
   "source": [
    "def solution(dots):\n",
    "    X = [d[0] for d in dots]\n",
    "    Y = [d[1] for d in dots]\n",
    "    return (max(X)-min(X))*(max(Y)-min(Y))"
   ]
  },
  {
   "cell_type": "code",
   "execution_count": 17,
   "id": "ae317f45-64be-431d-ae73-a9401546be90",
   "metadata": {},
   "outputs": [
    {
     "data": {
      "text/plain": [
       "1"
      ]
     },
     "execution_count": 17,
     "metadata": {},
     "output_type": "execute_result"
    }
   ],
   "source": [
    "solution([[1, 1], [2, 1], [2, 2], [1, 2]])"
   ]
  },
  {
   "cell_type": "code",
   "execution_count": 18,
   "id": "786e46c5-e9fa-4e98-b4f2-046fbbba25d9",
   "metadata": {},
   "outputs": [
    {
     "data": {
      "text/plain": [
       "4"
      ]
     },
     "execution_count": 18,
     "metadata": {},
     "output_type": "execute_result"
    }
   ],
   "source": [
    "solution([[-1, -1], [1, 1], [1, -1], [-1, 1]])"
   ]
  },
  {
   "cell_type": "code",
   "execution_count": 21,
   "id": "381afc94-f363-4184-8491-977f1ee3bfaf",
   "metadata": {},
   "outputs": [],
   "source": [
    "def solution2(dots):\n",
    "    return (max(dots)[0] - min(dots)[0]) * (max(dots)[1] - min(dots)[1])"
   ]
  },
  {
   "cell_type": "code",
   "execution_count": 22,
   "id": "17c65507-0c71-4ec3-8fa3-fe1a140a1098",
   "metadata": {},
   "outputs": [
    {
     "data": {
      "text/plain": [
       "1"
      ]
     },
     "execution_count": 22,
     "metadata": {},
     "output_type": "execute_result"
    }
   ],
   "source": [
    "solution2([[1, 1], [2, 1], [2, 2], [1, 2]])"
   ]
  },
  {
   "cell_type": "code",
   "execution_count": 23,
   "id": "aac11adc-30b2-49e7-8b5c-2331d50f385b",
   "metadata": {},
   "outputs": [
    {
     "data": {
      "text/plain": [
       "4"
      ]
     },
     "execution_count": 23,
     "metadata": {},
     "output_type": "execute_result"
    }
   ],
   "source": [
    "solution2([[-1, -1], [1, 1], [1, -1], [-1, 1]])"
   ]
  },
  {
   "cell_type": "code",
   "execution_count": null,
   "id": "052d5633-114b-4a93-bd58-585ce7eb5968",
   "metadata": {},
   "outputs": [],
   "source": []
  }
 ],
 "metadata": {
  "kernelspec": {
   "display_name": "Python 3 (ipykernel)",
   "language": "python",
   "name": "python3"
  },
  "language_info": {
   "codemirror_mode": {
    "name": "ipython",
    "version": 3
   },
   "file_extension": ".py",
   "mimetype": "text/x-python",
   "name": "python",
   "nbconvert_exporter": "python",
   "pygments_lexer": "ipython3",
   "version": "3.10.6"
  }
 },
 "nbformat": 4,
 "nbformat_minor": 5
}

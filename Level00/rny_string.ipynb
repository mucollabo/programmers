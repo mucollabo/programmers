{
 "cells": [
  {
   "cell_type": "markdown",
   "id": "2ad5817e-7aa3-4d22-afdb-dbcf399e1487",
   "metadata": {},
   "source": [
    "## rny_string\n",
    "### 문제 설명\n",
    "#### 'm'과 \"rn\"이 모양이 비슷하게 생긴 점을 활용해 문자열에 장난을 하려고 합니다. 문자열 rny_string이 주어질 때, rny_string의 모든 'm'을 \"rn\"으로 바꾼 문자열을 return 하는 solution 함수를 작성해 주세요.\n",
    "\n",
    "### 제한사항\n",
    "* 1 ≤ rny_string의 길이 ≤ 100\n",
    "* rny_string은 영소문자로만 이루어져 있습니다.\n",
    "### 입출력 예\n",
    "|rny_string|result|\n",
    "|----------|------|\n",
    "|\"masterpiece\"|\"rnasterpiece\"|\n",
    "|\"programmers\"|\"prograrnrners\"|\n",
    "|\"jerry\"|\"jerry\"|\n",
    "|\"burn\"|\"burn\"|\n",
    "### 입출력 예 설명\n",
    "#### 입출력 예 #1\n",
    "\n",
    "* 예제 1번의 rny_string의 'm'을 \"rn\"으로 바꾸는 과정을 표로 나타내면 다음과 같습니다.\n",
    "\n",
    "|rny_string|m|a|s|t|e|r|p|i|e|c|e|\n",
    "|----------|--|-|-|-|-|-|-|-|-|-|-|\n",
    "|result|rn|a|s|t|e|r|p|i|e|c|e|\n",
    "#### 따라서 \"rnasterpiece\"를 return 합니다.\n",
    "\n",
    "#### 입출력 예 #2\n",
    "\n",
    "* 예제 2번의 rny_string의 'm'을 \"rn\"으로 바꾸는 과정을 표로 나타내면 다음과 같습니다.\n",
    "\n",
    "|rny_string|p|r|o|g|r|a|m|m|e|r|s|\n",
    "|----------|-|-|-|-|-|-|-|-|-|-|-|\n",
    "|result|p|r|o|g|r|a|rn|rn|e|r|s|\n",
    "#### 따라서 \"prograrnrners\"를 return 합니다.\n",
    "\n",
    "#### 입출력 예 #3\n",
    "\n",
    "* 예제 3번의 rny_string에는 'm'이 없습니다. 따라서 rny_string 그대로인 \"jerry\"를 return 합니다.\n",
    "#### 입출력 예 #4\n",
    "\n",
    "* 예제 4번의 rny_string에는 'm'이 없습니다. 따라서 rny_string 그대로인 \"burn\"를 return 합니다."
   ]
  },
  {
   "cell_type": "code",
   "execution_count": 21,
   "id": "484ad9c0-2085-48c4-920f-0ea1fcf5a2a8",
   "metadata": {},
   "outputs": [],
   "source": [
    "def solution(rny_string):\n",
    "    return ''.join([e if e != 'm' else 'rn' for e in rny_string])"
   ]
  },
  {
   "cell_type": "code",
   "execution_count": 22,
   "id": "4a3cd19f-6741-42c9-bb98-cafbc5be255d",
   "metadata": {},
   "outputs": [
    {
     "data": {
      "text/plain": [
       "'rnasterpiece'"
      ]
     },
     "execution_count": 22,
     "metadata": {},
     "output_type": "execute_result"
    }
   ],
   "source": [
    "solution('masterpiece')"
   ]
  },
  {
   "cell_type": "code",
   "execution_count": 23,
   "id": "226f6966-6bd2-4838-82ef-998057f2a6f5",
   "metadata": {},
   "outputs": [
    {
     "data": {
      "text/plain": [
       "'prograrnrners'"
      ]
     },
     "execution_count": 23,
     "metadata": {},
     "output_type": "execute_result"
    }
   ],
   "source": [
    "solution('programmers')"
   ]
  },
  {
   "cell_type": "code",
   "execution_count": 24,
   "id": "0da0b60e-a946-492f-918a-6b0d21a535a3",
   "metadata": {},
   "outputs": [
    {
     "data": {
      "text/plain": [
       "'jerry'"
      ]
     },
     "execution_count": 24,
     "metadata": {},
     "output_type": "execute_result"
    }
   ],
   "source": [
    "solution('jerry')"
   ]
  },
  {
   "cell_type": "code",
   "execution_count": 25,
   "id": "1c97f278-0ac7-4dbc-9834-209a226d5789",
   "metadata": {},
   "outputs": [
    {
     "data": {
      "text/plain": [
       "'burn'"
      ]
     },
     "execution_count": 25,
     "metadata": {},
     "output_type": "execute_result"
    }
   ],
   "source": [
    "solution('burn')"
   ]
  },
  {
   "cell_type": "code",
   "execution_count": null,
   "id": "c5d054a8-74bb-4eb3-8531-39c0e7260e69",
   "metadata": {},
   "outputs": [],
   "source": []
  }
 ],
 "metadata": {
  "kernelspec": {
   "display_name": "Python 3 (ipykernel)",
   "language": "python",
   "name": "python3"
  },
  "language_info": {
   "codemirror_mode": {
    "name": "ipython",
    "version": 3
   },
   "file_extension": ".py",
   "mimetype": "text/x-python",
   "name": "python",
   "nbconvert_exporter": "python",
   "pygments_lexer": "ipython3",
   "version": "3.11.6"
  }
 },
 "nbformat": 4,
 "nbformat_minor": 5
}

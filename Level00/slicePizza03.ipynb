{
 "cells": [
  {
   "cell_type": "markdown",
   "id": "939aecfc-5716-48b4-8bc8-46bce252c395",
   "metadata": {},
   "source": [
    "# 피자 나눠 먹기 (3)\n",
    "## 문제 설명\n",
    "### 머쓱이네 피자가게는 피자를 두 조각에서 열 조각까지 원하는 조각 수로 잘라줍니다. 피자 조각 수 slice와 피자를 먹는 사람의 수 n이 매개변수로 주어질 때, n명의 사람이 최소 한 조각 이상 피자를 먹으려면 최소 몇 판의 피자를 시켜야 하는지를 return 하도록 solution 함수를 완성해보세요.\n",
    "\n",
    "## 제한사항\n",
    "* 2 ≤ slice ≤ 10\n",
    "* 1 ≤ n ≤ 100\n",
    "## 입출력 예\n",
    "|slice|n|result|\n",
    "|-----|-|------|\n",
    "|7|10|2|\n",
    "|4|12|3|\n",
    "## 입출력 예 설명\n",
    "## 입출력 예 #1\n",
    "\n",
    "* 10명이 7조각으로 자른 피자를 한 조각 이상씩 먹으려면 최소 2판을 시켜야 합니다.\n",
    "## 입출력 예 #2\n",
    "\n",
    "* 12명이 4조각으로 자른 피자를 한 조각 이상씩 먹으려면 최소 3판을 시켜야 합니다."
   ]
  },
  {
   "cell_type": "code",
   "execution_count": 6,
   "id": "c68a22d1-50cf-490a-aa40-94a6d1dd5765",
   "metadata": {},
   "outputs": [],
   "source": [
    "def solution(slice, n):\n",
    "    if n%slice == 0:\n",
    "        return n//slice\n",
    "    else:\n",
    "        return n//slice + 1"
   ]
  },
  {
   "cell_type": "code",
   "execution_count": 3,
   "id": "a400b43c-45b6-4f38-8fd1-531a8f1cdef7",
   "metadata": {},
   "outputs": [
    {
     "data": {
      "text/plain": [
       "2"
      ]
     },
     "execution_count": 3,
     "metadata": {},
     "output_type": "execute_result"
    }
   ],
   "source": [
    "solution(7, 10)"
   ]
  },
  {
   "cell_type": "code",
   "execution_count": 4,
   "id": "8743e677-3c1c-4812-be3d-e51636db21a1",
   "metadata": {},
   "outputs": [
    {
     "data": {
      "text/plain": [
       "3"
      ]
     },
     "execution_count": 4,
     "metadata": {},
     "output_type": "execute_result"
    }
   ],
   "source": [
    "solution(4, 12)"
   ]
  },
  {
   "cell_type": "code",
   "execution_count": 7,
   "id": "8b9a466b-b009-4e9d-9cbb-e45255e90319",
   "metadata": {},
   "outputs": [],
   "source": [
    "def solution2(slice, n):\n",
    "    return n//slice if n%slice == 0 else n//slice + 1"
   ]
  },
  {
   "cell_type": "code",
   "execution_count": 8,
   "id": "63fe2474-ebf0-484b-a2e4-26d9346b9912",
   "metadata": {},
   "outputs": [
    {
     "data": {
      "text/plain": [
       "2"
      ]
     },
     "execution_count": 8,
     "metadata": {},
     "output_type": "execute_result"
    }
   ],
   "source": [
    "solution2(7, 10)"
   ]
  },
  {
   "cell_type": "code",
   "execution_count": 9,
   "id": "c01a63d3-e59d-487b-930a-e8f828a10655",
   "metadata": {},
   "outputs": [
    {
     "data": {
      "text/plain": [
       "3"
      ]
     },
     "execution_count": 9,
     "metadata": {},
     "output_type": "execute_result"
    }
   ],
   "source": [
    "solution(4, 12)"
   ]
  },
  {
   "cell_type": "code",
   "execution_count": null,
   "id": "23888984-aade-43b4-98b7-8f7b35e5e2dc",
   "metadata": {},
   "outputs": [],
   "source": []
  }
 ],
 "metadata": {
  "kernelspec": {
   "display_name": "Python 3 (ipykernel)",
   "language": "python",
   "name": "python3"
  },
  "language_info": {
   "codemirror_mode": {
    "name": "ipython",
    "version": 3
   },
   "file_extension": ".py",
   "mimetype": "text/x-python",
   "name": "python",
   "nbconvert_exporter": "python",
   "pygments_lexer": "ipython3",
   "version": "3.10.6"
  }
 },
 "nbformat": 4,
 "nbformat_minor": 5
}

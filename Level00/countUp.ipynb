{
 "cells": [
  {
   "cell_type": "markdown",
   "id": "7a36a932-e5e4-4e9b-a85b-988d51dc6cba",
   "metadata": {},
   "source": [
    "## 카운트업\n",
    "### 문제 설명\n",
    "#### 정수 start_num와 end_num가 주어질 때, start_num부터 end_num까지의 숫자를 차례로 담은 리스트를 return하도록 solution 함수를 완성해주세요.\n",
    "\n",
    "### 제한사항\n",
    "* 0 ≤ start_num ≤ end_num ≤ 50\n",
    "### 입출력 예\n",
    "|start_num|end_num|result|\n",
    "|---------|-------|------|\n",
    "|3|10|[3, 4, 5, 6, 7, 8, 9, 10]|\n",
    "### 입출력 예 설명\n",
    "#### 입출력 예 #1\n",
    "\n",
    "* 3부터 10까지의 숫자들을 담은 리스트 [3, 4, 5, 6, 7, 8, 9, 10]를 return합니다."
   ]
  },
  {
   "cell_type": "code",
   "execution_count": 4,
   "id": "b7b41a91-382c-4a39-a6c4-73e260a50798",
   "metadata": {},
   "outputs": [],
   "source": [
    "def solution(start_num, end_num):\n",
    "    return [e for e in range(start_num, end_num+1)]"
   ]
  },
  {
   "cell_type": "code",
   "execution_count": 5,
   "id": "0540321f-081b-4b96-a906-67dd9d0f5240",
   "metadata": {},
   "outputs": [
    {
     "data": {
      "text/plain": [
       "[3, 4, 5, 6, 7, 8, 9, 10]"
      ]
     },
     "execution_count": 5,
     "metadata": {},
     "output_type": "execute_result"
    }
   ],
   "source": [
    "solution(3, 10)"
   ]
  },
  {
   "cell_type": "code",
   "execution_count": 8,
   "id": "9ab568bd-7a5b-40a8-955f-6f1f0dc993f7",
   "metadata": {},
   "outputs": [],
   "source": [
    "def solution2(start_num, end_num):\n",
    "    return list(range(start_num, end_num+1))"
   ]
  },
  {
   "cell_type": "code",
   "execution_count": 9,
   "id": "2a89e7fd-aa60-4778-934d-89fc4238524b",
   "metadata": {},
   "outputs": [
    {
     "data": {
      "text/plain": [
       "[3, 4, 5, 6, 7, 8, 9, 10]"
      ]
     },
     "execution_count": 9,
     "metadata": {},
     "output_type": "execute_result"
    }
   ],
   "source": [
    "solution2(3, 10)"
   ]
  },
  {
   "cell_type": "code",
   "execution_count": null,
   "id": "b195540f-db04-43ea-97a8-ed9e4417240c",
   "metadata": {},
   "outputs": [],
   "source": []
  }
 ],
 "metadata": {
  "kernelspec": {
   "display_name": "Python 3 (ipykernel)",
   "language": "python",
   "name": "python3"
  },
  "language_info": {
   "codemirror_mode": {
    "name": "ipython",
    "version": 3
   },
   "file_extension": ".py",
   "mimetype": "text/x-python",
   "name": "python",
   "nbconvert_exporter": "python",
   "pygments_lexer": "ipython3",
   "version": "3.10.6"
  }
 },
 "nbformat": 4,
 "nbformat_minor": 5
}

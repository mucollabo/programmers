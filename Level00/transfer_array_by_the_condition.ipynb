{
 "cells": [
  {
   "cell_type": "markdown",
   "metadata": {},
   "source": [
    "### 문제 설명\n",
    "정수 배열 arr가 주어집니다. arr의 각 원소에 대해 값이 50보다 크거나 같은 짝수라면 2로 나누고, 50보다 작은 홀수라면 2를 곱하고 다시 1을 더합니다.\n",
    "\n",
    "이러한 작업을 x번 반복한 결과인 배열을 arr(x)라고 표현했을 때, arr(x) = arr(x + 1)인 x가 항상 존재합니다. 이러한 x 중 가장 작은 값을 return 하는 solution 함수를 완성해 주세요.\n",
    "\n",
    "단, 두 배열에 대한 \"=\"는 두 배열의 크기가 서로 같으며, 같은 인덱스의 원소가 각각 서로 같음을 의미합니다.\n",
    "\n",
    "### 제한사항\n",
    "* 1 ≤ arr의 길이 ≤ 1,000,000\n",
    "  * 1 ≤ arr의 원소의 값 ≤ 100\n",
    "### 입출력 예\n",
    "arr\tresult\n",
    "|[1, 2, 3, 100, 99, 98]|5|\n",
    "|----------------------|-|\n",
    "\n",
    "### 입출력 예 설명\n",
    "#### 입출력 예 #1\n",
    "\n",
    "* 위 작업을 반복하면 다음과 같이 arr가 변합니다.\n",
    "\n",
    "|반복 횟수|arr|\n",
    "|-------|---|\n",
    "|0|[1, 2, 3, 100, 99, 98]|\n",
    "|1|[3, 2, 7, 50, 99, 49]|\n",
    "|2|[7, 2, 15, 25, 99, 99]|\n",
    "|3|[15, 2, 31, 51, 99, 99]|\n",
    "|4|[31, 2, 63, 51, 99, 99]|\n",
    "|5|[63, 2, 63, 51, 99, 99]|\n",
    "|6|[63, 2, 63, 51, 99, 99]|\n",
    "\n",
    "* 이후로 arr가 변하지 않으며, arr(5) = arr(6)이므로 5를 return 합니다."
   ]
  },
  {
   "cell_type": "code",
   "execution_count": 5,
   "metadata": {},
   "outputs": [],
   "source": [
    "def solution(arr):\n",
    "    cnt = 0\n",
    "    comp = []\n",
    "    while arr != comp:\n",
    "        for a in arr:\n",
    "            if a < 50 and a%2 == 1:\n",
    "                comp.append((a*2)+1)\n",
    "            elif a >= 50 and a%2 == 0:\n",
    "                comp.append(a/2)\n",
    "            else:\n",
    "                comp.append(a)\n",
    "        if arr == comp:\n",
    "            return cnt\n",
    "        else:\n",
    "            cnt += 1\n",
    "            arr = comp\n",
    "            comp = []"
   ]
  },
  {
   "cell_type": "code",
   "execution_count": 6,
   "metadata": {},
   "outputs": [
    {
     "data": {
      "text/plain": [
       "5"
      ]
     },
     "execution_count": 6,
     "metadata": {},
     "output_type": "execute_result"
    }
   ],
   "source": [
    "solution([1, 2, 3, 100, 99, 98])"
   ]
  },
  {
   "cell_type": "code",
   "execution_count": null,
   "metadata": {},
   "outputs": [],
   "source": []
  }
 ],
 "metadata": {
  "kernelspec": {
   "display_name": "Python 3",
   "language": "python",
   "name": "python3"
  },
  "language_info": {
   "codemirror_mode": {
    "name": "ipython",
    "version": 3
   },
   "file_extension": ".py",
   "mimetype": "text/x-python",
   "name": "python",
   "nbconvert_exporter": "python",
   "pygments_lexer": "ipython3",
   "version": "3.12.1"
  }
 },
 "nbformat": 4,
 "nbformat_minor": 2
}

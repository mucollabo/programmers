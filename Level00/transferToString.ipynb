{
 "cells": [
  {
   "cell_type": "markdown",
   "id": "0fc9e5b1-8d9b-4783-ad4c-acbda0e4c895",
   "metadata": {},
   "source": [
    "## 문자열로 변환\n",
    "### 문제 설명\n",
    "#### 정수 n이 주어질 때, n을 문자열로 변환하여 return하도록 solution 함수를 완성해주세요.\n",
    "\n",
    "### 제한사항\n",
    "* 1 ≤ n ≤ 10000\n",
    "### 입출력 예\n",
    "|n|result|\n",
    "|----|------|\n",
    "|123|\"123\"|\n",
    "|2573|\"2573\"|\n",
    "\n",
    "### 입출력 예 설명\n",
    "#### 입출력 예 #1\n",
    "\n",
    "* 123을 문자열로 변환한 \"123\"을 return합니다.\n",
    "#### 입출력 예 #2\n",
    "\n",
    "* 2573을 문자열로 변환한 \"2573\"을 return합니다."
   ]
  },
  {
   "cell_type": "code",
   "execution_count": 1,
   "id": "dd921cfb-200f-4bb7-b5bf-538d58bf00c3",
   "metadata": {},
   "outputs": [],
   "source": [
    "def solution(n):\n",
    "    return str(n)"
   ]
  },
  {
   "cell_type": "code",
   "execution_count": 2,
   "id": "426e8be8-3a19-4a59-a7c4-5ce4eab7bfbf",
   "metadata": {},
   "outputs": [
    {
     "data": {
      "text/plain": [
       "'123'"
      ]
     },
     "execution_count": 2,
     "metadata": {},
     "output_type": "execute_result"
    }
   ],
   "source": [
    "solution(123)"
   ]
  },
  {
   "cell_type": "code",
   "execution_count": 3,
   "id": "310687b4-dd52-413b-80be-e2e7a99337d0",
   "metadata": {},
   "outputs": [
    {
     "data": {
      "text/plain": [
       "'2573'"
      ]
     },
     "execution_count": 3,
     "metadata": {},
     "output_type": "execute_result"
    }
   ],
   "source": [
    "solution(2573)"
   ]
  },
  {
   "cell_type": "code",
   "execution_count": null,
   "id": "2b7c2d84-d78f-4d50-86a5-c12718e15d2e",
   "metadata": {},
   "outputs": [],
   "source": []
  }
 ],
 "metadata": {
  "kernelspec": {
   "display_name": "Python 3 (ipykernel)",
   "language": "python",
   "name": "python3"
  },
  "language_info": {
   "codemirror_mode": {
    "name": "ipython",
    "version": 3
   },
   "file_extension": ".py",
   "mimetype": "text/x-python",
   "name": "python",
   "nbconvert_exporter": "python",
   "pygments_lexer": "ipython3",
   "version": "3.11.6"
  }
 },
 "nbformat": 4,
 "nbformat_minor": 5
}

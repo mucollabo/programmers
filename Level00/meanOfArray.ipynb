{
 "cells": [
  {
   "cell_type": "markdown",
   "id": "36a7a06c-1fdb-4ca1-a3a6-f7c81b6aef6c",
   "metadata": {},
   "source": [
    "# 배열의 평균값\n",
    "## 문제 설명\n",
    "## 정수 배열 numbers가 매개변수로 주어집니다. numbers의 원소의 평균값을 return하도록 solution 함수를 완성해주세요.\n",
    "\n",
    "## 제한사항\n",
    "### 0 ≤ numbers의 원소 ≤ 1,000\n",
    "### 1 ≤ numbers의 길이 ≤ 100\n",
    "### 정답의 소수 부분이 .0 또는 .5인 경우만 입력으로 주어집니다.\n",
    "## 입출력 예\n",
    "### numbers\tresult\n",
    "### [1, 2, 3, 4, 5, 6, 7, 8, 9, 10]\t5.5\n",
    "### [89, 90, 91, 92, 93, 94, 95, 96, 97, 98, 99]\t94.0\n",
    "## 입출력 예 설명\n",
    "### 입출력 예 #1\n",
    "\n",
    "### numbers의 원소들의 평균 값은 5.5입니다.\n",
    "### 입출력 예 #2\n",
    "\n",
    "### numbers의 원소들의 평균 값은 94.0입니다."
   ]
  },
  {
   "cell_type": "code",
   "execution_count": 5,
   "id": "8617c6b3-0fc4-44e0-bb11-6ba4421c9d47",
   "metadata": {},
   "outputs": [],
   "source": [
    "def solution(numbers):\n",
    "    return sum(numbers)/len(numbers)"
   ]
  },
  {
   "cell_type": "code",
   "execution_count": 6,
   "id": "6edb4d38-7af8-4908-9c4e-e98137f9687e",
   "metadata": {},
   "outputs": [
    {
     "data": {
      "text/plain": [
       "5.5"
      ]
     },
     "execution_count": 6,
     "metadata": {},
     "output_type": "execute_result"
    }
   ],
   "source": [
    "solution([1,2,3,4,5,6,7,8,9,10])"
   ]
  },
  {
   "cell_type": "code",
   "execution_count": 7,
   "id": "707b012e-a90f-4da6-9ad9-f21701da76da",
   "metadata": {},
   "outputs": [
    {
     "data": {
      "text/plain": [
       "94.0"
      ]
     },
     "execution_count": 7,
     "metadata": {},
     "output_type": "execute_result"
    }
   ],
   "source": [
    "solution([89, 90, 91, 92, 93, 94, 95, 96, 97, 98, 99])"
   ]
  },
  {
   "cell_type": "code",
   "execution_count": null,
   "id": "65e901e2-6c51-4ab0-a872-d9bca2a2a36e",
   "metadata": {},
   "outputs": [],
   "source": []
  }
 ],
 "metadata": {
  "kernelspec": {
   "display_name": "Python 3 (ipykernel)",
   "language": "python",
   "name": "python3"
  },
  "language_info": {
   "codemirror_mode": {
    "name": "ipython",
    "version": 3
   },
   "file_extension": ".py",
   "mimetype": "text/x-python",
   "name": "python",
   "nbconvert_exporter": "python",
   "pygments_lexer": "ipython3",
   "version": "3.10.6"
  }
 },
 "nbformat": 4,
 "nbformat_minor": 5
}

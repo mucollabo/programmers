{
 "cells": [
  {
   "cell_type": "markdown",
   "id": "506a2050-7d9e-4e14-8617-054c55663d37",
   "metadata": {},
   "source": [
    "# 배열 뒤집기\n",
    "## 문제 설명\n",
    "### 정수가 들어 있는 배열 num_list가 매개변수로 주어집니다. num_list의 원소의 순서를 거꾸로 뒤집은 배열을 return하도록 solution 함수를 완성해주세요.\n",
    "\n",
    "## 제한사항\n",
    "* 1 ≤ num_list의 길이 ≤ 1,000\n",
    "* 0 ≤ num_list의 원소 ≤ 1,000\n",
    "## 입출력 예\n",
    "|num_list|result|\n",
    "|--------|------|\n",
    "|[1, 2, 3, 4, 5]|[5, 4, 3, 2, 1]|\n",
    "|[1, 1, 1, 1, 1, 2]|[2, 1, 1, 1, 1, 1]|\n",
    "|[1, 0, 1, 1, 1, 3, 5]|[5, 3, 1, 1, 1, 0, 1]|\n",
    "## 입출력 예 설명\n",
    "## 입출력 예 #1\n",
    "\n",
    "* num_list가 [1, 2, 3, 4, 5]이므로 순서를 거꾸로 뒤집은 배열 [5, 4, 3, 2, 1]을 return합니다.\n",
    "## 입출력 예 #2\n",
    "\n",
    "* num_list가 [1, 1, 1, 1, 1, 2]이므로 순서를 거꾸로 뒤집은 배열 [2, 1, 1, 1, 1, 1]을 return합니다.\n",
    "## 입출력 예 #3\n",
    "\n",
    "* num_list가 [1, 0, 1, 1, 1, 3, 5]이므로 순서를 거꾸로 뒤집은 배열 [5, 3, 1, 1, 1, 0, 1]을 return합니다."
   ]
  },
  {
   "cell_type": "code",
   "execution_count": 3,
   "id": "04db014f-9341-4cc3-8f1d-301cdc1f43ae",
   "metadata": {},
   "outputs": [],
   "source": [
    "def solution(num_list):\n",
    "    return num_list[::-1]"
   ]
  },
  {
   "cell_type": "code",
   "execution_count": 4,
   "id": "75fecabd-592a-4c27-a549-c60c196fbc5c",
   "metadata": {},
   "outputs": [
    {
     "data": {
      "text/plain": [
       "[5, 4, 3, 2, 1]"
      ]
     },
     "execution_count": 4,
     "metadata": {},
     "output_type": "execute_result"
    }
   ],
   "source": [
    "solution([1, 2, 3, 4, 5])"
   ]
  },
  {
   "cell_type": "code",
   "execution_count": 5,
   "id": "83358cee-8cee-40e5-a102-caea366df9de",
   "metadata": {},
   "outputs": [
    {
     "data": {
      "text/plain": [
       "[2, 1, 1, 1, 1, 1]"
      ]
     },
     "execution_count": 5,
     "metadata": {},
     "output_type": "execute_result"
    }
   ],
   "source": [
    "solution([1, 1, 1, 1, 1, 2])"
   ]
  },
  {
   "cell_type": "code",
   "execution_count": 6,
   "id": "1e2ff315-8801-44b5-bfe5-7fa74c19ab67",
   "metadata": {},
   "outputs": [
    {
     "data": {
      "text/plain": [
       "[5, 3, 1, 1, 1, 0, 1]"
      ]
     },
     "execution_count": 6,
     "metadata": {},
     "output_type": "execute_result"
    }
   ],
   "source": [
    "solution([1, 0, 1, 1, 1, 3, 5])"
   ]
  },
  {
   "cell_type": "code",
   "execution_count": null,
   "id": "47e0a355-fba2-491f-90ac-e48d4f89c6ac",
   "metadata": {},
   "outputs": [],
   "source": []
  }
 ],
 "metadata": {
  "kernelspec": {
   "display_name": "Python 3 (ipykernel)",
   "language": "python",
   "name": "python3"
  },
  "language_info": {
   "codemirror_mode": {
    "name": "ipython",
    "version": 3
   },
   "file_extension": ".py",
   "mimetype": "text/x-python",
   "name": "python",
   "nbconvert_exporter": "python",
   "pygments_lexer": "ipython3",
   "version": "3.10.6"
  }
 },
 "nbformat": 4,
 "nbformat_minor": 5
}

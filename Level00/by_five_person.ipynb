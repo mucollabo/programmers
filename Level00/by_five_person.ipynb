{
 "cells": [
  {
   "cell_type": "markdown",
   "id": "e0cc4030-e6f6-4766-9875-d46b69268973",
   "metadata": {},
   "source": [
    "### 문제 설명\n",
    "\n",
    "최대 5명씩 탑승가능한 놀이기구를 타기 위해 줄을 서있는 사람들의 이름이 담긴 문자열 리스트 names가 주어질 때, 앞에서 부터 5명씩 묶은 그룹의 가장 앞에 서있는 사람들의 이름을 담은 리스트를 return하도록 solution 함수를 완성해주세요. 마지막 그룹이 5명이 되지 않더라도 가장 앞에 있는 사람의 이름을 포함합니다.\n",
    "### 제한사항\n",
    "* 5 ≤ names의 길이 ≤ 30\n",
    "* 1 ≤ names의 원소의 길이 ≤ 10\n",
    "* names의 원소는 영어 알파벳 소문자로만 이루어져 있습니다.\n",
    "### 입출력 예\n",
    "|names|result|\n",
    "|-----|------|\n",
    "|[\"nami\", \"ahri\", \"jayce\", \"garen\", \"ivern\", \"vex\", \"jinx\"]|[\"nami\", \"vex\"]|\n",
    "### 입출력 예 설명\n",
    "#### 입출력 예 #1\n",
    "* 앞에서부터 5명씩 두 그룹으로 묶을 수 있습니다. [\"nami\", \"ahri\", \"jayce\", \"garen\", \"ivern\"], [\"vex\", \"jinx\"] 이 두 그룹에서 가장 앞에 서있는 사람들의 이름을 담은 리스트인 [\"nami\", \"vex\"]를 return합니다."
   ]
  },
  {
   "cell_type": "code",
   "execution_count": 1,
   "id": "ae2cd31f-7433-47dd-85cc-1f4042fab6f6",
   "metadata": {},
   "outputs": [],
   "source": [
    "def solution(names):\n",
    "    return [n for i, n in enumerate(names) if i/]"
   ]
  },
  {
   "cell_type": "code",
   "execution_count": 2,
   "id": "c6c318aa-f62f-47f0-afcf-eefc6815474f",
   "metadata": {},
   "outputs": [
    {
     "data": {
      "text/plain": [
       "['nami', 'ahri', 'jayce', 'garen', 'ivern', 'vex', 'jinx']"
      ]
     },
     "execution_count": 2,
     "metadata": {},
     "output_type": "execute_result"
    }
   ],
   "source": [
    "solution([\"nami\", \"ahri\", \"jayce\", \"garen\", \"ivern\", \"vex\", \"jinx\"])"
   ]
  },
  {
   "cell_type": "code",
   "execution_count": null,
   "id": "76d44855-187b-4f39-a71e-d6fa021ed09d",
   "metadata": {},
   "outputs": [],
   "source": []
  }
 ],
 "metadata": {
  "kernelspec": {
   "display_name": "Python 3 (ipykernel)",
   "language": "python",
   "name": "python3"
  },
  "language_info": {
   "codemirror_mode": {
    "name": "ipython",
    "version": 3
   },
   "file_extension": ".py",
   "mimetype": "text/x-python",
   "name": "python",
   "nbconvert_exporter": "python",
   "pygments_lexer": "ipython3",
   "version": "3.11.6"
  }
 },
 "nbformat": 4,
 "nbformat_minor": 5
}

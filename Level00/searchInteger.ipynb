{
 "cells": [
  {
   "cell_type": "markdown",
   "id": "80b5f681-8810-4ed1-a258-b4a98484d718",
   "metadata": {},
   "source": [
    "## 정수 찾기\n",
    "### 문제 설명\n",
    "#### 정수 리스트 num_list와 찾으려는 정수 n이 주어질 때, num_list안에 n이 있으면 1을 없으면 0을 return하도록 solution 함수를 완성해주세요.\n",
    "\n",
    "### 제한사항\n",
    "* 3 ≤ num_list의 길이 ≤ 100\n",
    "* 1 ≤ num_list의 원소 ≤ 100\n",
    "* 1 ≤ n ≤ 100\n",
    "### 입출력 예\n",
    "|num_list|n|result|\n",
    "|--------|-|------|\n",
    "|[1, 2, 3, 4, 5]|3|1|\n",
    "|[15, 98, 23, 2, 15]|20|0|\n",
    "### 입출력 예 설명\n",
    "#### 입출력 예 #1\n",
    "\n",
    "* [1, 2, 3, 4, 5] 안에 3이 있으므로 1을 return합니다.\n",
    "#### 입출력 예 #2\n",
    "\n",
    "* [15, 98, 23, 2, 15] 안에 20이 없으므로 0을 return합니다."
   ]
  },
  {
   "cell_type": "code",
   "execution_count": 6,
   "id": "9bf3e47f-83b9-42d0-b57d-4787ae461d74",
   "metadata": {},
   "outputs": [],
   "source": [
    "def solution(num_list, n):\n",
    "    return 1 if n in num_list else 0"
   ]
  },
  {
   "cell_type": "code",
   "execution_count": 7,
   "id": "a994499a-2392-4573-b1d7-f74ce7399a94",
   "metadata": {},
   "outputs": [
    {
     "data": {
      "text/plain": [
       "1"
      ]
     },
     "execution_count": 7,
     "metadata": {},
     "output_type": "execute_result"
    }
   ],
   "source": [
    "solution([1, 2, 3, 4, 5], 3)"
   ]
  },
  {
   "cell_type": "code",
   "execution_count": 8,
   "id": "f4eb9fcc-6866-4155-bd37-0ef7655d8abf",
   "metadata": {},
   "outputs": [
    {
     "data": {
      "text/plain": [
       "0"
      ]
     },
     "execution_count": 8,
     "metadata": {},
     "output_type": "execute_result"
    }
   ],
   "source": [
    "solution([15, 98, 23, 2, 15], 20)"
   ]
  },
  {
   "cell_type": "code",
   "execution_count": 9,
   "id": "56bd15e9-1cc2-40ad-92d1-399382b78e44",
   "metadata": {},
   "outputs": [],
   "source": [
    "def solution2(num_list, n):\n",
    "    return int(n in num_list)"
   ]
  },
  {
   "cell_type": "code",
   "execution_count": 10,
   "id": "979f5ca8-88f0-4038-8e6b-60fa1c74b056",
   "metadata": {},
   "outputs": [
    {
     "data": {
      "text/plain": [
       "1"
      ]
     },
     "execution_count": 10,
     "metadata": {},
     "output_type": "execute_result"
    }
   ],
   "source": [
    "solution2([1, 2, 3, 4, 5], 3)"
   ]
  },
  {
   "cell_type": "code",
   "execution_count": 11,
   "id": "d82d01ae-130f-40d8-b761-bb1f32fc82c7",
   "metadata": {},
   "outputs": [
    {
     "data": {
      "text/plain": [
       "0"
      ]
     },
     "execution_count": 11,
     "metadata": {},
     "output_type": "execute_result"
    }
   ],
   "source": [
    "solution2([15, 98, 23, 2, 15], 20)"
   ]
  },
  {
   "cell_type": "code",
   "execution_count": null,
   "id": "ea4876d7-b32e-4736-bc38-5fc7cb4a46e0",
   "metadata": {},
   "outputs": [],
   "source": []
  }
 ],
 "metadata": {
  "kernelspec": {
   "display_name": "Python 3 (ipykernel)",
   "language": "python",
   "name": "python3"
  },
  "language_info": {
   "codemirror_mode": {
    "name": "ipython",
    "version": 3
   },
   "file_extension": ".py",
   "mimetype": "text/x-python",
   "name": "python",
   "nbconvert_exporter": "python",
   "pygments_lexer": "ipython3",
   "version": "3.11.6"
  }
 },
 "nbformat": 4,
 "nbformat_minor": 5
}

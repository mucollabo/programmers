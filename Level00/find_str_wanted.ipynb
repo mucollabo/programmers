{
 "cells": [
  {
   "cell_type": "markdown",
   "id": "a26239ca-bff8-453b-afa2-4a0ee0bf23da",
   "metadata": {},
   "source": [
    "### 문제 설명\n",
    "\n",
    "알파벳으로 이루어진 문자열 myString과 pat이 주어집니다. myString의 연속된 부분 문자열 중 pat이 존재하면 1을 그렇지 않으면 0을 return 하는 solution 함수를 완성해 주세요.\n",
    "단, 알파벳 대문자와 소문자는 구분하지 않습니다.\n",
    "### 제한사항\n",
    "* 1 ≤ myString의 길이 ≤ 100,000\n",
    "* 1 ≤ pat의 길이 ≤ 300\n",
    "* myString과 pat은 모두 알파벳으로 이루어진 문자열입니다.\n",
    "### 입출력 예\n",
    "|myString|pat|return|\n",
    "|--------|---|------|\n",
    "|\"AbCdEfG\"|\"aBc\"|1|\n",
    "|\"aaAA\"|\"aaaaa\"|0|\n",
    "### 입출력 예 설명\n",
    "#### 입출력 예 #1\n",
    "* \"AbCdEfG\"의 0~2번 인덱스의 문자열은 \"AbC\"이며, 이는 pat인 \"aBc\"와 같습니다. 따라서 1을 return 합니다.\n",
    "#### 입출력 예 #2\n",
    "* myString의 길이가 pat보다 더 짧기 때문에 myString의 부분 문자열 중 pat와 같은 문자열이 있을 수 없습니다. 따라서 0을 return 합니다.\n",
    "\n",
    "※2023년 05월 15일 제한사항이 수정되었습니다."
   ]
  },
  {
   "cell_type": "code",
   "execution_count": 18,
   "id": "9ffb730c-d68a-4ed1-9a0a-e4d070785aaf",
   "metadata": {},
   "outputs": [],
   "source": [
    "def solution(myString, pat):\n",
    "    if len(myString) >= len(pat):\n",
    "        for i in range(len(myString) - len(pat) + 1):\n",
    "            print(myString.lower()[i:len(pat)+i], pat.lower()) \n",
    "            if myString.lower()[i:len(pat)+i] == pat.lower():\n",
    "                return 1\n",
    "    else:\n",
    "        return 0"
   ]
  },
  {
   "cell_type": "code",
   "execution_count": 19,
   "id": "a156d0e0-7781-4554-9c3f-0312be706319",
   "metadata": {},
   "outputs": [
    {
     "name": "stdout",
     "output_type": "stream",
     "text": [
      "abc abc\n"
     ]
    },
    {
     "data": {
      "text/plain": [
       "1"
      ]
     },
     "execution_count": 19,
     "metadata": {},
     "output_type": "execute_result"
    }
   ],
   "source": [
    "solution(\"AbCdEfG\", \"aBc\")"
   ]
  },
  {
   "cell_type": "code",
   "execution_count": 20,
   "id": "ebf39704-5a35-4e35-9bf3-8ca745067804",
   "metadata": {},
   "outputs": [
    {
     "data": {
      "text/plain": [
       "0"
      ]
     },
     "execution_count": 20,
     "metadata": {},
     "output_type": "execute_result"
    }
   ],
   "source": [
    "solution(\"aaAA\", \"aaaaa\")"
   ]
  },
  {
   "cell_type": "code",
   "execution_count": 21,
   "id": "c59905ec-d343-4e5c-83da-ca8453674a3d",
   "metadata": {},
   "outputs": [
    {
     "name": "stdout",
     "output_type": "stream",
     "text": [
      "def abc\n",
      "efg abc\n",
      "fga abc\n",
      "gab abc\n",
      "abc abc\n"
     ]
    },
    {
     "data": {
      "text/plain": [
       "1"
      ]
     },
     "execution_count": 21,
     "metadata": {},
     "output_type": "execute_result"
    }
   ],
   "source": [
    "solution(\"dEfGAbC\", \"aBc\")"
   ]
  },
  {
   "cell_type": "code",
   "execution_count": null,
   "id": "bfba8a04-dbc3-43f1-b9bf-c12ad623120a",
   "metadata": {},
   "outputs": [],
   "source": []
  }
 ],
 "metadata": {
  "kernelspec": {
   "display_name": "Python 3 (ipykernel)",
   "language": "python",
   "name": "python3"
  },
  "language_info": {
   "codemirror_mode": {
    "name": "ipython",
    "version": 3
   },
   "file_extension": ".py",
   "mimetype": "text/x-python",
   "name": "python",
   "nbconvert_exporter": "python",
   "pygments_lexer": "ipython3",
   "version": "3.11.6"
  }
 },
 "nbformat": 4,
 "nbformat_minor": 5
}

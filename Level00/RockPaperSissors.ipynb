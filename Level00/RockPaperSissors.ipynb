{
 "cells": [
  {
   "cell_type": "markdown",
   "id": "7eda6163-f712-4524-a04f-31d9f8dc8a11",
   "metadata": {},
   "source": [
    "# 가위 바위 보\n",
    "## 문제 설명\n",
    "### 가위는 2 바위는 0 보는 5로 표현합니다. 가위 바위 보를 내는 순서대로 나타낸 문자열 rsp가 매개변수로 주어질 때, rsp에 저장된 가위 바위 보를 모두 이기는 경우를 순서대로 나타낸 문자열을 return하도록 solution 함수를 완성해보세요.\n",
    "\n",
    "## 제한사항\n",
    "* 0 < rsp의 길이 ≤ 100\n",
    "* rsp와 길이가 같은 문자열을 return 합니다.\n",
    "* rsp는 숫자 0, 2, 5로 이루어져 있습니다.\n",
    "## 입출력 예\n",
    "|rsp|result|\n",
    "|---|------|\n",
    "|\"2\"|\"0\"|\n",
    "|\"205\"|\"052\"|\n",
    "## 입출력 예 설명\n",
    "## 입출력 예 #1\n",
    "\n",
    "* \"2\"는 가위이므로 바위를 나타내는 \"0\"을 return 합니다.\n",
    "## 입출력 예 #2\n",
    "\n",
    "* \"205\"는 순서대로 가위, 바위, 보이고 이를 모두 이기려면 바위, 보, 가위를 순서대로 내야하므로 “052”를 return합니다."
   ]
  },
  {
   "cell_type": "code",
   "execution_count": 1,
   "id": "aee716b9-eb6b-4330-aa2b-b54622c93243",
   "metadata": {},
   "outputs": [],
   "source": [
    "def solution(rsp):\n",
    "    win_rsp = {\"2\":\"0\", \"0\":\"5\", \"5\":\"2\"}\n",
    "    result = ''\n",
    "    for i in rsp:\n",
    "        result += win_rsp[i]\n",
    "    return result"
   ]
  },
  {
   "cell_type": "code",
   "execution_count": 2,
   "id": "09697b8d-6ded-41a7-bb82-8cbacbf59677",
   "metadata": {},
   "outputs": [
    {
     "data": {
      "text/plain": [
       "'0'"
      ]
     },
     "execution_count": 2,
     "metadata": {},
     "output_type": "execute_result"
    }
   ],
   "source": [
    "solution('2')"
   ]
  },
  {
   "cell_type": "code",
   "execution_count": 3,
   "id": "784a0cd7-56e5-446c-b3fe-8c4197338608",
   "metadata": {},
   "outputs": [
    {
     "data": {
      "text/plain": [
       "'052'"
      ]
     },
     "execution_count": 3,
     "metadata": {},
     "output_type": "execute_result"
    }
   ],
   "source": [
    "solution('205')"
   ]
  },
  {
   "cell_type": "code",
   "execution_count": 4,
   "id": "619dd099-2330-4a9a-b6fd-88caeed235a1",
   "metadata": {},
   "outputs": [],
   "source": [
    "def solution2(rsp):\n",
    "    win_rsp = {\"2\":\"0\", \"0\":\"5\", \"5\":\"2\"}\n",
    "    return ''.join(win_rsp[i] for i in rsp)"
   ]
  },
  {
   "cell_type": "code",
   "execution_count": 5,
   "id": "bb386f02-d12e-46e3-be10-fd4204bd1df0",
   "metadata": {},
   "outputs": [
    {
     "data": {
      "text/plain": [
       "'0'"
      ]
     },
     "execution_count": 5,
     "metadata": {},
     "output_type": "execute_result"
    }
   ],
   "source": [
    "solution2('2')"
   ]
  },
  {
   "cell_type": "code",
   "execution_count": 6,
   "id": "ea7ec45f-9817-4605-88e0-6c4501124d68",
   "metadata": {},
   "outputs": [
    {
     "data": {
      "text/plain": [
       "'052'"
      ]
     },
     "execution_count": 6,
     "metadata": {},
     "output_type": "execute_result"
    }
   ],
   "source": [
    "solution2('205')"
   ]
  },
  {
   "cell_type": "code",
   "execution_count": null,
   "id": "dd707576-d0eb-42b9-84a5-1566fb943ab5",
   "metadata": {},
   "outputs": [],
   "source": []
  }
 ],
 "metadata": {
  "kernelspec": {
   "display_name": "Python 3 (ipykernel)",
   "language": "python",
   "name": "python3"
  },
  "language_info": {
   "codemirror_mode": {
    "name": "ipython",
    "version": 3
   },
   "file_extension": ".py",
   "mimetype": "text/x-python",
   "name": "python",
   "nbconvert_exporter": "python",
   "pygments_lexer": "ipython3",
   "version": "3.10.6"
  }
 },
 "nbformat": 4,
 "nbformat_minor": 5
}

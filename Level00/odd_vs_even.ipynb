{
 "cells": [
  {
   "cell_type": "markdown",
   "id": "7337acc3-d182-459c-9e31-cc08eecc64a9",
   "metadata": {},
   "source": [
    "### 문제 설명\n",
    "\n",
    "정수 리스트 num_list가 주어집니다. 가장 첫 번째 원소를 1번 원소라고 할 때, 홀수 번째 원소들의 합과 짝수 번째 원소들의 합 중 큰 값을 return 하도록 solution 함수를 완성해주세요. 두 값이 같을 경우 그 값을 return합니다.\n",
    "### 제한사항\n",
    "* 5 ≤ num_list의 길이 ≤ 50\n",
    "* -9 ≤ num_list의 원소 ≤ 9\n",
    "### 입출력 예\n",
    "|num_list|result|\n",
    "|--------|------|\n",
    "|[4, 2, 6, 1, 7, 6]|17|\n",
    "|[-1, 2, 5, 6, 3]|8|\n",
    "### 입출력 예 설명\n",
    "#### 입출력 예 #1\n",
    "* 홀수 번째 원소들의 합은 4 + 6 + 7 = 17, 짝수 번째 원소들의 합은 2 + 1 + 6 = 9 이므로 17을 return합니다.\n",
    "#### 입출력 예 #2\n",
    "* 홀수 번째 원소들의 합은 -1 + 5 + 3 = 7, 짝수 번째 원소들의 합은 2 + 6 = 8 이므로 8을 return합니다.\n",
    "※2023년 04월 24일 테스트 케이스가 추가되었습니다. 기존에 제출한 코드가 통과하지 못할 수 있습니다."
   ]
  },
  {
   "cell_type": "code",
   "execution_count": 18,
   "id": "b8f3563a-7478-4e37-8b97-c23069a98214",
   "metadata": {},
   "outputs": [],
   "source": [
    "def solution(num_list):\n",
    "    o, e = 0, 0\n",
    "    for i, n in enumerate(num_list):\n",
    "        if i%2 == 0:\n",
    "            o += n\n",
    "        else:\n",
    "            e += n\n",
    "    return max(o, e)"
   ]
  },
  {
   "cell_type": "code",
   "execution_count": 19,
   "id": "8b0828fd-c4d6-4bbf-93c2-8f8d6c5a19c0",
   "metadata": {},
   "outputs": [
    {
     "data": {
      "text/plain": [
       "17"
      ]
     },
     "execution_count": 19,
     "metadata": {},
     "output_type": "execute_result"
    }
   ],
   "source": [
    "solution([4, 2, 6, 1, 7, 6])"
   ]
  },
  {
   "cell_type": "code",
   "execution_count": 20,
   "id": "cd59be44-bb8f-4b35-8a1d-a6083052a87b",
   "metadata": {},
   "outputs": [
    {
     "data": {
      "text/plain": [
       "8"
      ]
     },
     "execution_count": 20,
     "metadata": {},
     "output_type": "execute_result"
    }
   ],
   "source": [
    "solution([-1, 2, 5, 6, 3])"
   ]
  }
 ],
 "metadata": {
  "kernelspec": {
   "display_name": "Python 3 (ipykernel)",
   "language": "python",
   "name": "python3"
  },
  "language_info": {
   "codemirror_mode": {
    "name": "ipython",
    "version": 3
   },
   "file_extension": ".py",
   "mimetype": "text/x-python",
   "name": "python",
   "nbconvert_exporter": "python",
   "pygments_lexer": "ipython3",
   "version": "3.11.6"
  }
 },
 "nbformat": 4,
 "nbformat_minor": 5
}

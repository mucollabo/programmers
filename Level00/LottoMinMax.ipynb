{
  "nbformat": 4,
  "nbformat_minor": 0,
  "metadata": {
    "colab": {
      "name": "LottoMinMax.ipynb",
      "provenance": [],
      "authorship_tag": "ABX9TyO8Rhe8IUhGITYGgFJDRsBi",
      "include_colab_link": true
    },
    "kernelspec": {
      "name": "python3",
      "display_name": "Python 3"
    },
    "language_info": {
      "name": "python"
    }
  },
  "cells": [
    {
      "cell_type": "markdown",
      "metadata": {
        "id": "view-in-github",
        "colab_type": "text"
      },
      "source": [
        "<a href=\"https://colab.research.google.com/github/mucollabo/programmers/blob/main/LottoMinMax.ipynb\" target=\"_parent\"><img src=\"https://colab.research.google.com/assets/colab-badge.svg\" alt=\"Open In Colab\"/></a>"
      ]
    },
    {
      "cell_type": "code",
      "execution_count": 64,
      "metadata": {
        "id": "NLlzjabYwn_2"
      },
      "outputs": [],
      "source": [
        "lottos = [44, 1, 0, 0, 31, 25]\n",
        "win_nums = [31, 10, 45, 1, 6, 19]\n",
        "lottos_1 = [0, 0, 0, 0, 0, 0]\n",
        "win_nums_1 = [38, 19, 20, 40, 15, 25]\n",
        "lottos_2 = [45, 4, 35, 20, 3, 9]\n",
        "win_nums_2 = [20, 9, 3, 45, 4, 35]"
      ]
    },
    {
      "cell_type": "code",
      "source": [
        "def solution(lottos, win_nums):\n",
        "  same_cnt = 0\n",
        "\n",
        "  for win_num in win_nums:\n",
        "    if win_num in lottos:\n",
        "      same_cnt += 1\n",
        "\n",
        "  diffs = 6 - same_cnt - lottos.count(0)\n",
        "\n",
        "  if diffs < 5:\n",
        "    max_rank = diffs + 1\n",
        "  else:\n",
        "    max_rank = 6\n",
        "\n",
        "  if same_cnt > 1:\n",
        "    min_rank = 7 - same_cnt\n",
        "  else:\n",
        "    min_rank = 6\n",
        "\n",
        "  answer = [max_rank, min_rank]\n",
        "\n",
        "  return answer"
      ],
      "metadata": {
        "id": "wgJNwWINxNzu"
      },
      "execution_count": 93,
      "outputs": []
    },
    {
      "cell_type": "code",
      "source": [
        "solution(lottos, win_nums)"
      ],
      "metadata": {
        "colab": {
          "base_uri": "https://localhost:8080/"
        },
        "id": "uznP7bj_xoEe",
        "outputId": "1deb7856-3fa7-43dd-e670-9832bed51282"
      },
      "execution_count": 94,
      "outputs": [
        {
          "output_type": "execute_result",
          "data": {
            "text/plain": [
              "[3, 5]"
            ]
          },
          "metadata": {},
          "execution_count": 94
        }
      ]
    },
    {
      "cell_type": "code",
      "source": [
        "solution(lottos_1, win_nums_1)"
      ],
      "metadata": {
        "colab": {
          "base_uri": "https://localhost:8080/"
        },
        "id": "uTVsb-Ed2YC8",
        "outputId": "6b129af9-0f64-4d47-9ecd-b540753f1390"
      },
      "execution_count": 95,
      "outputs": [
        {
          "output_type": "execute_result",
          "data": {
            "text/plain": [
              "[1, 6]"
            ]
          },
          "metadata": {},
          "execution_count": 95
        }
      ]
    },
    {
      "cell_type": "code",
      "source": [
        "solution(lottos_2, win_nums_2)"
      ],
      "metadata": {
        "colab": {
          "base_uri": "https://localhost:8080/"
        },
        "id": "bxSF6puO2hrv",
        "outputId": "8d6710ac-1842-4fde-8b5b-06243431a037"
      },
      "execution_count": 96,
      "outputs": [
        {
          "output_type": "execute_result",
          "data": {
            "text/plain": [
              "[1, 1]"
            ]
          },
          "metadata": {},
          "execution_count": 96
        }
      ]
    },
    {
      "cell_type": "code",
      "source": [
        ""
      ],
      "metadata": {
        "id": "LgAY4ccs9VO7"
      },
      "execution_count": null,
      "outputs": []
    }
  ]
}
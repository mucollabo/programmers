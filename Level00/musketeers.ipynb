{
 "cells": [
  {
   "cell_type": "markdown",
   "id": "f83f38ed-afbb-465e-a50f-3a920c62d5b3",
   "metadata": {},
   "source": [
    "# 삼총사\n",
    "## 문제 설명\n",
    "### 한국중학교에 다니는 학생들은 각자 정수 번호를 갖고 있습니다. 이 학교 학생 3명의 정수 번호를 더했을 때 0이 되면 3명의 학생은 삼총사라고 합니다. 예를 들어, 5명의 학생이 있고, 각각의 정수 번호가 순서대로 -2, 3, 0, 2, -5일 때, 첫 번째, 세 번째, 네 번째 학생의 정수 번호를 더하면 0이므로 세 학생은 삼총사입니다. 또한, 두 번째, 네 번째, 다섯 번째 학생의 정수 번호를 더해도 0이므로 세 학생도 삼총사입니다. 따라서 이 경우 한국중학교에서는 두 가지 방법으로 삼총사를 만들 수 있습니다.\n",
    "\n",
    "### 한국중학교 학생들의 번호를 나타내는 정수 배열 number가 매개변수로 주어질 때, 학생들 중 삼총사를 만들 수 있는 방법의 수를 return 하도록 solution 함수를 완성하세요.\n",
    "\n",
    "## 제한사항\n",
    "* 3 ≤ number의 길이 ≤ 13\n",
    "* -1,000 ≤ number의 각 원소 ≤ 1,000\n",
    "* 서로 다른 학생의 정수 번호가 같을 수 있습니다.\n",
    "## 입출력 예\n",
    "|number|result|\n",
    "|------|------|\n",
    "|[-2, 3, 0, 2, -5]|2|\n",
    "|[-3, -2, -1, 0, 1, 2, 3]|5|\n",
    "|[-1, 1, -1, 1]|0|\n",
    "## 입출력 예 설명\n",
    "## 입출력 예 #1\n",
    "\n",
    "* 문제 예시와 같습니다.\n",
    "## 입출력 예 #2\n",
    "\n",
    "* 학생들의 정수 번호 쌍 (-3, 0, 3), (-2, 0, 2), (-1, 0, 1), (-2, -1, 3), (-3, 1, 2) 이 삼총사가 될 수 있으므로, 5를 return 합니다.\n",
    "## 입출력 예 #3\n",
    "\n",
    "* 삼총사가 될 수 있는 방법이 없습니다."
   ]
  },
  {
   "cell_type": "code",
   "execution_count": 4,
   "id": "f080872b-fc2e-48ac-a162-b0d240145a0e",
   "metadata": {},
   "outputs": [],
   "source": [
    "def solution(number):\n",
    "    cnt = 0\n",
    "    for i in range(len(number)):\n",
    "        for j in range(i+1, len(number)):\n",
    "            for k in range(j+1, len(number)):\n",
    "                if number[i] + number[j] + number[k] == 0:\n",
    "                    cnt += 1\n",
    "    return cnt"
   ]
  },
  {
   "cell_type": "code",
   "execution_count": 5,
   "id": "8fee87e2-dfae-4eef-bbc9-3a62d3ee3098",
   "metadata": {},
   "outputs": [
    {
     "data": {
      "text/plain": [
       "2"
      ]
     },
     "execution_count": 5,
     "metadata": {},
     "output_type": "execute_result"
    }
   ],
   "source": [
    "solution([-2, 3, 0, 2, -5])"
   ]
  },
  {
   "cell_type": "code",
   "execution_count": 6,
   "id": "a50b77c8-3b46-49d0-9ab3-3fbd36be1e9c",
   "metadata": {},
   "outputs": [
    {
     "data": {
      "text/plain": [
       "5"
      ]
     },
     "execution_count": 6,
     "metadata": {},
     "output_type": "execute_result"
    }
   ],
   "source": [
    "solution([-3, -2, -1, 0, 1, 2, 3])"
   ]
  },
  {
   "cell_type": "code",
   "execution_count": 7,
   "id": "1f982abd-3691-476a-90bf-ade3db65b986",
   "metadata": {},
   "outputs": [
    {
     "data": {
      "text/plain": [
       "0"
      ]
     },
     "execution_count": 7,
     "metadata": {},
     "output_type": "execute_result"
    }
   ],
   "source": [
    "solution([-1, 1, -1, 1])"
   ]
  },
  {
   "cell_type": "code",
   "execution_count": 17,
   "id": "962f57a3-bc18-4a7d-843a-6a33e63f0291",
   "metadata": {},
   "outputs": [],
   "source": [
    "from itertools import combinations\n",
    "\n",
    "def solution2(number):\n",
    "    return sum(list(map(lambda x: 1 if sum(x) == 0 else 0, combinations(number, 3))))"
   ]
  },
  {
   "cell_type": "code",
   "execution_count": 18,
   "id": "d85b7d68-201b-4624-a8ec-10ab17a6eafc",
   "metadata": {},
   "outputs": [
    {
     "data": {
      "text/plain": [
       "2"
      ]
     },
     "execution_count": 18,
     "metadata": {},
     "output_type": "execute_result"
    }
   ],
   "source": [
    "solution2([-2, 3, 0, 2, -5])"
   ]
  },
  {
   "cell_type": "code",
   "execution_count": 19,
   "id": "8a8bde46-136d-44a6-9fe3-b0cd988fc09e",
   "metadata": {},
   "outputs": [
    {
     "data": {
      "text/plain": [
       "5"
      ]
     },
     "execution_count": 19,
     "metadata": {},
     "output_type": "execute_result"
    }
   ],
   "source": [
    "solution2([-3, -2, -1, 0, 1, 2, 3])"
   ]
  },
  {
   "cell_type": "code",
   "execution_count": 20,
   "id": "a7f2b48b-cc0b-4b2c-86a1-e871bb677f98",
   "metadata": {},
   "outputs": [
    {
     "data": {
      "text/plain": [
       "0"
      ]
     },
     "execution_count": 20,
     "metadata": {},
     "output_type": "execute_result"
    }
   ],
   "source": [
    "solution2([-1, 1, -1, 1])"
   ]
  },
  {
   "cell_type": "code",
   "execution_count": null,
   "id": "230f2b2d-cfaa-4b4a-8d18-5eac29a23585",
   "metadata": {},
   "outputs": [],
   "source": []
  }
 ],
 "metadata": {
  "kernelspec": {
   "display_name": "Python 3 (ipykernel)",
   "language": "python",
   "name": "python3"
  },
  "language_info": {
   "codemirror_mode": {
    "name": "ipython",
    "version": 3
   },
   "file_extension": ".py",
   "mimetype": "text/x-python",
   "name": "python",
   "nbconvert_exporter": "python",
   "pygments_lexer": "ipython3",
   "version": "3.10.6"
  }
 },
 "nbformat": 4,
 "nbformat_minor": 5
}

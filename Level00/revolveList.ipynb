{
 "cells": [
  {
   "cell_type": "markdown",
   "id": "e5259986-21b8-48b4-8174-2269b63b7899",
   "metadata": {},
   "source": [
    "# 배열 회전시키기\n",
    "## 문제 설명\n",
    "### 정수가 담긴 배열 numbers와 문자열 direction가 매개변수로 주어집니다. 배열 numbers의 원소를 direction방향으로 한 칸씩 회전시킨 배열을 return하도록 solution 함수를 완성해주세요.\n",
    "\n",
    "## 제한사항\n",
    "* 3 ≤ numbers의 길이 ≤ 20\n",
    "* direction은 \"left\" 와 \"right\" 둘 중 하나입니다.\n",
    "## 입출력 예\n",
    "|numbers|direction|result|\n",
    "|-------|---------|------|\n",
    "|[1, 2, 3]|\"right\"|[3, 1, 2]|\n",
    "|[4, 455, 6, 4, -1, 45, 6]|\"left\"|[455, 6, 4, -1, 45, 6, 4]|\n",
    "## 입출력 예 설명\n",
    "## 입출력 예 #1\n",
    "\n",
    "* numbers 가 [1, 2, 3]이고 direction이 \"right\" 이므로 오른쪽으로 한 칸씩 회전시킨 [3, 1, 2]를 return합니다.\n",
    "## 입출력 예 #2\n",
    "\n",
    "* numbers 가 [4, 455, 6, 4, -1, 45, 6]이고 direction이 \"left\" 이므로 왼쪽으로 한 칸씩 회전시킨 [455, 6, 4, -1, 45, 6, 4]를 return합니다."
   ]
  },
  {
   "cell_type": "code",
   "execution_count": 54,
   "id": "ca85c7b2-1ae8-40b4-b16a-6b3a21bc8b54",
   "metadata": {},
   "outputs": [],
   "source": [
    "def solution(numbers, direction):\n",
    "    result = []\n",
    "    if direction == 'right':\n",
    "        for i in range(len(numbers)):\n",
    "            result.append(numbers[i-1])\n",
    "    elif direction == 'left':\n",
    "        for i in range(-len(numbers), 0):\n",
    "            result.append(numbers[i+1])\n",
    "    return result"
   ]
  },
  {
   "cell_type": "code",
   "execution_count": 55,
   "id": "2800061c-9744-4c58-b185-2b34d22008e7",
   "metadata": {},
   "outputs": [
    {
     "data": {
      "text/plain": [
       "[3, 1, 2]"
      ]
     },
     "execution_count": 55,
     "metadata": {},
     "output_type": "execute_result"
    }
   ],
   "source": [
    "solution([1,2,3], 'right')"
   ]
  },
  {
   "cell_type": "code",
   "execution_count": 57,
   "id": "a9b42fdc-629c-47fe-8740-634db2186dd3",
   "metadata": {},
   "outputs": [
    {
     "data": {
      "text/plain": [
       "[455, 6, 4, -1, 45, 6, 4]"
      ]
     },
     "execution_count": 57,
     "metadata": {},
     "output_type": "execute_result"
    }
   ],
   "source": [
    "solution([4, 455, 6, 4, -1, 45, 6], 'left')"
   ]
  },
  {
   "cell_type": "code",
   "execution_count": 70,
   "id": "9ce1c197-3d8b-4314-a37b-7830a4d7edc7",
   "metadata": {},
   "outputs": [],
   "source": [
    "from collections import deque\n",
    "\n",
    "def solution2(numbers, direction):\n",
    "    numbers = deque(numbers)\n",
    "    numbers.rotate(1 if direction == 'right' else -1)\n",
    "    return list(numbers)"
   ]
  },
  {
   "cell_type": "code",
   "execution_count": 71,
   "id": "6f10f909-40fb-41fe-b278-eac3b5f17e50",
   "metadata": {},
   "outputs": [
    {
     "data": {
      "text/plain": [
       "[3, 1, 2]"
      ]
     },
     "execution_count": 71,
     "metadata": {},
     "output_type": "execute_result"
    }
   ],
   "source": [
    "solution2([1,2,3], 'right')"
   ]
  },
  {
   "cell_type": "code",
   "execution_count": 72,
   "id": "a3fad14a-17f1-49bb-afa3-0231e4749219",
   "metadata": {},
   "outputs": [
    {
     "data": {
      "text/plain": [
       "[455, 6, 4, -1, 45, 6, 4]"
      ]
     },
     "execution_count": 72,
     "metadata": {},
     "output_type": "execute_result"
    }
   ],
   "source": [
    "solution2([4, 455, 6, 4, -1, 45, 6], 'left')"
   ]
  },
  {
   "cell_type": "code",
   "execution_count": null,
   "id": "153d57cf-c407-465e-aa83-fef16c91d247",
   "metadata": {},
   "outputs": [],
   "source": []
  }
 ],
 "metadata": {
  "kernelspec": {
   "display_name": "Python 3 (ipykernel)",
   "language": "python",
   "name": "python3"
  },
  "language_info": {
   "codemirror_mode": {
    "name": "ipython",
    "version": 3
   },
   "file_extension": ".py",
   "mimetype": "text/x-python",
   "name": "python",
   "nbconvert_exporter": "python",
   "pygments_lexer": "ipython3",
   "version": "3.10.6"
  }
 },
 "nbformat": 4,
 "nbformat_minor": 5
}

{
 "cells": [
  {
   "cell_type": "markdown",
   "id": "d0f55667-a77e-4408-8d84-6dd8b270039d",
   "metadata": {},
   "source": [
    "# 숨어있는 숫자의 덧셈 (2)\n",
    "## 문제 설명\n",
    "### 문자열 my_string이 매개변수로 주어집니다. my_string은 소문자, 대문자, 자연수로만 구성되어있습니다. my_string안의 자연수들의 합을 return하도록 solution 함수를 완성해주세요.\n",
    "\n",
    "## 제한사항\n",
    "* 1 ≤ my_string의 길이 ≤ 1,000\n",
    "* 1 ≤ my_string 안의 자연수 ≤ 1000\n",
    "* 연속된 수는 하나의 숫자로 간주합니다.\n",
    "* 000123과 같이 0이 선행하는 경우는 없습니다.\n",
    "* 문자열에 자연수가 없는 경우 0을 return 해주세요.\n",
    "## 입출력 예\n",
    "|my_string|result|\n",
    "|---------|------|\n",
    "|\"aAb1B2cC34oOp\"|37|\n",
    "|\"1a2b3c4d123Z\"|133|\n",
    "## 입출력 예 설명\n",
    "## 입출력 예 #1\n",
    "\n",
    "* \"aAb1B2cC34oOp\"안의 자연수는 1, 2, 34 입니다. 따라서 1 + 2 + 34 = 37 을 return합니다.\n",
    "## 입출력 예 #2\n",
    "\n",
    "* \"1a2b3c4d123Z\"안의 자연수는 1, 2, 3, 4, 123 입니다. 따라서 1 + 2 + 3 + 4 + 123 = 133 을 return합니다."
   ]
  },
  {
   "cell_type": "code",
   "execution_count": 63,
   "id": "42f524a4-bd2e-4736-a170-1275f8995acc",
   "metadata": {},
   "outputs": [],
   "source": [
    "import re\n",
    "\n",
    "def solution(my_string):\n",
    "    r = re.compile('\\d+')\n",
    "    return sum(map(int, r.findall(my_string)))"
   ]
  },
  {
   "cell_type": "code",
   "execution_count": 64,
   "id": "96385292-3510-4494-838d-020d649b9f83",
   "metadata": {},
   "outputs": [
    {
     "data": {
      "text/plain": [
       "37"
      ]
     },
     "execution_count": 64,
     "metadata": {},
     "output_type": "execute_result"
    }
   ],
   "source": [
    "solution(\"aAb1B2cC34oOp\")"
   ]
  },
  {
   "cell_type": "code",
   "execution_count": 65,
   "id": "fd1710f6-7f2e-4c8e-bfc4-15c14bafddc7",
   "metadata": {},
   "outputs": [
    {
     "data": {
      "text/plain": [
       "133"
      ]
     },
     "execution_count": 65,
     "metadata": {},
     "output_type": "execute_result"
    }
   ],
   "source": [
    "solution(\"1a2b3c4d123Z\")"
   ]
  },
  {
   "cell_type": "code",
   "execution_count": null,
   "id": "819952b8-d6a6-4a82-b9ca-9fd6cd029a04",
   "metadata": {},
   "outputs": [],
   "source": []
  }
 ],
 "metadata": {
  "kernelspec": {
   "display_name": "Python 3 (ipykernel)",
   "language": "python",
   "name": "python3"
  },
  "language_info": {
   "codemirror_mode": {
    "name": "ipython",
    "version": 3
   },
   "file_extension": ".py",
   "mimetype": "text/x-python",
   "name": "python",
   "nbconvert_exporter": "python",
   "pygments_lexer": "ipython3",
   "version": "3.10.6"
  }
 },
 "nbformat": 4,
 "nbformat_minor": 5
}

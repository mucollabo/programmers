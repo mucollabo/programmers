{
 "cells": [
  {
   "cell_type": "markdown",
   "id": "96febae6-3c06-4452-aed2-1aa71c7f04e5",
   "metadata": {},
   "source": [
    "# 모스부호 (1)\n",
    "## 문제 설명\n",
    "### 머쓱이는 친구에게 모스부호를 이용한 편지를 받았습니다. 그냥은 읽을 수 없어 이를 해독하는 프로그램을 만들려고 합니다. 문자열 letter가 매개변수로 주어질 때, letter를 영어 소문자로 바꾼 문자열을 return 하도록 solution 함수를 완성해보세요.\n",
    "### 모스부호는 다음과 같습니다.\n",
    "\n",
    "> morse = { \n",
    ">    '.-':'a','-...':'b','-.-.':'c','-..':'d','.':'e','..-.':'f', <br>\n",
    ">    '--.':'g','....':'h','..':'i','.---':'j','-.-':'k','.-..':'l', <br>\n",
    ">    '--':'m','-.':'n','---':'o','.--.':'p','--.-':'q','.-.':'r', <br>\n",
    ">    '...':'s','-':'t','..-':'u','...-':'v','.--':'w','-..-':'x', <br>\n",
    ">    '-.--':'y','--..':'z' <br>\n",
    "> } <br>\n",
    "\n",
    "## 제한사항\n",
    "* 1 ≤ letter의 길이 ≤ 1,000\n",
    "* 8return값은 소문자입니다.\n",
    "* letter의 모스부호는 공백으로 나누어져 있습니다.\n",
    "* letter에 공백은 연속으로 두 개 이상 존재하지 않습니다.\n",
    "* 해독할 수 없는 편지는 주어지지 않습니다.\n",
    "* 편지의 시작과 끝에는 공백이 없습니다.\n",
    "## 입출력 예\n",
    "|letter|result|\n",
    "|------|------|\n",
    "|\".... . .-.. .-.. ---\"|\"hello\"|\n",
    "|\".--. -.-- - .... --- -.\"|\"python\"|\n",
    "## 입출력 예 설명\n",
    "## 입출력 예 #1\n",
    "\n",
    "* .... = h\n",
    "* . = e\n",
    "* .-.. = l\n",
    "* .-.. = l\n",
    "* --- = o\n",
    "* 따라서 \"hello\"를 return 합니다.\n",
    "## 입출력 예 #2\n",
    "\n",
    "* .--. = p\n",
    "* -.-- = y\n",
    "* - = t\n",
    "* .... = h\n",
    "* --- = o\n",
    "* -. = n\n",
    "* 따라서 \"python\"을 return 합니다.\n",
    "* a ~ z에 해당하는 모스부호가 순서대로 담긴 배열입니다.\n",
    "\n",
    "* {\".-\",\"-...\",\"-.-.\",\"-..\",\".\",\"..-.\",\"--.\",\"....\",\"..\",\".---\",\"-.-\",\".-..\",\"--\",\"-.\",\"---\",\".--.\",\"--.-\",\".-.\",\"...\",\"-\",\"..-\",\"...-\",\".--\",\"-..-\",\"-.--\",\"--..\"}"
   ]
  },
  {
   "cell_type": "code",
   "execution_count": 11,
   "id": "cf4fed26-3c92-4ffc-b826-d49bd3ac4c7d",
   "metadata": {},
   "outputs": [],
   "source": [
    "def solution(letter):\n",
    "    morse = { \n",
    "    '.-':'a','-...':'b','-.-.':'c','-..':'d','.':'e','..-.':'f',\n",
    "    '--.':'g','....':'h','..':'i','.---':'j','-.-':'k','.-..':'l',\n",
    "    '--':'m','-.':'n','---':'o','.--.':'p','--.-':'q','.-.':'r',\n",
    "    '...':'s','-':'t','..-':'u','...-':'v','.--':'w','-..-':'x',\n",
    "    '-.--':'y','--..':'z'\n",
    "    }\n",
    "    return ''.join(map(lambda x: morse[x], letter.split(' ')))"
   ]
  },
  {
   "cell_type": "code",
   "execution_count": 12,
   "id": "0c4cb554-0d79-4bf1-a224-344e07dee35e",
   "metadata": {},
   "outputs": [
    {
     "data": {
      "text/plain": [
       "'hello'"
      ]
     },
     "execution_count": 12,
     "metadata": {},
     "output_type": "execute_result"
    }
   ],
   "source": [
    "solution(\".... . .-.. .-.. ---\")"
   ]
  },
  {
   "cell_type": "code",
   "execution_count": 13,
   "id": "d22de81e-e9bf-4d3f-89c1-3d946d85689a",
   "metadata": {},
   "outputs": [
    {
     "data": {
      "text/plain": [
       "'python'"
      ]
     },
     "execution_count": 13,
     "metadata": {},
     "output_type": "execute_result"
    }
   ],
   "source": [
    "solution(\".--. -.-- - .... --- -.\")"
   ]
  },
  {
   "cell_type": "code",
   "execution_count": null,
   "id": "93713b63-3cb9-4662-9bf5-fb1b8ee3e756",
   "metadata": {},
   "outputs": [],
   "source": []
  }
 ],
 "metadata": {
  "kernelspec": {
   "display_name": "Python 3 (ipykernel)",
   "language": "python",
   "name": "python3"
  },
  "language_info": {
   "codemirror_mode": {
    "name": "ipython",
    "version": 3
   },
   "file_extension": ".py",
   "mimetype": "text/x-python",
   "name": "python",
   "nbconvert_exporter": "python",
   "pygments_lexer": "ipython3",
   "version": "3.10.6"
  }
 },
 "nbformat": 4,
 "nbformat_minor": 5
}

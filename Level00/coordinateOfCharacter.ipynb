{
 "cells": [
  {
   "cell_type": "markdown",
   "id": "d94668e3-c34c-4f18-b5fa-857ffb010c91",
   "metadata": {},
   "source": [
    "# 캐릭터의 좌표\n",
    "## 문제 설명\n",
    "### 머쓱이는 RPG게임을 하고 있습니다. 게임에는 up, down, left, right 방향키가 있으며 각 키를 누르면 위, 아래, 왼쪽, 오른쪽으로 한 칸씩 이동합니다. 예를 들어 [0,0]에서 up을 누른다면 캐릭터의 좌표는 [0, 1], down을 누른다면 [0, -1], left를 누른다면 [-1, 0], right를 누른다면 [1, 0]입니다. 머쓱이가 입력한 방향키의 배열 keyinput와 맵의 크기 board이 매개변수로 주어집니다. 캐릭터는 항상 [0,0]에서 시작할 때 키 입력이 모두 끝난 뒤에 캐릭터의 좌표 [x, y]를 return하도록 solution 함수를 완성해주세요.\n",
    "\n",
    "* [0, 0]은 board의 정 중앙에 위치합니다. 예를 들어 board의 가로 크기가 9라면 캐릭터는 왼쪽으로 최대 [-4, 0]까지 오른쪽으로 최대 [4, 0]까지 이동할 수 있습니다.\n",
    "## 제한사항\n",
    "* board은 [가로 크기, 세로 크기] 형태로 주어집니다.\n",
    "* board의 가로 크기와 세로 크기는 홀수입니다.\n",
    "* board의 크기를 벗어난 방향키 입력은 무시합니다.\n",
    "* 0 ≤ keyinput의 길이 ≤ 50\n",
    "* 1 ≤ board[0] ≤ 99\n",
    "* 1 ≤ board[1] ≤ 99\n",
    "* keyinput은 항상 up, down, left, right만 주어집니다.\n",
    "## 입출력 예\n",
    "|keyinput|board|result|\n",
    "|--------|-----|------|\n",
    "|[\"left\", \"right\", \"up\", \"right\", \"right\"]|[11, 11]|[2, 1]|\n",
    "|[\"down\", \"down\", \"down\", \"down\", \"down\"]|[7, 9]|[0, -4]|\n",
    "## 입출력 예 설명\n",
    "## 입출력 예 설명 #1\n",
    "\n",
    "* [0, 0]에서 왼쪽으로 한 칸 오른쪽으로 한 칸 위로 한 칸 오른쪽으로 두 칸 이동한 좌표는 [2, 1]입니다.\n",
    "## 입출력 예 설명 #2\n",
    "\n",
    "* [0, 0]에서 아래로 다섯 칸 이동한 좌표는 [0, -5]이지만 맵의 세로 크기가 9이므로 아래로는 네 칸을 넘어서 이동할 수 없습니다. 따라서 [0, -4]를 return합니다."
   ]
  },
  {
   "cell_type": "code",
   "execution_count": 22,
   "id": "c261d741-703b-4f42-b960-72eed6af2342",
   "metadata": {},
   "outputs": [],
   "source": [
    "def solution(keyinput, board):\n",
    "    rLR = (board[0]-1)//2\n",
    "    rUD = (board[1]-1)//2\n",
    "    r = [0,0]\n",
    "    for k in keyinput:\n",
    "        if k == 'left':\n",
    "            r[0] = r[0]-1 if abs(r[0]-1) <= rLR else -rLR if r[0]-1 < 0 else rLR\n",
    "        elif k == 'right':\n",
    "            r[0] = r[0]+1 if abs(r[0]+1) <= rLR else -rLR if r[0]+1 < 0 else rLR\n",
    "        elif k == 'up':\n",
    "            r[1] = r[1]+1 if abs(r[1]+1) <= rUD else -rUD if r[1]+1 < 0 else rUD\n",
    "        else:\n",
    "            r[1] = r[1]-1 if abs(r[1]-1) <= rUD else -rUD if r[1]-1 < 0 else rUD\n",
    "    return r"
   ]
  },
  {
   "cell_type": "code",
   "execution_count": 23,
   "id": "a371fea0-1237-463c-83b7-32ac26056d93",
   "metadata": {},
   "outputs": [
    {
     "data": {
      "text/plain": [
       "[0, 0]"
      ]
     },
     "execution_count": 23,
     "metadata": {},
     "output_type": "execute_result"
    }
   ],
   "source": [
    "solution2([\"left\", \"left\", \"left\", \"right\"], [3, 3])"
   ]
  },
  {
   "cell_type": "code",
   "execution_count": 24,
   "id": "90e313a7-92c6-4028-8962-abf27e69b4b1",
   "metadata": {},
   "outputs": [
    {
     "data": {
      "text/plain": [
       "[0, 0]"
      ]
     },
     "execution_count": 24,
     "metadata": {},
     "output_type": "execute_result"
    }
   ],
   "source": [
    "solution2([\"up\", \"up\", \"up\", \"down\"], [3, 3])"
   ]
  },
  {
   "cell_type": "code",
   "execution_count": 25,
   "id": "43df857e-2c58-45dc-b4aa-038f76faae8f",
   "metadata": {},
   "outputs": [
    {
     "data": {
      "text/plain": [
       "[2, 1]"
      ]
     },
     "execution_count": 25,
     "metadata": {},
     "output_type": "execute_result"
    }
   ],
   "source": [
    "solution2([\"left\", \"right\", \"up\", \"right\", \"right\"], [11, 11])"
   ]
  },
  {
   "cell_type": "code",
   "execution_count": 26,
   "id": "949d23f6-939b-4596-85a5-24efdd38a940",
   "metadata": {},
   "outputs": [
    {
     "data": {
      "text/plain": [
       "[0, -4]"
      ]
     },
     "execution_count": 26,
     "metadata": {},
     "output_type": "execute_result"
    }
   ],
   "source": [
    "solution2([\"down\", \"down\", \"down\", \"down\", \"down\"], [7, 9])"
   ]
  },
  {
   "cell_type": "code",
   "execution_count": null,
   "id": "717577ba-17a5-4fb6-8352-56af19264285",
   "metadata": {},
   "outputs": [],
   "source": []
  }
 ],
 "metadata": {
  "kernelspec": {
   "display_name": "Python 3 (ipykernel)",
   "language": "python",
   "name": "python3"
  },
  "language_info": {
   "codemirror_mode": {
    "name": "ipython",
    "version": 3
   },
   "file_extension": ".py",
   "mimetype": "text/x-python",
   "name": "python",
   "nbconvert_exporter": "python",
   "pygments_lexer": "ipython3",
   "version": "3.10.6"
  }
 },
 "nbformat": 4,
 "nbformat_minor": 5
}

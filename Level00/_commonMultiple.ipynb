{
 "cells": [
  {
   "cell_type": "markdown",
   "id": "fe321b8f-5f58-4ddd-8058-0fad37d70b6f",
   "metadata": {},
   "source": [
    "## 공배수\n",
    "### 문제 설명\n",
    "#### 정수 number와 n, m이 주어집니다. number가 n의 배수이면서 m의 배수이면 1을 아니라면 0을 return하도록 solution 함수를 완성해주세요.\n",
    "\n",
    "### 제한사항\n",
    "* 10 ≤ number ≤ 100\n",
    "* 2 ≤ n, m < 10\n",
    "### 입출력 예\n",
    "|number|n|m|result|\n",
    "|------|--|--|-----|\n",
    "|60|2|3|1|\n",
    "|55|10|5|0|\n",
    "\n",
    "### 입출력 예 설명\n",
    "#### 입출력 예 #1\n",
    "\n",
    "* 60은 2의 배수이면서 3의 배수이기 때문에 1을 return합니다.\n",
    "#### 입출력 예 #2\n",
    "\n",
    "* 55는 5의 배수이지만 10의 배수가 아니기 때문에 0을 return합니다."
   ]
  },
  {
   "cell_type": "code",
   "execution_count": 1,
   "id": "ea801ba7-1731-40d0-8d6c-131b585b6b01",
   "metadata": {},
   "outputs": [],
   "source": [
    "def solution(number, n, m):\n",
    "    return 1 if number % n == 0 and number % m == 0 else 0"
   ]
  },
  {
   "cell_type": "code",
   "execution_count": 2,
   "id": "fd405bf9-5310-431e-9662-36d6331435a3",
   "metadata": {},
   "outputs": [
    {
     "data": {
      "text/plain": [
       "1"
      ]
     },
     "execution_count": 2,
     "metadata": {},
     "output_type": "execute_result"
    }
   ],
   "source": [
    "solution(60, 2, 3)"
   ]
  },
  {
   "cell_type": "code",
   "execution_count": 3,
   "id": "73962a57-a0f5-4a2d-ba54-f24e23dd03b8",
   "metadata": {},
   "outputs": [
    {
     "data": {
      "text/plain": [
       "0"
      ]
     },
     "execution_count": 3,
     "metadata": {},
     "output_type": "execute_result"
    }
   ],
   "source": [
    "solution(55, 10, 5)"
   ]
  },
  {
   "cell_type": "code",
   "execution_count": null,
   "id": "53f2a26a-f4a6-4acd-9233-deaa5898b458",
   "metadata": {},
   "outputs": [],
   "source": []
  }
 ],
 "metadata": {
  "kernelspec": {
   "display_name": "Python 3 (ipykernel)",
   "language": "python",
   "name": "python3"
  },
  "language_info": {
   "codemirror_mode": {
    "name": "ipython",
    "version": 3
   },
   "file_extension": ".py",
   "mimetype": "text/x-python",
   "name": "python",
   "nbconvert_exporter": "python",
   "pygments_lexer": "ipython3",
   "version": "3.11.6"
  }
 },
 "nbformat": 4,
 "nbformat_minor": 5
}

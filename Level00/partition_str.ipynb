{
 "cells": [
  {
   "cell_type": "markdown",
   "id": "83e15f6c-ddc1-4305-a4a7-d31a30e0dfbd",
   "metadata": {},
   "source": [
    "### 문제 설명\n",
    "\n",
    "어떤 문자열 A가 다른 문자열 B안에 속하면 A를 B의 부분 문자열이라고 합니다. 예를 들어 문자열 \"abc\"는 문자열 \"aabcc\"의 부분 문자열입니다.\n",
    "문자열 str1과 str2가 주어질 때, str1이 str2의 부분 문자열이라면 1을 부분 문자열이 아니라면 0을 return하도록 solution 함수를 완성해주세요.\n",
    "### 제한 사항\n",
    "* 1 ≤ str1 ≤ str2 ≤ 20\n",
    "* str1과 str2는 영어 소문자로만 이루어져 있습니다.\n",
    "### 입출력 예\n",
    "|str1|str2|result|\n",
    "|----|----|------|\n",
    "|\"abc\"|\"aabcc\"|1|\n",
    "|\"tbt\"|\"tbbttb\"|0|\n",
    "### 입출력 예 설명\n",
    "#### 입출력 예 #1\n",
    "* 본문과 동일합니다.\n",
    "#### 입출력 예 #2\n",
    "* \"tbbttb\"에는 \"tbt\"가 없으므로 0을 return합니다."
   ]
  },
  {
   "cell_type": "code",
   "execution_count": 23,
   "id": "bb056596-9888-4314-8d4e-44bea962e62d",
   "metadata": {},
   "outputs": [],
   "source": [
    "def solution(str1, str2):\n",
    "    for s in range(len(str2)-len(str1)+1):\n",
    "        if str2[s:len(str1)+s] == str1:\n",
    "            return 1\n",
    "    return 0"
   ]
  },
  {
   "cell_type": "code",
   "execution_count": 24,
   "id": "616d4465-2dba-49de-b203-17ffff5f15ee",
   "metadata": {},
   "outputs": [
    {
     "data": {
      "text/plain": [
       "1"
      ]
     },
     "execution_count": 24,
     "metadata": {},
     "output_type": "execute_result"
    }
   ],
   "source": [
    "solution('abc', 'aabcc')"
   ]
  },
  {
   "cell_type": "code",
   "execution_count": 25,
   "id": "005e6187-6bee-4b03-a8d3-dd038c213338",
   "metadata": {},
   "outputs": [
    {
     "data": {
      "text/plain": [
       "0"
      ]
     },
     "execution_count": 25,
     "metadata": {},
     "output_type": "execute_result"
    }
   ],
   "source": [
    "solution(\"tbt\", \"tbbttb\")"
   ]
  }
 ],
 "metadata": {
  "kernelspec": {
   "display_name": "Python 3 (ipykernel)",
   "language": "python",
   "name": "python3"
  },
  "language_info": {
   "codemirror_mode": {
    "name": "ipython",
    "version": 3
   },
   "file_extension": ".py",
   "mimetype": "text/x-python",
   "name": "python",
   "nbconvert_exporter": "python",
   "pygments_lexer": "ipython3",
   "version": "3.11.6"
  }
 },
 "nbformat": 4,
 "nbformat_minor": 5
}

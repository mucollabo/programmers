{
 "cells": [
  {
   "cell_type": "markdown",
   "id": "129ae820-de57-436a-867b-4076a39b22d0",
   "metadata": {},
   "source": [
    "# 삼각형의 완성조건 (2)\n",
    "## 문제 설명\n",
    "### 선분 세 개로 삼각형을 만들기 위해서는 다음과 같은 조건을 만족해야 합니다.\n",
    "\n",
    "* 가장 긴 변의 길이는 다른 두 변의 길이의 합보다 작아야 합니다.\n",
    "### 삼각형의 두 변의 길이가 담긴 배열 sides이 매개변수로 주어집니다. 나머지 한 변이 될 수 있는 정수의 개수를 return하도록 solution 함수를 완성해주세요.\n",
    "\n",
    "## 제한사항\n",
    "* sides의 원소는 자연수입니다.\n",
    "* sides의 길이는 2입니다.\n",
    "* 1 ≤ sides의 원소 ≤ 1,000\n",
    "## 입출력 예\n",
    "|sides|result|\n",
    "|-----|------|\n",
    "|[1, 2]|1|\n",
    "|[3, 6]|5|\n",
    "|[11, 7]|13|\n",
    "## 입출력 예 설명\n",
    "## 입출력 예 #1\n",
    "\n",
    "* 두 변이 1, 2 인 경우 삼각형을 완성시키려면 나머지 한 변이 2여야 합니다. 따라서 1을 return합니다.\n",
    "## 입출력 예 #2\n",
    "\n",
    "* 가장 긴 변이 6인 경우\n",
    "  * 될 수 있는 나머지 한 변은 4, 5, 6 로 3개입니다.\n",
    "* 나머지 한 변이 가장 긴 변인 경우\n",
    "  * 될 수 있는 한 변은 7, 8 로 2개입니다.\n",
    "* 따라서 3 + 2 = 5를 return합니다.\n",
    "## 입출력 예 #3\n",
    "\n",
    "* 가장 긴 변이 11인 경우\n",
    "  * 될 수 있는 나머지 한 변은 5, 6, 7, 8, 9, 10, 11 로 7개입니다.\n",
    "* 나머지 한 변이 가장 긴 변인 경우\n",
    "  * 될 수 있는 한 변은 12, 13, 14, 15, 16, 17 로 6개입니다.\n",
    "* 따라서 7 + 6 = 13을 return합니다."
   ]
  },
  {
   "cell_type": "code",
   "execution_count": 5,
   "id": "ae56992c-2cac-4ed4-a7a1-996a65f82411",
   "metadata": {},
   "outputs": [],
   "source": [
    "def solution(sides):\n",
    "    return (sum(sides)-1) - abs(sides[0]-sides[1])"
   ]
  },
  {
   "cell_type": "code",
   "execution_count": 6,
   "id": "7437b1f6-5b61-4fdc-ac76-0c5f1de54784",
   "metadata": {},
   "outputs": [
    {
     "data": {
      "text/plain": [
       "1"
      ]
     },
     "execution_count": 6,
     "metadata": {},
     "output_type": "execute_result"
    }
   ],
   "source": [
    "solution([1,2])"
   ]
  },
  {
   "cell_type": "code",
   "execution_count": 7,
   "id": "b5fe562c-4b06-4b63-a655-dd01f4f1a4a4",
   "metadata": {},
   "outputs": [
    {
     "data": {
      "text/plain": [
       "5"
      ]
     },
     "execution_count": 7,
     "metadata": {},
     "output_type": "execute_result"
    }
   ],
   "source": [
    "solution([3,6])"
   ]
  },
  {
   "cell_type": "code",
   "execution_count": 8,
   "id": "6e46086f-b1f0-4b7b-98ab-644e5fae304b",
   "metadata": {},
   "outputs": [
    {
     "data": {
      "text/plain": [
       "13"
      ]
     },
     "execution_count": 8,
     "metadata": {},
     "output_type": "execute_result"
    }
   ],
   "source": [
    "solution([11,7])"
   ]
  },
  {
   "cell_type": "code",
   "execution_count": null,
   "id": "f32439ab-5c73-40f4-91f2-31c0715703ac",
   "metadata": {},
   "outputs": [],
   "source": []
  }
 ],
 "metadata": {
  "kernelspec": {
   "display_name": "Python 3 (ipykernel)",
   "language": "python",
   "name": "python3"
  },
  "language_info": {
   "codemirror_mode": {
    "name": "ipython",
    "version": 3
   },
   "file_extension": ".py",
   "mimetype": "text/x-python",
   "name": "python",
   "nbconvert_exporter": "python",
   "pygments_lexer": "ipython3",
   "version": "3.10.6"
  }
 },
 "nbformat": 4,
 "nbformat_minor": 5
}

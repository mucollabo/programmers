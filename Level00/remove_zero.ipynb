{
 "cells": [
  {
   "cell_type": "markdown",
   "id": "66fc88eb-64a0-4c82-a8c3-3a3e76df4511",
   "metadata": {},
   "source": [
    "### 문제 설명\n",
    "\n",
    "정수로 이루어진 문자열 n_str이 주어질 때, n_str의 가장 왼쪽에 처음으로 등장하는 0들을 뗀 문자열을 return하도록 solution 함수를 완성해주세요.\n",
    "### 제한사항\n",
    "* 2 ≤ n_str ≤ 10\n",
    "* n_str이 \"0\"으로만 이루어진 경우는 없습니다.\n",
    "### 입출력 예\n",
    "|n_str|result|\n",
    "|-----|------|\n",
    "|\"0010\"|\"10\"|\n",
    "|\"854020\"|\"854020\"|\n",
    "### 입출력 예 설명\n",
    "#### 입출력 예 #1\n",
    "* \"0010\"의 가장 왼쪽에 연속으로 등장하는 \"0\"을 모두 제거하면 \"10\"이 됩니다.\n",
    "#### 입출력 예 #2\n",
    "* \"854020\"는 가장 왼쪽에 0이 없으므로 \"854020\"을 return합니다."
   ]
  },
  {
   "cell_type": "code",
   "execution_count": 29,
   "id": "42a73109-72b4-49f7-a141-d4e62d40310d",
   "metadata": {},
   "outputs": [],
   "source": [
    "def solution(n_str):\n",
    "    for i in range(len(n_str)):\n",
    "        if n_str[i] != \"0\":\n",
    "            return n_str[i:]"
   ]
  },
  {
   "cell_type": "code",
   "execution_count": 30,
   "id": "8f4b7201-3436-4b82-8c61-8db88fc54b52",
   "metadata": {},
   "outputs": [
    {
     "data": {
      "text/plain": [
       "'10'"
      ]
     },
     "execution_count": 30,
     "metadata": {},
     "output_type": "execute_result"
    }
   ],
   "source": [
    "solution(\"0010\")"
   ]
  },
  {
   "cell_type": "code",
   "execution_count": 31,
   "id": "5b53bfb6-3c77-4025-9beb-979e62dde214",
   "metadata": {},
   "outputs": [
    {
     "data": {
      "text/plain": [
       "'854020'"
      ]
     },
     "execution_count": 31,
     "metadata": {},
     "output_type": "execute_result"
    }
   ],
   "source": [
    "solution(\"854020\")"
   ]
  },
  {
   "cell_type": "code",
   "execution_count": 32,
   "id": "01c4030c-ea81-436a-8411-0c5073aa3181",
   "metadata": {},
   "outputs": [
    {
     "data": {
      "text/plain": [
       "'70402'"
      ]
     },
     "execution_count": 32,
     "metadata": {},
     "output_type": "execute_result"
    }
   ],
   "source": [
    "solution(\"00070402\")"
   ]
  }
 ],
 "metadata": {
  "kernelspec": {
   "display_name": "Python 3 (ipykernel)",
   "language": "python",
   "name": "python3"
  },
  "language_info": {
   "codemirror_mode": {
    "name": "ipython",
    "version": 3
   },
   "file_extension": ".py",
   "mimetype": "text/x-python",
   "name": "python",
   "nbconvert_exporter": "python",
   "pygments_lexer": "ipython3",
   "version": "3.11.6"
  }
 },
 "nbformat": 4,
 "nbformat_minor": 5
}

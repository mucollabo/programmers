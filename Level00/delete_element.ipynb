{
 "cells": [
  {
   "cell_type": "markdown",
   "id": "aa460055-5edd-42cd-b147-974e5fbe72da",
   "metadata": {},
   "source": [
    "### 문제 설명\n",
    "\n",
    "정수 배열 arr과 delete_list가 있습니다. arr의 원소 중 delete_list의 원소를 모두 삭제하고 남은 원소들은 기존의 arr에 있던 순서를 유지한 배열을 return 하는 solution 함수를 작성해 주세요.\n",
    "### 제한사항\n",
    "* 1 ≤ arr의 길이 ≤ 100\n",
    "* 1 ≤ arr의 원소 ≤ 1,000\n",
    "* arr의 원소는 모두 서로 다릅니다.\n",
    "* 1 ≤ delete_list의 길이 ≤ 100\n",
    "* 1 ≤ delete_list의 원소 ≤ 1,000\n",
    "* delete_list의 원소는 모두 서로 다릅니다.\n",
    "### 입출력 예\n",
    "|arr|delete_list|result|\n",
    "|---|-----------|------|\n",
    "|[293, 1000, 395, 678, 94]|[94, 777, 104, 1000, 1, 12]|[293, 395, 678]|\n",
    "|[110, 66, 439, 785, 1]|[377, 823, 119, 43]|[110, 66, 439, 785, 1]|\n",
    "### 입출력 예 설명\n",
    "#### 입출력 예 #1\n",
    "* 예제 1번의 arr의 원소 중 1000과 94가 delete_list에 있으므로 이 두 원소를 삭제한 [293, 395, 678]을 return 합니다.\n",
    "#### 입출력 예 #2\n",
    "* 예제 2번의 arr의 원소 중 delete_list에 있는 원소는 없습니다. 따라서 arr 그대로인 [110, 66, 439, 785, 1]을 return 합니다."
   ]
  },
  {
   "cell_type": "code",
   "execution_count": 10,
   "id": "3f6af60f-2ab5-4270-8c36-25d9d87ab76a",
   "metadata": {},
   "outputs": [],
   "source": [
    "def solution(arr, delete_list):\n",
    "    return [e for e in arr if e not in delete_list]"
   ]
  },
  {
   "cell_type": "code",
   "execution_count": 11,
   "id": "77efc6e2-8949-442b-81b6-295b5a5bf968",
   "metadata": {},
   "outputs": [
    {
     "data": {
      "text/plain": [
       "[293, 395, 678]"
      ]
     },
     "execution_count": 11,
     "metadata": {},
     "output_type": "execute_result"
    }
   ],
   "source": [
    "solution([293, 1000, 395, 678, 94], [94, 777, 104, 1000, 1, 12])"
   ]
  },
  {
   "cell_type": "code",
   "execution_count": 12,
   "id": "fc50faf2-48bb-45f6-98bd-f1dcd273d361",
   "metadata": {},
   "outputs": [
    {
     "data": {
      "text/plain": [
       "[110, 66, 439, 785, 1]"
      ]
     },
     "execution_count": 12,
     "metadata": {},
     "output_type": "execute_result"
    }
   ],
   "source": [
    "solution([110, 66, 439, 785, 1], [377, 823, 119, 43])"
   ]
  },
  {
   "cell_type": "markdown",
   "id": "5aab66d1-513f-47b0-b482-25c8079bf26d",
   "metadata": {},
   "source": [
    "#### filter() 사용"
   ]
  },
  {
   "cell_type": "code",
   "execution_count": 23,
   "id": "378a62e2-a5d6-4169-9b4b-3754d777a1f5",
   "metadata": {},
   "outputs": [],
   "source": [
    "def solution2(arr, delete_list):\n",
    "    return list(filter(lambda x: x not in delete_list, arr))"
   ]
  },
  {
   "cell_type": "code",
   "execution_count": 24,
   "id": "95f3197d-e643-49f1-ba09-94a240613732",
   "metadata": {},
   "outputs": [
    {
     "data": {
      "text/plain": [
       "[293, 395, 678]"
      ]
     },
     "execution_count": 24,
     "metadata": {},
     "output_type": "execute_result"
    }
   ],
   "source": [
    "solution2([293, 1000, 395, 678, 94], [94, 777, 104, 1000, 1, 12])"
   ]
  },
  {
   "cell_type": "code",
   "execution_count": null,
   "id": "f692844b-e5e3-4193-bcde-bfd20bd417ac",
   "metadata": {},
   "outputs": [],
   "source": []
  }
 ],
 "metadata": {
  "kernelspec": {
   "display_name": "Python 3 (ipykernel)",
   "language": "python",
   "name": "python3"
  },
  "language_info": {
   "codemirror_mode": {
    "name": "ipython",
    "version": 3
   },
   "file_extension": ".py",
   "mimetype": "text/x-python",
   "name": "python",
   "nbconvert_exporter": "python",
   "pygments_lexer": "ipython3",
   "version": "3.11.6"
  }
 },
 "nbformat": 4,
 "nbformat_minor": 5
}

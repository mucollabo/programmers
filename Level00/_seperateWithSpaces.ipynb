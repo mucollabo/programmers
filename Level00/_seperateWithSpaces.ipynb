{
 "cells": [
  {
   "cell_type": "markdown",
   "id": "be0d664c-2e05-48f0-bde6-de3aa8c76c36",
   "metadata": {},
   "source": [
    "## 공백으로 구분하기2\n",
    "### 문제 설명\n",
    "#### 단어가 공백 한 개 이상으로 구분되어 있는 문자열 my_string이 매개변수로 주어질 때, my_string에 나온 단어를 앞에서부터 순서대로 담은 문자열 배열을 return 하는 solution 함수를 작성해 주세요.\n",
    "\n",
    "### 제한사항\n",
    "* my_string은 영소문자와 공백으로만 이루어져 있습니다.\n",
    "* 1 ≤ my_string의 길이 ≤ 1,000\n",
    "* my_string의 맨 앞과 맨 뒤에도 공백이 있을 수 있습니다.\n",
    "* my_string에는 단어가 하나 이상 존재합니다.\n",
    "### 입출력 예\n",
    "|my_string|result|\n",
    "|---------|------|\n",
    "|\" i    love  you\"|[\"i\", \"love\", \"you\"]|\n",
    "|\"    programmers  \"|[\"programmers\"]|\n",
    "### 입출력 예 설명\n",
    "#### 입출력 예 #1\n",
    "\n",
    "* 예제 1번의 my_string은 \" i    love  you\"로 공백을 기준으로 단어를 나누면 \"i\", \"love\", \"you\" 3개의 단어가 있습니다. 따라서 [\"i\", \"love\", \"you\"]를 return 합니다.\n",
    "#### 입출력 예 #2\n",
    "\n",
    "* 예제 2번의 my_string은 \"    programmers  \"로 단어는 \"programmers\" 하나만 있습니다. 따라서 [\"programmers\"]를 return 합니다."
   ]
  },
  {
   "cell_type": "code",
   "execution_count": 23,
   "id": "16bc6b29-155f-42e0-81d8-53284256e67c",
   "metadata": {},
   "outputs": [],
   "source": [
    "def solution(my_string):\n",
    "    return \" \".join(my_string.split()).split()"
   ]
  },
  {
   "cell_type": "code",
   "execution_count": 24,
   "id": "1e010875-3252-48c3-885a-1b36861e0691",
   "metadata": {},
   "outputs": [
    {
     "data": {
      "text/plain": [
       "['i', 'love', 'you']"
      ]
     },
     "execution_count": 24,
     "metadata": {},
     "output_type": "execute_result"
    }
   ],
   "source": [
    "solution(' i  love you')"
   ]
  },
  {
   "cell_type": "code",
   "execution_count": 25,
   "id": "6c681614-c833-48d0-b460-6494f32194de",
   "metadata": {},
   "outputs": [
    {
     "data": {
      "text/plain": [
       "['programmers']"
      ]
     },
     "execution_count": 25,
     "metadata": {},
     "output_type": "execute_result"
    }
   ],
   "source": [
    "solution(' programmers ')"
   ]
  },
  {
   "cell_type": "code",
   "execution_count": null,
   "id": "62dc5d77-0ee1-44bf-8dec-59f3b7afe60b",
   "metadata": {},
   "outputs": [],
   "source": []
  }
 ],
 "metadata": {
  "kernelspec": {
   "display_name": "Python 3 (ipykernel)",
   "language": "python",
   "name": "python3"
  },
  "language_info": {
   "codemirror_mode": {
    "name": "ipython",
    "version": 3
   },
   "file_extension": ".py",
   "mimetype": "text/x-python",
   "name": "python",
   "nbconvert_exporter": "python",
   "pygments_lexer": "ipython3",
   "version": "3.11.6"
  }
 },
 "nbformat": 4,
 "nbformat_minor": 5
}

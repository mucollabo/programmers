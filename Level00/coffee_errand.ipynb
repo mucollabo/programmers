{
 "cells": [
  {
   "cell_type": "markdown",
   "metadata": {},
   "source": [
    "### 문제 설명\n",
    "팀의 막내인 철수는 아메리카노와 카페 라테만 판매하는 카페에서 팀원들의 커피를 사려고 합니다. 아메리카노와 카페 라테의 가격은 차가운 것과 뜨거운 것 상관없이 각각 4500, 5000원입니다. 각 팀원에게 마실 메뉴를 적어달라고 하였고, 그 중에서 메뉴만 적은 팀원의 것은 차가운 것으로 통일하고 \"아무거나\"를 적은 팀원의 것은 차가운 아메리카노로 통일하기로 하였습니다.\n",
    "\n",
    "각 직원이 적은 메뉴가 문자열 배열 order로 주어질 때, 카페에서 결제하게 될 금액을 return 하는 solution 함수를 작성해주세요. order의 원소는 아래의 것들만 들어오고, 각각의 의미는 다음과 같습니다.\n",
    "\n",
    "|order의 원소|의미|\n",
    "|-----------|---|\n",
    "|\"iceamericano\", \"americanoice\"|차가운 아메리카노|\n",
    "|\"hotamericano\", \"americanohot\"|따뜻한 아메리카노|\n",
    "|\"icecafelatte\", \"cafelatteice\"|차가운 카페 라테|\n",
    "|\"hotcafelatte\", \"cafelattehot\"|따뜻한 카페 라테|\n",
    "|\"americano\"|아메리카노|\n",
    "|\"cafelatte\"|카페 라테|\n",
    "|\"anything\"|아무거나|\n",
    "\n",
    "### 제한사항\n",
    "* 1 ≤ order의 길이 ≤ 1,000\n",
    "### 입출력 예\n",
    "|order|result|\n",
    "|-----|------|\n",
    "|[\"cafelatte\", \"americanoice\", \"hotcafelatte\", \"anything\"]|19000|\n",
    "|[\"americanoice\", \"americano\", \"iceamericano\"]|13500|\n",
    "\n",
    "### 입출력 예 설명\n",
    "#### 입출력 예 #1\n",
    "\n",
    "* 예제 1번의 입력을 표로 나타내면 다음과 같습니다.\n",
    "\n",
    "|order[i]|팀원의 적은 음료|실제 주문 음료|\n",
    "|---|---|---|\n",
    "|\"cafelatte\"|카페 라테|차가운 카페 라테|\n",
    "|\"americanoice\"|차가운 아메리카노|차가운 아메리카노|\n",
    "|\"hotcafelatte\"|따뜻한 카페 라테|따뜻한 카페 라테|\n",
    "|\"anything\"|아무거나|차가운 아메리카노|\n",
    "\n",
    "* 철수는 차가운 아메리카노 2잔, 차가운 카페 라테 1잔, 따뜻한 카페 라테 1잔을 주문하게 되므로 결제 금액은 4500 &times; 2 + 5000 &times; 2 = 19000원입니다. 따라서 19000을 return 합니다.\n",
    "### 입출력 예 #2\n",
    "\n",
    "* 예제 2번의 입력에서는 모든 음료를 차가운 아메리카노로 시키게 됩니다. 따라서 결제 금액은 4500 × 3 = 13500원이고 13500을 return 합니다."
   ]
  },
  {
   "cell_type": "code",
   "execution_count": 5,
   "metadata": {},
   "outputs": [],
   "source": [
    "def solution(order):\n",
    "    return sum([5000 if 'cafelatte' in o else 4500 for o in order])"
   ]
  },
  {
   "cell_type": "code",
   "execution_count": 6,
   "metadata": {},
   "outputs": [
    {
     "data": {
      "text/plain": [
       "19000"
      ]
     },
     "execution_count": 6,
     "metadata": {},
     "output_type": "execute_result"
    }
   ],
   "source": [
    "solution([\"cafelatte\", \"americanoice\", \"hotcafelatte\", \"anything\"])"
   ]
  },
  {
   "cell_type": "code",
   "execution_count": 7,
   "metadata": {},
   "outputs": [
    {
     "data": {
      "text/plain": [
       "13500"
      ]
     },
     "execution_count": 7,
     "metadata": {},
     "output_type": "execute_result"
    }
   ],
   "source": [
    "solution([\"americanoice\", \"americano\", \"iceamericano\"])"
   ]
  },
  {
   "cell_type": "code",
   "execution_count": null,
   "metadata": {},
   "outputs": [],
   "source": []
  }
 ],
 "metadata": {
  "kernelspec": {
   "display_name": "Python 3",
   "language": "python",
   "name": "python3"
  },
  "language_info": {
   "codemirror_mode": {
    "name": "ipython",
    "version": 3
   },
   "file_extension": ".py",
   "mimetype": "text/x-python",
   "name": "python",
   "nbconvert_exporter": "python",
   "pygments_lexer": "ipython3",
   "version": "3.12.1"
  }
 },
 "nbformat": 4,
 "nbformat_minor": 2
}

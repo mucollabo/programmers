{
 "cells": [
  {
   "cell_type": "markdown",
   "id": "173b8079-a281-4dc8-9c59-b68b08295681",
   "metadata": {},
   "source": [
    "### 문제 설명\n",
    "\n",
    "문자 \"A\"와 \"B\"로 이루어진 문자열 myString과 pat가 주어집니다. myString의 \"A\"를 \"B\"로, \"B\"를 \"A\"로 바꾼 문자열의 연속하는 부분 문자열 중 pat이 있으면 1을 아니면 0을 return 하는 solution 함수를 완성하세요.\n",
    "### 제한사항\n",
    "* 1 ≤ myString의 길이 ≤ 100\n",
    "* 1 ≤ pat의 길이 ≤ 10\n",
    "  * myString과 pat는 문자 \"A\"와 \"B\"로만 이루어진 문자열입니다.\n",
    "### 입출력 예\n",
    "|myString|pat|result|\n",
    "|--------|---|------|\n",
    "|\"ABBAA\"|\"AABB\"|1|\n",
    "|\"ABAB\"|\"ABAB\"|0|\n",
    "### 입출력 예 설명\n",
    "#### 입출력 예 #1\n",
    "* \"ABBAA\"에서 \"A\"와 \"B\"를 서로 바꾸면 \"BAABB\"입니다. 여기에는 부분문자열 \"AABB\"가 있기 때문에 1을 return 합니다.\n",
    "#### 입출력 예 #2\n",
    "* \"ABAB\"에서 \"A\"와 \"B\"를 서로 바꾸면 \"BABA\"입니다. 여기에는 부분문자열 \"BABA\"가 없기 때문에 0을 return 합니다.\n",
    "\n",
    "※ 2023년 05월 15일 제한사항 및 테스트 케이스가 수정되었습니다. 기존에 제출한 코드가 통과하지 못할 수 있습니다."
   ]
  },
  {
   "cell_type": "code",
   "execution_count": 29,
   "id": "40fa30fe-5626-4779-ba7e-75e74aafb586",
   "metadata": {},
   "outputs": [],
   "source": [
    "def solution(myString, pat):\n",
    "    reversed = ''.join(map(lambda x: 'A' if x == 'B' else 'B', myString))\n",
    "    for i in range(len(reversed)-len(pat)+1):\n",
    "        if reversed[i:len(pat)+i] == pat:\n",
    "            return 1\n",
    "    return 0"
   ]
  },
  {
   "cell_type": "code",
   "execution_count": 30,
   "id": "c416c016-314c-43ea-a226-2efab1bd0919",
   "metadata": {},
   "outputs": [
    {
     "name": "stdout",
     "output_type": "stream",
     "text": [
      "BAAB AABB\n",
      "AABB AABB\n"
     ]
    },
    {
     "data": {
      "text/plain": [
       "1"
      ]
     },
     "execution_count": 30,
     "metadata": {},
     "output_type": "execute_result"
    }
   ],
   "source": [
    "solution(\"ABBAA\", \"AABB\")"
   ]
  },
  {
   "cell_type": "code",
   "execution_count": 31,
   "id": "7fc02137-0380-4158-a47a-fe741759895b",
   "metadata": {},
   "outputs": [
    {
     "name": "stdout",
     "output_type": "stream",
     "text": [
      "BABA ABAB\n"
     ]
    },
    {
     "data": {
      "text/plain": [
       "0"
      ]
     },
     "execution_count": 31,
     "metadata": {},
     "output_type": "execute_result"
    }
   ],
   "source": [
    "solution(\"ABAB\", \"ABAB\")"
   ]
  },
  {
   "cell_type": "code",
   "execution_count": null,
   "id": "7dbe8cf4-5d52-4edf-957a-075008d849e5",
   "metadata": {},
   "outputs": [],
   "source": []
  }
 ],
 "metadata": {
  "kernelspec": {
   "display_name": "Python 3 (ipykernel)",
   "language": "python",
   "name": "python3"
  },
  "language_info": {
   "codemirror_mode": {
    "name": "ipython",
    "version": 3
   },
   "file_extension": ".py",
   "mimetype": "text/x-python",
   "name": "python",
   "nbconvert_exporter": "python",
   "pygments_lexer": "ipython3",
   "version": "3.11.6"
  }
 },
 "nbformat": 4,
 "nbformat_minor": 5
}

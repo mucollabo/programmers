{
 "cells": [
  {
   "cell_type": "markdown",
   "metadata": {},
   "source": [
    "### 문제 설명\n",
    "문자열 배열 strArr이 주어집니다. strArr의 원소들을 길이가 같은 문자열들끼리 그룹으로 묶었을 때 가장 개수가 많은 그룹의 크기를 return 하는 solution 함수를 완성해 주세요.\n",
    "\n",
    "### 제한사항\n",
    "* 1 ≤ strArr의 길이 ≤ 100,000\n",
    "  * 1 ≤ strArr의 원소의 길이 ≤ 30\n",
    "  * strArr의 원소들은 알파벳 소문자로 이루어진 문자열입니다.\n",
    "### 입출력 예\n",
    "|strArr|result|\n",
    "|------|------|\n",
    "|[\"a\",\"bc\",\"d\",\"efg\",\"hi\"]|2|\n",
    "\n",
    "### 입출력 예 설명\n",
    "#### 입출력 예 #1\n",
    "\n",
    "* 각 문자열들을 길이에 맞게 그룹으로 묶으면 다음과 같습니다.\n",
    "\n",
    "|문자열 길이|문자열 목록|개수|\n",
    "|--------|--------|---|\n",
    "|1|[\"a\",\"d\"]|2|\n",
    "|2|[\"bc\",\"hi\"]|2|\n",
    "|3|[\"efg\"]|1|\n",
    "\n",
    "* 개수의 최댓값은 2이므로 2를 return 합니다."
   ]
  },
  {
   "cell_type": "code",
   "execution_count": 11,
   "metadata": {},
   "outputs": [],
   "source": [
    "def solution(strArr):\n",
    "    r = dict()\n",
    "    for s in strArr:\n",
    "        r.setdefault(len(s), []).append(s)\n",
    "    max_key = max(r, key=lambda x: len(r[x]))\n",
    "    return len(r[max_key])"
   ]
  },
  {
   "cell_type": "code",
   "execution_count": 12,
   "metadata": {},
   "outputs": [
    {
     "data": {
      "text/plain": [
       "2"
      ]
     },
     "execution_count": 12,
     "metadata": {},
     "output_type": "execute_result"
    }
   ],
   "source": [
    "solution([\"a\",\"bc\",\"d\",\"efg\",\"hi\"])"
   ]
  },
  {
   "cell_type": "code",
   "execution_count": null,
   "metadata": {},
   "outputs": [],
   "source": []
  }
 ],
 "metadata": {
  "kernelspec": {
   "display_name": "Python 3",
   "language": "python",
   "name": "python3"
  },
  "language_info": {
   "codemirror_mode": {
    "name": "ipython",
    "version": 3
   },
   "file_extension": ".py",
   "mimetype": "text/x-python",
   "name": "python",
   "nbconvert_exporter": "python",
   "pygments_lexer": "ipython3",
   "version": "3.12.1"
  }
 },
 "nbformat": 4,
 "nbformat_minor": 2
}

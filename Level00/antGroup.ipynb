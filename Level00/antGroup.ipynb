{
 "cells": [
  {
   "cell_type": "markdown",
   "id": "4e0c20c1-3019-4f89-91c8-df0b1d9e756a",
   "metadata": {},
   "source": [
    "# 개미 군단\n",
    "## 문제 설명\n",
    "### 개미 군단이 사냥을 나가려고 합니다. 개미군단은 사냥감의 체력에 딱 맞는 병력을 데리고 나가려고 합니다. 장군개미는 5의 공격력을, 병정개미는 3의 공격력을 일개미는 1의 공격력을 가지고 있습니다. 예를 들어 체력 23의 여치를 사냥하려고 할 때, 일개미 23마리를 데리고 가도 되지만, 장군개미 네 마리와 병정개미 한 마리를 데리고 간다면 더 적은 병력으로 사냥할 수 있습니다. 사냥감의 체력 hp가 매개변수로 주어질 때, 사냥감의 체력에 딱 맞게 최소한의 병력을 구성하려면 몇 마리의 개미가 필요한지를 return하도록 solution 함수를 완성해주세요.\n",
    "\n",
    "## 제한사항\n",
    "* hp는 자연수입니다.\n",
    "* 0 ≤ hp ≤ 1000\n",
    "## 입출력 예\n",
    "|hp|result|\n",
    "|--|------|\n",
    "|23|5|\n",
    "|24|6|\n",
    "|999|201|\n",
    "## 입출력 예 설명\n",
    "## 입출력 예 #1\n",
    "\n",
    "* hp가 23이므로, 장군개미 네마리와 병정개미 한마리로 사냥할 수 있습니다. 따라서 5를 return합니다.\n",
    "## 입출력 예 #2\n",
    "\n",
    "* hp가 24이므로, 장군개미 네마리 병정개미 한마리 일개미 한마리로 사냥할 수 있습니다. 따라서 6을 return합니다.\n",
    "## 입출력 예 #3\n",
    "\n",
    "* hp가 999이므로, 장군개미 199 마리 병정개미 한마리 일개미 한마리로 사냥할 수 있습니다. 따라서 201을 return합니다."
   ]
  },
  {
   "cell_type": "code",
   "execution_count": 1,
   "id": "84856737-63e4-487a-9d54-fd91035ae7e8",
   "metadata": {},
   "outputs": [],
   "source": [
    "def solution(hp):\n",
    "    if hp%5 == 0:\n",
    "        return hp//5\n",
    "    elif (hp%5)%3 == 0:\n",
    "        return hp//5 + (hp%5)//3\n",
    "    else:\n",
    "        return hp//5 + (hp%5)//3 + hp%5%3"
   ]
  },
  {
   "cell_type": "code",
   "execution_count": 2,
   "id": "8397d1ad-6d55-43cb-8fc3-c7e90b288518",
   "metadata": {},
   "outputs": [
    {
     "data": {
      "text/plain": [
       "5"
      ]
     },
     "execution_count": 2,
     "metadata": {},
     "output_type": "execute_result"
    }
   ],
   "source": [
    "solution(23)"
   ]
  },
  {
   "cell_type": "code",
   "execution_count": 3,
   "id": "167a6544-23c8-421d-addc-46bf3586116c",
   "metadata": {},
   "outputs": [
    {
     "data": {
      "text/plain": [
       "6"
      ]
     },
     "execution_count": 3,
     "metadata": {},
     "output_type": "execute_result"
    }
   ],
   "source": [
    "solution(24)"
   ]
  },
  {
   "cell_type": "code",
   "execution_count": 4,
   "id": "3e985ea6-cb58-4818-9fbb-220bf3021a5e",
   "metadata": {},
   "outputs": [
    {
     "data": {
      "text/plain": [
       "201"
      ]
     },
     "execution_count": 4,
     "metadata": {},
     "output_type": "execute_result"
    }
   ],
   "source": [
    "solution(999)"
   ]
  },
  {
   "cell_type": "code",
   "execution_count": 6,
   "id": "c08fadaf-45ec-46de-b954-23a886e6d903",
   "metadata": {},
   "outputs": [],
   "source": [
    "def solution2(hp):\n",
    "        return hp//5 + (hp%5)//3 + hp%5%3"
   ]
  },
  {
   "cell_type": "code",
   "execution_count": 7,
   "id": "42e80edf-2f62-4b60-ae47-ee6572ec31ba",
   "metadata": {},
   "outputs": [
    {
     "data": {
      "text/plain": [
       "5"
      ]
     },
     "execution_count": 7,
     "metadata": {},
     "output_type": "execute_result"
    }
   ],
   "source": [
    "solution2(23)"
   ]
  },
  {
   "cell_type": "code",
   "execution_count": 8,
   "id": "62738efb-d085-4749-8658-4355e551a98f",
   "metadata": {},
   "outputs": [
    {
     "data": {
      "text/plain": [
       "6"
      ]
     },
     "execution_count": 8,
     "metadata": {},
     "output_type": "execute_result"
    }
   ],
   "source": [
    "solution2(24)"
   ]
  },
  {
   "cell_type": "code",
   "execution_count": 9,
   "id": "fee8a816-c332-4abc-a237-ebc2475ee792",
   "metadata": {},
   "outputs": [
    {
     "data": {
      "text/plain": [
       "201"
      ]
     },
     "execution_count": 9,
     "metadata": {},
     "output_type": "execute_result"
    }
   ],
   "source": [
    "solution(999)"
   ]
  },
  {
   "cell_type": "code",
   "execution_count": null,
   "id": "d9e6a410-0a99-4974-8d09-36b11d63f887",
   "metadata": {},
   "outputs": [],
   "source": []
  }
 ],
 "metadata": {
  "kernelspec": {
   "display_name": "Python 3 (ipykernel)",
   "language": "python",
   "name": "python3"
  },
  "language_info": {
   "codemirror_mode": {
    "name": "ipython",
    "version": 3
   },
   "file_extension": ".py",
   "mimetype": "text/x-python",
   "name": "python",
   "nbconvert_exporter": "python",
   "pygments_lexer": "ipython3",
   "version": "3.10.6"
  }
 },
 "nbformat": 4,
 "nbformat_minor": 5
}

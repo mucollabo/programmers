{
 "cells": [
  {
   "cell_type": "markdown",
   "id": "d1238c3b-112d-48ed-8972-b9e50710d31b",
   "metadata": {},
   "source": [
    "### 문제 설명\n",
    "\n",
    "알파벳 소문자로 이루어진 문자열 myString이 주어집니다. 알파벳 순서에서 \"l\"보다 앞서는 모든 문자를 \"l\"로 바꾼 문자열을 return 하는 solution 함수를 완성해 주세요.\n",
    "### 제한사항\n",
    "* 1 ≤ myString ≤ 100,000\n",
    "  * myString은 알파벳 소문자로 이루어진 문자열입니다.\n",
    "### 입출력 예\n",
    "|myString|result|\n",
    "|--------|------|\n",
    "|\"abcdevwxyz\"|\"lllllvwxyz\"|\n",
    "|\"jjnnllkkmm\"|\"llnnllllmm\"|\n",
    "\n",
    "### 입출력 예 설명\n",
    "#### 입출력 예 #1\n",
    "* 0 ~ 4번 인덱스의 문자 \"a\",\"b\",\"c\",\"d\",\"e\"는 각각 \"l\"보다 앞서는 문자입니다. 따라서 \"l\"로 고쳐줍니다.\n",
    "* m그 외의 문자는 모두 \"l\"보다 앞서지 않는 문자입니다. 따라서 바꾸지 않습니다.\n",
    "* 따라서 \"lllllvwxyz\"을 return 합니다.\n",
    "#### 입출력 예 #2\n",
    "* 0번, 1번, 6번, 7번 인덱스의 문자 \"j\",\"j\",\"k\",\"k\"는 각각 \"l\"보다 앞서는 문자입니다. 따라서 \"l\"로 고쳐줍니다.\n",
    "* 그 외의 문자는 모두 \"l\"보다 앞서지 않는 문자입니다. 따라서 바꾸지 않습니다.\n",
    "* 따라서 \"llnnllllmm\"을 return 합니다."
   ]
  },
  {
   "cell_type": "code",
   "execution_count": 18,
   "id": "b36b3d73-41da-40c5-8053-821111601381",
   "metadata": {},
   "outputs": [],
   "source": [
    "def solution(myString):\n",
    "    for s in myString:\n",
    "        if s < 'l':\n",
    "            myString = myString.replace(s, 'l')\n",
    "    return myString"
   ]
  },
  {
   "cell_type": "code",
   "execution_count": 19,
   "id": "94e1ffbc-4b4b-4609-bde2-7894e0ff460b",
   "metadata": {},
   "outputs": [
    {
     "data": {
      "text/plain": [
       "'lllllvwxyz'"
      ]
     },
     "execution_count": 19,
     "metadata": {},
     "output_type": "execute_result"
    }
   ],
   "source": [
    "solution(\"abcdevwxyz\")"
   ]
  },
  {
   "cell_type": "code",
   "execution_count": 20,
   "id": "c71da861-03a7-4f48-9041-cc1cbaf61800",
   "metadata": {},
   "outputs": [
    {
     "data": {
      "text/plain": [
       "'llnnllllmm'"
      ]
     },
     "execution_count": 20,
     "metadata": {},
     "output_type": "execute_result"
    }
   ],
   "source": [
    "solution(\"jjnnllkkmm\")"
   ]
  },
  {
   "cell_type": "code",
   "execution_count": null,
   "id": "3ef64ae3-ea8b-4049-9e75-3afc83238430",
   "metadata": {},
   "outputs": [],
   "source": []
  }
 ],
 "metadata": {
  "kernelspec": {
   "display_name": "Python 3 (ipykernel)",
   "language": "python",
   "name": "python3"
  },
  "language_info": {
   "codemirror_mode": {
    "name": "ipython",
    "version": 3
   },
   "file_extension": ".py",
   "mimetype": "text/x-python",
   "name": "python",
   "nbconvert_exporter": "python",
   "pygments_lexer": "ipython3",
   "version": "3.11.6"
  }
 },
 "nbformat": 4,
 "nbformat_minor": 5
}

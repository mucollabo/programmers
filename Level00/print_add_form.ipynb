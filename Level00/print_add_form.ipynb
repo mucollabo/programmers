{
 "cells": [
  {
   "cell_type": "markdown",
   "id": "30ddbb8b-276f-47b7-b382-e46f8f854c76",
   "metadata": {},
   "source": [
    "### 문제 설명\n",
    "두 정수 a, b가 주어질 때 다음과 같은 형태의 계산식을 출력하는 코드를 작성해 보세요.\n",
    "\n",
    "> a + b = c\n",
    "### 제한사항\n",
    "* 1 ≤ a, b ≤ 100\n",
    "### 입출력 예\n",
    "#### 입력 #1\n",
    "\n",
    "> 4 5\n",
    "#### 출력 #1\n",
    "\n",
    "> 4 + 5 = 9"
   ]
  },
  {
   "cell_type": "code",
   "execution_count": 4,
   "id": "fb2a4f8a-3c08-4772-8c9c-91e97187b745",
   "metadata": {},
   "outputs": [
    {
     "name": "stdin",
     "output_type": "stream",
     "text": [
      " 4 5\n"
     ]
    },
    {
     "name": "stdout",
     "output_type": "stream",
     "text": [
      "4 + 5 = 9\n"
     ]
    }
   ],
   "source": [
    "a, b = map(int, input().strip().split(' '))\n",
    "print(f'{a} + {b} = {a + b}')"
   ]
  },
  {
   "cell_type": "code",
   "execution_count": null,
   "id": "9447c842-c1a8-4dc9-a7c3-8ed5f0fa619e",
   "metadata": {},
   "outputs": [],
   "source": []
  }
 ],
 "metadata": {
  "kernelspec": {
   "display_name": "Python 3 (ipykernel)",
   "language": "python",
   "name": "python3"
  },
  "language_info": {
   "codemirror_mode": {
    "name": "ipython",
    "version": 3
   },
   "file_extension": ".py",
   "mimetype": "text/x-python",
   "name": "python",
   "nbconvert_exporter": "python",
   "pygments_lexer": "ipython3",
   "version": "3.11.6"
  }
 },
 "nbformat": 4,
 "nbformat_minor": 5
}

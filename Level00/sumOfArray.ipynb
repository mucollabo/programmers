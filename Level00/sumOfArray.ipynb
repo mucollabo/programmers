{
 "cells": [
  {
   "cell_type": "markdown",
   "id": "f904a877-d0e9-47e2-b8db-ee6c9dd9d9b1",
   "metadata": {},
   "source": [
    "# 행렬의 덧셈\n",
    "## 문제 설명\n",
    "### 행렬의 덧셈은 행과 열의 크기가 같은 두 행렬의 같은 행, 같은 열의 값을 서로 더한 결과가 됩니다. 2개의 행렬 arr1과 arr2를 입력받아, 행렬 덧셈의 결과를 반환하는 함수, solution을 완성해주세요.\n",
    "\n",
    "## 제한 조건\n",
    "* 행렬 arr1, arr2의 행과 열의 길이는 500을 넘지 않습니다.\n",
    "## 입출력 예\n",
    "|arr1|arr2|return|\n",
    "|----|----|------|\n",
    "|[[1,2],[2,3]]|[[3,4],[5,6]]|[[4,6],[7,9]]|\n",
    "|[[1],[2]]|[[3],[4]]|[[4],[6]]|"
   ]
  },
  {
   "cell_type": "code",
   "execution_count": 1,
   "id": "bd2df4fd-d09b-4ad1-8b80-1aabe4559371",
   "metadata": {},
   "outputs": [],
   "source": [
    "def solution(arr1, arr2):\n",
    "    answer = []\n",
    "    for i in range(len(arr1)):\n",
    "        row = []\n",
    "        for j in range(len(arr1[i])):\n",
    "            row.append(arr1[i][j] + arr2[i][j])\n",
    "        answer.append(row)\n",
    "    return answer"
   ]
  },
  {
   "cell_type": "code",
   "execution_count": 2,
   "id": "cbb9e816-ca6a-44a7-a572-ebf30435a4c4",
   "metadata": {},
   "outputs": [
    {
     "data": {
      "text/plain": [
       "[[4, 6], [7, 9]]"
      ]
     },
     "execution_count": 2,
     "metadata": {},
     "output_type": "execute_result"
    }
   ],
   "source": [
    "solution([[1,2],[2,3]], [[3,4],[5,6]])"
   ]
  },
  {
   "cell_type": "code",
   "execution_count": 3,
   "id": "aaff00dd-0d9a-44c8-a1d5-e0f7a8208177",
   "metadata": {},
   "outputs": [
    {
     "data": {
      "text/plain": [
       "[[4], [6]]"
      ]
     },
     "execution_count": 3,
     "metadata": {},
     "output_type": "execute_result"
    }
   ],
   "source": [
    "solution([[1],[2]], [[3],[4]])"
   ]
  },
  {
   "cell_type": "code",
   "execution_count": 4,
   "id": "e45bf906-1e2d-4a63-8ee3-8a32c178564f",
   "metadata": {},
   "outputs": [],
   "source": [
    "def solution2(arr1, arr2):\n",
    "    return [list(map(sum, zip(*x))) for x in zip(arr1, arr2)]"
   ]
  },
  {
   "cell_type": "code",
   "execution_count": 5,
   "id": "925a39a5-698d-4675-8f66-a13a115154de",
   "metadata": {},
   "outputs": [
    {
     "data": {
      "text/plain": [
       "[[4, 6], [7, 9]]"
      ]
     },
     "execution_count": 5,
     "metadata": {},
     "output_type": "execute_result"
    }
   ],
   "source": [
    "solution2([[1,2],[2,3]], [[3,4],[5,6]])"
   ]
  },
  {
   "cell_type": "code",
   "execution_count": 6,
   "id": "13155a18-3fc0-44a7-b2c7-3af2ad9e5864",
   "metadata": {},
   "outputs": [
    {
     "data": {
      "text/plain": [
       "[[4], [6]]"
      ]
     },
     "execution_count": 6,
     "metadata": {},
     "output_type": "execute_result"
    }
   ],
   "source": [
    "solution2([[1],[2]], [[3],[4]])"
   ]
  },
  {
   "cell_type": "code",
   "execution_count": 7,
   "id": "db03a069-03f5-44f7-a961-95bef2217cd1",
   "metadata": {},
   "outputs": [],
   "source": [
    "import numpy as np\n",
    "\n",
    "def solution3(arr1, arr2):\n",
    "    arr1 = np.array(arr1)\n",
    "    arr2 = np.array(arr2)\n",
    "    return (arr1 + arr2).tolist()"
   ]
  },
  {
   "cell_type": "code",
   "execution_count": 8,
   "id": "bf7cf811-3265-47f4-824d-120d2da7481a",
   "metadata": {},
   "outputs": [
    {
     "data": {
      "text/plain": [
       "[[4, 6], [7, 9]]"
      ]
     },
     "execution_count": 8,
     "metadata": {},
     "output_type": "execute_result"
    }
   ],
   "source": [
    "solution3([[1,2],[2,3]], [[3,4],[5,6]])"
   ]
  },
  {
   "cell_type": "code",
   "execution_count": 9,
   "id": "f3c64f15-5b30-4e37-95ec-36e64f1a6d25",
   "metadata": {},
   "outputs": [
    {
     "data": {
      "text/plain": [
       "[[4], [6]]"
      ]
     },
     "execution_count": 9,
     "metadata": {},
     "output_type": "execute_result"
    }
   ],
   "source": [
    "solution3([[1],[2]], [[3],[4]])"
   ]
  },
  {
   "cell_type": "code",
   "execution_count": null,
   "id": "1bf53958-8b6a-4222-9218-c7161e6cfb03",
   "metadata": {},
   "outputs": [],
   "source": []
  }
 ],
 "metadata": {
  "kernelspec": {
   "display_name": "Python 3 (ipykernel)",
   "language": "python",
   "name": "python3"
  },
  "language_info": {
   "codemirror_mode": {
    "name": "ipython",
    "version": 3
   },
   "file_extension": ".py",
   "mimetype": "text/x-python",
   "name": "python",
   "nbconvert_exporter": "python",
   "pygments_lexer": "ipython3",
   "version": "3.10.6"
  }
 },
 "nbformat": 4,
 "nbformat_minor": 5
}

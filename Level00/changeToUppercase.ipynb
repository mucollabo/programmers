{
 "cells": [
  {
   "cell_type": "markdown",
   "id": "5fdd1999-bfc1-4148-87fb-cbe7c7ba03d8",
   "metadata": {},
   "source": [
    "## 대문자로 바꾸기\n",
    "### 문제 설명\n",
    "#### 알파벳으로 이루어진 문자열 myString이 주어집니다. 모든 알파벳을 대문자로 변환하여 return 하는 solution 함수를 완성해 주세요.\n",
    "\n",
    "### 제한사항\n",
    "* 1 ≤ myString의 길이 ≤ 100,000\n",
    "  * myString은 알파벳으로 이루어진 문자열입니다.\n",
    "### 입출력 예\n",
    "|myString|result|\n",
    "|---------|-------|\n",
    "|\"aBcDeFg\"|\"ABCDEFG\"|\n",
    "|\"AAA\"|\"AAA\"|"
   ]
  },
  {
   "cell_type": "code",
   "execution_count": 5,
   "id": "c0916241-430b-4447-a08a-004edb67e72f",
   "metadata": {},
   "outputs": [],
   "source": [
    "def solution(myString):\n",
    "    return myString.upper()"
   ]
  },
  {
   "cell_type": "code",
   "execution_count": 6,
   "id": "2dcb4139-dadf-4800-9e72-4cfa4a8ffaca",
   "metadata": {},
   "outputs": [
    {
     "data": {
      "text/plain": [
       "'ABCDEFG'"
      ]
     },
     "execution_count": 6,
     "metadata": {},
     "output_type": "execute_result"
    }
   ],
   "source": [
    "solution('aBcDeFg')"
   ]
  },
  {
   "cell_type": "code",
   "execution_count": 7,
   "id": "160ce807-e68e-4e7f-a4ff-8fc24966aac0",
   "metadata": {},
   "outputs": [
    {
     "data": {
      "text/plain": [
       "'AAA'"
      ]
     },
     "execution_count": 7,
     "metadata": {},
     "output_type": "execute_result"
    }
   ],
   "source": [
    "solution('AAA')"
   ]
  },
  {
   "cell_type": "code",
   "execution_count": null,
   "id": "2ac7f1d7-4927-4070-99f4-dc7640ea8798",
   "metadata": {},
   "outputs": [],
   "source": []
  }
 ],
 "metadata": {
  "kernelspec": {
   "display_name": "Python 3 (ipykernel)",
   "language": "python",
   "name": "python3"
  },
  "language_info": {
   "codemirror_mode": {
    "name": "ipython",
    "version": 3
   },
   "file_extension": ".py",
   "mimetype": "text/x-python",
   "name": "python",
   "nbconvert_exporter": "python",
   "pygments_lexer": "ipython3",
   "version": "3.11.6"
  }
 },
 "nbformat": 4,
 "nbformat_minor": 5
}

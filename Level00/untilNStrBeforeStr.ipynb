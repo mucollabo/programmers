{
 "cells": [
  {
   "cell_type": "markdown",
   "id": "65767329-05da-4013-9210-8e8611baeb2c",
   "metadata": {},
   "source": [
    "## 문자열 앞의 n글자\n",
    "### 문제 설명\n",
    "#### 문자열 my_string과 정수 n이 매개변수로 주어질 때, my_string의 앞의 n글자로 이루어진 문자열을 return 하는 solution 함수를 작성해 주세요.\n",
    "\n",
    "### 제한사항\n",
    "* my_string은 숫자와 알파벳으로 이루어져 있습니다.\n",
    "* 1 ≤ my_string의 길이 ≤ 1,000\n",
    "* 1 ≤ n ≤ my_string의 길이\n",
    "### 입출력 예\n",
    "|my_string|n|result|\n",
    "|---------|--|------|\n",
    "|\"ProgrammerS123\"|11|\"ProgrammerS\"|\n",
    "|\"He110W0r1d\"|5|\"He110\"|\n",
    "### 입출력 예\n",
    "#### 입출력 예 #1\n",
    "\n",
    "* 예제 1번의 my_string에서 앞의 11글자는 \"ProgrammerS\"이므로 이 문자열을 return 합니다.\n",
    "#### 입출력 예 #2\n",
    "\n",
    "* 예제 2번의 my_string에서 앞의 5글자는 \"He110\"이므로 이 문자열을 return 합니다."
   ]
  },
  {
   "cell_type": "code",
   "execution_count": null,
   "id": "e0c1ddd0-af08-45c6-ba71-ba743967130b",
   "metadata": {},
   "outputs": [],
   "source": [
    "def solution(my_string, n):\n",
    "    return my_string"
   ]
  }
 ],
 "metadata": {
  "kernelspec": {
   "display_name": "Python 3 (ipykernel)",
   "language": "python",
   "name": "python3"
  },
  "language_info": {
   "codemirror_mode": {
    "name": "ipython",
    "version": 3
   },
   "file_extension": ".py",
   "mimetype": "text/x-python",
   "name": "python",
   "nbconvert_exporter": "python",
   "pygments_lexer": "ipython3",
   "version": "3.10.6"
  }
 },
 "nbformat": 4,
 "nbformat_minor": 5
}

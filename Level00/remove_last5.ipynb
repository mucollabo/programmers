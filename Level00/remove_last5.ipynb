{
 "cells": [
  {
   "cell_type": "markdown",
   "id": "01031a73-7822-4ab1-ade4-e621a95cbf7d",
   "metadata": {},
   "source": [
    "### 문제 설명\n",
    "정수로 이루어진 리스트 num_list가 주어집니다. num_list에서 가장 작은 5개의 수를 제외한 수들을 오름차순으로 담은 리스트를 return하도록 solution 함수를 완성해주세요.\n",
    "\n",
    "### 제한사항\n",
    "* 6 ≤ num_list의 길이 ≤ 30\n",
    "* 1 ≤ num_list의 원소 ≤ 100\n",
    "### 입출력 예\n",
    "|num_list|result|\n",
    "|--------|------|\n",
    "|[12, 4, 15, 46, 38, 1, 14, 56, 32, 10]|[15, 32, 38, 46, 56]|\n",
    "### 입출력 예 설명\n",
    "#### 입출력 예 #1\n",
    "\n",
    "* [12, 4, 15, 46, 38, 1, 14, 56, 32, 10]를 정렬하면 [1, 4, 10, 12, 14, 15, 32, 38, 46, 56]이 되고, 앞에서 부터 6번째 이후의 수들을 고르면 [15, 32, 38, 46, 56]가 됩니다."
   ]
  },
  {
   "cell_type": "code",
   "execution_count": 3,
   "id": "26bdb759-cc45-4893-9603-facca1ec032b",
   "metadata": {},
   "outputs": [],
   "source": [
    "def solution(num_list):\n",
    "    return sorted(num_list)[5:]"
   ]
  },
  {
   "cell_type": "code",
   "execution_count": 4,
   "id": "a9f8a45b-2466-4373-95d1-07974c63d042",
   "metadata": {},
   "outputs": [
    {
     "data": {
      "text/plain": [
       "[15, 32, 38, 46, 56]"
      ]
     },
     "execution_count": 4,
     "metadata": {},
     "output_type": "execute_result"
    }
   ],
   "source": [
    "solution([12, 4, 15, 46, 38, 1, 14, 56, 32, 10])"
   ]
  },
  {
   "cell_type": "code",
   "execution_count": null,
   "id": "58a00d47-112d-41a5-a7be-da69bfdda2e0",
   "metadata": {},
   "outputs": [],
   "source": []
  }
 ],
 "metadata": {
  "kernelspec": {
   "display_name": "Python 3 (ipykernel)",
   "language": "python",
   "name": "python3"
  },
  "language_info": {
   "codemirror_mode": {
    "name": "ipython",
    "version": 3
   },
   "file_extension": ".py",
   "mimetype": "text/x-python",
   "name": "python",
   "nbconvert_exporter": "python",
   "pygments_lexer": "ipython3",
   "version": "3.11.6"
  }
 },
 "nbformat": 4,
 "nbformat_minor": 5
}

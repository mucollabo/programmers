{
 "cells": [
  {
   "cell_type": "markdown",
   "id": "f6223fbf-af60-41b1-a90a-0fdb8052de02",
   "metadata": {},
   "source": [
    "## 홀짝 구분하기\n",
    "### 문제 설명\n",
    "* 자연수 n이 입력으로 주어졌을 때 만약 n이 짝수이면 \"n is even\"을, 홀수이면 \"n is odd\"를 출력하는 코드를 작성해 보세요.\n",
    "\n",
    "### 제한사항\n",
    "* 1 ≤ n ≤ 1,000\n",
    "### 입출력 예\n",
    "#### 입력 #1\n",
    "\n",
    "100\n",
    "#### 출력 #1\n",
    "\n",
    "100 is even\n",
    "#### 입력 #2\n",
    "\n",
    "1\n",
    "#### 출력 #2\n",
    "\n",
    "1 is odd\n",
    "※ 2023년 05월 15일 지문이 수정되었습니다."
   ]
  },
  {
   "cell_type": "code",
   "execution_count": 1,
   "id": "0f3f8a46-caaa-44b1-b6f6-003f2df07071",
   "metadata": {},
   "outputs": [],
   "source": [
    "def solution(n):\n",
    "    return f'{n} is even' if n%2 == 0 else f'{n} is odd'"
   ]
  },
  {
   "cell_type": "code",
   "execution_count": 2,
   "id": "925d1fa2-e8a5-4b57-b16d-0abe321ceb29",
   "metadata": {},
   "outputs": [
    {
     "data": {
      "text/plain": [
       "'100 is even'"
      ]
     },
     "execution_count": 2,
     "metadata": {},
     "output_type": "execute_result"
    }
   ],
   "source": [
    "solution(100)"
   ]
  },
  {
   "cell_type": "code",
   "execution_count": 3,
   "id": "5c341cb4-9506-436e-a84e-eef4d6a0e5af",
   "metadata": {},
   "outputs": [
    {
     "data": {
      "text/plain": [
       "'1 is odd'"
      ]
     },
     "execution_count": 3,
     "metadata": {},
     "output_type": "execute_result"
    }
   ],
   "source": [
    "solution(1)"
   ]
  },
  {
   "cell_type": "code",
   "execution_count": 8,
   "id": "ef77dff3-5f06-4ae6-bd7c-52aee8e09f29",
   "metadata": {},
   "outputs": [
    {
     "name": "stdin",
     "output_type": "stream",
     "text": [
      " 100\n"
     ]
    },
    {
     "name": "stdout",
     "output_type": "stream",
     "text": [
      "100 is even\n"
     ]
    }
   ],
   "source": [
    "n = int(input())\n",
    "print(f\"{n} is {'even' if n%2 == 0 else 'odd'}\")"
   ]
  },
  {
   "cell_type": "code",
   "execution_count": 9,
   "id": "39276608-1a32-4736-be92-dc44d859f13a",
   "metadata": {},
   "outputs": [
    {
     "name": "stdin",
     "output_type": "stream",
     "text": [
      " 1\n"
     ]
    },
    {
     "name": "stdout",
     "output_type": "stream",
     "text": [
      "1 is odd\n"
     ]
    }
   ],
   "source": [
    "n = int(input())\n",
    "print(f\"{n} is {'even' if n%2 == 0 else 'odd'}\")"
   ]
  },
  {
   "cell_type": "code",
   "execution_count": null,
   "id": "a9c0a732-ed88-418c-a715-58ab3a4a9192",
   "metadata": {},
   "outputs": [],
   "source": []
  }
 ],
 "metadata": {
  "kernelspec": {
   "display_name": "Python 3 (ipykernel)",
   "language": "python",
   "name": "python3"
  },
  "language_info": {
   "codemirror_mode": {
    "name": "ipython",
    "version": 3
   },
   "file_extension": ".py",
   "mimetype": "text/x-python",
   "name": "python",
   "nbconvert_exporter": "python",
   "pygments_lexer": "ipython3",
   "version": "3.10.6"
  }
 },
 "nbformat": 4,
 "nbformat_minor": 5
}

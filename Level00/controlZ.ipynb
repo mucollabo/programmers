{
 "cells": [
  {
   "cell_type": "markdown",
   "id": "53063a56-e6f2-4da1-abb2-6cdecd415876",
   "metadata": {},
   "source": [
    "# 컨트롤 제트\n",
    "## 문제 설명\n",
    "### 숫자들이 공백으로 구분된 문자열이 주어집니다. 문자열에 있는 숫자를 차례대로 더하려고 합니다. 이 때 “\bZ”가 나오면 바로 전에 더했던 숫자를 뺀다는 뜻입니다. 숫자와 “Z”로 이루어진 문자열 s가 주어질 때, 머쓱이가 구한 값을 return 하도록 solution 함수를 완성해보세요.\n",
    "\n",
    "## 제한사항\n",
    "* 0 < s의 길이 < 1,000\n",
    "* -1,000 < s의 원소 중 숫자 < 1,000\n",
    "* s는 숫자, \"Z\", 공백으로 이루어져 있습니다.\n",
    "* s에 있는 숫자와 \"Z\"는 서로 공백으로 구분됩니다.\n",
    "* 연속된 공백은 주어지지 않습니다.\n",
    "* 0을 제외하고는 0으로 시작하는 숫자는 없습니다.\n",
    "* s의 시작과 끝에는 공백이 없습니다.\n",
    "* 모든 숫자를 지우는 경우는 주어지지 않습니다.\n",
    "* 지울 숫자가 없는 상태에서 \"Z\"는 무시합니다.\n",
    "## 입출력 예\n",
    "|s|result|\n",
    "|-|------|\n",
    "|\"1 2 Z 3\"|4|\n",
    "|\"10 20 30 40\"|100|\n",
    "|\"10 Z 20 Z 1\"|1|\n",
    "## 입출력 예 설명\n",
    "## 입출력 예 #1\n",
    "\n",
    "* 본문과 동일합니다.\n",
    "## 입출력 예 #2\n",
    "\n",
    "* 10 + 20 + 30 + 40 = 100을 return 합니다.\n",
    "## 입출력 예 #3\n",
    "\n",
    "* \"10 Z 20 Z 1\"에서 10 다음 Z, 20 다음 Z로 10, 20이 지워지고 1만 더하여 1을 return 합니다."
   ]
  },
  {
   "cell_type": "code",
   "execution_count": 18,
   "id": "f50f9d08-df5a-4d3c-befa-fc53747719c5",
   "metadata": {},
   "outputs": [],
   "source": [
    "def solution(s):\n",
    "    list_s = s.split(' ')\n",
    "    while 'Z' in list_s:\n",
    "        del list_s[list_s.index('Z')-1:list_s.index('Z')+1]\n",
    "    return sum(map(int, list_s))"
   ]
  },
  {
   "cell_type": "code",
   "execution_count": 19,
   "id": "e107b445-4895-4e53-8b70-6fdb76d8bd57",
   "metadata": {},
   "outputs": [
    {
     "data": {
      "text/plain": [
       "4"
      ]
     },
     "execution_count": 19,
     "metadata": {},
     "output_type": "execute_result"
    }
   ],
   "source": [
    "solution(\"1 2 Z 3\")"
   ]
  },
  {
   "cell_type": "code",
   "execution_count": 20,
   "id": "dbbb17bc-1234-440d-8f2e-c55b12cabb2f",
   "metadata": {},
   "outputs": [
    {
     "data": {
      "text/plain": [
       "100"
      ]
     },
     "execution_count": 20,
     "metadata": {},
     "output_type": "execute_result"
    }
   ],
   "source": [
    "solution(\"10 20 30 40\")"
   ]
  },
  {
   "cell_type": "code",
   "execution_count": 21,
   "id": "4c814540-d13b-4112-a9eb-3b19b3136550",
   "metadata": {},
   "outputs": [
    {
     "data": {
      "text/plain": [
       "1"
      ]
     },
     "execution_count": 21,
     "metadata": {},
     "output_type": "execute_result"
    }
   ],
   "source": [
    "solution(\"10 Z 20 Z 1\")"
   ]
  },
  {
   "cell_type": "code",
   "execution_count": null,
   "id": "5a221055-7807-49be-9c45-9133b6e7cd37",
   "metadata": {},
   "outputs": [],
   "source": []
  }
 ],
 "metadata": {
  "kernelspec": {
   "display_name": "Python 3 (ipykernel)",
   "language": "python",
   "name": "python3"
  },
  "language_info": {
   "codemirror_mode": {
    "name": "ipython",
    "version": 3
   },
   "file_extension": ".py",
   "mimetype": "text/x-python",
   "name": "python",
   "nbconvert_exporter": "python",
   "pygments_lexer": "ipython3",
   "version": "3.10.6"
  }
 },
 "nbformat": 4,
 "nbformat_minor": 5
}

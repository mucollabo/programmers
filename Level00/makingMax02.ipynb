{
 "cells": [
  {
   "cell_type": "markdown",
   "id": "79b6bc03-5804-4c2c-b3a3-e9bf03ccf6b8",
   "metadata": {},
   "source": [
    "# 최댓값 만들기 (2)\n",
    "## 문제 설명\n",
    "### 정수 배열 numbers가 매개변수로 주어집니다. numbers의 원소 중 두 개를 곱해 만들 수 있는 최댓값을 return하도록 solution 함수를 완성해주세요.\n",
    "\n",
    "## 제한사항\n",
    "* -10,000 ≤ numbers의 원소 ≤ 10,000\n",
    "* 2 ≤ numbers 의 길이 ≤ 100\n",
    "## 입출력 예\n",
    "|numbers|result|\n",
    "|-------|------|\n",
    "|[1, 2, -3, 4, -5]|15|\n",
    "|[0, -31, 24, 10, 1, 9]|240|\n",
    "|[10, 20, 30, 5, 5, 20, 5]|600|\n",
    "## 입출력 예 설명\n",
    "## 입출력 예 #1\n",
    "\n",
    "* 두 수의 곱중 최댓값은 -3 * -5 = 15 입니다.\n",
    "## 입출력 예 #2\n",
    "\n",
    "* 두 수의 곱중 최댓값은 10 * 24 = 240 입니다.\n",
    "## 입출력 예 #3\n",
    "\n",
    "* 두 수의 곱중 최댓값은 20 * 30 = 600 입니다."
   ]
  },
  {
   "cell_type": "code",
   "execution_count": 11,
   "id": "ee82daad-4e51-409d-bb09-0fdd0a2fe57d",
   "metadata": {},
   "outputs": [],
   "source": [
    "def solution(numbers):\n",
    "    sn = sorted(numbers)\n",
    "    return sn[0]*sn[1] if sn[0]*sn[1] >= sn[-2]*sn[-1] else sn[-2]*sn[-1]\n"
   ]
  },
  {
   "cell_type": "code",
   "execution_count": 12,
   "id": "794e46d8-ecda-4457-9c76-3c78ecbe4120",
   "metadata": {},
   "outputs": [
    {
     "data": {
      "text/plain": [
       "15"
      ]
     },
     "execution_count": 12,
     "metadata": {},
     "output_type": "execute_result"
    }
   ],
   "source": [
    "solution([1, 2, -3, 4, -5])"
   ]
  },
  {
   "cell_type": "code",
   "execution_count": 13,
   "id": "005c2210-b9a3-4774-ba3b-f10c2320959b",
   "metadata": {},
   "outputs": [
    {
     "data": {
      "text/plain": [
       "240"
      ]
     },
     "execution_count": 13,
     "metadata": {},
     "output_type": "execute_result"
    }
   ],
   "source": [
    "solution([0, -31, 24, 10, 1, 9])"
   ]
  },
  {
   "cell_type": "code",
   "execution_count": 14,
   "id": "9834679e-4bdd-4d74-ad41-e79816ca2072",
   "metadata": {},
   "outputs": [
    {
     "data": {
      "text/plain": [
       "600"
      ]
     },
     "execution_count": 14,
     "metadata": {},
     "output_type": "execute_result"
    }
   ],
   "source": [
    "solution([10, 20, 30, 5, 5, 20, 5])"
   ]
  },
  {
   "cell_type": "code",
   "execution_count": null,
   "id": "2af552c0-f91d-4232-83e4-151de8266cb1",
   "metadata": {},
   "outputs": [],
   "source": []
  }
 ],
 "metadata": {
  "kernelspec": {
   "display_name": "Python 3 (ipykernel)",
   "language": "python",
   "name": "python3"
  },
  "language_info": {
   "codemirror_mode": {
    "name": "ipython",
    "version": 3
   },
   "file_extension": ".py",
   "mimetype": "text/x-python",
   "name": "python",
   "nbconvert_exporter": "python",
   "pygments_lexer": "ipython3",
   "version": "3.10.6"
  }
 },
 "nbformat": 4,
 "nbformat_minor": 5
}

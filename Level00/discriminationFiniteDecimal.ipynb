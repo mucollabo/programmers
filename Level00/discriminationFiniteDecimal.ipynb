{
 "cells": [
  {
   "cell_type": "markdown",
   "id": "0b84f3cd-b075-4688-a9a2-c35eb3c96200",
   "metadata": {},
   "source": [
    "# 유한소수 판별하기\n",
    "## 문제 설명\n",
    "### 소수점 아래 숫자가 계속되지 않고 유한개인 소수를 유한소수라고 합니다. 분수를 소수로 고칠 때 유한소수로 나타낼 수 있는 분수인지 판별하려고 합니다. 유한소수가 되기 위한 분수의 조건은 다음과 같습니다.\n",
    "\n",
    "* 기약분수로 나타내었을 때, 분모의 소인수가 2와 5만 존재해야 합니다.\n",
    "### 두 정수 a와 b가 매개변수로 주어질 때, a/b가 유한소수이면 1을, 무한소수라면 2를 return하도록 solution 함수를 완성해주세요.\n",
    "\n",
    "## 제한사항\n",
    "* a, b는 정수\n",
    "* 0 < a ≤ 1,000\n",
    "* 0 < b ≤ 1,000\n",
    "## 입출력 예\n",
    "|a|b|result|\n",
    "|-|-|------|\n",
    "|7|20|1|\n",
    "|11|22|1|\n",
    "|12|21|2|\n",
    "## 입출력 예 설명\n",
    "## 입출력 예 #1\n",
    "\n",
    "* 분수 7/20은 기약분수 입니다. 분모 20의 소인수가 2, 5 이기 때문에 유한소수입니다. 따라서 1을 return합니다.\n",
    "## 입출력 예 #2\n",
    "\n",
    "* 분수 11/22는 기약분수로 나타내면 1/2 입니다. 분모 2는 소인수가 2 뿐이기 때문에 유한소수 입니다. 따라서 1을 return합니다.\n",
    "## 입출력 예 #3\n",
    "\n",
    "* 분수 12/21는 기약분수로 나타내면 4/7 입니다. 분모 7은 소인수가 7 이므로 무한소수입니다. 따라서 2를 return합니다.\n",
    "## Hint\n",
    "* 분자와 분모의 최대공약수로 약분하면 기약분수를 만들 수 있습니다.\n",
    "* 정수도 유한소수로 분류합니다."
   ]
  },
  {
   "cell_type": "code",
   "execution_count": 284,
   "id": "0189a4af-6a6d-4bc8-af5c-296fb43c7771",
   "metadata": {},
   "outputs": [],
   "source": [
    "import math\n",
    "import re\n",
    "\n",
    "def solution(a, b):\n",
    "    r = []\n",
    "    i = 2\n",
    "    denom = b//math.gcd(a, b)\n",
    "    while i <= denom:\n",
    "        if denom%i == 0:\n",
    "            r.append(i)\n",
    "            denom //= i\n",
    "        else:\n",
    "            i += 1\n",
    "    r = re.sub('2|5', '', ''.join(map(str, r)))\n",
    "    return 1 if len(r) == 0 else 2"
   ]
  },
  {
   "cell_type": "code",
   "execution_count": 285,
   "id": "1fda9b36-0589-42f1-a518-4b1f679cc8c0",
   "metadata": {},
   "outputs": [
    {
     "data": {
      "text/plain": [
       "1"
      ]
     },
     "execution_count": 285,
     "metadata": {},
     "output_type": "execute_result"
    }
   ],
   "source": [
    "solution(7,20)"
   ]
  },
  {
   "cell_type": "code",
   "execution_count": 286,
   "id": "2eb504b9-3bd9-40f7-bae4-cd6741f72fe0",
   "metadata": {},
   "outputs": [
    {
     "data": {
      "text/plain": [
       "1"
      ]
     },
     "execution_count": 286,
     "metadata": {},
     "output_type": "execute_result"
    }
   ],
   "source": [
    "solution(11,22)"
   ]
  },
  {
   "cell_type": "code",
   "execution_count": 287,
   "id": "532e323e-2f4c-4f60-b495-da4e916be40e",
   "metadata": {},
   "outputs": [
    {
     "data": {
      "text/plain": [
       "2"
      ]
     },
     "execution_count": 287,
     "metadata": {},
     "output_type": "execute_result"
    }
   ],
   "source": [
    "solution(12,21)"
   ]
  },
  {
   "cell_type": "code",
   "execution_count": 288,
   "id": "f9820b95-e6d5-46e8-96fd-a75c64d27715",
   "metadata": {},
   "outputs": [
    {
     "data": {
      "text/plain": [
       "2"
      ]
     },
     "execution_count": 288,
     "metadata": {},
     "output_type": "execute_result"
    }
   ],
   "source": [
    "solution(1,30)"
   ]
  },
  {
   "cell_type": "code",
   "execution_count": 289,
   "id": "38cfcd16-23a8-495b-80d2-0e3a725c7ff9",
   "metadata": {},
   "outputs": [
    {
     "data": {
      "text/plain": [
       "2"
      ]
     },
     "execution_count": 289,
     "metadata": {},
     "output_type": "execute_result"
    }
   ],
   "source": [
    "solution(1,6)"
   ]
  },
  {
   "cell_type": "code",
   "execution_count": 283,
   "id": "f5049201-c2ec-4b39-a5b3-2359f87266a6",
   "metadata": {},
   "outputs": [
    {
     "data": {
      "text/plain": [
       "1"
      ]
     },
     "execution_count": 283,
     "metadata": {},
     "output_type": "execute_result"
    }
   ],
   "source": [
    "solution(1,5)"
   ]
  },
  {
   "cell_type": "code",
   "execution_count": null,
   "id": "aa4b14db-fd27-4129-b6f6-6a0c937258b2",
   "metadata": {},
   "outputs": [],
   "source": []
  }
 ],
 "metadata": {
  "kernelspec": {
   "display_name": "Python 3 (ipykernel)",
   "language": "python",
   "name": "python3"
  },
  "language_info": {
   "codemirror_mode": {
    "name": "ipython",
    "version": 3
   },
   "file_extension": ".py",
   "mimetype": "text/x-python",
   "name": "python",
   "nbconvert_exporter": "python",
   "pygments_lexer": "ipython3",
   "version": "3.10.6"
  }
 },
 "nbformat": 4,
 "nbformat_minor": 5
}

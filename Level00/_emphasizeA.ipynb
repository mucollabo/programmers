{
 "cells": [
  {
   "cell_type": "markdown",
   "id": "9348c052-1a22-42f6-bfd8-7f64a35671e4",
   "metadata": {},
   "source": [
    "## A 강조하기\n",
    "### 문제 설명\n",
    "#### 문자열 myString이 주어집니다. myString에서 알파벳 \"a\"가 등장하면 전부 \"A\"로 변환하고, \"A\"가 아닌 모든 대문자 알파벳은 소문자 알파벳으로 변환하여 return 하는 solution 함수를 완성하세요.\n",
    "\n",
    "### 제한사항\n",
    "* 1 ≤ myString의 길이 ≤ 20\n",
    "  * myString은 알파벳으로 이루어진 문자열입니다.\n",
    "### 입출력 예\n",
    "|myString|result|\n",
    "|--------|------|\n",
    "|\"abstract algebra\"|\"AbstrAct AlgebrA\"|\n",
    "|\"PrOgRaMmErS\"|\"progrAmmers\"|\n",
    "### 입출력 예 설명\n",
    "#### 입출력 예 #1\n",
    "\n",
    "* 0번, 5번, 9번, 15번 인덱스의 \"a\"는 소문자이므로 전부 대문자로 고쳐줍니다.\n",
    "* 다른 문자들은 전부 \"a\"가 아닌 소문자이므로 바꾸지 않습니다.\n",
    "* 따라서 \"AbstrAct AlgebrA\"를 return 합니다.\n",
    "#### 입출력 예 #2\n",
    "\n",
    "* 0번, 2번, 4번, 6번, 8번, 10번 인덱스의 문자들은 \"A\"가 아닌 대문자이므로 전부 소문자로 고쳐줍니다.\n",
    "* 5번 인덱스의 \"a\"는 소문자이므로 대문자로 고쳐줍니다.\n",
    "* 다른 문자들은 전부 \"a\"가 아닌 소문자이므로 바꾸지 않습니다.\n",
    "* 따라서 \"progrAmmers\"를 return 합니다."
   ]
  },
  {
   "cell_type": "code",
   "execution_count": 21,
   "id": "398f6bc4-e3f2-4760-82d5-5bcda41054f3",
   "metadata": {},
   "outputs": [],
   "source": [
    "def solution(myString):\n",
    "    return ''.join(map(lambda x: x.upper() if x == 'a' or x == 'A' else x.lower(), myString))"
   ]
  },
  {
   "cell_type": "code",
   "execution_count": 22,
   "id": "a5791497-25f7-4014-aaf7-827148b0f8fe",
   "metadata": {},
   "outputs": [
    {
     "data": {
      "text/plain": [
       "'AbstrAct AlgebrA'"
      ]
     },
     "execution_count": 22,
     "metadata": {},
     "output_type": "execute_result"
    }
   ],
   "source": [
    "solution(\"abstract algebra\")"
   ]
  },
  {
   "cell_type": "code",
   "execution_count": 23,
   "id": "0c864ab1-9f20-4f89-ae72-a1c47ac03989",
   "metadata": {},
   "outputs": [
    {
     "data": {
      "text/plain": [
       "'progrAmmers'"
      ]
     },
     "execution_count": 23,
     "metadata": {},
     "output_type": "execute_result"
    }
   ],
   "source": [
    "solution(\"PrOgRAMmErS\")"
   ]
  },
  {
   "cell_type": "code",
   "execution_count": null,
   "id": "64f2903a-2737-49da-8775-71b64391f7ec",
   "metadata": {},
   "outputs": [],
   "source": []
  }
 ],
 "metadata": {
  "kernelspec": {
   "display_name": "Python 3 (ipykernel)",
   "language": "python",
   "name": "python3"
  },
  "language_info": {
   "codemirror_mode": {
    "name": "ipython",
    "version": 3
   },
   "file_extension": ".py",
   "mimetype": "text/x-python",
   "name": "python",
   "nbconvert_exporter": "python",
   "pygments_lexer": "ipython3",
   "version": "3.11.6"
  }
 },
 "nbformat": 4,
 "nbformat_minor": 5
}

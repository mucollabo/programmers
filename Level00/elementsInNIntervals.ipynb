{
 "cells": [
  {
   "cell_type": "markdown",
   "id": "e548fd31-7fcd-4254-96b0-197225b732ce",
   "metadata": {},
   "source": [
    "## n개 간격의 원소들\n",
    "### 문제 설명\n",
    "#### 정수 리스트 num_list와 정수 n이 주어질 때, num_list의 첫 번째 원소부터 마지막 원소까지 n개 간격으로 저장되어있는 원소들을 차례로 담은 리스트를 return하도록 solution 함수를 완성해주세요.\n",
    "\n",
    "### 제한사항\n",
    "* 5 ≤ num_list의 길이 ≤ 20\n",
    "* 1 ≤ num_list의 원소 ≤ 9\n",
    "* 1 ≤ n ≤ 4\n",
    "### 입출력 예\n",
    "|num_list|n|result|\n",
    "|--------|--|------|\n",
    "|[4, 2, 6, 1, 7, 6]|2|[4, 6, 7]|\n",
    "|[4, 2, 6, 1, 7, 6]|4|[4, 7]|\n",
    "### 입출력 예 설명\n",
    "#### 입출력 예 #1\n",
    "\n",
    "* [4, 2, 6, 1, 7, 6]에서 2개 간격으로 저장되어 있는 원소들은 [4, 6, 7]입니다.\n",
    "#### 입출력 예 #2\n",
    "\n",
    "* [4, 2, 6, 1, 7, 6]에서 4개 간격으로 저장되어 있는 원소들은 [4, 7]입니다."
   ]
  },
  {
   "cell_type": "code",
   "execution_count": 19,
   "id": "a835c362-8b7c-4170-89d8-a1c4c2e5198f",
   "metadata": {},
   "outputs": [],
   "source": [
    "def solution(num_list, n):\n",
    "    return [num_list[i] for i in range(0, len(num_list), n)]"
   ]
  },
  {
   "cell_type": "code",
   "execution_count": 20,
   "id": "cc5b1c64-2688-4fd2-8379-1485d2bacd39",
   "metadata": {},
   "outputs": [
    {
     "data": {
      "text/plain": [
       "[4, 6, 7]"
      ]
     },
     "execution_count": 20,
     "metadata": {},
     "output_type": "execute_result"
    }
   ],
   "source": [
    "solution([4, 2, 6, 1, 7, 6], 2)"
   ]
  },
  {
   "cell_type": "code",
   "execution_count": 21,
   "id": "cb2407f7-05bc-4520-948b-8957d84e4c6e",
   "metadata": {},
   "outputs": [
    {
     "data": {
      "text/plain": [
       "[4, 7]"
      ]
     },
     "execution_count": 21,
     "metadata": {},
     "output_type": "execute_result"
    }
   ],
   "source": [
    "solution([4, 2, 6, 1, 7, 6], 4)"
   ]
  },
  {
   "cell_type": "code",
   "execution_count": 22,
   "id": "1de85346-c6b2-4883-8a8d-cc6b9c34e870",
   "metadata": {},
   "outputs": [],
   "source": [
    "def solution2(num_list, n):\n",
    "    return num_list[::n]"
   ]
  },
  {
   "cell_type": "code",
   "execution_count": 23,
   "id": "f568a191-8879-4c6b-8b9e-f851833537d6",
   "metadata": {},
   "outputs": [
    {
     "data": {
      "text/plain": [
       "[4, 6, 7]"
      ]
     },
     "execution_count": 23,
     "metadata": {},
     "output_type": "execute_result"
    }
   ],
   "source": [
    "solution2([4, 2, 6, 1, 7, 6], 2)"
   ]
  },
  {
   "cell_type": "code",
   "execution_count": 24,
   "id": "de532d07-0e76-43cb-9268-dc6c628087a3",
   "metadata": {},
   "outputs": [
    {
     "data": {
      "text/plain": [
       "[4, 7]"
      ]
     },
     "execution_count": 24,
     "metadata": {},
     "output_type": "execute_result"
    }
   ],
   "source": [
    "solution2([4, 2, 6, 1, 7, 6], 4)"
   ]
  },
  {
   "cell_type": "code",
   "execution_count": null,
   "id": "3e625c87-0b92-4433-ad93-c3a0b3ba29ab",
   "metadata": {},
   "outputs": [],
   "source": []
  }
 ],
 "metadata": {
  "kernelspec": {
   "display_name": "Python 3 (ipykernel)",
   "language": "python",
   "name": "python3"
  },
  "language_info": {
   "codemirror_mode": {
    "name": "ipython",
    "version": 3
   },
   "file_extension": ".py",
   "mimetype": "text/x-python",
   "name": "python",
   "nbconvert_exporter": "python",
   "pygments_lexer": "ipython3",
   "version": "3.11.6"
  }
 },
 "nbformat": 4,
 "nbformat_minor": 5
}

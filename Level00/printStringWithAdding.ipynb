{
 "cells": [
  {
   "cell_type": "markdown",
   "id": "7ca125a3-d3f1-4970-bb1c-ae0576ec6bb1",
   "metadata": {},
   "source": [
    "### 문제 설명\n",
    "#### 두 개의 문자열 str1, str2가 공백으로 구분되어 입력으로 주어집니다.\n",
    "#### 입출력 예와 같이 str1과 str2을 이어서 출력하는 코드를 작성해 보세요.\n",
    "\n",
    "### 제한사항\n",
    "* 1 ≤ str1, str2의 길이 ≤ 10\n",
    "### 입출력 예\n",
    "#### 입력 #1\n",
    "\n",
    "apple pen\n",
    "#### 출력 #1\n",
    "\n",
    "applepen\n",
    "#### 입력 #2\n",
    "\n",
    "Hello World!\n",
    "#### 출력 #2\n",
    "\n",
    "HelloWorld!"
   ]
  },
  {
   "cell_type": "code",
   "execution_count": 6,
   "id": "783c4c8b-14f0-47f6-9c3a-d74e27c0f422",
   "metadata": {},
   "outputs": [
    {
     "name": "stdin",
     "output_type": "stream",
     "text": [
      " Hello World!\n"
     ]
    }
   ],
   "source": [
    "str1, str2 = input().strip().split(' ')"
   ]
  },
  {
   "cell_type": "code",
   "execution_count": 7,
   "id": "b768bfce-6aac-41c1-9a09-74bb65d10866",
   "metadata": {},
   "outputs": [
    {
     "name": "stdout",
     "output_type": "stream",
     "text": [
      "Hello World!\n"
     ]
    }
   ],
   "source": [
    "print(str1, str2)"
   ]
  },
  {
   "cell_type": "code",
   "execution_count": 8,
   "id": "30e0ab4c-b63f-4312-aec2-f10c9bc85775",
   "metadata": {},
   "outputs": [
    {
     "name": "stdout",
     "output_type": "stream",
     "text": [
      "HelloWorld!\n"
     ]
    }
   ],
   "source": [
    "print(str1+str2)"
   ]
  },
  {
   "cell_type": "code",
   "execution_count": null,
   "id": "f7bf109c-6801-4404-80c2-5f577547bd7d",
   "metadata": {},
   "outputs": [],
   "source": []
  }
 ],
 "metadata": {
  "kernelspec": {
   "display_name": "Python 3 (ipykernel)",
   "language": "python",
   "name": "python3"
  },
  "language_info": {
   "codemirror_mode": {
    "name": "ipython",
    "version": 3
   },
   "file_extension": ".py",
   "mimetype": "text/x-python",
   "name": "python",
   "nbconvert_exporter": "python",
   "pygments_lexer": "ipython3",
   "version": "3.11.6"
  }
 },
 "nbformat": 4,
 "nbformat_minor": 5
}

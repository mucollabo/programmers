{
 "cells": [
  {
   "cell_type": "markdown",
   "id": "c6cc8623-2376-441b-b217-196e79f217a9",
   "metadata": {},
   "source": [
    "# 팩토리얼\n",
    "## 문제 설명\n",
    "### i팩토리얼 (i!)은 1부터 i까지 정수의 곱을 의미합니다. 예를들어 5! = 5 * 4 * 3 * 2 * 1 = 120 입니다. 정수 n이 주어질 때 다음 조건을 만족하는 가장 큰 정수 i를 return 하도록 solution 함수를 완성해주세요.\n",
    "\n",
    "* i! ≤ n\n",
    "## 제한사항\n",
    "* 0 < n ≤ 3,628,800\n",
    "## 입출력 예\n",
    "|n|result|\n",
    "|-|------|\n",
    "|3628800|10|\n",
    "|7|3|\n",
    "## 입출력 예 설명\n",
    "## 입출력 예 #1\n",
    "\n",
    "* 10! = 3,628,800입니다. n이 3628800이므로 최대 팩토리얼인 10을 return 합니다.\n",
    "## 입출력 예 #2\n",
    "\n",
    "* 3! = 6, 4! = 24입니다. n이 7이므로, 7 이하의 최대 팩토리얼인 3을 return 합니다."
   ]
  },
  {
   "cell_type": "code",
   "execution_count": 22,
   "id": "eb709143-dff4-4d2d-befe-d45b077ff833",
   "metadata": {},
   "outputs": [],
   "source": [
    "def solution(n):\n",
    "    for i in range(10, 1, -1):\n",
    "        s = 1\n",
    "        for j in range(2, i+1):\n",
    "            s *= j\n",
    "        if n >= s:\n",
    "            return i"
   ]
  },
  {
   "cell_type": "code",
   "execution_count": 23,
   "id": "45702d38-7b12-46fe-8027-b2cfe14c6678",
   "metadata": {},
   "outputs": [
    {
     "data": {
      "text/plain": [
       "10"
      ]
     },
     "execution_count": 23,
     "metadata": {},
     "output_type": "execute_result"
    }
   ],
   "source": [
    "solution(3628800)"
   ]
  },
  {
   "cell_type": "code",
   "execution_count": 24,
   "id": "0e5441cb-b710-4a7c-8127-dbd8f54806cd",
   "metadata": {},
   "outputs": [
    {
     "data": {
      "text/plain": [
       "3"
      ]
     },
     "execution_count": 24,
     "metadata": {},
     "output_type": "execute_result"
    }
   ],
   "source": [
    "solution(7)"
   ]
  },
  {
   "cell_type": "code",
   "execution_count": 26,
   "id": "abd95d44-4af1-44da-a6b5-6976637d28eb",
   "metadata": {},
   "outputs": [
    {
     "data": {
      "text/plain": [
       "[10, 9, 8, 7, 6, 5, 4, 3, 2]"
      ]
     },
     "execution_count": 26,
     "metadata": {},
     "output_type": "execute_result"
    }
   ],
   "source": [
    "list(range(10, 1, -1))"
   ]
  },
  {
   "cell_type": "code",
   "execution_count": 71,
   "id": "14138345-9d74-44da-8ae3-6873abd6aedc",
   "metadata": {},
   "outputs": [],
   "source": [
    "import math\n",
    "\n",
    "def solution2(n):\n",
    "    return max(filter(lambda x: math.factorial(x) <= n, range(11)))"
   ]
  },
  {
   "cell_type": "code",
   "execution_count": 72,
   "id": "439c191a-9ce1-4af6-90e1-fc39a4026cd1",
   "metadata": {},
   "outputs": [
    {
     "data": {
      "text/plain": [
       "10"
      ]
     },
     "execution_count": 72,
     "metadata": {},
     "output_type": "execute_result"
    }
   ],
   "source": [
    "solution2(3628800)"
   ]
  },
  {
   "cell_type": "code",
   "execution_count": 73,
   "id": "fb3d30ec-c9f9-4321-b391-12466146b597",
   "metadata": {},
   "outputs": [
    {
     "data": {
      "text/plain": [
       "3"
      ]
     },
     "execution_count": 73,
     "metadata": {},
     "output_type": "execute_result"
    }
   ],
   "source": [
    "solution2(7)"
   ]
  },
  {
   "cell_type": "code",
   "execution_count": 74,
   "id": "bc7bf15e-bd76-431f-9192-6dc876b699fe",
   "metadata": {},
   "outputs": [
    {
     "data": {
      "text/plain": [
       "2"
      ]
     },
     "execution_count": 74,
     "metadata": {},
     "output_type": "execute_result"
    }
   ],
   "source": [
    "solution2(3)"
   ]
  },
  {
   "cell_type": "code",
   "execution_count": 75,
   "id": "1a842909-07cc-429f-927f-e2f0368ba3a0",
   "metadata": {},
   "outputs": [
    {
     "data": {
      "text/plain": [
       "4"
      ]
     },
     "execution_count": 75,
     "metadata": {},
     "output_type": "execute_result"
    }
   ],
   "source": [
    "solution2(25)"
   ]
  },
  {
   "cell_type": "code",
   "execution_count": null,
   "id": "30e27f83-6fca-46a5-bbcf-61cd910e31e3",
   "metadata": {},
   "outputs": [],
   "source": []
  }
 ],
 "metadata": {
  "kernelspec": {
   "display_name": "Python 3 (ipykernel)",
   "language": "python",
   "name": "python3"
  },
  "language_info": {
   "codemirror_mode": {
    "name": "ipython",
    "version": 3
   },
   "file_extension": ".py",
   "mimetype": "text/x-python",
   "name": "python",
   "nbconvert_exporter": "python",
   "pygments_lexer": "ipython3",
   "version": "3.10.6"
  }
 },
 "nbformat": 4,
 "nbformat_minor": 5
}

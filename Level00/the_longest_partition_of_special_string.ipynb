{
 "cells": [
  {
   "cell_type": "markdown",
   "metadata": {},
   "source": [
    "### 문제 설명\n",
    "문자열 myString과 pat가 주어집니다. myString의 부분 문자열중 pat로 끝나는 가장 긴 부분 문자열을 찾아서 return 하는 solution 함수를 완성해 주세요.\n",
    "\n",
    "### 제한사항\n",
    "* 5 ≤ myString ≤ 20\n",
    "* 1 ≤ pat ≤ 5\n",
    "  * pat은 반드시 myString의 부분 문자열로 주어집니다.\n",
    "* myString과 pat에 등장하는 알파벳은 대문자와 소문자를 구분합니다.\n",
    "### 입출력 예\n",
    "|myString|pat|result|\n",
    "|--------|---|------|\n",
    "|\"AbCdEFG\"|\"dE\"|\"AbCdE\"|\n",
    "|\"AAAAaaaa\"|\"a\"|\"AAAAaaaa\"|\n",
    "### 입출력 예 설명\n",
    "#### 입출력 예 #1\n",
    "\n",
    "* \"AbCdEFG\"에서 \"dE\"는 한 번 등장하며 처음부터 해당 위치까지 잘라내면 \"AbCdE\"가 됩니다. 따라서 이 문자열이 \"dE\"로 끝나는 가장 긴 문자열이며, \"AbCdE\"를 return 합니다.\n",
    "#### 입출력 예 #2\n",
    "\n",
    "* \"AAAAaaaa\"에서 \"a\"는 총 네 번 등장하며 이 중 가장 마지막에 있는 위치까지 잘라내면 \"AAAAaaaa\"가 됩니다. 따라서 이 문자열이 \"a\"로 끝나는 가장 긴 문자열이며, \"AAAAaaaa\"를 return 합니다."
   ]
  },
  {
   "cell_type": "code",
   "execution_count": 26,
   "metadata": {},
   "outputs": [],
   "source": [
    "def solution(myString, pat):\n",
    "    for i in range(len(myString)-len(pat), -1, -1):\n",
    "        if myString[i:i+len(pat)] == pat:\n",
    "            return myString[:i] + pat"
   ]
  },
  {
   "cell_type": "code",
   "execution_count": 27,
   "metadata": {},
   "outputs": [
    {
     "data": {
      "text/plain": [
       "'AbCdE'"
      ]
     },
     "execution_count": 27,
     "metadata": {},
     "output_type": "execute_result"
    }
   ],
   "source": [
    "solution(\"AbCdEFG\", \"dE\")"
   ]
  },
  {
   "cell_type": "code",
   "execution_count": 28,
   "metadata": {},
   "outputs": [
    {
     "data": {
      "text/plain": [
       "'AAAAaaaa'"
      ]
     },
     "execution_count": 28,
     "metadata": {},
     "output_type": "execute_result"
    }
   ],
   "source": [
    "solution(\"AAAAaaaa\", \"a\")"
   ]
  },
  {
   "cell_type": "code",
   "execution_count": null,
   "metadata": {},
   "outputs": [],
   "source": []
  }
 ],
 "metadata": {
  "kernelspec": {
   "display_name": "Python 3",
   "language": "python",
   "name": "python3"
  },
  "language_info": {
   "codemirror_mode": {
    "name": "ipython",
    "version": 3
   },
   "file_extension": ".py",
   "mimetype": "text/x-python",
   "name": "python",
   "nbconvert_exporter": "python",
   "pygments_lexer": "ipython3",
   "version": "3.12.1"
  }
 },
 "nbformat": 4,
 "nbformat_minor": 2
}

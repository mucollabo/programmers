{
 "cells": [
  {
   "cell_type": "markdown",
   "metadata": {},
   "source": [
    "### 문제 설명\n",
    "문자열 배열 intStrs와 정수 k, s, l가 주어집니다. intStrs의 원소는 숫자로 이루어져 있습니다.\n",
    "\n",
    "배열 intStrs의 각 원소마다 s번 인덱스에서 시작하는 길이 l짜리 부분 문자열을 잘라내 정수로 변환합니다. 이때 변환한 정수값이 k보다 큰 값들을 담은 배열을 return 하는 solution 함수를 완성해 주세요.\n",
    "\n",
    "### 제한사항\n",
    "* 0 ≤ s < 100\n",
    "* 1 ≤ l ≤ 8\n",
    "* 10l - 1 ≤ k < 10l\n",
    "* 1 ≤ intStrs의 길이 ≤ 10,000\n",
    "  * s + l ≤ intStrs의 원소의 길이 ≤ 120\n",
    "### 입출력 예\n",
    "|intStrs|k|s|l|result|\n",
    "|-------|-|-|-|------|\n",
    "|[\"0123456789\",\"9876543210\",\"9999999999999\"]|50000|5|5|[56789, 99999]|\n",
    "### 입출력 예 설명\n",
    "#### 입출력 예 #1\n",
    "\n",
    "* idx에 따라 잘라낸 문자열과 그에 따른 ret의 변화를 표시하면 다음 표와 같습니다.\n",
    "\n",
    "|idx|잘라낸 문자열|ret|\n",
    "|---|----------|---|\n",
    "|0|\"56789\"|[56789]|\n",
    "|1|\"43210\"|[56789]|\n",
    "|2|\"99999\"|[56789, 99999]|\n",
    "\n",
    "* 따라서 [56789, 99999]를 return 합니다."
   ]
  },
  {
   "cell_type": "code",
   "execution_count": 23,
   "metadata": {},
   "outputs": [],
   "source": [
    "def solution(intStrs, k, s, l):\n",
    "    r = []\n",
    "    for e in intStrs:\n",
    "        if int(e[s:s+l]) > k:\n",
    "            r.append(int(e[s:s+l]))\n",
    "    return r"
   ]
  },
  {
   "cell_type": "code",
   "execution_count": 24,
   "metadata": {},
   "outputs": [
    {
     "data": {
      "text/plain": [
       "[56789, 99999]"
      ]
     },
     "execution_count": 24,
     "metadata": {},
     "output_type": "execute_result"
    }
   ],
   "source": [
    "solution([\"0123456789\",\"9876543210\",\"9999999999999\"], 50000, 5, 5)"
   ]
  },
  {
   "cell_type": "code",
   "execution_count": 25,
   "metadata": {},
   "outputs": [],
   "source": [
    "def solution2(intStrs, k, s, l):\n",
    "    return [int(e[s:s+l]) for e in intStrs if int(e[s:s+l]) > k]"
   ]
  },
  {
   "cell_type": "code",
   "execution_count": 26,
   "metadata": {},
   "outputs": [
    {
     "data": {
      "text/plain": [
       "[56789, 99999]"
      ]
     },
     "execution_count": 26,
     "metadata": {},
     "output_type": "execute_result"
    }
   ],
   "source": [
    "solution2([\"0123456789\",\"9876543210\",\"9999999999999\"], 50000, 5, 5)"
   ]
  },
  {
   "cell_type": "code",
   "execution_count": null,
   "metadata": {},
   "outputs": [],
   "source": []
  }
 ],
 "metadata": {
  "kernelspec": {
   "display_name": "Python 3",
   "language": "python",
   "name": "python3"
  },
  "language_info": {
   "codemirror_mode": {
    "name": "ipython",
    "version": 3
   },
   "file_extension": ".py",
   "mimetype": "text/x-python",
   "name": "python",
   "nbconvert_exporter": "python",
   "pygments_lexer": "ipython3",
   "version": "3.12.1"
  }
 },
 "nbformat": 4,
 "nbformat_minor": 2
}

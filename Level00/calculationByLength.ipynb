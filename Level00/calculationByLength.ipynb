{
 "cells": [
  {
   "cell_type": "markdown",
   "id": "d17840ed-cdaa-42f1-b94b-8f0cadb5f916",
   "metadata": {},
   "source": [
    "## 길이에 따른 연산\n",
    "### 문제 설명\n",
    "#### 정수가 담긴 리스트 num_list가 주어질 때, 리스트의 길이가 11 이상이면 리스트에 있는 모든 원소의 합을 10 이하이면 모든 원소의 곱을 return하도록 solution 함수를 완성해주세요.\n",
    "\n",
    "### 제한사항\n",
    "* 2 ≤ num_list의 길이 ≤ 20\n",
    "* 1 ≤ num_list의 원소 ≤ 9\n",
    "* num_list의 원소를 모두 곱했을 때 2,147,483,647를 넘는 입력은 주어지지 않습니다.\n",
    "### 입출력 예\n",
    "|num_list|result|\n",
    "|--------|------|\n",
    "|[3, 4, 5, 2, 5, 4, 6, 7, 3, 7, 2, 2, 1]|51|\n",
    "|[2, 3, 4, 5]|120|\n",
    "### 입출력 예 설명\n",
    "#### 입출력 예 #1\n",
    "\n",
    "* 리스트의 길이가 13이므로 모든 원소의 합인 51을 return합니다.\n",
    "#### 입출력 예 #2\n",
    "\n",
    "* 리스트의 길이가 4이므로 모든 원소의 곱인 120을 return합니다."
   ]
  },
  {
   "cell_type": "code",
   "execution_count": 4,
   "id": "1e3c2786-a986-48c1-8a53-ab81160271fd",
   "metadata": {},
   "outputs": [],
   "source": [
    "from functools import reduce\n",
    "def solution(num_list):\n",
    "    return reduce((lambda x, y: x + y if len(num_list) > 10 else x * y), num_list)"
   ]
  },
  {
   "cell_type": "code",
   "execution_count": 5,
   "id": "155628a2-c703-4492-aa94-53cb8698ed8f",
   "metadata": {},
   "outputs": [
    {
     "data": {
      "text/plain": [
       "51"
      ]
     },
     "execution_count": 5,
     "metadata": {},
     "output_type": "execute_result"
    }
   ],
   "source": [
    "solution([3, 4, 5, 2, 5, 4, 6, 7, 3, 7, 2, 2, 1])"
   ]
  },
  {
   "cell_type": "code",
   "execution_count": 6,
   "id": "60fa2ac1-9167-44bb-83a1-e2899378f9be",
   "metadata": {},
   "outputs": [
    {
     "data": {
      "text/plain": [
       "120"
      ]
     },
     "execution_count": 6,
     "metadata": {},
     "output_type": "execute_result"
    }
   ],
   "source": [
    "solution([2, 3, 4, 5])"
   ]
  },
  {
   "cell_type": "code",
   "execution_count": null,
   "id": "5811bd1a-d62d-4726-897a-5f9b82703026",
   "metadata": {},
   "outputs": [],
   "source": []
  }
 ],
 "metadata": {
  "kernelspec": {
   "display_name": "Python 3 (ipykernel)",
   "language": "python",
   "name": "python3"
  },
  "language_info": {
   "codemirror_mode": {
    "name": "ipython",
    "version": 3
   },
   "file_extension": ".py",
   "mimetype": "text/x-python",
   "name": "python",
   "nbconvert_exporter": "python",
   "pygments_lexer": "ipython3",
   "version": "3.11.6"
  }
 },
 "nbformat": 4,
 "nbformat_minor": 5
}

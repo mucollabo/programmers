{
 "cells": [
  {
   "cell_type": "markdown",
   "metadata": {},
   "source": [
    "### 문제 설명\n",
    "0과 1로만 이루어진 정수 배열 arr가 주어집니다. arr를 이용해 새로운 배열 stk을 만드려고 합니다.\n",
    "\n",
    "i의 초기값을 0으로 설정하고 i가 arr의 길이보다 작으면 다음을 반복합니다.\n",
    "\n",
    "* 만약 stk이 빈 배열이라면 arr[i]를 stk에 추가하고 i에 1을 더합니다.\n",
    "* stk에 원소가 있고, stk의 마지막 원소가 arr[i]와 같으면 stk의 마지막 원소를 stk에서 제거하고 i에 1을 더합니다.\n",
    "* stk에 원소가 있는데 stk의 마지막 원소가 arr[i]와 다르면 stk의 맨 마지막에 arr[i]를 추가하고 i에 1을 더합니다.\n",
    "\n",
    "위 작업을 마친 후 만들어진 stk을 return 하는 solution 함수를 완성해 주세요.\n",
    "\n",
    "단, 만약 빈 배열을 return 해야한다면 [-1]을 return 합니다.\n",
    "\n",
    "### 제한사항\n",
    "* 1 ≤ arr의 길이 ≤ 1,000,000\n",
    "  * arr의 원소는 0 또는 1 입니다.\n",
    "\n",
    "### 입출력 예\n",
    "|arr|result|\n",
    "|---|------|\n",
    "|[0, 1, 1, 1, 0]|[0, 1, 0]|\n",
    "|[0, 1, 0, 1, 0]|[0, 1, 0, 1, 0]|\n",
    "|[0, 1, 1, 0]|[-1]|\n",
    "\n",
    "### 입출력 예 설명\n",
    "#### 입출력 예 #1\n",
    "\n",
    "* 각 작업을 마친 후에 배열의 변화를 나타내면 다음 표와 같습니다.\n",
    "\n",
    "|idx|arr[idx]|stk|\n",
    "|---|--------|---|\n",
    "|0|0|[]|\n",
    "|1|1|[0]|\n",
    "|2|1|[0, 1]|\n",
    "|3|1|[0]|\n",
    "|4|0|[0, 1]|\n",
    "|5|-|[0, 1, 0]|\n",
    "\n",
    "* 따라서 [0, 1, 0]을 return 합니다.\n",
    "\n",
    "### 입출력 예 #2\n",
    "\n",
    "* 각 작업을 마친 후에 배열의 변화를 나타내면 다음 표와 같습니다.\n",
    "\n",
    "|idx|arr[idx]|stk|\n",
    "|---|--------|---|\n",
    "|0|0|[]|\n",
    "|1|1|[0]|\n",
    "|2|0|[0, 1]|\n",
    "|3|1|[0, 1, 0]|\n",
    "|4|0|[0, 1, 0, 1]|\n",
    "|5|-|[0, 1, 0, 1, 0]|\n",
    "\n",
    "* 따라서 [0, 1, 0, 1, 0]을 return 합니다.\n",
    "\n",
    "### 입출력 예 #3\n",
    "\n",
    "* 각 작업을 마친 후에 배열의 변화를 나타내면 다음 표와 같습니다.\n",
    "\n",
    "|idx|arr[idx]|stk|\n",
    "|---|--------|---|\n",
    "|0|0|[]|\n",
    "|1|1|[0]|\n",
    "|2|1|[0, 1]|\n",
    "|3|0|[0]|\n",
    "|4|-|[]|\n",
    "\n",
    "* 마지막에 빈 배열이 되었으므로 [-1]을 return 합니다.\n",
    "\n",
    "※ 2023년 04월 27일 지문이 수정되었습니다."
   ]
  },
  {
   "cell_type": "code",
   "execution_count": 14,
   "metadata": {},
   "outputs": [],
   "source": [
    "def solution(arr):\n",
    "    i = 0\n",
    "    r = []\n",
    "    for a in range(len(arr)):\n",
    "        if len(r) == 0:\n",
    "            r.append(arr[a])\n",
    "        elif r[-1] != arr[a]:\n",
    "            r.append(arr[a])\n",
    "        elif r[-1] == arr[a]:\n",
    "            r.pop()\n",
    "    return r if len(r) > 0 else [-1]"
   ]
  },
  {
   "cell_type": "code",
   "execution_count": 15,
   "metadata": {},
   "outputs": [
    {
     "data": {
      "text/plain": [
       "[0, 1, 0]"
      ]
     },
     "execution_count": 15,
     "metadata": {},
     "output_type": "execute_result"
    }
   ],
   "source": [
    "solution([0, 1, 1, 1, 0])"
   ]
  },
  {
   "cell_type": "code",
   "execution_count": 16,
   "metadata": {},
   "outputs": [
    {
     "data": {
      "text/plain": [
       "[0, 1, 0, 1, 0]"
      ]
     },
     "execution_count": 16,
     "metadata": {},
     "output_type": "execute_result"
    }
   ],
   "source": [
    "solution([0, 1, 0, 1, 0])"
   ]
  },
  {
   "cell_type": "code",
   "execution_count": 17,
   "metadata": {},
   "outputs": [
    {
     "data": {
      "text/plain": [
       "[-1]"
      ]
     },
     "execution_count": 17,
     "metadata": {},
     "output_type": "execute_result"
    }
   ],
   "source": [
    "solution([0, 1, 1, 0])"
   ]
  },
  {
   "cell_type": "code",
   "execution_count": null,
   "metadata": {},
   "outputs": [],
   "source": []
  }
 ],
 "metadata": {
  "kernelspec": {
   "display_name": "Python 3",
   "language": "python",
   "name": "python3"
  },
  "language_info": {
   "codemirror_mode": {
    "name": "ipython",
    "version": 3
   },
   "file_extension": ".py",
   "mimetype": "text/x-python",
   "name": "python",
   "nbconvert_exporter": "python",
   "pygments_lexer": "ipython3",
   "version": "3.12.1"
  }
 },
 "nbformat": 4,
 "nbformat_minor": 2
}

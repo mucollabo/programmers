{
 "cells": [
  {
   "cell_type": "markdown",
   "id": "b35768bc-3cba-479b-b5e5-9c9e3a9bd1c9",
   "metadata": {},
   "source": [
    "# 가까운 수\n",
    "## 문제 설명\n",
    "### 정수 배열 array와 정수 n이 매개변수로 주어질 때, array에 들어있는 정수 중 n과 가장 가까운 수를 return 하도록 solution 함수를 완성해주세요.\n",
    "\n",
    "## 제한사항\n",
    "* 1 ≤ array의 길이 ≤ 100\n",
    "* 1 ≤ array의 원소 ≤ 100\n",
    "* 1 ≤ n ≤ 100\n",
    "* 가장 가까운 수가 여러 개일 경우 더 작은 수를 return 합니다.\n",
    "## 입출력 예\n",
    "|array|n|result|\n",
    "|-----|-|------|\n",
    "|[3, 10, 28]|20|28|\n",
    "|[10, 11, 12]|13|12|\n",
    "## 입출력 예 설명\n",
    "## 입출력 예 #1\n",
    "\n",
    "* 3, 10, 28 중 20과 가장 가까운 수는 28입니다.\n",
    "## 입출력 예 #2\n",
    "\n",
    "* 10, 11, 12 중 13과 가장 가까운 수는 12입니다."
   ]
  },
  {
   "cell_type": "code",
   "execution_count": 45,
   "id": "b0365c96-fc95-4995-863b-3f0aaaae4023",
   "metadata": {},
   "outputs": [],
   "source": [
    "def solution(array, n):\n",
    "    array.sort()\n",
    "    temp = [abs(n-e) for e in array]\n",
    "    return array[temp.index(min(temp))]"
   ]
  },
  {
   "cell_type": "code",
   "execution_count": 46,
   "id": "af023079-99ff-400b-ac82-68fe574f79c7",
   "metadata": {},
   "outputs": [
    {
     "data": {
      "text/plain": [
       "28"
      ]
     },
     "execution_count": 46,
     "metadata": {},
     "output_type": "execute_result"
    }
   ],
   "source": [
    "solution([3, 10, 28], 20)"
   ]
  },
  {
   "cell_type": "code",
   "execution_count": 47,
   "id": "2847c7d1-0861-4fa7-97ae-c3c781866496",
   "metadata": {},
   "outputs": [
    {
     "data": {
      "text/plain": [
       "12"
      ]
     },
     "execution_count": 47,
     "metadata": {},
     "output_type": "execute_result"
    }
   ],
   "source": [
    "solution([10,11,12], 13)"
   ]
  },
  {
   "cell_type": "code",
   "execution_count": 48,
   "id": "a0e872f3-32ec-4183-af92-aab2795410dd",
   "metadata": {},
   "outputs": [
    {
     "data": {
      "text/plain": [
       "11"
      ]
     },
     "execution_count": 48,
     "metadata": {},
     "output_type": "execute_result"
    }
   ],
   "source": [
    "solution([10,11,13,11], 12)"
   ]
  },
  {
   "cell_type": "code",
   "execution_count": 49,
   "id": "3b32a1a6-b6e9-41f8-95ba-a8e8bad8c1b8",
   "metadata": {},
   "outputs": [
    {
     "data": {
      "text/plain": [
       "11"
      ]
     },
     "execution_count": 49,
     "metadata": {},
     "output_type": "execute_result"
    }
   ],
   "source": [
    "solution([10,13,11,11], 12)"
   ]
  },
  {
   "cell_type": "code",
   "execution_count": 68,
   "id": "54bd0b08-bd9b-4fe9-b2be-9aca496e3153",
   "metadata": {},
   "outputs": [],
   "source": [
    "def solution2(array, n):\n",
    "    return sorted(array, key = lambda x: (abs(x-n), x-n))[0]"
   ]
  },
  {
   "cell_type": "code",
   "execution_count": 69,
   "id": "cd977b55-6071-4ab2-9e52-decf91216fe7",
   "metadata": {},
   "outputs": [
    {
     "data": {
      "text/plain": [
       "11"
      ]
     },
     "execution_count": 69,
     "metadata": {},
     "output_type": "execute_result"
    }
   ],
   "source": [
    "solution2([10,13,11,11], 12)"
   ]
  },
  {
   "cell_type": "code",
   "execution_count": 70,
   "id": "4d7ad7a9-85b8-4c42-bdf7-93a280487008",
   "metadata": {},
   "outputs": [
    {
     "data": {
      "text/plain": [
       "11"
      ]
     },
     "execution_count": 70,
     "metadata": {},
     "output_type": "execute_result"
    }
   ],
   "source": [
    "solution2([10,11,13,11], 12)"
   ]
  },
  {
   "cell_type": "code",
   "execution_count": 71,
   "id": "472c4f0d-f0a0-4f1b-b631-00587286289c",
   "metadata": {},
   "outputs": [
    {
     "data": {
      "text/plain": [
       "12"
      ]
     },
     "execution_count": 71,
     "metadata": {},
     "output_type": "execute_result"
    }
   ],
   "source": [
    "solution2([10,11,12], 13)"
   ]
  },
  {
   "cell_type": "code",
   "execution_count": 72,
   "id": "9fbb9aab-8df2-44ec-9fe5-cbaf67c34e86",
   "metadata": {},
   "outputs": [
    {
     "data": {
      "text/plain": [
       "28"
      ]
     },
     "execution_count": 72,
     "metadata": {},
     "output_type": "execute_result"
    }
   ],
   "source": [
    "solution2([3, 10, 28], 20)"
   ]
  },
  {
   "cell_type": "code",
   "execution_count": null,
   "id": "e4cc32b6-a60b-45d2-8d40-4c12fe301220",
   "metadata": {},
   "outputs": [],
   "source": []
  }
 ],
 "metadata": {
  "kernelspec": {
   "display_name": "Python 3 (ipykernel)",
   "language": "python",
   "name": "python3"
  },
  "language_info": {
   "codemirror_mode": {
    "name": "ipython",
    "version": 3
   },
   "file_extension": ".py",
   "mimetype": "text/x-python",
   "name": "python",
   "nbconvert_exporter": "python",
   "pygments_lexer": "ipython3",
   "version": "3.10.6"
  }
 },
 "nbformat": 4,
 "nbformat_minor": 5
}

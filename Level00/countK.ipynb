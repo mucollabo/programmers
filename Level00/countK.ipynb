{
 "cells": [
  {
   "cell_type": "markdown",
   "id": "8d876c30-d060-4ff5-ba13-ec1a938de512",
   "metadata": {},
   "source": [
    "# k의 개수\n",
    "## 문제 설명\n",
    "### 1부터 13까지의 수에서, 1은 1, 10, 11, 12, 13 이렇게 총 6번 등장합니다. 정수 i, j, k가 매개변수로 주어질 때, i부터 j까지 k가 몇 번 등장하는지 return 하도록 solution 함수를 완성해주세요.\n",
    "\n",
    "## 제한사항\n",
    "* 1 ≤ i < j ≤ 100,000\n",
    "* 0 ≤ k ≤ 9\n",
    "## 입출력 예\n",
    "|i|j|k|result|\n",
    "|-|-|-|------|\n",
    "|1|13|1|6|\n",
    "|10|50|5|5|\n",
    "|3|10|2|0|\n",
    "## 입출력 예 설명\n",
    "## 입출력 예 #1\n",
    "\n",
    "* 본문과 동일합니다.\n",
    "## 입출력 예 #2\n",
    "\n",
    "** 10부터 50까지 5는 15, 25, 35, 45, 50 총 5번 등장합니다. 따라서 5를 return 합니다.\n",
    "## 입출력 예 #3\n",
    "\n",
    "* 3부터 10까지 2는 한 번도 등장하지 않으므로 0을 return 합니다."
   ]
  },
  {
   "cell_type": "code",
   "execution_count": 23,
   "id": "3bfb8e07-6304-4552-a226-6166cc53e34d",
   "metadata": {},
   "outputs": [],
   "source": [
    "def solution(i, j, k):\n",
    "    return ''.join(str(n) for n in range(i, j+1)).count(str(k))"
   ]
  },
  {
   "cell_type": "code",
   "execution_count": 24,
   "id": "b563a3f6-1e7e-4ca0-9f25-ed9180e29ee1",
   "metadata": {},
   "outputs": [
    {
     "data": {
      "text/plain": [
       "6"
      ]
     },
     "execution_count": 24,
     "metadata": {},
     "output_type": "execute_result"
    }
   ],
   "source": [
    "solution(1, 13, 1)"
   ]
  },
  {
   "cell_type": "code",
   "execution_count": 25,
   "id": "827f14f9-77e3-4672-a4d0-216b9a41b2eb",
   "metadata": {},
   "outputs": [
    {
     "data": {
      "text/plain": [
       "5"
      ]
     },
     "execution_count": 25,
     "metadata": {},
     "output_type": "execute_result"
    }
   ],
   "source": [
    "solution(10, 50, 5)"
   ]
  },
  {
   "cell_type": "code",
   "execution_count": 26,
   "id": "e6960235-f1a5-4689-bf36-8085b4fd29a3",
   "metadata": {},
   "outputs": [
    {
     "data": {
      "text/plain": [
       "0"
      ]
     },
     "execution_count": 26,
     "metadata": {},
     "output_type": "execute_result"
    }
   ],
   "source": [
    "solution(3, 10, 2)"
   ]
  },
  {
   "cell_type": "code",
   "execution_count": 54,
   "id": "ca9f18ca-82d0-45d3-b733-0552951861a8",
   "metadata": {},
   "outputs": [],
   "source": [
    "def solution2(i, j, k):\n",
    "    return ''.join(map(lambda n: str(n), (range(i, j+1)))).count(str(k))"
   ]
  },
  {
   "cell_type": "code",
   "execution_count": 55,
   "id": "52030232-a047-4127-977f-a2ca4d81bb1a",
   "metadata": {},
   "outputs": [
    {
     "data": {
      "text/plain": [
       "6"
      ]
     },
     "execution_count": 55,
     "metadata": {},
     "output_type": "execute_result"
    }
   ],
   "source": [
    "solution2(1, 13, 1)"
   ]
  },
  {
   "cell_type": "code",
   "execution_count": null,
   "id": "361a55fe-855e-4ecf-a5b6-ceeded721b12",
   "metadata": {},
   "outputs": [],
   "source": []
  }
 ],
 "metadata": {
  "kernelspec": {
   "display_name": "Python 3 (ipykernel)",
   "language": "python",
   "name": "python3"
  },
  "language_info": {
   "codemirror_mode": {
    "name": "ipython",
    "version": 3
   },
   "file_extension": ".py",
   "mimetype": "text/x-python",
   "name": "python",
   "nbconvert_exporter": "python",
   "pygments_lexer": "ipython3",
   "version": "3.10.6"
  }
 },
 "nbformat": 4,
 "nbformat_minor": 5
}

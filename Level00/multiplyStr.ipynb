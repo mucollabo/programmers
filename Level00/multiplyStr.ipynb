{
 "cells": [
  {
   "cell_type": "markdown",
   "id": "51fccd49-7cf7-46e9-88ed-8f1f84873901",
   "metadata": {},
   "source": [
    "## 문자열 곱하기\n",
    "### 문제 설명\n",
    "#### 문자열 my_string과 정수 k가 주어질 때, my_string을 k번 반복한 문자열을 return 하는 solution 함수를 작성해 주세요.\n",
    "\n",
    "### 제한사항\n",
    "* 1 ≤ my_string의 길이 ≤ 100\n",
    "* my_string은 영소문자로만 이루어져 있습니다.\n",
    "* 1 ≤ k ≤ 100\n",
    "### 입출력 예\n",
    "|my_string|k|result|\n",
    "|---------|--|-------|\n",
    "|\"string\"|3|\"stringstringstring\"|\n",
    "|\"love\"|10|\"lovelovelovelovelovelovelovelovelovelove\"|\n",
    "### 입출력 예 설명\n",
    "#### 입출력 예 #1\n",
    "\n",
    "* 예제 1번의 my_string은 \"string\"이고 이를 3번 반복한 문자열은 \"stringstringstring\"이므로 이를 return 합니다.\n",
    "#### 입출력 예 #2\n",
    "\n",
    "* 예제 2번의 my_string은 \"love\"이고 이를 10번 반복한 문자열은 \"lovelovelovelovelovelovelovelovelovelove\"이므로 이를 return 합니다."
   ]
  },
  {
   "cell_type": "code",
   "execution_count": 1,
   "id": "eb365fdf-c246-4a39-8b4e-54e8ee275dbe",
   "metadata": {},
   "outputs": [],
   "source": [
    "def solution(my_string, k):\n",
    "    return my_string*k"
   ]
  },
  {
   "cell_type": "code",
   "execution_count": 3,
   "id": "5326c6a0-05ca-4ae2-8412-5d9373995ec8",
   "metadata": {},
   "outputs": [
    {
     "data": {
      "text/plain": [
       "'stringstringstring'"
      ]
     },
     "execution_count": 3,
     "metadata": {},
     "output_type": "execute_result"
    }
   ],
   "source": [
    "solution('string', 3)"
   ]
  },
  {
   "cell_type": "code",
   "execution_count": 4,
   "id": "50e43e97-3361-466c-8684-12c3df5639ff",
   "metadata": {},
   "outputs": [
    {
     "data": {
      "text/plain": [
       "'lovelovelovelovelovelovelovelovelovelove'"
      ]
     },
     "execution_count": 4,
     "metadata": {},
     "output_type": "execute_result"
    }
   ],
   "source": [
    "solution('love', 10)"
   ]
  },
  {
   "cell_type": "code",
   "execution_count": null,
   "id": "5715e5e1-2a2f-4280-83f3-df56aebca4d4",
   "metadata": {},
   "outputs": [],
   "source": []
  }
 ],
 "metadata": {
  "kernelspec": {
   "display_name": "Python 3 (ipykernel)",
   "language": "python",
   "name": "python3"
  },
  "language_info": {
   "codemirror_mode": {
    "name": "ipython",
    "version": 3
   },
   "file_extension": ".py",
   "mimetype": "text/x-python",
   "name": "python",
   "nbconvert_exporter": "python",
   "pygments_lexer": "ipython3",
   "version": "3.10.6"
  }
 },
 "nbformat": 4,
 "nbformat_minor": 5
}

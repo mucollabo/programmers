{
 "cells": [
  {
   "cell_type": "markdown",
   "id": "971c3224-0847-4771-9553-1f6b7d657cdb",
   "metadata": {},
   "source": [
    "## 정수 부분\n",
    "### 문제 설명\n",
    "#### 실수 flo가 매개 변수로 주어질 때, flo의 정수 부분을 return하도록 solution 함수를 완성해주세요.\n",
    "\n",
    "### 제한사항\n",
    "* 0 ≤ flo ≤ 100\n",
    "### 입출력 예\n",
    "|flo|result|\n",
    "|-----|------|\n",
    "|1.42|1|\n",
    "|69.32|69|\n",
    "\n",
    "### 입출력 예 설명\n",
    "#### 입출력 예 #1\n",
    "\n",
    "* 1.42의 정수 부분은 1입니다.\n",
    "#### 입출력 예 #2\n",
    "\n",
    "* 69.32의 정수 부분은 69입니다."
   ]
  },
  {
   "cell_type": "code",
   "execution_count": 3,
   "id": "4e3d7cff-01b2-4758-82cb-64d137467592",
   "metadata": {},
   "outputs": [],
   "source": [
    "def solution(flo):\n",
    "    import math\n",
    "    return math.floor(flo)"
   ]
  },
  {
   "cell_type": "code",
   "execution_count": 4,
   "id": "9d6cb6bd-6df1-41a0-b493-cfc9d8db3678",
   "metadata": {},
   "outputs": [
    {
     "data": {
      "text/plain": [
       "1"
      ]
     },
     "execution_count": 4,
     "metadata": {},
     "output_type": "execute_result"
    }
   ],
   "source": [
    "solution(1.42)"
   ]
  },
  {
   "cell_type": "code",
   "execution_count": 5,
   "id": "2663365c-ccf1-4eb0-a717-a114db787aa4",
   "metadata": {},
   "outputs": [
    {
     "data": {
      "text/plain": [
       "69"
      ]
     },
     "execution_count": 5,
     "metadata": {},
     "output_type": "execute_result"
    }
   ],
   "source": [
    "solution(69.32)"
   ]
  },
  {
   "cell_type": "code",
   "execution_count": 6,
   "id": "d1a6fc8b-72c2-41c0-8a9f-abe5648fc1af",
   "metadata": {},
   "outputs": [],
   "source": [
    "def solution2(flo):\n",
    "    return flo//1"
   ]
  },
  {
   "cell_type": "code",
   "execution_count": 7,
   "id": "cef6bcdb-432a-400a-94a7-ea60e6dbcf70",
   "metadata": {},
   "outputs": [
    {
     "data": {
      "text/plain": [
       "1.0"
      ]
     },
     "execution_count": 7,
     "metadata": {},
     "output_type": "execute_result"
    }
   ],
   "source": [
    "solution2(1.42)"
   ]
  },
  {
   "cell_type": "code",
   "execution_count": 11,
   "id": "160c1b43-65ae-4bb9-9ca3-62bbaa66ab97",
   "metadata": {},
   "outputs": [
    {
     "data": {
      "text/plain": [
       "69.0"
      ]
     },
     "execution_count": 11,
     "metadata": {},
     "output_type": "execute_result"
    }
   ],
   "source": [
    "solution2(69.32)"
   ]
  },
  {
   "cell_type": "code",
   "execution_count": 8,
   "id": "09532aec-6816-48d8-af1b-8eee15649b27",
   "metadata": {},
   "outputs": [],
   "source": [
    "def solution3(flo):\n",
    "    return int(flo)"
   ]
  },
  {
   "cell_type": "code",
   "execution_count": 9,
   "id": "71c4d628-b1fe-4514-a5bc-11110ce78fa8",
   "metadata": {},
   "outputs": [
    {
     "data": {
      "text/plain": [
       "1"
      ]
     },
     "execution_count": 9,
     "metadata": {},
     "output_type": "execute_result"
    }
   ],
   "source": [
    "solution3(1.42)"
   ]
  },
  {
   "cell_type": "code",
   "execution_count": 10,
   "id": "f3bbfd36-3f0c-46ce-9617-55e8150036ac",
   "metadata": {},
   "outputs": [
    {
     "data": {
      "text/plain": [
       "69"
      ]
     },
     "execution_count": 10,
     "metadata": {},
     "output_type": "execute_result"
    }
   ],
   "source": [
    "solution3(69.32)"
   ]
  },
  {
   "cell_type": "code",
   "execution_count": null,
   "id": "9c3ff63d-0e19-4f36-a36d-4a4e76953433",
   "metadata": {},
   "outputs": [],
   "source": []
  }
 ],
 "metadata": {
  "kernelspec": {
   "display_name": "Python 3 (ipykernel)",
   "language": "python",
   "name": "python3"
  },
  "language_info": {
   "codemirror_mode": {
    "name": "ipython",
    "version": 3
   },
   "file_extension": ".py",
   "mimetype": "text/x-python",
   "name": "python",
   "nbconvert_exporter": "python",
   "pygments_lexer": "ipython3",
   "version": "3.11.6"
  }
 },
 "nbformat": 4,
 "nbformat_minor": 5
}

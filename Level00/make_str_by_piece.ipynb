{
 "cells": [
  {
   "cell_type": "markdown",
   "id": "214dfa4a-0c72-44d1-ba7c-37dc5a69c175",
   "metadata": {},
   "source": [
    "### 문제 설명\n",
    "\n",
    "길이가 같은 문자열 배열 my_strings와 이차원 정수 배열 parts가 매개변수로 주어집니다. parts[i]는 [s, e] 형태로, my_string[i]의 인덱스 s부터 인덱스 e까지의 부분 문자열을 의미합니다. 각 my_strings의 원소의 parts에 해당하는 부분 문자열을 순서대로 이어 붙인 문자열을 return 하는 solution 함수를 작성해 주세요.\n",
    "### 제한사항\n",
    "* 1 ≤ my_strings의 길이 = parts의 길이 ≤ 100\n",
    "* 1 ≤ my_strings의 원소의 길이 ≤ 100\n",
    "* parts[i]를 [s, e]라 할 때, 다음을 만족합니다.\n",
    "  * 0 ≤ s ≤ e < my_strings[i]의 길이\n",
    "### 입출력 예\n",
    "|my_strings|parts|result|\n",
    "|----------|-----|------|\n",
    "|[\"progressive\", \"hamburger\", \"hammer\", \"ahocorasick\"]|[[0, 4], [1, 2], [3, 5], [7, 7]]|\"programmers\"|\n",
    "### 입출력 예 설명\n",
    "#### 입출력 예 #1\n",
    "* 예제 1번의 입력을 보기 좋게 표로 나타내면 다음과 같습니다.\n",
    "|i|my_strings[i]|parts[i]|부분 문자열|\n",
    "|-|-------------|--------|--------|\n",
    "|0|\"progressive\"|[0, 4]|\"progr\"|\n",
    "|1|\"hamburger\"|[1, 2]|\"am\"|\n",
    "|2|\"hammer\"|[3, 5]|\"mer\"|\n",
    "|3|\"ahocorasick\"|[7, 7]|\"s\"|\n",
    "\n",
    "##### 각 부분 문자열을 순서대로 이어 붙인 문자열은 \"programmers\"입니다. 따라서 \"programmers\"를 return 합니다."
   ]
  },
  {
   "cell_type": "code",
   "execution_count": 15,
   "id": "170ec615-ec5b-4235-bbe0-048989d6d25b",
   "metadata": {},
   "outputs": [],
   "source": [
    "def solution(my_strings, parts):\n",
    "    r = ''\n",
    "    for i in zip(my_strings, parts):\n",
    "        r += i[0][i[1][0]:i[1][1]+1]\n",
    "    return r"
   ]
  },
  {
   "cell_type": "code",
   "execution_count": 16,
   "id": "d1469bda-d4c4-462a-90a5-4d9efc8f9431",
   "metadata": {},
   "outputs": [
    {
     "data": {
      "text/plain": [
       "'programmers'"
      ]
     },
     "execution_count": 16,
     "metadata": {},
     "output_type": "execute_result"
    }
   ],
   "source": [
    "solution([\"progressive\", \"hamburger\", \"hammer\", \"ahocorasick\"], [[0, 4], [1, 2], [3, 5], [7, 7]])"
   ]
  }
 ],
 "metadata": {
  "kernelspec": {
   "display_name": "Python 3 (ipykernel)",
   "language": "python",
   "name": "python3"
  },
  "language_info": {
   "codemirror_mode": {
    "name": "ipython",
    "version": 3
   },
   "file_extension": ".py",
   "mimetype": "text/x-python",
   "name": "python",
   "nbconvert_exporter": "python",
   "pygments_lexer": "ipython3",
   "version": "3.11.6"
  }
 },
 "nbformat": 4,
 "nbformat_minor": 5
}

{
 "cells": [
  {
   "cell_type": "markdown",
   "id": "fadda1e3-d4a0-4659-afe3-74b11756b1e8",
   "metadata": {},
   "source": [
    "## 글자 이어 붙여 문자열 만들기\n",
    "### 문제 설명\n",
    "#### 문자열 my_string과 정수 배열 index_list가 매개변수로 주어집니다. my_string의 index_list의 원소들에 해당하는 인덱스의 글자들을 순서대로 이어 붙인 문자열을 return 하는 solution 함수를 작성해 주세요.\n",
    "\n",
    "### 제한사항\n",
    "* 1 ≤ my_string의 길이 ≤ 1,000\n",
    "* my_string의 원소는 영소문자로 이루어져 있습니다.\n",
    "* 1 ≤ index_list의 길이 ≤ 1,000\n",
    "* 0 ≤ index_list의 원소 < my_string의 길이\n",
    "### 입출력 예\n",
    "|my_string|index_list|result|\n",
    "|---------|----------|-------|\n",
    "|\"cvsgiorszzzmrpaqpe\"|[16, 6, 5, 3, 12, 14, 11, 11, 17, 12, 7]|\"programmers\"|\n",
    "|\"zpiaz\"|[1, 2, 0, 0, 3]|\"pizza\"|\n",
    "### 입출력 예 설명\n",
    "#### 입출력 예 #1\n",
    "\n",
    "* 예제 1번의 my_string에서 인덱스 3, 5, 6, 11, 12, 14, 16, 17에 해당하는 글자는 각각 g, o, r, m, r, a, p, e이므로 my_string에서 index_list에 들어있는 원소에 해당하는 인덱스의 글자들은 각각 순서대로 p, r, o, g, r, a, m, m, e, r, s입니다. 따라서 \"programmers\"를 return 합니다.\n",
    "#### 입출력 예 #2\n",
    "\n",
    "* 예제 2번의 my_string에서 인덱스 0, 1, 2, 3에 해당하는 글자는 각각 z, p, i, a이므로 my_string에서 index_list에 들어있는 원소에 해당하는 인덱스의 글자들은 각각 순서대로 p, i, z, z, a입니다. 따라서 \"pizza\"를 return 합니다."
   ]
  },
  {
   "cell_type": "code",
   "execution_count": 12,
   "id": "102406c2-be54-4c7f-8961-17fa86cd3d29",
   "metadata": {},
   "outputs": [],
   "source": [
    "def solution(my_string, index_list):\n",
    "    return ''.join(my_string[i] for i in index_list)"
   ]
  },
  {
   "cell_type": "code",
   "execution_count": 13,
   "id": "cf1a04ad-64b1-4c58-9741-0b9062c3a456",
   "metadata": {},
   "outputs": [
    {
     "data": {
      "text/plain": [
       "'programmers'"
      ]
     },
     "execution_count": 13,
     "metadata": {},
     "output_type": "execute_result"
    }
   ],
   "source": [
    "solution(\"cvsgiorszzzmrpaqpe\", [16, 6, 5, 3, 12, 14, 11, 11, 17, 12, 7])"
   ]
  },
  {
   "cell_type": "code",
   "execution_count": 14,
   "id": "cf1c18d2-a4e7-4a38-9b4d-67e36561f335",
   "metadata": {},
   "outputs": [
    {
     "data": {
      "text/plain": [
       "'pizza'"
      ]
     },
     "execution_count": 14,
     "metadata": {},
     "output_type": "execute_result"
    }
   ],
   "source": [
    "solution(\"zpiaz\", [1, 2, 0, 0, 3])"
   ]
  },
  {
   "cell_type": "code",
   "execution_count": null,
   "id": "1456d4e9-e65d-4946-9220-edd9f5b1814b",
   "metadata": {},
   "outputs": [],
   "source": []
  }
 ],
 "metadata": {
  "kernelspec": {
   "display_name": "Python 3 (ipykernel)",
   "language": "python",
   "name": "python3"
  },
  "language_info": {
   "codemirror_mode": {
    "name": "ipython",
    "version": 3
   },
   "file_extension": ".py",
   "mimetype": "text/x-python",
   "name": "python",
   "nbconvert_exporter": "python",
   "pygments_lexer": "ipython3",
   "version": "3.11.6"
  }
 },
 "nbformat": 4,
 "nbformat_minor": 5
}

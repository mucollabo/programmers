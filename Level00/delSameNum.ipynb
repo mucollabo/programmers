{
  "nbformat": 4,
  "nbformat_minor": 0,
  "metadata": {
    "colab": {
      "name": "delSameNum.ipynb",
      "provenance": [],
      "authorship_tag": "ABX9TyMqw5vgwtgTqmdR7nz/mpgB",
      "include_colab_link": true
    },
    "kernelspec": {
      "name": "python3",
      "display_name": "Python 3"
    },
    "language_info": {
      "name": "python"
    }
  },
  "cells": [
    {
      "cell_type": "markdown",
      "metadata": {
        "id": "view-in-github",
        "colab_type": "text"
      },
      "source": [
        "<a href=\"https://colab.research.google.com/github/mucollabo/programmers/blob/main/delSameNum.ipynb\" target=\"_parent\"><img src=\"https://colab.research.google.com/assets/colab-badge.svg\" alt=\"Open In Colab\"/></a>"
      ]
    },
    {
      "cell_type": "markdown",
      "source": [
        "같은 숫자는 싫어\n",
        "---\n",
        "**문제 설명**\n",
        "\n",
        "배열 arr가 주어집니다. 배열 arr의 각 원소는 숫자 0부터 9까지로 이루어져 있습니다. 이때, 배열 arr에서 연속적으로 나타나는 숫자는 하나만 남기고 전부 제거하려고 합니다. 단, 제거된 후 남은 수들을 반환할 때는 배열 arr의 원소들의 순서를 유지해야 합니다. 예를 들면,\n",
        "\n",
        "* arr = [1, 1, 3, 3, 0, 1, 1] 이면 [1, 3, 0, 1] 을 return 합니다.\n",
        "* arr = [4, 4, 4, 3, 3] 이면 [4, 3] 을 return 합니다.\n",
        "배열 arr에서 연속적으로 나타나는 숫자는 제거하고 남은 수들을 return 하는 solution 함수를 완성해 주세요.\n",
        "\n",
        "**제한사항**\n",
        "\n",
        "* 배열 arr의 크기 : 1,000,000 이하의 자연수\n",
        "* 배열 arr의 원소의 크기 : 0보다 크거나 같고 9보다 작거나 같은 정수\n",
        "\n",
        "**입출력 예**\n",
        "\n",
        "> arr&emsp; &emsp; &emsp; &emsp; &emsp;answer <br />\n",
        "> [1,1,3,3,0,1,1] &emsp; [1,3,0,1] <br />\n",
        "> [4,4,4,3,3] &emsp; &emsp; &nbsp;[4,3] <br />\n",
        "\n",
        "**입출력 예 설명** <br />\n",
        "입출력 예 #1,2 <br />\n",
        "문제의 예시와 같습니다."
      ],
      "metadata": {
        "id": "DNIIX_ukas_n"
      }
    },
    {
      "cell_type": "code",
      "execution_count": 79,
      "metadata": {
        "id": "d3Hnl9P9Md3F"
      },
      "outputs": [],
      "source": [
        "def solution(arr):\n",
        "  answer = [arr[i] for i in range(len(arr)-1) if arr[i] != arr[i+1]]\n",
        "  answer.append(arr[-1])\n",
        "\n",
        "  return answer"
      ]
    },
    {
      "cell_type": "code",
      "source": [
        "arr = [1,1,3,3,0,1,1]"
      ],
      "metadata": {
        "id": "cMj0wcl1NB7h"
      },
      "execution_count": 80,
      "outputs": []
    },
    {
      "cell_type": "code",
      "source": [
        "solution(arr)"
      ],
      "metadata": {
        "colab": {
          "base_uri": "https://localhost:8080/"
        },
        "id": "jV2fuwXaNFx1",
        "outputId": "7462be26-605b-498d-f600-b5a73d0c684b"
      },
      "execution_count": 81,
      "outputs": [
        {
          "output_type": "execute_result",
          "data": {
            "text/plain": [
              "[1, 3, 0, 1]"
            ]
          },
          "metadata": {},
          "execution_count": 81
        }
      ]
    },
    {
      "cell_type": "code",
      "source": [
        "arr2 = [4,4,4,3,3]"
      ],
      "metadata": {
        "id": "e6WESDOzNHjY"
      },
      "execution_count": 82,
      "outputs": []
    },
    {
      "cell_type": "code",
      "source": [
        "solution(arr2)"
      ],
      "metadata": {
        "colab": {
          "base_uri": "https://localhost:8080/"
        },
        "id": "eTivyNeMW_Uz",
        "outputId": "2d30ce8c-5540-4749-ac45-7a3fba512d54"
      },
      "execution_count": 83,
      "outputs": [
        {
          "output_type": "execute_result",
          "data": {
            "text/plain": [
              "[4, 3]"
            ]
          },
          "metadata": {},
          "execution_count": 83
        }
      ]
    },
    {
      "cell_type": "code",
      "source": [
        ""
      ],
      "metadata": {
        "id": "H3CCwJqzXAwo"
      },
      "execution_count": null,
      "outputs": []
    }
  ]
}
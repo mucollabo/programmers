{
 "cells": [
  {
   "cell_type": "markdown",
   "id": "9df520c8-96a7-49b1-95d7-e126b2ed52ce",
   "metadata": {},
   "source": [
    "# 중복된 문자 제거\n",
    "## 문제 설명\n",
    "### 문자열 my_string이 매개변수로 주어집니다. my_string에서 중복된 문자를 제거하고 하나의 문자만 남긴 문자열을 return하도록 solution 함수를 완성해주세요.\n",
    "\n",
    "## 제한사항\n",
    "* 1 ≤ my_string ≤ 110\n",
    "* my_string은 대문자, 소문자, 공백으로 구성되어 있습니다.\n",
    "* 대문자와 소문자를 구분합니다.\n",
    "* 공백(\" \")도 하나의 문자로 구분합니다.\n",
    "* 중복된 문자 중 가장 앞에 있는 문자를 남깁니다.\n",
    "## 입출력 예\n",
    "|my_string|result|\n",
    "|---------|------|\n",
    "|\"people\"|\"peol\"|\n",
    "|\"We are the world\"|\"We arthwold\"|\n",
    "## 입출력 예 설명\n",
    "## 입출력 예 #1\n",
    "\n",
    "* \"people\"에서 중복된 문자 \"p\"와 \"e\"을 제거한 \"peol\"을 return합니다.\n",
    "## 입출력 예 #2\n",
    "\n",
    "* \"We are the world\"에서 중복된 문자 \"e\", \" \", \"r\" 들을 제거한 \"We arthwold\"을 return합니다."
   ]
  },
  {
   "cell_type": "code",
   "execution_count": 23,
   "id": "7399f633-7c45-4005-ab92-b776caa1cc50",
   "metadata": {},
   "outputs": [],
   "source": [
    "def solution(my_string):\n",
    "    return ''.join(list(dict.fromkeys(my_string)))"
   ]
  },
  {
   "cell_type": "code",
   "execution_count": 24,
   "id": "a13bcb0a-eb46-4adf-bbfc-f68fac111875",
   "metadata": {},
   "outputs": [
    {
     "data": {
      "text/plain": [
       "'peol'"
      ]
     },
     "execution_count": 24,
     "metadata": {},
     "output_type": "execute_result"
    }
   ],
   "source": [
    "solution(\"people\")"
   ]
  },
  {
   "cell_type": "code",
   "execution_count": 26,
   "id": "f0b51d4b-693e-4e6d-8972-18162f9dd895",
   "metadata": {},
   "outputs": [
    {
     "data": {
      "text/plain": [
       "'We arthwold'"
      ]
     },
     "execution_count": 26,
     "metadata": {},
     "output_type": "execute_result"
    }
   ],
   "source": [
    "solution(\"We are the world\")"
   ]
  },
  {
   "cell_type": "code",
   "execution_count": 29,
   "id": "e36ba949-ea97-4c55-9bd9-b529195e223b",
   "metadata": {},
   "outputs": [],
   "source": [
    "def solution2(my_string):\n",
    "    return ''.join(sorted(set(my_string), key = lambda x: my_string.index(x)))"
   ]
  },
  {
   "cell_type": "code",
   "execution_count": 30,
   "id": "aee8da3f-2de3-4708-95a6-63bbaf5d43a8",
   "metadata": {},
   "outputs": [
    {
     "data": {
      "text/plain": [
       "'peol'"
      ]
     },
     "execution_count": 30,
     "metadata": {},
     "output_type": "execute_result"
    }
   ],
   "source": [
    "solution2('people')"
   ]
  },
  {
   "cell_type": "code",
   "execution_count": 31,
   "id": "30349c92-d1e3-49a2-a705-70a419ed6053",
   "metadata": {},
   "outputs": [
    {
     "data": {
      "text/plain": [
       "'We arthwold'"
      ]
     },
     "execution_count": 31,
     "metadata": {},
     "output_type": "execute_result"
    }
   ],
   "source": [
    "solution('We are the world')"
   ]
  },
  {
   "cell_type": "code",
   "execution_count": null,
   "id": "98b8ba10-e481-4b5c-b0cd-c0d330d3c56d",
   "metadata": {},
   "outputs": [],
   "source": []
  }
 ],
 "metadata": {
  "kernelspec": {
   "display_name": "Python 3 (ipykernel)",
   "language": "python",
   "name": "python3"
  },
  "language_info": {
   "codemirror_mode": {
    "name": "ipython",
    "version": 3
   },
   "file_extension": ".py",
   "mimetype": "text/x-python",
   "name": "python",
   "nbconvert_exporter": "python",
   "pygments_lexer": "ipython3",
   "version": "3.10.6"
  }
 },
 "nbformat": 4,
 "nbformat_minor": 5
}

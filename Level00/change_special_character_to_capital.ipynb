{
 "cells": [
  {
   "cell_type": "markdown",
   "id": "1ed95b81-640d-4410-b7f8-baf7d61b9e7d",
   "metadata": {},
   "source": [
    "### 문제 설명\n",
    "\n",
    "영소문자로 이루어진 문자열 my_string과 영소문자 1글자로 이루어진 문자열 alp가 매개변수로 주어질 때, my_string에서 alp에 해당하는 모든 글자를 대문자로 바꾼 문자열을 return 하는 solution 함수를 작성해 주세요.\n",
    "### 제한사항\n",
    "* 1 ≤ my_string의 길이 ≤ 1,000\n",
    "### 입출력 예\n",
    "|my_string|alp|result|\n",
    "|---------|---|------|\n",
    "|\"programmers\"|\"p\"|\"Programmers\"|\n",
    "|\"lowercase\"|\"x\"|\"lowercase\"|\n",
    "\n",
    "### 입출력 예 설명\n",
    "#### 입출력 예 #1\n",
    "* 예제 1번의 my_string은 \"programmers\"이고 alp가 \"p\"이므로 my_string에 모든 p를 대문자인 P로 바꾼 문자열 \"Programmers\"를 return 합니다.\n",
    "#### 입출력 예 #2\n",
    "* 예제 2번의 alp는 \"x\"이고 my_string에 x는 없습니다. 따라서 \"lowercase\"를 return 합니다."
   ]
  },
  {
   "cell_type": "code",
   "execution_count": 30,
   "id": "2b73b074-a785-4ff1-b8a4-0637bdb76645",
   "metadata": {},
   "outputs": [],
   "source": [
    "def solution(my_string, alp):\n",
    "    return ''.join(s.upper() if s == alp else s for s in my_string)"
   ]
  },
  {
   "cell_type": "code",
   "execution_count": 31,
   "id": "a9577c1c-0b23-4ae6-abdc-8365c4e3134c",
   "metadata": {},
   "outputs": [
    {
     "data": {
      "text/plain": [
       "'Programmers'"
      ]
     },
     "execution_count": 31,
     "metadata": {},
     "output_type": "execute_result"
    }
   ],
   "source": [
    "solution('programmers', 'p')"
   ]
  },
  {
   "cell_type": "code",
   "execution_count": 32,
   "id": "53ba1984-8f7f-4367-b26f-4777259c7db7",
   "metadata": {},
   "outputs": [
    {
     "data": {
      "text/plain": [
       "'lowercase'"
      ]
     },
     "execution_count": 32,
     "metadata": {},
     "output_type": "execute_result"
    }
   ],
   "source": [
    "solution(\"lowercase\", \"x\")"
   ]
  },
  {
   "cell_type": "code",
   "execution_count": null,
   "id": "ca8f3890-f5f9-4e47-823b-2bfe22361a80",
   "metadata": {},
   "outputs": [],
   "source": []
  }
 ],
 "metadata": {
  "kernelspec": {
   "display_name": "Python 3 (ipykernel)",
   "language": "python",
   "name": "python3"
  },
  "language_info": {
   "codemirror_mode": {
    "name": "ipython",
    "version": 3
   },
   "file_extension": ".py",
   "mimetype": "text/x-python",
   "name": "python",
   "nbconvert_exporter": "python",
   "pygments_lexer": "ipython3",
   "version": "3.11.6"
  }
 },
 "nbformat": 4,
 "nbformat_minor": 5
}

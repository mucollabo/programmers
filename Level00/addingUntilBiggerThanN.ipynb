{
 "cells": [
  {
   "cell_type": "markdown",
   "id": "b66ccd4f-27cb-4c68-a517-26c17ae15c85",
   "metadata": {},
   "source": [
    "## n보다 커질 때까지 더하기\n",
    "### 문제 설명\n",
    "#### 정수 배열 numbers와 정수 n이 매개변수로 주어집니다. numbers의 원소를 앞에서부터 하나씩 더하다가 그 합이 n보다 커지는 순간 이때까지 더했던 원소들의 합을 return 하는 solution 함수를 작성해 주세요.\n",
    "\n",
    "### 제한사항\n",
    "* 1 ≤ numbers의 길이 ≤ 100\n",
    "* 1 ≤ numbers의 원소 ≤ 100\n",
    "* 0 ≤ n < numbers의 모든 원소의 합\n",
    "### 입출력 예\n",
    "|numbers|n|result|\n",
    "|-------|---|-----|\n",
    "|[34, 5, 71, 29, 100, 34]|123|139|\n",
    "|[58, 44, 27, 10, 100]|139|239|\n",
    "\n",
    "### 입출력 예 설명\n",
    "#### 입출력 예 #1\n",
    "\n",
    "* 예제 1번의 numbers를 문제 설명대로 더해가는 과정을 나타내면 다음의 표와 같습니다.\n",
    "\n",
    "|i|numbers[i]|sum|\n",
    "|--|----------|---|\n",
    "| | |0|\n",
    "|0|34|34|\n",
    "|1|5|39|\n",
    "|2|71|110|\n",
    "|3|29|139|\n",
    "\n",
    "   29를 더한 뒤에 sum 값은 139이고 n 값인 123보다 크므로 139를 return 합니다.\n",
    "\n",
    "* 예제 2번의 numbers의 마지막 원소 전까지의 원소를 sum에 더하면 139입니다. 139는 n 값인 139보다 크지 않고 마지막 원소인 100을 더하면 139보다 커지므로 239를 return 합니다."
   ]
  },
  {
   "cell_type": "code",
   "execution_count": 21,
   "id": "41aa526b-1d77-4bfe-b31d-91d8399d6e6c",
   "metadata": {},
   "outputs": [],
   "source": [
    "def solution(numbers, n):\n",
    "    answer = 0\n",
    "    for i in numbers:\n",
    "        answer += i\n",
    "        if answer > n:\n",
    "            return answer\n",
    "            "
   ]
  },
  {
   "cell_type": "code",
   "execution_count": 22,
   "id": "fc85744b-7a79-49bf-b5ab-acad0f072de0",
   "metadata": {},
   "outputs": [
    {
     "data": {
      "text/plain": [
       "139"
      ]
     },
     "execution_count": 22,
     "metadata": {},
     "output_type": "execute_result"
    }
   ],
   "source": [
    "solution([34, 5, 71, 29, 100, 34], 123)"
   ]
  },
  {
   "cell_type": "code",
   "execution_count": 23,
   "id": "f75f6308-8fba-47c7-81a8-b29ea02d7852",
   "metadata": {},
   "outputs": [
    {
     "data": {
      "text/plain": [
       "239"
      ]
     },
     "execution_count": 23,
     "metadata": {},
     "output_type": "execute_result"
    }
   ],
   "source": [
    "solution([58, 44, 27, 10, 100],\t139)"
   ]
  },
  {
   "cell_type": "code",
   "execution_count": null,
   "id": "d91d180d-7037-4e88-b838-3ca57e85654c",
   "metadata": {},
   "outputs": [],
   "source": []
  }
 ],
 "metadata": {
  "kernelspec": {
   "display_name": "Python 3 (ipykernel)",
   "language": "python",
   "name": "python3"
  },
  "language_info": {
   "codemirror_mode": {
    "name": "ipython",
    "version": 3
   },
   "file_extension": ".py",
   "mimetype": "text/x-python",
   "name": "python",
   "nbconvert_exporter": "python",
   "pygments_lexer": "ipython3",
   "version": "3.11.6"
  }
 },
 "nbformat": 4,
 "nbformat_minor": 5
}

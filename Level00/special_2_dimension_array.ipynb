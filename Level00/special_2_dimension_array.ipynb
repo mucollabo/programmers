{
 "cells": [
  {
   "cell_type": "markdown",
   "id": "37379aa2-bf63-463b-a80f-1a7721076f39",
   "metadata": {},
   "source": [
    "### 문제 설명\n",
    "정수 n이 매개변수로 주어질 때, 다음과 같은 n × n 크기의 이차원 배열 arr를 return 하는 solution 함수를 작성해 주세요.\n",
    "\n",
    "* arr[i][j] (0 ≤ i, j < n)의 값은 i = j라면 1, 아니라면 0입니다.\n",
    "### 제한사항\n",
    "* 1 ≤ n ≤ 100\n",
    "### 입출력 예\n",
    "|n|result|\n",
    "|-|------|\n",
    "|3|[[1, 0, 0], [0, 1, 0], [0, 0, 1]]|\n",
    "|6|[[1, 0, 0, 0, 0, 0], [0, 1, 0, 0, 0, 0], [0, 0, 1, 0, 0, 0], [0, 0, 0, 1, 0, 0], [0, 0, 0, 0, 1, 0], [0, 0, 0, 0, 0, 1]]|\n",
    "|1|[[1]]|\n",
    "### 입출력 예 설명\n",
    "#### 입출력 예 #1\n",
    "\n",
    "* 예제 1번의 n의 값은 3으로 다음과 같이 2차원 배열을 채울 수 있습니다.\n",
    "|i \\ j|0|1|2|\n",
    "|---|---|---|---|\n",
    "|0|1|0|0|\n",
    "|1|0|1|0|\n",
    "|2|0|0|1|\n",
    "\n",
    "* 따라서 [[1, 0, 0], [0, 1, 0], [0, 0, 1]]을 return 합니다.\n",
    "#### 입출력 예 #2\n",
    "\n",
    "* 예제 2번의 n의 값은 6으로 다음과 같이 2차원 배열을 채울 수 있습니다.\n",
    "|i \\ j|0|1|2|3|4|5|\n",
    "|---|---|---|---|---|---|---|\n",
    "|0|1|0|0|0|0|0|\n",
    "|1|0|1|0|0|0|0|\n",
    "|2|0|0|1|0|0|0|\n",
    "|3|0|0|0|1|0|0|\n",
    "|4|0|0|0|0|1|0|\n",
    "|5|0|0|0|0|0|1|\n",
    "\n",
    "* 따라서 [[1, 0, 0, 0, 0, 0], [0, 1, 0, 0, 0, 0], [0, 0, 1, 0, 0, 0], [0, 0, 0, 1, 0, 0], [0, 0, 0, 0, 1, 0], [0, 0, 0, 0, 0, 1]]을 return 합니다.\n",
    "#### 입출력 예 #3\n",
    "\n",
    "* 예제 1번의 n의 값은 1이고 다음과 같이 2차원 배열을 채울 수 있습니다.\n",
    "|i \\ j|0|\n",
    "|---|---|\n",
    "|0|1|\n",
    "\n",
    "* 따라서 [[1]]을 return 합니다."
   ]
  },
  {
   "cell_type": "code",
   "execution_count": 19,
   "id": "3b7e5c6b-2209-4f22-8117-915f81d0560a",
   "metadata": {},
   "outputs": [],
   "source": [
    "def solution(n):\n",
    "    return [[1 if i == j else 0 for j in range(n)] for i in range(n)]"
   ]
  },
  {
   "cell_type": "code",
   "execution_count": 20,
   "id": "8b20fd87-dd53-4e64-81d3-a43b733763eb",
   "metadata": {},
   "outputs": [
    {
     "data": {
      "text/plain": [
       "[[1, 0, 0], [0, 1, 0], [0, 0, 1]]"
      ]
     },
     "execution_count": 20,
     "metadata": {},
     "output_type": "execute_result"
    }
   ],
   "source": [
    "solution(3)"
   ]
  },
  {
   "cell_type": "code",
   "execution_count": 21,
   "id": "b9a622a1-b0a3-48ef-b97c-de9cd3d50e15",
   "metadata": {},
   "outputs": [
    {
     "data": {
      "text/plain": [
       "[[1, 0, 0, 0, 0, 0],\n",
       " [0, 1, 0, 0, 0, 0],\n",
       " [0, 0, 1, 0, 0, 0],\n",
       " [0, 0, 0, 1, 0, 0],\n",
       " [0, 0, 0, 0, 1, 0],\n",
       " [0, 0, 0, 0, 0, 1]]"
      ]
     },
     "execution_count": 21,
     "metadata": {},
     "output_type": "execute_result"
    }
   ],
   "source": [
    "solution(6)"
   ]
  },
  {
   "cell_type": "code",
   "execution_count": 22,
   "id": "e85c1acf-a372-4a4d-a1d3-0acbe4fa33d9",
   "metadata": {},
   "outputs": [
    {
     "data": {
      "text/plain": [
       "[[1]]"
      ]
     },
     "execution_count": 22,
     "metadata": {},
     "output_type": "execute_result"
    }
   ],
   "source": [
    "solution(1)"
   ]
  },
  {
   "cell_type": "code",
   "execution_count": null,
   "id": "0bd29f6c-9717-4805-948f-bbbe24eeb6c9",
   "metadata": {},
   "outputs": [],
   "source": []
  }
 ],
 "metadata": {
  "kernelspec": {
   "display_name": "Python 3 (ipykernel)",
   "language": "python",
   "name": "python3"
  },
  "language_info": {
   "codemirror_mode": {
    "name": "ipython",
    "version": 3
   },
   "file_extension": ".py",
   "mimetype": "text/x-python",
   "name": "python",
   "nbconvert_exporter": "python",
   "pygments_lexer": "ipython3",
   "version": "3.11.6"
  }
 },
 "nbformat": 4,
 "nbformat_minor": 5
}

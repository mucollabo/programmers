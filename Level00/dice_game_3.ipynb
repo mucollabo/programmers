{
 "cells": [
  {
   "cell_type": "markdown",
   "metadata": {},
   "source": [
    "### 문제 설명\n",
    "1부터 6까지 숫자가 적힌 주사위가 네 개 있습니다. 네 주사위를 굴렸을 때 나온 숫자에 따라 다음과 같은 점수를 얻습니다.\n",
    "\n",
    "* 네 주사위에서 나온 숫자가 모두 p로 같다면 1111 × p점을 얻습니다.\n",
    "* 세 주사위에서 나온 숫자가 p로 같고 나머지 다른 주사위에서 나온 숫자가 q(p ≠ q)라면 (10 × p + q) <sup>2 </sup> 점을 얻습니다.\n",
    "* 주사위가 두 개씩 같은 값이 나오고, 나온 숫자를 각각 p, q(p ≠ q)라고 한다면 (p + q) × |p - q|점을 얻습니다.\n",
    "* 어느 두 주사위에서 나온 숫자가 p로 같고 나머지 두 주사위에서 나온 숫자가 각각 p와 다른 q, r(q ≠ r)이라면 q × r점을 얻습니다.\n",
    "* 네 주사위에 적힌 숫자가 모두 다르다면 나온 숫자 중 가장 작은 숫자 만큼의 점수를 얻습니다.\n",
    "\n",
    "네 주사위를 굴렸을 때 나온 숫자가 정수 매개변수 a, b, c, d로 주어질 때, 얻는 점수를 return 하는 solution 함수를 작성해 주세요.\n",
    "\n",
    "### 제한사항\n",
    "* a, b, c, d는 1 이상 6 이하의 정수입니다.\n",
    "\n",
    "### 입출력 예\n",
    "\n",
    "|a|b|c|d|result|\n",
    "|-|-|-|-|------|\n",
    "|2|2|2|2|2222|\n",
    "|4|1|4|4|1681|\n",
    "|6|3|3|6|27|\n",
    "|2|5|2|6|30|\n",
    "|6|4|2|5|2|\n",
    "\n",
    "### 입출력 예 설명\n",
    "#### 입출력 예 #1\n",
    "\n",
    "* 예제 1번에서 네 주사위 숫자가 모두 2로 같으므로 1111 × 2 = 2222점을 얻습니다. 따라서 2222를 return 합니다.\n",
    "\n",
    "#### 입출력 예 #2\n",
    "\n",
    "* 예제 2번에서 세 주사위에서 나온 숫자가 4로 같고 나머지 다른 주사위에서 나온 숫자가 1이므로 (10 × 4 + 1)<sup>2</sup> = 412 = 1681점을 얻습니다. 따라서 1681을 return 합니다.\n",
    "\n",
    "#### 입출력 예 #3\n",
    "\n",
    "* 예제 3번에서 a, d는 6으로, b, c는 3으로 각각 같으므로 (6 + 3) × |6 - 3| = 9 × 3 = 27점을 얻습니다. 따라서 27을 return 합니다.\n",
    "\n",
    "#### 입출력 예 #4\n",
    "\n",
    "* 예제 4번에서 두 주사위에서 2가 나오고 나머지 다른 두 주사위에서 각각 5, 6이 나왔으므로 5 × 6 = 30점을 얻습니다. 따라서 30을 return 합니다.\n",
    "\n",
    "#### 입출력 예 #5\n",
    "\n",
    "* 예제 5번에서 네 주사위 숫자가 모두 다르고 나온 숫자 중 가장 작은 숫자가 2이므로 2점을 얻습니다. 따라서 2를 return 합니다."
   ]
  },
  {
   "cell_type": "code",
   "execution_count": 53,
   "metadata": {},
   "outputs": [],
   "source": [
    "def solution(a, b, c, d):\n",
    "    l = len(set((a, b, c, d))) \n",
    "    if l == 1:\n",
    "        return a * 1111\n",
    "    elif l == 2:\n",
    "        s = sorted([a, b, c, d])\n",
    "        if s[0] != s[1]:\n",
    "            return (10 * s[1] + s[0])**2\n",
    "        elif s[2] != s[3]:\n",
    "            return (10 * s[2] + s[3])**2\n",
    "        else:\n",
    "            return (s[0] + s[3]) * abs(s[0] - s[3])\n",
    "    elif l == 3:\n",
    "        frequency = {}\n",
    "        for item in [a, b, c, d]:\n",
    "            if item in frequency:\n",
    "                frequency[item] += 1\n",
    "            else:\n",
    "                frequency[item] = 1\n",
    "        u = [item for item, count in frequency.items() if count == 1]\n",
    "        return u[0] * u[1]\n",
    "    else:\n",
    "        return min(a, b, c, d)\n",
    "\n",
    "# 반례를 찾기 위한 예상값을 계산하는 함수\n",
    "import random    \n",
    "def expected_solution(a, b, c, d):\n",
    "    counts = [a, b, c, d]\n",
    "    unique_counts = list(set(counts))\n",
    "    if len(unique_counts) == 1:\n",
    "        return a * 1111\n",
    "    elif len(unique_counts) == 2:\n",
    "        if counts.count(unique_counts[0]) == 3 or counts.count(unique_counts[1]) == 3:\n",
    "            p = unique_counts[0] if counts.count(unique_counts[0]) == 3 else unique_counts[1]\n",
    "            q = unique_counts[0] if counts.count(unique_counts[0]) == 1 else unique_counts[1]\n",
    "            return (10 * p + q) ** 2\n",
    "        else:\n",
    "            p, q = unique_counts\n",
    "            return (p + q) * abs(p - q)\n",
    "    elif len(unique_counts) == 3:\n",
    "        p = [x for x in unique_counts if counts.count(x) == 2][0]\n",
    "        q, r = [x for x in unique_counts if counts.count(x) == 1]\n",
    "        return q * r\n",
    "    else:\n",
    "        return min(a, b, c, d)\n",
    "\n",
    "# 테스트 케이스 생성 및 검증\n",
    "def generate_test_cases(n):\n",
    "    test_cases = []\n",
    "    for _ in range(n):\n",
    "        test_cases.append([random.randint(1, 6) for _ in range(4)])\n",
    "    return test_cases\n",
    "\n",
    "def validate_solution():\n",
    "    test_cases = generate_test_cases(50)\n",
    "    for case in test_cases:\n",
    "        a, b, c, d = case\n",
    "        result = solution(a, b, c, d)\n",
    "        expected = expected_solution(a, b, c, d)\n",
    "        if result != expected:\n",
    "            print(f\"Test case: {case}, Result: {result}, Expected: {expected}\")\n",
    "\n",
    "validate_solution()"
   ]
  },
  {
   "cell_type": "code",
   "execution_count": 54,
   "metadata": {},
   "outputs": [
    {
     "data": {
      "text/plain": [
       "2222"
      ]
     },
     "execution_count": 54,
     "metadata": {},
     "output_type": "execute_result"
    }
   ],
   "source": [
    "solution(2, 2, 2, 2)"
   ]
  },
  {
   "cell_type": "code",
   "execution_count": 55,
   "metadata": {},
   "outputs": [
    {
     "data": {
      "text/plain": [
       "1681"
      ]
     },
     "execution_count": 55,
     "metadata": {},
     "output_type": "execute_result"
    }
   ],
   "source": [
    "solution(4, 1, 4, 4)"
   ]
  },
  {
   "cell_type": "code",
   "execution_count": 56,
   "metadata": {},
   "outputs": [
    {
     "data": {
      "text/plain": [
       "27"
      ]
     },
     "execution_count": 56,
     "metadata": {},
     "output_type": "execute_result"
    }
   ],
   "source": [
    "solution(6, 3, 3, 6)"
   ]
  },
  {
   "cell_type": "code",
   "execution_count": 57,
   "metadata": {},
   "outputs": [
    {
     "data": {
      "text/plain": [
       "30"
      ]
     },
     "execution_count": 57,
     "metadata": {},
     "output_type": "execute_result"
    }
   ],
   "source": [
    "solution(2, 5, 2, 6)"
   ]
  },
  {
   "cell_type": "code",
   "execution_count": 58,
   "metadata": {},
   "outputs": [
    {
     "data": {
      "text/plain": [
       "2"
      ]
     },
     "execution_count": 58,
     "metadata": {},
     "output_type": "execute_result"
    }
   ],
   "source": [
    "solution(6, 4, 2, 5)"
   ]
  },
  {
   "cell_type": "code",
   "execution_count": 59,
   "metadata": {},
   "outputs": [
    {
     "data": {
      "text/plain": [
       "5"
      ]
     },
     "execution_count": 59,
     "metadata": {},
     "output_type": "execute_result"
    }
   ],
   "source": [
    "solution(2, 2, 3, 3)"
   ]
  },
  {
   "cell_type": "code",
   "execution_count": 60,
   "metadata": {},
   "outputs": [
    {
     "data": {
      "text/plain": [
       "3136"
      ]
     },
     "execution_count": 60,
     "metadata": {},
     "output_type": "execute_result"
    }
   ],
   "source": [
    "solution(5, 5, 5, 6)"
   ]
  },
  {
   "cell_type": "code",
   "execution_count": null,
   "metadata": {},
   "outputs": [],
   "source": []
  }
 ],
 "metadata": {
  "kernelspec": {
   "display_name": "Python 3",
   "language": "python",
   "name": "python3"
  },
  "language_info": {
   "codemirror_mode": {
    "name": "ipython",
    "version": 3
   },
   "file_extension": ".py",
   "mimetype": "text/x-python",
   "name": "python",
   "nbconvert_exporter": "python",
   "pygments_lexer": "ipython3",
   "version": "3.12.1"
  }
 },
 "nbformat": 4,
 "nbformat_minor": 2
}

{
 "cells": [
  {
   "cell_type": "markdown",
   "id": "9d225661-ffcf-4218-b7df-e0b9c9d2d1be",
   "metadata": {},
   "source": [
    "## 배열에서 문자열 대소문자 변환하기\n",
    "### 문제 설명\n",
    "#### 문자열 배열 strArr가 주어집니다. 모든 원소가 알파벳으로만 이루어져 있을 때, 배열에서 홀수번째 인덱스의 문자열은 모든 문자를 대문자로, 짝수번째 인덱스의 문자열은 모든 문자를 소문자로 바꿔서 반환하는 solution 함수를 완성해 주세요.\n",
    "\n",
    "### 제한사항\n",
    "* 1 ≤ strArr ≤ 20\n",
    "  * 1 ≤ strArr의 원소의 길이 ≤ 20\n",
    "  * strArr의 원소는 알파벳으로 이루어진 문자열 입니다.\n",
    "### 입출력 예\n",
    "|strArr|result|\n",
    "|------|------|\n",
    "|[\"AAA\",\"BBB\",\"CCC\",\"DDD\"]|[\"aaa\",\"BBB\",\"ccc\",\"DDD\"]|\n",
    "|[\"aBc\",\"AbC\"]|[\"abc\",\"ABC\"]|\n",
    "\n",
    "### 입출력 예 설명\n",
    "#### 입출력 예 #1\n",
    "\n",
    "* strArr[0]과 strArr[2]는 짝수번째 인덱스의 문자열이므로 모두 소문자로 바꿔서 \"aaa\"와 \"ccc\"가 됩니다.\n",
    "* strArr[1]과 strArr[3]는 홀수번째 인덱스의 문자열인데 원래 대문자이므로 그대로 둡니다.\n",
    "* 따라서 [\"aaa\",\"BBB\",\"ccc\",\"DDD\"]를 return 합니다.\n",
    "\n",
    "### 입출력 예 #2\n",
    "\n",
    "* strArr[0]은 짝수번째 인덱스의 문자열이므로 소문자로 바꿔서 \"abc\"가 됩니다.\n",
    "* strArr[1]은 홀수번째 인덱스의 문자열이므로 대문자로 바꿔서 \"ABC\"가 됩니다.\n",
    "* 따라서 [\"abc\",\"ABC\"]를 return 합니다.\n",
    "\n",
    "※ 2023년 05월 15일 제한사항이 수정되었습니다."
   ]
  },
  {
   "cell_type": "code",
   "execution_count": 9,
   "id": "1307f9fc-ddfe-4134-9cf6-b88926e8df2d",
   "metadata": {},
   "outputs": [],
   "source": [
    "def solution(strArr):\n",
    "    answer = []\n",
    "    for i, s in enumerate(strArr):\n",
    "        if (i % 2) == 0:\n",
    "            answer.append(s.lower())\n",
    "        else:\n",
    "            answer.append(s.upper())\n",
    "    return answer"
   ]
  },
  {
   "cell_type": "code",
   "execution_count": 10,
   "id": "a1841b81-61fb-43ad-9fa7-9e0cc15b7527",
   "metadata": {},
   "outputs": [
    {
     "data": {
      "text/plain": [
       "['aaa', 'BBB', 'ccc', 'DDD']"
      ]
     },
     "execution_count": 10,
     "metadata": {},
     "output_type": "execute_result"
    }
   ],
   "source": [
    "solution([\"AAA\",\"BBB\",\"CCC\",\"DDD\"])"
   ]
  },
  {
   "cell_type": "code",
   "execution_count": 11,
   "id": "cbdfaab0-4305-4281-8956-91ccf419b22a",
   "metadata": {},
   "outputs": [
    {
     "data": {
      "text/plain": [
       "['abc', 'ABC']"
      ]
     },
     "execution_count": 11,
     "metadata": {},
     "output_type": "execute_result"
    }
   ],
   "source": [
    "solution([\"aBc\",\"AbC\"])"
   ]
  },
  {
   "cell_type": "code",
   "execution_count": 21,
   "id": "4e2fefc0-ebb5-4e46-8933-41960b400649",
   "metadata": {},
   "outputs": [],
   "source": [
    "def solution2(strArr):\n",
    "    return [s.lower() if (i%2) == 0 else s.upper() for i, s in enumerate(strArr)]"
   ]
  },
  {
   "cell_type": "code",
   "execution_count": 22,
   "id": "b1271497-ad80-43f2-b238-8820a962f395",
   "metadata": {},
   "outputs": [
    {
     "data": {
      "text/plain": [
       "['aaa', 'BBB', 'ccc', 'DDD']"
      ]
     },
     "execution_count": 22,
     "metadata": {},
     "output_type": "execute_result"
    }
   ],
   "source": [
    "solution2([\"AAA\",\"BBB\",\"CCC\",\"DDD\"])"
   ]
  },
  {
   "cell_type": "code",
   "execution_count": 23,
   "id": "6d0d856d-b04a-4e04-8c5f-570891b4cf07",
   "metadata": {},
   "outputs": [
    {
     "data": {
      "text/plain": [
       "['abc', 'ABC']"
      ]
     },
     "execution_count": 23,
     "metadata": {},
     "output_type": "execute_result"
    }
   ],
   "source": [
    "solution2([\"aBc\",\"AbC\"])"
   ]
  },
  {
   "cell_type": "code",
   "execution_count": null,
   "id": "708a6cbe-27ad-4d56-8d26-6305cfb721e6",
   "metadata": {},
   "outputs": [],
   "source": []
  }
 ],
 "metadata": {
  "kernelspec": {
   "display_name": "Python 3 (ipykernel)",
   "language": "python",
   "name": "python3"
  },
  "language_info": {
   "codemirror_mode": {
    "name": "ipython",
    "version": 3
   },
   "file_extension": ".py",
   "mimetype": "text/x-python",
   "name": "python",
   "nbconvert_exporter": "python",
   "pygments_lexer": "ipython3",
   "version": "3.11.6"
  }
 },
 "nbformat": 4,
 "nbformat_minor": 5
}

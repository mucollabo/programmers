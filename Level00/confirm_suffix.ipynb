{
 "cells": [
  {
   "cell_type": "markdown",
   "id": "e6c1dbaa-8758-40f7-9c64-8a94f0e3bbda",
   "metadata": {},
   "source": [
    "### 문제 설명\n",
    "\n",
    "어떤 문자열에 대해서 접미사는 특정 인덱스부터 시작하는 문자열을 의미합니다. 예를 들어, \"banana\"의 모든 접미사는 \"banana\", \"anana\", \"nana\", \"ana\", \"na\", \"a\"입니다.\n",
    "문자열 my_string과 is_suffix가 주어질 때, is_suffix가 my_string의 접미사라면 1을, 아니면 0을 return 하는 solution 함수를 작성해 주세요.\n",
    "### 제한사항\n",
    "* 1 ≤ my_string의 길이 ≤ 100\n",
    "* 1 ≤ is_suffix의 길이 ≤ 100\n",
    "* my_string과 is_suffix는 영소문자로만 이루어져 있습니다.\n",
    "### 입출력 예\n",
    "|my_string|is_suffix|result|\n",
    "|---------|---------|------|\n",
    "|\"banana\"|\"ana\"|1|\n",
    "|\"banana\"|\"nan\"|0|\n",
    "|\"banana\"|\"wxyz\"|0|\n",
    "|\"banana\"|\"abanana\"|0|\n",
    "### 입출력 예 설명\n",
    "### 입출력 예 #1\n",
    "* 예제 1번에서 is_suffix가 my_string의 접미사이기 때문에 1을 return 합니다.\n",
    "### 입출력 예 #2\n",
    "* 예제 2번에서 is_suffix가 my_string의 접미사가 아니기 때문에 0을 return 합니다.\n",
    "### 입출력 예 #3\n",
    "* 예제 3번에서 is_suffix가 my_string의 접미사가 아니기 때문에 0을 return 합니다.\n",
    "### 입출력 예 #4\n",
    "* 예제 4번에서 is_suffix가 my_string의 접미사가 아니기 때문에 0을 return 합니다."
   ]
  },
  {
   "cell_type": "code",
   "execution_count": 13,
   "id": "0096b7fc-d6c9-44c8-822d-d686d11ef1fe",
   "metadata": {},
   "outputs": [],
   "source": [
    "def solution(my_string, is_suffix):\n",
    "    suffix = [my_string[i:] for i in range(len(my_string))]\n",
    "    return 1 if is_suffix in suffix else 0"
   ]
  },
  {
   "cell_type": "code",
   "execution_count": 14,
   "id": "e023fab4-e86f-4c38-9499-b057a1261c41",
   "metadata": {},
   "outputs": [
    {
     "data": {
      "text/plain": [
       "1"
      ]
     },
     "execution_count": 14,
     "metadata": {},
     "output_type": "execute_result"
    }
   ],
   "source": [
    "solution('banana', 'ana')"
   ]
  },
  {
   "cell_type": "code",
   "execution_count": 15,
   "id": "06df1183-fdb0-444b-9ff0-440e4243ac00",
   "metadata": {},
   "outputs": [
    {
     "data": {
      "text/plain": [
       "0"
      ]
     },
     "execution_count": 15,
     "metadata": {},
     "output_type": "execute_result"
    }
   ],
   "source": [
    "solution(\"banana\", \"nan\")"
   ]
  },
  {
   "cell_type": "code",
   "execution_count": 16,
   "id": "0a658cc0-6b93-4a28-90e2-e481e43c21dd",
   "metadata": {},
   "outputs": [
    {
     "data": {
      "text/plain": [
       "0"
      ]
     },
     "execution_count": 16,
     "metadata": {},
     "output_type": "execute_result"
    }
   ],
   "source": [
    "solution(\"banana\", \"wxyz\")"
   ]
  },
  {
   "cell_type": "code",
   "execution_count": 17,
   "id": "687a3557-c406-4970-a623-a1756c3df915",
   "metadata": {},
   "outputs": [
    {
     "data": {
      "text/plain": [
       "0"
      ]
     },
     "execution_count": 17,
     "metadata": {},
     "output_type": "execute_result"
    }
   ],
   "source": [
    "solution(\"banana\", \"abanana\")"
   ]
  },
  {
   "cell_type": "code",
   "execution_count": null,
   "id": "df64ed08-d59c-4b2e-a12f-ee737061278a",
   "metadata": {},
   "outputs": [],
   "source": []
  }
 ],
 "metadata": {
  "kernelspec": {
   "display_name": "Python 3 (ipykernel)",
   "language": "python",
   "name": "python3"
  },
  "language_info": {
   "codemirror_mode": {
    "name": "ipython",
    "version": 3
   },
   "file_extension": ".py",
   "mimetype": "text/x-python",
   "name": "python",
   "nbconvert_exporter": "python",
   "pygments_lexer": "ipython3",
   "version": "3.11.6"
  }
 },
 "nbformat": 4,
 "nbformat_minor": 5
}

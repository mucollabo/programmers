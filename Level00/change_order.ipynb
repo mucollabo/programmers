{
 "cells": [
  {
   "cell_type": "markdown",
   "id": "fe115d28-63a6-49c3-9b1a-bcc5709cccac",
   "metadata": {},
   "source": [
    "### 문제 설명\n",
    "\n",
    "정수 리스트 num_list와 정수 n이 주어질 때, num_list를 n 번째 원소 이후의 원소들과 n 번째까지의 원소들로 나눠 n 번째 원소 이후의 원소들을 n 번째까지의 원소들 앞에 붙인 리스트를 return하도록 solution 함수를 완성해주세요.\n",
    "### 제한사항\n",
    "* 2 ≤ num_list의 길이 ≤ 30\n",
    "* 1 ≤ num_list의 원소 ≤ 9\n",
    "* 1 ≤ n ≤ num_list의 길이\n",
    "### 입출력 예\n",
    "|num_list|n|result|\n",
    "|--------|-|------|\n",
    "|[2, 1, 6]|1|[1, 6, 2]|\n",
    "|[5, 2, 1, 7, 5]|3|[7, 5, 5, 2, 1]|\n",
    "### 입출력 예 설명\n",
    "#### 입출력 예 #1\n",
    "* [2, 1, 6]에서 첫 번째 이후의 원소는 [1, 6]이고 첫 번째까지의 원소는 [2]입니다. 두 리스트를 이어 붙이면 [1, 6, 2]가 됩니다.\n",
    "#### 입출력 예 #2\n",
    "* [5, 2, 1, 7, 5]에서 세 번째 이후의 원소는 [7, 5]이고 세 번째까지의 원소는 [5, 2, 1]입니다. 두 리스트를 이어 붙이면 [7, 5, 5, 2, 1]가 됩니다."
   ]
  },
  {
   "cell_type": "code",
   "execution_count": 17,
   "id": "4f2ca5da-e195-420e-a547-f00b4aa628e8",
   "metadata": {},
   "outputs": [],
   "source": [
    "def solution(num_list, n):\n",
    "    a, b = num_list[n:], num_list[:n]\n",
    "    a.extend(b)\n",
    "    return a"
   ]
  },
  {
   "cell_type": "code",
   "execution_count": 18,
   "id": "2a668c62-f74a-46e1-bc27-49f67337f615",
   "metadata": {},
   "outputs": [
    {
     "data": {
      "text/plain": [
       "[1, 6, 2]"
      ]
     },
     "execution_count": 18,
     "metadata": {},
     "output_type": "execute_result"
    }
   ],
   "source": [
    "solution([2, 1, 6], 1)"
   ]
  },
  {
   "cell_type": "code",
   "execution_count": 20,
   "id": "e62aa2d7-c1d2-49c0-a433-ac47379fabc6",
   "metadata": {},
   "outputs": [
    {
     "data": {
      "text/plain": [
       "[7, 5, 5, 2, 1]"
      ]
     },
     "execution_count": 20,
     "metadata": {},
     "output_type": "execute_result"
    }
   ],
   "source": [
    "solution([5, 2, 1, 7, 5], 3)"
   ]
  },
  {
   "cell_type": "code",
   "execution_count": null,
   "id": "d5355cdc-701c-417f-934a-18e866f2b728",
   "metadata": {},
   "outputs": [],
   "source": []
  }
 ],
 "metadata": {
  "kernelspec": {
   "display_name": "Python 3 (ipykernel)",
   "language": "python",
   "name": "python3"
  },
  "language_info": {
   "codemirror_mode": {
    "name": "ipython",
    "version": 3
   },
   "file_extension": ".py",
   "mimetype": "text/x-python",
   "name": "python",
   "nbconvert_exporter": "python",
   "pygments_lexer": "ipython3",
   "version": "3.11.6"
  }
 },
 "nbformat": 4,
 "nbformat_minor": 5
}

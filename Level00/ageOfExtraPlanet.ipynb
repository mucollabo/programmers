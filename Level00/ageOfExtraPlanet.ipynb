{
 "cells": [
  {
   "cell_type": "markdown",
   "id": "27df4b8e-882c-48cf-aa07-a1165b077699",
   "metadata": {},
   "source": [
    "# 외계행성의 나이\n",
    "## 문제 설명\n",
    "### 우주여행을 하던 머쓱이는 엔진 고장으로 PROGRAMMERS-962 행성에 불시착하게 됐습니다. 입국심사에서 나이를 말해야 하는데, PROGRAMMERS-962 행성에서는 나이를 알파벳으로 말하고 있습니다. a는 0, b는 1, c는 2, ..., j는 9입니다. 예를 들어 23살은 cd, 51살은 fb로 표현합니다. 나이 age가 매개변수로 주어질 때 PROGRAMMER-962식 나이를 return하도록 solution 함수를 완성해주세요.\n",
    "\n",
    "## 제한사항\n",
    "* age는 자연수입니다.\n",
    "* age ≤ 1,000\n",
    "* PROGRAMMERS-962 행성은 알파벳 소문자만 사용합니다.\n",
    "## 입출력 예\n",
    "|age|result|\n",
    "|---|------|\n",
    "|23|\"cd\"|\n",
    "|51|\"fb\"|\n",
    "|100|\"baa\"|\n",
    "## 입출력 예 설명\n",
    "## 입출력 예 #1\n",
    "\n",
    "* age가 23이므로 \"cd\"를 return합니다.\n",
    "## 입출력 예 #2\n",
    "\n",
    "* age가 51이므로 \"fb\"를 return합니다.\n",
    "## 입출력 예 #3\n",
    "\n",
    "* age가 100이므로 \"baa\"를 return합니다."
   ]
  },
  {
   "cell_type": "code",
   "execution_count": 1,
   "id": "2e5739a3-a1b2-4a3b-837e-d430d7c86481",
   "metadata": {},
   "outputs": [],
   "source": [
    "def solution(age):\n",
    "    result = ''\n",
    "    t = {'0':'a', '1':'b', '2':'c', '3':'d', '4':'e', '5':'f', '6':'g', '7':'h', '8':'i', '9':'j'}\n",
    "    for i in str(age):\n",
    "        result += t[i]\n",
    "    return result"
   ]
  },
  {
   "cell_type": "code",
   "execution_count": 2,
   "id": "d8267b91-72d5-4ff8-9562-77639d03bd61",
   "metadata": {},
   "outputs": [
    {
     "data": {
      "text/plain": [
       "'cd'"
      ]
     },
     "execution_count": 2,
     "metadata": {},
     "output_type": "execute_result"
    }
   ],
   "source": [
    "solution(23)"
   ]
  },
  {
   "cell_type": "code",
   "execution_count": 3,
   "id": "9e5c4f57-9225-4615-b03f-de2dda605d00",
   "metadata": {},
   "outputs": [
    {
     "data": {
      "text/plain": [
       "'fb'"
      ]
     },
     "execution_count": 3,
     "metadata": {},
     "output_type": "execute_result"
    }
   ],
   "source": [
    "solution(51)"
   ]
  },
  {
   "cell_type": "code",
   "execution_count": 4,
   "id": "b1255413-2fa4-4968-bf6a-01c1bf7bcd6f",
   "metadata": {},
   "outputs": [
    {
     "data": {
      "text/plain": [
       "'baa'"
      ]
     },
     "execution_count": 4,
     "metadata": {},
     "output_type": "execute_result"
    }
   ],
   "source": [
    "solution(100)"
   ]
  },
  {
   "cell_type": "code",
   "execution_count": 46,
   "id": "a2d5ef47-c6f0-4cb5-afa4-d94e003261ae",
   "metadata": {},
   "outputs": [],
   "source": [
    "def solution2(age):\n",
    "    return ''.join('abcdefghij'[int(i)] for i in str(age))"
   ]
  },
  {
   "cell_type": "code",
   "execution_count": 47,
   "id": "26b4b313-542e-4bbd-a19c-fe50525e07fd",
   "metadata": {},
   "outputs": [
    {
     "data": {
      "text/plain": [
       "'cd'"
      ]
     },
     "execution_count": 47,
     "metadata": {},
     "output_type": "execute_result"
    }
   ],
   "source": [
    "solution2(23)"
   ]
  },
  {
   "cell_type": "code",
   "execution_count": 48,
   "id": "879f22a6-d19c-4709-90a1-12d9e80c0620",
   "metadata": {},
   "outputs": [
    {
     "data": {
      "text/plain": [
       "'fb'"
      ]
     },
     "execution_count": 48,
     "metadata": {},
     "output_type": "execute_result"
    }
   ],
   "source": [
    "solution2(51)"
   ]
  },
  {
   "cell_type": "code",
   "execution_count": 49,
   "id": "148bb781-3f71-4784-b0a5-69d18b592cce",
   "metadata": {},
   "outputs": [
    {
     "data": {
      "text/plain": [
       "'baa'"
      ]
     },
     "execution_count": 49,
     "metadata": {},
     "output_type": "execute_result"
    }
   ],
   "source": [
    "solution2(100)"
   ]
  },
  {
   "cell_type": "code",
   "execution_count": null,
   "id": "37c5f021-8269-470d-9392-b444c5b31c38",
   "metadata": {},
   "outputs": [],
   "source": []
  }
 ],
 "metadata": {
  "kernelspec": {
   "display_name": "Python 3 (ipykernel)",
   "language": "python",
   "name": "python3"
  },
  "language_info": {
   "codemirror_mode": {
    "name": "ipython",
    "version": 3
   },
   "file_extension": ".py",
   "mimetype": "text/x-python",
   "name": "python",
   "nbconvert_exporter": "python",
   "pygments_lexer": "ipython3",
   "version": "3.10.6"
  }
 },
 "nbformat": 4,
 "nbformat_minor": 5
}

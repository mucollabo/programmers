{
 "cells": [
  {
   "cell_type": "markdown",
   "id": "1017f549-6505-4c5f-bedb-d63476124697",
   "metadata": {},
   "source": [
    "## n번째 원소까지\n",
    "### 문제 설명\n",
    "#### 정수 리스트 num_list와 정수 n이 주어질 때, num_list의 첫 번째 원소부터 n 번째 원소까지의 모든 원소를 담은 리스트를 return하도록 solution 함수를 완성해주세요.\n",
    "\n",
    "### 제한사항\n",
    "* 2 ≤ num_list의 길이 ≤ 30\n",
    "* 1 ≤ num_list의 원소 ≤ 9\n",
    "* 1 ≤ n ≤ num_list의 길이 ___\n",
    "### 입출력 예\n",
    "|num_list|n|result|\n",
    "|--------|--|-------|\n",
    "|[2, 1, 6]|1|[2]|\n",
    "|[5, 2, 1, 7, 5]|3|[5, 2, 1]|\n",
    "### 입출력 예 설명\n",
    "#### 입출력 예 #1\n",
    "\n",
    "* [2, 1, 6]의 첫 번째 원소부터 첫 번째 원소까지의 모든 원소는 [2]입니다.\n",
    "#### 입출력 예 #2\n",
    "\n",
    "* [5, 2, 1, 7, 5]의 첫 번째 원소부터 세 번째 원소까지의 모든 원소는 [5, 2, 1]입니다."
   ]
  },
  {
   "cell_type": "code",
   "execution_count": 2,
   "id": "a35d3948-37b3-4e5c-a81a-5481509b24c6",
   "metadata": {},
   "outputs": [],
   "source": [
    "def solution(num_list, n):\n",
    "    return num_list[:n]"
   ]
  },
  {
   "cell_type": "code",
   "execution_count": 4,
   "id": "fc73bd58-3664-4f8e-91d5-7e34f441fcc5",
   "metadata": {},
   "outputs": [
    {
     "data": {
      "text/plain": [
       "[2]"
      ]
     },
     "execution_count": 4,
     "metadata": {},
     "output_type": "execute_result"
    }
   ],
   "source": [
    "solution([2, 1, 6], 1)"
   ]
  },
  {
   "cell_type": "code",
   "execution_count": 6,
   "id": "53496ab1-d1ff-420f-b374-2345cfb1e0b5",
   "metadata": {},
   "outputs": [
    {
     "data": {
      "text/plain": [
       "[5, 2, 1]"
      ]
     },
     "execution_count": 6,
     "metadata": {},
     "output_type": "execute_result"
    }
   ],
   "source": [
    "solution([5, 2, 1, 7, 5], 3)"
   ]
  },
  {
   "cell_type": "code",
   "execution_count": null,
   "id": "8638a623-9ac5-460e-9af8-96a9cf82b0a2",
   "metadata": {},
   "outputs": [],
   "source": []
  }
 ],
 "metadata": {
  "kernelspec": {
   "display_name": "Python 3 (ipykernel)",
   "language": "python",
   "name": "python3"
  },
  "language_info": {
   "codemirror_mode": {
    "name": "ipython",
    "version": 3
   },
   "file_extension": ".py",
   "mimetype": "text/x-python",
   "name": "python",
   "nbconvert_exporter": "python",
   "pygments_lexer": "ipython3",
   "version": "3.11.6"
  }
 },
 "nbformat": 4,
 "nbformat_minor": 5
}

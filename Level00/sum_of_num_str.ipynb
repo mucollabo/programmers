{
 "cells": [
  {
   "cell_type": "markdown",
   "id": "88f28534-1513-441e-8991-65a7e927d153",
   "metadata": {},
   "source": [
    "### 문제 설명\n",
    "한 자리 정수로 이루어진 문자열 num_str이 주어질 때, 각 자리수의 합을 return하도록 solution 함수를 완성해주세요.\n",
    "\n",
    "### 제한사항\n",
    "* 3 ≤ num_str ≤ 100\n",
    "### 입출력 예\n",
    "|num_str|result|\n",
    "|-------|------|\n",
    "|\"123456789\"|45|\n",
    "|\"1000000\"|1|\n",
    "### 입출력 예 설명\n",
    "#### 입출력 예 #1\n",
    "\n",
    "* 문자열 안의 모든 숫자를 더하면 45가 됩니다.\n",
    "#### 입출력 예 #2\n",
    "\n",
    "* 문자열 안의 모든 숫자를 더하면 1이 됩니다."
   ]
  },
  {
   "cell_type": "code",
   "execution_count": 4,
   "id": "8db76091-62e6-4997-bccb-2614ea95f1ac",
   "metadata": {},
   "outputs": [],
   "source": [
    "from functools import reduce\n",
    "def solution(num_str):\n",
    "    return reduce(lambda x, y: x + y, map(lambda x: int(x), num_str))"
   ]
  },
  {
   "cell_type": "code",
   "execution_count": 5,
   "id": "20b02542-12a8-48eb-a339-2b84df193fa3",
   "metadata": {},
   "outputs": [
    {
     "data": {
      "text/plain": [
       "45"
      ]
     },
     "execution_count": 5,
     "metadata": {},
     "output_type": "execute_result"
    }
   ],
   "source": [
    "solution(\"123456789\")"
   ]
  },
  {
   "cell_type": "code",
   "execution_count": 6,
   "id": "2aaf9993-812a-4ddb-8d1e-5a399e742c9c",
   "metadata": {},
   "outputs": [
    {
     "data": {
      "text/plain": [
       "1"
      ]
     },
     "execution_count": 6,
     "metadata": {},
     "output_type": "execute_result"
    }
   ],
   "source": [
    "solution(\"1000000\")"
   ]
  },
  {
   "cell_type": "code",
   "execution_count": 10,
   "id": "71c9f4a0-a3b6-4ca4-8169-b4311b7300a9",
   "metadata": {},
   "outputs": [],
   "source": [
    "def solution2(num_str):\n",
    "    return sum(map(lambda x: int(x), num_str))"
   ]
  },
  {
   "cell_type": "code",
   "execution_count": 11,
   "id": "535edb14-8dad-4f54-a288-f938b7c73bf7",
   "metadata": {},
   "outputs": [
    {
     "data": {
      "text/plain": [
       "45"
      ]
     },
     "execution_count": 11,
     "metadata": {},
     "output_type": "execute_result"
    }
   ],
   "source": [
    "solution2(\"123456789\")"
   ]
  },
  {
   "cell_type": "code",
   "execution_count": 12,
   "id": "95430bbe-060e-4602-91ea-d30512285a41",
   "metadata": {},
   "outputs": [
    {
     "data": {
      "text/plain": [
       "1"
      ]
     },
     "execution_count": 12,
     "metadata": {},
     "output_type": "execute_result"
    }
   ],
   "source": [
    "solution2(\"1000000\")"
   ]
  },
  {
   "cell_type": "code",
   "execution_count": null,
   "id": "85ea450c-4224-400b-a3ad-ad533d7d676b",
   "metadata": {},
   "outputs": [],
   "source": []
  }
 ],
 "metadata": {
  "kernelspec": {
   "display_name": "Python 3 (ipykernel)",
   "language": "python",
   "name": "python3"
  },
  "language_info": {
   "codemirror_mode": {
    "name": "ipython",
    "version": 3
   },
   "file_extension": ".py",
   "mimetype": "text/x-python",
   "name": "python",
   "nbconvert_exporter": "python",
   "pygments_lexer": "ipython3",
   "version": "3.11.6"
  }
 },
 "nbformat": 4,
 "nbformat_minor": 5
}

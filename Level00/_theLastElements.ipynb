{
 "cells": [
  {
   "cell_type": "markdown",
   "id": "d40d485f-8d13-45e5-b2bd-f53b6924a38a",
   "metadata": {},
   "source": [
    "## 마지막 두 원소\n",
    "### 문제 설명\n",
    "#### 정수 리스트 num_list가 주어질 때, 마지막 원소가 그전 원소보다 크면 마지막 원소에서 그전 원소를 뺀 값을 마지막 원소가 그전 원소보다 크지 않다면 마지막 원소를 두 배한 값을 추가하여 return하도록 solution 함수를 완성해주세요.\n",
    "\n",
    "### 제한사항\n",
    "* 2 ≤ num_list의 길이 ≤ 10\n",
    "* 1 ≤ num_list의 원소 ≤ 9\n",
    "### 입출력 예\n",
    "|num_list|result|\n",
    "|--------|------|\n",
    "|[2, 1, 6]|[2, 1, 6, 5]|\n",
    "|[5, 2, 1, 7, 5]|[5, 2, 1, 7, 5, 10]|\n",
    "### 입출력 예 설명\n",
    "#### 입출력 예 #1\n",
    "\n",
    "* 마지막 원소인 6이 그전 원소인 1보다 크기 때문에 6 - 1인 5를 추가해 return합니다.\n",
    "#### 입출력 예 #2\n",
    "\n",
    "* 마지막 원소인 5가 그전 원소인 7보다 크지 않기 때문에 5의 두 배인 10을 추가해 return합니다."
   ]
  },
  {
   "cell_type": "code",
   "execution_count": 1,
   "id": "6ea9d30e-51d0-4e61-be26-9374b4d0e2e2",
   "metadata": {},
   "outputs": [],
   "source": [
    "def solution(num_list):\n",
    "    if num_list[-1] > num_list[-2]:\n",
    "        num_list.append(num_list[-1] - num_list[-2])\n",
    "    else:\n",
    "        num_list.append(num_list[-1] * 2)\n",
    "    return num_list"
   ]
  },
  {
   "cell_type": "code",
   "execution_count": 2,
   "id": "659eb101-4c53-42b7-821e-e5b719de4b71",
   "metadata": {},
   "outputs": [
    {
     "data": {
      "text/plain": [
       "[2, 1, 6, 5]"
      ]
     },
     "execution_count": 2,
     "metadata": {},
     "output_type": "execute_result"
    }
   ],
   "source": [
    "solution([2, 1, 6])"
   ]
  },
  {
   "cell_type": "code",
   "execution_count": 3,
   "id": "5237ca71-20b4-4208-b23f-5552b9c6c2d7",
   "metadata": {},
   "outputs": [
    {
     "data": {
      "text/plain": [
       "[5, 2, 1, 7, 5, 10]"
      ]
     },
     "execution_count": 3,
     "metadata": {},
     "output_type": "execute_result"
    }
   ],
   "source": [
    "solution([5, 2, 1, 7, 5])"
   ]
  },
  {
   "cell_type": "code",
   "execution_count": 11,
   "id": "51d08298-48ed-43c8-ae32-878c4ec04a75",
   "metadata": {},
   "outputs": [],
   "source": [
    "def solution2(n):\n",
    "    n.append(n[-1] - n[-2] if n[-1] > n[-2] else n[-1] * 2)\n",
    "    return n"
   ]
  },
  {
   "cell_type": "code",
   "execution_count": 12,
   "id": "ec77a9dc-1d89-47b5-837c-262c125fa8b6",
   "metadata": {},
   "outputs": [
    {
     "data": {
      "text/plain": [
       "[2, 1, 6, 5]"
      ]
     },
     "execution_count": 12,
     "metadata": {},
     "output_type": "execute_result"
    }
   ],
   "source": [
    "solution2([2, 1, 6])"
   ]
  },
  {
   "cell_type": "code",
   "execution_count": 13,
   "id": "ca1e959c-9e3a-4776-8346-4c7dcdbd11ba",
   "metadata": {},
   "outputs": [
    {
     "data": {
      "text/plain": [
       "[5, 2, 1, 7, 5, 10]"
      ]
     },
     "execution_count": 13,
     "metadata": {},
     "output_type": "execute_result"
    }
   ],
   "source": [
    "solution2([5, 2, 1, 7, 5])"
   ]
  },
  {
   "cell_type": "code",
   "execution_count": null,
   "id": "70a0201b-597b-4fcb-8e05-eefc3f099c9f",
   "metadata": {},
   "outputs": [],
   "source": []
  }
 ],
 "metadata": {
  "kernelspec": {
   "display_name": "Python 3 (ipykernel)",
   "language": "python",
   "name": "python3"
  },
  "language_info": {
   "codemirror_mode": {
    "name": "ipython",
    "version": 3
   },
   "file_extension": ".py",
   "mimetype": "text/x-python",
   "name": "python",
   "nbconvert_exporter": "python",
   "pygments_lexer": "ipython3",
   "version": "3.11.6"
  }
 },
 "nbformat": 4,
 "nbformat_minor": 5
}

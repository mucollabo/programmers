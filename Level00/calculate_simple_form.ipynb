{
 "cells": [
  {
   "cell_type": "markdown",
   "id": "bb50ece5-d1a6-4d9b-b2d9-3306957444d3",
   "metadata": {},
   "source": [
    "### 문제 설명\n",
    "문자열 binomial이 매개변수로 주어집니다. binomial은 \"a op b\" 형태의 이항식이고 a와 b는 음이 아닌 정수, op는 '+', '-', '*' 중 하나입니다. 주어진 식을 계산한 정수를 return 하는 solution 함수를 작성해 주세요.\n",
    "\n",
    "### 제한사항\n",
    "* 0 ≤ a, b ≤ 40,000\n",
    "* 0을 제외하고 a, b는 0으로 시작하지 않습니다.\n",
    "### 입출력 예\n",
    "|binomial|result|\n",
    "|--------|------|\n",
    "|\"43 + 12\"|55|\n",
    "|\"0 - 7777\"|-7777|\n",
    "|\"40000 * 40000\"|1600000000|\n",
    "### 입출력 예 설명\n",
    "#### 입출력 예 #1\n",
    "\n",
    "* 예제 1번의 binomial은 \"43 + 12\"로 이 식을 계산한 결과인 43 + 12 = 55를 return 합니다.\n",
    "#### 입출력 예 #2\n",
    "\n",
    "* 예제 2번의 binomial은 \"0 - 7777\"로 이 식을 계산한 결과인 0 - 7777 = -7777을 return 합니다.\n",
    "#### 입출력 예 #3\n",
    "\n",
    "* 예제 3번의 binomial은 \"40000 * 40000\"으로 이 식을 계산한 결과인 40000 × 40000 = 1600000000을 return 합니다."
   ]
  },
  {
   "cell_type": "code",
   "execution_count": 12,
   "id": "f94951fd-7176-4cc7-9a33-2e3d17d4fb99",
   "metadata": {},
   "outputs": [],
   "source": [
    "def solution(binomial):\n",
    "    return eval(binomial)"
   ]
  },
  {
   "cell_type": "code",
   "execution_count": 13,
   "id": "8d5c3830-9497-4aaa-83c9-90ac1ee221b0",
   "metadata": {},
   "outputs": [
    {
     "data": {
      "text/plain": [
       "55"
      ]
     },
     "execution_count": 13,
     "metadata": {},
     "output_type": "execute_result"
    }
   ],
   "source": [
    "solution(\"43 + 12\")"
   ]
  },
  {
   "cell_type": "code",
   "execution_count": 14,
   "id": "f5257aaf-437b-4b09-8889-bb56fdd6c4ed",
   "metadata": {},
   "outputs": [
    {
     "data": {
      "text/plain": [
       "-7777"
      ]
     },
     "execution_count": 14,
     "metadata": {},
     "output_type": "execute_result"
    }
   ],
   "source": [
    "solution(\"0 - 7777\")"
   ]
  },
  {
   "cell_type": "code",
   "execution_count": 15,
   "id": "07f69de4-bb54-4eff-b649-9df27684c9b1",
   "metadata": {},
   "outputs": [
    {
     "data": {
      "text/plain": [
       "1600000000"
      ]
     },
     "execution_count": 15,
     "metadata": {},
     "output_type": "execute_result"
    }
   ],
   "source": [
    "solution(\"40000 * 40000\")"
   ]
  },
  {
   "cell_type": "code",
   "execution_count": null,
   "id": "3eda60ab-e0ee-4ce7-8544-5a3815be59f6",
   "metadata": {},
   "outputs": [],
   "source": []
  }
 ],
 "metadata": {
  "kernelspec": {
   "display_name": "Python 3 (ipykernel)",
   "language": "python",
   "name": "python3"
  },
  "language_info": {
   "codemirror_mode": {
    "name": "ipython",
    "version": 3
   },
   "file_extension": ".py",
   "mimetype": "text/x-python",
   "name": "python",
   "nbconvert_exporter": "python",
   "pygments_lexer": "ipython3",
   "version": "3.11.6"
  }
 },
 "nbformat": 4,
 "nbformat_minor": 5
}

{
 "cells": [
  {
   "cell_type": "markdown",
   "id": "620c3fab-a513-47fe-b0c9-c5ac949acd15",
   "metadata": {},
   "source": [
    "# 외계어 사전\n",
    "## 문제 설명\n",
    "### PROGRAMMERS-962 행성에 불시착한 우주비행사 머쓱이는 외계행성의 언어를 공부하려고 합니다. 알파벳이 담긴 배열 spell과 외계어 사전 dic이 매개변수로 주어집니다. spell에 담긴 알파벳을 한번씩만 모두 사용한 단어가 dic에 존재한다면 1, 존재하지 않는다면 2를 return하도록 solution 함수를 완성해주세요.\n",
    "\n",
    "## 제한사항\n",
    "* spell과 dic의 원소는 알파벳 소문자로만 이루어져있습니다.\n",
    "* 2 ≤ spell의 크기 ≤ 10\n",
    "* spell의 원소의 길이는 1입니다.\n",
    "* 1 ≤ dic의 크기 ≤ 10\n",
    "* 1 ≤ dic의 원소의 길이 ≤ 10\n",
    "* spell의 원소를 모두 사용해 단어를 만들어야 합니다.\n",
    "* spell의 원소를 모두 사용해 만들 수 있는 단어는 dic에 두 개 이상 존재하지 않습니다.\n",
    "* dic과 spell 모두 중복된 원소를 갖지 않습니다.\n",
    "## 입출력 예\n",
    "|spell|dic|result|\n",
    "|-----|---|------|\n",
    "|[\"p\", \"o\", \"s\"]|[\"sod\", \"eocd\", \"qixm\", \"adio\", \"soo\"]|2|\n",
    "|[\"z\", \"d\", \"x\"]|[\"def\", \"dww\", \"dzx\", \"loveaw\"]|1|\n",
    "|[\"s\", \"o\", \"m\", \"d\"]|[\"moos\", \"dzx\", \"smm\", \"sunmmo\", \"som\"]|2|\n",
    "## 입출력 예 설명\n",
    "## 입출력 예 #1\n",
    "\n",
    "* \"p\", \"o\", \"s\" 를 조합해 만들 수 있는 단어가 dic에 존재하지 않습니다. 따라서 2를 return합니다.\n",
    "## 입출력 예 #2\n",
    "\n",
    "* \"z\", \"d\", \"x\" 를 조합해 만들 수 있는 단어 \"dzx\"가 dic에 존재합니다. 따라서 1을 return합니다.\n",
    "## 입출력 예 #3\n",
    "\n",
    "* \"s\", \"o\", \"m\", \"d\" 를 조합해 만들 수 있는 단어가 dic에 존재하지 않습니다. 따라서 2을 return합니다.\n",
    "## 유의사항\n",
    "* 입출력 예 #3 에서 \"moos\", \"smm\", \"som\"도 \"s\", \"o\", \"m\", \"d\" 를 조합해 만들 수 있지만 spell의 원소를 모두 사용해야 하기 때문에 정답이 아닙니다."
   ]
  },
  {
   "cell_type": "code",
   "execution_count": 40,
   "id": "42329a8f-42a6-4a86-bf26-f123a1e4b8a2",
   "metadata": {},
   "outputs": [],
   "source": [
    "def solution(spell, dic):\n",
    "    for d in dic:\n",
    "        if set(d) == set(spell):\n",
    "            return 1\n",
    "    return 2"
   ]
  },
  {
   "cell_type": "code",
   "execution_count": 41,
   "id": "7e4477f9-7088-4ac8-8eec-afc0f6dc81e0",
   "metadata": {},
   "outputs": [
    {
     "data": {
      "text/plain": [
       "2"
      ]
     },
     "execution_count": 41,
     "metadata": {},
     "output_type": "execute_result"
    }
   ],
   "source": [
    "solution([\"p\", \"o\", \"s\"], [\"sod\", \"eocd\", \"qixm\", \"adio\", \"soo\"])"
   ]
  },
  {
   "cell_type": "code",
   "execution_count": 42,
   "id": "ad167d26-4262-4861-8db5-1df8ba30e209",
   "metadata": {},
   "outputs": [
    {
     "data": {
      "text/plain": [
       "1"
      ]
     },
     "execution_count": 42,
     "metadata": {},
     "output_type": "execute_result"
    }
   ],
   "source": [
    "solution([\"z\", \"d\", \"x\"], [\"def\", \"dww\", \"dzx\", \"loveaw\"])"
   ]
  },
  {
   "cell_type": "code",
   "execution_count": 43,
   "id": "0d386167-6fc2-4b74-b97a-0f9f6af00530",
   "metadata": {},
   "outputs": [
    {
     "data": {
      "text/plain": [
       "2"
      ]
     },
     "execution_count": 43,
     "metadata": {},
     "output_type": "execute_result"
    }
   ],
   "source": [
    "solution([\"s\", \"o\", \"m\", \"d\"], [\"moos\", \"dzx\", \"smm\", \"sunmmo\", \"som\"])"
   ]
  },
  {
   "cell_type": "code",
   "execution_count": 96,
   "id": "3476fcba-dd15-42fc-9555-bac295207d56",
   "metadata": {},
   "outputs": [],
   "source": [
    "def solution2(spell, dic):\n",
    "    return 1 if True in [True if set(d) == set(spell) else False for d in dic] else 2"
   ]
  },
  {
   "cell_type": "code",
   "execution_count": 97,
   "id": "d1cee1d0-cfbc-4983-ae82-da08ed0f3e7e",
   "metadata": {},
   "outputs": [
    {
     "data": {
      "text/plain": [
       "2"
      ]
     },
     "execution_count": 97,
     "metadata": {},
     "output_type": "execute_result"
    }
   ],
   "source": [
    "solution2([\"p\", \"o\", \"s\"], [\"sod\", \"eocd\", \"qixm\", \"adio\", \"soo\"])"
   ]
  },
  {
   "cell_type": "code",
   "execution_count": 98,
   "id": "6bd6252b-65bc-48e4-ad7a-10d6f28d2d3b",
   "metadata": {},
   "outputs": [
    {
     "data": {
      "text/plain": [
       "1"
      ]
     },
     "execution_count": 98,
     "metadata": {},
     "output_type": "execute_result"
    }
   ],
   "source": [
    "solution2([\"z\", \"d\", \"x\"], [\"def\", \"dww\", \"dzx\", \"loveaw\"])"
   ]
  },
  {
   "cell_type": "code",
   "execution_count": 99,
   "id": "6174a0ea-ea63-493d-b6b1-4d104c9bdd1b",
   "metadata": {},
   "outputs": [
    {
     "data": {
      "text/plain": [
       "2"
      ]
     },
     "execution_count": 99,
     "metadata": {},
     "output_type": "execute_result"
    }
   ],
   "source": [
    "solution2([\"s\", \"o\", \"m\", \"d\"], [\"moos\", \"dzx\", \"smm\", \"sunmmo\", \"som\"])"
   ]
  },
  {
   "cell_type": "code",
   "execution_count": null,
   "id": "90c13117-212a-4e16-b937-f590e1c49ffe",
   "metadata": {},
   "outputs": [],
   "source": []
  }
 ],
 "metadata": {
  "kernelspec": {
   "display_name": "Python 3 (ipykernel)",
   "language": "python",
   "name": "python3"
  },
  "language_info": {
   "codemirror_mode": {
    "name": "ipython",
    "version": 3
   },
   "file_extension": ".py",
   "mimetype": "text/x-python",
   "name": "python",
   "nbconvert_exporter": "python",
   "pygments_lexer": "ipython3",
   "version": "3.10.6"
  }
 },
 "nbformat": 4,
 "nbformat_minor": 5
}

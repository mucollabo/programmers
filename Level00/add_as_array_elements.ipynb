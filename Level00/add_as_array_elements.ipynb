{
 "cells": [
  {
   "cell_type": "markdown",
   "id": "2505303b-3d39-45fd-9d62-b1f7238a18b9",
   "metadata": {},
   "source": [
    "### 문제 설명\n",
    "\n",
    "아무 원소도 들어있지 않은 빈 배열 X가 있습니다. 양의 정수 배열 arr가 매개변수로 주어질 때, arr의 앞에서부터 차례대로 원소를 보면서 원소가 a라면 X의 맨 뒤에 a를 a번 추가하는 일을 반복한 뒤의 배열 X를 return 하는 solution 함수를 작성해 주세요.\n",
    "### 제한사항\n",
    "* 1 ≤ arr의 길이 ≤ 100\n",
    "* 1 ≤ arr의 원소 ≤ 100\n",
    "### 입출력 예\n",
    "|arr|result|\n",
    "|---|------|\n",
    "|[5, 1, 4]|[5, 5, 5, 5, 5, 1, 4, 4, 4, 4]|\n",
    "|[6, 6]|[6, 6, 6, 6, 6, 6, 6, 6, 6, 6, 6, 6]|\n",
    "|[1]|[1]|\n",
    "\n",
    "### 입출력 예 설명\n",
    "#### 입출력 예 #1\n",
    "* 예제 1번에 대해서 a와 X를 나타내보면 다음 표와 같습니다.\n",
    "|a|X|\n",
    "|--|------------|\n",
    "|  |[]|\n",
    "|5|[5, 5, 5, 5, 5]|\n",
    "|1|[5, 5, 5, 5, 5, 1]|\n",
    "|4|[5, 5, 5, 5, 5, 1, 4, 4, 4, 4]|\n",
    "\n",
    "따라서 [5, 5, 5, 5, 5, 1, 4, 4, 4, 4]를 return 합니다.\n",
    "#### 입출력 예 #2\n",
    "* 예제 2번에 대해서 a와 X를 나타내보면 다음 표와 같습니다.\n",
    "|a|X|\n",
    "|--|------------|\n",
    "|  |[]|\n",
    "|6|[6, 6, 6, 6, 6, 6]|\n",
    "|6|[6, 6, 6, 6, 6, 6, 6, 6, 6, 6, 6, 6]|\n",
    "\n",
    "따라서 [6, 6, 6, 6, 6, 6, 6, 6, 6, 6, 6, 6]를 return 합니다.\n",
    "#### 입출력 예 #3\n",
    "* 예제 2번에 대해서 a와 X를 나타내보면 다음 표와 같습니다.\n",
    "|a|X|\n",
    "|--|------------|\n",
    "|  |[]|\n",
    "|1|[1]|\n",
    "\n",
    "따라서 [1]을 return 합니다."
   ]
  },
  {
   "cell_type": "code",
   "execution_count": 26,
   "id": "44909f7c-57de-4f3d-81cf-91a9ad701a3a",
   "metadata": {},
   "outputs": [],
   "source": [
    "def solution(arr):\n",
    "    X = []\n",
    "    for a in arr:\n",
    "        for i in range(a):\n",
    "            X.append(a)\n",
    "    return X"
   ]
  },
  {
   "cell_type": "code",
   "execution_count": 27,
   "id": "4d637dda-0f73-4a2c-8ec3-7c0c99f8c82b",
   "metadata": {},
   "outputs": [
    {
     "data": {
      "text/plain": [
       "[5, 5, 5, 5, 5, 1, 4, 4, 4, 4]"
      ]
     },
     "execution_count": 27,
     "metadata": {},
     "output_type": "execute_result"
    }
   ],
   "source": [
    "solution([5, 1, 4])"
   ]
  },
  {
   "cell_type": "code",
   "execution_count": 28,
   "id": "63584d9e-5e52-4276-b3f6-1348fe90252b",
   "metadata": {},
   "outputs": [
    {
     "data": {
      "text/plain": [
       "[6, 6, 6, 6, 6, 6, 6, 6, 6, 6, 6, 6]"
      ]
     },
     "execution_count": 28,
     "metadata": {},
     "output_type": "execute_result"
    }
   ],
   "source": [
    "solution([6, 6])"
   ]
  },
  {
   "cell_type": "code",
   "execution_count": 29,
   "id": "0675c1e0-4e03-4712-afd8-c921cea9c471",
   "metadata": {},
   "outputs": [
    {
     "data": {
      "text/plain": [
       "[1]"
      ]
     },
     "execution_count": 29,
     "metadata": {},
     "output_type": "execute_result"
    }
   ],
   "source": [
    "solution([1])"
   ]
  },
  {
   "cell_type": "code",
   "execution_count": null,
   "id": "7f4afbc5-1e82-4973-b47d-e34b57b8563d",
   "metadata": {},
   "outputs": [],
   "source": []
  }
 ],
 "metadata": {
  "kernelspec": {
   "display_name": "Python 3 (ipykernel)",
   "language": "python",
   "name": "python3"
  },
  "language_info": {
   "codemirror_mode": {
    "name": "ipython",
    "version": 3
   },
   "file_extension": ".py",
   "mimetype": "text/x-python",
   "name": "python",
   "nbconvert_exporter": "python",
   "pygments_lexer": "ipython3",
   "version": "3.11.6"
  }
 },
 "nbformat": 4,
 "nbformat_minor": 5
}

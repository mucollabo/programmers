{
 "cells": [
  {
   "cell_type": "markdown",
   "id": "95203e57-cf22-47ac-9abe-b0f0a0057c90",
   "metadata": {},
   "source": [
    "## 조건에 맞게 수열 변환하기 1\n",
    "### 문제 설명\n",
    "#### 정수 배열 arr가 주어집니다. arr의 각 원소에 대해 값이 50보다 크거나 같은 짝수라면 2로 나누고, 50보다 작은 홀수라면 2를 곱합니다. 그 결과인 정수 배열을 return 하는 solution 함수를 완성해 주세요.\n",
    "\n",
    "### 제한사항\n",
    "* 1 ≤ arr의 길이 ≤ 1,000,000\n",
    "* 1 ≤ arr의 원소의 값 ≤ 100\n",
    "### 입출력 예\n",
    "|arr|result|\n",
    "|---|------|\n",
    "|[1, 2, 3, 100, 99, 98]|[2, 2, 6, 50, 99, 49]|\n",
    "### 입출력 예 설명\n",
    "#### 입출력 예 #1\n",
    "\n",
    "* 1, 3은 50 미만의 홀수 이므로 2를 곱하고, 100, 98은 50 이상의 짝수이므로 2로 나눕니다.\n",
    "* 나머지 값들은 변경 조건에 해당하지 않으므로 바꾸지 않습니다.\n",
    "* 따라서 [2, 2, 6, 50, 99, 49]를 return 합니다."
   ]
  },
  {
   "cell_type": "code",
   "execution_count": 15,
   "id": "f813cd6c-1466-4063-9e27-758bd9b01df4",
   "metadata": {},
   "outputs": [],
   "source": [
    "def solution(arr):\n",
    "    arr = list(map(lambda x:x*2 if x < 50 and x%2 != 0 else x//2 if x >= 50 and x%2 == 0 else x, arr))\n",
    "    return arr"
   ]
  },
  {
   "cell_type": "code",
   "execution_count": 16,
   "id": "ca69c286-be51-42fe-a8f1-dfa1729df603",
   "metadata": {},
   "outputs": [
    {
     "data": {
      "text/plain": [
       "[2, 2, 6, 50, 99, 49]"
      ]
     },
     "execution_count": 16,
     "metadata": {},
     "output_type": "execute_result"
    }
   ],
   "source": [
    "solution([1, 2, 3, 100, 99, 98])"
   ]
  },
  {
   "cell_type": "code",
   "execution_count": null,
   "id": "c3a06fe6-7693-497e-9c08-6343d30e459f",
   "metadata": {},
   "outputs": [],
   "source": []
  }
 ],
 "metadata": {
  "kernelspec": {
   "display_name": "Python 3 (ipykernel)",
   "language": "python",
   "name": "python3"
  },
  "language_info": {
   "codemirror_mode": {
    "name": "ipython",
    "version": 3
   },
   "file_extension": ".py",
   "mimetype": "text/x-python",
   "name": "python",
   "nbconvert_exporter": "python",
   "pygments_lexer": "ipython3",
   "version": "3.11.6"
  }
 },
 "nbformat": 4,
 "nbformat_minor": 5
}

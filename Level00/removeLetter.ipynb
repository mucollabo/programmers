{
 "cells": [
  {
   "cell_type": "markdown",
   "id": "8324d890-63c0-40a1-a5af-f37b103b4816",
   "metadata": {},
   "source": [
    "# 특정 문자 제거하기\n",
    "## 문제 설명\n",
    "### 문자열 my_string과 문자 letter이 매개변수로 주어집니다. my_string에서 letter를 제거한 문자열을 return하도록 solution 함수를 완성해주세요.\n",
    "\n",
    "## 제한사항\n",
    "* 1 ≤ my_string의 길이 ≤ 100\n",
    "* letter은 길이가 1인 영문자입니다.\n",
    "* my_string과 letter은 알파벳 대소문자로 이루어져 있습니다.\n",
    "* 대문자와 소문자를 구분합니다.\n",
    "## 입출력 예\n",
    "|my_string|letter|result|\n",
    "|---------|------|------|\n",
    "|\"abcdef\"|\"f\"|\"abcde\"|\n",
    "|\"BCBdbe\"|\"B\"|\"Cdbe\"|\n",
    "## 입출력 예 설명\n",
    "## 입출력 예 #1\n",
    "\n",
    "* \"abcdef\" 에서 \"f\"를 제거한 \"abcde\"를 return합니다.\n",
    "## 입출력 예 #2\n",
    "\n",
    "* \"BCBdbe\" 에서 \"B\"를 모두 제거한 \"Cdbe\"를 return합니다."
   ]
  },
  {
   "cell_type": "code",
   "execution_count": 31,
   "id": "f8e0c9ca-e94c-4c41-bff1-49498a42a661",
   "metadata": {},
   "outputs": [],
   "source": [
    "def solution(my_string, letter):\n",
    "    list_my_string = list(my_string)\n",
    "    [list_my_string.remove(lms) for lms in list_my_string if lms == letter]\n",
    "    return ''.join(list_my_string)"
   ]
  },
  {
   "cell_type": "code",
   "execution_count": 32,
   "id": "06d4b516-82fa-4f13-9499-7b4dfdead436",
   "metadata": {},
   "outputs": [
    {
     "data": {
      "text/plain": [
       "'abcde'"
      ]
     },
     "execution_count": 32,
     "metadata": {},
     "output_type": "execute_result"
    }
   ],
   "source": [
    "solution(\"abcdef\", \"f\")"
   ]
  },
  {
   "cell_type": "code",
   "execution_count": 33,
   "id": "45abd8b7-f26f-4d73-b735-2b75ddfeeb03",
   "metadata": {},
   "outputs": [
    {
     "data": {
      "text/plain": [
       "'Cdbe'"
      ]
     },
     "execution_count": 33,
     "metadata": {},
     "output_type": "execute_result"
    }
   ],
   "source": [
    "solution(\"BCBdbe\", \"B\")"
   ]
  },
  {
   "cell_type": "code",
   "execution_count": 38,
   "id": "b43b8aae-dc38-4f93-a164-4682261486ac",
   "metadata": {},
   "outputs": [],
   "source": [
    "def solution2(my_string, letter):\n",
    "    return my_string.replace(letter, '')"
   ]
  },
  {
   "cell_type": "code",
   "execution_count": 39,
   "id": "67636247-30b3-49a9-bdfc-19982b46d0e1",
   "metadata": {},
   "outputs": [
    {
     "data": {
      "text/plain": [
       "'abcde'"
      ]
     },
     "execution_count": 39,
     "metadata": {},
     "output_type": "execute_result"
    }
   ],
   "source": [
    "solution2(\"abcdef\", \"f\")"
   ]
  },
  {
   "cell_type": "code",
   "execution_count": 40,
   "id": "7759d2e6-1085-41dc-b023-160d9129b703",
   "metadata": {},
   "outputs": [
    {
     "data": {
      "text/plain": [
       "'Cdbe'"
      ]
     },
     "execution_count": 40,
     "metadata": {},
     "output_type": "execute_result"
    }
   ],
   "source": [
    "solution2(\"BCBdbe\", \"B\")"
   ]
  },
  {
   "cell_type": "code",
   "execution_count": null,
   "id": "d1e1e7f8-e9aa-4f62-9a59-600d2e40d070",
   "metadata": {},
   "outputs": [],
   "source": []
  }
 ],
 "metadata": {
  "kernelspec": {
   "display_name": "Python 3 (ipykernel)",
   "language": "python",
   "name": "python3"
  },
  "language_info": {
   "codemirror_mode": {
    "name": "ipython",
    "version": 3
   },
   "file_extension": ".py",
   "mimetype": "text/x-python",
   "name": "python",
   "nbconvert_exporter": "python",
   "pygments_lexer": "ipython3",
   "version": "3.10.6"
  }
 },
 "nbformat": 4,
 "nbformat_minor": 5
}

{
 "cells": [
  {
   "cell_type": "markdown",
   "id": "f6b9377d-60ed-46f2-9a48-48788b51367e",
   "metadata": {},
   "source": [
    "### 문제 설명\n",
    "\n",
    "문자열들이 담긴 리스트가 주어졌을 때, 모든 문자열들을 순서대로 합친 문자열을 꼬리 문자열이라고 합니다. 꼬리 문자열을 만들 때 특정 문자열을 포함한 문자열은 제외시키려고 합니다. 예를 들어 문자열 리스트 [\"abc\", \"def\", \"ghi\"]가 있고 문자열 \"ef\"를 포함한 문자열은 제외하고 꼬리 문자열을 만들면 \"abcghi\"가 됩니다.\n",
    "문자열 리스트 str_list와 제외하려는 문자열 ex가 주어질 때, str_list에서 ex를 포함한 문자열을 제외하고 만든 꼬리 문자열을 return하도록 solution 함수를 완성해주세요.\n",
    "### 제한사항\n",
    "* 2 ≤ str_list의 길이 ≤ 10\n",
    "* 1 ≤ str_list의 원소의 길이 ≤ 10\n",
    "* 1 ≤ ex의 길이 ≤ 5\n",
    "### 입출력 예\n",
    "|str_list|ex|result|\n",
    "|--------|--|------|\n",
    "|[\"abc\", \"def\", \"ghi\"]|\"ef\"|\"abcghi\"|\n",
    "|[\"abc\", \"bbc\", \"cbc\"]|\"c\"|\"\"|\n",
    "### 입출력 예 설명\n",
    "#### 입출력 예 #1\n",
    "* 본문과 동일합니다.\n",
    "#### 입출력 예 #2\n",
    "* 리스트 안의 모든 문자열이 \"c\"를 포함하므로 빈 문자열을 return합니다."
   ]
  },
  {
   "cell_type": "code",
   "execution_count": 1,
   "id": "1a34385e-4854-4473-a234-57b258f9f14e",
   "metadata": {},
   "outputs": [],
   "source": [
    "def solution(str_list, ex):\n",
    "    r = ''\n",
    "    for s in str_list:\n",
    "        if ex not in s:\n",
    "            r += s\n",
    "    return r"
   ]
  },
  {
   "cell_type": "code",
   "execution_count": 2,
   "id": "b39e4279-cf7b-4b62-a339-68e22410ab4b",
   "metadata": {},
   "outputs": [
    {
     "data": {
      "text/plain": [
       "'abcghi'"
      ]
     },
     "execution_count": 2,
     "metadata": {},
     "output_type": "execute_result"
    }
   ],
   "source": [
    "solution([\"abc\", \"def\", \"ghi\"], \"ef\")"
   ]
  },
  {
   "cell_type": "code",
   "execution_count": 3,
   "id": "a945d65b-6076-4730-b5fb-b616b631c9b1",
   "metadata": {},
   "outputs": [
    {
     "data": {
      "text/plain": [
       "''"
      ]
     },
     "execution_count": 3,
     "metadata": {},
     "output_type": "execute_result"
    }
   ],
   "source": [
    "solution([\"abc\", \"bbc\", \"cbc\"], \"c\")"
   ]
  },
  {
   "cell_type": "markdown",
   "id": "864629e6-3b55-4d71-8ffc-09854ef20c6a",
   "metadata": {},
   "source": [
    "### pythonic method"
   ]
  },
  {
   "cell_type": "code",
   "execution_count": 6,
   "id": "02010098-f98a-4e69-a60e-494ec392ca37",
   "metadata": {},
   "outputs": [],
   "source": [
    "def solution2(str_list, ex):\n",
    "    return ''.join([s for s in str_list if ex not in s])"
   ]
  },
  {
   "cell_type": "code",
   "execution_count": 7,
   "id": "d8d021bc-9bcd-4fb2-aae4-5f99216ccf8b",
   "metadata": {},
   "outputs": [
    {
     "data": {
      "text/plain": [
       "'abcghi'"
      ]
     },
     "execution_count": 7,
     "metadata": {},
     "output_type": "execute_result"
    }
   ],
   "source": [
    "solution2([\"abc\", \"def\", \"ghi\"], \"ef\")"
   ]
  },
  {
   "cell_type": "code",
   "execution_count": 8,
   "id": "c72f5137-e52f-4e61-b7df-3ff305cc143f",
   "metadata": {},
   "outputs": [
    {
     "data": {
      "text/plain": [
       "''"
      ]
     },
     "execution_count": 8,
     "metadata": {},
     "output_type": "execute_result"
    }
   ],
   "source": [
    "solution2([\"abc\", \"bbc\", \"cbc\"], \"c\")"
   ]
  },
  {
   "cell_type": "code",
   "execution_count": null,
   "id": "f3666f38-9964-444d-9ac6-a57e89e3d1be",
   "metadata": {},
   "outputs": [],
   "source": []
  }
 ],
 "metadata": {
  "kernelspec": {
   "display_name": "Python 3 (ipykernel)",
   "language": "python",
   "name": "python3"
  },
  "language_info": {
   "codemirror_mode": {
    "name": "ipython",
    "version": 3
   },
   "file_extension": ".py",
   "mimetype": "text/x-python",
   "name": "python",
   "nbconvert_exporter": "python",
   "pygments_lexer": "ipython3",
   "version": "3.11.6"
  }
 },
 "nbformat": 4,
 "nbformat_minor": 5
}

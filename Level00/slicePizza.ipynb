{
 "cells": [
  {
   "cell_type": "markdown",
   "id": "bf176c9c-9cc8-4dd1-b026-6d6aa45efdf6",
   "metadata": {},
   "source": [
    "# 피자 나눠 먹기 (1)\n",
    "## 문제 설명\n",
    "### 머쓱이네 피자가게는 피자를 일곱 조각으로 잘라 줍니다. 피자를 나눠먹을 사람의 수 n이 주어질 때, 모든 사람이 피자를 한 조각 이상 먹기 위해 필요한 피자의 수를 return 하는 solution 함수를 완성해보세요.\n",
    "\n",
    "## 제한사항\n",
    "* 1 ≤ n ≤ 100\n",
    "## 입출력 예\n",
    "|n|result|\n",
    "|-|------|\n",
    "|7|1|\n",
    "|1|1|\n",
    "|15|3|\n",
    "## 입출력 예 설명\n",
    "## 입출력 예 #1\n",
    "\n",
    "* 7명이 최소 한 조각씩 먹기 위해서 최소 1판이 필요합니다.\n",
    "## 입출력 예 #2\n",
    "\n",
    "* 1명은 최소 한 조각을 먹기 위해 1판이 필요합니다.\n",
    "## 입출력 예 #3\n",
    "\n",
    "* 15명이 최소 한 조각씩 먹기 위해서 최소 3판이 필요합니다."
   ]
  },
  {
   "cell_type": "code",
   "execution_count": 8,
   "id": "18567dcf-c92b-4367-95c4-07fb6e3531f9",
   "metadata": {},
   "outputs": [],
   "source": [
    "def solution(n):\n",
    "    if n%7 == 0:\n",
    "        return n//7\n",
    "    else:\n",
    "        return n//7 + 1"
   ]
  },
  {
   "cell_type": "code",
   "execution_count": 9,
   "id": "3ae0cb04-d035-4756-953f-cbc2fffe739e",
   "metadata": {},
   "outputs": [
    {
     "data": {
      "text/plain": [
       "1"
      ]
     },
     "execution_count": 9,
     "metadata": {},
     "output_type": "execute_result"
    }
   ],
   "source": [
    "solution(7)"
   ]
  },
  {
   "cell_type": "code",
   "execution_count": 10,
   "id": "fff5d105-9dbb-4975-a87f-47388708129b",
   "metadata": {},
   "outputs": [
    {
     "data": {
      "text/plain": [
       "1"
      ]
     },
     "execution_count": 10,
     "metadata": {},
     "output_type": "execute_result"
    }
   ],
   "source": [
    "solution(1)"
   ]
  },
  {
   "cell_type": "code",
   "execution_count": 11,
   "id": "ee783809-0aff-47bc-ba45-2b763323217f",
   "metadata": {},
   "outputs": [
    {
     "data": {
      "text/plain": [
       "3"
      ]
     },
     "execution_count": 11,
     "metadata": {},
     "output_type": "execute_result"
    }
   ],
   "source": [
    "solution(15)"
   ]
  },
  {
   "cell_type": "code",
   "execution_count": 12,
   "id": "125c710f-fc0b-4e59-8a95-ab50b59f948f",
   "metadata": {},
   "outputs": [
    {
     "data": {
      "text/plain": [
       "3"
      ]
     },
     "execution_count": 12,
     "metadata": {},
     "output_type": "execute_result"
    }
   ],
   "source": [
    "solution(21)"
   ]
  },
  {
   "cell_type": "code",
   "execution_count": 13,
   "id": "ca2d883f-aa50-4033-bff9-0fc1dd52e5a6",
   "metadata": {},
   "outputs": [
    {
     "data": {
      "text/plain": [
       "3"
      ]
     },
     "execution_count": 13,
     "metadata": {},
     "output_type": "execute_result"
    }
   ],
   "source": [
    "solution(20)"
   ]
  },
  {
   "cell_type": "code",
   "execution_count": 14,
   "id": "5130aaf4-4687-489e-b92a-372501a54144",
   "metadata": {},
   "outputs": [
    {
     "data": {
      "text/plain": [
       "4"
      ]
     },
     "execution_count": 14,
     "metadata": {},
     "output_type": "execute_result"
    }
   ],
   "source": [
    "solution(22)"
   ]
  },
  {
   "cell_type": "code",
   "execution_count": 19,
   "id": "6d72e315-d3ac-4b7c-8e01-0fd356821070",
   "metadata": {},
   "outputs": [],
   "source": [
    "def solution2(n):\n",
    "    return n//7 if n%7 == 0 else n//7 + 1"
   ]
  },
  {
   "cell_type": "code",
   "execution_count": 20,
   "id": "deb10254-fde6-43a6-9d56-b4d1a2570126",
   "metadata": {},
   "outputs": [
    {
     "data": {
      "text/plain": [
       "1"
      ]
     },
     "execution_count": 20,
     "metadata": {},
     "output_type": "execute_result"
    }
   ],
   "source": [
    "solution2(7)"
   ]
  },
  {
   "cell_type": "code",
   "execution_count": 21,
   "id": "dbd54b66-c9b1-4b58-800a-8c0c42ee8279",
   "metadata": {},
   "outputs": [
    {
     "data": {
      "text/plain": [
       "1"
      ]
     },
     "execution_count": 21,
     "metadata": {},
     "output_type": "execute_result"
    }
   ],
   "source": [
    "solution2(1)"
   ]
  },
  {
   "cell_type": "code",
   "execution_count": 22,
   "id": "35715f21-12ac-45ea-9693-e76bc6311310",
   "metadata": {},
   "outputs": [
    {
     "data": {
      "text/plain": [
       "3"
      ]
     },
     "execution_count": 22,
     "metadata": {},
     "output_type": "execute_result"
    }
   ],
   "source": [
    "solution2(15)"
   ]
  },
  {
   "cell_type": "code",
   "execution_count": 23,
   "id": "ccc55292-1804-4e45-b3f3-34ee2ac52416",
   "metadata": {},
   "outputs": [
    {
     "data": {
      "text/plain": [
       "3"
      ]
     },
     "execution_count": 23,
     "metadata": {},
     "output_type": "execute_result"
    }
   ],
   "source": [
    "solution2(21)"
   ]
  },
  {
   "cell_type": "code",
   "execution_count": 24,
   "id": "4a7ac22b-fceb-47ee-81f5-32b3eedecf42",
   "metadata": {},
   "outputs": [
    {
     "data": {
      "text/plain": [
       "4"
      ]
     },
     "execution_count": 24,
     "metadata": {},
     "output_type": "execute_result"
    }
   ],
   "source": [
    "solution2(22)"
   ]
  },
  {
   "cell_type": "code",
   "execution_count": null,
   "id": "a732b2ce-903a-4153-bd4c-a2b08b83ff63",
   "metadata": {},
   "outputs": [],
   "source": []
  }
 ],
 "metadata": {
  "kernelspec": {
   "display_name": "Python 3 (ipykernel)",
   "language": "python",
   "name": "python3"
  },
  "language_info": {
   "codemirror_mode": {
    "name": "ipython",
    "version": 3
   },
   "file_extension": ".py",
   "mimetype": "text/x-python",
   "name": "python",
   "nbconvert_exporter": "python",
   "pygments_lexer": "ipython3",
   "version": "3.10.6"
  }
 },
 "nbformat": 4,
 "nbformat_minor": 5
}

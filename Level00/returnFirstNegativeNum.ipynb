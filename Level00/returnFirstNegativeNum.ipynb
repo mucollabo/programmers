{
 "cells": [
  {
   "cell_type": "markdown",
   "id": "1e1312d7-e717-4bd6-ad5d-e2c36ae4f394",
   "metadata": {},
   "source": [
    "## 첫 번째로 나오는 음수\n",
    "### 문제 설명\n",
    "#### 정수 리스트 num_list가 주어질 때, 첫 번째로 나오는 음수의 인덱스를 return하도록 solution 함수를 완성해주세요. 음수가 없다면 -1을 return합니다.\n",
    "\n",
    "### 제한사항\n",
    "* 5 ≤ num_list의 길이 ≤ 100\n",
    "* -10 ≤ num_list의 원소 ≤ 100\n",
    "### 입출력 예\n",
    "|num_list|result|\n",
    "|--------|------|\n",
    "|[12, 4, 15, 46, 38, -2, 15]|5|\n",
    "|[13, 22, 53, 24, 15, 6]|-1|\n",
    "### 입출력 예 설명\n",
    "#### 입출력 예 #1\n",
    "\n",
    "* 5번 인덱스에서 음수가 처음 등장하므로 5를 return합니다.\n",
    "### 입출력 예 #2\n",
    "\n",
    "* 음수가 없으므로 -1을 return합니다."
   ]
  },
  {
   "cell_type": "code",
   "execution_count": 21,
   "id": "b28e325d-6e87-4aa4-9d0c-7fecceea0ae9",
   "metadata": {},
   "outputs": [],
   "source": [
    "def solution(num_list):\n",
    "    for e in num_list:\n",
    "        if e < 0:\n",
    "            return num_list.index(e)\n",
    "    return -1"
   ]
  },
  {
   "cell_type": "code",
   "execution_count": 22,
   "id": "3c2bc6fb-1df2-4bc1-8ada-a6a486f8b576",
   "metadata": {},
   "outputs": [
    {
     "data": {
      "text/plain": [
       "5"
      ]
     },
     "execution_count": 22,
     "metadata": {},
     "output_type": "execute_result"
    }
   ],
   "source": [
    "solution([12, 4, 15, 46, 38, -2, 15])"
   ]
  },
  {
   "cell_type": "code",
   "execution_count": 23,
   "id": "cde36f9c-4af4-4f5b-9c49-59f827e8a705",
   "metadata": {},
   "outputs": [
    {
     "data": {
      "text/plain": [
       "-1"
      ]
     },
     "execution_count": 23,
     "metadata": {},
     "output_type": "execute_result"
    }
   ],
   "source": [
    "solution([13, 22, 53, 24, 15, 6])"
   ]
  }
 ],
 "metadata": {
  "kernelspec": {
   "display_name": "Python 3 (ipykernel)",
   "language": "python",
   "name": "python3"
  },
  "language_info": {
   "codemirror_mode": {
    "name": "ipython",
    "version": 3
   },
   "file_extension": ".py",
   "mimetype": "text/x-python",
   "name": "python",
   "nbconvert_exporter": "python",
   "pygments_lexer": "ipython3",
   "version": "3.11.6"
  }
 },
 "nbformat": 4,
 "nbformat_minor": 5
}

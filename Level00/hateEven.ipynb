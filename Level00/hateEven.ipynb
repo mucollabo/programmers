{
 "cells": [
  {
   "cell_type": "markdown",
   "id": "daf2842b-2856-4e96-b296-17718969c20e",
   "metadata": {},
   "source": [
    "# 짝수는 싫어요\n",
    "## 문제 설명\n",
    "### 정수 n이 매개변수로 주어질 때, n 이하의 홀수가 오름차순으로 담긴 배열을 return하도록 solution 함수를 완성해주세요.\n",
    "\n",
    "## 제한사항\n",
    "* 1 ≤ n ≤ 100\n",
    "## 입출력 예\n",
    "|n|result|\n",
    "|-|------|\n",
    "|10|[1, 3, 5, 7, 9]|\n",
    "|15|[1, 3, 5, 7, 9, 11, 13, 15]|\n",
    "\n",
    "## 입출력 예 설명\n",
    "## 입출력 #1\n",
    "\n",
    "* 10 이하의 홀수가 담긴 배열 [1, 3, 5, 7, 9]를 return합니다.\n",
    "## 입출력 #1\n",
    "\n",
    "* 15 이하의 홀수가 담긴 배열 [1, 3, 5, 7, 9, 11, 13, 15]를 return합니다."
   ]
  },
  {
   "cell_type": "code",
   "execution_count": 6,
   "id": "56abc446-864c-4ad6-b4c2-6015f96d1c70",
   "metadata": {},
   "outputs": [],
   "source": [
    "def solution(n):\n",
    "    return [x for x in range(n+1) if x%2 == 1]"
   ]
  },
  {
   "cell_type": "code",
   "execution_count": 7,
   "id": "b5e6143b-cf09-41d1-8176-b59011c238cb",
   "metadata": {},
   "outputs": [
    {
     "data": {
      "text/plain": [
       "[1, 3, 5, 7, 9]"
      ]
     },
     "execution_count": 7,
     "metadata": {},
     "output_type": "execute_result"
    }
   ],
   "source": [
    "solution(10)"
   ]
  },
  {
   "cell_type": "code",
   "execution_count": 8,
   "id": "c897c701-d166-4108-adfc-2a4b77c37ef2",
   "metadata": {},
   "outputs": [
    {
     "data": {
      "text/plain": [
       "[1, 3, 5, 7, 9, 11, 13, 15]"
      ]
     },
     "execution_count": 8,
     "metadata": {},
     "output_type": "execute_result"
    }
   ],
   "source": [
    "solution(15)"
   ]
  },
  {
   "cell_type": "code",
   "execution_count": null,
   "id": "538bb549-441b-4c12-b324-9aba5a618b3c",
   "metadata": {},
   "outputs": [],
   "source": []
  }
 ],
 "metadata": {
  "kernelspec": {
   "display_name": "Python 3 (ipykernel)",
   "language": "python",
   "name": "python3"
  },
  "language_info": {
   "codemirror_mode": {
    "name": "ipython",
    "version": 3
   },
   "file_extension": ".py",
   "mimetype": "text/x-python",
   "name": "python",
   "nbconvert_exporter": "python",
   "pygments_lexer": "ipython3",
   "version": "3.10.6"
  }
 },
 "nbformat": 4,
 "nbformat_minor": 5
}

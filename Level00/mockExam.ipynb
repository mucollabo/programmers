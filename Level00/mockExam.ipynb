{
  "nbformat": 4,
  "nbformat_minor": 0,
  "metadata": {
    "colab": {
      "name": "mockExam.ipynb",
      "provenance": [],
      "authorship_tag": "ABX9TyOhRzqj16xFqIMUAxZOF5s1",
      "include_colab_link": true
    },
    "kernelspec": {
      "name": "python3",
      "display_name": "Python 3"
    },
    "language_info": {
      "name": "python"
    }
  },
  "cells": [
    {
      "cell_type": "markdown",
      "metadata": {
        "id": "view-in-github",
        "colab_type": "text"
      },
      "source": [
        "<a href=\"https://colab.research.google.com/github/mucollabo/programmers/blob/main/mockExam.ipynb\" target=\"_parent\"><img src=\"https://colab.research.google.com/assets/colab-badge.svg\" alt=\"Open In Colab\"/></a>"
      ]
    },
    {
      "cell_type": "code",
      "source": [
        "def solution(answers):\n",
        "  p1 = [1, 2, 3, 4, 5]\n",
        "  p2 = [2, 1, 2, 3, 2, 4, 2, 5]\n",
        "  p3 = [3, 3, 1, 1, 2, 2, 4, 4, 5, 5]\n",
        "  cnts = [0, 0, 0]\n",
        "  \n",
        "  for i, answer in enumerate(answers):\n",
        "    if answer == p1[i%len(p1)]:\n",
        "      cnts[0] += 1\n",
        "\n",
        "    if answer == p2[i%len(p2)]:\n",
        "      cnts[1] += 1\n",
        "\n",
        "    if answer == p3[i%len(p3)]:\n",
        "      cnts[2] += 1\n",
        "      \n",
        "  answer = [idx + 1 for idx, cnt in enumerate(cnts) if cnt == max(cnts)]\n",
        "\n",
        "  return answer"
      ],
      "metadata": {
        "id": "y3uI9CFHvVYQ"
      },
      "execution_count": 1,
      "outputs": []
    },
    {
      "cell_type": "code",
      "source": [
        "answers = [1, 2, 3, 4, 5]\n",
        "answers2 = [1, 3, 2, 4, 2]\n",
        "answers3 = [1, 2, 3]\n",
        "answers4 = [2, 1, 3, 3, 2]\n",
        "answers5 = [3]"
      ],
      "metadata": {
        "id": "owQrzCr715yI"
      },
      "execution_count": 2,
      "outputs": []
    },
    {
      "cell_type": "code",
      "source": [
        "solution(answers)"
      ],
      "metadata": {
        "colab": {
          "base_uri": "https://localhost:8080/"
        },
        "id": "wshhIm4N1_Mq",
        "outputId": "c1aaed05-4ad4-4116-bd20-4e926e357a8a"
      },
      "execution_count": 3,
      "outputs": [
        {
          "output_type": "execute_result",
          "data": {
            "text/plain": [
              "[1]"
            ]
          },
          "metadata": {},
          "execution_count": 3
        }
      ]
    },
    {
      "cell_type": "code",
      "source": [
        "solution(answers2)"
      ],
      "metadata": {
        "colab": {
          "base_uri": "https://localhost:8080/"
        },
        "id": "vNJhTVEP2BbN",
        "outputId": "c65dfd53-da9f-420e-b559-f1d95aba1770"
      },
      "execution_count": 4,
      "outputs": [
        {
          "output_type": "execute_result",
          "data": {
            "text/plain": [
              "[1, 2, 3]"
            ]
          },
          "metadata": {},
          "execution_count": 4
        }
      ]
    },
    {
      "cell_type": "code",
      "source": [
        "solution(answers3)"
      ],
      "metadata": {
        "colab": {
          "base_uri": "https://localhost:8080/"
        },
        "id": "1tfWAT6MW1sY",
        "outputId": "2b0c9168-6565-406a-f926-e71449be4c2f"
      },
      "execution_count": 5,
      "outputs": [
        {
          "output_type": "execute_result",
          "data": {
            "text/plain": [
              "[1]"
            ]
          },
          "metadata": {},
          "execution_count": 5
        }
      ]
    },
    {
      "cell_type": "code",
      "source": [
        "solution(answers4)"
      ],
      "metadata": {
        "colab": {
          "base_uri": "https://localhost:8080/"
        },
        "id": "K56eNtZ_f0hx",
        "outputId": "8cd7d2f5-9d72-462e-82b1-e0525ecf8545"
      },
      "execution_count": 6,
      "outputs": [
        {
          "output_type": "execute_result",
          "data": {
            "text/plain": [
              "[2]"
            ]
          },
          "metadata": {},
          "execution_count": 6
        }
      ]
    },
    {
      "cell_type": "code",
      "source": [
        "solution(answers5)"
      ],
      "metadata": {
        "colab": {
          "base_uri": "https://localhost:8080/"
        },
        "id": "K7gbc8XOgHgZ",
        "outputId": "e8134098-7e23-4714-de60-47c71b837f46"
      },
      "execution_count": 7,
      "outputs": [
        {
          "output_type": "execute_result",
          "data": {
            "text/plain": [
              "[3]"
            ]
          },
          "metadata": {},
          "execution_count": 7
        }
      ]
    },
    {
      "cell_type": "code",
      "source": [
        ""
      ],
      "metadata": {
        "id": "R0zhg3UGgVHk"
      },
      "execution_count": 7,
      "outputs": []
    }
  ]
}
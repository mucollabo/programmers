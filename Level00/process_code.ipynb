{
 "cells": [
  {
   "cell_type": "markdown",
   "metadata": {},
   "source": [
    "### 문제 설명\n",
    "문자열 code가 주어집니다.\n",
    "code를 앞에서부터 읽으면서 만약 문자가 \"1\"이면 mode를 바꿉니다. mode에 따라 code를 읽어가면서 문자열 ret을 만들어냅니다.\n",
    "\n",
    "mode는 0과 1이 있으며, idx를 0 부터 code의 길이 - 1 까지 1씩 키워나가면서 code[idx]의 값에 따라 다음과 같이 행동합니다.\n",
    "\n",
    "* mode가 0일 때\n",
    "  * code[idx]가 \"1\"이 아니면 idx가 짝수일 때만 ret의 맨 뒤에 code[idx]를 추가합니다.\n",
    "  * code[idx]가 \"1\"이면 mode를 0에서 1로 바꿉니다.\n",
    "* mode가 1일 때\n",
    "  * code[idx]가 \"1\"이 아니면 idx가 홀수일 때만 ret의 맨 뒤에 code[idx]를 추가합니다.\n",
    "  * code[idx]가 \"1\"이면 mode를 1에서 0으로 바꿉니다.\n",
    "문자열 code를 통해 만들어진 문자열 ret를 return 하는 solution 함수를 완성해 주세요.\n",
    "\n",
    "단, 시작할 때 mode는 0이며, return 하려는 ret가 만약 빈 문자열이라면 대신 \"EMPTY\"를 return 합니다.\n",
    "\n",
    "### 제한사항\n",
    "* 1 ≤ code의 길이 ≤ 100,000\n",
    "  * code는 알파벳 소문자 또는 \"1\"로 이루어진 문자열입니다.\n",
    "\n",
    "### 입출력 예\n",
    "|code|result|\n",
    "|----|------|\n",
    "|\"abc1abc1abc\"|\"acbac\"|\n",
    "\n",
    "#### 입출력 예 설명\n",
    "#### 입출력 예 #1\n",
    "\n",
    "* code의 각 인덱스 i에 따라 다음과 같이 mode와 ret가 변합니다.\n",
    "\n",
    "|i|code[i]|mode|ret|\n",
    "|-|-------|----|---|\n",
    "|0|\"a\"|0|\"a\"|\n",
    "|1|\"b\"|0|\"a\"|\n",
    "|2|\"c\"|0|\"ac\"|\n",
    "|3|\"1\"|1|\"ac\"|\n",
    "|4|\"a\"|1|\"ac\"|\n",
    "|5|\"b\"|1|\"acb\"|\n",
    "|6|\"c\"|1|\"acb\"|\n",
    "|7|\"1\"|0|\"acb\"|\n",
    "|8|\"a\"|0|\"acba\"|\n",
    "|9|\"b\"|0|\"acba\"|\n",
    "|10|\"c\"|0|\"acbac\"|\n",
    "\n",
    "따라서 \"acbac\"를 return 합니다.\n",
    "\n",
    "※ 2023년 05월 18일 지문이 수정되었습니다."
   ]
  },
  {
   "cell_type": "code",
   "execution_count": 5,
   "metadata": {},
   "outputs": [],
   "source": [
    "def solution(code):\n",
    "    ret = ''\n",
    "    mode = 0\n",
    "    for i, c in enumerate(code):\n",
    "        if mode == 0:\n",
    "            if c != '1' and i % 2 == 0:\n",
    "                ret += c\n",
    "            elif c == '1':\n",
    "                mode = 1\n",
    "        else:\n",
    "            if c != '1' and i % 2 == 1:\n",
    "                ret += c\n",
    "            elif c == '1':\n",
    "                mode = 0\n",
    "    return ret if len(ret) > 0 else 'EMPTY'"
   ]
  },
  {
   "cell_type": "code",
   "execution_count": 6,
   "metadata": {},
   "outputs": [
    {
     "data": {
      "text/plain": [
       "'acbac'"
      ]
     },
     "execution_count": 6,
     "metadata": {},
     "output_type": "execute_result"
    }
   ],
   "source": [
    "solution(\"abc1abc1abc\")"
   ]
  },
  {
   "cell_type": "code",
   "execution_count": 7,
   "metadata": {},
   "outputs": [],
   "source": [
    "def solution2(code):\n",
    "    return ''.join(code.split('1')[::2]) or 'EMPTY'"
   ]
  },
  {
   "cell_type": "code",
   "execution_count": 8,
   "metadata": {},
   "outputs": [
    {
     "data": {
      "text/plain": [
       "'abcabc'"
      ]
     },
     "execution_count": 8,
     "metadata": {},
     "output_type": "execute_result"
    }
   ],
   "source": [
    "solution2(\"abc1abc1abc\")"
   ]
  }
 ],
 "metadata": {
  "kernelspec": {
   "display_name": "Python 3",
   "language": "python",
   "name": "python3"
  },
  "language_info": {
   "codemirror_mode": {
    "name": "ipython",
    "version": 3
   },
   "file_extension": ".py",
   "mimetype": "text/x-python",
   "name": "python",
   "nbconvert_exporter": "python",
   "pygments_lexer": "ipython3",
   "version": "3.12.1"
  }
 },
 "nbformat": 4,
 "nbformat_minor": 2
}

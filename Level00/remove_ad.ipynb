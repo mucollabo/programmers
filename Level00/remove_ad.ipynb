{
 "cells": [
  {
   "cell_type": "markdown",
   "id": "55891298-c192-4d32-928b-1c257c13d98b",
   "metadata": {},
   "source": [
    "### 문제 설명\n",
    "\n",
    "문자열 배열 strArr가 주어집니다. 배열 내의 문자열 중 \"ad\"라는 부분 문자열을 포함하고 있는 모든 문자열을 제거하고 남은 문자열을 순서를 유지하여 배열로 return 하는 solution 함수를 완성해 주세요.\n",
    "### 제한사항\n",
    "* 1 ≤ strArr의 길이 ≤ 1,000\n",
    "  * 1 ≤ strArr의 원소의 길이 ≤ 20\n",
    "  * strArr의 원소는 알파벳 소문자로 이루어진 문자열입니다.\n",
    "### 입출력 예\n",
    "|strArr|result|\n",
    "|------|------|\n",
    "|[\"and\",\"notad\",\"abcd\"]|[\"and\",\"abcd\"]|\n",
    "|[\"there\",\"are\",\"no\",\"a\",\"ds\"]|[\"there\",\"are\",\"no\",\"a\",\"ds\"]|\n",
    "### 입출력 예 설명\n",
    "#### 입출력 예 #1\n",
    "* 1번 인덱스의 문자열인 \"notad\"는 부분 문자열로 \"ad\"를 가집니다. 따라서 해당 문자열을 제거하고 나머지는 순서를 유지하여 [\"and\",\"abcd\"]를 return 합니다.\n",
    "#### 입출력 예 #2\n",
    "* \"ad\"가 부분 문자열로 들어간 문자열이 존재하지 않습니다. 따라서 원래 배열을 그대로 return 합니다."
   ]
  },
  {
   "cell_type": "code",
   "execution_count": 12,
   "id": "c09ec6d7-c94c-4f02-bf37-040c0a91e13f",
   "metadata": {},
   "outputs": [],
   "source": [
    "def solution(strArr):\n",
    "    r = strArr.copy()\n",
    "    for s in strArr:\n",
    "        for i in range(len(s) - 1):\n",
    "            if s[i:i+2] == 'ad':\n",
    "                r.remove(s)\n",
    "                break\n",
    "    return r"
   ]
  },
  {
   "cell_type": "code",
   "execution_count": 13,
   "id": "a7a44b66-29a8-456b-a924-ffa2240943c4",
   "metadata": {},
   "outputs": [
    {
     "data": {
      "text/plain": [
       "['and', 'abcd']"
      ]
     },
     "execution_count": 13,
     "metadata": {},
     "output_type": "execute_result"
    }
   ],
   "source": [
    "solution([\"and\",\"notad\",\"abcd\"])"
   ]
  },
  {
   "cell_type": "code",
   "execution_count": 14,
   "id": "b5c87e95-7b53-435b-b71d-acc9b6c1c837",
   "metadata": {},
   "outputs": [
    {
     "data": {
      "text/plain": [
       "['there', 'are', 'no', 'a', 'ds']"
      ]
     },
     "execution_count": 14,
     "metadata": {},
     "output_type": "execute_result"
    }
   ],
   "source": [
    "solution([\"there\",\"are\",\"no\",\"a\",\"ds\"])"
   ]
  },
  {
   "cell_type": "code",
   "execution_count": null,
   "id": "3b7cb84f-3673-48ae-a175-09dd26232669",
   "metadata": {},
   "outputs": [],
   "source": []
  }
 ],
 "metadata": {
  "kernelspec": {
   "display_name": "Python 3 (ipykernel)",
   "language": "python",
   "name": "python3"
  },
  "language_info": {
   "codemirror_mode": {
    "name": "ipython",
    "version": 3
   },
   "file_extension": ".py",
   "mimetype": "text/x-python",
   "name": "python",
   "nbconvert_exporter": "python",
   "pygments_lexer": "ipython3",
   "version": "3.11.6"
  }
 },
 "nbformat": 4,
 "nbformat_minor": 5
}

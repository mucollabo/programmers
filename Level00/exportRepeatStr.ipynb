{
 "cells": [
  {
   "cell_type": "markdown",
   "id": "c2551774-6b38-42f3-ab5d-55940a77b694",
   "metadata": {},
   "source": [
    "# 문자 반복 출력하기\n",
    "## 문제 설명\n",
    "### 문자열 my_string과 정수 n이 매개변수로 주어질 때, my_string에 들어있는 각 문자를 n만큼 반복한 문자열을 return 하도록 solution 함수를 완성해보세요.\n",
    "\n",
    "## 제한사항\n",
    "* 2 ≤ my_string 길이 ≤ 5\n",
    "* 2 ≤ n ≤ 10\n",
    "* \"my_string\"은 영어 대소문자로 이루어져 있습니다.\n",
    "## 입출력 예\n",
    "|my_string|n|result|\n",
    "|---------|-|------|\n",
    "|\"hello\"|3|\"hhheeellllllooo\"|\n",
    "## 입출력 예 설명\n",
    "## 입출력 예 #1\n",
    "\n",
    "* \"hello\"의 각 문자를 세 번씩 반복한 \"hhheeellllllooo\"를 return 합니다."
   ]
  },
  {
   "cell_type": "code",
   "execution_count": 28,
   "id": "6fbc0646-e250-4a31-9c81-f8ada4160a9a",
   "metadata": {},
   "outputs": [],
   "source": [
    "def solution(my_string, n):\n",
    "    return ''.join(string*n for string in my_string)"
   ]
  },
  {
   "cell_type": "code",
   "execution_count": 29,
   "id": "8dfd814e-f94f-4ff0-8567-575ea3de6706",
   "metadata": {},
   "outputs": [
    {
     "data": {
      "text/plain": [
       "'hhheeellllllooo'"
      ]
     },
     "execution_count": 29,
     "metadata": {},
     "output_type": "execute_result"
    }
   ],
   "source": [
    "solution('hello', 3)"
   ]
  },
  {
   "cell_type": "code",
   "execution_count": null,
   "id": "64ca8551-a100-4849-ac13-c1076e7e3699",
   "metadata": {},
   "outputs": [],
   "source": []
  }
 ],
 "metadata": {
  "kernelspec": {
   "display_name": "Python 3 (ipykernel)",
   "language": "python",
   "name": "python3"
  },
  "language_info": {
   "codemirror_mode": {
    "name": "ipython",
    "version": 3
   },
   "file_extension": ".py",
   "mimetype": "text/x-python",
   "name": "python",
   "nbconvert_exporter": "python",
   "pygments_lexer": "ipython3",
   "version": "3.10.6"
  }
 },
 "nbformat": 4,
 "nbformat_minor": 5
}

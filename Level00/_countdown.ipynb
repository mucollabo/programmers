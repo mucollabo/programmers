{
 "cells": [
  {
   "cell_type": "markdown",
   "id": "13b03291-c611-4f04-a12c-61d1bc90f550",
   "metadata": {},
   "source": [
    "## 카운트 다운\n",
    "### 문제 설명\n",
    "#### 정수 start_num와 end_num가 주어질 때, start_num에서 end_num까지 1씩 감소하는 수들을 차례로 담은 리스트를 return하도록 solution 함수를 완성해주세요.\n",
    "\n",
    "### 제한사항\n",
    "* 0 ≤ end_num ≤ start_num ≤ 50\n",
    "### 입출력 예\n",
    "|start_num|end_num|result|\n",
    "|---------|-------|------|\n",
    "|10|3|[10, 9, 8, 7, 6, 5, 4, 3]|\n",
    "### 입출력 예 설명\n",
    "#### 입출력 예 #1\n",
    "\n",
    "* 10부터 3까지 1씩 감소하는 수를 담은 리스트는 [10, 9, 8, 7, 6, 5, 4, 3]입니다."
   ]
  },
  {
   "cell_type": "code",
   "execution_count": 22,
   "id": "aa0cee23-98db-43b3-9282-79240bd03bcd",
   "metadata": {},
   "outputs": [],
   "source": [
    "def solution(s, e):\n",
    "    return list(range(s, e-1, -1))"
   ]
  },
  {
   "cell_type": "code",
   "execution_count": 23,
   "id": "c6ae35a5-13ce-45fe-9fae-802be89e6c2a",
   "metadata": {},
   "outputs": [
    {
     "data": {
      "text/plain": [
       "[10, 9, 8, 7, 6, 5, 4, 3]"
      ]
     },
     "execution_count": 23,
     "metadata": {},
     "output_type": "execute_result"
    }
   ],
   "source": [
    "solution(10, 3)"
   ]
  },
  {
   "cell_type": "code",
   "execution_count": null,
   "id": "6cabfa92-0b17-405c-a989-1216823d9bdd",
   "metadata": {},
   "outputs": [],
   "source": []
  }
 ],
 "metadata": {
  "kernelspec": {
   "display_name": "Python 3 (ipykernel)",
   "language": "python",
   "name": "python3"
  },
  "language_info": {
   "codemirror_mode": {
    "name": "ipython",
    "version": 3
   },
   "file_extension": ".py",
   "mimetype": "text/x-python",
   "name": "python",
   "nbconvert_exporter": "python",
   "pygments_lexer": "ipython3",
   "version": "3.11.6"
  }
 },
 "nbformat": 4,
 "nbformat_minor": 5
}

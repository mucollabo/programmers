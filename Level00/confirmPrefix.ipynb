{
 "cells": [
  {
   "cell_type": "markdown",
   "id": "d470cd45-fc66-4cfd-97c7-32afa88a511d",
   "metadata": {},
   "source": [
    "## 접두사인지 확인하기\n",
    "### 문제 설명\n",
    "#### 어떤 문자열에 대해서 접두사는 특정 인덱스까지의 문자열을 의미합니다. 예를 들어, \"banana\"의 모든 접두사는 \"b\", \"ba\", \"ban\", \"bana\", \"banan\", \"banana\"입니다.\n",
    "#### 문자열 my_string과 is_prefix가 주어질 때, is_prefix가 my_string의 접두사라면 1을, 아니면 0을 return 하는 solution 함수를 작성해 주세요.\n",
    "\n",
    "### 제한사항\n",
    "* 1 ≤ my_string의 길이 ≤ 100\n",
    "* 1 ≤ is_prefix의 길이 ≤ 100\n",
    "* my_string과 is_prefix는 영소문자로만 이루어져 있습니다.\n",
    "### 입출력 예\n",
    "|my_string|is_prefix|result|\n",
    "|---------|---------|------|\n",
    "|\"banana\"|\"ban\"|1|\n",
    "|\"banana\"|\"nan\"|0|\n",
    "|\"banana\"|\"abcd\"|0|\n",
    "|\"banana\"|\"bananan\"|0|\n",
    "### 입출력 예 설명\n",
    "#### 입출력 예 #1\n",
    "\n",
    "* 예제 1번에서 is_prefix가 my_string의 접두사이기 때문에 1을 return 합니다.\n",
    "#### 입출력 예 #2\n",
    "\n",
    "* 예제 2번에서 is_prefix가 my_string의 접두사가 아니기 때문에 0을 return 합니다.\n",
    "#### 입출력 예 #3\n",
    "\n",
    "* 예제 3번에서 is_prefix가 my_string의 접두사가 아니기 때문에 0을 return 합니다.\n",
    "#### 입출력 예 #4\n",
    "\n",
    "* 예제 4번에서 is_prefix가 my_string의 접두사가 아니기 때문에 0을 return 합니다."
   ]
  },
  {
   "cell_type": "code",
   "execution_count": 43,
   "id": "95b7ab19-bcef-49a9-9833-95ce7d59bccd",
   "metadata": {},
   "outputs": [],
   "source": [
    "def solution(s, p):\n",
    "    return 1 if s.startswith(p) else 0"
   ]
  },
  {
   "cell_type": "code",
   "execution_count": 44,
   "id": "f1e38f06-0b41-4f65-96c7-a0953731c8bb",
   "metadata": {},
   "outputs": [
    {
     "data": {
      "text/plain": [
       "1"
      ]
     },
     "execution_count": 44,
     "metadata": {},
     "output_type": "execute_result"
    }
   ],
   "source": [
    "solution(\"banana\", \"ban\")"
   ]
  },
  {
   "cell_type": "code",
   "execution_count": 45,
   "id": "06f2453e-c8ba-4aaa-afdf-ac1e225893ea",
   "metadata": {},
   "outputs": [
    {
     "data": {
      "text/plain": [
       "0"
      ]
     },
     "execution_count": 45,
     "metadata": {},
     "output_type": "execute_result"
    }
   ],
   "source": [
    "solution(\"banana\", 'nan')"
   ]
  },
  {
   "cell_type": "code",
   "execution_count": 46,
   "id": "eefb1c7b-c14d-42cc-aadf-eecd98399e86",
   "metadata": {},
   "outputs": [
    {
     "data": {
      "text/plain": [
       "0"
      ]
     },
     "execution_count": 46,
     "metadata": {},
     "output_type": "execute_result"
    }
   ],
   "source": [
    "solution(\"banana\", 'abcd')"
   ]
  },
  {
   "cell_type": "code",
   "execution_count": 47,
   "id": "5859896e-34ee-46b2-aa3c-3ea460bea0aa",
   "metadata": {},
   "outputs": [
    {
     "data": {
      "text/plain": [
       "0"
      ]
     },
     "execution_count": 47,
     "metadata": {},
     "output_type": "execute_result"
    }
   ],
   "source": [
    "solution(\"banana\", 'bananan')"
   ]
  },
  {
   "cell_type": "code",
   "execution_count": 48,
   "id": "b1fc6162-702c-4246-b209-0b228a364aac",
   "metadata": {},
   "outputs": [
    {
     "data": {
      "text/plain": [
       "0"
      ]
     },
     "execution_count": 48,
     "metadata": {},
     "output_type": "execute_result"
    }
   ],
   "source": [
    "solution(\"aaabbbaaa\", \"ab\")"
   ]
  },
  {
   "cell_type": "code",
   "execution_count": null,
   "id": "26221d8b-4987-420d-9d5e-c34d9f7f9ab7",
   "metadata": {},
   "outputs": [],
   "source": []
  }
 ],
 "metadata": {
  "kernelspec": {
   "display_name": "Python 3 (ipykernel)",
   "language": "python",
   "name": "python3"
  },
  "language_info": {
   "codemirror_mode": {
    "name": "ipython",
    "version": 3
   },
   "file_extension": ".py",
   "mimetype": "text/x-python",
   "name": "python",
   "nbconvert_exporter": "python",
   "pygments_lexer": "ipython3",
   "version": "3.11.6"
  }
 },
 "nbformat": 4,
 "nbformat_minor": 5
}

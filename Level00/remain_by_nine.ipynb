{
 "cells": [
  {
   "cell_type": "markdown",
   "id": "9cec8b95-e5f5-44bc-ae87-b46a1b2a8284",
   "metadata": {},
   "source": [
    "### 문제 설명\n",
    "음이 아닌 정수를 9로 나눈 나머지는 그 정수의 각 자리 숫자의 합을 9로 나눈 나머지와 같은 것이 알려져 있습니다.\n",
    "이 사실을 이용하여 음이 아닌 정수가 문자열 number로 주어질 때, 이 정수를 9로 나눈 나머지를 return 하는 solution 함수를 작성해주세요.\n",
    "\n",
    "### 제한사항\n",
    "* 1 ≤ number의 길이 ≤ 100,000\n",
    "* number의 원소는 숫자로만 이루어져 있습니다.\n",
    "* number는 정수 0이 아니라면 숫자 '0'으로 시작하지 않습니다.\n",
    "### 입출력 예\n",
    "|number|result|\n",
    "|------|------|\n",
    "|\"123\"|6|\n",
    "|\"78720646226947352489\"|2|\n",
    "### 입출력 예 설명\n",
    "#### 입출력 예 #1\n",
    "\n",
    "* 예제 1번의 number는 123으로 각 자리 숫자의 합은 6입니다. 6을 9로 나눈 나머지는 6이고, 실제로 123 = 9 × 13 + 6입니다. 따라서 6을 return 합니다.\n",
    "#### 입출력 예 #2\n",
    "\n",
    "* 예제 2번의 number는 78720646226947352489으로 각자리 숫자의 합은 101입니다. 101을 9로 나눈 나머지는 2이고, 실제로 78720646226947352489 = 9 × 8746738469660816943 + 2입니다. 따라서 2를 return 합니다."
   ]
  },
  {
   "cell_type": "code",
   "execution_count": 17,
   "id": "ac168acc-2af8-40d9-af96-1266c880c5e3",
   "metadata": {},
   "outputs": [],
   "source": [
    "from functools import reduce\n",
    "def solution(number):\n",
    "    return reduce(lambda x, y: int(x) + int(y), number)%9"
   ]
  },
  {
   "cell_type": "code",
   "execution_count": 18,
   "id": "29e3ff97-8eae-4ac2-8076-0b1029073bf8",
   "metadata": {},
   "outputs": [
    {
     "data": {
      "text/plain": [
       "6"
      ]
     },
     "execution_count": 18,
     "metadata": {},
     "output_type": "execute_result"
    }
   ],
   "source": [
    "solution(\"123\")"
   ]
  },
  {
   "cell_type": "code",
   "execution_count": 19,
   "id": "acaa7c2f-e93f-4fcb-a09c-504b46ee638a",
   "metadata": {},
   "outputs": [
    {
     "data": {
      "text/plain": [
       "2"
      ]
     },
     "execution_count": 19,
     "metadata": {},
     "output_type": "execute_result"
    }
   ],
   "source": [
    "solution(\"78720646226947352489\")"
   ]
  },
  {
   "cell_type": "code",
   "execution_count": 30,
   "id": "b52e6110-5b45-4372-bafa-797ca8d5883c",
   "metadata": {},
   "outputs": [],
   "source": [
    "def solution2(number):\n",
    "    return sum(map(lambda x: int(x), list(number)))%9"
   ]
  },
  {
   "cell_type": "code",
   "execution_count": 31,
   "id": "7f27b030-bc72-46e0-8686-f15da0308840",
   "metadata": {},
   "outputs": [
    {
     "data": {
      "text/plain": [
       "6"
      ]
     },
     "execution_count": 31,
     "metadata": {},
     "output_type": "execute_result"
    }
   ],
   "source": [
    "solution2(\"123\")"
   ]
  },
  {
   "cell_type": "code",
   "execution_count": 32,
   "id": "c2b97097-aade-4cb8-b1c4-3d8f96dbdaca",
   "metadata": {},
   "outputs": [
    {
     "data": {
      "text/plain": [
       "2"
      ]
     },
     "execution_count": 32,
     "metadata": {},
     "output_type": "execute_result"
    }
   ],
   "source": [
    "solution2(\"78720646226947352489\")"
   ]
  },
  {
   "cell_type": "code",
   "execution_count": 33,
   "id": "5171af0c-b56e-4b0c-ab75-29c9f71ebbb1",
   "metadata": {},
   "outputs": [
    {
     "data": {
      "text/plain": [
       "0"
      ]
     },
     "execution_count": 33,
     "metadata": {},
     "output_type": "execute_result"
    }
   ],
   "source": [
    "solution2(\"0\")"
   ]
  },
  {
   "cell_type": "code",
   "execution_count": null,
   "id": "fe6c5bbb-988c-4b53-9570-20a69c29afa4",
   "metadata": {},
   "outputs": [],
   "source": []
  }
 ],
 "metadata": {
  "kernelspec": {
   "display_name": "Python 3 (ipykernel)",
   "language": "python",
   "name": "python3"
  },
  "language_info": {
   "codemirror_mode": {
    "name": "ipython",
    "version": 3
   },
   "file_extension": ".py",
   "mimetype": "text/x-python",
   "name": "python",
   "nbconvert_exporter": "python",
   "pygments_lexer": "ipython3",
   "version": "3.11.6"
  }
 },
 "nbformat": 4,
 "nbformat_minor": 5
}

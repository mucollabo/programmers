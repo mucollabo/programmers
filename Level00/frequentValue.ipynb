{
 "cells": [
  {
   "cell_type": "markdown",
   "id": "a6504780-1a1b-4b38-8a0c-17e53cf617b3",
   "metadata": {},
   "source": [
    "# 최빈값 구하기\n",
    "## 문제 설명\n",
    "### 최빈값은 주어진 값 중에서 가장 자주 나오는 값을 의미합니다. 정수 배열 array가 매개변수로 주어질 때, 최빈값을 return 하도록 solution 함수를 완성해보세요. 최빈값이 여러 개면 -1을 return 합니다.\n",
    "\n",
    "## 제한사항\n",
    "* 0 < array의 길이 < 100\n",
    "* 0 ≤ array의 원소 < 1000\n",
    "## 입출력 예\n",
    "|array|result|\n",
    "|-----|------|\n",
    "|[1, 2, 3, 3, 3, 4]|3|\n",
    "|[1, 1, 2, 2]|-1|\n",
    "|[1]|1|\n",
    "## 입출력 예 설명\n",
    "## 입출력 예 #1\n",
    "\n",
    "* [1, 2, 3, 3, 3, 4]에서 1은 1개 2는 1개 3은 3개 4는 1개로 최빈값은 3입니다.\n",
    "## 입출력 예 #2\n",
    "\n",
    "* [1, 1, 2, 2]에서 1은 2개 2는 2개로 최빈값이 1, 2입니다. 최빈값이 여러 개이므로 -1을 return 합니다.\n",
    "## 입출력 예 #3\n",
    "\n",
    "* [1]에는 1만 있으므로 최빈값은 1입니다.\n",
    "\n",
    "<br><br>※ 공지 - 2022년 10월 17일 제한 사항 및 테스트케이스가 수정되었습니다."
   ]
  },
  {
   "cell_type": "code",
   "execution_count": 38,
   "id": "dd1e5e97-ce37-4056-bba8-92354b4221d0",
   "metadata": {},
   "outputs": [],
   "source": [
    "def solution(array):\n",
    "    fv = sorted(((e,array.count(e)) for e in set(array)), key=lambda x: x[1])\n",
    "    return fv[-1][0] if len(fv) == 1 or fv[-1][1] != fv[len(fv)-2][1] else -1"
   ]
  },
  {
   "cell_type": "code",
   "execution_count": 39,
   "id": "d8a14b51-b736-482d-8847-d90e3d4417e4",
   "metadata": {},
   "outputs": [
    {
     "data": {
      "text/plain": [
       "3"
      ]
     },
     "execution_count": 39,
     "metadata": {},
     "output_type": "execute_result"
    }
   ],
   "source": [
    "solution([1,2,3,3,3,4])"
   ]
  },
  {
   "cell_type": "code",
   "execution_count": 40,
   "id": "977acc53-f35b-4da3-ab5a-e5f7daa55d00",
   "metadata": {},
   "outputs": [
    {
     "data": {
      "text/plain": [
       "-1"
      ]
     },
     "execution_count": 40,
     "metadata": {},
     "output_type": "execute_result"
    }
   ],
   "source": [
    "solution([1, 1, 2, 2])"
   ]
  },
  {
   "cell_type": "code",
   "execution_count": 41,
   "id": "18ea84c4-b8e6-43be-b810-a1eeb76bcc31",
   "metadata": {},
   "outputs": [
    {
     "data": {
      "text/plain": [
       "1"
      ]
     },
     "execution_count": 41,
     "metadata": {},
     "output_type": "execute_result"
    }
   ],
   "source": [
    "solution([1])"
   ]
  },
  {
   "cell_type": "code",
   "execution_count": 91,
   "id": "79de4b41-f0a9-4c3b-875a-5b16a6e95f7b",
   "metadata": {},
   "outputs": [],
   "source": [
    "from collections import Counter\n",
    "\n",
    "def solution2(array):\n",
    "    fv = sorted(Counter(array).items(), key=lambda x: x[1])\n",
    "    return fv[-1][0] if len(fv) == 1 or fv[-1][1] != fv[len(fv)-2][1] else -1"
   ]
  },
  {
   "cell_type": "code",
   "execution_count": 92,
   "id": "c6e6efda-d386-4166-b0c0-95a0416900c9",
   "metadata": {},
   "outputs": [
    {
     "data": {
      "text/plain": [
       "3"
      ]
     },
     "execution_count": 92,
     "metadata": {},
     "output_type": "execute_result"
    }
   ],
   "source": [
    "solution2([1,2,3,3,3,4])"
   ]
  },
  {
   "cell_type": "code",
   "execution_count": 93,
   "id": "b7e1f3cf-9b62-49fb-9c6b-c5973850f4b1",
   "metadata": {},
   "outputs": [
    {
     "data": {
      "text/plain": [
       "-1"
      ]
     },
     "execution_count": 93,
     "metadata": {},
     "output_type": "execute_result"
    }
   ],
   "source": [
    "solution2([1, 1, 2, 2])"
   ]
  },
  {
   "cell_type": "code",
   "execution_count": 94,
   "id": "8d271095-9918-41a1-81c2-f8863dcd3015",
   "metadata": {},
   "outputs": [
    {
     "data": {
      "text/plain": [
       "1"
      ]
     },
     "execution_count": 94,
     "metadata": {},
     "output_type": "execute_result"
    }
   ],
   "source": [
    "solution([1])"
   ]
  },
  {
   "cell_type": "code",
   "execution_count": null,
   "id": "a9abc835-d45a-47f5-bdfd-ea23efd03aee",
   "metadata": {},
   "outputs": [],
   "source": []
  }
 ],
 "metadata": {
  "kernelspec": {
   "display_name": "Python 3 (ipykernel)",
   "language": "python",
   "name": "python3"
  },
  "language_info": {
   "codemirror_mode": {
    "name": "ipython",
    "version": 3
   },
   "file_extension": ".py",
   "mimetype": "text/x-python",
   "name": "python",
   "nbconvert_exporter": "python",
   "pygments_lexer": "ipython3",
   "version": "3.10.6"
  }
 },
 "nbformat": 4,
 "nbformat_minor": 5
}

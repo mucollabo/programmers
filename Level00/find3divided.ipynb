{
 "cells": [
  {
   "cell_type": "markdown",
   "id": "573abbec-dd92-43e0-a57f-e3986cebf1a6",
   "metadata": {},
   "source": [
    "# 합성수 찾기\n",
    "## 문제 설명\n",
    "### 약수의 개수가 세 개 이상인 수를 합성수라고 합니다. 자연수 n이 매개변수로 주어질 때 n이하의 합성수의 개수를 return하도록 solution 함수를 완성해주세요.\n",
    "\n",
    "## 제한사항\n",
    "* 1 ≤ n ≤ 100\n",
    "## 입출력 예\n",
    "|n|result|\n",
    "|-|------|\n",
    "|10|5|\n",
    "|15|8|\n",
    "## 입출력 예 설명\n",
    "## 입출력 예 #1\n",
    "\n",
    "* 10 이하 합성수는 4, 6, 8, 9, 10 로 5개입니다. 따라서 5를 return합니다.\n",
    "## 입출력 예 #1\n",
    "\n",
    "* 15 이하 합성수는 4, 6, 8, 9, 10, 12, 14, 15 로 8개입니다. 따라서 8을 return합니다."
   ]
  },
  {
   "cell_type": "code",
   "execution_count": 1,
   "id": "6a42c342-eb6b-464d-8779-c474a32a0e76",
   "metadata": {},
   "outputs": [],
   "source": [
    "def solution(n):\n",
    "    result = 0\n",
    "    for i in range(4, n+1):\n",
    "        cnt = 0\n",
    "        for j in range(1, i+1):\n",
    "            if i%j == 0:\n",
    "                cnt += 1\n",
    "        if cnt >= 3:\n",
    "            result += 1\n",
    "    return result"
   ]
  },
  {
   "cell_type": "code",
   "execution_count": 2,
   "id": "c75ddef6-058b-4f91-abc4-9d95779eccfe",
   "metadata": {},
   "outputs": [
    {
     "data": {
      "text/plain": [
       "5"
      ]
     },
     "execution_count": 2,
     "metadata": {},
     "output_type": "execute_result"
    }
   ],
   "source": [
    "solution(10)"
   ]
  },
  {
   "cell_type": "code",
   "execution_count": 3,
   "id": "abfc40b2-a09b-4363-bc09-67c10d12435b",
   "metadata": {},
   "outputs": [
    {
     "data": {
      "text/plain": [
       "8"
      ]
     },
     "execution_count": 3,
     "metadata": {},
     "output_type": "execute_result"
    }
   ],
   "source": [
    "solution(15)"
   ]
  },
  {
   "cell_type": "code",
   "execution_count": null,
   "id": "3ade34c3-0287-43da-bc53-db98902fa1b8",
   "metadata": {},
   "outputs": [],
   "source": []
  }
 ],
 "metadata": {
  "kernelspec": {
   "display_name": "Python 3 (ipykernel)",
   "language": "python",
   "name": "python3"
  },
  "language_info": {
   "codemirror_mode": {
    "name": "ipython",
    "version": 3
   },
   "file_extension": ".py",
   "mimetype": "text/x-python",
   "name": "python",
   "nbconvert_exporter": "python",
   "pygments_lexer": "ipython3",
   "version": "3.10.6"
  }
 },
 "nbformat": 4,
 "nbformat_minor": 5
}

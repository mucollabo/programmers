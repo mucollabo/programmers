{
 "cells": [
  {
   "cell_type": "markdown",
   "id": "b2d03e3a-4718-4de7-b940-f9c8d0a65868",
   "metadata": {},
   "source": [
    "### 문제 설명\n",
    "\n",
    "정수 배열 arr와 자연수 k가 주어집니다.\n",
    "만약 k가 홀수라면 arr의 모든 원소에 k를 곱하고, k가 짝수라면 arr의 모든 원소에 k를 더합니다.\n",
    "이러한 변환을 마친 후의 arr를 return 하는 solution 함수를 완성해 주세요.\n",
    "### 제한사항\n",
    "1 ≤ arr의 길이 ≤ 1,000,000\n",
    "1 ≤ arr의 원소의 값 ≤ 100\n",
    "1 ≤ k ≤ 100\n",
    "### 입출력 예\n",
    "|arr|k|result|\n",
    "|---|-|------|\n",
    "|[1, 2, 3, 100, 99, 98]|3|[3, 6, 9, 300, 297, 294]|\n",
    "|[1, 2, 3, 100, 99, 98]|2|[3, 4, 5, 102, 101, 100]|\n",
    "### 입출력 예 설명\n",
    "#### 입출력 예 #1\n",
    "* 주어진 k인 3은 홀수이므로, 전체 배열에 3을 곱합니다. 따라서 [3, 6, 9, 300, 297, 294]을 return 합니다.\n",
    "#### 입출력 예 #2\n",
    "* 주어진 k인 2는 짝수이므로, 전체 배열에 2를 더합니다. 따라서 [3, 4, 5, 102, 101, 100]을 return 합니다."
   ]
  },
  {
   "cell_type": "code",
   "execution_count": 25,
   "id": "15e20a4f-de61-4cbe-b7f9-3fb95a58f8d7",
   "metadata": {},
   "outputs": [],
   "source": [
    "def solution(arr, k):\n",
    "    return [a+k if k%2 == 0 else a*k for a in arr]"
   ]
  },
  {
   "cell_type": "code",
   "execution_count": 26,
   "id": "eab59b20-87b8-4c6e-833b-5bcb323fbb80",
   "metadata": {},
   "outputs": [
    {
     "data": {
      "text/plain": [
       "[3, 6, 9, 300, 297, 294]"
      ]
     },
     "execution_count": 26,
     "metadata": {},
     "output_type": "execute_result"
    }
   ],
   "source": [
    "solution([1, 2, 3, 100, 99, 98], 3)"
   ]
  },
  {
   "cell_type": "code",
   "execution_count": null,
   "id": "ef9d76f3-73c6-493c-8d5c-df3850876ab4",
   "metadata": {},
   "outputs": [],
   "source": []
  }
 ],
 "metadata": {
  "kernelspec": {
   "display_name": "Python 3 (ipykernel)",
   "language": "python",
   "name": "python3"
  },
  "language_info": {
   "codemirror_mode": {
    "name": "ipython",
    "version": 3
   },
   "file_extension": ".py",
   "mimetype": "text/x-python",
   "name": "python",
   "nbconvert_exporter": "python",
   "pygments_lexer": "ipython3",
   "version": "3.11.6"
  }
 },
 "nbformat": 4,
 "nbformat_minor": 5
}

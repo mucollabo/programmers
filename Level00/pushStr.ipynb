{
 "cells": [
  {
   "cell_type": "markdown",
   "id": "4293a66e-eafd-4983-90b0-b4351211efbd",
   "metadata": {},
   "source": [
    "# 문자열 밀기\n",
    "## 문제 설명\n",
    "### 문자열 \"hello\"에서 각 문자를 오른쪽으로 한 칸씩 밀고 마지막 문자는 맨 앞으로 이동시키면 \"ohell\"이 됩니다. 이것을 문자열을 민다고 정의한다면 문자열 A와 B가 매개변수로 주어질 때, A를 밀어서 B가 될 수 있다면 몇 번 밀어야 하는지 횟수를 return하고 밀어서 B가 될 수 없으면 -1을 return 하도록 solution 함수를 완성해보세요.\n",
    "\n",
    "## 제한사항\n",
    "* 0 < A의 길이 = B의 길이 < 100\n",
    "* A, B는 알파벳 소문자로 이루어져 있습니다.\n",
    "## 입출력 예\n",
    "|A|B|result|\n",
    "|-|-|------|\n",
    "|\"hello\"|\"ohell\"|1|\n",
    "|\"apple\"|\"elppa\"|-1|\n",
    "## 입출력 예 설명\n",
    "## 입출력 예 #1\n",
    "\n",
    "* \"hello\"를 오른쪽으로 한 칸 밀면 \"ohell\"가 됩니다.\n",
    "## 입출력 예 #2\n",
    "\n",
    "* \"apple\"은 몇 번을 밀어도 \"elppa\"가 될 수 없습니다."
   ]
  },
  {
   "cell_type": "code",
   "execution_count": 20,
   "id": "9f007d38-4bcd-4308-a1cb-afb68d92becd",
   "metadata": {},
   "outputs": [],
   "source": [
    "from collections import deque\n",
    "\n",
    "def solution(A, B):\n",
    "    dq = deque(A)\n",
    "    cnt = 0\n",
    "    for i in range(len(dq)):\n",
    "        if B == ''.join(dq):\n",
    "            return cnt\n",
    "        dq.rotate(1)\n",
    "        cnt += 1\n",
    "    return -1"
   ]
  },
  {
   "cell_type": "code",
   "execution_count": 21,
   "id": "1c6cc387-5bd7-4778-a6a5-a0949f66aaa2",
   "metadata": {},
   "outputs": [
    {
     "data": {
      "text/plain": [
       "1"
      ]
     },
     "execution_count": 21,
     "metadata": {},
     "output_type": "execute_result"
    }
   ],
   "source": [
    "solution(\"hello\", \"ohell\")"
   ]
  },
  {
   "cell_type": "code",
   "execution_count": 22,
   "id": "224c16b2-c442-4442-9ce9-edb5a7cb8e0c",
   "metadata": {},
   "outputs": [
    {
     "data": {
      "text/plain": [
       "-1"
      ]
     },
     "execution_count": 22,
     "metadata": {},
     "output_type": "execute_result"
    }
   ],
   "source": [
    "solution(\"apple\", \"elppa\")"
   ]
  },
  {
   "cell_type": "code",
   "execution_count": 30,
   "id": "c4a27baf-290c-49ba-bcc3-48e28de50f1b",
   "metadata": {},
   "outputs": [],
   "source": [
    "solution2=lambda a, b: (b*2).find(a)"
   ]
  },
  {
   "cell_type": "code",
   "execution_count": 31,
   "id": "c9db27ec-fbf5-47c3-9176-59bee3b6e262",
   "metadata": {},
   "outputs": [
    {
     "data": {
      "text/plain": [
       "1"
      ]
     },
     "execution_count": 31,
     "metadata": {},
     "output_type": "execute_result"
    }
   ],
   "source": [
    "solution2(\"hello\", \"ohell\")"
   ]
  },
  {
   "cell_type": "code",
   "execution_count": 32,
   "id": "8416e88a-4f44-4143-a2dd-23b788d896ea",
   "metadata": {},
   "outputs": [
    {
     "data": {
      "text/plain": [
       "-1"
      ]
     },
     "execution_count": 32,
     "metadata": {},
     "output_type": "execute_result"
    }
   ],
   "source": [
    "solution2(\"apple\", \"elppa\")"
   ]
  },
  {
   "cell_type": "code",
   "execution_count": null,
   "id": "2ba9fe98-93fa-4af7-8ba5-31d6284bf5df",
   "metadata": {},
   "outputs": [],
   "source": []
  }
 ],
 "metadata": {
  "kernelspec": {
   "display_name": "Python 3 (ipykernel)",
   "language": "python",
   "name": "python3"
  },
  "language_info": {
   "codemirror_mode": {
    "name": "ipython",
    "version": 3
   },
   "file_extension": ".py",
   "mimetype": "text/x-python",
   "name": "python",
   "nbconvert_exporter": "python",
   "pygments_lexer": "ipython3",
   "version": "3.10.6"
  }
 },
 "nbformat": 4,
 "nbformat_minor": 5
}

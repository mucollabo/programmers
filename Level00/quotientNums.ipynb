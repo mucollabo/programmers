{
 "cells": [
  {
   "cell_type": "code",
   "execution_count": 1,
   "id": "cea46039-6c83-4b3f-9d25-b08c9cebc63b",
   "metadata": {},
   "outputs": [],
   "source": [
    "def solution(num1, num2):\n",
    "    return num1//num2"
   ]
  },
  {
   "cell_type": "code",
   "execution_count": 2,
   "id": "711c6a60-5777-416d-a841-6dc2a13f5140",
   "metadata": {},
   "outputs": [
    {
     "data": {
      "text/plain": [
       "3"
      ]
     },
     "execution_count": 2,
     "metadata": {},
     "output_type": "execute_result"
    }
   ],
   "source": [
    "solution(6, 2)"
   ]
  },
  {
   "cell_type": "code",
   "execution_count": null,
   "id": "dff2090f-15c7-4004-8b79-26707af8cea9",
   "metadata": {},
   "outputs": [],
   "source": []
  }
 ],
 "metadata": {
  "kernelspec": {
   "display_name": "Python 3 (ipykernel)",
   "language": "python",
   "name": "python3"
  },
  "language_info": {
   "codemirror_mode": {
    "name": "ipython",
    "version": 3
   },
   "file_extension": ".py",
   "mimetype": "text/x-python",
   "name": "python",
   "nbconvert_exporter": "python",
   "pygments_lexer": "ipython3",
   "version": "3.10.6"
  }
 },
 "nbformat": 4,
 "nbformat_minor": 5
}

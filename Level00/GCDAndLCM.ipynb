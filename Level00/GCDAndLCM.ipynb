{
 "cells": [
  {
   "cell_type": "markdown",
   "id": "248ef43d-c075-4e82-8499-069dcbd818c0",
   "metadata": {},
   "source": [
    "# 최대공약수와 최소공배수\n",
    "## 문제 설명\n",
    "### 두 수를 입력받아 두 수의 최대공약수와 최소공배수를 반환하는 함수, solution을 완성해 보세요. 배열의 맨 앞에 최대공약수, 그다음 최소공배수를 넣어 반환하면 됩니다. 예를 들어 두 수 3, 12의 최대공약수는 3, 최소공배수는 12이므로 solution(3, 12)는 [3, 12]를 반환해야 합니다.\n",
    "\n",
    "## 제한 사항\n",
    "* 두 수는 1이상 1000000이하의 자연수입니다.\n",
    "## 입출력 예\n",
    "|n|m|return|\n",
    "|-|-|------|\n",
    "|3|12|[3, 12]|\n",
    "|2|5|[1, 10]|\n",
    "## 입출력 예 설명\n",
    "### 입출력 예 #1\n",
    "### 위의 설명과 같습니다.\n",
    "\n",
    "## 입출력 예 #2\n",
    "### 자연수 2와 5의 최대공약수는 1, 최소공배수는 10이므로 [1, 10]을 리턴해야 합니다."
   ]
  },
  {
   "cell_type": "code",
   "execution_count": 3,
   "id": "678a8145-34a6-4439-a5c6-00fff89b2fe5",
   "metadata": {},
   "outputs": [],
   "source": [
    "import math\n",
    "def solution(n, m):\n",
    "    return [math.gcd(n, m), math.lcm(n, m)]"
   ]
  },
  {
   "cell_type": "code",
   "execution_count": 4,
   "id": "017fe713-9ab0-473e-9b48-200470a00017",
   "metadata": {},
   "outputs": [
    {
     "data": {
      "text/plain": [
       "[3, 12]"
      ]
     },
     "execution_count": 4,
     "metadata": {},
     "output_type": "execute_result"
    }
   ],
   "source": [
    "solution(3, 12)"
   ]
  },
  {
   "cell_type": "code",
   "execution_count": 5,
   "id": "8e24ee9e-19f3-4be9-ab56-9e8fdbb4218d",
   "metadata": {},
   "outputs": [
    {
     "data": {
      "text/plain": [
       "[1, 10]"
      ]
     },
     "execution_count": 5,
     "metadata": {},
     "output_type": "execute_result"
    }
   ],
   "source": [
    "solution(2, 5)"
   ]
  },
  {
   "cell_type": "code",
   "execution_count": 23,
   "id": "fa71eb23-49b8-465f-bd50-c430ee1822d7",
   "metadata": {},
   "outputs": [],
   "source": [
    "def solution2(n, m):\n",
    "    def gcd(n, m):\n",
    "        if m == 0:\n",
    "            return n\n",
    "        if n % m == 0:\n",
    "            return m\n",
    "        else:\n",
    "            return gcd(m, n % m)\n",
    "    return [gcd(n, m), n*m//gcd(n, m)]"
   ]
  },
  {
   "cell_type": "code",
   "execution_count": 24,
   "id": "4ab266b8-dc77-47ab-9eb0-2b21c1bf4126",
   "metadata": {},
   "outputs": [
    {
     "data": {
      "text/plain": [
       "[3, 12]"
      ]
     },
     "execution_count": 24,
     "metadata": {},
     "output_type": "execute_result"
    }
   ],
   "source": [
    "solution2(3, 12)"
   ]
  },
  {
   "cell_type": "code",
   "execution_count": 25,
   "id": "75120f52-1679-46e9-8ca1-c9f374777c0a",
   "metadata": {},
   "outputs": [
    {
     "data": {
      "text/plain": [
       "[1, 10]"
      ]
     },
     "execution_count": 25,
     "metadata": {},
     "output_type": "execute_result"
    }
   ],
   "source": [
    "solution2(2, 5)"
   ]
  },
  {
   "cell_type": "code",
   "execution_count": null,
   "id": "311c0b41-be8c-4453-a261-6abb9307e664",
   "metadata": {},
   "outputs": [],
   "source": []
  }
 ],
 "metadata": {
  "kernelspec": {
   "display_name": "Python 3 (ipykernel)",
   "language": "python",
   "name": "python3"
  },
  "language_info": {
   "codemirror_mode": {
    "name": "ipython",
    "version": 3
   },
   "file_extension": ".py",
   "mimetype": "text/x-python",
   "name": "python",
   "nbconvert_exporter": "python",
   "pygments_lexer": "ipython3",
   "version": "3.10.6"
  }
 },
 "nbformat": 4,
 "nbformat_minor": 5
}

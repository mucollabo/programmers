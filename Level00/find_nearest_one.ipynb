{
 "cells": [
  {
   "cell_type": "markdown",
   "id": "800cf87b-2ae3-4638-adaa-ba81265ad9a0",
   "metadata": {},
   "source": [
    "### 문제 설명\n",
    "정수 배열 arr가 주어집니다. 이때 arr의 원소는 1 또는 0입니다. 정수 idx가 주어졌을 때, idx보다 크면서 배열의 값이 1인 가장 작은 인덱스를 찾아서 반환하는 solution 함수를 완성해 주세요.\n",
    "\n",
    "단, 만약 그러한 인덱스가 없다면 -1을 반환합니다.\n",
    "\n",
    "### 제한사항\n",
    "* 3 ≤ arr의 길이 ≤ 100'000\n",
    "  * arr의 원소는 전부 1 또는 0입니다.\n",
    "### 입출력 예\n",
    "|arr|idx|result|\n",
    "|---|---|------|\n",
    "|[0, 0, 0, 1]|1|3|\n",
    "|[1, 0, 0, 1, 0, 0]|4|-1|\n",
    "|[1, 1, 1, 1, 0]|3|3|\n",
    "### 입출력 예 설명\n",
    "#### 입출력 예 #1\n",
    "\n",
    "* 1보다 크면서 원소가 1인 가장 작은 인덱스는 3입니다. 따라서 3을 return 합니다.\n",
    "#### 입출력 예 #2\n",
    "\n",
    "* 4번 인덱스 이후에 1은 등장하지 않습니다. 따라서 -1을 return 합니다.\n",
    "#### 입출력 예 #3\n",
    "\n",
    "* 3번 인덱스의 값이 1입니다. 따라서 3을 return 합니다."
   ]
  },
  {
   "cell_type": "code",
   "execution_count": 13,
   "id": "d0564145-f068-490a-a3f4-35ca8240fed2",
   "metadata": {},
   "outputs": [],
   "source": [
    "def solution(arr, idx):\n",
    "    for i in range(idx, len(arr)):\n",
    "        if arr[i] == 1:\n",
    "            return i\n",
    "    return -1\n",
    "        "
   ]
  },
  {
   "cell_type": "code",
   "execution_count": 14,
   "id": "45bd07e4-e0e5-4106-8264-210ccb6b243a",
   "metadata": {},
   "outputs": [
    {
     "data": {
      "text/plain": [
       "3"
      ]
     },
     "execution_count": 14,
     "metadata": {},
     "output_type": "execute_result"
    }
   ],
   "source": [
    "solution([0, 0, 0, 1], 1)"
   ]
  },
  {
   "cell_type": "code",
   "execution_count": 15,
   "id": "1aa046da-dac0-4ed4-aa1f-1a10e08c3f82",
   "metadata": {},
   "outputs": [
    {
     "data": {
      "text/plain": [
       "-1"
      ]
     },
     "execution_count": 15,
     "metadata": {},
     "output_type": "execute_result"
    }
   ],
   "source": [
    "solution([1, 0, 0, 1, 0, 0], 4)"
   ]
  },
  {
   "cell_type": "code",
   "execution_count": 16,
   "id": "c85f6b89-0bb6-4e1f-9fcf-f1969c679ea0",
   "metadata": {},
   "outputs": [
    {
     "data": {
      "text/plain": [
       "3"
      ]
     },
     "execution_count": 16,
     "metadata": {},
     "output_type": "execute_result"
    }
   ],
   "source": [
    "solution([1, 1, 1, 1, 0], 3)"
   ]
  },
  {
   "cell_type": "code",
   "execution_count": null,
   "id": "eefaf171-c062-40e7-a4fc-dba01cd9cad4",
   "metadata": {},
   "outputs": [],
   "source": [
    "def solution2(arr, idx):\n",
    "    "
   ]
  }
 ],
 "metadata": {
  "kernelspec": {
   "display_name": "Python 3 (ipykernel)",
   "language": "python",
   "name": "python3"
  },
  "language_info": {
   "codemirror_mode": {
    "name": "ipython",
    "version": 3
   },
   "file_extension": ".py",
   "mimetype": "text/x-python",
   "name": "python",
   "nbconvert_exporter": "python",
   "pygments_lexer": "ipython3",
   "version": "3.11.6"
  }
 },
 "nbformat": 4,
 "nbformat_minor": 5
}

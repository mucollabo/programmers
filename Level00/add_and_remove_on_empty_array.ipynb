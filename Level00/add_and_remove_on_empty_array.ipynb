{
 "cells": [
  {
   "cell_type": "markdown",
   "metadata": {},
   "source": [
    "## 빈 배열에 추가, 삭제하기\n",
    "### 문제 설명\n",
    "아무 원소도 들어있지 않은 빈 배열 X가 있습니다. 길이가 같은 정수 배열 arr과 boolean 배열 flag가 매개변수로 주어질 때, flag를 차례대로 순회하며 flag[i]가 true라면 X의 뒤에 arr[i]를 arr[i] × 2 번 추가하고, flag[i]가 false라면 X에서 마지막 arr[i]개의 원소를 제거한 뒤 X를 return 하는 solution 함수를 작성해 주세요.\n",
    "\n",
    "### 제한사항\n",
    "* 1 ≤ arr의 길이 = flag의 길이 ≤ 100\n",
    "* arr의 모든 원소는 1 이상 9 이하의 정수입니다.\n",
    "* 현재 X의 길이보다 더 많은 원소를 빼는 입력은 주어지지 않습니다.\n",
    "### 입출력 예\n",
    "|arr|flag|result|\n",
    "|---|----|------|\n",
    "|[3, 2, 4, 1, 3]|[true, false, true, false, false]|[3, 3, 3, 3, 4, 4, 4, 4]|\n",
    "\n",
    "### 입출력 예 설명\n",
    "#### 입출력 예 #1\n",
    "\n",
    "* 예제 1번에서 X의 변화를 표로 나타내면 다음과 같습니다\n",
    "\n",
    "|i|flag[i]|arr[i]|X|\n",
    "|-|----|--|--|\n",
    "| | | |[]|\n",
    "|0|true|3|[3, 3, 3, 3, 3, 3]|\n",
    "|1|false|2|[3, 3, 3, 3]|\n",
    "|2|true|4|[3, 3, 3, 3, 4, 4, 4, 4, 4, 4, 4, 4]|\n",
    "|3|false|1|[3, 3, 3, 3, 4, 4, 4, 4, 4, 4, 4]|\n",
    "|4|false|3|[3, 3, 3, 3, 4, 4, 4, 4]|\n",
    "\n",
    "* 따라서 [3, 3, 3, 3, 4, 4, 4, 4]를 return 합니다."
   ]
  },
  {
   "cell_type": "code",
   "execution_count": 1,
   "metadata": {},
   "outputs": [],
   "source": [
    "def solution(arr, flag):\n",
    "    X = []\n",
    "    for i, a in enumerate(arr):\n",
    "        if flag[i] == True:\n",
    "            X.extend([a for _ in range(a*2)])\n",
    "        else:\n",
    "            X = X[:-a]\n",
    "    return X"
   ]
  },
  {
   "cell_type": "code",
   "execution_count": 3,
   "metadata": {},
   "outputs": [
    {
     "data": {
      "text/plain": [
       "[3, 3, 3, 3, 4, 4, 4, 4]"
      ]
     },
     "execution_count": 3,
     "metadata": {},
     "output_type": "execute_result"
    }
   ],
   "source": [
    "solution([3, 2, 4, 1, 3], [True, False, True, False, False])"
   ]
  },
  {
   "cell_type": "code",
   "execution_count": null,
   "metadata": {},
   "outputs": [],
   "source": []
  }
 ],
 "metadata": {
  "kernelspec": {
   "display_name": "Python 3",
   "language": "python",
   "name": "python3"
  },
  "language_info": {
   "codemirror_mode": {
    "name": "ipython",
    "version": 3
   },
   "file_extension": ".py",
   "mimetype": "text/x-python",
   "name": "python",
   "nbconvert_exporter": "python",
   "pygments_lexer": "ipython3",
   "version": "3.12.1"
  }
 },
 "nbformat": 4,
 "nbformat_minor": 2
}

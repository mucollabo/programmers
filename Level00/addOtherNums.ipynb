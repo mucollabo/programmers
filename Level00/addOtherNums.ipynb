{
  "nbformat": 4,
  "nbformat_minor": 0,
  "metadata": {
    "colab": {
      "name": "addOtherNums.ipynb",
      "provenance": [],
      "authorship_tag": "ABX9TyMIU/4jyjmdWMdzHXmg4VvV",
      "include_colab_link": true
    },
    "kernelspec": {
      "name": "python3",
      "display_name": "Python 3"
    },
    "language_info": {
      "name": "python"
    }
  },
  "cells": [
    {
      "cell_type": "markdown",
      "metadata": {
        "id": "view-in-github",
        "colab_type": "text"
      },
      "source": [
        "<a href=\"https://colab.research.google.com/github/mucollabo/programmers/blob/main/addOtherNums.ipynb\" target=\"_parent\"><img src=\"https://colab.research.google.com/assets/colab-badge.svg\" alt=\"Open In Colab\"/></a>"
      ]
    },
    {
      "cell_type": "code",
      "execution_count": 31,
      "metadata": {
        "id": "_ThyuU3A66YW"
      },
      "outputs": [],
      "source": [
        "def solution(numbers):\n",
        "  digits = [0, 1, 2, 3, 4, 5, 6, 7, 8, 9]\n",
        "\n",
        "  [digits.remove(num) for num in numbers if num in digits]\n",
        "  \n",
        "  return sum(digits)"
      ]
    },
    {
      "cell_type": "code",
      "source": [
        "n = [1,2,3,4,6,7,8,0]"
      ],
      "metadata": {
        "id": "Js2AFgzh87uh"
      },
      "execution_count": 10,
      "outputs": []
    },
    {
      "cell_type": "code",
      "source": [
        "solution(n)"
      ],
      "metadata": {
        "colab": {
          "base_uri": "https://localhost:8080/"
        },
        "id": "zh1hpkz19Q1y",
        "outputId": "68f51a44-02af-4f0c-d86e-5789b7c28de0"
      },
      "execution_count": 32,
      "outputs": [
        {
          "output_type": "execute_result",
          "data": {
            "text/plain": [
              "14"
            ]
          },
          "metadata": {},
          "execution_count": 32
        }
      ]
    },
    {
      "cell_type": "code",
      "source": [
        "n2 = [5,8,4,0,6,7,9]"
      ],
      "metadata": {
        "id": "0SdMZBMF9SbY"
      },
      "execution_count": 33,
      "outputs": []
    },
    {
      "cell_type": "code",
      "source": [
        "solution(n2)"
      ],
      "metadata": {
        "colab": {
          "base_uri": "https://localhost:8080/"
        },
        "id": "XHTGOyD_CKx7",
        "outputId": "3d7c2646-d6be-440d-eb7c-e3574cc4850e"
      },
      "execution_count": 34,
      "outputs": [
        {
          "output_type": "execute_result",
          "data": {
            "text/plain": [
              "6"
            ]
          },
          "metadata": {},
          "execution_count": 34
        }
      ]
    },
    {
      "cell_type": "code",
      "source": [
        ""
      ],
      "metadata": {
        "id": "PqUWzA4UCLvK"
      },
      "execution_count": null,
      "outputs": []
    }
  ]
}
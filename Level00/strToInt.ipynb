{
 "cells": [
  {
   "cell_type": "markdown",
   "id": "74100522-91a4-4bec-8ff5-98dba92b0f0f",
   "metadata": {},
   "source": [
    "## 문자열을 정수로 변환하기\n",
    "### 문제 설명\n",
    "#### 숫자로만 이루어진 문자열 n_str이 주어질 때, n_str을 정수로 변환하여 return하도록 solution 함수를 완성해주세요.\n",
    "\n",
    "### 제한사항\n",
    "* 1 ≤ n_str ≤ 5\n",
    "* n_str은 0부터 9까지의 정수 문자로만 이루어져 있습니다.\n",
    "### 입출력 예\n",
    "|n_str|result|\n",
    "|------|------|\n",
    "|\"10\"|10|\n",
    "|\"8542\"|8542|\n",
    "### 입출력 예 설명\n",
    "#### 입출력 예 #1\n",
    "\n",
    "* \"10\"을 정수로 바꾸면 10입니다.\n",
    "#### 입출력 예 #2\n",
    "\n",
    "* \"8542\"를 정수로 바꾸면 8542입니다."
   ]
  },
  {
   "cell_type": "code",
   "execution_count": 1,
   "id": "02f93da1-ae12-4de3-a03b-da770a472451",
   "metadata": {},
   "outputs": [],
   "source": [
    "def solution(n_str):\n",
    "    return int(n_str)"
   ]
  },
  {
   "cell_type": "code",
   "execution_count": 2,
   "id": "cb7f1790-b4bc-40bd-9d0b-2b7fba5ffaa8",
   "metadata": {},
   "outputs": [
    {
     "data": {
      "text/plain": [
       "10"
      ]
     },
     "execution_count": 2,
     "metadata": {},
     "output_type": "execute_result"
    }
   ],
   "source": [
    "solution('10')"
   ]
  },
  {
   "cell_type": "code",
   "execution_count": 3,
   "id": "b5eba82d-09de-49d7-b92f-6239b356df0b",
   "metadata": {},
   "outputs": [
    {
     "data": {
      "text/plain": [
       "8542"
      ]
     },
     "execution_count": 3,
     "metadata": {},
     "output_type": "execute_result"
    }
   ],
   "source": [
    "solution('8542')"
   ]
  },
  {
   "cell_type": "code",
   "execution_count": 5,
   "id": "c6881246-c0e4-49e3-93b7-f887f477a633",
   "metadata": {},
   "outputs": [],
   "source": [
    "solution2 = lambda x: int(x)"
   ]
  },
  {
   "cell_type": "code",
   "execution_count": 6,
   "id": "d1b9fb02-cfc7-46c5-b191-89cc9c4e3bd2",
   "metadata": {},
   "outputs": [
    {
     "data": {
      "text/plain": [
       "10"
      ]
     },
     "execution_count": 6,
     "metadata": {},
     "output_type": "execute_result"
    }
   ],
   "source": [
    "solution2('10')"
   ]
  },
  {
   "cell_type": "code",
   "execution_count": 7,
   "id": "6f094f2c-8e78-4c68-b929-4d3f74abd91b",
   "metadata": {},
   "outputs": [],
   "source": [
    "solution3 = int"
   ]
  },
  {
   "cell_type": "code",
   "execution_count": 8,
   "id": "30696ed3-4e19-4f40-8651-c75abe8ca410",
   "metadata": {},
   "outputs": [
    {
     "data": {
      "text/plain": [
       "10"
      ]
     },
     "execution_count": 8,
     "metadata": {},
     "output_type": "execute_result"
    }
   ],
   "source": [
    "solution3('10')"
   ]
  },
  {
   "cell_type": "code",
   "execution_count": 9,
   "id": "b5613bab-0043-4de3-b761-b92e135dccce",
   "metadata": {},
   "outputs": [
    {
     "data": {
      "text/plain": [
       "8542"
      ]
     },
     "execution_count": 9,
     "metadata": {},
     "output_type": "execute_result"
    }
   ],
   "source": [
    "solution3('8542')"
   ]
  },
  {
   "cell_type": "code",
   "execution_count": null,
   "id": "19dede05-1897-4f5a-9a3f-f427ed6b21a4",
   "metadata": {},
   "outputs": [],
   "source": []
  }
 ],
 "metadata": {
  "kernelspec": {
   "display_name": "Python 3 (ipykernel)",
   "language": "python",
   "name": "python3"
  },
  "language_info": {
   "codemirror_mode": {
    "name": "ipython",
    "version": 3
   },
   "file_extension": ".py",
   "mimetype": "text/x-python",
   "name": "python",
   "nbconvert_exporter": "python",
   "pygments_lexer": "ipython3",
   "version": "3.10.6"
  }
 },
 "nbformat": 4,
 "nbformat_minor": 5
}

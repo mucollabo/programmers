{
 "cells": [
  {
   "cell_type": "markdown",
   "id": "0b4be775-9468-4e92-86df-7ac1be502585",
   "metadata": {},
   "source": [
    "# 겹치는 선분의 길이\n",
    "## 문제 설명\n",
    "### 빨간색, 초록색, 파란색 선분이 x축 위에 있습니다. 세 선분의 x좌표 시작과 끝이 [[start, end], [start, end], [start, end]] 형태로 들어있는 2차원 배열 lines가 매개변수로 주어질 때, 두 개 이상의 선분이 겹치는 부분의 길이를return 하도록 solution 함수를 완성해보세요.\n",
    "\n",
    "### lines가 [[0, 2], [-3, -1], [-2, 1]]일 때 그림으로 나타내면 다음과 같습니다.\n",
    "<img src=\"https://grepp-programmers.s3.ap-northeast-2.amazonaws.com/files/production/4feda8d5-aa8f-4a55-8afc-db776e2f9bcd/%E1%84%89%E1%85%B3%E1%84%8F%E1%85%B3%E1%84%85%E1%85%B5%E1%86%AB%E1%84%89%E1%85%A3%E1%86%BA%202022-08-08%20%E1%84%8B%E1%85%A9%E1%84%92%E1%85%AE%205.08.46.png\" alt=\"lines\" width=\"30%\" height=\"30%\">\n",
    "\n",
    "### 선분이 두 개 이상 겹친 곳은 [-2, -1], [0, 1]로 2만큼 겹쳐있습니다.\n",
    "\n",
    "## 제한사항\n",
    "* lines의 길이 = 3\n",
    "* lines의 원소의 길이 = 2\n",
    "* 모든 선분은 길이가 1 이상입니다.\n",
    "* lines의 원소는 [a, b] 형태이며, a, b는 각각 양 끝점 중 하나입니다.\n",
    "  * -100 ≤ a < b ≤ 100\n",
    "## 입출력 예\n",
    "|lines|result|\n",
    "|-----|------|\n",
    "|[[0, 1], [2, 5], [3, 9]]|2|\n",
    "|[[-1, 1], [1, 3], [3, 9]]|0|\n",
    "|[[0, 5], [3, 9], [1, 10]]|8|\n",
    "## 입출력 예 설명\n",
    "## 입출력 예 #1\n",
    "\n",
    "* 초록색과 파란색 선분이 [2, 5], [3, 9]로 [3, 5]만큼 겹쳐있으므로 2를 return 합니다.\n",
    "## 입출력 예 #2\n",
    "\n",
    "* 겹친 선분이 없으므로 0을 return 합니다.\n",
    "## 입출력 예 #3\n",
    "\n",
    "* 빨간색과 초록색 선분 [3, 5]부분이 겹칩니다.\n",
    "* 빨간색과 파란색 선분 [1, 5]부분이 겹칩니다.\n",
    "* 초록색과 파란색 선분이 [3, 9]부분 겹칩니다.\n",
    "* 따라서 8을 return 합니다."
   ]
  },
  {
   "cell_type": "code",
   "execution_count": 258,
   "id": "325945ec-7e11-4ff6-9e98-5b97592d6b76",
   "metadata": {},
   "outputs": [],
   "source": [
    "def solution(lines):\n",
    "    line = [set(range(l[0], l[1])) for l in lines]\n",
    "    return len((line[0] & line[1]) | (line[1] & line[2]) | (line[0] & line[2]))"
   ]
  },
  {
   "cell_type": "code",
   "execution_count": 259,
   "id": "726e1db7-f95d-4ca1-a28d-6ed2138cd9d4",
   "metadata": {},
   "outputs": [
    {
     "data": {
      "text/plain": [
       "2"
      ]
     },
     "execution_count": 259,
     "metadata": {},
     "output_type": "execute_result"
    }
   ],
   "source": [
    "solution([[0, 1], [2, 5], [3, 9]])"
   ]
  },
  {
   "cell_type": "code",
   "execution_count": 260,
   "id": "f89fdd6e-a9f5-49af-96f7-512300cc435c",
   "metadata": {},
   "outputs": [
    {
     "data": {
      "text/plain": [
       "0"
      ]
     },
     "execution_count": 260,
     "metadata": {},
     "output_type": "execute_result"
    }
   ],
   "source": [
    "solution([[-1, 1], [1, 3], [3, 9]])"
   ]
  },
  {
   "cell_type": "code",
   "execution_count": 261,
   "id": "128eeed0-1831-4df9-aaab-a9c3ddaa51a3",
   "metadata": {},
   "outputs": [
    {
     "data": {
      "text/plain": [
       "8"
      ]
     },
     "execution_count": 261,
     "metadata": {},
     "output_type": "execute_result"
    }
   ],
   "source": [
    "solution([[0, 5], [3, 9], [1, 10]])"
   ]
  },
  {
   "cell_type": "code",
   "execution_count": 262,
   "id": "91f23565-edae-4b6a-b059-76bf79cd625e",
   "metadata": {},
   "outputs": [
    {
     "data": {
      "text/plain": [
       "2"
      ]
     },
     "execution_count": 262,
     "metadata": {},
     "output_type": "execute_result"
    }
   ],
   "source": [
    "solution([[0, 2], [-3, -1], [-2, 1]])"
   ]
  },
  {
   "cell_type": "code",
   "execution_count": null,
   "id": "0b16d0d8-4b00-4080-b81d-4461aea2f73e",
   "metadata": {},
   "outputs": [],
   "source": []
  }
 ],
 "metadata": {
  "kernelspec": {
   "display_name": "Python 3 (ipykernel)",
   "language": "python",
   "name": "python3"
  },
  "language_info": {
   "codemirror_mode": {
    "name": "ipython",
    "version": 3
   },
   "file_extension": ".py",
   "mimetype": "text/x-python",
   "name": "python",
   "nbconvert_exporter": "python",
   "pygments_lexer": "ipython3",
   "version": "3.10.6"
  }
 },
 "nbformat": 4,
 "nbformat_minor": 5
}

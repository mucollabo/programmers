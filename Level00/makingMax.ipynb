{
 "cells": [
  {
   "cell_type": "markdown",
   "id": "d2200c34-7070-426b-a260-5bbe365e7ed6",
   "metadata": {},
   "source": [
    "# 최댓값 만들기 (1)\n",
    "## 문제 설명\n",
    "### 정수 배열 numbers가 매개변수로 주어집니다. numbers의 원소 중 두 개를 곱해 만들 수 있는 최댓값을 return하도록 solution 함수를 완성해주세요.\n",
    "\n",
    "## 제한사항\n",
    "* 0 ≤ numbers의 원소 ≤ 10,000\n",
    "* 2 ≤ numbers의 길이 ≤ 100\n",
    "## 입출력 예\n",
    "|numbers|result|\n",
    "|-------|------|\n",
    "|[1, 2, 3, 4, 5]|20|\n",
    "|[0, 31, 24, 10, 1, 9]|744|\n",
    "## 입출력 예 설명\n",
    "## 입출력 예 #1\n",
    "\n",
    "* 두 수의 곱중 최댓값은 4 * 5 = 20 입니다.\n",
    "## 입출력 예 #1\n",
    "\n",
    "* 두 수의 곱중 최댓값은 31 * 24 = 744 입니다."
   ]
  },
  {
   "cell_type": "code",
   "execution_count": 8,
   "id": "9edc5803-8394-4d58-bed8-a3cce532112c",
   "metadata": {},
   "outputs": [],
   "source": [
    "def solution(numbers):\n",
    "    return sorted(numbers)[-1]*sorted(numbers)[-2]"
   ]
  },
  {
   "cell_type": "code",
   "execution_count": 9,
   "id": "f2dd7d27-400a-4fb2-bb2d-19f168bfbbe8",
   "metadata": {},
   "outputs": [
    {
     "data": {
      "text/plain": [
       "20"
      ]
     },
     "execution_count": 9,
     "metadata": {},
     "output_type": "execute_result"
    }
   ],
   "source": [
    "solution([1,2,3,4,5])"
   ]
  },
  {
   "cell_type": "code",
   "execution_count": 3,
   "id": "ea769e31-4e26-4a29-bda2-e091d07c82e9",
   "metadata": {},
   "outputs": [
    {
     "data": {
      "text/plain": [
       "744"
      ]
     },
     "execution_count": 3,
     "metadata": {},
     "output_type": "execute_result"
    }
   ],
   "source": [
    "solution([0, 31, 24, 10, 1, 9])"
   ]
  }
 ],
 "metadata": {
  "kernelspec": {
   "display_name": "Python 3 (ipykernel)",
   "language": "python",
   "name": "python3"
  },
  "language_info": {
   "codemirror_mode": {
    "name": "ipython",
    "version": 3
   },
   "file_extension": ".py",
   "mimetype": "text/x-python",
   "name": "python",
   "nbconvert_exporter": "python",
   "pygments_lexer": "ipython3",
   "version": "3.10.6"
  }
 },
 "nbformat": 4,
 "nbformat_minor": 5
}

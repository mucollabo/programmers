{
 "cells": [
  {
   "cell_type": "markdown",
   "id": "8d21e69e-5f4d-4518-aa49-98716399367d",
   "metadata": {},
   "source": [
    "# 다음에 올 숫자\n",
    "## 문제 설명\n",
    "### 등차수열 혹은 등비수열 common이 매개변수로 주어질 때, 마지막 원소 다음으로 올 숫자를 return 하도록 solution 함수를 완성해보세요.\n",
    "\n",
    "## 제한사항\n",
    "* 2 < common의 길이 < 1,000\n",
    "* -1,000 < common의 원소 < 2,000\n",
    "* 등차수열 혹은 등비수열이 아닌 경우는 없습니다.\n",
    "* 공비가 0인 경우는 없습니다.\n",
    "## 입출력 예\n",
    "|common|result|\n",
    "|------|------|\n",
    "|[1, 2, 3, 4]|5|\n",
    "|[2, 4, 8]|16|\n",
    "## 입출력 예 설명\n",
    "## 입출력 예 #1\n",
    "\n",
    "* [1, 2, 3, 4]는 공차가 1인 등차수열이므로 다음에 올 수는 5이다.\n",
    "## 입출력 예 #2\n",
    "\n",
    "* [2, 4, 8]은 공비가 2인 등비수열이므로 다음에 올 수는 16이다."
   ]
  },
  {
   "cell_type": "code",
   "execution_count": 1,
   "id": "12c06d20-8c3e-4293-9971-345d8902d302",
   "metadata": {},
   "outputs": [],
   "source": [
    "def solution(common):\n",
    "    if common[-2]*2 == common[-1] + common[-3]:\n",
    "        return common[-1]*2 - common[-2]\n",
    "    else:\n",
    "        return common[-1]**2//common[-2]"
   ]
  },
  {
   "cell_type": "code",
   "execution_count": 2,
   "id": "3175f596-beb1-4f64-9bc3-938006d6d714",
   "metadata": {},
   "outputs": [
    {
     "data": {
      "text/plain": [
       "5"
      ]
     },
     "execution_count": 2,
     "metadata": {},
     "output_type": "execute_result"
    }
   ],
   "source": [
    "solution([1,2,3,4])"
   ]
  },
  {
   "cell_type": "code",
   "execution_count": 3,
   "id": "c6f14c1b-e28e-482d-b25a-21584c648be5",
   "metadata": {},
   "outputs": [
    {
     "data": {
      "text/plain": [
       "16"
      ]
     },
     "execution_count": 3,
     "metadata": {},
     "output_type": "execute_result"
    }
   ],
   "source": [
    "solution([2,4,8])"
   ]
  },
  {
   "cell_type": "code",
   "execution_count": null,
   "id": "cc1aae01-3be2-4eda-b929-f82027415e9b",
   "metadata": {},
   "outputs": [],
   "source": []
  }
 ],
 "metadata": {
  "kernelspec": {
   "display_name": "Python 3 (ipykernel)",
   "language": "python",
   "name": "python3"
  },
  "language_info": {
   "codemirror_mode": {
    "name": "ipython",
    "version": 3
   },
   "file_extension": ".py",
   "mimetype": "text/x-python",
   "name": "python",
   "nbconvert_exporter": "python",
   "pygments_lexer": "ipython3",
   "version": "3.10.6"
  }
 },
 "nbformat": 4,
 "nbformat_minor": 5
}

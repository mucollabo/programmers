{
  "nbformat": 4,
  "nbformat_minor": 0,
  "metadata": {
    "colab": {
      "name": "remainOne.ipynb",
      "provenance": [],
      "authorship_tag": "ABX9TyMaNTVDPWFzxQtNCkkiYhg/",
      "include_colab_link": true
    },
    "kernelspec": {
      "name": "python3",
      "display_name": "Python 3"
    },
    "language_info": {
      "name": "python"
    }
  },
  "cells": [
    {
      "cell_type": "markdown",
      "metadata": {
        "id": "view-in-github",
        "colab_type": "text"
      },
      "source": [
        "<a href=\"https://colab.research.google.com/github/mucollabo/programmers/blob/main/remainOne.ipynb\" target=\"_parent\"><img src=\"https://colab.research.google.com/assets/colab-badge.svg\" alt=\"Open In Colab\"/></a>"
      ]
    },
    {
      "cell_type": "markdown",
      "source": [
        "# 나머지가 1이 되는 수 찾기\n",
        "\n",
        "**문제 설명** <br>\n",
        "자연수 n 이 매개변수로 주어집니다. n 을 x 로 나눈 나머지가 1이 되도록 하는 가장 작은 자연수 x를 return 하도록 solution 함수를 완성해주세요. 답이 존재함은 증명될 수 있습니다.\n",
        "\n",
        "**제한사항** <br>\n",
        "* 3 ≤ n ≤ 1,000,000\n",
        "\n",
        "**입출력 예**\n",
        "<table style=\"float:left\">\n",
        " <tr>\n",
        "  <th>n</th>\n",
        "  <th>result</th>\n",
        " </tr>\n",
        " <tr>\n",
        "  <td>10</td>\n",
        "  <td>3</td>\n",
        " </tr>\n",
        " <tr>\n",
        "  <td>12</td>\n",
        "  <td>11</td>\n",
        " </tr>\n",
        "</table>\n",
        "\n",
        "**입출력 예 설명**\n",
        "입출력 예 #1\n",
        "* 10을 3으로 나눈 나머지가 1이고, 3보다 작은 자연수 중에서 문제의 조건을 만족하느 수가 없으므로, 3을 return 해야 합니다.\n",
        "입출력 예 #2\n",
        "* 12를 11로 나눈 나머지가 1이고, 11보다 작은 자연수 중에서 문제의 조건을 만족하는 수가 없으므로, 11을 return 해야 합니다."
      ],
      "metadata": {
        "id": "MolGIHZ4J8dR"
      }
    },
    {
      "cell_type": "code",
      "source": [
        "def solution(n):\n",
        "  answer = [x for x in range(1, n+1) if n%x == 1]\n",
        "  return answer[0]"
      ],
      "metadata": {
        "id": "8Y9PuXV6KDRJ"
      },
      "execution_count": 31,
      "outputs": []
    },
    {
      "cell_type": "code",
      "source": [
        "solution(12)"
      ],
      "metadata": {
        "colab": {
          "base_uri": "https://localhost:8080/"
        },
        "id": "yDKTYTfDQ2WV",
        "outputId": "4c2c7360-66b9-42b1-a7dd-b2e20bdbe4c7"
      },
      "execution_count": 32,
      "outputs": [
        {
          "output_type": "execute_result",
          "data": {
            "text/plain": [
              "11"
            ]
          },
          "metadata": {},
          "execution_count": 32
        }
      ]
    },
    {
      "cell_type": "code",
      "source": [
        "solution(10)"
      ],
      "metadata": {
        "colab": {
          "base_uri": "https://localhost:8080/"
        },
        "id": "dYwaagGxQ5_z",
        "outputId": "517f2575-2436-444a-b67b-88cdf50f284e"
      },
      "execution_count": 33,
      "outputs": [
        {
          "output_type": "execute_result",
          "data": {
            "text/plain": [
              "3"
            ]
          },
          "metadata": {},
          "execution_count": 33
        }
      ]
    },
    {
      "cell_type": "code",
      "source": [
        ""
      ],
      "metadata": {
        "id": "iYNOAUxiaSGM"
      },
      "execution_count": null,
      "outputs": []
    }
  ]
}
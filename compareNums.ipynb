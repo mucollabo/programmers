{
 "cells": [
  {
   "cell_type": "markdown",
   "metadata": {},
   "source": [
    "# 숫자 비교하기\n",
    "## 문제 설명\n",
    "### 정수 num1 과 num2 가 매개변수로 주어집니다. 두 수가 같으면 1 다르면 -1을 return 하도록 solution 함수를 완성해주세요.\n",
    "## 제한 사항\n",
    "### * 0 <= num1 <= 10,000\n",
    "### * 0 <= num2 <= 10,000\n",
    "## 입출력 예\n",
    "### num1    num2    result\n",
    "### 2       3       -1\n",
    "### 11      11      1\n",
    "### 7       99      -1\n",
    "## 입출력 예 설명\n",
    "### 입출력 예 설명 #1\n",
    "### * num1 이 2이고 num2 가 3이므로 다릅니다. 따라서 -1을 return 합니다.\n",
    "### 입출력 예 설명 #2\n",
    "### * num1 이 11이고 num2 가 11이므로 같습니다. 따라서 1을 return 합니다.\n",
    "### 입출력 예 설명 #3\n",
    "### * num1 이 7이고 num2 가 99이므로 다릅니다. 따라서 -1을 return 합니다."
   ]
  },
  {
   "cell_type": "code",
   "execution_count": 11,
   "metadata": {},
   "outputs": [],
   "source": [
    "def solution(num1, num2):\n",
    "    result = lambda x, y: 1 if x == y else -1\n",
    "    return result(num1, num2)"
   ]
  },
  {
   "cell_type": "code",
   "execution_count": 12,
   "metadata": {},
   "outputs": [
    {
     "data": {
      "text/plain": [
       "1"
      ]
     },
     "execution_count": 12,
     "metadata": {},
     "output_type": "execute_result"
    }
   ],
   "source": [
    "solution(11, 11)"
   ]
  },
  {
   "cell_type": "code",
   "execution_count": 13,
   "metadata": {},
   "outputs": [
    {
     "data": {
      "text/plain": [
       "-1"
      ]
     },
     "execution_count": 13,
     "metadata": {},
     "output_type": "execute_result"
    }
   ],
   "source": [
    "solution(2, 3)"
   ]
  },
  {
   "cell_type": "code",
   "execution_count": 14,
   "metadata": {},
   "outputs": [
    {
     "data": {
      "text/plain": [
       "-1"
      ]
     },
     "execution_count": 14,
     "metadata": {},
     "output_type": "execute_result"
    }
   ],
   "source": [
    "solution(7, 99)"
   ]
  },
  {
   "cell_type": "code",
   "execution_count": null,
   "metadata": {},
   "outputs": [],
   "source": []
  }
 ],
 "metadata": {
  "kernelspec": {
   "display_name": "Python 3.8.10 64-bit ('3.8.10')",
   "language": "python",
   "name": "python3"
  },
  "language_info": {
   "codemirror_mode": {
    "name": "ipython",
    "version": 3
   },
   "file_extension": ".py",
   "mimetype": "text/x-python",
   "name": "python",
   "nbconvert_exporter": "python",
   "pygments_lexer": "ipython3",
   "version": "3.8.10"
  },
  "orig_nbformat": 4,
  "vscode": {
   "interpreter": {
    "hash": "235812e0e5928f6f98da2303c45002fef1df8f848fab28f0cadcf7ad951ca826"
   }
  }
 },
 "nbformat": 4,
 "nbformat_minor": 2
}

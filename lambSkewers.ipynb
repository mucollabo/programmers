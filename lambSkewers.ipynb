{
 "cells": [
  {
   "cell_type": "markdown",
   "id": "9c37c9a1-322a-4302-82a3-c5dd14a082c9",
   "metadata": {},
   "source": [
    "# 양꼬치\n",
    "## 문제 설명\n",
    "### 머쓱이네 양꼬치 가게는 10인분을 먹으면 음료수 하나를 서비스로 줍니다. 양꼬치는 1인분에 12,000원, 음료수는 2,000원입니다. 정수 n과 k가 매개변수로 주어졌을 때, 양꼬치 n인분과 음료수 k개를 먹었다면 총얼마를 지불해야 하는지 return 하도록 solution 함수를 완성해보세요.\n",
    "\n",
    "## 제한사항\n",
    "* 0 < n < 1,000\n",
    "* n / 10 ≤ k < 1,000\n",
    "* 서비스로 받은 음료수는 모두 마십니다.\n",
    "## 입출력 예\n",
    "|n|k|result|\n",
    "|-|-|------|\n",
    "|10|3|124,000|\n",
    "|64|6|768,000|\n",
    "## 입출력 예 설명\n",
    "## 입출력 예 #1\n",
    "\n",
    "* 10인분을 시켜 서비스로 음료수를 하나 받아 총 10 * 12000 + 3 * 2000 - 1 * 2000 = 124,000원입니다.\n",
    "## 입출력 예 #2\n",
    "\n",
    "* 64인분을 시켜 서비스로 음료수를 6개 받아 총 64 * 12000 + 6 * 2000 - 6 * 2000 =768,000원입니다."
   ]
  },
  {
   "cell_type": "code",
   "execution_count": 7,
   "id": "c150607b-c5b9-4f79-9613-f41c81f52bd8",
   "metadata": {},
   "outputs": [],
   "source": [
    "def solution(n, k):\n",
    "    return n*12000 + k*2000 - n//10*2000"
   ]
  },
  {
   "cell_type": "code",
   "execution_count": 8,
   "id": "b9f78f9c-944a-461b-8c27-37eeeb61dc88",
   "metadata": {},
   "outputs": [
    {
     "data": {
      "text/plain": [
       "124000"
      ]
     },
     "execution_count": 8,
     "metadata": {},
     "output_type": "execute_result"
    }
   ],
   "source": [
    "solution(10, 3)"
   ]
  },
  {
   "cell_type": "code",
   "execution_count": 9,
   "id": "98f85eda-2180-4654-a821-a8abf0f60bbc",
   "metadata": {},
   "outputs": [
    {
     "data": {
      "text/plain": [
       "768000"
      ]
     },
     "execution_count": 9,
     "metadata": {},
     "output_type": "execute_result"
    }
   ],
   "source": [
    "solution(64, 6)"
   ]
  },
  {
   "cell_type": "code",
   "execution_count": null,
   "id": "55241aeb-119d-454e-b6ae-c7abdeb54a11",
   "metadata": {},
   "outputs": [],
   "source": []
  }
 ],
 "metadata": {
  "kernelspec": {
   "display_name": "Python 3 (ipykernel)",
   "language": "python",
   "name": "python3"
  },
  "language_info": {
   "codemirror_mode": {
    "name": "ipython",
    "version": 3
   },
   "file_extension": ".py",
   "mimetype": "text/x-python",
   "name": "python",
   "nbconvert_exporter": "python",
   "pygments_lexer": "ipython3",
   "version": "3.10.6"
  }
 },
 "nbformat": 4,
 "nbformat_minor": 5
}

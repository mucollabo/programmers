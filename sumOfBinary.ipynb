{
 "cells": [
  {
   "cell_type": "markdown",
   "id": "e11ac02a-d206-4664-a97b-c900ca569703",
   "metadata": {},
   "source": [
    "# 이진수 더하기\n",
    "## 문제 설명\n",
    "### 이진수를 의미하는 두 개의 문자열 bin1과 bin2가 매개변수로 주어질 때, 두 이진수의 합을 return하도록 solution 함수를 완성해주세요.\n",
    "\n",
    "## 제한사항\n",
    "* return 값은 이진수를 의미하는 문자열입니다.\n",
    "* 1 ≤ bin1, bin2의 길이 ≤ 10\n",
    "* bin1과 bin2는 0과 1로만 이루어져 있습니다.\n",
    "* bin1과 bin2는 \"0\"을 제외하고 0으로 시작하지 않습니다.\n",
    "## 입출력 예\n",
    "|bin1|bin2|result|\n",
    "|----|----|------|\n",
    "|\"10\"|\"11\"|\"101\"|\n",
    "|\"1001\"|\"1111\"|\"11000\"|\n",
    "## 입출력 예 설명\n",
    "## 입출력 예 #1\n",
    "\n",
    "* 10 + 11 = 101 이므로 \"101\" 을 return합니다.\n",
    "## 입출력 예 #2\n",
    "\n",
    "* 1001 + 1111 = 11000 이므로 \"11000\"을 return합니다."
   ]
  },
  {
   "cell_type": "code",
   "execution_count": 52,
   "id": "bee1bac7-8c32-44de-8668-4b9f170a7d77",
   "metadata": {},
   "outputs": [],
   "source": [
    "def solution(bin1, bin2):\n",
    "    bin1 = int('0b'+bin1, 2)\n",
    "    bin2 = int('0b'+bin2, 2)\n",
    "    return bin(bin1 + bin2).replace('0b', '')"
   ]
  },
  {
   "cell_type": "code",
   "execution_count": 53,
   "id": "5bdbafba-4eba-45ed-8dc7-1be050f9619a",
   "metadata": {},
   "outputs": [
    {
     "data": {
      "text/plain": [
       "'101'"
      ]
     },
     "execution_count": 53,
     "metadata": {},
     "output_type": "execute_result"
    }
   ],
   "source": [
    "solution('10', '11')"
   ]
  },
  {
   "cell_type": "code",
   "execution_count": 54,
   "id": "25bccba5-5438-416a-8457-4174f18a97cb",
   "metadata": {},
   "outputs": [
    {
     "data": {
      "text/plain": [
       "'11000'"
      ]
     },
     "execution_count": 54,
     "metadata": {},
     "output_type": "execute_result"
    }
   ],
   "source": [
    "solution('1001', '1111')"
   ]
  },
  {
   "cell_type": "code",
   "execution_count": 55,
   "id": "588fcda3-1291-487e-9511-dd2d27f63891",
   "metadata": {},
   "outputs": [],
   "source": [
    "def solution2(bin1, bin2):\n",
    "    return bin(int(bin1,2) + int(bin2,2))[2:]"
   ]
  },
  {
   "cell_type": "code",
   "execution_count": 56,
   "id": "07a31afb-55e0-4c2d-bb36-c066d096b501",
   "metadata": {},
   "outputs": [
    {
     "data": {
      "text/plain": [
       "'101'"
      ]
     },
     "execution_count": 56,
     "metadata": {},
     "output_type": "execute_result"
    }
   ],
   "source": [
    "solution2('10', '11')"
   ]
  },
  {
   "cell_type": "code",
   "execution_count": 57,
   "id": "6bce8f28-70a8-4ece-89a0-7a9098dd8677",
   "metadata": {},
   "outputs": [
    {
     "data": {
      "text/plain": [
       "'11000'"
      ]
     },
     "execution_count": 57,
     "metadata": {},
     "output_type": "execute_result"
    }
   ],
   "source": [
    "solution2('1001', '1111')"
   ]
  },
  {
   "cell_type": "code",
   "execution_count": null,
   "id": "51ad3ae0-2054-40cb-86a9-82ce6a592665",
   "metadata": {},
   "outputs": [],
   "source": []
  }
 ],
 "metadata": {
  "kernelspec": {
   "display_name": "Python 3 (ipykernel)",
   "language": "python",
   "name": "python3"
  },
  "language_info": {
   "codemirror_mode": {
    "name": "ipython",
    "version": 3
   },
   "file_extension": ".py",
   "mimetype": "text/x-python",
   "name": "python",
   "nbconvert_exporter": "python",
   "pygments_lexer": "ipython3",
   "version": "3.10.6"
  }
 },
 "nbformat": 4,
 "nbformat_minor": 5
}

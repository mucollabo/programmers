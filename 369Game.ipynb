{
 "cells": [
  {
   "cell_type": "markdown",
   "id": "13195e42-f862-49b5-b392-708465eee804",
   "metadata": {},
   "source": [
    "# 369게임\n",
    "## 문제 설명\n",
    "### 머쓱이는 친구들과 369게임을 하고 있습니다. 369게임은 1부터 숫자를 하나씩 대며 3, 6, 9가 들어가는 숫자는 숫자 대신 3, 6, 9의 개수만큼 박수를 치는 게임입니다. 머쓱이가 말해야하는 숫자 order가 매개변수로 주어질 때, 머쓱이가 쳐야할 박수 횟수를 return 하도록 solution 함수를 완성해보세요.\n",
    "\n",
    "## 제한사항\n",
    "* 1 ≤ order ≤ 1,000,000\n",
    "## 입출력 예\n",
    "|order|result|\n",
    "|-----|------|\n",
    "|3|1|\n",
    "|29423|2|\n",
    "## 입출력 예 설명\n",
    "## 입출력 예 #1\n",
    "\n",
    "* 3은 3이 1개 있으므로 1을 출력합니다.\n",
    "## 입출력 예 #2\n",
    "\n",
    "* 29423은 3이 1개, 9가 1개 있으므로 2를 출력합니다."
   ]
  },
  {
   "cell_type": "code",
   "execution_count": 9,
   "id": "46e1db7d-e60f-41c3-87d0-52dcb0605adf",
   "metadata": {},
   "outputs": [],
   "source": [
    "def solution(order):\n",
    "    return sum(map(str(order).count, ['3', '6', '9']))"
   ]
  },
  {
   "cell_type": "code",
   "execution_count": 10,
   "id": "b1d03221-eb6d-4538-97e7-8ba634e6bbf8",
   "metadata": {},
   "outputs": [
    {
     "data": {
      "text/plain": [
       "1"
      ]
     },
     "execution_count": 10,
     "metadata": {},
     "output_type": "execute_result"
    }
   ],
   "source": [
    "solution(3)"
   ]
  },
  {
   "cell_type": "code",
   "execution_count": 11,
   "id": "23339c07-6f74-4cd0-988f-aaa3e05406df",
   "metadata": {},
   "outputs": [
    {
     "data": {
      "text/plain": [
       "2"
      ]
     },
     "execution_count": 11,
     "metadata": {},
     "output_type": "execute_result"
    }
   ],
   "source": [
    "solution(29423)"
   ]
  },
  {
   "cell_type": "code",
   "execution_count": null,
   "id": "27738213-49eb-41f1-ad01-3cecb55df69c",
   "metadata": {},
   "outputs": [],
   "source": []
  }
 ],
 "metadata": {
  "kernelspec": {
   "display_name": "Python 3 (ipykernel)",
   "language": "python",
   "name": "python3"
  },
  "language_info": {
   "codemirror_mode": {
    "name": "ipython",
    "version": 3
   },
   "file_extension": ".py",
   "mimetype": "text/x-python",
   "name": "python",
   "nbconvert_exporter": "python",
   "pygments_lexer": "ipython3",
   "version": "3.10.6"
  }
 },
 "nbformat": 4,
 "nbformat_minor": 5
}

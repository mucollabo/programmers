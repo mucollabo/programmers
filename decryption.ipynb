{
 "cells": [
  {
   "cell_type": "markdown",
   "id": "15b7dec9-b60a-46dd-9b46-3540fad6231a",
   "metadata": {},
   "source": [
    "# 암호 해독\n",
    "## 문제 설명\n",
    "### 군 전략가 머쓱이는 전쟁 중 적군이 다음과 같은 암호 체계를 사용한다는 것을 알아냈습니다.\n",
    "\n",
    "* 암호화된 문자열 cipher를 주고받습니다.\n",
    "* 그 문자열에서 code의 배수 번째 글자만 진짜 암호입니다.\n",
    "### 문자열 cipher와 정수 code가 매개변수로 주어질 때 해독된 암호 문자열을 return하도록 solution 함수를 완성해주세요.\n",
    "\n",
    "## 제한사항\n",
    "* 1 ≤ cipher의 길이 ≤ 1,000\n",
    "* 1 ≤ code ≤ cipher의 길이\n",
    "* cipher는 소문자와 공백으로만 구성되어 있습니다.\n",
    "* 공백도 하나의 문자로 취급합니다.\n",
    "## 입출력 예\n",
    "|cipher|code|result|\n",
    "|------|----|------|\n",
    "|\"dfjardstddetckdaccccdegk\"|4|\"attack\"|\n",
    "|\"pfqallllabwaoclk\"|2|\"fallback\"|\n",
    "## 입출력 예 설명\n",
    "## 입출력 예 #1\n",
    "\n",
    "* \"dfjardstddetckdaccccdegk\" 의 4번째, 8번째, 12번째, 16번째, 20번째, 24번째 글자를 합친 \"attack\"을 return합니다.\n",
    "## 입출력 예 #2\n",
    "\n",
    "* \"pfqallllabwaoclk\" 의 2번째, 4번째, 6번째, 8번째, 10번째, 12번째, 14번째, 16번째 글자를 합친 \"fallback\"을 return합니다."
   ]
  },
  {
   "cell_type": "code",
   "execution_count": 15,
   "id": "d26be288-8a17-453d-956f-d3990619d3c2",
   "metadata": {},
   "outputs": [],
   "source": [
    "def solution(cipher, code):\n",
    "    return ''.join(cipher[i] for i in range(code-1, len(cipher), code))"
   ]
  },
  {
   "cell_type": "code",
   "execution_count": 16,
   "id": "da435654-c328-40aa-910e-6b80ae81d60f",
   "metadata": {},
   "outputs": [
    {
     "data": {
      "text/plain": [
       "'attack'"
      ]
     },
     "execution_count": 16,
     "metadata": {},
     "output_type": "execute_result"
    }
   ],
   "source": [
    "solution(\"dfjardstddetckdaccccdegk\", 4)"
   ]
  },
  {
   "cell_type": "code",
   "execution_count": 18,
   "id": "d9fd7f40-d159-4751-af2b-3a6b2c82ec66",
   "metadata": {},
   "outputs": [
    {
     "data": {
      "text/plain": [
       "'fallback'"
      ]
     },
     "execution_count": 18,
     "metadata": {},
     "output_type": "execute_result"
    }
   ],
   "source": [
    "solution(\"pfqallllabwaoclk\",2)"
   ]
  },
  {
   "cell_type": "code",
   "execution_count": 22,
   "id": "f68665d7-77ee-4eff-845c-62c4c490ba2f",
   "metadata": {},
   "outputs": [],
   "source": [
    "def solution2(cipher, code):\n",
    "    return cipher[code-1::code]"
   ]
  },
  {
   "cell_type": "code",
   "execution_count": 23,
   "id": "275caa87-a6d6-4b7e-a6d0-cb3f1a5cfdb1",
   "metadata": {},
   "outputs": [
    {
     "data": {
      "text/plain": [
       "'attack'"
      ]
     },
     "execution_count": 23,
     "metadata": {},
     "output_type": "execute_result"
    }
   ],
   "source": [
    "solution2(\"dfjardstddetckdaccccdegk\", 4)"
   ]
  },
  {
   "cell_type": "code",
   "execution_count": 24,
   "id": "7d184c3e-37d0-4b8c-b1ec-0d6f793bc910",
   "metadata": {},
   "outputs": [
    {
     "data": {
      "text/plain": [
       "'fallback'"
      ]
     },
     "execution_count": 24,
     "metadata": {},
     "output_type": "execute_result"
    }
   ],
   "source": [
    "solution2(\"pfqallllabwaoclk\",2)"
   ]
  },
  {
   "cell_type": "code",
   "execution_count": null,
   "id": "81df1f4c-fa85-42b9-b5ab-e5bdbec60b17",
   "metadata": {},
   "outputs": [],
   "source": []
  }
 ],
 "metadata": {
  "kernelspec": {
   "display_name": "Python 3 (ipykernel)",
   "language": "python",
   "name": "python3"
  },
  "language_info": {
   "codemirror_mode": {
    "name": "ipython",
    "version": 3
   },
   "file_extension": ".py",
   "mimetype": "text/x-python",
   "name": "python",
   "nbconvert_exporter": "python",
   "pygments_lexer": "ipython3",
   "version": "3.10.6"
  }
 },
 "nbformat": 4,
 "nbformat_minor": 5
}

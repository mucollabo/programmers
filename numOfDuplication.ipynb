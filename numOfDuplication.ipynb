{
 "cells": [
  {
   "cell_type": "markdown",
   "id": "cf8db3fb-8538-458f-9460-3a04ab4add3a",
   "metadata": {},
   "source": [
    "# 중복된 숫자 개수\n",
    "## 문제 설명\n",
    "### 정수가 담긴 배열 array와 정수 n이 매개변수로 주어질 때, array에 n이 몇 개 있는 지를 return 하도록 solution 함수를 완성해보세요.\n",
    "\n",
    "## 제한사항\n",
    "* 1 ≤ array의 길이 ≤ 100\n",
    "* 0 ≤ array의 원소 ≤ 1,000\n",
    "* 0 ≤ n ≤ 1,000\n",
    "## 입출력 예\n",
    "### array\tn\tresult\n",
    "### [1, 1, 2, 3, 4, 5]\t1\t2\n",
    "### [0, 2, 3, 4]\t1\t0\n",
    "## 입출력 예 설명\n",
    "## 입출력 예 #1\n",
    "\n",
    "### [1, 1, 2, 3, 4, 5] 에는 1이 2개 있습니다.\n",
    "## 입출력 예 #2\n",
    "\n",
    "### [0, 2, 3, 4] 에는 1이 0개 있습니다."
   ]
  },
  {
   "cell_type": "code",
   "execution_count": 3,
   "id": "ac42425b-c53e-4161-9950-6b84fb9b7c6f",
   "metadata": {},
   "outputs": [],
   "source": [
    "def solution(array, n):\n",
    "    return array.count(n)"
   ]
  },
  {
   "cell_type": "code",
   "execution_count": 4,
   "id": "7e0d20d5-9d3d-4902-9296-35b38cf0edd9",
   "metadata": {},
   "outputs": [
    {
     "data": {
      "text/plain": [
       "2"
      ]
     },
     "execution_count": 4,
     "metadata": {},
     "output_type": "execute_result"
    }
   ],
   "source": [
    "solution([1, 1, 2, 3, 4, 5], 1)"
   ]
  },
  {
   "cell_type": "code",
   "execution_count": 5,
   "id": "4430fe9d-55d2-4b93-ab76-dc666a5e3f70",
   "metadata": {},
   "outputs": [
    {
     "data": {
      "text/plain": [
       "0"
      ]
     },
     "execution_count": 5,
     "metadata": {},
     "output_type": "execute_result"
    }
   ],
   "source": [
    "solution([0, 2, 3, 4], 1)"
   ]
  },
  {
   "cell_type": "code",
   "execution_count": null,
   "id": "b0c995c7-d09c-4b12-94f0-e8e3de6cf14a",
   "metadata": {},
   "outputs": [],
   "source": []
  }
 ],
 "metadata": {
  "kernelspec": {
   "display_name": "Python 3 (ipykernel)",
   "language": "python",
   "name": "python3"
  },
  "language_info": {
   "codemirror_mode": {
    "name": "ipython",
    "version": 3
   },
   "file_extension": ".py",
   "mimetype": "text/x-python",
   "name": "python",
   "nbconvert_exporter": "python",
   "pygments_lexer": "ipython3",
   "version": "3.10.6"
  }
 },
 "nbformat": 4,
 "nbformat_minor": 5
}

{
 "cells": [
  {
   "cell_type": "markdown",
   "id": "6b6e3316-0100-4188-88b2-b37ba55faaca",
   "metadata": {},
   "source": [
    "# 문자열안에 문자열\n",
    "## 문제 설명\n",
    "### 문자열 str1, str2가 매개변수로 주어집니다. str1 안에 str2가 있다면 1을 없다면 2를 return하도록 solution 함수를 완성해주세요.\n",
    "\n",
    "## 제한사항\n",
    "* 1 ≤ str1의 길이 ≤ 100\n",
    "* 1 ≤ str2의 길이 ≤ 100\n",
    "## 입출력 예\n",
    "|str1|str2|result|\n",
    "|----|----|------|\n",
    "|\"ab6CDE443fgh22iJKlmn1o\"|\"6CD\"|1|\n",
    "|\"ppprrrogrammers\"|\"pppp\"|2|\n",
    "## 입출력 예 설명\n",
    "## 입출력 예 #1\n",
    "\n",
    "* \"ab6CDE443fgh22iJKlmn1o\" str1에 str2가 존재하므로 1을 return합니다.\n",
    "## 입출력 예 #2\n",
    "\n",
    "* \"ppprrrogrammers\" str1에 str2가 없으므로 2를 return합니다."
   ]
  },
  {
   "cell_type": "code",
   "execution_count": 1,
   "id": "b53d7835-1aac-4d03-b126-7c9bf3b89367",
   "metadata": {},
   "outputs": [],
   "source": [
    "def solution(str1, str2):\n",
    "    return 1 if str2 in str1 else 2"
   ]
  },
  {
   "cell_type": "code",
   "execution_count": 2,
   "id": "2f7a419a-4505-485f-bf05-baa3177cf996",
   "metadata": {},
   "outputs": [
    {
     "data": {
      "text/plain": [
       "1"
      ]
     },
     "execution_count": 2,
     "metadata": {},
     "output_type": "execute_result"
    }
   ],
   "source": [
    "solution(\"ab6CDE443fgh22iJKlmn1o\", \"6CD\")"
   ]
  },
  {
   "cell_type": "code",
   "execution_count": 3,
   "id": "e73176d7-07fd-403a-b31d-5d33c7706d6d",
   "metadata": {},
   "outputs": [
    {
     "data": {
      "text/plain": [
       "2"
      ]
     },
     "execution_count": 3,
     "metadata": {},
     "output_type": "execute_result"
    }
   ],
   "source": [
    "solution(\"ppprrrogrammers\", \"pppp\")"
   ]
  },
  {
   "cell_type": "code",
   "execution_count": null,
   "id": "2d1e1408-72dd-43b6-aaec-170301d38c9e",
   "metadata": {},
   "outputs": [],
   "source": []
  }
 ],
 "metadata": {
  "kernelspec": {
   "display_name": "Python 3 (ipykernel)",
   "language": "python",
   "name": "python3"
  },
  "language_info": {
   "codemirror_mode": {
    "name": "ipython",
    "version": 3
   },
   "file_extension": ".py",
   "mimetype": "text/x-python",
   "name": "python",
   "nbconvert_exporter": "python",
   "pygments_lexer": "ipython3",
   "version": "3.10.6"
  }
 },
 "nbformat": 4,
 "nbformat_minor": 5
}

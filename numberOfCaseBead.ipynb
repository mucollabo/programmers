{
 "cells": [
  {
   "cell_type": "markdown",
   "id": "b11e9655-7f62-45d8-b330-91ce04bf4a9e",
   "metadata": {},
   "source": [
    "# 구슬을 나누는 경우의 수\n",
    "## 문제 설명\n",
    "### 머쓱이는 구슬을 친구들에게 나누어주려고 합니다. 구슬은 모두 다르게 생겼습니다. 머쓱이가 갖고 있는 구슬의 개수 balls와 친구들에게 나누어 줄 구슬 개수 share이 매개변수로 주어질 때, balls개의 구슬 중 share개의 구슬을 고르는 가능한 모든 경우의 수를 return 하는 solution 함수를 완성해주세요.\n",
    "\n",
    "## 제한사항\n",
    "* 1 ≤ balls ≤ 30\n",
    "* 1 ≤ share ≤ 30\n",
    "* 구슬을 고르는 순서는 고려하지 않습니다.\n",
    "* share ≤ balls\n",
    "## 입출력 예\n",
    "|balls|share|result|\n",
    "|-----|-----|------|\n",
    "|3|2|3|\n",
    "|5|3|10|\n",
    "## 입출력 예 설명\n",
    "## 입출력 예 #1\n",
    "\n",
    "* 서로 다른 구슬 3개 중 2개를 고르는 경우의 수는 3입니다.<br><br>\n",
    "<img src=\"https://grepp-programmers.s3.ap-northeast-2.amazonaws.com/files/production/668adf7a-38b1-4112-bbc5-4fab429168c9/%E1%84%89%E1%85%B3%E1%84%8F%E1%85%B3%E1%84%85%E1%85%B5%E1%86%AB%E1%84%89%E1%85%A3%E1%86%BA%202022-08-01%20%E1%84%8B%E1%85%A9%E1%84%92%E1%85%AE%204.15.55.png\" alt=\"e.g i.o\" width=300 height=300>\n",
    "## 입출력 예 #2\n",
    "\n",
    "* 서로 다른 구슬 5개 중 3개를 고르는 경우의 수는 10입니다.\n",
    "### Hint\n",
    "* 서로 다른 n개 중 m개를 뽑는 경우의 수 공식은 다음과 같습니다.<br><br>\n",
    "<img src=\"https://grepp-programmers.s3.ap-northeast-2.amazonaws.com/files/production/54c8b2b9-f88c-4a09-8956-7560ff7ea918/%E1%84%89%E1%85%B3%E1%84%8F%E1%85%B3%E1%84%85%E1%85%B5%E1%86%AB%E1%84%89%E1%85%A3%E1%86%BA%202022-08-01%20%E1%84%8B%E1%85%A9%E1%84%92%E1%85%AE%204.37.53.png\" alt=\"formula\" width=200 height=200>\n",
    "##### ※ 공지 - 2022년 10월 11일 제한 사항 및 테스트케이스가 수정되었습니다."
   ]
  },
  {
   "cell_type": "code",
   "execution_count": 6,
   "id": "0d7695bd-b810-4465-9ccd-493cd15e8b41",
   "metadata": {},
   "outputs": [],
   "source": [
    "import math\n",
    "\n",
    "def solution(balls, share):\n",
    "    return math.factorial(balls)/(math.factorial(balls-share)*math.factorial(share))"
   ]
  },
  {
   "cell_type": "code",
   "execution_count": 7,
   "id": "5d36c32a-02cc-4f28-95ef-78e30f7d44c8",
   "metadata": {},
   "outputs": [
    {
     "data": {
      "text/plain": [
       "3.0"
      ]
     },
     "execution_count": 7,
     "metadata": {},
     "output_type": "execute_result"
    }
   ],
   "source": [
    "solution(3,2)"
   ]
  },
  {
   "cell_type": "code",
   "execution_count": 8,
   "id": "6937d5ab-e5e3-4ed2-b3a8-0c07e96eea78",
   "metadata": {},
   "outputs": [
    {
     "data": {
      "text/plain": [
       "10.0"
      ]
     },
     "execution_count": 8,
     "metadata": {},
     "output_type": "execute_result"
    }
   ],
   "source": [
    "solution(5,3)"
   ]
  },
  {
   "cell_type": "code",
   "execution_count": 9,
   "id": "4413161f-7a0f-4c09-8ef6-70ae8a08c85a",
   "metadata": {},
   "outputs": [],
   "source": [
    "import math\n",
    "\n",
    "def solution2(balls, share):\n",
    "    return math.comb(balls, share)"
   ]
  },
  {
   "cell_type": "code",
   "execution_count": 10,
   "id": "24a4cfe5-b119-4048-9c2e-7d687ec45812",
   "metadata": {},
   "outputs": [
    {
     "data": {
      "text/plain": [
       "3"
      ]
     },
     "execution_count": 10,
     "metadata": {},
     "output_type": "execute_result"
    }
   ],
   "source": [
    "solution2(3,2)"
   ]
  },
  {
   "cell_type": "code",
   "execution_count": 11,
   "id": "4c638f1f-342f-44b8-818f-a97057febdb3",
   "metadata": {},
   "outputs": [
    {
     "data": {
      "text/plain": [
       "10"
      ]
     },
     "execution_count": 11,
     "metadata": {},
     "output_type": "execute_result"
    }
   ],
   "source": [
    "solution2(5,3)"
   ]
  },
  {
   "cell_type": "code",
   "execution_count": null,
   "id": "3c9fffaf-2c85-442d-972c-6fe40efd29ac",
   "metadata": {},
   "outputs": [],
   "source": []
  }
 ],
 "metadata": {
  "kernelspec": {
   "display_name": "Python 3 (ipykernel)",
   "language": "python",
   "name": "python3"
  },
  "language_info": {
   "codemirror_mode": {
    "name": "ipython",
    "version": 3
   },
   "file_extension": ".py",
   "mimetype": "text/x-python",
   "name": "python",
   "nbconvert_exporter": "python",
   "pygments_lexer": "ipython3",
   "version": "3.10.6"
  }
 },
 "nbformat": 4,
 "nbformat_minor": 5
}

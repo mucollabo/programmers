{
 "cells": [
  {
   "cell_type": "markdown",
   "id": "ea9c9160-6af9-4fbc-af9d-4af30725a25e",
   "metadata": {},
   "source": [
    "# 자릿수 더하기\n",
    "## 문제 설명\n",
    "### 정수 n이 매개변수로 주어질 때 n의 각 자리 숫자의 합을 return하도록 solution 함수를 완성해주세요\n",
    "\n",
    "## 제한사항\n",
    "* 0 ≤ n ≤ 1,000,000\n",
    "## 입출력 예\n",
    "|n|result|\n",
    "|-|------|\n",
    "|1234|10|\n",
    "|930211|16|\n",
    "\n",
    "## 입출력 예 설명\n",
    "## 입출력 예 #1\n",
    "\n",
    "* 1 + 2 + 3 + 4 = 10을 return합니다.\n",
    "## 입출력 예 #2\n",
    "\n",
    "* 9 + 3 + 0 + 2 + 1 + 1 = 16을 return합니다."
   ]
  },
  {
   "cell_type": "code",
   "execution_count": 31,
   "id": "f00ece93-798e-4e23-b035-ec96d546f665",
   "metadata": {},
   "outputs": [],
   "source": [
    "def solution(n):\n",
    "    sum = 0\n",
    "    for d in list(str(n)):\n",
    "        sum += int(d)\n",
    "    return sum"
   ]
  },
  {
   "cell_type": "code",
   "execution_count": 32,
   "id": "838d782a-dff6-42e6-8852-1ce205af2dc0",
   "metadata": {},
   "outputs": [
    {
     "data": {
      "text/plain": [
       "10"
      ]
     },
     "execution_count": 32,
     "metadata": {},
     "output_type": "execute_result"
    }
   ],
   "source": [
    "solution(1234)"
   ]
  },
  {
   "cell_type": "code",
   "execution_count": 33,
   "id": "ac566c84-ab2a-48a1-9722-7b29e25f656f",
   "metadata": {},
   "outputs": [
    {
     "data": {
      "text/plain": [
       "16"
      ]
     },
     "execution_count": 33,
     "metadata": {},
     "output_type": "execute_result"
    }
   ],
   "source": [
    "solution(930211)"
   ]
  },
  {
   "cell_type": "code",
   "execution_count": 34,
   "id": "bf5a47b6-dd41-455e-abd3-0e2c340b0d16",
   "metadata": {},
   "outputs": [],
   "source": [
    "def solution2(n):\n",
    "    return sum(int(d) for d in list(str(n)))"
   ]
  },
  {
   "cell_type": "code",
   "execution_count": 35,
   "id": "b9ff9978-0f03-4539-8708-e9232c490bdb",
   "metadata": {},
   "outputs": [
    {
     "data": {
      "text/plain": [
       "10"
      ]
     },
     "execution_count": 35,
     "metadata": {},
     "output_type": "execute_result"
    }
   ],
   "source": [
    "solution2(1234)"
   ]
  },
  {
   "cell_type": "code",
   "execution_count": 36,
   "id": "563259e4-42aa-4b0b-9cd6-ae5eb8345572",
   "metadata": {},
   "outputs": [
    {
     "data": {
      "text/plain": [
       "16"
      ]
     },
     "execution_count": 36,
     "metadata": {},
     "output_type": "execute_result"
    }
   ],
   "source": [
    "solution2(930211)"
   ]
  },
  {
   "cell_type": "code",
   "execution_count": 37,
   "id": "f5d740d1-a394-4093-9a04-b31131d282bb",
   "metadata": {},
   "outputs": [],
   "source": [
    "def solution3(n):\n",
    "    return sum(list(map(int, str(n))))"
   ]
  },
  {
   "cell_type": "code",
   "execution_count": 38,
   "id": "e39fc88d-f883-41d1-9f01-eae07e51273f",
   "metadata": {},
   "outputs": [
    {
     "data": {
      "text/plain": [
       "10"
      ]
     },
     "execution_count": 38,
     "metadata": {},
     "output_type": "execute_result"
    }
   ],
   "source": [
    "solution3(1234)"
   ]
  },
  {
   "cell_type": "code",
   "execution_count": 39,
   "id": "095898b5-5aaa-42a5-b4ce-51aee58d16c2",
   "metadata": {},
   "outputs": [
    {
     "data": {
      "text/plain": [
       "16"
      ]
     },
     "execution_count": 39,
     "metadata": {},
     "output_type": "execute_result"
    }
   ],
   "source": [
    "solution3(930211)"
   ]
  },
  {
   "cell_type": "code",
   "execution_count": null,
   "id": "212215da-208d-4734-b011-824e80115eac",
   "metadata": {},
   "outputs": [],
   "source": []
  }
 ],
 "metadata": {
  "kernelspec": {
   "display_name": "Python 3 (ipykernel)",
   "language": "python",
   "name": "python3"
  },
  "language_info": {
   "codemirror_mode": {
    "name": "ipython",
    "version": 3
   },
   "file_extension": ".py",
   "mimetype": "text/x-python",
   "name": "python",
   "nbconvert_exporter": "python",
   "pygments_lexer": "ipython3",
   "version": "3.10.6"
  }
 },
 "nbformat": 4,
 "nbformat_minor": 5
}

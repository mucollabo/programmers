{
 "cells": [
  {
   "cell_type": "markdown",
   "id": "3fe80479-e730-458b-993d-75838de04046",
   "metadata": {},
   "source": [
    "# 7의 개수\n",
    "## 문제 설명\n",
    "### 머쓱이는 행운의 숫자 7을 가장 좋아합니다. 정수 배열 array가 매개변수로 주어질 때, 7이 총 몇 개 있는지 return 하도록 solution 함수를 완성해보세요.\n",
    "\n",
    "## 제한사항\n",
    "* 1 ≤ array의 길이 ≤ 100\n",
    "* 0 ≤ array의 원소 ≤ 100,000\n",
    "## 입출력 예\n",
    "|array|result|\n",
    "|-----|------|\n",
    "|[7, 77, 17]|4|\n",
    "|[10, 29]|0|\n",
    "## 입출력 예 설명\n",
    "## 입출력 예 #1\n",
    "\n",
    "* [7, 77, 17]에는 7이 4개 있으므로 4를 return 합니다.\n",
    "## 입출력 예 #2\n",
    "\n",
    "* [10, 29]에는 7이 없으므로 0을 return 합니다."
   ]
  },
  {
   "cell_type": "code",
   "execution_count": 17,
   "id": "fbc709ad-7d1b-4686-a1a2-3b646a7d2e79",
   "metadata": {},
   "outputs": [],
   "source": [
    "def solution(array):\n",
    "    return ''.join(map(str, array)).count('7')"
   ]
  },
  {
   "cell_type": "code",
   "execution_count": 18,
   "id": "f0a10c3c-0f94-4bfd-815f-83d1109644ce",
   "metadata": {},
   "outputs": [
    {
     "data": {
      "text/plain": [
       "4"
      ]
     },
     "execution_count": 18,
     "metadata": {},
     "output_type": "execute_result"
    }
   ],
   "source": [
    "solution([7, 77, 17])"
   ]
  },
  {
   "cell_type": "code",
   "execution_count": 19,
   "id": "a996e46a-42ff-4a50-a5b6-3420471a0ed3",
   "metadata": {},
   "outputs": [
    {
     "data": {
      "text/plain": [
       "0"
      ]
     },
     "execution_count": 19,
     "metadata": {},
     "output_type": "execute_result"
    }
   ],
   "source": [
    "solution([10,29])"
   ]
  },
  {
   "cell_type": "code",
   "execution_count": null,
   "id": "02795087-c67a-4075-86bc-f7f500d5261e",
   "metadata": {},
   "outputs": [],
   "source": []
  }
 ],
 "metadata": {
  "kernelspec": {
   "display_name": "Python 3 (ipykernel)",
   "language": "python",
   "name": "python3"
  },
  "language_info": {
   "codemirror_mode": {
    "name": "ipython",
    "version": 3
   },
   "file_extension": ".py",
   "mimetype": "text/x-python",
   "name": "python",
   "nbconvert_exporter": "python",
   "pygments_lexer": "ipython3",
   "version": "3.10.6"
  }
 },
 "nbformat": 4,
 "nbformat_minor": 5
}

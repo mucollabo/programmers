{
 "cells": [
  {
   "cell_type": "markdown",
   "id": "bb556d17-2066-4392-b1a0-a1b1c9c8831f",
   "metadata": {},
   "source": [
    "# 2차원으로 만들기\n",
    "## 문제 설명\n",
    "### 정수 배열 num_list와 정수 n이 매개변수로 주어집니다. num_list를 다음 설명과 같이 2차원 배열로 바꿔 return하도록 solution 함수를 완성해주세요.\n",
    "### num_list가 [1, 2, 3, 4, 5, 6, 7, 8] 로 길이가 8이고 n이 2이므로 num_list를 2 * 4 배열로 다음과 같이 변경합니다. 2차원으로 바꿀 때에는 num_list의 원소들을 앞에서부터 n개씩 나눠 2차원 배열로 변경합니다.\n",
    "\n",
    "|num_list|n|result|\n",
    "|--------|-|------|\n",
    "|[1, 2, 3, 4, 5, 6, 7, 8]|2|[[1, 2], [3, 4], [5, 6], [7, 8]]|\n",
    "## 제한사항\n",
    "* num_list의 길이는 n의 배 수개입니다.\n",
    "* 0 ≤ num_list의 길이 ≤ 150\n",
    "* 2 ≤ n < num_list의 길이\n",
    "## 입출력 예\n",
    "|num_list|n|result|\n",
    "|--------|-|------|\n",
    "|[1, 2, 3, 4, 5, 6, 7, 8]|2|[[1, 2], [3, 4], [5, 6], [7, 8]]|\n",
    "|[100, 95, 2, 4, 5, 6, 18, 33, 948]|3|[[100, 95, 2], [4, 5, 6], [18, 33, 948]]|\n",
    "## 입출력 예 설명\n",
    "## 입출력 예 #1\n",
    "\n",
    "* num_list가 [1, 2, 3, 4, 5, 6, 7, 8] 로 길이가 8이고 n이 2이므로 2 * 4 배열로 변경한 [[1, 2], [3, 4], [5, 6], [7, 8]] 을 return합니다.\n",
    "## 입출력 예 #2\n",
    "\n",
    "* num_list가 [100, 95, 2, 4, 5, 6, 18, 33, 948] 로 길이가 9이고 n이 3이므로 3 * 3 배열로 변경한 [[100, 95, 2], [4, 5, 6], [18, 33, 948]] 을 return합니다."
   ]
  },
  {
   "cell_type": "code",
   "execution_count": 61,
   "id": "6bdaf3fa-8bd6-44ec-8a1a-227884ffc8a0",
   "metadata": {},
   "outputs": [],
   "source": [
    "def solution(num_list, n):\n",
    "    result = []\n",
    "    temp = []\n",
    "    for i in range(len(num_list)):\n",
    "        temp.append(num_list[i])\n",
    "        if (i+1)%n == 0:\n",
    "            result.append(temp)\n",
    "            temp = []\n",
    "    return result"
   ]
  },
  {
   "cell_type": "code",
   "execution_count": 64,
   "id": "86e3645f-8260-4b35-9cec-37cfae752526",
   "metadata": {},
   "outputs": [
    {
     "data": {
      "text/plain": [
       "[[1, 2], [3, 4], [5, 6], [7, 8]]"
      ]
     },
     "execution_count": 64,
     "metadata": {},
     "output_type": "execute_result"
    }
   ],
   "source": [
    "solution([1, 2, 3, 4, 5, 6, 7, 8], 2)"
   ]
  },
  {
   "cell_type": "code",
   "execution_count": 65,
   "id": "102e1d38-43c0-444d-981d-bbaa619cf40f",
   "metadata": {},
   "outputs": [
    {
     "data": {
      "text/plain": [
       "[[100, 95, 2], [4, 5, 6], [18, 33, 948]]"
      ]
     },
     "execution_count": 65,
     "metadata": {},
     "output_type": "execute_result"
    }
   ],
   "source": [
    "solution([100, 95, 2, 4, 5, 6, 18, 33, 948], 3)"
   ]
  },
  {
   "cell_type": "code",
   "execution_count": 81,
   "id": "6f55bdb9-4250-48da-ad25-fa9cf2a46d6c",
   "metadata": {},
   "outputs": [],
   "source": [
    "import numpy as np\n",
    "def solution2(num_list, n):\n",
    "    return np.array(num_list).reshape(-1, n).tolist()"
   ]
  },
  {
   "cell_type": "code",
   "execution_count": 82,
   "id": "bf5f7200-b262-40db-aacf-fcae44bd9b2e",
   "metadata": {},
   "outputs": [
    {
     "data": {
      "text/plain": [
       "[[1, 2], [3, 4], [5, 6], [7, 8]]"
      ]
     },
     "execution_count": 82,
     "metadata": {},
     "output_type": "execute_result"
    }
   ],
   "source": [
    "solution2([1, 2, 3, 4, 5, 6, 7, 8], 2)"
   ]
  },
  {
   "cell_type": "code",
   "execution_count": null,
   "id": "44b225fb-b3c6-463d-b65b-901d76c4c8fb",
   "metadata": {},
   "outputs": [],
   "source": []
  }
 ],
 "metadata": {
  "kernelspec": {
   "display_name": "Python 3 (ipykernel)",
   "language": "python",
   "name": "python3"
  },
  "language_info": {
   "codemirror_mode": {
    "name": "ipython",
    "version": 3
   },
   "file_extension": ".py",
   "mimetype": "text/x-python",
   "name": "python",
   "nbconvert_exporter": "python",
   "pygments_lexer": "ipython3",
   "version": "3.10.6"
  }
 },
 "nbformat": 4,
 "nbformat_minor": 5
}

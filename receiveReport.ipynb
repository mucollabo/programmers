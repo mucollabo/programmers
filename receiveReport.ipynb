{
  "nbformat": 4,
  "nbformat_minor": 0,
  "metadata": {
    "colab": {
      "name": "receiveReport.ipynb",
      "provenance": [],
      "authorship_tag": "ABX9TyO2uNwQsWIcFaTfMicIOhSr",
      "include_colab_link": true
    },
    "kernelspec": {
      "name": "python3",
      "display_name": "Python 3"
    },
    "language_info": {
      "name": "python"
    }
  },
  "cells": [
    {
      "cell_type": "markdown",
      "metadata": {
        "id": "view-in-github",
        "colab_type": "text"
      },
      "source": [
        "<a href=\"https://colab.research.google.com/github/mucollabo/programmers/blob/main/receiveReport.ipynb\" target=\"_parent\"><img src=\"https://colab.research.google.com/assets/colab-badge.svg\" alt=\"Open In Colab\"/></a>"
      ]
    },
    {
      "cell_type": "code",
      "execution_count": 13,
      "metadata": {
        "id": "MZnpLVKNNPNF"
      },
      "outputs": [],
      "source": [
        "def solution(id_list, report, k):\n",
        "  answer = []\n",
        "  report = list(set(report))\n",
        "  reporters = []\n",
        "  defendants = []\n",
        "  for i in range(len(report)):\n",
        "    split_report = report[i].split(' ')\n",
        "    reporters.append(split_report[0])\n",
        "    defendants.append(split_report[1])\n",
        "  \n",
        "  event_num = {}\n",
        "  for defendant in defendants:\n",
        "    event_num[defendant] = defendants.count(defendant)\n",
        "  \n",
        "  for id in id_list:\n",
        "    if id not in event_num:\n",
        "      event_num[id] = 0\n",
        "\n",
        "  for id in id_list:\n",
        "    if event_num[id] >= k:\n",
        "      \n",
        "\n",
        "\n",
        "  return answer\n"
      ]
    },
    {
      "cell_type": "code",
      "source": [
        "id_list = [\"muzi\", \"frodo\", \"apeach\", \"neo\"]\n",
        "report = [\"muzi frodo\",\"apeach frodo\",\"frodo neo\",\"muzi neo\",\"apeach muzi\"]\n",
        "k = 2"
      ],
      "metadata": {
        "id": "ztxDi4OqOMti"
      },
      "execution_count": 2,
      "outputs": []
    },
    {
      "cell_type": "code",
      "source": [
        "solution(id_list, report, k)"
      ],
      "metadata": {
        "colab": {
          "base_uri": "https://localhost:8080/"
        },
        "id": "QN6nHBMmOfjz",
        "outputId": "722ad72c-a52a-448b-f917-3e13923a1a95"
      },
      "execution_count": 14,
      "outputs": [
        {
          "output_type": "stream",
          "name": "stdout",
          "text": [
            "{'frodo': 2, 'muzi': 1, 'neo': 2, 'apeach': 0}\n"
          ]
        },
        {
          "output_type": "execute_result",
          "data": {
            "text/plain": [
              "[]"
            ]
          },
          "metadata": {},
          "execution_count": 14
        }
      ]
    },
    {
      "cell_type": "code",
      "source": [
        "id_list2 = [\"con\", \"ryan\"]\n",
        "report2 = [\"ryan con\", \"ryan con\", \"ryan con\", \"ryan con\"]\n",
        "k2 = 3"
      ],
      "metadata": {
        "id": "WO_hg08hPfXK"
      },
      "execution_count": 6,
      "outputs": []
    },
    {
      "cell_type": "code",
      "source": [
        "solution(id_list2, report2, k2)"
      ],
      "metadata": {
        "colab": {
          "base_uri": "https://localhost:8080/"
        },
        "id": "0OIc2iVZQgPl",
        "outputId": "bf7916f1-4497-4dde-948e-d91d95b79d80"
      },
      "execution_count": 15,
      "outputs": [
        {
          "output_type": "stream",
          "name": "stdout",
          "text": [
            "{'con': 1, 'ryan': 0}\n"
          ]
        },
        {
          "output_type": "execute_result",
          "data": {
            "text/plain": [
              "[]"
            ]
          },
          "metadata": {},
          "execution_count": 15
        }
      ]
    },
    {
      "cell_type": "code",
      "source": [
        ""
      ],
      "metadata": {
        "id": "b4hDHQ647rIW"
      },
      "execution_count": null,
      "outputs": []
    }
  ]
}
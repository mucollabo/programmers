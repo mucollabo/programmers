{
 "cells": [
  {
   "cell_type": "markdown",
   "id": "071a90d1-a6ec-4531-aaa3-57d462788178",
   "metadata": {},
   "source": [
    "# 치킨 쿠폰\n",
    "## 문제 설명\n",
    "### 프로그래머스 치킨은 치킨을 시켜먹으면 한 마리당 쿠폰을 한 장 발급합니다. 쿠폰을 열 장 모으면 치킨을 한 마리 서비스로 받을 수 있고, 서비스 치킨에도 쿠폰이 발급됩니다. 시켜먹은 치킨의 수 chicken이 매개변수로 주어질 때 받을 수 있는 최대 서비스 치킨의 수를 return하도록 solution 함수를 완성해주세요.\n",
    "\n",
    "## 제한사항\n",
    "* chicken은 정수입니다.\n",
    "* 0 ≤ chicken ≤ 1,000,000\n",
    "## 입출력 예\n",
    "|chicken|result|\n",
    "|-------|------|\n",
    "|100|11|\n",
    "|1,081|120|\n",
    "## 입출력 예 설명\n",
    "## 입출력 예 #1\n",
    "\n",
    "* 100마리를 주문하면 쿠폰이 100장 발급되므로 서비스 치킨 10마리를 주문할 수 있습니다.\n",
    "* 10마리를 주문하면 쿠폰이 10장 발급되므로 서비스 치킨 1마리를 주문할 수 있습니다.\n",
    "* 따라서 10 + 1 = 11 을 return합니다.\n",
    "## 입출력 예 #2\n",
    "\n",
    "* 1081마리를 주문하면 쿠폰이 1081장 발급되므로 서비스 치킨 108마리를 주문할 수 있습니다. 그리고 쿠폰이 1장 남습니다.\n",
    "* 108마리를 주문하면 쿠폰이 108장 발급되므로 서비스 치킨 10마리를 주문할 수 있습니다. 그리고 쿠폰이 8장 남습니다.\n",
    "* 10마리를 주문하면 쿠폰이 10장 발급되므로 서비스 치킨 1마리를 주문할 수 있습니다.\n",
    "* 1마리를 주문하면 쿠폰이 1장 발급됩니다.\n",
    "* 가지고 있는 쿠폰이 총 10장이므로 서비스 치킨 1마리를 추가로 주문할 수 있습니다.\n",
    "* 따라서 108 + 10 + 1 + 1 = 120 을 return합니다."
   ]
  },
  {
   "cell_type": "code",
   "execution_count": 35,
   "id": "5b7289e0-ec15-49b9-affa-92e34a3e8a0d",
   "metadata": {},
   "outputs": [],
   "source": [
    "def solution(chicken):\n",
    "    s = 0\n",
    "    c = chicken\n",
    "    while c > 9:\n",
    "        s += c//10\n",
    "        c = c//10 + c%10\n",
    "    return s"
   ]
  },
  {
   "cell_type": "code",
   "execution_count": 36,
   "id": "396e536c-d0f6-4410-b180-255bf8f43f9c",
   "metadata": {},
   "outputs": [
    {
     "data": {
      "text/plain": [
       "11"
      ]
     },
     "execution_count": 36,
     "metadata": {},
     "output_type": "execute_result"
    }
   ],
   "source": [
    "solution(100)"
   ]
  },
  {
   "cell_type": "code",
   "execution_count": 37,
   "id": "5e4a6f93-4df9-4017-92d2-8885c053f11f",
   "metadata": {},
   "outputs": [
    {
     "data": {
      "text/plain": [
       "120"
      ]
     },
     "execution_count": 37,
     "metadata": {},
     "output_type": "execute_result"
    }
   ],
   "source": [
    "solution(1081)"
   ]
  },
  {
   "cell_type": "code",
   "execution_count": null,
   "id": "521f9d00-e046-4514-810c-e41f21b3146f",
   "metadata": {},
   "outputs": [],
   "source": []
  }
 ],
 "metadata": {
  "kernelspec": {
   "display_name": "Python 3 (ipykernel)",
   "language": "python",
   "name": "python3"
  },
  "language_info": {
   "codemirror_mode": {
    "name": "ipython",
    "version": 3
   },
   "file_extension": ".py",
   "mimetype": "text/x-python",
   "name": "python",
   "nbconvert_exporter": "python",
   "pygments_lexer": "ipython3",
   "version": "3.10.6"
  }
 },
 "nbformat": 4,
 "nbformat_minor": 5
}

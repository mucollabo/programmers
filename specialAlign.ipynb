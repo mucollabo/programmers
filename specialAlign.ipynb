{
 "cells": [
  {
   "cell_type": "markdown",
   "id": "5eb62441-c416-4793-96ed-1220627a9e4e",
   "metadata": {},
   "source": [
    "# 특이한 정렬\n",
    "## 문제 설명\n",
    "### 정수 n을 기준으로 n과 가까운 수부터 정렬하려고 합니다. 이때 n으로부터의 거리가 같다면 더 큰 수를 앞에 오도록 배치합니다. 정수가 담긴 배열 numlist와 정수 n이 주어질 때 numlist의 원소를 n으로부터 가까운 순서대로 정렬한 배열을 return하도록 solution 함수를 완성해주세요.\n",
    "\n",
    "## 제한사항\n",
    "* 1 ≤ n ≤ 10,000\n",
    "* 1 ≤ numlist의 원소 ≤ 10,000\n",
    "* 1 ≤ numlist의 길이 ≤ 100\n",
    "* numlist는 중복된 원소를 갖지 않습니다.\n",
    "## 입출력 예\n",
    "|numlist|n|result|\n",
    "|-------|-|------|\n",
    "|[1, 2, 3, 4, 5, 6]|4|[4, 5, 3, 6, 2, 1]|\n",
    "|[10000,20,36,47,40,6,10,7000]|30|[36, 40, 20, 47, 10, 6, 7000, 10000]|\n",
    "## 입출력 예 설명\n",
    "## 입출력 예 #1\n",
    "\n",
    "* 4에서 가까운 순으로 [4, 5, 3, 6, 2, 1]을 return합니다.\n",
    "* 3과 5는 거리가 같으므로 더 큰 5가 앞에 와야 합니다.\n",
    "* 2와 6은 거리가 같으므로 더 큰 6이 앞에 와야 합니다.\n",
    "## 입출력 예 #2\n",
    "\n",
    "* 30에서 가까운 순으로 [36, 40, 20, 47, 10, 6, 7000, 10000]을 return합니다.\n",
    "* 20과 40은 거리가 같으므로 더 큰 40이 앞에 와야 합니다."
   ]
  },
  {
   "cell_type": "code",
   "execution_count": 90,
   "id": "3204612a-ab8d-4114-af03-7c51c7ce8899",
   "metadata": {},
   "outputs": [],
   "source": [
    "def solution(numlist, n):\n",
    "    dict_nl = list(map(lambda e: [abs(n-e),e], numlist))\n",
    "    sort_nl = sorted(dict_nl, key = lambda x: (x[0], -x[1]))\n",
    "    return [e[1] for e in sort_nl]"
   ]
  },
  {
   "cell_type": "code",
   "execution_count": 91,
   "id": "fdd5c52f-59da-40f5-baff-9b4d56446d69",
   "metadata": {},
   "outputs": [
    {
     "data": {
      "text/plain": [
       "[4, 5, 3, 6, 2, 1]"
      ]
     },
     "execution_count": 91,
     "metadata": {},
     "output_type": "execute_result"
    }
   ],
   "source": [
    "solution([1,2,3,4,5,6], 4)"
   ]
  },
  {
   "cell_type": "code",
   "execution_count": 92,
   "id": "8fd5c4c0-0b9b-4da5-8558-9bdff2a2e4c0",
   "metadata": {},
   "outputs": [
    {
     "data": {
      "text/plain": [
       "[36, 40, 20, 47, 10, 6, 7000, 10000]"
      ]
     },
     "execution_count": 92,
     "metadata": {},
     "output_type": "execute_result"
    }
   ],
   "source": [
    "solution([10000,20,36,47,40,6,10,7000], 30)"
   ]
  },
  {
   "cell_type": "code",
   "execution_count": null,
   "id": "da5648ac-2a25-4853-b60a-0d910998b13d",
   "metadata": {},
   "outputs": [],
   "source": []
  }
 ],
 "metadata": {
  "kernelspec": {
   "display_name": "Python 3 (ipykernel)",
   "language": "python",
   "name": "python3"
  },
  "language_info": {
   "codemirror_mode": {
    "name": "ipython",
    "version": 3
   },
   "file_extension": ".py",
   "mimetype": "text/x-python",
   "name": "python",
   "nbconvert_exporter": "python",
   "pygments_lexer": "ipython3",
   "version": "3.10.6"
  }
 },
 "nbformat": 4,
 "nbformat_minor": 5
}

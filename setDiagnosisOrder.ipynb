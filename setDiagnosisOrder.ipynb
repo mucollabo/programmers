{
 "cells": [
  {
   "cell_type": "markdown",
   "id": "f9f5716e-fb69-4548-9532-93bf75e79977",
   "metadata": {},
   "source": [
    "# 진료 순서 정하기\n",
    "## 문제 설명\n",
    "### 외과의사 머쓱이는 응급실에 온 환자의 응급도를 기준으로 진료 순서를 정하려고 합니다. 정수 배열 emergency가 매개변수로 주어질 때 응급도가 높은 순서대로 진료 순서를 정한 배열을 return하도록 solution 함수를 완성해주세요.\n",
    "\n",
    "## 제한사항\n",
    "* 중복된 원소는 없습니다.\n",
    "* 1 ≤ emergency의 길이 ≤ 10\n",
    "* 1 ≤ emergency의 원소 ≤ 100\n",
    "## 입출력 예\n",
    "|emergency|result|\n",
    "|---------|------|\n",
    "|[3, 76, 24]|[3, 1, 2]|\n",
    "|[1, 2, 3, 4, 5, 6, 7]|[7, 6, 5, 4, 3, 2, 1]|\n",
    "|[30, 10, 23, 6, 100]|[2, 4, 3, 5, 1]|\n",
    "## 입출력 예 설명\n",
    "## 입출력 예 #1\n",
    "\n",
    "* emergency가 [3, 76, 24]이므로 응급도의 크기 순서대로 번호를 매긴 [3, 1, 2]를 return합니다.\n",
    "## 입출력 예 #2\n",
    "\n",
    "* emergency가 [1, 2, 3, 4, 5, 6, 7]이므로 응급도의 크기 순서대로 번호를 매긴 [7, 6, 5, 4, 3, 2, 1]를 return합니다.\n",
    "## 입출력 예 #3\n",
    "\n",
    "* emergency가 [30, 10, 23, 6, 100]이므로 응급도의 크기 순서대로 번호를 매긴 [2, 4, 3, 5, 1]를 return합니다."
   ]
  },
  {
   "cell_type": "code",
   "execution_count": 9,
   "id": "1aa98863-321e-4d3b-93bf-8130060ca80a",
   "metadata": {},
   "outputs": [],
   "source": [
    "def solution(emergency):\n",
    "    t = []\n",
    "    for i in emergency:\n",
    "        t.append(sorted(emergency, reverse=True).index(i)+1)\n",
    "    return t"
   ]
  },
  {
   "cell_type": "code",
   "execution_count": 10,
   "id": "41ae125b-7773-49ae-9069-fa8b6b927535",
   "metadata": {},
   "outputs": [
    {
     "data": {
      "text/plain": [
       "[3, 1, 2]"
      ]
     },
     "execution_count": 10,
     "metadata": {},
     "output_type": "execute_result"
    }
   ],
   "source": [
    "solution([3,76,24])"
   ]
  },
  {
   "cell_type": "code",
   "execution_count": 11,
   "id": "de6cc3aa-facd-40b2-a720-1e62398d8142",
   "metadata": {},
   "outputs": [
    {
     "data": {
      "text/plain": [
       "[7, 6, 5, 4, 3, 2, 1]"
      ]
     },
     "execution_count": 11,
     "metadata": {},
     "output_type": "execute_result"
    }
   ],
   "source": [
    "solution([1, 2, 3, 4, 5, 6, 7])"
   ]
  },
  {
   "cell_type": "code",
   "execution_count": 12,
   "id": "ee8efcd9-f30b-4310-8612-a9f6a6c0d19d",
   "metadata": {},
   "outputs": [
    {
     "data": {
      "text/plain": [
       "[2, 4, 3, 5, 1]"
      ]
     },
     "execution_count": 12,
     "metadata": {},
     "output_type": "execute_result"
    }
   ],
   "source": [
    "solution([30, 10, 23, 6, 100])"
   ]
  },
  {
   "cell_type": "code",
   "execution_count": 13,
   "id": "5b3fdace-6633-48b6-a971-93158cb65c29",
   "metadata": {},
   "outputs": [],
   "source": [
    "def solution2(emergency):\n",
    "    return [sorted(emergency, reverse=True).index(i)+1 for i in emergency]"
   ]
  },
  {
   "cell_type": "code",
   "execution_count": 14,
   "id": "43924ceb-8de0-4549-97e9-c0460bd60217",
   "metadata": {},
   "outputs": [
    {
     "data": {
      "text/plain": [
       "[3, 1, 2]"
      ]
     },
     "execution_count": 14,
     "metadata": {},
     "output_type": "execute_result"
    }
   ],
   "source": [
    "solution2([3,76,24])"
   ]
  },
  {
   "cell_type": "code",
   "execution_count": 15,
   "id": "71586140-b768-4dcf-85b2-df11b84b3a36",
   "metadata": {},
   "outputs": [
    {
     "data": {
      "text/plain": [
       "[7, 6, 5, 4, 3, 2, 1]"
      ]
     },
     "execution_count": 15,
     "metadata": {},
     "output_type": "execute_result"
    }
   ],
   "source": [
    "solution2([1, 2, 3, 4, 5, 6, 7])"
   ]
  },
  {
   "cell_type": "code",
   "execution_count": 16,
   "id": "9ff00772-7a6d-4c0a-be26-c199e0034f74",
   "metadata": {},
   "outputs": [
    {
     "data": {
      "text/plain": [
       "[2, 4, 3, 5, 1]"
      ]
     },
     "execution_count": 16,
     "metadata": {},
     "output_type": "execute_result"
    }
   ],
   "source": [
    "solution2([30, 10, 23, 6, 100])"
   ]
  },
  {
   "cell_type": "code",
   "execution_count": null,
   "id": "300fffdc-d56b-4280-8ae8-139bbcbb8d8d",
   "metadata": {},
   "outputs": [],
   "source": []
  }
 ],
 "metadata": {
  "kernelspec": {
   "display_name": "Python 3 (ipykernel)",
   "language": "python",
   "name": "python3"
  },
  "language_info": {
   "codemirror_mode": {
    "name": "ipython",
    "version": 3
   },
   "file_extension": ".py",
   "mimetype": "text/x-python",
   "name": "python",
   "nbconvert_exporter": "python",
   "pygments_lexer": "ipython3",
   "version": "3.10.6"
  }
 },
 "nbformat": 4,
 "nbformat_minor": 5
}

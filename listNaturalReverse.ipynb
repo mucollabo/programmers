{
 "cells": [
  {
   "cell_type": "markdown",
   "id": "de7c4d36-692b-4dd5-a24f-095989f7d076",
   "metadata": {},
   "source": [
    "# 자연수 뒤집어 배열로 만들기\n",
    "## 문제 설명\n",
    "### 자연수 n을 뒤집어 각 자리 숫자를 원소로 가지는 배열 형태로 리턴해주세요. 예를들어 n이 12345이면 [5,4,3,2,1]을 리턴합니다.\n",
    "\n",
    "## 제한 조건\n",
    "* n은 10,000,000,000이하인 자연수입니다.\n",
    "## 입출력 예\n",
    "|n|return|\n",
    "|-|------|\n",
    "|12345|[5,4,3,2,1]|"
   ]
  },
  {
   "cell_type": "code",
   "execution_count": 25,
   "id": "ca2e989d-adac-46f4-8c39-85d8c2ba60d3",
   "metadata": {},
   "outputs": [],
   "source": [
    "def solution(n):\n",
    "    return list(reversed([int(i) for i in str(n)]))"
   ]
  },
  {
   "cell_type": "code",
   "execution_count": 26,
   "id": "a524693c-385d-4dbb-89ed-b91c8a12d266",
   "metadata": {},
   "outputs": [
    {
     "data": {
      "text/plain": [
       "[5, 4, 3, 2, 1]"
      ]
     },
     "execution_count": 26,
     "metadata": {},
     "output_type": "execute_result"
    }
   ],
   "source": [
    "solution(12345)"
   ]
  },
  {
   "cell_type": "code",
   "execution_count": null,
   "id": "1d763ab7-f0fc-4041-bb9d-83823e43b342",
   "metadata": {},
   "outputs": [],
   "source": []
  }
 ],
 "metadata": {
  "kernelspec": {
   "display_name": "Python 3 (ipykernel)",
   "language": "python",
   "name": "python3"
  },
  "language_info": {
   "codemirror_mode": {
    "name": "ipython",
    "version": 3
   },
   "file_extension": ".py",
   "mimetype": "text/x-python",
   "name": "python",
   "nbconvert_exporter": "python",
   "pygments_lexer": "ipython3",
   "version": "3.10.6"
  }
 },
 "nbformat": 4,
 "nbformat_minor": 5
}

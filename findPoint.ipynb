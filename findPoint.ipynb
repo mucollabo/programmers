{
 "cells": [
  {
   "cell_type": "markdown",
   "id": "791aecab-022c-48a5-81cc-956b2b093ec2",
   "metadata": {},
   "source": [
    "# 점의 위치 구하기\n",
    "## 문제 설명\n",
    "### 사분면은 한 평면을 x축과 y축을 기준으로 나눈 네 부분입니다. 사분면은 아래와 같이 1부터 4까지 번호를매깁니다.\n",
    "<img src=\"https://grepp-programmers.s3.ap-northeast-2.amazonaws.com/files/production/b58d4788-42fa-44fa-af50-481907e65473/%E1%84%89%E1%85%B3%E1%84%8F%E1%85%B3%E1%84%85%E1%85%B5%E1%86%AB%E1%84%89%E1%85%A3%E1%86%BA%202022-07-07%20%E1%84%8B%E1%85%A9%E1%84%92%E1%85%AE%203.27.04%20%E1%84%87%E1%85%A9%E1%86%A8%E1%84%89%E1%85%A1%E1%84%87%E1%85%A9%E1%86%AB.png\" alt=\"Graph\" style=\"height:30%; width:30%;\"/>\n",
    "\n",
    "* x 좌표와 y 좌표가 모두 양수이면 제1사분면에 속합니다.\n",
    "* x 좌표가 음수, y 좌표가 양수이면 제2사분면에 속합니다.\n",
    "* x 좌표와 y 좌표가 모두 음수이면 제3사분면에 속합니다.\n",
    "* x 좌표가 양수, y 좌표가 음수이면 제4사분면에 속합니다.\n",
    "### x 좌표 (x, y)를 차례대로 담은 정수 배열 dot이 매개변수로 주어집니다. 좌표 dot이 사분면 중 어디에 속하는지 1, 2, 3, 4 중 하나를 return 하도록 solution 함수를 완성해주세요.\n",
    "\n",
    "## 제한사항\n",
    "* dot의 길이 = 2\n",
    "* dot[0]은 x좌표를, dot[1]은 y좌표를 나타냅니다\n",
    "* -500 ≤ dot의 원소 ≤ 500\n",
    "* dot의 원소는 0이 아닙니다.\n",
    "## 입출력 예\n",
    "|dot|result|\n",
    "|---|------|\n",
    "|[2, 4]|1|\n",
    "|[-7, 9]|2|\n",
    "## 입출력 예 설명\n",
    "## 입출력 예 #1\n",
    "\n",
    "* dot이 [2, 4]로 x 좌표와 y 좌표 모두 양수이므로 제 1 사분면에 속합니다. 따라서 1을 return 합니다.\n",
    "## 입출력 예 #2\n",
    "\n",
    "* dot이 [-7, 9]로 x 좌표가 음수, y 좌표가 양수이므로 제 2 사분면에 속합니다. 따라서 2를 return 합니다."
   ]
  },
  {
   "cell_type": "code",
   "execution_count": 1,
   "id": "bfabbc8c-2474-49fa-a1cf-79c50c3b1eb3",
   "metadata": {},
   "outputs": [],
   "source": [
    "def solution(dot):\n",
    "    if dot[0] > 0 and dot[1] > 0:\n",
    "        return 1\n",
    "    elif dot[0] < 0 and dot[1] > 0:\n",
    "        return 2\n",
    "    elif dot[0] < 0 and dot[1] < 0:\n",
    "        return 3\n",
    "    else:\n",
    "        return 4"
   ]
  },
  {
   "cell_type": "code",
   "execution_count": 2,
   "id": "33276c09-a3df-444a-b1c5-925ba81f5920",
   "metadata": {},
   "outputs": [
    {
     "data": {
      "text/plain": [
       "1"
      ]
     },
     "execution_count": 2,
     "metadata": {},
     "output_type": "execute_result"
    }
   ],
   "source": [
    "solution([2,4])"
   ]
  },
  {
   "cell_type": "code",
   "execution_count": 3,
   "id": "e0759e57-edab-46de-ad71-f73ae2211eb2",
   "metadata": {},
   "outputs": [
    {
     "data": {
      "text/plain": [
       "2"
      ]
     },
     "execution_count": 3,
     "metadata": {},
     "output_type": "execute_result"
    }
   ],
   "source": [
    "solution([-7,9])"
   ]
  },
  {
   "cell_type": "code",
   "execution_count": 4,
   "id": "c6f5869a-1ff8-43eb-a60f-43c51d5cebfa",
   "metadata": {},
   "outputs": [
    {
     "data": {
      "text/plain": [
       "3"
      ]
     },
     "execution_count": 4,
     "metadata": {},
     "output_type": "execute_result"
    }
   ],
   "source": [
    "solution([-3,-2])"
   ]
  },
  {
   "cell_type": "code",
   "execution_count": 5,
   "id": "0052c8c5-819e-47d4-99b4-46d9cc74c0bd",
   "metadata": {},
   "outputs": [
    {
     "data": {
      "text/plain": [
       "4"
      ]
     },
     "execution_count": 5,
     "metadata": {},
     "output_type": "execute_result"
    }
   ],
   "source": [
    "solution([3,-2])"
   ]
  },
  {
   "cell_type": "code",
   "execution_count": null,
   "id": "8ab4418b-ed03-4b45-8883-f6416ef0d680",
   "metadata": {},
   "outputs": [],
   "source": []
  }
 ],
 "metadata": {
  "kernelspec": {
   "display_name": "Python 3 (ipykernel)",
   "language": "python",
   "name": "python3"
  },
  "language_info": {
   "codemirror_mode": {
    "name": "ipython",
    "version": 3
   },
   "file_extension": ".py",
   "mimetype": "text/x-python",
   "name": "python",
   "nbconvert_exporter": "python",
   "pygments_lexer": "ipython3",
   "version": "3.10.6"
  }
 },
 "nbformat": 4,
 "nbformat_minor": 5
}

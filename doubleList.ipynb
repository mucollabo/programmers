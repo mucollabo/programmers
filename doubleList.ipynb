{
 "cells": [
  {
   "cell_type": "markdown",
   "id": "2c3dbd94-97ef-42f1-b2f8-1022af986241",
   "metadata": {},
   "source": [
    "# 배열 두배 만들기\n",
    "## 문제 설명\n",
    "### 정수 배열 numbers가 매개변수로 주어집니다. numbers의 각 원소에 두배한 원소를 가진 배열을 return하도록 solution 함수를 완성해주세요.\n",
    "\n",
    "## 제한사항\n",
    "* -10,000 ≤ numbers의 원소 ≤ 10,000\n",
    "* 1 ≤ numbers의 길이 ≤ 1,000\n",
    "## 입출력 예\n",
    "|numbers|result|\n",
    "|-------|------|\n",
    "|[1, 2, 3, 4, 5]|[2, 4, 6, 8, 10]|\n",
    "|[1, 2, 100, -99, 1, 2, 3]|[2, 4, 200, -198, 2, 4, 6]|\n",
    "## 입출력 예 설명\n",
    "## 입출력 예 #1\n",
    "\n",
    "* [1, 2, 3, 4, 5]의 각 원소에 두배를 한 배열 [2, 4, 6, 8, 10]을 return합니다.\n",
    "## 입출력 예 #2\n",
    "\n",
    "* [1, 2, 100, -99, 1, 2, 3]의 각 원소에 두배를 한 배열 [2, 4, 200, -198, 2, 4, 6]을 return합니다."
   ]
  },
  {
   "cell_type": "code",
   "execution_count": 1,
   "id": "fd7c6791-91c7-4856-bc6f-fe0d208e94ca",
   "metadata": {},
   "outputs": [],
   "source": [
    "def solution(numbers):\n",
    "    return [number*2 for number in numbers]"
   ]
  },
  {
   "cell_type": "code",
   "execution_count": 2,
   "id": "eb64d2c4-3e47-4767-8612-9dad186b7acc",
   "metadata": {},
   "outputs": [
    {
     "data": {
      "text/plain": [
       "[2, 4, 6, 8, 10]"
      ]
     },
     "execution_count": 2,
     "metadata": {},
     "output_type": "execute_result"
    }
   ],
   "source": [
    "solution([1, 2, 3, 4, 5])"
   ]
  },
  {
   "cell_type": "code",
   "execution_count": 3,
   "id": "2ea3318f-82ef-4c26-8062-e1cc37468a02",
   "metadata": {},
   "outputs": [
    {
     "data": {
      "text/plain": [
       "[2, 4, 200, -198, 2, 4, 6]"
      ]
     },
     "execution_count": 3,
     "metadata": {},
     "output_type": "execute_result"
    }
   ],
   "source": [
    "solution([1, 2, 100, -99, 1, 2, 3])"
   ]
  },
  {
   "cell_type": "code",
   "execution_count": null,
   "id": "962a4350-cbbc-4a22-be62-b2b4ed9a072f",
   "metadata": {},
   "outputs": [],
   "source": []
  }
 ],
 "metadata": {
  "kernelspec": {
   "display_name": "Python 3 (ipykernel)",
   "language": "python",
   "name": "python3"
  },
  "language_info": {
   "codemirror_mode": {
    "name": "ipython",
    "version": 3
   },
   "file_extension": ".py",
   "mimetype": "text/x-python",
   "name": "python",
   "nbconvert_exporter": "python",
   "pygments_lexer": "ipython3",
   "version": "3.10.6"
  }
 },
 "nbformat": 4,
 "nbformat_minor": 5
}

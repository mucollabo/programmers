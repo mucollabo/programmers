{
 "cells": [
  {
   "cell_type": "markdown",
   "id": "6cbe577c-ca6c-48a9-a67a-e5710591cb55",
   "metadata": {},
   "source": [
    "# 다항식 더하기\n",
    "## 문제 설명\n",
    "## 한 개 이상의 항의 합으로 이루어진 식을 다항식이라고 합니다. 다항식을 계산할 때는 동류항끼리 계산해 정리합니다. 덧셈으로 이루어진 다항식 polynomial이 매개변수로 주어질 때, 동류항끼리 더한 결괏값을 문자열로 return 하도록 solution 함수를 완성해보세요. 같은 식이라면 가장 짧은 수식을 return 합니다.\n",
    "\n",
    "## 제한사항\n",
    "* 0 < polynomial에 있는 수 < 100\n",
    "\n",
    "* polynomial에 변수는 'x'만 존재합니다.\n",
    "\n",
    "* polynomial은 0부터 9까지의 정수, 공백, ‘x’, ‘+'로 이루어져 있습니다.\n",
    "\n",
    "* 항과 연산기호 사이에는 항상 공백이 존재합니다.\n",
    "\n",
    "* 공백은 연속되지 않으며 시작이나 끝에는 공백이 없습니다.\n",
    "\n",
    "* 하나의 항에서 변수가 숫자 앞에 오는 경우는 없습니다.\n",
    "\n",
    "* \" + 3xx + + x7 + \"와 같은 잘못된 입력은 주어지지 않습니다.\n",
    "\n",
    "* \"012x + 001\"처럼 0을 제외하고는 0으로 시작하는 수는 없습니다.\n",
    "\n",
    "* 문자와 숫자 사이의 곱하기는 생략합니다.\n",
    "\n",
    "* polynomial에는 일차 항과 상수항만 존재합니다.\n",
    "\n",
    "* 계수 1은 생략합니다.\n",
    "\n",
    "* 결괏값에 상수항은 마지막에 둡니다.\n",
    "\n",
    "* 0 < polynomial의 길이 < 50\n",
    "\n",
    "## 입출력 예\n",
    "|polynomial|result|\n",
    "|----------|------|\n",
    "|\"3x + 7 + x\"|\"4x + 7\"|\n",
    "|\"x + x + x\"|\"3x\"|\n",
    "## 입출력 예 설명\n",
    "## 입출력 예 #1\n",
    "\n",
    "* \"3x + 7 + x\"에서 동류항끼리 더하면 \"4x + 7\"입니다.\n",
    "## 입출력 예 #2\n",
    "\n",
    "* \"x + x + x\"에서 동류항끼리 더하면 \"3x\"입니다."
   ]
  },
  {
   "cell_type": "code",
   "execution_count": 113,
   "id": "ecc276ee-2f8b-49c7-8694-464617973352",
   "metadata": {},
   "outputs": [],
   "source": [
    "def solution(polynomial):\n",
    "    x,c = [],[]\n",
    "    for e in polynomial.split(' '):\n",
    "        if 'x' not in e and '+' not in e:\n",
    "            c.append(eval(e))\n",
    "        elif 'x' in e:\n",
    "            x.append(1) if len(e) == 1 else x.append(eval(e[:-1]))\n",
    "    sx, sc = sum(x), sum(c)\n",
    "    if sx > 0 and sc > 0:\n",
    "        result = (str(sx) if sx != 1 else '') + 'x' + ' + ' + str(sc)\n",
    "    elif sx > 0 and sc == 0:\n",
    "        result = (str(sx) if sx != 1 else '') + 'x'\n",
    "    elif sx == 0 and sc > 0:\n",
    "        result = str(sc)\n",
    "    return result"
   ]
  },
  {
   "cell_type": "code",
   "execution_count": 114,
   "id": "0e74316d-f51c-4538-bfe2-5145a53b62be",
   "metadata": {},
   "outputs": [
    {
     "data": {
      "text/plain": [
       "'4x + 7'"
      ]
     },
     "execution_count": 114,
     "metadata": {},
     "output_type": "execute_result"
    }
   ],
   "source": [
    "solution(\"3x + 7 + x\")"
   ]
  },
  {
   "cell_type": "code",
   "execution_count": 115,
   "id": "bff9b73c-d3ac-4cab-a38f-1770b80ccca2",
   "metadata": {},
   "outputs": [
    {
     "data": {
      "text/plain": [
       "'3x'"
      ]
     },
     "execution_count": 115,
     "metadata": {},
     "output_type": "execute_result"
    }
   ],
   "source": [
    "solution(\"x + x + x\")"
   ]
  },
  {
   "cell_type": "code",
   "execution_count": 116,
   "id": "04bd7716-96a9-4a2b-8c7e-7140a71196f8",
   "metadata": {},
   "outputs": [
    {
     "data": {
      "text/plain": [
       "'5.4x + 3'"
      ]
     },
     "execution_count": 116,
     "metadata": {},
     "output_type": "execute_result"
    }
   ],
   "source": [
    "solution(\"1.4x + 3 + 4x\")"
   ]
  },
  {
   "cell_type": "code",
   "execution_count": 117,
   "id": "2c7a59e2-38fe-4a68-94b6-668ce3ad7986",
   "metadata": {},
   "outputs": [
    {
     "data": {
      "text/plain": [
       "'6.3x + 3.3'"
      ]
     },
     "execution_count": 117,
     "metadata": {},
     "output_type": "execute_result"
    }
   ],
   "source": [
    "solution(\"3x + 3.3 + 3.3x\")"
   ]
  },
  {
   "cell_type": "code",
   "execution_count": 118,
   "id": "88d8f000-93b8-4ed7-af67-77740a9f7073",
   "metadata": {},
   "outputs": [
    {
     "data": {
      "text/plain": [
       "'x'"
      ]
     },
     "execution_count": 118,
     "metadata": {},
     "output_type": "execute_result"
    }
   ],
   "source": [
    "solution(\"x\")"
   ]
  },
  {
   "cell_type": "code",
   "execution_count": null,
   "id": "23739da2-d5fd-4159-9bd5-a3a569fa7c87",
   "metadata": {},
   "outputs": [],
   "source": []
  }
 ],
 "metadata": {
  "kernelspec": {
   "display_name": "Python 3 (ipykernel)",
   "language": "python",
   "name": "python3"
  },
  "language_info": {
   "codemirror_mode": {
    "name": "ipython",
    "version": 3
   },
   "file_extension": ".py",
   "mimetype": "text/x-python",
   "name": "python",
   "nbconvert_exporter": "python",
   "pygments_lexer": "ipython3",
   "version": "3.10.6"
  }
 },
 "nbformat": 4,
 "nbformat_minor": 5
}

{
 "cells": [
  {
   "cell_type": "markdown",
   "id": "3e5ba3cd-8459-4d98-9efa-1ab93d796105",
   "metadata": {},
   "source": [
    "# 영어가 싫어요\n",
    "## 문제 설명\n",
    "### 영어가 싫은 머쓱이는 영어로 표기되어있는 숫자를 수로 바꾸려고 합니다. 문자열 numbers가 매개변수로 주어질 때, numbers를 정수로 바꿔 return 하도록 solution 함수를 완성해 주세요.\n",
    "\n",
    "## 제한사항\n",
    "* numbers는 소문자로만 구성되어 있습니다.\n",
    "* numbers는 \"zero\", \"one\", \"two\", \"three\", \"four\", \"five\", \"six\", \"seven\", \"eight\", \"nine\" 들이 공백 없이 조합되어 있습니다.\n",
    "* 1 ≤ numbers의 길이 ≤ 50\n",
    "* \"zero\"는 numbers의 맨 앞에 올 수 없습니다.\n",
    "## 입출력 예\n",
    "|numbers|result|\n",
    "|-------|------|\n",
    "|\"onetwothreefourfivesixseveneightnine\"|123456789|\n",
    "|\"onefourzerosixseven\"|14067|\n",
    "## 입출력 예 설명\n",
    "## 입출력 예 #1\n",
    "\n",
    "* \"onetwothreefourfivesixseveneightnine\"를 숫자로 바꾼 123456789를 return합니다.\n",
    "## 입출력 예 #1\n",
    "\n",
    "* \"onefourzerosixseven\"를 숫자로 바꾼 14067를 return합니다."
   ]
  },
  {
   "cell_type": "code",
   "execution_count": 37,
   "id": "2310a7c0-0d5f-4210-b4c4-138c3e8b9bc7",
   "metadata": {},
   "outputs": [],
   "source": [
    "def solution(numbers):\n",
    "    nums = [\"zero\", \"one\", \"two\", \"three\", \"four\", \"five\", \"six\", \"seven\", \"eight\", \"nine\"]\n",
    "    for num in nums:\n",
    "        numbers = numbers.replace(num, str(nums.index(num)))\n",
    "    return int(numbers)"
   ]
  },
  {
   "cell_type": "code",
   "execution_count": 38,
   "id": "e4869355-f000-447a-afa5-3100c5e3ef80",
   "metadata": {},
   "outputs": [
    {
     "data": {
      "text/plain": [
       "123456789"
      ]
     },
     "execution_count": 38,
     "metadata": {},
     "output_type": "execute_result"
    }
   ],
   "source": [
    "solution(\"onetwothreefourfivesixseveneightnine\")"
   ]
  },
  {
   "cell_type": "code",
   "execution_count": 39,
   "id": "ee5b4246-1777-40a9-b478-7721846adc9a",
   "metadata": {},
   "outputs": [
    {
     "data": {
      "text/plain": [
       "14067"
      ]
     },
     "execution_count": 39,
     "metadata": {},
     "output_type": "execute_result"
    }
   ],
   "source": [
    "solution(\"onefourzerosixseven\")"
   ]
  }
 ],
 "metadata": {
  "kernelspec": {
   "display_name": "Python 3 (ipykernel)",
   "language": "python",
   "name": "python3"
  },
  "language_info": {
   "codemirror_mode": {
    "name": "ipython",
    "version": 3
   },
   "file_extension": ".py",
   "mimetype": "text/x-python",
   "name": "python",
   "nbconvert_exporter": "python",
   "pygments_lexer": "ipython3",
   "version": "3.10.6"
  }
 },
 "nbformat": 4,
 "nbformat_minor": 5
}

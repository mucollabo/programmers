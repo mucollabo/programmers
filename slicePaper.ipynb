{
 "cells": [
  {
   "cell_type": "markdown",
   "id": "277985b3-92d2-4bf0-b010-53c0ab118528",
   "metadata": {},
   "source": [
    "# 종이 자르기\n",
    "## 문제 설명\n",
    "### 머쓱이는 큰 종이를 1 x 1 크기\b로 자르려고 합니다. 예를 들어 2 x 2 크기의 종이를 1 x 1 크기로 자르려면 최소 가위질 세 번이 필요합니다.\n",
    "\n",
    "<img src=\"https://grepp-programmers.s3.ap-northeast-2.amazonaws.com/files/production/37cec804-18c5-4c58-95fc-37b4d52e6e7f/%E1%84%89%E1%85%B3%E1%84%8F%E1%85%B3%E1%84%85%E1%85%B5%E1%86%AB%E1%84%89%E1%85%A3%E1%86%BA%202022-07-25%20%E1%84%8B%E1%85%A9%E1%84%92%E1%85%AE%204.49.44.png\" style=\"height: 30%; width: 20%\"/>\n",
    "\n",
    "### 정수 M, N이 매개변수로 주어질 때, M x N 크기의 종이를 최소로 가위질 해야하는 횟수를 return 하도록 solution 함수를 완성해보세요.\n",
    "\n",
    "## 제한사항\n",
    "* 0 < M, N < 100\n",
    "* 종이를 겹쳐서 자를 수 없습니다.\n",
    "## 입출력 예\n",
    "|M|N|result|\n",
    "|-|-|------|\n",
    "|2|2|3|\n",
    "|2|5|9|\n",
    "|1|1|0|\n",
    "## 입출력 예 설명\n",
    "## 입출력 예 #1\n",
    "\n",
    "* 본문과 동일합니다.\n",
    "## 입출력 예 #2\n",
    "\n",
    "* 가로 2 세로 5인 종이는 가로로 1번 세로로 8번 총 가위질 9번이 필요합니다.\n",
    "## 입출력 예 #3\n",
    "\n",
    "* 이미 1 * 1 크기이므로 0을 return 합니다."
   ]
  },
  {
   "cell_type": "code",
   "execution_count": 1,
   "id": "4ea3108b-5410-4ea8-b738-9be3f590ac90",
   "metadata": {},
   "outputs": [],
   "source": [
    "def solution(M, N):\n",
    "    return M*N-1"
   ]
  },
  {
   "cell_type": "code",
   "execution_count": 2,
   "id": "f4b49d32-2972-4d61-a856-dd58e615e7f0",
   "metadata": {},
   "outputs": [
    {
     "data": {
      "text/plain": [
       "3"
      ]
     },
     "execution_count": 2,
     "metadata": {},
     "output_type": "execute_result"
    }
   ],
   "source": [
    "solution(2, 2)"
   ]
  },
  {
   "cell_type": "code",
   "execution_count": 3,
   "id": "8f246b28-d238-45ea-bca9-8bf613487160",
   "metadata": {},
   "outputs": [
    {
     "data": {
      "text/plain": [
       "9"
      ]
     },
     "execution_count": 3,
     "metadata": {},
     "output_type": "execute_result"
    }
   ],
   "source": [
    "solution(2, 5)"
   ]
  },
  {
   "cell_type": "code",
   "execution_count": 4,
   "id": "56aadb62-2d5f-47cd-b5b0-03740db32096",
   "metadata": {},
   "outputs": [
    {
     "data": {
      "text/plain": [
       "0"
      ]
     },
     "execution_count": 4,
     "metadata": {},
     "output_type": "execute_result"
    }
   ],
   "source": [
    "solution(1, 1)"
   ]
  },
  {
   "cell_type": "code",
   "execution_count": null,
   "id": "15f0761c-9d4f-44d7-8d84-df2fc84fa44a",
   "metadata": {},
   "outputs": [],
   "source": []
  }
 ],
 "metadata": {
  "kernelspec": {
   "display_name": "Python 3 (ipykernel)",
   "language": "python",
   "name": "python3"
  },
  "language_info": {
   "codemirror_mode": {
    "name": "ipython",
    "version": 3
   },
   "file_extension": ".py",
   "mimetype": "text/x-python",
   "name": "python",
   "nbconvert_exporter": "python",
   "pygments_lexer": "ipython3",
   "version": "3.10.6"
  }
 },
 "nbformat": 4,
 "nbformat_minor": 5
}
